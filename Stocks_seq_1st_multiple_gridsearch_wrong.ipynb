{
  "nbformat": 4,
  "nbformat_minor": 0,
  "metadata": {
    "colab": {
      "name": "Stocks_seq_1st.ipynb",
      "provenance": [],
      "collapsed_sections": [],
      "include_colab_link": true
    },
    "kernelspec": {
      "name": "python3",
      "display_name": "Python 3"
    }
  },
  "cells": [
    {
      "cell_type": "markdown",
      "metadata": {
        "id": "view-in-github",
        "colab_type": "text"
      },
      "source": [
        "<a href=\"https://colab.research.google.com/github/sfwtopoulos/stocks/blob/master/Stocks_seq_1st_multiple_gridsearch_wrong.ipynb\" target=\"_parent\"><img src=\"https://colab.research.google.com/assets/colab-badge.svg\" alt=\"Open In Colab\"/></a>"
      ]
    },
    {
      "cell_type": "code",
      "metadata": {
        "id": "DOmxraS5T1wD",
        "colab_type": "code",
        "colab": {}
      },
      "source": [
        "import pandas as pd\n",
        "import matplotlib.pyplot as plt\n",
        "import pandas as pd\n",
        "import math\n",
        "import warnings\n",
        "import numpy as np\n",
        "import time\n",
        "\n",
        "import pandas_datareader as pdr\n",
        "#%tensorflow_version 2.x\n",
        "# Restart runtime using 'Runtime' -> 'Restart runtime...'\n",
        "%tensorflow_version 1.x\n",
        "import tensorflow as tf\n",
        "import keras\n",
        "\n",
        "\n",
        "from keras.layers import LSTM\n",
        "from keras.models import Sequential\n",
        "from keras.layers.wrappers import TimeDistributed\n",
        "from keras.layers.core import Dense, Activation, Dropout\n",
        "from keras.preprocessing.sequence import pad_sequences\n",
        "\n",
        "from sklearn.preprocessing import MinMaxScaler\n",
        "from sklearn.metrics import mean_squared_error\n",
        "import seaborn as sns\n",
        "import matplotlib.pyplot as plt\n",
        "\n",
        "warnings.filterwarnings('ignore',category=FutureWarning)\n",
        "warnings.filterwarnings('ignore', category=DeprecationWarning)"
      ],
      "execution_count": 0,
      "outputs": []
    },
    {
      "cell_type": "code",
      "metadata": {
        "id": "2byEjZdZVJrz",
        "colab_type": "code",
        "outputId": "28f5c4c3-5f63-4985-e221-5b071b3e3cd0",
        "colab": {
          "base_uri": "https://localhost:8080/",
          "height": 51
        }
      },
      "source": [
        "print(keras.__version__)\n",
        "print(tf.__version__)\n",
        "#print(tensorflow.compat.v2.__version__)"
      ],
      "execution_count": 28,
      "outputs": [
        {
          "output_type": "stream",
          "text": [
            "2.2.5\n",
            "1.15.0\n"
          ],
          "name": "stdout"
        }
      ]
    },
    {
      "cell_type": "code",
      "metadata": {
        "id": "tVJdUlQJUDjY",
        "colab_type": "code",
        "colab": {}
      },
      "source": [
        "#Data import from git repo\n",
        "url = 'https://raw.githubusercontent.com/sfwtopoulos/stocks/master/stocks_dataset/combined.csv'\n",
        "#df1 = pd.read_csv(url, error_bad_lines=False)\n",
        "dfstocks = pd.read_csv(url, sep=',')"
      ],
      "execution_count": 0,
      "outputs": []
    },
    {
      "cell_type": "code",
      "metadata": {
        "id": "A1gYAB3OUECs",
        "colab_type": "code",
        "outputId": "32c69d55-af69-4115-c8c7-ed88528be8c2",
        "colab": {
          "base_uri": "https://localhost:8080/",
          "height": 136
        }
      },
      "source": [
        "#fix column names\n",
        "dfstocks=dfstocks.rename({' AAPL':'Company', ' Close/Last':'Close', ' Volume':'Volume', ' Open':'Open', ' High':'High', ' Low':'Low'}, axis=1);\n",
        "for col in dfstocks.columns: \n",
        "    print(col) "
      ],
      "execution_count": 30,
      "outputs": [
        {
          "output_type": "stream",
          "text": [
            "Date\n",
            "Close\n",
            "Volume\n",
            "Open\n",
            "High\n",
            "Low\n",
            "Company\n"
          ],
          "name": "stdout"
        }
      ]
    },
    {
      "cell_type": "code",
      "metadata": {
        "id": "vlSTPXYHUHSB",
        "colab_type": "code",
        "colab": {}
      },
      "source": [
        "#drop $sign from values\n",
        "dfstocks.Close=dfstocks['Close'].astype(str)\n",
        "dfstocks.Close=dfstocks.Close.apply(lambda x: x.replace('$',''))\n",
        "dfstocks.Open=dfstocks['Open'].astype(str)\n",
        "dfstocks.Open=dfstocks.Open.apply(lambda x: x.replace('$',''))\n",
        "dfstocks.High=dfstocks['High'].astype(str)\n",
        "dfstocks.High=dfstocks.High.apply(lambda x: x.replace('$',''))\n",
        "dfstocks.Low=dfstocks['Low'].astype(str)\n",
        "dfstocks.Low=dfstocks.Low.apply(lambda x: x.replace('$',''))"
      ],
      "execution_count": 0,
      "outputs": []
    },
    {
      "cell_type": "code",
      "metadata": {
        "id": "F4cxCV_YUJGa",
        "colab_type": "code",
        "outputId": "7e71b8ce-f72e-4373-8fd7-235bcdb83455",
        "colab": {
          "base_uri": "https://localhost:8080/",
          "height": 34
        }
      },
      "source": [
        "#drop rows containing nan or header from the csv files\n",
        "dfstocks=dfstocks[~dfstocks.Low.str.contains(\"nan\")]\n",
        "dfstocks=dfstocks[~dfstocks.Low.str.contains(\"Low\")]\n",
        "dfstocks=dfstocks[~dfstocks.Low.str.contains(\"N/A\")]\n",
        "dfstocks=dfstocks[~dfstocks.Volume.str.contains(\"N/A\")]\n",
        "dfstocks.reset_index(drop=True, inplace=True)\n",
        "dfstocks.Date.count()"
      ],
      "execution_count": 32,
      "outputs": [
        {
          "output_type": "execute_result",
          "data": {
            "text/plain": [
              "229269"
            ]
          },
          "metadata": {
            "tags": []
          },
          "execution_count": 32
        }
      ]
    },
    {
      "cell_type": "code",
      "metadata": {
        "id": "te4JUA9lUL06",
        "colab_type": "code",
        "outputId": "63bd9b8f-cdc0-4e81-d474-85cffedefba8",
        "colab": {
          "base_uri": "https://localhost:8080/",
          "height": 419
        }
      },
      "source": [
        "#sort dataframe based on date and Company Name\n",
        "dfstocks = dfstocks.sort_values(['Date', 'Company'])\n",
        "dfstocks.head(100)"
      ],
      "execution_count": 33,
      "outputs": [
        {
          "output_type": "execute_result",
          "data": {
            "text/html": [
              "<div>\n",
              "<style scoped>\n",
              "    .dataframe tbody tr th:only-of-type {\n",
              "        vertical-align: middle;\n",
              "    }\n",
              "\n",
              "    .dataframe tbody tr th {\n",
              "        vertical-align: top;\n",
              "    }\n",
              "\n",
              "    .dataframe thead th {\n",
              "        text-align: right;\n",
              "    }\n",
              "</style>\n",
              "<table border=\"1\" class=\"dataframe\">\n",
              "  <thead>\n",
              "    <tr style=\"text-align: right;\">\n",
              "      <th></th>\n",
              "      <th>Date</th>\n",
              "      <th>Close</th>\n",
              "      <th>Volume</th>\n",
              "      <th>Open</th>\n",
              "      <th>High</th>\n",
              "      <th>Low</th>\n",
              "      <th>Company</th>\n",
              "    </tr>\n",
              "  </thead>\n",
              "  <tbody>\n",
              "    <tr>\n",
              "      <th>1761</th>\n",
              "      <td>01/02/2013</td>\n",
              "      <td>78.4328</td>\n",
              "      <td>139906732</td>\n",
              "      <td>79.1171</td>\n",
              "      <td>79.2857</td>\n",
              "      <td>77.3757</td>\n",
              "      <td>AAPL</td>\n",
              "    </tr>\n",
              "    <tr>\n",
              "      <th>4248</th>\n",
              "      <td>01/02/2013</td>\n",
              "      <td>35.12</td>\n",
              "      <td>13767660</td>\n",
              "      <td>34.92</td>\n",
              "      <td>35.4</td>\n",
              "      <td>34.1</td>\n",
              "      <td>ABBV</td>\n",
              "    </tr>\n",
              "    <tr>\n",
              "      <th>6025</th>\n",
              "      <td>01/02/2013</td>\n",
              "      <td>32.05</td>\n",
              "      <td>20266410</td>\n",
              "      <td>32.3</td>\n",
              "      <td>32.45</td>\n",
              "      <td>31.64</td>\n",
              "      <td>ABT</td>\n",
              "    </tr>\n",
              "    <tr>\n",
              "      <th>8512</th>\n",
              "      <td>01/02/2013</td>\n",
              "      <td>69.06</td>\n",
              "      <td>4039095</td>\n",
              "      <td>67.59</td>\n",
              "      <td>69.06</td>\n",
              "      <td>67.55</td>\n",
              "      <td>ACN</td>\n",
              "    </tr>\n",
              "    <tr>\n",
              "      <th>10999</th>\n",
              "      <td>01/02/2013</td>\n",
              "      <td>38.34</td>\n",
              "      <td>6483720</td>\n",
              "      <td>37.92</td>\n",
              "      <td>38.73</td>\n",
              "      <td>37.92</td>\n",
              "      <td>ADBE</td>\n",
              "    </tr>\n",
              "    <tr>\n",
              "      <th>...</th>\n",
              "      <td>...</td>\n",
              "      <td>...</td>\n",
              "      <td>...</td>\n",
              "      <td>...</td>\n",
              "      <td>...</td>\n",
              "      <td>...</td>\n",
              "      <td>...</td>\n",
              "    </tr>\n",
              "    <tr>\n",
              "      <th>10747</th>\n",
              "      <td>01/02/2014</td>\n",
              "      <td>59.29</td>\n",
              "      <td>2745895</td>\n",
              "      <td>59.06</td>\n",
              "      <td>59.53</td>\n",
              "      <td>58.94</td>\n",
              "      <td>ADBE</td>\n",
              "    </tr>\n",
              "    <tr>\n",
              "      <th>13234</th>\n",
              "      <td>01/02/2014</td>\n",
              "      <td>168.05</td>\n",
              "      <td>1268722</td>\n",
              "      <td>167.33</td>\n",
              "      <td>170.71</td>\n",
              "      <td>166.5937</td>\n",
              "      <td>AGN</td>\n",
              "    </tr>\n",
              "    <tr>\n",
              "      <th>15721</th>\n",
              "      <td>01/02/2014</td>\n",
              "      <td>50.71</td>\n",
              "      <td>9196092</td>\n",
              "      <td>50.81</td>\n",
              "      <td>51.3</td>\n",
              "      <td>50.47</td>\n",
              "      <td>AIG</td>\n",
              "    </tr>\n",
              "    <tr>\n",
              "      <th>18208</th>\n",
              "      <td>01/02/2014</td>\n",
              "      <td>53.55</td>\n",
              "      <td>1909106</td>\n",
              "      <td>54.09</td>\n",
              "      <td>54.45</td>\n",
              "      <td>53.5</td>\n",
              "      <td>ALL</td>\n",
              "    </tr>\n",
              "    <tr>\n",
              "      <th>20695</th>\n",
              "      <td>01/02/2014</td>\n",
              "      <td>115.795</td>\n",
              "      <td>2528751</td>\n",
              "      <td>114.36</td>\n",
              "      <td>116.19</td>\n",
              "      <td>114.06</td>\n",
              "      <td>AMGN</td>\n",
              "    </tr>\n",
              "  </tbody>\n",
              "</table>\n",
              "<p>100 rows × 7 columns</p>\n",
              "</div>"
            ],
            "text/plain": [
              "             Date     Close      Volume      Open      High        Low Company\n",
              "1761   01/02/2013   78.4328   139906732   79.1171   79.2857    77.3757    AAPL\n",
              "4248   01/02/2013     35.12    13767660     34.92      35.4       34.1    ABBV\n",
              "6025   01/02/2013     32.05    20266410      32.3     32.45      31.64     ABT\n",
              "8512   01/02/2013     69.06     4039095     67.59     69.06      67.55     ACN\n",
              "10999  01/02/2013     38.34     6483720     37.92     38.73      37.92    ADBE\n",
              "...           ...       ...         ...       ...       ...        ...     ...\n",
              "10747  01/02/2014     59.29     2745895     59.06     59.53      58.94    ADBE\n",
              "13234  01/02/2014    168.05     1268722    167.33    170.71   166.5937     AGN\n",
              "15721  01/02/2014     50.71     9196092     50.81      51.3      50.47     AIG\n",
              "18208  01/02/2014     53.55     1909106     54.09     54.45       53.5     ALL\n",
              "20695  01/02/2014   115.795     2528751    114.36    116.19     114.06    AMGN\n",
              "\n",
              "[100 rows x 7 columns]"
            ]
          },
          "metadata": {
            "tags": []
          },
          "execution_count": 33
        }
      ]
    },
    {
      "cell_type": "code",
      "metadata": {
        "id": "SvGv9U_NHZcv",
        "colab_type": "code",
        "outputId": "9caf3d5c-e44b-4744-9cf6-fcc0c90dd7f5",
        "colab": {
          "base_uri": "https://localhost:8080/",
          "height": 153
        }
      },
      "source": [
        "#Converting Datatypes\n",
        "dfstocks.Date=pd.to_datetime(dfstocks.Date)\n",
        "dfstocks.Close=pd.to_numeric(dfstocks.Close)\n",
        "dfstocks.Volume=pd.to_numeric(dfstocks.Volume)\n",
        "dfstocks.Open=pd.to_numeric(dfstocks.Open)\n",
        "dfstocks.High=pd.to_numeric(dfstocks.High)\n",
        "dfstocks.Low=pd.to_numeric(dfstocks.Low)\n",
        "dfstocks.dtypes"
      ],
      "execution_count": 34,
      "outputs": [
        {
          "output_type": "execute_result",
          "data": {
            "text/plain": [
              "Date       datetime64[ns]\n",
              "Close             float64\n",
              "Volume              int64\n",
              "Open              float64\n",
              "High              float64\n",
              "Low               float64\n",
              "Company            object\n",
              "dtype: object"
            ]
          },
          "metadata": {
            "tags": []
          },
          "execution_count": 34
        }
      ]
    },
    {
      "cell_type": "code",
      "metadata": {
        "id": "rsD9-1pONB6V",
        "colab_type": "code",
        "outputId": "3a8618c9-044d-4c35-e3e0-f064918923bf",
        "colab": {
          "base_uri": "https://localhost:8080/",
          "height": 34
        }
      },
      "source": [
        "#dfstocks[dfstocks['Company'].str.contains(\"AMZN\")]\n",
        "sub_split=dfstocks[dfstocks['Company'].str.contains(\"MDLZ\")]\n",
        "sub_split.isnull().values.any()\n",
        "sub_split.isna().values.any()\n",
        "sub_split = sub_split.sort_values(['Date'])\n",
        "sub_split.reset_index(drop=True, inplace=True)\n",
        "sub_split.shape[0]"
      ],
      "execution_count": 35,
      "outputs": [
        {
          "output_type": "execute_result",
          "data": {
            "text/plain": [
              "2487"
            ]
          },
          "metadata": {
            "tags": []
          },
          "execution_count": 35
        }
      ]
    },
    {
      "cell_type": "code",
      "metadata": {
        "id": "te-gSnYPU0wX",
        "colab_type": "code",
        "outputId": "04a28d41-c5db-4655-89ab-ccbb3ba8439a",
        "colab": {
          "base_uri": "https://localhost:8080/",
          "height": 419
        }
      },
      "source": [
        "sub_split"
      ],
      "execution_count": 36,
      "outputs": [
        {
          "output_type": "execute_result",
          "data": {
            "text/html": [
              "<div>\n",
              "<style scoped>\n",
              "    .dataframe tbody tr th:only-of-type {\n",
              "        vertical-align: middle;\n",
              "    }\n",
              "\n",
              "    .dataframe tbody tr th {\n",
              "        vertical-align: top;\n",
              "    }\n",
              "\n",
              "    .dataframe thead th {\n",
              "        text-align: right;\n",
              "    }\n",
              "</style>\n",
              "<table border=\"1\" class=\"dataframe\">\n",
              "  <thead>\n",
              "    <tr style=\"text-align: right;\">\n",
              "      <th></th>\n",
              "      <th>Date</th>\n",
              "      <th>Close</th>\n",
              "      <th>Volume</th>\n",
              "      <th>Open</th>\n",
              "      <th>High</th>\n",
              "      <th>Low</th>\n",
              "      <th>Company</th>\n",
              "    </tr>\n",
              "  </thead>\n",
              "  <tbody>\n",
              "    <tr>\n",
              "      <th>0</th>\n",
              "      <td>2010-02-16</td>\n",
              "      <td>19.3633</td>\n",
              "      <td>54149150</td>\n",
              "      <td>19.1695</td>\n",
              "      <td>19.3633</td>\n",
              "      <td>18.9288</td>\n",
              "      <td>MDLZ</td>\n",
              "    </tr>\n",
              "    <tr>\n",
              "      <th>1</th>\n",
              "      <td>2010-02-17</td>\n",
              "      <td>19.1360</td>\n",
              "      <td>24833350</td>\n",
              "      <td>19.2898</td>\n",
              "      <td>19.3499</td>\n",
              "      <td>19.0157</td>\n",
              "      <td>MDLZ</td>\n",
              "    </tr>\n",
              "    <tr>\n",
              "      <th>2</th>\n",
              "      <td>2010-02-18</td>\n",
              "      <td>19.2564</td>\n",
              "      <td>20606450</td>\n",
              "      <td>19.1494</td>\n",
              "      <td>19.2564</td>\n",
              "      <td>19.0324</td>\n",
              "      <td>MDLZ</td>\n",
              "    </tr>\n",
              "    <tr>\n",
              "      <th>3</th>\n",
              "      <td>2010-02-19</td>\n",
              "      <td>19.3299</td>\n",
              "      <td>15497250</td>\n",
              "      <td>19.2229</td>\n",
              "      <td>19.4168</td>\n",
              "      <td>19.1494</td>\n",
              "      <td>MDLZ</td>\n",
              "    </tr>\n",
              "    <tr>\n",
              "      <th>4</th>\n",
              "      <td>2010-02-22</td>\n",
              "      <td>19.3499</td>\n",
              "      <td>27292690</td>\n",
              "      <td>19.3098</td>\n",
              "      <td>19.4435</td>\n",
              "      <td>19.1494</td>\n",
              "      <td>MDLZ</td>\n",
              "    </tr>\n",
              "    <tr>\n",
              "      <th>...</th>\n",
              "      <td>...</td>\n",
              "      <td>...</td>\n",
              "      <td>...</td>\n",
              "      <td>...</td>\n",
              "      <td>...</td>\n",
              "      <td>...</td>\n",
              "      <td>...</td>\n",
              "    </tr>\n",
              "    <tr>\n",
              "      <th>2482</th>\n",
              "      <td>2019-12-24</td>\n",
              "      <td>54.9900</td>\n",
              "      <td>1833763</td>\n",
              "      <td>54.9400</td>\n",
              "      <td>55.1800</td>\n",
              "      <td>54.7400</td>\n",
              "      <td>MDLZ</td>\n",
              "    </tr>\n",
              "    <tr>\n",
              "      <th>2483</th>\n",
              "      <td>2019-12-26</td>\n",
              "      <td>54.8500</td>\n",
              "      <td>3565549</td>\n",
              "      <td>54.9700</td>\n",
              "      <td>55.0741</td>\n",
              "      <td>54.7200</td>\n",
              "      <td>MDLZ</td>\n",
              "    </tr>\n",
              "    <tr>\n",
              "      <th>2484</th>\n",
              "      <td>2019-12-27</td>\n",
              "      <td>55.2800</td>\n",
              "      <td>4229449</td>\n",
              "      <td>54.9300</td>\n",
              "      <td>55.3300</td>\n",
              "      <td>54.8000</td>\n",
              "      <td>MDLZ</td>\n",
              "    </tr>\n",
              "    <tr>\n",
              "      <th>2485</th>\n",
              "      <td>2019-12-30</td>\n",
              "      <td>55.0000</td>\n",
              "      <td>3104187</td>\n",
              "      <td>54.9200</td>\n",
              "      <td>55.0700</td>\n",
              "      <td>54.5651</td>\n",
              "      <td>MDLZ</td>\n",
              "    </tr>\n",
              "    <tr>\n",
              "      <th>2486</th>\n",
              "      <td>2019-12-31</td>\n",
              "      <td>55.0800</td>\n",
              "      <td>5039525</td>\n",
              "      <td>55.0500</td>\n",
              "      <td>55.1400</td>\n",
              "      <td>54.7600</td>\n",
              "      <td>MDLZ</td>\n",
              "    </tr>\n",
              "  </tbody>\n",
              "</table>\n",
              "<p>2487 rows × 7 columns</p>\n",
              "</div>"
            ],
            "text/plain": [
              "           Date    Close    Volume     Open     High      Low Company\n",
              "0    2010-02-16  19.3633  54149150  19.1695  19.3633  18.9288    MDLZ\n",
              "1    2010-02-17  19.1360  24833350  19.2898  19.3499  19.0157    MDLZ\n",
              "2    2010-02-18  19.2564  20606450  19.1494  19.2564  19.0324    MDLZ\n",
              "3    2010-02-19  19.3299  15497250  19.2229  19.4168  19.1494    MDLZ\n",
              "4    2010-02-22  19.3499  27292690  19.3098  19.4435  19.1494    MDLZ\n",
              "...         ...      ...       ...      ...      ...      ...     ...\n",
              "2482 2019-12-24  54.9900   1833763  54.9400  55.1800  54.7400    MDLZ\n",
              "2483 2019-12-26  54.8500   3565549  54.9700  55.0741  54.7200    MDLZ\n",
              "2484 2019-12-27  55.2800   4229449  54.9300  55.3300  54.8000    MDLZ\n",
              "2485 2019-12-30  55.0000   3104187  54.9200  55.0700  54.5651    MDLZ\n",
              "2486 2019-12-31  55.0800   5039525  55.0500  55.1400  54.7600    MDLZ\n",
              "\n",
              "[2487 rows x 7 columns]"
            ]
          },
          "metadata": {
            "tags": []
          },
          "execution_count": 36
        }
      ]
    },
    {
      "cell_type": "code",
      "metadata": {
        "id": "wjwirxd4VutM",
        "colab_type": "code",
        "colab": {}
      },
      "source": [
        "# prepare training and testing data sets for LSTM based sequence modeling\n",
        "#def dimitris_function(time_series, scaling=True,split_ratio=0.9):\n",
        "def dimitris_function(time_series,split_ratio=0.9):\n",
        "\n",
        "    series1 = pd.Series(time_series[time_series.columns[0]])\n",
        "    series2 = pd.Series(time_series[time_series.columns[1]])\n",
        "    series3 = pd.Series(time_series[time_series.columns[2]])\n",
        "    series4 = pd.Series(time_series[time_series.columns[3]])\n",
        "    series5 = pd.Series(time_series[time_series.columns[4]])\n",
        "\n",
        "    values1 = series1.values\n",
        "    values1 = values1.reshape((len(values1), 1))\n",
        "    values2 = series2.values\n",
        "    values2 = values2.reshape((len(values2), 1))\n",
        "    values3 = series3.values\n",
        "    values3 = values3.reshape((len(values3), 1))\n",
        "    values4 = series4.values\n",
        "    values4 = values4.reshape((len(values4), 1))\n",
        "    values5 = series5.values\n",
        "    values5 = values5.reshape((len(values5), 1))\n",
        "\n",
        "    #scaler2 --> Close Price Scaler\n",
        "    scaler1 = MinMaxScaler(feature_range=(0, 1))\n",
        "    time_series[\"scaled1\"] = scaler1.fit_transform(values1)\n",
        "    scaler2 = MinMaxScaler(feature_range=(0, 1))\n",
        "    time_series[\"scaled2\"]= scaler2.fit_transform(values2)\n",
        "    scaler3 = MinMaxScaler(feature_range=(0, 1))\n",
        "    time_series[\"scaled3\"]= scaler3.fit_transform(values3)\n",
        "    scaler4 = MinMaxScaler(feature_range=(0, 1))\n",
        "    time_series[\"scaled4\"]= scaler4.fit_transform(values4)\n",
        "    scaler5 = MinMaxScaler(feature_range=(0, 1))\n",
        "    time_series[\"scaled5\"]= scaler5.fit_transform(values5)\n",
        "\n",
        "\n",
        "    time_series = time_series[[\"scaled1\",\"scaled2\",\"scaled3\",\"scaled4\",\"scaled5\"]].values\n",
        "\n",
        "        \n",
        "    split_ratio = int(len(time_series) * split_ratio)\n",
        "\n",
        "    train = time_series[0:split_ratio]\n",
        "    test = time_series[split_ratio:len(time_series)]\n",
        "    \n",
        "    # return train,test,scaler1,scaler2\n",
        "    return train,test,scaler2\n"
      ],
      "execution_count": 0,
      "outputs": []
    },
    {
      "cell_type": "code",
      "metadata": {
        "id": "UN6DYJT7TXPb",
        "colab_type": "code",
        "colab": {}
      },
      "source": [
        "def get_seq_model(hidden_units1=40, hidden_units2=65, hidden_units3=32, drop=0.2,input_shape=(1,1)):\n",
        "    # create and fit the LSTM network\n",
        "    model = Sequential()\n",
        "    # samples*timesteps*features\n",
        "    # https://keras.io/getting-started/sequential-model-guide/\n",
        "    #https://journals.plos.org/plosone/article?id=10.1371/journal.pone.0227222\n",
        "    #relu_advanced=keras.activations.relu(x,)\n",
        "    model.add(LSTM(input_shape=input_shape,\n",
        "                   units = hidden_units1,  \n",
        "                   #activation='relu',recurrent_activation='sigmoid',\n",
        "                                      return_sequences=True\n",
        "    ))\n",
        "    model.add(Dropout(drop))\n",
        "    model.add(LSTM(\n",
        "                   units = hidden_units2,  \n",
        "                   #activation='relu',recurrent_activation='sigmoid',\n",
        "                                      return_sequences=True\n",
        "    ))\n",
        "    model.add(Dropout(drop))   \n",
        "    model.add(LSTM(\n",
        "                   units =hidden_units3,  \n",
        "                   #activation='relu',recurrent_activation='sigmoid',\n",
        "                                      return_sequences=True\n",
        "    ))\n",
        "    model.add(Dropout(drop))\n",
        "\n",
        "    # readout layer. TimeDistributedDense uses the same weights for all\n",
        "    # time steps.\n",
        "    # model.add(TimeDistributed(Dense(1))) #number of inputs in the 1st layer\n",
        "   # model.add(TimeDistributed(Dense(5)))\n",
        "    model.add(TimeDistributed(Dense(5)))\n",
        "    start = time.time()\n",
        "    \n",
        "    model.compile(loss=\"mse\", optimizer=\"rmsprop\")\n",
        "\n",
        "    print(\"> Compilation Time : \", time.time() - start)\n",
        "    print(model.summary())\n",
        "    \n",
        "    return model"
      ],
      "execution_count": 0,
      "outputs": []
    },
    {
      "cell_type": "code",
      "metadata": {
        "id": "UiL73vb-dFsK",
        "colab_type": "code",
        "colab": {}
      },
      "source": [
        "# print(type(sub_split.Close))\n",
        "sub_split_date=sub_split[['Date']]\n",
        "sub_split=sub_split[['Volume', 'Close', 'Open', 'High', 'Low']]\n",
        "#sub_split.columns[1]"
      ],
      "execution_count": 0,
      "outputs": []
    },
    {
      "cell_type": "code",
      "metadata": {
        "id": "zeAENS4LVpDG",
        "colab_type": "code",
        "outputId": "e3712254-8602-4bf6-f5b1-e78aef16e7ef",
        "colab": {
          "base_uri": "https://localhost:8080/",
          "height": 289
        }
      },
      "source": [
        "# split train and test datasets\n",
        "train,test,scaler_Close = dimitris_function(sub_split,split_ratio=0.7)\n",
        "\n",
        "#train\n",
        "print(len(train))\n",
        "print(train.shape[0])\n",
        "print(train.shape)\n",
        "print(test.shape)\n",
        "print(train)"
      ],
      "execution_count": 40,
      "outputs": [
        {
          "output_type": "stream",
          "text": [
            "1740\n",
            "1740\n",
            "(1740, 5)\n",
            "(747, 5)\n",
            "[[0.88815584 0.02021012 0.01335138 0.01636724 0.01466068]\n",
            " [0.39046289 0.01423411 0.01651313 0.01601441 0.01695744]\n",
            " [0.31870301 0.01739958 0.01282311 0.01355248 0.01739882]\n",
            " ...\n",
            " [0.07876951 0.68608191 0.69959394 0.69877535 0.69367717]\n",
            " [0.13961111 0.67241044 0.68067072 0.68508332 0.68019791]\n",
            " [0.10580105 0.69607261 0.66910654 0.69890701 0.68019791]]\n"
          ],
          "name": "stdout"
        },
        {
          "output_type": "stream",
          "text": [
            "/usr/local/lib/python3.6/dist-packages/ipykernel_launcher.py:22: SettingWithCopyWarning: \n",
            "A value is trying to be set on a copy of a slice from a DataFrame.\n",
            "Try using .loc[row_indexer,col_indexer] = value instead\n",
            "\n",
            "See the caveats in the documentation: http://pandas.pydata.org/pandas-docs/stable/user_guide/indexing.html#returning-a-view-versus-a-copy\n"
          ],
          "name": "stderr"
        }
      ]
    },
    {
      "cell_type": "code",
      "metadata": {
        "id": "uZG7396CWoy9",
        "colab_type": "code",
        "outputId": "9381ed9c-74bc-43d2-edec-c37f14f5f2a5",
        "colab": {
          "base_uri": "https://localhost:8080/",
          "height": 102
        }
      },
      "source": [
        "#We use numpy to reshape our time series into 3D tensors.\n",
        "train = np.reshape(train,(1,train.shape[0],5))\n",
        "test = np.reshape(test,(1,test.shape[0],5))\n",
        "\n",
        "train_x = train[:,:-1,:]\n",
        "train_y = train[:,1:,:]\n",
        "\n",
        "test_x = test[:,:-1,:]\n",
        "test_y = test[:,1:,:]\n",
        "\n",
        "print(\"Data Split Complete\")\n",
        "\n",
        "print(\"train_x shape={}\".format(train_x.shape))\n",
        "print(\"train_y shape={}\".format(train_y.shape))\n",
        "print(\"test_x shape={}\".format(test_x.shape))\n",
        "print(\"test_y shape={}\".format(test_y.shape))"
      ],
      "execution_count": 41,
      "outputs": [
        {
          "output_type": "stream",
          "text": [
            "Data Split Complete\n",
            "train_x shape=(1, 1739, 5)\n",
            "train_y shape=(1, 1739, 5)\n",
            "test_x shape=(1, 746, 5)\n",
            "test_y shape=(1, 746, 5)\n"
          ],
          "name": "stdout"
        }
      ]
    },
    {
      "cell_type": "code",
      "metadata": {
        "id": "dJh1nmuCaytb",
        "colab_type": "code",
        "colab": {}
      },
      "source": [
        "from sklearn.model_selection import GridSearchCV\n",
        "from keras.models import Sequential\n",
        "from keras.layers import Dense\n",
        "from keras.layers import Dropout\n",
        "from keras.wrappers.scikit_learn import KerasClassifier\n",
        "from keras.constraints import maxnorm"
      ],
      "execution_count": 0,
      "outputs": []
    },
    {
      "cell_type": "code",
      "metadata": {
        "id": "hDRStTMiae9U",
        "colab_type": "code",
        "outputId": "6600cf7a-0ffc-470c-f023-c68460e664ea",
        "colab": {
          "base_uri": "https://localhost:8080/",
          "height": 765
        }
      },
      "source": [
        "model = KerasClassifier(build_fn=get_seq_model(input_shape=(train_x.shape[1],5)), batch_size=1)\n",
        "hidden_units1 = [10, 20, 30, 40]\n",
        "hidden_units2 = [10, 20, 30, 40]\n",
        "hidden_units3 = [10, 20, 30, 40]\n",
        "epochs = [1, 2, 3 , 4]\n",
        "param_grid = dict(hidden_units1=hidden_units1, hidden_units2=hidden_units2,hidden_units3=hidden_units3, epochs=epochs)\n",
        "#!!!!!!!!!!!!!!!!!!!!!!!!!!!!!!!!!!!!!!!!!!!!!!!!!!!!!!!!!!!\n",
        "grid = GridSearchCV(estimator=model, param_grid=param_grid, n_jobs=-1, cv=3)\n",
        "grid_result = grid.fit(train_x, train_y)"
      ],
      "execution_count": 44,
      "outputs": [
        {
          "output_type": "stream",
          "text": [
            "> Compilation Time :  0.019629240036010742\n",
            "Model: \"sequential_4\"\n",
            "_________________________________________________________________\n",
            "Layer (type)                 Output Shape              Param #   \n",
            "=================================================================\n",
            "lstm_10 (LSTM)               (None, 1739, 40)          7360      \n",
            "_________________________________________________________________\n",
            "dropout_10 (Dropout)         (None, 1739, 40)          0         \n",
            "_________________________________________________________________\n",
            "lstm_11 (LSTM)               (None, 1739, 65)          27560     \n",
            "_________________________________________________________________\n",
            "dropout_11 (Dropout)         (None, 1739, 65)          0         \n",
            "_________________________________________________________________\n",
            "lstm_12 (LSTM)               (None, 1739, 32)          12544     \n",
            "_________________________________________________________________\n",
            "dropout_12 (Dropout)         (None, 1739, 32)          0         \n",
            "_________________________________________________________________\n",
            "time_distributed_4 (TimeDist (None, 1739, 5)           165       \n",
            "=================================================================\n",
            "Total params: 47,629\n",
            "Trainable params: 47,629\n",
            "Non-trainable params: 0\n",
            "_________________________________________________________________\n",
            "None\n",
            "END\n"
          ],
          "name": "stdout"
        },
        {
          "output_type": "error",
          "ename": "ValueError",
          "evalue": "ignored",
          "traceback": [
            "\u001b[0;31m---------------------------------------------------------------------------\u001b[0m",
            "\u001b[0;31mValueError\u001b[0m                                Traceback (most recent call last)",
            "\u001b[0;32m<ipython-input-44-1a5b5e6ceb5a>\u001b[0m in \u001b[0;36m<module>\u001b[0;34m()\u001b[0m\n\u001b[1;32m      7\u001b[0m \u001b[0;31m#!!!!!!!!!!!!!!!!!!!!!!!!!!!!!!!!!!!!!!!!!!!!!!!!!!!!!!!!!!!\u001b[0m\u001b[0;34m\u001b[0m\u001b[0;34m\u001b[0m\u001b[0;34m\u001b[0m\u001b[0m\n\u001b[1;32m      8\u001b[0m \u001b[0mgrid\u001b[0m \u001b[0;34m=\u001b[0m \u001b[0mGridSearchCV\u001b[0m\u001b[0;34m(\u001b[0m\u001b[0mestimator\u001b[0m\u001b[0;34m=\u001b[0m\u001b[0mmodel\u001b[0m\u001b[0;34m,\u001b[0m \u001b[0mparam_grid\u001b[0m\u001b[0;34m=\u001b[0m\u001b[0mparam_grid\u001b[0m\u001b[0;34m,\u001b[0m \u001b[0mn_jobs\u001b[0m\u001b[0;34m=\u001b[0m\u001b[0;34m-\u001b[0m\u001b[0;36m1\u001b[0m\u001b[0;34m,\u001b[0m \u001b[0mcv\u001b[0m\u001b[0;34m=\u001b[0m\u001b[0;36m3\u001b[0m\u001b[0;34m)\u001b[0m\u001b[0;34m\u001b[0m\u001b[0;34m\u001b[0m\u001b[0m\n\u001b[0;32m----> 9\u001b[0;31m \u001b[0mgrid_result\u001b[0m \u001b[0;34m=\u001b[0m \u001b[0mgrid\u001b[0m\u001b[0;34m.\u001b[0m\u001b[0mfit\u001b[0m\u001b[0;34m(\u001b[0m\u001b[0mtrain_x\u001b[0m\u001b[0;34m,\u001b[0m \u001b[0mtrain_y\u001b[0m\u001b[0;34m)\u001b[0m\u001b[0;34m\u001b[0m\u001b[0;34m\u001b[0m\u001b[0m\n\u001b[0m",
            "\u001b[0;32m/usr/local/lib/python3.6/dist-packages/sklearn/model_selection/_search.py\u001b[0m in \u001b[0;36mfit\u001b[0;34m(self, X, y, groups, **fit_params)\u001b[0m\n\u001b[1;32m    708\u001b[0m                 \u001b[0;32mreturn\u001b[0m \u001b[0mresults\u001b[0m\u001b[0;34m\u001b[0m\u001b[0;34m\u001b[0m\u001b[0m\n\u001b[1;32m    709\u001b[0m \u001b[0;34m\u001b[0m\u001b[0m\n\u001b[0;32m--> 710\u001b[0;31m             \u001b[0mself\u001b[0m\u001b[0;34m.\u001b[0m\u001b[0m_run_search\u001b[0m\u001b[0;34m(\u001b[0m\u001b[0mevaluate_candidates\u001b[0m\u001b[0;34m)\u001b[0m\u001b[0;34m\u001b[0m\u001b[0;34m\u001b[0m\u001b[0m\n\u001b[0m\u001b[1;32m    711\u001b[0m \u001b[0;34m\u001b[0m\u001b[0m\n\u001b[1;32m    712\u001b[0m         \u001b[0;31m# For multi-metric evaluation, store the best_index_, best_params_ and\u001b[0m\u001b[0;34m\u001b[0m\u001b[0;34m\u001b[0m\u001b[0;34m\u001b[0m\u001b[0m\n",
            "\u001b[0;32m/usr/local/lib/python3.6/dist-packages/sklearn/model_selection/_search.py\u001b[0m in \u001b[0;36m_run_search\u001b[0;34m(self, evaluate_candidates)\u001b[0m\n\u001b[1;32m   1149\u001b[0m     \u001b[0;32mdef\u001b[0m \u001b[0m_run_search\u001b[0m\u001b[0;34m(\u001b[0m\u001b[0mself\u001b[0m\u001b[0;34m,\u001b[0m \u001b[0mevaluate_candidates\u001b[0m\u001b[0;34m)\u001b[0m\u001b[0;34m:\u001b[0m\u001b[0;34m\u001b[0m\u001b[0;34m\u001b[0m\u001b[0m\n\u001b[1;32m   1150\u001b[0m         \u001b[0;34m\"\"\"Search all candidates in param_grid\"\"\"\u001b[0m\u001b[0;34m\u001b[0m\u001b[0;34m\u001b[0m\u001b[0m\n\u001b[0;32m-> 1151\u001b[0;31m         \u001b[0mevaluate_candidates\u001b[0m\u001b[0;34m(\u001b[0m\u001b[0mParameterGrid\u001b[0m\u001b[0;34m(\u001b[0m\u001b[0mself\u001b[0m\u001b[0;34m.\u001b[0m\u001b[0mparam_grid\u001b[0m\u001b[0;34m)\u001b[0m\u001b[0;34m)\u001b[0m\u001b[0;34m\u001b[0m\u001b[0;34m\u001b[0m\u001b[0m\n\u001b[0m\u001b[1;32m   1152\u001b[0m \u001b[0;34m\u001b[0m\u001b[0m\n\u001b[1;32m   1153\u001b[0m \u001b[0;34m\u001b[0m\u001b[0m\n",
            "\u001b[0;32m/usr/local/lib/python3.6/dist-packages/sklearn/model_selection/_search.py\u001b[0m in \u001b[0;36mevaluate_candidates\u001b[0;34m(candidate_params)\u001b[0m\n\u001b[1;32m    687\u001b[0m                                \u001b[0;32mfor\u001b[0m \u001b[0mparameters\u001b[0m\u001b[0;34m,\u001b[0m \u001b[0;34m(\u001b[0m\u001b[0mtrain\u001b[0m\u001b[0;34m,\u001b[0m \u001b[0mtest\u001b[0m\u001b[0;34m)\u001b[0m\u001b[0;34m\u001b[0m\u001b[0;34m\u001b[0m\u001b[0m\n\u001b[1;32m    688\u001b[0m                                in product(candidate_params,\n\u001b[0;32m--> 689\u001b[0;31m                                           cv.split(X, y, groups)))\n\u001b[0m\u001b[1;32m    690\u001b[0m \u001b[0;34m\u001b[0m\u001b[0m\n\u001b[1;32m    691\u001b[0m                 \u001b[0;32mif\u001b[0m \u001b[0mlen\u001b[0m\u001b[0;34m(\u001b[0m\u001b[0mout\u001b[0m\u001b[0;34m)\u001b[0m \u001b[0;34m<\u001b[0m \u001b[0;36m1\u001b[0m\u001b[0;34m:\u001b[0m\u001b[0;34m\u001b[0m\u001b[0;34m\u001b[0m\u001b[0m\n",
            "\u001b[0;32m/usr/local/lib/python3.6/dist-packages/sklearn/model_selection/_split.py\u001b[0m in \u001b[0;36msplit\u001b[0;34m(self, X, y, groups)\u001b[0m\n\u001b[1;32m    331\u001b[0m                 (\"Cannot have number of splits n_splits={0} greater\"\n\u001b[1;32m    332\u001b[0m                  \" than the number of samples: n_samples={1}.\")\n\u001b[0;32m--> 333\u001b[0;31m                 .format(self.n_splits, n_samples))\n\u001b[0m\u001b[1;32m    334\u001b[0m \u001b[0;34m\u001b[0m\u001b[0m\n\u001b[1;32m    335\u001b[0m         \u001b[0;32mfor\u001b[0m \u001b[0mtrain\u001b[0m\u001b[0;34m,\u001b[0m \u001b[0mtest\u001b[0m \u001b[0;32min\u001b[0m \u001b[0msuper\u001b[0m\u001b[0;34m(\u001b[0m\u001b[0;34m)\u001b[0m\u001b[0;34m.\u001b[0m\u001b[0msplit\u001b[0m\u001b[0;34m(\u001b[0m\u001b[0mX\u001b[0m\u001b[0;34m,\u001b[0m \u001b[0my\u001b[0m\u001b[0;34m,\u001b[0m \u001b[0mgroups\u001b[0m\u001b[0;34m)\u001b[0m\u001b[0;34m:\u001b[0m\u001b[0;34m\u001b[0m\u001b[0;34m\u001b[0m\u001b[0m\n",
            "\u001b[0;31mValueError\u001b[0m: Cannot have number of splits n_splits=3 greater than the number of samples: n_samples=1."
          ]
        }
      ]
    },
    {
      "cell_type": "code",
      "metadata": {
        "id": "XkoUB_lDb2OZ",
        "colab_type": "code",
        "colab": {}
      },
      "source": [
        "# summarize results\n",
        "print(\"Best: %f using %s\" % (grid_result.best_score_, grid_result.best_params_))\n",
        "means = grid_result.cv_results_['mean_test_score']\n",
        "stds = grid_result.cv_results_['std_test_score']\n",
        "params = grid_result.cv_results_['params']\n",
        "for mean, stdev, param in zip(means, stds, params):\n",
        "    print(\"%f (%f) with: %r\" % (mean, stdev, param))"
      ],
      "execution_count": 0,
      "outputs": []
    },
    {
      "cell_type": "code",
      "metadata": {
        "id": "DqTCq2NDTQFL",
        "colab_type": "code",
        "outputId": "f6fff281-8471-418d-b03f-acbb8e5b5855",
        "colab": {
          "base_uri": "https://localhost:8080/",
          "height": 425
        }
      },
      "source": [
        "# build RNN model\n",
        "seq_lstm_model=None\n",
        "try:\n",
        "    seq_lstm_model = get_seq_model(hidden_units1=40, hidden_units2=65, hidden_units3=32, drop=0.2, input_shape=(train_x.shape[1],5))\n",
        "except:\n",
        "    print(\"Model Build Failed. Trying Again\")\n",
        "    seq_lstm_model = get_seq_model(input_shape=(train_x.shape[1],5))"
      ],
      "execution_count": 18,
      "outputs": [
        {
          "output_type": "stream",
          "text": [
            "> Compilation Time :  0.019522428512573242\n",
            "Model: \"sequential_2\"\n",
            "_________________________________________________________________\n",
            "Layer (type)                 Output Shape              Param #   \n",
            "=================================================================\n",
            "lstm_4 (LSTM)                (None, 1739, 40)          7360      \n",
            "_________________________________________________________________\n",
            "dropout_4 (Dropout)          (None, 1739, 40)          0         \n",
            "_________________________________________________________________\n",
            "lstm_5 (LSTM)                (None, 1739, 65)          27560     \n",
            "_________________________________________________________________\n",
            "dropout_5 (Dropout)          (None, 1739, 65)          0         \n",
            "_________________________________________________________________\n",
            "lstm_6 (LSTM)                (None, 1739, 32)          12544     \n",
            "_________________________________________________________________\n",
            "dropout_6 (Dropout)          (None, 1739, 32)          0         \n",
            "_________________________________________________________________\n",
            "time_distributed_2 (TimeDist (None, 1739, 5)           165       \n",
            "=================================================================\n",
            "Total params: 47,629\n",
            "Trainable params: 47,629\n",
            "Non-trainable params: 0\n",
            "_________________________________________________________________\n",
            "None\n"
          ],
          "name": "stdout"
        }
      ]
    },
    {
      "cell_type": "code",
      "metadata": {
        "id": "MdpHk3OJ22QD",
        "colab_type": "code",
        "outputId": "48d1a053-f16b-4c10-c2c5-0a0dd289e5dd",
        "colab": {
          "base_uri": "https://localhost:8080/",
          "height": 136
        }
      },
      "source": [
        "train_y"
      ],
      "execution_count": 0,
      "outputs": [
        {
          "output_type": "execute_result",
          "data": {
            "text/plain": [
              "array([[[0.39046289, 0.01423411, 0.01651313, 0.01601441, 0.01695744],\n",
              "        [0.31870301, 0.01739958, 0.01282311, 0.01355248, 0.01739882],\n",
              "        [0.23196437, 0.01933199, 0.01475485, 0.01777594, 0.02049112],\n",
              "        ...,\n",
              "        [0.07876951, 0.68608191, 0.69959394, 0.69877535, 0.69367717],\n",
              "        [0.13961111, 0.67241044, 0.68067072, 0.68508332, 0.68019791],\n",
              "        [0.10580105, 0.69607261, 0.66910654, 0.69890701, 0.68019791]]])"
            ]
          },
          "metadata": {
            "tags": []
          },
          "execution_count": 22
        }
      ]
    },
    {
      "cell_type": "code",
      "metadata": {
        "id": "FnQs_OC6XsTz",
        "colab_type": "code",
        "outputId": "b7540e73-54a7-4187-9ed3-4d45f11dd528",
        "colab": {
          "base_uri": "https://localhost:8080/",
          "height": 221
        }
      },
      "source": [
        "# train the model\n",
        "#https://medium.com/@rajath95/how-to-save-and-upload-deep-learning-machine-learning-models-in-google-colab-using-google-drive-eb2901937ae\n",
        "seq_lstm_model.fit(train_x, train_y,\n",
        "                epochs=2, batch_size=1,\n",
        "                #epochs=200, batch_size=1,\n",
        "                verbose=1)\n",
        "print(\"Model Fit Complete\")"
      ],
      "execution_count": 19,
      "outputs": [
        {
          "output_type": "stream",
          "text": [
            "WARNING:tensorflow:From /usr/local/lib/python3.6/dist-packages/tensorflow_core/python/ops/math_grad.py:1424: where (from tensorflow.python.ops.array_ops) is deprecated and will be removed in a future version.\n",
            "Instructions for updating:\n",
            "Use tf.where in 2.0, which has the same broadcast rule as np.where\n",
            "WARNING:tensorflow:From /usr/local/lib/python3.6/dist-packages/keras/backend/tensorflow_backend.py:1033: The name tf.assign_add is deprecated. Please use tf.compat.v1.assign_add instead.\n",
            "\n",
            "WARNING:tensorflow:From /usr/local/lib/python3.6/dist-packages/keras/backend/tensorflow_backend.py:1020: The name tf.assign is deprecated. Please use tf.compat.v1.assign instead.\n",
            "\n",
            "Epoch 1/2\n",
            "1/1 [==============================] - 5s 5s/step - loss: 0.1377\n",
            "Epoch 2/2\n",
            "1/1 [==============================] - 3s 3s/step - loss: 0.0844\n",
            "Model Fit Complete\n"
          ],
          "name": "stdout"
        }
      ]
    },
    {
      "cell_type": "code",
      "metadata": {
        "id": "g07f1lEGXu_T",
        "colab_type": "code",
        "outputId": "95465a06-51b9-435a-c91e-a5fe77e43318",
        "colab": {
          "base_uri": "https://localhost:8080/",
          "height": 34
        }
      },
      "source": [
        "# train fit performance\n",
        "trainPredict = seq_lstm_model.predict(train_x)\n",
        "trainScore = math.sqrt(mean_squared_error(train_y[0], trainPredict[0]))\n",
        "print('Train Score: %.2f RMSE' % (trainScore))"
      ],
      "execution_count": 20,
      "outputs": [
        {
          "output_type": "stream",
          "text": [
            "Train Score: 0.20 RMSE\n"
          ],
          "name": "stdout"
        }
      ]
    },
    {
      "cell_type": "code",
      "metadata": {
        "id": "URNrqwpl1SbQ",
        "colab_type": "code",
        "outputId": "5b109329-e890-4164-92aa-fc67ac76d381",
        "colab": {
          "base_uri": "https://localhost:8080/",
          "height": 238
        }
      },
      "source": [
        "trainPredict"
      ],
      "execution_count": 0,
      "outputs": [
        {
          "output_type": "execute_result",
          "data": {
            "text/plain": [
              "array([[[ 0.00493275,  0.0084639 ,  0.01072918,  0.00856799,\n",
              "          0.00961668],\n",
              "        [ 0.00407736,  0.01106133,  0.01744783,  0.01298281,\n",
              "          0.01528788],\n",
              "        [ 0.00295016,  0.01319542,  0.0247335 ,  0.01841339,\n",
              "          0.02156844],\n",
              "        ...,\n",
              "        [-0.04777935,  0.18934183,  0.3263722 ,  0.39845654,\n",
              "          0.31811664],\n",
              "        [-0.04778215,  0.1899626 ,  0.32691598,  0.39900303,\n",
              "          0.31879085],\n",
              "        [-0.04767741,  0.19048284,  0.32759023,  0.39939383,\n",
              "          0.31940717]]], dtype=float32)"
            ]
          },
          "metadata": {
            "tags": []
          },
          "execution_count": 25
        }
      ]
    },
    {
      "cell_type": "code",
      "metadata": {
        "id": "ZW0LgTTSXyKR",
        "colab_type": "code",
        "colab": {}
      },
      "source": [
        "# Pad input sequence\n",
        "testPredict = pad_sequences(test_x,maxlen=train_x.shape[1],padding='post',dtype='float64')"
      ],
      "execution_count": 0,
      "outputs": []
    },
    {
      "cell_type": "code",
      "metadata": {
        "id": "XsR5ytjpX2yj",
        "colab_type": "code",
        "outputId": "88f6f294-a6b0-46ab-dec3-b6ccd7c65a38",
        "colab": {
          "base_uri": "https://localhost:8080/",
          "height": 153
        }
      },
      "source": [
        "# forecast values\n",
        "testPredict = seq_lstm_model.predict(testPredict)\n",
        "testPredict"
      ],
      "execution_count": 22,
      "outputs": [
        {
          "output_type": "execute_result",
          "data": {
            "text/plain": [
              "array([[[0.00769599, 0.01224004, 0.01385047, 0.01185967, 0.01024785],\n",
              "        [0.01536817, 0.02346957, 0.02632018, 0.02130689, 0.01568934],\n",
              "        [0.02699046, 0.03858136, 0.04249451, 0.03322653, 0.0223277 ],\n",
              "        ...,\n",
              "        [0.03120479, 0.05111403, 0.06367646, 0.04164512, 0.04130595],\n",
              "        [0.03120479, 0.05111403, 0.06367646, 0.04164512, 0.04130595],\n",
              "        [0.03120479, 0.05111403, 0.06367646, 0.04164512, 0.04130595]]],\n",
              "      dtype=float32)"
            ]
          },
          "metadata": {
            "tags": []
          },
          "execution_count": 22
        }
      ]
    },
    {
      "cell_type": "code",
      "metadata": {
        "id": "KvjYccaoN8hP",
        "colab_type": "code",
        "colab": {}
      },
      "source": [
        "#Drop all other variables except Close Price Output\n",
        "testPredict=np.delete(testPredict, [2,3,4], 2)\n",
        "trainPredict=np.delete(trainPredict, [2,3,4], 2)\n",
        "# testPredict=np.delete(testPredict, 3, 2)\n",
        "# trainPredict=np.delete(trainPredict, 3, 2)\n",
        "# testPredict=np.delete(testPredict, 4, 2)\n",
        "# trainPredict=np.delete(trainPredict, 4, 2)\n",
        "testPredict=np.delete(testPredict, 0, 2)\n",
        "trainPredict=np.delete(trainPredict, 0, 2)"
      ],
      "execution_count": 0,
      "outputs": []
    },
    {
      "cell_type": "code",
      "metadata": {
        "id": "0Oc_n5TARVXV",
        "colab_type": "code",
        "outputId": "65df3955-1e2d-4dbb-937b-1f556eeb8d29",
        "colab": {
          "base_uri": "https://localhost:8080/",
          "height": 136
        }
      },
      "source": [
        "testPredict"
      ],
      "execution_count": 0,
      "outputs": [
        {
          "output_type": "execute_result",
          "data": {
            "text/plain": [
              "array([[[0.00951684],\n",
              "        [0.01472445],\n",
              "        [0.02111632],\n",
              "        ...,\n",
              "        [0.03672303],\n",
              "        [0.03672303],\n",
              "        [0.03672303]]], dtype=float32)"
            ]
          },
          "metadata": {
            "tags": []
          },
          "execution_count": 29
        }
      ]
    },
    {
      "cell_type": "code",
      "metadata": {
        "id": "EMtIMjJRE18q",
        "colab_type": "code",
        "outputId": "d837644a-c729-49b7-bc12-4d06ba37be1c",
        "colab": {
          "base_uri": "https://localhost:8080/",
          "height": 136
        }
      },
      "source": [
        "trainPredict\n"
      ],
      "execution_count": 0,
      "outputs": [
        {
          "output_type": "execute_result",
          "data": {
            "text/plain": [
              "array([[[0.0084639 ],\n",
              "        [0.01106133],\n",
              "        [0.01319542],\n",
              "        ...,\n",
              "        [0.18934183],\n",
              "        [0.1899626 ],\n",
              "        [0.19048284]]], dtype=float32)"
            ]
          },
          "metadata": {
            "tags": []
          },
          "execution_count": 30
        }
      ]
    },
    {
      "cell_type": "code",
      "metadata": {
        "id": "x_tNvtkz_f5X",
        "colab_type": "code",
        "outputId": "781d4777-ea99-4388-b852-b978a61f89dd",
        "colab": {
          "base_uri": "https://localhost:8080/",
          "height": 34
        }
      },
      "source": [
        "type(testPredict)"
      ],
      "execution_count": 0,
      "outputs": [
        {
          "output_type": "execute_result",
          "data": {
            "text/plain": [
              "numpy.ndarray"
            ]
          },
          "metadata": {
            "tags": []
          },
          "execution_count": 31
        }
      ]
    },
    {
      "cell_type": "code",
      "metadata": {
        "id": "zA7Aehl4X5ck",
        "colab_type": "code",
        "colab": {}
      },
      "source": [
        "# # inverse transformation of the Close Price\n",
        "trainPredict = scaler_Close.inverse_transform(trainPredict.\\\n",
        "                                        reshape(-1,1))\n",
        "testPredict = scaler_Close.inverse_transform(testPredict.\\\n",
        "                                       reshape(-1,1))"
      ],
      "execution_count": 0,
      "outputs": []
    },
    {
      "cell_type": "code",
      "metadata": {
        "id": "x_nZ9samd1Rs",
        "colab_type": "code",
        "outputId": "1c485889-5d98-40f2-f2ef-a0b53d3f8456",
        "colab": {
          "base_uri": "https://localhost:8080/",
          "height": 136
        }
      },
      "source": [
        "trainPredict"
      ],
      "execution_count": 0,
      "outputs": [
        {
          "output_type": "execute_result",
          "data": {
            "text/plain": [
              "array([[18.916529],\n",
              "       [19.015322],\n",
              "       [19.096493],\n",
              "       ...,\n",
              "       [25.796293],\n",
              "       [25.819902],\n",
              "       [25.839691]], dtype=float32)"
            ]
          },
          "metadata": {
            "tags": []
          },
          "execution_count": 33
        }
      ]
    },
    {
      "cell_type": "code",
      "metadata": {
        "id": "NRMR0WkN3XIh",
        "colab_type": "code",
        "outputId": "335f6109-8d18-4b32-9e92-b57a20634a47",
        "colab": {
          "base_uri": "https://localhost:8080/",
          "height": 281
        }
      },
      "source": [
        "# plot the true and forecasted values\n",
        "split_ratio = len(trainPredict)+1\n",
        "\n",
        "plt.plot(sub_split_date.Date,\n",
        "          sub_split.Close.values,c='black',\n",
        "          alpha=0.3,label='True Data')\n",
        "\n",
        "plt.plot(sub_split_date.Date[1:split_ratio],\n",
        "          trainPredict,label='Training Fit',c='g')\n",
        "\n",
        "plt.plot(sub_split_date.Date[split_ratio+1:],\n",
        "          testPredict[:test_x.shape[1]],label='Testing Forecast')\n",
        "plt.title('Forecast Plot')\n",
        "plt.legend()\n",
        "#plt.show()\n",
        "plt.rcParams[\"figure.figsize\"] = (20,10)\n",
        "plt.show()"
      ],
      "execution_count": 25,
      "outputs": [
        {
          "output_type": "display_data",
          "data": {
            "image/png": "[encoded data removed]",
            "text/plain": [
              "<Figure size 432x288 with 1 Axes>"
            ]
          },
          "metadata": {
            "tags": []
          }
        }
      ]
    }
  ]
}