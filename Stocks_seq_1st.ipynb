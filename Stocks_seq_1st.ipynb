{
  "nbformat": 4,
  "nbformat_minor": 0,
  "metadata": {
    "colab": {
      "name": "Stocks_seq_1st.ipynb",
      "provenance": [],
      "collapsed_sections": [],
      "include_colab_link": true
    },
    "kernelspec": {
      "name": "python3",
      "display_name": "Python 3"
    }
  },
  "cells": [
    {
      "cell_type": "markdown",
      "metadata": {
        "id": "view-in-github",
        "colab_type": "text"
      },
      "source": [
        "<a href=\"https://colab.research.google.com/github/sfwtopoulos/stocks/blob/master/Stocks_seq_1st.ipynb\" target=\"_parent\"><img src=\"https://colab.research.google.com/assets/colab-badge.svg\" alt=\"Open In Colab\"/></a>"
      ]
    },
    {
      "cell_type": "code",
      "metadata": {
        "id": "DOmxraS5T1wD",
        "colab_type": "code",
        "colab": {}
      },
      "source": [
        "import pandas as pd\n",
        "import matplotlib.pyplot as plt\n",
        "import pandas as pd\n",
        "import math\n",
        "import warnings\n",
        "import numpy as np\n",
        "import time\n",
        "\n",
        "import pandas_datareader as pdr\n",
        "#%tensorflow_version 2.x\n",
        "# Restart runtime using 'Runtime' -> 'Restart runtime...'\n",
        "%tensorflow_version 1.x\n",
        "import tensorflow as tf\n",
        "import keras\n",
        "\n",
        "\n",
        "from keras.layers import LSTM\n",
        "from keras.models import Sequential\n",
        "from keras.layers.wrappers import TimeDistributed\n",
        "from keras.layers.core import Dense, Activation, Dropout\n",
        "from keras.preprocessing.sequence import pad_sequences\n",
        "\n",
        "from sklearn.preprocessing import MinMaxScaler\n",
        "from sklearn.metrics import mean_squared_error\n",
        "import seaborn as sns\n",
        "import matplotlib.pyplot as plt\n",
        "#not all needed\n",
        "\n",
        "\n",
        "warnings.filterwarnings('ignore',category=FutureWarning)\n",
        "warnings.filterwarnings('ignore', category=DeprecationWarning)"
      ],
      "execution_count": 0,
      "outputs": []
    },
    {
      "cell_type": "code",
      "metadata": {
        "id": "2byEjZdZVJrz",
        "colab_type": "code",
        "outputId": "c67b499e-6a0a-4a6a-e02d-7e8a974d7c0b",
        "colab": {
          "base_uri": "https://localhost:8080/",
          "height": 51
        }
      },
      "source": [
        "print(keras.__version__)\n",
        "print(tf.__version__)\n",
        "#print(tensorflow.compat.v2.__version__)"
      ],
      "execution_count": 199,
      "outputs": [
        {
          "output_type": "stream",
          "text": [
            "2.2.5\n",
            "1.15.0\n"
          ],
          "name": "stdout"
        }
      ]
    },
    {
      "cell_type": "code",
      "metadata": {
        "id": "tVJdUlQJUDjY",
        "colab_type": "code",
        "colab": {}
      },
      "source": [
        "#Data import from git repo\n",
        "url = 'https://raw.githubusercontent.com/sfwtopoulos/stocks/master/stocks_dataset/combined.csv'\n",
        "#df1 = pd.read_csv(url, error_bad_lines=False)\n",
        "dfstocks = pd.read_csv(url, sep=',')"
      ],
      "execution_count": 0,
      "outputs": []
    },
    {
      "cell_type": "code",
      "metadata": {
        "id": "A1gYAB3OUECs",
        "colab_type": "code",
        "outputId": "af04fd41-ca28-4c50-e2f6-0cd36cb02d2a",
        "colab": {
          "base_uri": "https://localhost:8080/",
          "height": 136
        }
      },
      "source": [
        "#fix column names\n",
        "dfstocks=dfstocks.rename({' AAPL':'Company', ' Close/Last':'Close', ' Volume':'Volume', ' Open':'Open', ' High':'High', ' Low':'Low'}, axis=1);\n",
        "for col in dfstocks.columns: \n",
        "    print(col) "
      ],
      "execution_count": 201,
      "outputs": [
        {
          "output_type": "stream",
          "text": [
            "Date\n",
            "Close\n",
            "Volume\n",
            "Open\n",
            "High\n",
            "Low\n",
            "Company\n"
          ],
          "name": "stdout"
        }
      ]
    },
    {
      "cell_type": "code",
      "metadata": {
        "id": "vlSTPXYHUHSB",
        "colab_type": "code",
        "colab": {}
      },
      "source": [
        "#drop $sign from values\n",
        "dfstocks.Close=dfstocks['Close'].astype(str)\n",
        "dfstocks.Close=dfstocks.Close.apply(lambda x: x.replace('$',''))\n",
        "dfstocks.Open=dfstocks['Open'].astype(str)\n",
        "dfstocks.Open=dfstocks.Open.apply(lambda x: x.replace('$',''))\n",
        "dfstocks.High=dfstocks['High'].astype(str)\n",
        "dfstocks.High=dfstocks.High.apply(lambda x: x.replace('$',''))\n",
        "dfstocks.Low=dfstocks['Low'].astype(str)\n",
        "dfstocks.Low=dfstocks.Low.apply(lambda x: x.replace('$',''))"
      ],
      "execution_count": 0,
      "outputs": []
    },
    {
      "cell_type": "code",
      "metadata": {
        "id": "F4cxCV_YUJGa",
        "colab_type": "code",
        "outputId": "ddba7372-3ec8-4f31-9a82-b4512a5ab740",
        "colab": {
          "base_uri": "https://localhost:8080/",
          "height": 34
        }
      },
      "source": [
        "#drop rows containing nan or header from the csv files\n",
        "dfstocks=dfstocks[~dfstocks.Low.str.contains(\"nan\")]\n",
        "dfstocks=dfstocks[~dfstocks.Low.str.contains(\"Low\")]\n",
        "dfstocks=dfstocks[~dfstocks.Low.str.contains(\"N/A\")]\n",
        "dfstocks=dfstocks[~dfstocks.Volume.str.contains(\"N/A\")]\n",
        "dfstocks.reset_index(drop=True, inplace=True)\n",
        "dfstocks.Date.count()"
      ],
      "execution_count": 203,
      "outputs": [
        {
          "output_type": "execute_result",
          "data": {
            "text/plain": [
              "229269"
            ]
          },
          "metadata": {
            "tags": []
          },
          "execution_count": 203
        }
      ]
    },
    {
      "cell_type": "code",
      "metadata": {
        "id": "te4JUA9lUL06",
        "colab_type": "code",
        "outputId": "483cba4d-7508-434c-deea-2a76494a8992",
        "colab": {
          "base_uri": "https://localhost:8080/",
          "height": 419
        }
      },
      "source": [
        "#sort dataframe based on date and Company Name\n",
        "dfstocks = dfstocks.sort_values(['Date', 'Company'])\n",
        "dfstocks.head(100)"
      ],
      "execution_count": 204,
      "outputs": [
        {
          "output_type": "execute_result",
          "data": {
            "text/html": [
              "<div>\n",
              "<style scoped>\n",
              "    .dataframe tbody tr th:only-of-type {\n",
              "        vertical-align: middle;\n",
              "    }\n",
              "\n",
              "    .dataframe tbody tr th {\n",
              "        vertical-align: top;\n",
              "    }\n",
              "\n",
              "    .dataframe thead th {\n",
              "        text-align: right;\n",
              "    }\n",
              "</style>\n",
              "<table border=\"1\" class=\"dataframe\">\n",
              "  <thead>\n",
              "    <tr style=\"text-align: right;\">\n",
              "      <th></th>\n",
              "      <th>Date</th>\n",
              "      <th>Close</th>\n",
              "      <th>Volume</th>\n",
              "      <th>Open</th>\n",
              "      <th>High</th>\n",
              "      <th>Low</th>\n",
              "      <th>Company</th>\n",
              "    </tr>\n",
              "  </thead>\n",
              "  <tbody>\n",
              "    <tr>\n",
              "      <th>1761</th>\n",
              "      <td>01/02/2013</td>\n",
              "      <td>78.4328</td>\n",
              "      <td>139906732</td>\n",
              "      <td>79.1171</td>\n",
              "      <td>79.2857</td>\n",
              "      <td>77.3757</td>\n",
              "      <td>AAPL</td>\n",
              "    </tr>\n",
              "    <tr>\n",
              "      <th>4248</th>\n",
              "      <td>01/02/2013</td>\n",
              "      <td>35.12</td>\n",
              "      <td>13767660</td>\n",
              "      <td>34.92</td>\n",
              "      <td>35.4</td>\n",
              "      <td>34.1</td>\n",
              "      <td>ABBV</td>\n",
              "    </tr>\n",
              "    <tr>\n",
              "      <th>6025</th>\n",
              "      <td>01/02/2013</td>\n",
              "      <td>32.05</td>\n",
              "      <td>20266410</td>\n",
              "      <td>32.3</td>\n",
              "      <td>32.45</td>\n",
              "      <td>31.64</td>\n",
              "      <td>ABT</td>\n",
              "    </tr>\n",
              "    <tr>\n",
              "      <th>8512</th>\n",
              "      <td>01/02/2013</td>\n",
              "      <td>69.06</td>\n",
              "      <td>4039095</td>\n",
              "      <td>67.59</td>\n",
              "      <td>69.06</td>\n",
              "      <td>67.55</td>\n",
              "      <td>ACN</td>\n",
              "    </tr>\n",
              "    <tr>\n",
              "      <th>10999</th>\n",
              "      <td>01/02/2013</td>\n",
              "      <td>38.34</td>\n",
              "      <td>6483720</td>\n",
              "      <td>37.92</td>\n",
              "      <td>38.73</td>\n",
              "      <td>37.92</td>\n",
              "      <td>ADBE</td>\n",
              "    </tr>\n",
              "    <tr>\n",
              "      <th>...</th>\n",
              "      <td>...</td>\n",
              "      <td>...</td>\n",
              "      <td>...</td>\n",
              "      <td>...</td>\n",
              "      <td>...</td>\n",
              "      <td>...</td>\n",
              "      <td>...</td>\n",
              "    </tr>\n",
              "    <tr>\n",
              "      <th>10747</th>\n",
              "      <td>01/02/2014</td>\n",
              "      <td>59.29</td>\n",
              "      <td>2745895</td>\n",
              "      <td>59.06</td>\n",
              "      <td>59.53</td>\n",
              "      <td>58.94</td>\n",
              "      <td>ADBE</td>\n",
              "    </tr>\n",
              "    <tr>\n",
              "      <th>13234</th>\n",
              "      <td>01/02/2014</td>\n",
              "      <td>168.05</td>\n",
              "      <td>1268722</td>\n",
              "      <td>167.33</td>\n",
              "      <td>170.71</td>\n",
              "      <td>166.5937</td>\n",
              "      <td>AGN</td>\n",
              "    </tr>\n",
              "    <tr>\n",
              "      <th>15721</th>\n",
              "      <td>01/02/2014</td>\n",
              "      <td>50.71</td>\n",
              "      <td>9196092</td>\n",
              "      <td>50.81</td>\n",
              "      <td>51.3</td>\n",
              "      <td>50.47</td>\n",
              "      <td>AIG</td>\n",
              "    </tr>\n",
              "    <tr>\n",
              "      <th>18208</th>\n",
              "      <td>01/02/2014</td>\n",
              "      <td>53.55</td>\n",
              "      <td>1909106</td>\n",
              "      <td>54.09</td>\n",
              "      <td>54.45</td>\n",
              "      <td>53.5</td>\n",
              "      <td>ALL</td>\n",
              "    </tr>\n",
              "    <tr>\n",
              "      <th>20695</th>\n",
              "      <td>01/02/2014</td>\n",
              "      <td>115.795</td>\n",
              "      <td>2528751</td>\n",
              "      <td>114.36</td>\n",
              "      <td>116.19</td>\n",
              "      <td>114.06</td>\n",
              "      <td>AMGN</td>\n",
              "    </tr>\n",
              "  </tbody>\n",
              "</table>\n",
              "<p>100 rows × 7 columns</p>\n",
              "</div>"
            ],
            "text/plain": [
              "             Date     Close      Volume      Open      High        Low Company\n",
              "1761   01/02/2013   78.4328   139906732   79.1171   79.2857    77.3757    AAPL\n",
              "4248   01/02/2013     35.12    13767660     34.92      35.4       34.1    ABBV\n",
              "6025   01/02/2013     32.05    20266410      32.3     32.45      31.64     ABT\n",
              "8512   01/02/2013     69.06     4039095     67.59     69.06      67.55     ACN\n",
              "10999  01/02/2013     38.34     6483720     37.92     38.73      37.92    ADBE\n",
              "...           ...       ...         ...       ...       ...        ...     ...\n",
              "10747  01/02/2014     59.29     2745895     59.06     59.53      58.94    ADBE\n",
              "13234  01/02/2014    168.05     1268722    167.33    170.71   166.5937     AGN\n",
              "15721  01/02/2014     50.71     9196092     50.81      51.3      50.47     AIG\n",
              "18208  01/02/2014     53.55     1909106     54.09     54.45       53.5     ALL\n",
              "20695  01/02/2014   115.795     2528751    114.36    116.19     114.06    AMGN\n",
              "\n",
              "[100 rows x 7 columns]"
            ]
          },
          "metadata": {
            "tags": []
          },
          "execution_count": 204
        }
      ]
    },
    {
      "cell_type": "code",
      "metadata": {
        "id": "ORS6zOAhUMQ6",
        "colab_type": "code",
        "colab": {}
      },
      "source": [
        "#Test Split\n",
        "#dfstocks_split = dfstocks.sample(frac=0.9998,random_state=200)\n",
        "#sub_split=dfstocks.drop(dfstocks_split.index)\n",
        "# sub_split = sub_split.reindex(index=sub_split.Date(sub_split.index.min(), \n",
        "#                                           sub_split.index.max(), \n",
        "#                                           freq='D')).fillna(method='ffill')\n"
      ],
      "execution_count": 0,
      "outputs": []
    },
    {
      "cell_type": "code",
      "metadata": {
        "id": "SvGv9U_NHZcv",
        "colab_type": "code",
        "outputId": "af529021-932d-40ee-c586-9c4da5e49811",
        "colab": {
          "base_uri": "https://localhost:8080/",
          "height": 153
        }
      },
      "source": [
        "#Converting Datatypes\n",
        "dfstocks.Date=pd.to_datetime(dfstocks.Date)\n",
        "dfstocks.Close=pd.to_numeric(dfstocks.Close)\n",
        "dfstocks.Volume=pd.to_numeric(dfstocks.Volume)\n",
        "dfstocks.Open=pd.to_numeric(dfstocks.Open)\n",
        "dfstocks.High=pd.to_numeric(dfstocks.High)\n",
        "dfstocks.Low=pd.to_numeric(dfstocks.Low)\n",
        "dfstocks.dtypes"
      ],
      "execution_count": 205,
      "outputs": [
        {
          "output_type": "execute_result",
          "data": {
            "text/plain": [
              "Date       datetime64[ns]\n",
              "Close             float64\n",
              "Volume              int64\n",
              "Open              float64\n",
              "High              float64\n",
              "Low               float64\n",
              "Company            object\n",
              "dtype: object"
            ]
          },
          "metadata": {
            "tags": []
          },
          "execution_count": 205
        }
      ]
    },
    {
      "cell_type": "code",
      "metadata": {
        "id": "rsD9-1pONB6V",
        "colab_type": "code",
        "outputId": "85b80ce0-b314-46b6-9e07-8b9477049c0e",
        "colab": {
          "base_uri": "https://localhost:8080/",
          "height": 34
        }
      },
      "source": [
        "#dfstocks[dfstocks['Company'].str.contains(\"AMZN\")]\n",
        "sub_split=dfstocks[dfstocks['Company'].str.contains(\"AIG\")]\n",
        "sub_split.isnull().values.any()\n",
        "sub_split.isna().values.any()\n",
        "sub_split = sub_split.sort_values(['Date'])\n",
        "sub_split.reset_index(drop=True, inplace=True)\n",
        "sub_split.shape[0]"
      ],
      "execution_count": 206,
      "outputs": [
        {
          "output_type": "execute_result",
          "data": {
            "text/plain": [
              "2487"
            ]
          },
          "metadata": {
            "tags": []
          },
          "execution_count": 206
        }
      ]
    },
    {
      "cell_type": "code",
      "metadata": {
        "id": "te-gSnYPU0wX",
        "colab_type": "code",
        "outputId": "d3430c29-4d95-4758-bf7d-15994f6fc2b6",
        "colab": {
          "base_uri": "https://localhost:8080/",
          "height": 419
        }
      },
      "source": [
        "sub_split"
      ],
      "execution_count": 207,
      "outputs": [
        {
          "output_type": "execute_result",
          "data": {
            "text/html": [
              "<div>\n",
              "<style scoped>\n",
              "    .dataframe tbody tr th:only-of-type {\n",
              "        vertical-align: middle;\n",
              "    }\n",
              "\n",
              "    .dataframe tbody tr th {\n",
              "        vertical-align: top;\n",
              "    }\n",
              "\n",
              "    .dataframe thead th {\n",
              "        text-align: right;\n",
              "    }\n",
              "</style>\n",
              "<table border=\"1\" class=\"dataframe\">\n",
              "  <thead>\n",
              "    <tr style=\"text-align: right;\">\n",
              "      <th></th>\n",
              "      <th>Date</th>\n",
              "      <th>Close</th>\n",
              "      <th>Volume</th>\n",
              "      <th>Open</th>\n",
              "      <th>High</th>\n",
              "      <th>Low</th>\n",
              "      <th>Company</th>\n",
              "    </tr>\n",
              "  </thead>\n",
              "  <tbody>\n",
              "    <tr>\n",
              "      <th>0</th>\n",
              "      <td>2010-02-16</td>\n",
              "      <td>29.0571</td>\n",
              "      <td>135631411</td>\n",
              "      <td>28.8486</td>\n",
              "      <td>29.0986</td>\n",
              "      <td>28.7886</td>\n",
              "      <td>AAPL</td>\n",
              "    </tr>\n",
              "    <tr>\n",
              "      <th>1</th>\n",
              "      <td>2010-02-17</td>\n",
              "      <td>28.9357</td>\n",
              "      <td>108691903</td>\n",
              "      <td>29.1700</td>\n",
              "      <td>29.1871</td>\n",
              "      <td>28.6943</td>\n",
              "      <td>AAPL</td>\n",
              "    </tr>\n",
              "    <tr>\n",
              "      <th>2</th>\n",
              "      <td>2010-02-18</td>\n",
              "      <td>28.9897</td>\n",
              "      <td>105298302</td>\n",
              "      <td>28.8043</td>\n",
              "      <td>29.1271</td>\n",
              "      <td>28.7028</td>\n",
              "      <td>AAPL</td>\n",
              "    </tr>\n",
              "    <tr>\n",
              "      <th>3</th>\n",
              "      <td>2010-02-19</td>\n",
              "      <td>28.8100</td>\n",
              "      <td>103810451</td>\n",
              "      <td>28.8371</td>\n",
              "      <td>29.0286</td>\n",
              "      <td>28.7300</td>\n",
              "      <td>AAPL</td>\n",
              "    </tr>\n",
              "    <tr>\n",
              "      <th>4</th>\n",
              "      <td>2010-02-22</td>\n",
              "      <td>28.6308</td>\n",
              "      <td>97607889</td>\n",
              "      <td>28.9057</td>\n",
              "      <td>28.9286</td>\n",
              "      <td>28.4557</td>\n",
              "      <td>AAPL</td>\n",
              "    </tr>\n",
              "    <tr>\n",
              "      <th>...</th>\n",
              "      <td>...</td>\n",
              "      <td>...</td>\n",
              "      <td>...</td>\n",
              "      <td>...</td>\n",
              "      <td>...</td>\n",
              "      <td>...</td>\n",
              "      <td>...</td>\n",
              "    </tr>\n",
              "    <tr>\n",
              "      <th>2482</th>\n",
              "      <td>2019-12-24</td>\n",
              "      <td>284.2700</td>\n",
              "      <td>12119710</td>\n",
              "      <td>284.6900</td>\n",
              "      <td>284.8900</td>\n",
              "      <td>282.9197</td>\n",
              "      <td>AAPL</td>\n",
              "    </tr>\n",
              "    <tr>\n",
              "      <th>2483</th>\n",
              "      <td>2019-12-26</td>\n",
              "      <td>289.9100</td>\n",
              "      <td>23334000</td>\n",
              "      <td>284.8200</td>\n",
              "      <td>289.9800</td>\n",
              "      <td>284.7000</td>\n",
              "      <td>AAPL</td>\n",
              "    </tr>\n",
              "    <tr>\n",
              "      <th>2484</th>\n",
              "      <td>2019-12-27</td>\n",
              "      <td>289.8000</td>\n",
              "      <td>36592940</td>\n",
              "      <td>291.1200</td>\n",
              "      <td>293.9700</td>\n",
              "      <td>288.1200</td>\n",
              "      <td>AAPL</td>\n",
              "    </tr>\n",
              "    <tr>\n",
              "      <th>2485</th>\n",
              "      <td>2019-12-30</td>\n",
              "      <td>291.5200</td>\n",
              "      <td>36059610</td>\n",
              "      <td>289.4600</td>\n",
              "      <td>292.6900</td>\n",
              "      <td>285.2200</td>\n",
              "      <td>AAPL</td>\n",
              "    </tr>\n",
              "    <tr>\n",
              "      <th>2486</th>\n",
              "      <td>2019-12-31</td>\n",
              "      <td>293.6500</td>\n",
              "      <td>25247630</td>\n",
              "      <td>289.9300</td>\n",
              "      <td>293.6800</td>\n",
              "      <td>289.5200</td>\n",
              "      <td>AAPL</td>\n",
              "    </tr>\n",
              "  </tbody>\n",
              "</table>\n",
              "<p>2487 rows × 7 columns</p>\n",
              "</div>"
            ],
            "text/plain": [
              "           Date     Close     Volume      Open      High       Low Company\n",
              "0    2010-02-16   29.0571  135631411   28.8486   29.0986   28.7886    AAPL\n",
              "1    2010-02-17   28.9357  108691903   29.1700   29.1871   28.6943    AAPL\n",
              "2    2010-02-18   28.9897  105298302   28.8043   29.1271   28.7028    AAPL\n",
              "3    2010-02-19   28.8100  103810451   28.8371   29.0286   28.7300    AAPL\n",
              "4    2010-02-22   28.6308   97607889   28.9057   28.9286   28.4557    AAPL\n",
              "...         ...       ...        ...       ...       ...       ...     ...\n",
              "2482 2019-12-24  284.2700   12119710  284.6900  284.8900  282.9197    AAPL\n",
              "2483 2019-12-26  289.9100   23334000  284.8200  289.9800  284.7000    AAPL\n",
              "2484 2019-12-27  289.8000   36592940  291.1200  293.9700  288.1200    AAPL\n",
              "2485 2019-12-30  291.5200   36059610  289.4600  292.6900  285.2200    AAPL\n",
              "2486 2019-12-31  293.6500   25247630  289.9300  293.6800  289.5200    AAPL\n",
              "\n",
              "[2487 rows x 7 columns]"
            ]
          },
          "metadata": {
            "tags": []
          },
          "execution_count": 207
        }
      ]
    },
    {
      "cell_type": "code",
      "metadata": {
        "id": "0behU6tsViUy",
        "colab_type": "code",
        "colab": {}
      },
      "source": [
        "TRAIN_PERCENT = 0.7\n",
        "#STOCK_INDEX = '^GSPC'\n",
        "VERBOSE=True"
      ],
      "execution_count": 0,
      "outputs": []
    },
    {
      "cell_type": "code",
      "metadata": {
        "id": "wjwirxd4VutM",
        "colab_type": "code",
        "colab": {}
      },
      "source": [
        "# prepare training and testing data sets for LSTM based sequence modeling\n",
        "#def get_seq_train_test(time_series, scaling=True,train_size=0.9):\n",
        "def get_seq_train_test(time_series,train_size=0.9):\n",
        "\n",
        "    # #scaling of variables to range [0,1]\n",
        "    # #must scale seperatly or scale only the output variable maybe!??\n",
        "    # scaler_Close = MinMaxScaler(feature_range=(0, 1))\n",
        "    # time_series.Close = time_series.Close.values\n",
        "    # time_series.Close = np.array(time_series.Close).reshape(-1,1)\n",
        "    # scaler_Close = scaler_Close.fit(time_series.Close)\n",
        "\n",
        "\n",
        "    # scaler_Volume = MinMaxScaler(feature_range=(0, 1))\n",
        "    # time_series.Volume = np.array(time_series.Volume).reshape(-1,1)\n",
        "    # scaler_Volume = scaler_Volume.fit(time_series.Volume)\n",
        "\n",
        "\n",
        "    # time_series = time_series[[Close,Volume]].values\n",
        "\n",
        "\n",
        "    # #reshape(-1,1) -1 --> unknown number of rows, 1 --> 1 column\n",
        "    # #time_series = np.array(time_series).reshape(-1,1)\n",
        "    # time_series = np.array(time_series).reshape(-1,2)\n",
        "    # #time_series = np.array(time_series)\n",
        "\n",
        "    # ##scaled_stock_series = scaler.fit_transform(time_series)\n",
        "\n",
        "    # time_series = scaled_stock_series\n",
        "\n",
        "#    print(time_series)\n",
        "\n",
        "    series1 = pd.Series(time_series[time_series.columns[0]])\n",
        "    series2 = pd.Series(time_series[time_series.columns[1]])\n",
        "\n",
        "    values1 = series1.values\n",
        "    values1 = values1.reshape((len(values1), 1))\n",
        "    values2 = series2.values\n",
        "    values2 = values2.reshape((len(values2), 1))\n",
        "\n",
        "    scaler1 = MinMaxScaler(feature_range=(0, 1))\n",
        "    #scaler1 = scaler1.fit(values1)\n",
        "    time_series[\"scaled1\"] = scaler1.fit_transform(values1)\n",
        "    scaler2 = MinMaxScaler(feature_range=(0, 1))\n",
        "    #scaler2 = scaler2.fit(values2)\n",
        "    time_series[\"scaled2\"]= scaler2.fit_transform(values2)\n",
        "\n",
        "    # time_series[\"scaled1\"] = scaler1\n",
        "    # time_series[\"scaled2\"] = scaler2\n",
        "\n",
        "\n",
        "\n",
        "    time_series = time_series[[\"scaled1\",\"scaled2\"]].values\n",
        "\n",
        "        \n",
        "    train_size = int(len(time_series) * train_size)\n",
        "\n",
        "    train = time_series[0:train_size]\n",
        "    test = time_series[train_size:len(time_series)]\n",
        "    \n",
        "    return train,test,scaler1,scaler2\n"
      ],
      "execution_count": 0,
      "outputs": []
    },
    {
      "cell_type": "code",
      "metadata": {
        "id": "UN6DYJT7TXPb",
        "colab_type": "code",
        "colab": {}
      },
      "source": [
        "def get_seq_model(hidden_units=4,input_shape=(1,1),verbose=False):\n",
        "    # create and fit the LSTM network\n",
        "    model = Sequential()\n",
        "    # samples*timesteps*featuress\n",
        "    # https://keras.io/getting-started/sequential-model-guide/\n",
        "    #relu_advanced=keras.activations.relu(x,)\n",
        "\n",
        "    model.add(LSTM(input_shape=input_shape,\n",
        "                   units = hidden_units,  \n",
        "   #                activation='relu',\n",
        "                   return_sequences=True\n",
        "    ))\n",
        "\n",
        "    # readout layer. TimeDistributedDense uses the same weights for all\n",
        "    # time steps.\n",
        "    # model.add(TimeDistributed(Dense(1))) #number of inputs in the 1st layer\n",
        "    model.add(TimeDistributed(Dense(2)))\n",
        "   \n",
        "    start = time.time()\n",
        "    #softsign\n",
        "    #model.add(activation='softsign')\n",
        "\n",
        "\n",
        "    model.compile(loss=\"mse\", optimizer=\"rmsprop\")\n",
        "\n",
        "    if verbose:\n",
        "        print(\"> Compilation Time : \", time.time() - start)\n",
        "        print(model.summary())\n",
        "\n",
        "    return model"
      ],
      "execution_count": 0,
      "outputs": []
    },
    {
      "cell_type": "code",
      "metadata": {
        "id": "UiL73vb-dFsK",
        "colab_type": "code",
        "colab": {
          "base_uri": "https://localhost:8080/",
          "height": 34
        },
        "outputId": "07bee965-7cfc-4c51-abf5-2a1275eedf18"
      },
      "source": [
        "print(type(sub_split.Close))\n",
        "sub_split=sub_split[['Volume', 'Close']]\n",
        "#sub_split.columns[1]"
      ],
      "execution_count": 211,
      "outputs": [
        {
          "output_type": "stream",
          "text": [
            "<class 'pandas.core.series.Series'>\n"
          ],
          "name": "stdout"
        }
      ]
    },
    {
      "cell_type": "code",
      "metadata": {
        "id": "zeAENS4LVpDG",
        "colab_type": "code",
        "outputId": "4be8e78e-09e5-40b5-8d7e-d4a41c0ae41a",
        "colab": {
          "base_uri": "https://localhost:8080/",
          "height": 374
        }
      },
      "source": [
        "# split train and test datasets\n",
        "train,test,scaler_Volume,scaler_Close = get_seq_train_test(sub_split,train_size=TRAIN_PERCENT)\n",
        "\n",
        "#train\n",
        "print(len(train))\n",
        "print(train.shape[0])\n",
        "print(train.shape)\n",
        "print(test.shape)\n",
        "print(train)"
      ],
      "execution_count": 212,
      "outputs": [
        {
          "output_type": "stream",
          "text": [
            "1740\n",
            "1740\n",
            "(1740, 2)\n",
            "(747, 2)\n",
            "[[0.27549278 0.00341169]\n",
            " [0.21577058 0.00295444]\n",
            " [0.2082473  0.00315783]\n",
            " ...\n",
            " [0.04890092 0.34214367]\n",
            " [0.02897624 0.34259565]\n",
            " [0.03567232 0.34500621]]\n"
          ],
          "name": "stdout"
        },
        {
          "output_type": "stream",
          "text": [
            "/usr/local/lib/python3.6/dist-packages/ipykernel_launcher.py:40: SettingWithCopyWarning: \n",
            "A value is trying to be set on a copy of a slice from a DataFrame.\n",
            "Try using .loc[row_indexer,col_indexer] = value instead\n",
            "\n",
            "See the caveats in the documentation: http://pandas.pydata.org/pandas-docs/stable/user_guide/indexing.html#returning-a-view-versus-a-copy\n",
            "/usr/local/lib/python3.6/dist-packages/ipykernel_launcher.py:43: SettingWithCopyWarning: \n",
            "A value is trying to be set on a copy of a slice from a DataFrame.\n",
            "Try using .loc[row_indexer,col_indexer] = value instead\n",
            "\n",
            "See the caveats in the documentation: http://pandas.pydata.org/pandas-docs/stable/user_guide/indexing.html#returning-a-view-versus-a-copy\n"
          ],
          "name": "stderr"
        }
      ]
    },
    {
      "cell_type": "code",
      "metadata": {
        "id": "uZG7396CWoy9",
        "colab_type": "code",
        "outputId": "adfa7757-f3c5-416c-dfc7-4620cdbf218a",
        "colab": {
          "base_uri": "https://localhost:8080/",
          "height": 102
        }
      },
      "source": [
        "#We use numpy to reshape our time series into 3D tensors.\n",
        "train = np.reshape(train,(1,train.shape[0],2))\n",
        "test = np.reshape(test,(1,test.shape[0],2))\n",
        "\n",
        "train_x = train[:,:-1,:]\n",
        "train_y = train[:,1:,:]\n",
        "\n",
        "test_x = test[:,:-1,:]\n",
        "test_y = test[:,1:,:]\n",
        "\n",
        "print(\"Data Split Complete\")\n",
        "\n",
        "print(\"train_x shape={}\".format(train_x.shape))\n",
        "print(\"train_y shape={}\".format(train_y.shape))\n",
        "print(\"test_x shape={}\".format(test_x.shape))\n",
        "print(\"test_y shape={}\".format(test_y.shape))"
      ],
      "execution_count": 213,
      "outputs": [
        {
          "output_type": "stream",
          "text": [
            "Data Split Complete\n",
            "train_x shape=(1, 1739, 2)\n",
            "train_y shape=(1, 1739, 2)\n",
            "test_x shape=(1, 746, 2)\n",
            "test_y shape=(1, 746, 2)\n"
          ],
          "name": "stdout"
        }
      ]
    },
    {
      "cell_type": "code",
      "metadata": {
        "id": "DqTCq2NDTQFL",
        "colab_type": "code",
        "outputId": "5ff857f4-59cb-471a-fcd6-aa1de08f03c1",
        "colab": {
          "base_uri": "https://localhost:8080/",
          "height": 255
        }
      },
      "source": [
        "# build RNN model\n",
        "seq_lstm_model=None\n",
        "try:\n",
        "    seq_lstm_model = get_seq_model(input_shape=(train_x.shape[1],2),\n",
        "                                                verbose=VERBOSE)\n",
        "except:\n",
        "    print(\"Model Build Failed. Trying Again\")\n",
        "    seq_lstm_model = get_seq_model(input_shape=(train_x.shape[1],2),\n",
        "                                                verbose=VERBOSE)"
      ],
      "execution_count": 214,
      "outputs": [
        {
          "output_type": "stream",
          "text": [
            "> Compilation Time :  0.024973392486572266\n",
            "Model: \"sequential_8\"\n",
            "_________________________________________________________________\n",
            "Layer (type)                 Output Shape              Param #   \n",
            "=================================================================\n",
            "lstm_8 (LSTM)                (None, 1739, 4)           112       \n",
            "_________________________________________________________________\n",
            "time_distributed_8 (TimeDist (None, 1739, 2)           10        \n",
            "=================================================================\n",
            "Total params: 122\n",
            "Trainable params: 122\n",
            "Non-trainable params: 0\n",
            "_________________________________________________________________\n",
            "None\n"
          ],
          "name": "stdout"
        }
      ]
    },
    {
      "cell_type": "code",
      "metadata": {
        "id": "MdpHk3OJ22QD",
        "colab_type": "code",
        "colab": {
          "base_uri": "https://localhost:8080/",
          "height": 136
        },
        "outputId": "21444375-a2d5-4d4d-dbd6-8b2616c3a3b8"
      },
      "source": [
        "train_y"
      ],
      "execution_count": 215,
      "outputs": [
        {
          "output_type": "execute_result",
          "data": {
            "text/plain": [
              "array([[[0.21577058, 0.00295444],\n",
              "        [0.2082473 , 0.00315783],\n",
              "        [0.20494889, 0.00248099],\n",
              "        ...,\n",
              "        [0.04890092, 0.34214367],\n",
              "        [0.02897624, 0.34259565],\n",
              "        [0.03567232, 0.34500621]]])"
            ]
          },
          "metadata": {
            "tags": []
          },
          "execution_count": 215
        }
      ]
    },
    {
      "cell_type": "code",
      "metadata": {
        "id": "FnQs_OC6XsTz",
        "colab_type": "code",
        "colab": {
          "base_uri": "https://localhost:8080/",
          "height": 1000
        },
        "outputId": "f830ac2b-6fcd-4b8b-b2ea-cb6da9100cc4"
      },
      "source": [
        "# train the model\n",
        "seq_lstm_model.fit(train_x, train_y,\n",
        "                #epochs=20, batch_size=1,\n",
        "                epochs=250, batch_size=1,\n",
        "                verbose=2)\n",
        "print(\"Model Fit Complete\")"
      ],
      "execution_count": 293,
      "outputs": [
        {
          "output_type": "stream",
          "text": [
            "Epoch 1/250\n",
            " - 1s - loss: 0.0232\n",
            "Epoch 2/250\n",
            " - 1s - loss: 0.0228\n",
            "Epoch 3/250\n",
            " - 1s - loss: 0.0224\n",
            "Epoch 4/250\n",
            " - 1s - loss: 0.0219\n",
            "Epoch 5/250\n",
            " - 1s - loss: 0.0215\n",
            "Epoch 6/250\n",
            " - 1s - loss: 0.0212\n",
            "Epoch 7/250\n",
            " - 1s - loss: 0.0208\n",
            "Epoch 8/250\n",
            " - 1s - loss: 0.0205\n",
            "Epoch 9/250\n",
            " - 1s - loss: 0.0201\n",
            "Epoch 10/250\n",
            " - 1s - loss: 0.0198\n",
            "Epoch 11/250\n",
            " - 1s - loss: 0.0195\n",
            "Epoch 12/250\n",
            " - 1s - loss: 0.0192\n",
            "Epoch 13/250\n",
            " - 1s - loss: 0.0190\n",
            "Epoch 14/250\n",
            " - 1s - loss: 0.0187\n",
            "Epoch 15/250\n",
            " - 1s - loss: 0.0184\n",
            "Epoch 16/250\n",
            " - 1s - loss: 0.0182\n",
            "Epoch 17/250\n",
            " - 1s - loss: 0.0180\n",
            "Epoch 18/250\n",
            " - 1s - loss: 0.0178\n",
            "Epoch 19/250\n",
            " - 1s - loss: 0.0175\n",
            "Epoch 20/250\n",
            " - 1s - loss: 0.0173\n",
            "Epoch 21/250\n",
            " - 1s - loss: 0.0172\n",
            "Epoch 22/250\n",
            " - 1s - loss: 0.0170\n",
            "Epoch 23/250\n",
            " - 1s - loss: 0.0168\n",
            "Epoch 24/250\n",
            " - 1s - loss: 0.0166\n",
            "Epoch 25/250\n",
            " - 1s - loss: 0.0165\n",
            "Epoch 26/250\n",
            " - 1s - loss: 0.0163\n",
            "Epoch 27/250\n",
            " - 1s - loss: 0.0162\n",
            "Epoch 28/250\n",
            " - 1s - loss: 0.0161\n",
            "Epoch 29/250\n",
            " - 1s - loss: 0.0159\n",
            "Epoch 30/250\n",
            " - 1s - loss: 0.0158\n",
            "Epoch 31/250\n",
            " - 1s - loss: 0.0157\n",
            "Epoch 32/250\n",
            " - 1s - loss: 0.0156\n",
            "Epoch 33/250\n",
            " - 1s - loss: 0.0155\n",
            "Epoch 34/250\n",
            " - 1s - loss: 0.0154\n",
            "Epoch 35/250\n",
            " - 1s - loss: 0.0153\n",
            "Epoch 36/250\n",
            " - 1s - loss: 0.0152\n",
            "Epoch 37/250\n",
            " - 1s - loss: 0.0151\n",
            "Epoch 38/250\n",
            " - 1s - loss: 0.0150\n",
            "Epoch 39/250\n",
            " - 1s - loss: 0.0150\n",
            "Epoch 40/250\n",
            " - 1s - loss: 0.0149\n",
            "Epoch 41/250\n",
            " - 1s - loss: 0.0148\n",
            "Epoch 42/250\n",
            " - 1s - loss: 0.0148\n",
            "Epoch 43/250\n",
            " - 1s - loss: 0.0147\n",
            "Epoch 44/250\n",
            " - 1s - loss: 0.0146\n",
            "Epoch 45/250\n",
            " - 1s - loss: 0.0146\n",
            "Epoch 46/250\n",
            " - 1s - loss: 0.0145\n",
            "Epoch 47/250\n",
            " - 1s - loss: 0.0145\n",
            "Epoch 48/250\n",
            " - 1s - loss: 0.0144\n",
            "Epoch 49/250\n",
            " - 1s - loss: 0.0143\n",
            "Epoch 50/250\n",
            " - 1s - loss: 0.0143\n",
            "Epoch 51/250\n",
            " - 1s - loss: 0.0142\n",
            "Epoch 52/250\n",
            " - 1s - loss: 0.0142\n",
            "Epoch 53/250\n",
            " - 1s - loss: 0.0141\n",
            "Epoch 54/250\n",
            " - 1s - loss: 0.0141\n",
            "Epoch 55/250\n",
            " - 1s - loss: 0.0140\n",
            "Epoch 56/250\n",
            " - 1s - loss: 0.0140\n",
            "Epoch 57/250\n",
            " - 1s - loss: 0.0139\n",
            "Epoch 58/250\n",
            " - 1s - loss: 0.0139\n",
            "Epoch 59/250\n",
            " - 1s - loss: 0.0138\n",
            "Epoch 60/250\n",
            " - 1s - loss: 0.0138\n",
            "Epoch 61/250\n",
            " - 1s - loss: 0.0137\n",
            "Epoch 62/250\n",
            " - 1s - loss: 0.0137\n",
            "Epoch 63/250\n",
            " - 1s - loss: 0.0136\n",
            "Epoch 64/250\n",
            " - 1s - loss: 0.0136\n",
            "Epoch 65/250\n",
            " - 1s - loss: 0.0135\n",
            "Epoch 66/250\n",
            " - 1s - loss: 0.0135\n",
            "Epoch 67/250\n",
            " - 1s - loss: 0.0134\n",
            "Epoch 68/250\n",
            " - 1s - loss: 0.0133\n",
            "Epoch 69/250\n",
            " - 1s - loss: 0.0133\n",
            "Epoch 70/250\n",
            " - 1s - loss: 0.0132\n",
            "Epoch 71/250\n",
            " - 1s - loss: 0.0132\n",
            "Epoch 72/250\n",
            " - 1s - loss: 0.0131\n",
            "Epoch 73/250\n",
            " - 1s - loss: 0.0131\n",
            "Epoch 74/250\n",
            " - 1s - loss: 0.0130\n",
            "Epoch 75/250\n",
            " - 1s - loss: 0.0130\n",
            "Epoch 76/250\n",
            " - 1s - loss: 0.0129\n",
            "Epoch 77/250\n",
            " - 1s - loss: 0.0128\n",
            "Epoch 78/250\n",
            " - 1s - loss: 0.0128\n",
            "Epoch 79/250\n",
            " - 1s - loss: 0.0127\n",
            "Epoch 80/250\n",
            " - 1s - loss: 0.0127\n",
            "Epoch 81/250\n",
            " - 1s - loss: 0.0126\n",
            "Epoch 82/250\n",
            " - 1s - loss: 0.0125\n",
            "Epoch 83/250\n",
            " - 1s - loss: 0.0125\n",
            "Epoch 84/250\n",
            " - 1s - loss: 0.0124\n",
            "Epoch 85/250\n",
            " - 1s - loss: 0.0123\n",
            "Epoch 86/250\n",
            " - 1s - loss: 0.0123\n",
            "Epoch 87/250\n",
            " - 1s - loss: 0.0122\n",
            "Epoch 88/250\n",
            " - 1s - loss: 0.0121\n",
            "Epoch 89/250\n",
            " - 1s - loss: 0.0120\n",
            "Epoch 90/250\n",
            " - 1s - loss: 0.0120\n",
            "Epoch 91/250\n",
            " - 1s - loss: 0.0119\n",
            "Epoch 92/250\n",
            " - 1s - loss: 0.0118\n",
            "Epoch 93/250\n",
            " - 1s - loss: 0.0117\n",
            "Epoch 94/250\n",
            " - 1s - loss: 0.0116\n",
            "Epoch 95/250\n",
            " - 1s - loss: 0.0115\n",
            "Epoch 96/250\n",
            " - 1s - loss: 0.0115\n",
            "Epoch 97/250\n",
            " - 1s - loss: 0.0114\n",
            "Epoch 98/250\n",
            " - 1s - loss: 0.0113\n",
            "Epoch 99/250\n",
            " - 1s - loss: 0.0112\n",
            "Epoch 100/250\n",
            " - 1s - loss: 0.0111\n",
            "Epoch 101/250\n",
            " - 1s - loss: 0.0110\n",
            "Epoch 102/250\n",
            " - 1s - loss: 0.0109\n",
            "Epoch 103/250\n",
            " - 1s - loss: 0.0108\n",
            "Epoch 104/250\n",
            " - 1s - loss: 0.0107\n",
            "Epoch 105/250\n",
            " - 1s - loss: 0.0106\n",
            "Epoch 106/250\n",
            " - 1s - loss: 0.0105\n",
            "Epoch 107/250\n",
            " - 1s - loss: 0.0103\n",
            "Epoch 108/250\n",
            " - 1s - loss: 0.0102\n",
            "Epoch 109/250\n",
            " - 1s - loss: 0.0101\n",
            "Epoch 110/250\n",
            " - 1s - loss: 0.0100\n",
            "Epoch 111/250\n",
            " - 1s - loss: 0.0099\n",
            "Epoch 112/250\n",
            " - 1s - loss: 0.0098\n",
            "Epoch 113/250\n",
            " - 1s - loss: 0.0096\n",
            "Epoch 114/250\n",
            " - 1s - loss: 0.0095\n",
            "Epoch 115/250\n",
            " - 1s - loss: 0.0094\n",
            "Epoch 116/250\n",
            " - 1s - loss: 0.0093\n",
            "Epoch 117/250\n",
            " - 1s - loss: 0.0091\n",
            "Epoch 118/250\n",
            " - 1s - loss: 0.0090\n",
            "Epoch 119/250\n",
            " - 1s - loss: 0.0089\n",
            "Epoch 120/250\n",
            " - 1s - loss: 0.0088\n",
            "Epoch 121/250\n",
            " - 1s - loss: 0.0086\n",
            "Epoch 122/250\n",
            " - 1s - loss: 0.0085\n",
            "Epoch 123/250\n",
            " - 1s - loss: 0.0084\n",
            "Epoch 124/250\n",
            " - 1s - loss: 0.0082\n",
            "Epoch 125/250\n",
            " - 1s - loss: 0.0081\n",
            "Epoch 126/250\n",
            " - 1s - loss: 0.0080\n",
            "Epoch 127/250\n",
            " - 1s - loss: 0.0078\n",
            "Epoch 128/250\n",
            " - 1s - loss: 0.0077\n",
            "Epoch 129/250\n",
            " - 1s - loss: 0.0076\n",
            "Epoch 130/250\n",
            " - 1s - loss: 0.0074\n",
            "Epoch 131/250\n",
            " - 1s - loss: 0.0073\n",
            "Epoch 132/250\n",
            " - 1s - loss: 0.0072\n",
            "Epoch 133/250\n",
            " - 1s - loss: 0.0071\n",
            "Epoch 134/250\n",
            " - 1s - loss: 0.0070\n",
            "Epoch 135/250\n",
            " - 1s - loss: 0.0068\n",
            "Epoch 136/250\n",
            " - 1s - loss: 0.0067\n",
            "Epoch 137/250\n",
            " - 1s - loss: 0.0066\n",
            "Epoch 138/250\n",
            " - 1s - loss: 0.0065\n",
            "Epoch 139/250\n",
            " - 1s - loss: 0.0064\n",
            "Epoch 140/250\n",
            " - 1s - loss: 0.0063\n",
            "Epoch 141/250\n",
            " - 1s - loss: 0.0062\n",
            "Epoch 142/250\n",
            " - 1s - loss: 0.0062\n",
            "Epoch 143/250\n",
            " - 1s - loss: 0.0061\n",
            "Epoch 144/250\n",
            " - 1s - loss: 0.0060\n",
            "Epoch 145/250\n",
            " - 1s - loss: 0.0059\n",
            "Epoch 146/250\n",
            " - 1s - loss: 0.0059\n",
            "Epoch 147/250\n",
            " - 1s - loss: 0.0058\n",
            "Epoch 148/250\n",
            " - 1s - loss: 0.0058\n",
            "Epoch 149/250\n",
            " - 1s - loss: 0.0057\n",
            "Epoch 150/250\n",
            " - 1s - loss: 0.0057\n",
            "Epoch 151/250\n",
            " - 1s - loss: 0.0056\n",
            "Epoch 152/250\n",
            " - 1s - loss: 0.0056\n",
            "Epoch 153/250\n",
            " - 1s - loss: 0.0055\n",
            "Epoch 154/250\n",
            " - 1s - loss: 0.0055\n",
            "Epoch 155/250\n",
            " - 1s - loss: 0.0055\n",
            "Epoch 156/250\n",
            " - 1s - loss: 0.0054\n",
            "Epoch 157/250\n",
            " - 1s - loss: 0.0054\n",
            "Epoch 158/250\n",
            " - 1s - loss: 0.0054\n",
            "Epoch 159/250\n",
            " - 1s - loss: 0.0054\n",
            "Epoch 160/250\n",
            " - 1s - loss: 0.0053\n",
            "Epoch 161/250\n",
            " - 1s - loss: 0.0053\n",
            "Epoch 162/250\n",
            " - 1s - loss: 0.0053\n",
            "Epoch 163/250\n",
            " - 1s - loss: 0.0053\n",
            "Epoch 164/250\n",
            " - 1s - loss: 0.0052\n",
            "Epoch 165/250\n",
            " - 1s - loss: 0.0052\n",
            "Epoch 166/250\n",
            " - 1s - loss: 0.0052\n",
            "Epoch 167/250\n",
            " - 1s - loss: 0.0052\n",
            "Epoch 168/250\n",
            " - 1s - loss: 0.0052\n",
            "Epoch 169/250\n",
            " - 1s - loss: 0.0051\n",
            "Epoch 170/250\n",
            " - 1s - loss: 0.0051\n",
            "Epoch 171/250\n",
            " - 1s - loss: 0.0051\n",
            "Epoch 172/250\n",
            " - 1s - loss: 0.0051\n",
            "Epoch 173/250\n",
            " - 1s - loss: 0.0051\n",
            "Epoch 174/250\n",
            " - 1s - loss: 0.0051\n",
            "Epoch 175/250\n",
            " - 1s - loss: 0.0050\n",
            "Epoch 176/250\n",
            " - 1s - loss: 0.0050\n",
            "Epoch 177/250\n",
            " - 1s - loss: 0.0050\n",
            "Epoch 178/250\n",
            " - 1s - loss: 0.0050\n",
            "Epoch 179/250\n",
            " - 1s - loss: 0.0050\n",
            "Epoch 180/250\n",
            " - 1s - loss: 0.0050\n",
            "Epoch 181/250\n",
            " - 1s - loss: 0.0049\n",
            "Epoch 182/250\n",
            " - 1s - loss: 0.0049\n",
            "Epoch 183/250\n",
            " - 1s - loss: 0.0049\n",
            "Epoch 184/250\n",
            " - 1s - loss: 0.0049\n",
            "Epoch 185/250\n",
            " - 1s - loss: 0.0049\n",
            "Epoch 186/250\n",
            " - 1s - loss: 0.0049\n",
            "Epoch 187/250\n",
            " - 1s - loss: 0.0049\n",
            "Epoch 188/250\n",
            " - 1s - loss: 0.0048\n",
            "Epoch 189/250\n",
            " - 1s - loss: 0.0048\n",
            "Epoch 190/250\n",
            " - 1s - loss: 0.0048\n",
            "Epoch 191/250\n",
            " - 1s - loss: 0.0048\n",
            "Epoch 192/250\n",
            " - 1s - loss: 0.0048\n",
            "Epoch 193/250\n",
            " - 1s - loss: 0.0048\n",
            "Epoch 194/250\n",
            " - 1s - loss: 0.0048\n",
            "Epoch 195/250\n",
            " - 1s - loss: 0.0047\n",
            "Epoch 196/250\n",
            " - 1s - loss: 0.0047\n",
            "Epoch 197/250\n",
            " - 1s - loss: 0.0047\n",
            "Epoch 198/250\n",
            " - 1s - loss: 0.0047\n",
            "Epoch 199/250\n",
            " - 1s - loss: 0.0047\n",
            "Epoch 200/250\n",
            " - 1s - loss: 0.0047\n",
            "Epoch 201/250\n",
            " - 1s - loss: 0.0047\n",
            "Epoch 202/250\n",
            " - 1s - loss: 0.0047\n",
            "Epoch 203/250\n",
            " - 1s - loss: 0.0046\n",
            "Epoch 204/250\n",
            " - 1s - loss: 0.0046\n",
            "Epoch 205/250\n",
            " - 1s - loss: 0.0046\n",
            "Epoch 206/250\n",
            " - 1s - loss: 0.0046\n",
            "Epoch 207/250\n",
            " - 1s - loss: 0.0046\n",
            "Epoch 208/250\n",
            " - 1s - loss: 0.0046\n",
            "Epoch 209/250\n",
            " - 1s - loss: 0.0046\n",
            "Epoch 210/250\n",
            " - 1s - loss: 0.0046\n",
            "Epoch 211/250\n",
            " - 1s - loss: 0.0045\n",
            "Epoch 212/250\n",
            " - 1s - loss: 0.0045\n",
            "Epoch 213/250\n",
            " - 1s - loss: 0.0045\n",
            "Epoch 214/250\n",
            " - 1s - loss: 0.0045\n",
            "Epoch 215/250\n",
            " - 1s - loss: 0.0045\n",
            "Epoch 216/250\n",
            " - 1s - loss: 0.0045\n",
            "Epoch 217/250\n",
            " - 1s - loss: 0.0045\n",
            "Epoch 218/250\n",
            " - 1s - loss: 0.0045\n",
            "Epoch 219/250\n",
            " - 1s - loss: 0.0044\n",
            "Epoch 220/250\n",
            " - 1s - loss: 0.0044\n",
            "Epoch 221/250\n",
            " - 1s - loss: 0.0044\n",
            "Epoch 222/250\n",
            " - 1s - loss: 0.0044\n",
            "Epoch 223/250\n",
            " - 1s - loss: 0.0044\n",
            "Epoch 224/250\n",
            " - 1s - loss: 0.0044\n",
            "Epoch 225/250\n",
            " - 1s - loss: 0.0044\n",
            "Epoch 226/250\n",
            " - 1s - loss: 0.0044\n",
            "Epoch 227/250\n",
            " - 1s - loss: 0.0044\n",
            "Epoch 228/250\n",
            " - 1s - loss: 0.0043\n",
            "Epoch 229/250\n",
            " - 1s - loss: 0.0043\n",
            "Epoch 230/250\n",
            " - 1s - loss: 0.0043\n",
            "Epoch 231/250\n",
            " - 1s - loss: 0.0043\n",
            "Epoch 232/250\n",
            " - 1s - loss: 0.0043\n",
            "Epoch 233/250\n",
            " - 1s - loss: 0.0043\n",
            "Epoch 234/250\n",
            " - 1s - loss: 0.0043\n",
            "Epoch 235/250\n",
            " - 1s - loss: 0.0043\n",
            "Epoch 236/250\n",
            " - 1s - loss: 0.0043\n",
            "Epoch 237/250\n",
            " - 1s - loss: 0.0043\n",
            "Epoch 238/250\n",
            " - 1s - loss: 0.0042\n",
            "Epoch 239/250\n",
            " - 1s - loss: 0.0042\n",
            "Epoch 240/250\n",
            " - 1s - loss: 0.0042\n",
            "Epoch 241/250\n",
            " - 1s - loss: 0.0042\n",
            "Epoch 242/250\n",
            " - 1s - loss: 0.0042\n",
            "Epoch 243/250\n",
            " - 1s - loss: 0.0042\n",
            "Epoch 244/250\n",
            " - 1s - loss: 0.0042\n",
            "Epoch 245/250\n",
            " - 1s - loss: 0.0042\n",
            "Epoch 246/250\n",
            " - 1s - loss: 0.0042\n",
            "Epoch 247/250\n",
            " - 1s - loss: 0.0042\n",
            "Epoch 248/250\n",
            " - 1s - loss: 0.0041\n",
            "Epoch 249/250\n",
            " - 1s - loss: 0.0041\n",
            "Epoch 250/250\n",
            " - 1s - loss: 0.0041\n",
            "Model Fit Complete\n"
          ],
          "name": "stdout"
        }
      ]
    },
    {
      "cell_type": "code",
      "metadata": {
        "id": "g07f1lEGXu_T",
        "colab_type": "code",
        "outputId": "6a2677d8-72d8-42fb-f93d-171cfcbc4789",
        "colab": {
          "base_uri": "https://localhost:8080/",
          "height": 34
        }
      },
      "source": [
        "# train fit performance\n",
        "trainPredict = seq_lstm_model.predict(train_x)\n",
        "trainScore = math.sqrt(mean_squared_error(train_y[0], trainPredict[0]))\n",
        "print('Train Score: %.2f RMSE' % (trainScore))"
      ],
      "execution_count": 294,
      "outputs": [
        {
          "output_type": "stream",
          "text": [
            "Train Score: 0.06 RMSE\n"
          ],
          "name": "stdout"
        }
      ]
    },
    {
      "cell_type": "code",
      "metadata": {
        "id": "URNrqwpl1SbQ",
        "colab_type": "code",
        "outputId": "a94b5b81-c995-4047-b250-4a6559184b13",
        "colab": {
          "base_uri": "https://localhost:8080/",
          "height": 136
        }
      },
      "source": [
        "trainPredict"
      ],
      "execution_count": 295,
      "outputs": [
        {
          "output_type": "execute_result",
          "data": {
            "text/plain": [
              "array([[[0.1651239 , 0.00758678],\n",
              "        [0.19936547, 0.01011102],\n",
              "        [0.22078681, 0.0094309 ],\n",
              "        ...,\n",
              "        [0.06134503, 0.32023236],\n",
              "        [0.06207259, 0.32248852],\n",
              "        [0.06023592, 0.32177266]]], dtype=float32)"
            ]
          },
          "metadata": {
            "tags": []
          },
          "execution_count": 295
        }
      ]
    },
    {
      "cell_type": "code",
      "metadata": {
        "id": "ZW0LgTTSXyKR",
        "colab_type": "code",
        "colab": {}
      },
      "source": [
        "# Pad input sequence\n",
        "testPredict = pad_sequences(test_x,maxlen=train_x.shape[1],padding='post',dtype='float64')"
      ],
      "execution_count": 0,
      "outputs": []
    },
    {
      "cell_type": "code",
      "metadata": {
        "id": "XsR5ytjpX2yj",
        "colab_type": "code",
        "outputId": "a33e7024-fceb-48ab-dd52-8c99e09e9771",
        "colab": {
          "base_uri": "https://localhost:8080/",
          "height": 136
        }
      },
      "source": [
        "# forecast values\n",
        "testPredict = seq_lstm_model.predict(testPredict)\n",
        "testPredict"
      ],
      "execution_count": 297,
      "outputs": [
        {
          "output_type": "execute_result",
          "data": {
            "text/plain": [
              "array([[[ 0.12173168,  0.010339  ],\n",
              "        [ 0.13353123,  0.03749001],\n",
              "        [ 0.14224555,  0.06849603],\n",
              "        ...,\n",
              "        [ 0.18097907, -0.05834969],\n",
              "        [ 0.18097907, -0.05834969],\n",
              "        [ 0.18097907, -0.05834969]]], dtype=float32)"
            ]
          },
          "metadata": {
            "tags": []
          },
          "execution_count": 297
        }
      ]
    },
    {
      "cell_type": "code",
      "metadata": {
        "id": "z_XhF1MjX4gh",
        "colab_type": "code",
        "outputId": "68e15de9-27d6-4bfd-d561-453439c448c4",
        "colab": {
          "base_uri": "https://localhost:8080/",
          "height": 136
        }
      },
      "source": [
        "# forecast values\n",
        "testPredict = seq_lstm_model.predict(testPredict)\n",
        "testPredict"
      ],
      "execution_count": 298,
      "outputs": [
        {
          "output_type": "execute_result",
          "data": {
            "text/plain": [
              "array([[[ 0.14575544, -0.01155923],\n",
              "        [ 0.17456934, -0.00787518],\n",
              "        [ 0.1933126 , -0.00115359],\n",
              "        ...,\n",
              "        [ 0.26200444, -0.04829685],\n",
              "        [ 0.26200444, -0.04829685],\n",
              "        [ 0.26200444, -0.04829685]]], dtype=float32)"
            ]
          },
          "metadata": {
            "tags": []
          },
          "execution_count": 298
        }
      ]
    },
    {
      "cell_type": "code",
      "metadata": {
        "id": "X1GacKMEFVLg",
        "colab_type": "code",
        "colab": {
          "base_uri": "https://localhost:8080/",
          "height": 136
        },
        "outputId": "df65d292-e2c5-457c-b5d0-4a1b8116a1b3"
      },
      "source": [
        "testPredict"
      ],
      "execution_count": 299,
      "outputs": [
        {
          "output_type": "execute_result",
          "data": {
            "text/plain": [
              "array([[[ 0.14575544, -0.01155923],\n",
              "        [ 0.17456934, -0.00787518],\n",
              "        [ 0.1933126 , -0.00115359],\n",
              "        ...,\n",
              "        [ 0.26200444, -0.04829685],\n",
              "        [ 0.26200444, -0.04829685],\n",
              "        [ 0.26200444, -0.04829685]]], dtype=float32)"
            ]
          },
          "metadata": {
            "tags": []
          },
          "execution_count": 299
        }
      ]
    },
    {
      "cell_type": "code",
      "metadata": {
        "id": "KvjYccaoN8hP",
        "colab_type": "code",
        "colab": {}
      },
      "source": [
        "testPredict=np.delete(testPredict, 0, 2)\n",
        "trainPredict=np.delete(trainPredict, 0, 2)"
      ],
      "execution_count": 0,
      "outputs": []
    },
    {
      "cell_type": "code",
      "metadata": {
        "id": "EMtIMjJRE18q",
        "colab_type": "code",
        "outputId": "58a5ea66-da04-48d7-b5c6-71def5a27aeb",
        "colab": {
          "base_uri": "https://localhost:8080/",
          "height": 136
        }
      },
      "source": [
        "trainPredict\n"
      ],
      "execution_count": 301,
      "outputs": [
        {
          "output_type": "execute_result",
          "data": {
            "text/plain": [
              "array([[[0.00758678],\n",
              "        [0.01011102],\n",
              "        [0.0094309 ],\n",
              "        ...,\n",
              "        [0.32023236],\n",
              "        [0.32248852],\n",
              "        [0.32177266]]], dtype=float32)"
            ]
          },
          "metadata": {
            "tags": []
          },
          "execution_count": 301
        }
      ]
    },
    {
      "cell_type": "code",
      "metadata": {
        "id": "x_tNvtkz_f5X",
        "colab_type": "code",
        "colab": {
          "base_uri": "https://localhost:8080/",
          "height": 34
        },
        "outputId": "7559a46e-672a-413b-a2b0-7da20f26346b"
      },
      "source": [
        "type(testPredict)"
      ],
      "execution_count": 302,
      "outputs": [
        {
          "output_type": "execute_result",
          "data": {
            "text/plain": [
              "numpy.ndarray"
            ]
          },
          "metadata": {
            "tags": []
          },
          "execution_count": 302
        }
      ]
    },
    {
      "cell_type": "code",
      "metadata": {
        "id": "zA7Aehl4X5ck",
        "colab_type": "code",
        "colab": {}
      },
      "source": [
        "# # inverse transformation\n",
        "\n",
        "#scaler = MinMaxScaler(feature_range=(0, 1))\n",
        "#time_series = np.array(sub_split.Close).reshape(-1,1)\n",
        "#scaler = scaler.fit(time_series)\n",
        "\n",
        "#trainPredict=trainPredict.reshape(trainPredict.shape[1])\n",
        "#testPredict=testPredict.reshape(testPredict.shape[1])\n",
        "\n",
        "\n",
        " #scaler = MinMaxScaler(feature_range=(0, 1))\n",
        "\n",
        "# trainPredict = scaler.inverse_transform(trainPredict.reshape(trainPredict.shape[1]))\n",
        "# testPredict = scaler.inverse_transform(testPredict.reshape(testPredict.shape[1]))\n",
        "\n",
        "trainPredict = scaler_Close.inverse_transform(trainPredict.\\\n",
        "                                        reshape(-1,1))\n",
        "testPredict = scaler_Close.inverse_transform(testPredict.\\\n",
        "                                       reshape(-1,1))\n",
        "\n",
        "\n",
        "# # inverse transformation\n",
        "# trainPredict = scaler.inverse_transform(trainPredict.\\\n",
        "#                                         reshape(trainPredict.shape[1],2))\n",
        "# testPredict = scaler.inverse_transform(testPredict.\\\n",
        "#                                         reshape(testPredict.shape[1],2))"
      ],
      "execution_count": 0,
      "outputs": []
    },
    {
      "cell_type": "code",
      "metadata": {
        "id": "x_nZ9samd1Rs",
        "colab_type": "code",
        "outputId": "1af90d62-b7d3-4f8e-88ba-134936dd0319",
        "colab": {
          "base_uri": "https://localhost:8080/",
          "height": 136
        }
      },
      "source": [
        "trainPredict"
      ],
      "execution_count": 304,
      "outputs": [
        {
          "output_type": "execute_result",
          "data": {
            "text/plain": [
              "array([[ 30.16558 ],\n",
              "       [ 30.835762],\n",
              "       [ 30.655191],\n",
              "       ...,\n",
              "       [113.17258 ],\n",
              "       [113.77158 ],\n",
              "       [113.58152 ]], dtype=float32)"
            ]
          },
          "metadata": {
            "tags": []
          },
          "execution_count": 304
        }
      ]
    },
    {
      "cell_type": "code",
      "metadata": {
        "id": "HLk1kLM9s5gd",
        "colab_type": "code",
        "outputId": "f9624dcd-5931-4905-d62d-aadc7bca8a3f",
        "colab": {
          "base_uri": "https://localhost:8080/",
          "height": 34
        }
      },
      "source": [
        "sub_split_date=dfstocks[dfstocks['Company'].str.contains(\"AAPL\")]\n",
        "sub_split_date.isnull().values.any()\n",
        "sub_split_date.isna().values.any()\n",
        "sub_split_date = sub_split_date.sort_values(['Date'])\n",
        "sub_split_date.reset_index(drop=True, inplace=True)\n",
        "sub_split_date.shape[0]"
      ],
      "execution_count": 305,
      "outputs": [
        {
          "output_type": "execute_result",
          "data": {
            "text/plain": [
              "2487"
            ]
          },
          "metadata": {
            "tags": []
          },
          "execution_count": 305
        }
      ]
    },
    {
      "cell_type": "code",
      "metadata": {
        "id": "NRMR0WkN3XIh",
        "colab_type": "code",
        "outputId": "1f175b77-b85d-49f7-925e-152a69b0e25a",
        "colab": {
          "base_uri": "https://localhost:8080/",
          "height": 607
        }
      },
      "source": [
        "# plot the true and forecasted values\n",
        "train_size = len(trainPredict)+1\n",
        "#sub_split.Date.dt.year\n",
        "# plt.plot(sub_split.index,\n",
        "#           sub_split.Close.values,c='black',\n",
        "#           alpha=0.3,label='True Data')\n",
        "plt.plot(sub_split_date.Date,\n",
        "          sub_split.Close.values,c='black',\n",
        "          alpha=0.3,label='True Data')\n",
        "# # multipl /500000\n",
        "# trainPredict = scaler_Volume.inverse_transform(trainPredict.\\\n",
        "#                                         reshape(-1,2))\n",
        "\n",
        "plt.plot(sub_split_date.Date[1:train_size],\n",
        "          trainPredict,label='Training Fit',c='g')\n",
        "# #mulitple /100000\n",
        "plt.plot(sub_split_date.Date[train_size+1:],\n",
        "          testPredict[:test_x.shape[1]],label='Testing Forecast')\n",
        "plt.title('Forecast Plot')\n",
        "plt.legend()\n",
        "plt.show()\n",
        "plt.rcParams[\"figure.figsize\"] = (20,10)\n",
        "plt.show()"
      ],
      "execution_count": 306,
      "outputs": [
        {
          "output_type": "display_data",
          "data": {
            "image/png": "[encoded data removed]",
            "text/plain": [
              "<Figure size 1440x720 with 1 Axes>"
            ]
          },
          "metadata": {
            "tags": []
          }
        }
      ]
    }
  ]
}