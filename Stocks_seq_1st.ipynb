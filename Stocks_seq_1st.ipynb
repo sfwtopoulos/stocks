{
  "nbformat": 4,
  "nbformat_minor": 0,
  "metadata": {
    "colab": {
      "name": "Stocks_seq_1st.ipynb",
      "provenance": [],
      "collapsed_sections": [],
      "include_colab_link": true
    },
    "kernelspec": {
      "name": "python3",
      "display_name": "Python 3"
    }
  },
  "cells": [
    {
      "cell_type": "markdown",
      "metadata": {
        "id": "view-in-github",
        "colab_type": "text"
      },
      "source": [
        "<a href=\"https://colab.research.google.com/github/sfwtopoulos/stocks/blob/master/Stocks_seq_1st.ipynb\" target=\"_parent\"><img src=\"https://colab.research.google.com/assets/colab-badge.svg\" alt=\"Open In Colab\"/></a>"
      ]
    },
    {
      "cell_type": "code",
      "metadata": {
        "id": "DOmxraS5T1wD",
        "colab_type": "code",
        "colab": {}
      },
      "source": [
        "import pandas as pd\n",
        "import matplotlib.pyplot as plt\n",
        "import pandas as pd\n",
        "import math\n",
        "import warnings\n",
        "import numpy as np\n",
        "import time\n",
        "\n",
        "import pandas_datareader as pdr\n",
        "#%tensorflow_version 2.x\n",
        "# Restart runtime using 'Runtime' -> 'Restart runtime...'\n",
        "%tensorflow_version 1.x\n",
        "import tensorflow as tf\n",
        "import keras\n",
        "\n",
        "\n",
        "from keras.layers import LSTM\n",
        "from keras.models import Sequential\n",
        "from keras.layers.wrappers import TimeDistributed\n",
        "from keras.layers.core import Dense, Activation, Dropout\n",
        "from keras.preprocessing.sequence import pad_sequences\n",
        "\n",
        "from sklearn.preprocessing import MinMaxScaler\n",
        "from sklearn.metrics import mean_squared_error\n",
        "import seaborn as sns\n",
        "import matplotlib.pyplot as plt\n",
        "#not all needed\n",
        "\n",
        "\n",
        "warnings.filterwarnings('ignore',category=FutureWarning)\n",
        "warnings.filterwarnings('ignore', category=DeprecationWarning)"
      ],
      "execution_count": 0,
      "outputs": []
    },
    {
      "cell_type": "code",
      "metadata": {
        "id": "2byEjZdZVJrz",
        "colab_type": "code",
        "outputId": "fefffbba-0c68-4db9-cdc4-db41adcbd088",
        "colab": {
          "base_uri": "https://localhost:8080/",
          "height": 51
        }
      },
      "source": [
        "print(keras.__version__)\n",
        "print(tf.__version__)\n",
        "#print(tensorflow.compat.v2.__version__)"
      ],
      "execution_count": 20,
      "outputs": [
        {
          "output_type": "stream",
          "text": [
            "2.2.5\n",
            "1.15.0\n"
          ],
          "name": "stdout"
        }
      ]
    },
    {
      "cell_type": "code",
      "metadata": {
        "id": "tVJdUlQJUDjY",
        "colab_type": "code",
        "colab": {}
      },
      "source": [
        "#Data import from git repo\n",
        "url = 'https://raw.githubusercontent.com/sfwtopoulos/stocks/master/stocks_dataset/combined.csv'\n",
        "#df1 = pd.read_csv(url, error_bad_lines=False)\n",
        "dfstocks = pd.read_csv(url, sep=',')"
      ],
      "execution_count": 0,
      "outputs": []
    },
    {
      "cell_type": "code",
      "metadata": {
        "id": "A1gYAB3OUECs",
        "colab_type": "code",
        "outputId": "e55fa89c-79aa-4f6c-ef02-16405822a71c",
        "colab": {
          "base_uri": "https://localhost:8080/",
          "height": 136
        }
      },
      "source": [
        "#fix column names\n",
        "dfstocks=dfstocks.rename({' AAPL':'Company', ' Close/Last':'Close', ' Volume':'Volume', ' Open':'Open', ' High':'High', ' Low':'Low'}, axis=1);\n",
        "for col in dfstocks.columns: \n",
        "    print(col) "
      ],
      "execution_count": 22,
      "outputs": [
        {
          "output_type": "stream",
          "text": [
            "Date\n",
            "Close\n",
            "Volume\n",
            "Open\n",
            "High\n",
            "Low\n",
            "Company\n"
          ],
          "name": "stdout"
        }
      ]
    },
    {
      "cell_type": "code",
      "metadata": {
        "id": "vlSTPXYHUHSB",
        "colab_type": "code",
        "colab": {}
      },
      "source": [
        "#drop $sign from values\n",
        "dfstocks.Close=dfstocks['Close'].astype(str)\n",
        "dfstocks.Close=dfstocks.Close.apply(lambda x: x.replace('$',''))\n",
        "dfstocks.Open=dfstocks['Open'].astype(str)\n",
        "dfstocks.Open=dfstocks.Open.apply(lambda x: x.replace('$',''))\n",
        "dfstocks.High=dfstocks['High'].astype(str)\n",
        "dfstocks.High=dfstocks.High.apply(lambda x: x.replace('$',''))\n",
        "dfstocks.Low=dfstocks['Low'].astype(str)\n",
        "dfstocks.Low=dfstocks.Low.apply(lambda x: x.replace('$',''))"
      ],
      "execution_count": 0,
      "outputs": []
    },
    {
      "cell_type": "code",
      "metadata": {
        "id": "F4cxCV_YUJGa",
        "colab_type": "code",
        "outputId": "23bb0be4-589a-41fe-d63f-30a54b8e88ee",
        "colab": {
          "base_uri": "https://localhost:8080/",
          "height": 34
        }
      },
      "source": [
        "#drop rows containing nan or header from the csv files\n",
        "dfstocks=dfstocks[~dfstocks.Low.str.contains(\"nan\")]\n",
        "dfstocks=dfstocks[~dfstocks.Low.str.contains(\"Low\")]\n",
        "dfstocks.reset_index(drop=True, inplace=True)\n",
        "dfstocks.Date.count()"
      ],
      "execution_count": 24,
      "outputs": [
        {
          "output_type": "execute_result",
          "data": {
            "text/plain": [
              "229286"
            ]
          },
          "metadata": {
            "tags": []
          },
          "execution_count": 24
        }
      ]
    },
    {
      "cell_type": "code",
      "metadata": {
        "id": "te4JUA9lUL06",
        "colab_type": "code",
        "outputId": "004a4bcc-f99c-4b0c-d55b-08e5cfdd9765",
        "colab": {
          "base_uri": "https://localhost:8080/",
          "height": 419
        }
      },
      "source": [
        "#sort dataframe based on date and Company Name\n",
        "dfstocks = dfstocks.sort_values(['Date', 'Company'])\n",
        "dfstocks.head(100)"
      ],
      "execution_count": 25,
      "outputs": [
        {
          "output_type": "execute_result",
          "data": {
            "text/html": [
              "<div>\n",
              "<style scoped>\n",
              "    .dataframe tbody tr th:only-of-type {\n",
              "        vertical-align: middle;\n",
              "    }\n",
              "\n",
              "    .dataframe tbody tr th {\n",
              "        vertical-align: top;\n",
              "    }\n",
              "\n",
              "    .dataframe thead th {\n",
              "        text-align: right;\n",
              "    }\n",
              "</style>\n",
              "<table border=\"1\" class=\"dataframe\">\n",
              "  <thead>\n",
              "    <tr style=\"text-align: right;\">\n",
              "      <th></th>\n",
              "      <th>Date</th>\n",
              "      <th>Close</th>\n",
              "      <th>Volume</th>\n",
              "      <th>Open</th>\n",
              "      <th>High</th>\n",
              "      <th>Low</th>\n",
              "      <th>Company</th>\n",
              "    </tr>\n",
              "  </thead>\n",
              "  <tbody>\n",
              "    <tr>\n",
              "      <th>1761</th>\n",
              "      <td>01/02/2013</td>\n",
              "      <td>78.4328</td>\n",
              "      <td>139906732</td>\n",
              "      <td>79.1171</td>\n",
              "      <td>79.2857</td>\n",
              "      <td>77.3757</td>\n",
              "      <td>AAPL</td>\n",
              "    </tr>\n",
              "    <tr>\n",
              "      <th>4248</th>\n",
              "      <td>01/02/2013</td>\n",
              "      <td>35.12</td>\n",
              "      <td>13767660</td>\n",
              "      <td>34.92</td>\n",
              "      <td>35.4</td>\n",
              "      <td>34.1</td>\n",
              "      <td>ABBV</td>\n",
              "    </tr>\n",
              "    <tr>\n",
              "      <th>6025</th>\n",
              "      <td>01/02/2013</td>\n",
              "      <td>32.05</td>\n",
              "      <td>20266410</td>\n",
              "      <td>32.3</td>\n",
              "      <td>32.45</td>\n",
              "      <td>31.64</td>\n",
              "      <td>ABT</td>\n",
              "    </tr>\n",
              "    <tr>\n",
              "      <th>8512</th>\n",
              "      <td>01/02/2013</td>\n",
              "      <td>69.06</td>\n",
              "      <td>4039095</td>\n",
              "      <td>67.59</td>\n",
              "      <td>69.06</td>\n",
              "      <td>67.55</td>\n",
              "      <td>ACN</td>\n",
              "    </tr>\n",
              "    <tr>\n",
              "      <th>10999</th>\n",
              "      <td>01/02/2013</td>\n",
              "      <td>38.34</td>\n",
              "      <td>6483720</td>\n",
              "      <td>37.92</td>\n",
              "      <td>38.73</td>\n",
              "      <td>37.92</td>\n",
              "      <td>ADBE</td>\n",
              "    </tr>\n",
              "    <tr>\n",
              "      <th>...</th>\n",
              "      <td>...</td>\n",
              "      <td>...</td>\n",
              "      <td>...</td>\n",
              "      <td>...</td>\n",
              "      <td>...</td>\n",
              "      <td>...</td>\n",
              "      <td>...</td>\n",
              "    </tr>\n",
              "    <tr>\n",
              "      <th>10747</th>\n",
              "      <td>01/02/2014</td>\n",
              "      <td>59.29</td>\n",
              "      <td>2745895</td>\n",
              "      <td>59.06</td>\n",
              "      <td>59.53</td>\n",
              "      <td>58.94</td>\n",
              "      <td>ADBE</td>\n",
              "    </tr>\n",
              "    <tr>\n",
              "      <th>13234</th>\n",
              "      <td>01/02/2014</td>\n",
              "      <td>168.05</td>\n",
              "      <td>1268722</td>\n",
              "      <td>167.33</td>\n",
              "      <td>170.71</td>\n",
              "      <td>166.5937</td>\n",
              "      <td>AGN</td>\n",
              "    </tr>\n",
              "    <tr>\n",
              "      <th>15721</th>\n",
              "      <td>01/02/2014</td>\n",
              "      <td>50.71</td>\n",
              "      <td>9196092</td>\n",
              "      <td>50.81</td>\n",
              "      <td>51.3</td>\n",
              "      <td>50.47</td>\n",
              "      <td>AIG</td>\n",
              "    </tr>\n",
              "    <tr>\n",
              "      <th>18208</th>\n",
              "      <td>01/02/2014</td>\n",
              "      <td>53.55</td>\n",
              "      <td>1909106</td>\n",
              "      <td>54.09</td>\n",
              "      <td>54.45</td>\n",
              "      <td>53.5</td>\n",
              "      <td>ALL</td>\n",
              "    </tr>\n",
              "    <tr>\n",
              "      <th>20695</th>\n",
              "      <td>01/02/2014</td>\n",
              "      <td>115.795</td>\n",
              "      <td>2528751</td>\n",
              "      <td>114.36</td>\n",
              "      <td>116.19</td>\n",
              "      <td>114.06</td>\n",
              "      <td>AMGN</td>\n",
              "    </tr>\n",
              "  </tbody>\n",
              "</table>\n",
              "<p>100 rows × 7 columns</p>\n",
              "</div>"
            ],
            "text/plain": [
              "             Date     Close      Volume      Open      High        Low Company\n",
              "1761   01/02/2013   78.4328   139906732   79.1171   79.2857    77.3757    AAPL\n",
              "4248   01/02/2013     35.12    13767660     34.92      35.4       34.1    ABBV\n",
              "6025   01/02/2013     32.05    20266410      32.3     32.45      31.64     ABT\n",
              "8512   01/02/2013     69.06     4039095     67.59     69.06      67.55     ACN\n",
              "10999  01/02/2013     38.34     6483720     37.92     38.73      37.92    ADBE\n",
              "...           ...       ...         ...       ...       ...        ...     ...\n",
              "10747  01/02/2014     59.29     2745895     59.06     59.53      58.94    ADBE\n",
              "13234  01/02/2014    168.05     1268722    167.33    170.71   166.5937     AGN\n",
              "15721  01/02/2014     50.71     9196092     50.81      51.3      50.47     AIG\n",
              "18208  01/02/2014     53.55     1909106     54.09     54.45       53.5     ALL\n",
              "20695  01/02/2014   115.795     2528751    114.36    116.19     114.06    AMGN\n",
              "\n",
              "[100 rows x 7 columns]"
            ]
          },
          "metadata": {
            "tags": []
          },
          "execution_count": 25
        }
      ]
    },
    {
      "cell_type": "code",
      "metadata": {
        "id": "ORS6zOAhUMQ6",
        "colab_type": "code",
        "colab": {}
      },
      "source": [
        "#Test Split\n",
        "dfstocks_split = dfstocks.sample(frac=0.9998,random_state=200)\n",
        "second_split=dfstocks.drop(dfstocks_split.index)\n",
        "# second_split = second_split.reindex(index=second_split.Date(second_split.index.min(), \n",
        "#                                           second_split.index.max(), \n",
        "#                                           freq='D')).fillna(method='ffill')\n",
        "second_split"
      ],
      "execution_count": 0,
      "outputs": []
    },
    {
      "cell_type": "code",
      "metadata": {
        "id": "WLKUg3LXUTdm",
        "colab_type": "code",
        "colab": {}
      },
      "source": [
        "second_split.shape[0]\n",
        "second_split.isnull().values.any()\n",
        "second_split.isna().values.any()\n",
        "second_split.reset_index(drop=True, inplace=True)\n",
        "second_split"
      ],
      "execution_count": 0,
      "outputs": []
    },
    {
      "cell_type": "code",
      "metadata": {
        "id": "0behU6tsViUy",
        "colab_type": "code",
        "colab": {}
      },
      "source": [
        "TRAIN_PERCENT = 0.7\n",
        "#STOCK_INDEX = '^GSPC'\n",
        "VERBOSE=True"
      ],
      "execution_count": 0,
      "outputs": []
    },
    {
      "cell_type": "code",
      "metadata": {
        "id": "wjwirxd4VutM",
        "colab_type": "code",
        "colab": {}
      },
      "source": [
        "# prepare training and testing data sets for LSTM based sequence modeling\n",
        "#def get_seq_train_test(time_series, scaling=True,train_size=0.9):\n",
        "def get_seq_train_test(time_series,train_size=0.9):\n",
        "    # scaler = None\n",
        "    # if scaling:\n",
        "    #     scaler = MinMaxScaler(feature_range=(0, 1))\n",
        "    time_series = np.array(time_series).reshape(-1,1)\n",
        "    #     scaled_stock_series = scaler.fit_transform(time_series)\n",
        "    # else:\n",
        "    #     scaled_stock_series = time_series\n",
        "    scaled_stock_series = time_series\n",
        "        \n",
        "    #train_size = int(len(scaled_stock_series) * train_size)\n",
        "    train_size = int(len(time_series) * train_size)\n",
        "\n",
        "    #train = scaled_stock_series[0:train_size]\n",
        "    train = time_series[0:train_size]\n",
        "    #test = scaled_stock_series[train_size:len(scaled_stock_series)]\n",
        "    test = time_series[train_size:len(time_series)]\n",
        "    \n",
        "    return train,test \n"
      ],
      "execution_count": 0,
      "outputs": []
    },
    {
      "cell_type": "code",
      "metadata": {
        "id": "UN6DYJT7TXPb",
        "colab_type": "code",
        "colab": {}
      },
      "source": [
        "def get_seq_model(hidden_units=4,input_shape=(1,1),verbose=False):\n",
        "    # create and fit the LSTM network\n",
        "    model = Sequential()\n",
        "    # samples*timesteps*featuress\n",
        "\n",
        "    model.add(LSTM(input_shape=input_shape,\n",
        "                   units = hidden_units,\n",
        "                   return_sequences=True\n",
        "    ))\n",
        "\n",
        "    # readout layer. TimeDistributedDense uses the same weights for all\n",
        "    # time steps.\n",
        "    model.add(TimeDistributed(Dense(1)))\n",
        "    start = time.time()\n",
        "\n",
        "    model.compile(loss=\"mse\", optimizer=\"rmsprop\")\n",
        "\n",
        "    if verbose:\n",
        "        print(\"> Compilation Time : \", time.time() - start)\n",
        "        print(model.summary())\n",
        "\n",
        "    return model"
      ],
      "execution_count": 0,
      "outputs": []
    },
    {
      "cell_type": "code",
      "metadata": {
        "id": "zeAENS4LVpDG",
        "colab_type": "code",
        "outputId": "8e5a7542-edcc-4520-fa42-f25c566bdf81",
        "colab": {
          "base_uri": "https://localhost:8080/",
          "height": 85
        }
      },
      "source": [
        "# split train and test datasets\n",
        "train,test = get_seq_train_test(second_split.Close,\n",
        "#                                  scaling=True,\n",
        "                                   train_size=TRAIN_PERCENT)\n",
        "\n",
        "#train\n",
        "print(len(train))\n",
        "print(train.shape[0])\n",
        "print(train.shape)\n",
        "print(test.shape)"
      ],
      "execution_count": 31,
      "outputs": [
        {
          "output_type": "stream",
          "text": [
            "32\n",
            "32\n",
            "(32, 1)\n",
            "(14, 1)\n"
          ],
          "name": "stdout"
        }
      ]
    },
    {
      "cell_type": "code",
      "metadata": {
        "id": "uZG7396CWoy9",
        "colab_type": "code",
        "outputId": "ff221a93-6a96-4b6d-fef8-1d68d4045aae",
        "colab": {
          "base_uri": "https://localhost:8080/",
          "height": 102
        }
      },
      "source": [
        "#We use numpy to reshape our time seriesinto 3D tensors.\n",
        "train = np.reshape(train,(1,train.shape[0],1))\n",
        "test = np.reshape(test,(1,test.shape[0],1))\n",
        "\n",
        "train_x = train[:,:-1,:]\n",
        "train_y = train[:,1:,:]\n",
        "\n",
        "test_x = test[:,:-1,:]\n",
        "test_y = test[:,1:,:]\n",
        "\n",
        "print(\"Data Split Complete\")\n",
        "\n",
        "print(\"train_x shape={}\".format(train_x.shape))\n",
        "print(\"train_y shape={}\".format(train_y.shape))\n",
        "print(\"test_x shape={}\".format(test_x.shape))\n",
        "print(\"test_y shape={}\".format(test_y.shape))"
      ],
      "execution_count": 32,
      "outputs": [
        {
          "output_type": "stream",
          "text": [
            "Data Split Complete\n",
            "train_x shape=(1, 31, 1)\n",
            "train_y shape=(1, 31, 1)\n",
            "test_x shape=(1, 13, 1)\n",
            "test_y shape=(1, 13, 1)\n"
          ],
          "name": "stdout"
        }
      ]
    },
    {
      "cell_type": "code",
      "metadata": {
        "id": "DqTCq2NDTQFL",
        "colab_type": "code",
        "colab": {
          "base_uri": "https://localhost:8080/",
          "height": 255
        },
        "outputId": "e675a40d-20bb-44e9-ddef-1835cfb2b177"
      },
      "source": [
        "# build RNN model\n",
        "seq_lstm_model=None\n",
        "try:\n",
        "    seq_lstm_model = get_seq_model(input_shape=(train_x.shape[1],1),\n",
        "                                                verbose=VERBOSE)\n",
        "except:\n",
        "    print(\"Model Build Failed. Trying Again\")\n",
        "    seq_lstm_model = get_seq_model(input_shape=(train_x.shape[1],1),\n",
        "                                                verbose=VERBOSE)"
      ],
      "execution_count": 35,
      "outputs": [
        {
          "output_type": "stream",
          "text": [
            "> Compilation Time :  0.01638197898864746\n",
            "Model: \"sequential_3\"\n",
            "_________________________________________________________________\n",
            "Layer (type)                 Output Shape              Param #   \n",
            "=================================================================\n",
            "lstm_3 (LSTM)                (None, 31, 4)             96        \n",
            "_________________________________________________________________\n",
            "time_distributed_3 (TimeDist (None, 31, 1)             5         \n",
            "=================================================================\n",
            "Total params: 101\n",
            "Trainable params: 101\n",
            "Non-trainable params: 0\n",
            "_________________________________________________________________\n",
            "None\n"
          ],
          "name": "stdout"
        }
      ]
    },
    {
      "cell_type": "code",
      "metadata": {
        "id": "FnQs_OC6XsTz",
        "colab_type": "code",
        "colab": {
          "base_uri": "https://localhost:8080/",
          "height": 1000
        },
        "outputId": "8c7d368f-57c1-42c5-f56f-4c3cf8fb2908"
      },
      "source": [
        "# train the model\n",
        "seq_lstm_model.fit(train_x, train_y,\n",
        "                epochs=150, batch_size=1,\n",
        "                verbose=2)\n",
        "print(\"Model Fit Complete\")"
      ],
      "execution_count": 37,
      "outputs": [
        {
          "output_type": "stream",
          "text": [
            "Epoch 1/150\n",
            " - 0s - loss: 43062.6367\n",
            "Epoch 2/150\n",
            " - 0s - loss: 43062.3867\n",
            "Epoch 3/150\n",
            " - 0s - loss: 43062.1445\n",
            "Epoch 4/150\n",
            " - 0s - loss: 43061.9023\n",
            "Epoch 5/150\n",
            " - 0s - loss: 43061.6602\n",
            "Epoch 6/150\n",
            " - 0s - loss: 43061.4141\n",
            "Epoch 7/150\n",
            " - 0s - loss: 43061.1758\n",
            "Epoch 8/150\n",
            " - 0s - loss: 43060.9258\n",
            "Epoch 9/150\n",
            " - 0s - loss: 43060.6836\n",
            "Epoch 10/150\n",
            " - 0s - loss: 43060.4414\n",
            "Epoch 11/150\n",
            " - 0s - loss: 43060.2031\n",
            "Epoch 12/150\n",
            " - 0s - loss: 43059.9570\n",
            "Epoch 13/150\n",
            " - 0s - loss: 43059.7148\n",
            "Epoch 14/150\n",
            " - 0s - loss: 43059.4688\n",
            "Epoch 15/150\n",
            " - 0s - loss: 43059.2227\n",
            "Epoch 16/150\n",
            " - 0s - loss: 43058.9844\n",
            "Epoch 17/150\n",
            " - 0s - loss: 43058.7422\n",
            "Epoch 18/150\n",
            " - 0s - loss: 43058.4922\n",
            "Epoch 19/150\n",
            " - 0s - loss: 43058.2500\n",
            "Epoch 20/150\n",
            " - 0s - loss: 43058.0078\n",
            "Epoch 21/150\n",
            " - 0s - loss: 43057.7656\n",
            "Epoch 22/150\n",
            " - 0s - loss: 43057.5234\n",
            "Epoch 23/150\n",
            " - 0s - loss: 43057.2695\n",
            "Epoch 24/150\n",
            " - 0s - loss: 43057.0312\n",
            "Epoch 25/150\n",
            " - 0s - loss: 43056.7891\n",
            "Epoch 26/150\n",
            " - 0s - loss: 43056.5430\n",
            "Epoch 27/150\n",
            " - 0s - loss: 43056.3008\n",
            "Epoch 28/150\n",
            " - 0s - loss: 43056.0547\n",
            "Epoch 29/150\n",
            " - 0s - loss: 43055.8164\n",
            "Epoch 30/150\n",
            " - 0s - loss: 43055.5742\n",
            "Epoch 31/150\n",
            " - 0s - loss: 43055.3242\n",
            "Epoch 32/150\n",
            " - 0s - loss: 43055.0859\n",
            "Epoch 33/150\n",
            " - 0s - loss: 43054.8477\n",
            "Epoch 34/150\n",
            " - 0s - loss: 43054.5977\n",
            "Epoch 35/150\n",
            " - 0s - loss: 43054.3516\n",
            "Epoch 36/150\n",
            " - 0s - loss: 43054.1055\n",
            "Epoch 37/150\n",
            " - 0s - loss: 43053.8672\n",
            "Epoch 38/150\n",
            " - 0s - loss: 43053.6250\n",
            "Epoch 39/150\n",
            " - 0s - loss: 43053.3711\n",
            "Epoch 40/150\n",
            " - 0s - loss: 43053.1367\n",
            "Epoch 41/150\n",
            " - 0s - loss: 43052.8906\n",
            "Epoch 42/150\n",
            " - 0s - loss: 43052.6484\n",
            "Epoch 43/150\n",
            " - 0s - loss: 43052.4023\n",
            "Epoch 44/150\n",
            " - 0s - loss: 43052.1562\n",
            "Epoch 45/150\n",
            " - 0s - loss: 43051.9141\n",
            "Epoch 46/150\n",
            " - 0s - loss: 43051.6758\n",
            "Epoch 47/150\n",
            " - 0s - loss: 43051.4297\n",
            "Epoch 48/150\n",
            " - 0s - loss: 43051.1914\n",
            "Epoch 49/150\n",
            " - 0s - loss: 43050.9414\n",
            "Epoch 50/150\n",
            " - 0s - loss: 43050.6992\n",
            "Epoch 51/150\n",
            " - 0s - loss: 43050.4609\n",
            "Epoch 52/150\n",
            " - 0s - loss: 43050.2109\n",
            "Epoch 53/150\n",
            " - 0s - loss: 43049.9688\n",
            "Epoch 54/150\n",
            " - 0s - loss: 43049.7266\n",
            "Epoch 55/150\n",
            " - 0s - loss: 43049.4844\n",
            "Epoch 56/150\n",
            " - 0s - loss: 43049.2344\n",
            "Epoch 57/150\n",
            " - 0s - loss: 43048.9883\n",
            "Epoch 58/150\n",
            " - 0s - loss: 43048.7539\n",
            "Epoch 59/150\n",
            " - 0s - loss: 43048.5117\n",
            "Epoch 60/150\n",
            " - 0s - loss: 43048.2578\n",
            "Epoch 61/150\n",
            " - 0s - loss: 43048.0195\n",
            "Epoch 62/150\n",
            " - 0s - loss: 43047.7773\n",
            "Epoch 63/150\n",
            " - 0s - loss: 43047.5391\n",
            "Epoch 64/150\n",
            " - 0s - loss: 43047.2891\n",
            "Epoch 65/150\n",
            " - 0s - loss: 43047.0352\n",
            "Epoch 66/150\n",
            " - 0s - loss: 43046.8047\n",
            "Epoch 67/150\n",
            " - 0s - loss: 43046.5586\n",
            "Epoch 68/150\n",
            " - 0s - loss: 43046.3164\n",
            "Epoch 69/150\n",
            " - 0s - loss: 43046.0742\n",
            "Epoch 70/150\n",
            " - 0s - loss: 43045.8281\n",
            "Epoch 71/150\n",
            " - 0s - loss: 43045.5859\n",
            "Epoch 72/150\n",
            " - 0s - loss: 43045.3438\n",
            "Epoch 73/150\n",
            " - 0s - loss: 43045.0977\n",
            "Epoch 74/150\n",
            " - 0s - loss: 43044.8594\n",
            "Epoch 75/150\n",
            " - 0s - loss: 43044.6133\n",
            "Epoch 76/150\n",
            " - 0s - loss: 43044.3672\n",
            "Epoch 77/150\n",
            " - 0s - loss: 43044.1250\n",
            "Epoch 78/150\n",
            " - 0s - loss: 43043.8789\n",
            "Epoch 79/150\n",
            " - 0s - loss: 43043.6367\n",
            "Epoch 80/150\n",
            " - 0s - loss: 43043.3945\n",
            "Epoch 81/150\n",
            " - 0s - loss: 43043.1484\n",
            "Epoch 82/150\n",
            " - 0s - loss: 43042.9023\n",
            "Epoch 83/150\n",
            " - 0s - loss: 43042.6602\n",
            "Epoch 84/150\n",
            " - 0s - loss: 43042.4180\n",
            "Epoch 85/150\n",
            " - 0s - loss: 43042.1797\n",
            "Epoch 86/150\n",
            " - 0s - loss: 43041.9258\n",
            "Epoch 87/150\n",
            " - 0s - loss: 43041.6914\n",
            "Epoch 88/150\n",
            " - 0s - loss: 43041.4492\n",
            "Epoch 89/150\n",
            " - 0s - loss: 43041.2031\n",
            "Epoch 90/150\n",
            " - 0s - loss: 43040.9609\n",
            "Epoch 91/150\n",
            " - 0s - loss: 43040.7148\n",
            "Epoch 92/150\n",
            " - 0s - loss: 43040.4727\n",
            "Epoch 93/150\n",
            " - 0s - loss: 43040.2305\n",
            "Epoch 94/150\n",
            " - 0s - loss: 43039.9805\n",
            "Epoch 95/150\n",
            " - 0s - loss: 43039.7461\n",
            "Epoch 96/150\n",
            " - 0s - loss: 43039.4961\n",
            "Epoch 97/150\n",
            " - 0s - loss: 43039.2500\n",
            "Epoch 98/150\n",
            " - 0s - loss: 43039.0156\n",
            "Epoch 99/150\n",
            " - 0s - loss: 43038.7656\n",
            "Epoch 100/150\n",
            " - 0s - loss: 43038.5234\n",
            "Epoch 101/150\n",
            " - 0s - loss: 43038.2812\n",
            "Epoch 102/150\n",
            " - 0s - loss: 43038.0391\n",
            "Epoch 103/150\n",
            " - 0s - loss: 43037.7891\n",
            "Epoch 104/150\n",
            " - 0s - loss: 43037.5469\n",
            "Epoch 105/150\n",
            " - 0s - loss: 43037.3047\n",
            "Epoch 106/150\n",
            " - 0s - loss: 43037.0703\n",
            "Epoch 107/150\n",
            " - 0s - loss: 43036.8164\n",
            "Epoch 108/150\n",
            " - 0s - loss: 43036.5703\n",
            "Epoch 109/150\n",
            " - 0s - loss: 43036.3398\n",
            "Epoch 110/150\n",
            " - 0s - loss: 43036.0898\n",
            "Epoch 111/150\n",
            " - 0s - loss: 43035.8477\n",
            "Epoch 112/150\n",
            " - 0s - loss: 43035.5938\n",
            "Epoch 113/150\n",
            " - 0s - loss: 43035.3594\n",
            "Epoch 114/150\n",
            " - 0s - loss: 43035.1211\n",
            "Epoch 115/150\n",
            " - 0s - loss: 43034.8711\n",
            "Epoch 116/150\n",
            " - 0s - loss: 43034.6289\n",
            "Epoch 117/150\n",
            " - 0s - loss: 43034.3828\n",
            "Epoch 118/150\n",
            " - 0s - loss: 43034.1367\n",
            "Epoch 119/150\n",
            " - 0s - loss: 43033.9023\n",
            "Epoch 120/150\n",
            " - 0s - loss: 43033.6523\n",
            "Epoch 121/150\n",
            " - 0s - loss: 43033.4102\n",
            "Epoch 122/150\n",
            " - 0s - loss: 43033.1680\n",
            "Epoch 123/150\n",
            " - 0s - loss: 43032.9180\n",
            "Epoch 124/150\n",
            " - 0s - loss: 43032.6836\n",
            "Epoch 125/150\n",
            " - 0s - loss: 43032.4336\n",
            "Epoch 126/150\n",
            " - 0s - loss: 43032.1953\n",
            "Epoch 127/150\n",
            " - 0s - loss: 43031.9531\n",
            "Epoch 128/150\n",
            " - 0s - loss: 43031.7109\n",
            "Epoch 129/150\n",
            " - 0s - loss: 43031.4648\n",
            "Epoch 130/150\n",
            " - 0s - loss: 43031.2188\n",
            "Epoch 131/150\n",
            " - 0s - loss: 43030.9766\n",
            "Epoch 132/150\n",
            " - 0s - loss: 43030.7383\n",
            "Epoch 133/150\n",
            " - 0s - loss: 43030.4844\n",
            "Epoch 134/150\n",
            " - 0s - loss: 43030.2500\n",
            "Epoch 135/150\n",
            " - 0s - loss: 43030.0078\n",
            "Epoch 136/150\n",
            " - 0s - loss: 43029.7617\n",
            "Epoch 137/150\n",
            " - 0s - loss: 43029.5195\n",
            "Epoch 138/150\n",
            " - 0s - loss: 43029.2695\n",
            "Epoch 139/150\n",
            " - 0s - loss: 43029.0273\n",
            "Epoch 140/150\n",
            " - 0s - loss: 43028.7930\n",
            "Epoch 141/150\n",
            " - 0s - loss: 43028.5430\n",
            "Epoch 142/150\n",
            " - 0s - loss: 43028.2930\n",
            "Epoch 143/150\n",
            " - 0s - loss: 43028.0586\n",
            "Epoch 144/150\n",
            " - 0s - loss: 43027.8086\n",
            "Epoch 145/150\n",
            " - 0s - loss: 43027.5781\n",
            "Epoch 146/150\n",
            " - 0s - loss: 43027.3242\n",
            "Epoch 147/150\n",
            " - 0s - loss: 43027.0820\n",
            "Epoch 148/150\n",
            " - 0s - loss: 43026.8438\n",
            "Epoch 149/150\n",
            " - 0s - loss: 43026.6016\n",
            "Epoch 150/150\n",
            " - 0s - loss: 43026.3555\n",
            "Model Fit Complete\n"
          ],
          "name": "stdout"
        }
      ]
    },
    {
      "cell_type": "code",
      "metadata": {
        "id": "g07f1lEGXu_T",
        "colab_type": "code",
        "colab": {
          "base_uri": "https://localhost:8080/",
          "height": 34
        },
        "outputId": "01258f91-b984-42e0-920e-36c868e7f3b2"
      },
      "source": [
        "# train fit performance\n",
        "trainPredict = seq_lstm_model.predict(train_x)\n",
        "trainScore = math.sqrt(mean_squared_error(train_y[0], trainPredict[0]))\n",
        "print('Train Score: %.2f RMSE' % (trainScore))"
      ],
      "execution_count": 38,
      "outputs": [
        {
          "output_type": "stream",
          "text": [
            "Train Score: 207.43 RMSE\n"
          ],
          "name": "stdout"
        }
      ]
    },
    {
      "cell_type": "code",
      "metadata": {
        "id": "ZW0LgTTSXyKR",
        "colab_type": "code",
        "colab": {}
      },
      "source": [
        "# Pad input sequence\n",
        "testPredict = pad_sequences(test_x,maxlen=train_x.shape[1],padding='post',dtype='float64')"
      ],
      "execution_count": 0,
      "outputs": []
    },
    {
      "cell_type": "code",
      "metadata": {
        "id": "XsR5ytjpX2yj",
        "colab_type": "code",
        "colab": {}
      },
      "source": [
        "# forecast values\n",
        "testPredict = seq_lstm_model.predict(testPredict)"
      ],
      "execution_count": 0,
      "outputs": []
    },
    {
      "cell_type": "code",
      "metadata": {
        "id": "z_XhF1MjX4gh",
        "colab_type": "code",
        "colab": {}
      },
      "source": [
        "# forecast values\n",
        "testPredict = seq_lstm_model.predict(testPredict)"
      ],
      "execution_count": 0,
      "outputs": []
    },
    {
      "cell_type": "code",
      "metadata": {
        "id": "zA7Aehl4X5ck",
        "colab_type": "code",
        "colab": {}
      },
      "source": [
        "# # inverse transformation\n",
        "# scaler = MinMaxScaler(feature_range=(0, 1))\n",
        "# trainPredict = scaler.inverse_transform(trainPredict.\\\n",
        "#                                         reshape(trainPredict.shape[1]))\n",
        "# testPredict = scaler.inverse_transform(testPredict.\\\n",
        "#                                         reshape(testPredict.shape[1]))\n",
        "\n",
        "trainPredict=trainPredict.reshape(trainPredict.shape[1])\n",
        "testPredict=testPredict.reshape(testPredict.shape[1])"
      ],
      "execution_count": 0,
      "outputs": []
    },
    {
      "cell_type": "code",
      "metadata": {
        "id": "7HRKCZ0WX9kC",
        "colab_type": "code",
        "colab": {
          "base_uri": "https://localhost:8080/",
          "height": 281
        },
        "outputId": "f99cb8b0-9f22-4801-acb8-af83596a59c2"
      },
      "source": [
        "# plot the true and forecasted values\n",
        "train_size = len(trainPredict)+1\n",
        "\n",
        "plt.plot(second_split.Close.index,\n",
        "          second_split.Close.values,c='black',\n",
        "          alpha=0.3,label='True Data')\n",
        "plt.plot(second_split.Close.index[1:train_size],\n",
        "          trainPredict,label='Training Fit',c='g')\n",
        "plt.plot(second_split.Close.index[train_size+1:],\n",
        "          testPredict[:test_x.shape[1]],label='Testing Forecast')\n",
        "plt.title('Forecast Plot')\n",
        "plt.legend()\n",
        "plt.show()"
      ],
      "execution_count": 64,
      "outputs": [
        {
          "output_type": "display_data",
          "data": {
            "image/png": "[encoded data removed]",
            "text/plain": [
              "<Figure size 432x288 with 1 Axes>"
            ]
          },
          "metadata": {
            "tags": []
          }
        }
      ]
    }
  ]
}