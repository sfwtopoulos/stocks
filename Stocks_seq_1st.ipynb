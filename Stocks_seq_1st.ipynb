{
  "nbformat": 4,
  "nbformat_minor": 0,
  "metadata": {
    "colab": {
      "name": "Stocks_seq_1st.ipynb",
      "provenance": [],
      "collapsed_sections": [],
      "include_colab_link": true
    },
    "kernelspec": {
      "name": "python3",
      "display_name": "Python 3"
    }
  },
  "cells": [
    {
      "cell_type": "markdown",
      "metadata": {
        "id": "view-in-github",
        "colab_type": "text"
      },
      "source": [
        "<a href=\"https://colab.research.google.com/github/sfwtopoulos/stocks/blob/master/Stocks_seq_1st.ipynb\" target=\"_parent\"><img src=\"https://colab.research.google.com/assets/colab-badge.svg\" alt=\"Open In Colab\"/></a>"
      ]
    },
    {
      "cell_type": "code",
      "metadata": {
        "id": "DOmxraS5T1wD",
        "colab_type": "code",
        "colab": {}
      },
      "source": [
        "import pandas as pd\n",
        "import matplotlib.pyplot as plt\n",
        "import pandas as pd\n",
        "import math\n",
        "import warnings\n",
        "import numpy as np\n",
        "import time\n",
        "\n",
        "import pandas_datareader as pdr\n",
        "#%tensorflow_version 2.x\n",
        "# Restart runtime using 'Runtime' -> 'Restart runtime...'\n",
        "%tensorflow_version 1.x\n",
        "import tensorflow as tf\n",
        "import keras\n",
        "\n",
        "\n",
        "from keras.layers import LSTM\n",
        "from keras.models import Sequential\n",
        "from keras.layers.wrappers import TimeDistributed\n",
        "from keras.layers.core import Dense, Activation, Dropout\n",
        "from keras.preprocessing.sequence import pad_sequences\n",
        "\n",
        "from sklearn.preprocessing import MinMaxScaler\n",
        "from sklearn.metrics import mean_squared_error\n",
        "import seaborn as sns\n",
        "import matplotlib.pyplot as plt\n",
        "\n",
        "warnings.filterwarnings('ignore',category=FutureWarning)\n",
        "warnings.filterwarnings('ignore', category=DeprecationWarning)"
      ],
      "execution_count": 0,
      "outputs": []
    },
    {
      "cell_type": "code",
      "metadata": {
        "id": "2byEjZdZVJrz",
        "colab_type": "code",
        "outputId": "af2f5afc-0a79-4177-c97e-0f5d257f55f0",
        "colab": {
          "base_uri": "https://localhost:8080/",
          "height": 51
        }
      },
      "source": [
        "print(keras.__version__)\n",
        "print(tf.__version__)\n",
        "#print(tensorflow.compat.v2.__version__)"
      ],
      "execution_count": 22,
      "outputs": [
        {
          "output_type": "stream",
          "text": [
            "2.2.5\n",
            "1.15.0\n"
          ],
          "name": "stdout"
        }
      ]
    },
    {
      "cell_type": "code",
      "metadata": {
        "id": "tVJdUlQJUDjY",
        "colab_type": "code",
        "colab": {}
      },
      "source": [
        "#Data import from git repo\n",
        "url = 'https://raw.githubusercontent.com/sfwtopoulos/stocks/master/stocks_dataset/combined.csv'\n",
        "#df1 = pd.read_csv(url, error_bad_lines=False)\n",
        "dfstocks = pd.read_csv(url, sep=',')"
      ],
      "execution_count": 0,
      "outputs": []
    },
    {
      "cell_type": "code",
      "metadata": {
        "id": "A1gYAB3OUECs",
        "colab_type": "code",
        "outputId": "792fe3e2-23e1-4457-c5e3-53b2c771283e",
        "colab": {
          "base_uri": "https://localhost:8080/",
          "height": 136
        }
      },
      "source": [
        "#fix column names\n",
        "dfstocks=dfstocks.rename({' AAPL':'Company', ' Close/Last':'Close', ' Volume':'Volume', ' Open':'Open', ' High':'High', ' Low':'Low'}, axis=1);\n",
        "for col in dfstocks.columns: \n",
        "    print(col) "
      ],
      "execution_count": 24,
      "outputs": [
        {
          "output_type": "stream",
          "text": [
            "Date\n",
            "Close\n",
            "Volume\n",
            "Open\n",
            "High\n",
            "Low\n",
            "Company\n"
          ],
          "name": "stdout"
        }
      ]
    },
    {
      "cell_type": "code",
      "metadata": {
        "id": "vlSTPXYHUHSB",
        "colab_type": "code",
        "colab": {}
      },
      "source": [
        "#drop $sign from values\n",
        "dfstocks.Close=dfstocks['Close'].astype(str)\n",
        "dfstocks.Close=dfstocks.Close.apply(lambda x: x.replace('$',''))\n",
        "dfstocks.Open=dfstocks['Open'].astype(str)\n",
        "dfstocks.Open=dfstocks.Open.apply(lambda x: x.replace('$',''))\n",
        "dfstocks.High=dfstocks['High'].astype(str)\n",
        "dfstocks.High=dfstocks.High.apply(lambda x: x.replace('$',''))\n",
        "dfstocks.Low=dfstocks['Low'].astype(str)\n",
        "dfstocks.Low=dfstocks.Low.apply(lambda x: x.replace('$',''))"
      ],
      "execution_count": 0,
      "outputs": []
    },
    {
      "cell_type": "code",
      "metadata": {
        "id": "F4cxCV_YUJGa",
        "colab_type": "code",
        "outputId": "454c78a9-e1f9-4c78-9b6e-4474c14a1561",
        "colab": {
          "base_uri": "https://localhost:8080/",
          "height": 34
        }
      },
      "source": [
        "#drop rows containing nan or header from the csv files\n",
        "dfstocks=dfstocks[~dfstocks.Low.str.contains(\"nan\")]\n",
        "dfstocks=dfstocks[~dfstocks.Low.str.contains(\"Low\")]\n",
        "dfstocks=dfstocks[~dfstocks.Low.str.contains(\"N/A\")]\n",
        "dfstocks=dfstocks[~dfstocks.Volume.str.contains(\"N/A\")]\n",
        "dfstocks.reset_index(drop=True, inplace=True)\n",
        "dfstocks.Date.count()"
      ],
      "execution_count": 26,
      "outputs": [
        {
          "output_type": "execute_result",
          "data": {
            "text/plain": [
              "229269"
            ]
          },
          "metadata": {
            "tags": []
          },
          "execution_count": 26
        }
      ]
    },
    {
      "cell_type": "code",
      "metadata": {
        "id": "te4JUA9lUL06",
        "colab_type": "code",
        "outputId": "6c8792ec-0434-4a2c-e699-633f7403d45e",
        "colab": {
          "base_uri": "https://localhost:8080/",
          "height": 419
        }
      },
      "source": [
        "#sort dataframe based on date and Company Name\n",
        "dfstocks = dfstocks.sort_values(['Date', 'Company'])\n",
        "dfstocks.head(100)"
      ],
      "execution_count": 27,
      "outputs": [
        {
          "output_type": "execute_result",
          "data": {
            "text/html": [
              "<div>\n",
              "<style scoped>\n",
              "    .dataframe tbody tr th:only-of-type {\n",
              "        vertical-align: middle;\n",
              "    }\n",
              "\n",
              "    .dataframe tbody tr th {\n",
              "        vertical-align: top;\n",
              "    }\n",
              "\n",
              "    .dataframe thead th {\n",
              "        text-align: right;\n",
              "    }\n",
              "</style>\n",
              "<table border=\"1\" class=\"dataframe\">\n",
              "  <thead>\n",
              "    <tr style=\"text-align: right;\">\n",
              "      <th></th>\n",
              "      <th>Date</th>\n",
              "      <th>Close</th>\n",
              "      <th>Volume</th>\n",
              "      <th>Open</th>\n",
              "      <th>High</th>\n",
              "      <th>Low</th>\n",
              "      <th>Company</th>\n",
              "    </tr>\n",
              "  </thead>\n",
              "  <tbody>\n",
              "    <tr>\n",
              "      <th>1761</th>\n",
              "      <td>01/02/2013</td>\n",
              "      <td>78.4328</td>\n",
              "      <td>139906732</td>\n",
              "      <td>79.1171</td>\n",
              "      <td>79.2857</td>\n",
              "      <td>77.3757</td>\n",
              "      <td>AAPL</td>\n",
              "    </tr>\n",
              "    <tr>\n",
              "      <th>4248</th>\n",
              "      <td>01/02/2013</td>\n",
              "      <td>35.12</td>\n",
              "      <td>13767660</td>\n",
              "      <td>34.92</td>\n",
              "      <td>35.4</td>\n",
              "      <td>34.1</td>\n",
              "      <td>ABBV</td>\n",
              "    </tr>\n",
              "    <tr>\n",
              "      <th>6025</th>\n",
              "      <td>01/02/2013</td>\n",
              "      <td>32.05</td>\n",
              "      <td>20266410</td>\n",
              "      <td>32.3</td>\n",
              "      <td>32.45</td>\n",
              "      <td>31.64</td>\n",
              "      <td>ABT</td>\n",
              "    </tr>\n",
              "    <tr>\n",
              "      <th>8512</th>\n",
              "      <td>01/02/2013</td>\n",
              "      <td>69.06</td>\n",
              "      <td>4039095</td>\n",
              "      <td>67.59</td>\n",
              "      <td>69.06</td>\n",
              "      <td>67.55</td>\n",
              "      <td>ACN</td>\n",
              "    </tr>\n",
              "    <tr>\n",
              "      <th>10999</th>\n",
              "      <td>01/02/2013</td>\n",
              "      <td>38.34</td>\n",
              "      <td>6483720</td>\n",
              "      <td>37.92</td>\n",
              "      <td>38.73</td>\n",
              "      <td>37.92</td>\n",
              "      <td>ADBE</td>\n",
              "    </tr>\n",
              "    <tr>\n",
              "      <th>...</th>\n",
              "      <td>...</td>\n",
              "      <td>...</td>\n",
              "      <td>...</td>\n",
              "      <td>...</td>\n",
              "      <td>...</td>\n",
              "      <td>...</td>\n",
              "      <td>...</td>\n",
              "    </tr>\n",
              "    <tr>\n",
              "      <th>10747</th>\n",
              "      <td>01/02/2014</td>\n",
              "      <td>59.29</td>\n",
              "      <td>2745895</td>\n",
              "      <td>59.06</td>\n",
              "      <td>59.53</td>\n",
              "      <td>58.94</td>\n",
              "      <td>ADBE</td>\n",
              "    </tr>\n",
              "    <tr>\n",
              "      <th>13234</th>\n",
              "      <td>01/02/2014</td>\n",
              "      <td>168.05</td>\n",
              "      <td>1268722</td>\n",
              "      <td>167.33</td>\n",
              "      <td>170.71</td>\n",
              "      <td>166.5937</td>\n",
              "      <td>AGN</td>\n",
              "    </tr>\n",
              "    <tr>\n",
              "      <th>15721</th>\n",
              "      <td>01/02/2014</td>\n",
              "      <td>50.71</td>\n",
              "      <td>9196092</td>\n",
              "      <td>50.81</td>\n",
              "      <td>51.3</td>\n",
              "      <td>50.47</td>\n",
              "      <td>AIG</td>\n",
              "    </tr>\n",
              "    <tr>\n",
              "      <th>18208</th>\n",
              "      <td>01/02/2014</td>\n",
              "      <td>53.55</td>\n",
              "      <td>1909106</td>\n",
              "      <td>54.09</td>\n",
              "      <td>54.45</td>\n",
              "      <td>53.5</td>\n",
              "      <td>ALL</td>\n",
              "    </tr>\n",
              "    <tr>\n",
              "      <th>20695</th>\n",
              "      <td>01/02/2014</td>\n",
              "      <td>115.795</td>\n",
              "      <td>2528751</td>\n",
              "      <td>114.36</td>\n",
              "      <td>116.19</td>\n",
              "      <td>114.06</td>\n",
              "      <td>AMGN</td>\n",
              "    </tr>\n",
              "  </tbody>\n",
              "</table>\n",
              "<p>100 rows × 7 columns</p>\n",
              "</div>"
            ],
            "text/plain": [
              "             Date     Close      Volume      Open      High        Low Company\n",
              "1761   01/02/2013   78.4328   139906732   79.1171   79.2857    77.3757    AAPL\n",
              "4248   01/02/2013     35.12    13767660     34.92      35.4       34.1    ABBV\n",
              "6025   01/02/2013     32.05    20266410      32.3     32.45      31.64     ABT\n",
              "8512   01/02/2013     69.06     4039095     67.59     69.06      67.55     ACN\n",
              "10999  01/02/2013     38.34     6483720     37.92     38.73      37.92    ADBE\n",
              "...           ...       ...         ...       ...       ...        ...     ...\n",
              "10747  01/02/2014     59.29     2745895     59.06     59.53      58.94    ADBE\n",
              "13234  01/02/2014    168.05     1268722    167.33    170.71   166.5937     AGN\n",
              "15721  01/02/2014     50.71     9196092     50.81      51.3      50.47     AIG\n",
              "18208  01/02/2014     53.55     1909106     54.09     54.45       53.5     ALL\n",
              "20695  01/02/2014   115.795     2528751    114.36    116.19     114.06    AMGN\n",
              "\n",
              "[100 rows x 7 columns]"
            ]
          },
          "metadata": {
            "tags": []
          },
          "execution_count": 27
        }
      ]
    },
    {
      "cell_type": "code",
      "metadata": {
        "id": "SvGv9U_NHZcv",
        "colab_type": "code",
        "outputId": "e705480a-3ec6-4bfb-a8fc-6228a601c96e",
        "colab": {
          "base_uri": "https://localhost:8080/",
          "height": 153
        }
      },
      "source": [
        "#Converting Datatypes\n",
        "dfstocks.Date=pd.to_datetime(dfstocks.Date)\n",
        "dfstocks.Close=pd.to_numeric(dfstocks.Close)\n",
        "dfstocks.Volume=pd.to_numeric(dfstocks.Volume)\n",
        "dfstocks.Open=pd.to_numeric(dfstocks.Open)\n",
        "dfstocks.High=pd.to_numeric(dfstocks.High)\n",
        "dfstocks.Low=pd.to_numeric(dfstocks.Low)\n",
        "dfstocks.dtypes"
      ],
      "execution_count": 28,
      "outputs": [
        {
          "output_type": "execute_result",
          "data": {
            "text/plain": [
              "Date       datetime64[ns]\n",
              "Close             float64\n",
              "Volume              int64\n",
              "Open              float64\n",
              "High              float64\n",
              "Low               float64\n",
              "Company            object\n",
              "dtype: object"
            ]
          },
          "metadata": {
            "tags": []
          },
          "execution_count": 28
        }
      ]
    },
    {
      "cell_type": "code",
      "metadata": {
        "id": "rsD9-1pONB6V",
        "colab_type": "code",
        "outputId": "b5bdd537-2170-4cd2-d648-68e902c08f12",
        "colab": {
          "base_uri": "https://localhost:8080/",
          "height": 34
        }
      },
      "source": [
        "#dfstocks[dfstocks['Company'].str.contains(\"AMZN\")]\n",
        "sub_split=dfstocks[dfstocks['Company'].str.contains(\"ABBV\")]\n",
        "sub_split.isnull().values.any()\n",
        "sub_split.isna().values.any()\n",
        "sub_split = sub_split.sort_values(['Date'])\n",
        "sub_split.reset_index(drop=True, inplace=True)\n",
        "sub_split.shape[0]"
      ],
      "execution_count": 29,
      "outputs": [
        {
          "output_type": "execute_result",
          "data": {
            "text/plain": [
              "1777"
            ]
          },
          "metadata": {
            "tags": []
          },
          "execution_count": 29
        }
      ]
    },
    {
      "cell_type": "code",
      "metadata": {
        "id": "te-gSnYPU0wX",
        "colab_type": "code",
        "outputId": "baae58d1-7f14-4974-ba65-bdebe56c9cf8",
        "colab": {
          "base_uri": "https://localhost:8080/",
          "height": 419
        }
      },
      "source": [
        "sub_split"
      ],
      "execution_count": 30,
      "outputs": [
        {
          "output_type": "execute_result",
          "data": {
            "text/html": [
              "<div>\n",
              "<style scoped>\n",
              "    .dataframe tbody tr th:only-of-type {\n",
              "        vertical-align: middle;\n",
              "    }\n",
              "\n",
              "    .dataframe tbody tr th {\n",
              "        vertical-align: top;\n",
              "    }\n",
              "\n",
              "    .dataframe thead th {\n",
              "        text-align: right;\n",
              "    }\n",
              "</style>\n",
              "<table border=\"1\" class=\"dataframe\">\n",
              "  <thead>\n",
              "    <tr style=\"text-align: right;\">\n",
              "      <th></th>\n",
              "      <th>Date</th>\n",
              "      <th>Close</th>\n",
              "      <th>Volume</th>\n",
              "      <th>Open</th>\n",
              "      <th>High</th>\n",
              "      <th>Low</th>\n",
              "      <th>Company</th>\n",
              "    </tr>\n",
              "  </thead>\n",
              "  <tbody>\n",
              "    <tr>\n",
              "      <th>0</th>\n",
              "      <td>2012-12-10</td>\n",
              "      <td>35.00</td>\n",
              "      <td>749378</td>\n",
              "      <td>37.00</td>\n",
              "      <td>37.00</td>\n",
              "      <td>34.91</td>\n",
              "      <td>ABBV</td>\n",
              "    </tr>\n",
              "    <tr>\n",
              "      <th>1</th>\n",
              "      <td>2012-12-11</td>\n",
              "      <td>35.32</td>\n",
              "      <td>1472086</td>\n",
              "      <td>35.05</td>\n",
              "      <td>35.69</td>\n",
              "      <td>34.95</td>\n",
              "      <td>ABBV</td>\n",
              "    </tr>\n",
              "    <tr>\n",
              "      <th>2</th>\n",
              "      <td>2012-12-12</td>\n",
              "      <td>33.36</td>\n",
              "      <td>2530442</td>\n",
              "      <td>35.25</td>\n",
              "      <td>35.25</td>\n",
              "      <td>33.09</td>\n",
              "      <td>ABBV</td>\n",
              "    </tr>\n",
              "    <tr>\n",
              "      <th>3</th>\n",
              "      <td>2012-12-13</td>\n",
              "      <td>33.80</td>\n",
              "      <td>4253303</td>\n",
              "      <td>33.50</td>\n",
              "      <td>34.24</td>\n",
              "      <td>32.61</td>\n",
              "      <td>ABBV</td>\n",
              "    </tr>\n",
              "    <tr>\n",
              "      <th>4</th>\n",
              "      <td>2012-12-14</td>\n",
              "      <td>33.00</td>\n",
              "      <td>4006673</td>\n",
              "      <td>33.90</td>\n",
              "      <td>34.08</td>\n",
              "      <td>32.65</td>\n",
              "      <td>ABBV</td>\n",
              "    </tr>\n",
              "    <tr>\n",
              "      <th>...</th>\n",
              "      <td>...</td>\n",
              "      <td>...</td>\n",
              "      <td>...</td>\n",
              "      <td>...</td>\n",
              "      <td>...</td>\n",
              "      <td>...</td>\n",
              "      <td>...</td>\n",
              "    </tr>\n",
              "    <tr>\n",
              "      <th>1772</th>\n",
              "      <td>2019-12-24</td>\n",
              "      <td>89.85</td>\n",
              "      <td>1798844</td>\n",
              "      <td>90.40</td>\n",
              "      <td>90.40</td>\n",
              "      <td>89.43</td>\n",
              "      <td>ABBV</td>\n",
              "    </tr>\n",
              "    <tr>\n",
              "      <th>1773</th>\n",
              "      <td>2019-12-26</td>\n",
              "      <td>89.83</td>\n",
              "      <td>4066926</td>\n",
              "      <td>90.20</td>\n",
              "      <td>90.72</td>\n",
              "      <td>89.45</td>\n",
              "      <td>ABBV</td>\n",
              "    </tr>\n",
              "    <tr>\n",
              "      <th>1774</th>\n",
              "      <td>2019-12-27</td>\n",
              "      <td>89.20</td>\n",
              "      <td>4087837</td>\n",
              "      <td>89.98</td>\n",
              "      <td>90.28</td>\n",
              "      <td>88.83</td>\n",
              "      <td>ABBV</td>\n",
              "    </tr>\n",
              "    <tr>\n",
              "      <th>1775</th>\n",
              "      <td>2019-12-30</td>\n",
              "      <td>88.52</td>\n",
              "      <td>7016346</td>\n",
              "      <td>89.22</td>\n",
              "      <td>89.73</td>\n",
              "      <td>88.16</td>\n",
              "      <td>ABBV</td>\n",
              "    </tr>\n",
              "    <tr>\n",
              "      <th>1776</th>\n",
              "      <td>2019-12-31</td>\n",
              "      <td>88.54</td>\n",
              "      <td>4702456</td>\n",
              "      <td>88.21</td>\n",
              "      <td>88.60</td>\n",
              "      <td>87.88</td>\n",
              "      <td>ABBV</td>\n",
              "    </tr>\n",
              "  </tbody>\n",
              "</table>\n",
              "<p>1777 rows × 7 columns</p>\n",
              "</div>"
            ],
            "text/plain": [
              "           Date  Close   Volume   Open   High    Low Company\n",
              "0    2012-12-10  35.00   749378  37.00  37.00  34.91    ABBV\n",
              "1    2012-12-11  35.32  1472086  35.05  35.69  34.95    ABBV\n",
              "2    2012-12-12  33.36  2530442  35.25  35.25  33.09    ABBV\n",
              "3    2012-12-13  33.80  4253303  33.50  34.24  32.61    ABBV\n",
              "4    2012-12-14  33.00  4006673  33.90  34.08  32.65    ABBV\n",
              "...         ...    ...      ...    ...    ...    ...     ...\n",
              "1772 2019-12-24  89.85  1798844  90.40  90.40  89.43    ABBV\n",
              "1773 2019-12-26  89.83  4066926  90.20  90.72  89.45    ABBV\n",
              "1774 2019-12-27  89.20  4087837  89.98  90.28  88.83    ABBV\n",
              "1775 2019-12-30  88.52  7016346  89.22  89.73  88.16    ABBV\n",
              "1776 2019-12-31  88.54  4702456  88.21  88.60  87.88    ABBV\n",
              "\n",
              "[1777 rows x 7 columns]"
            ]
          },
          "metadata": {
            "tags": []
          },
          "execution_count": 30
        }
      ]
    },
    {
      "cell_type": "code",
      "metadata": {
        "id": "wjwirxd4VutM",
        "colab_type": "code",
        "colab": {}
      },
      "source": [
        "# prepare training and testing data sets for LSTM based sequence modeling\n",
        "#def dimitris_function(time_series, scaling=True,split_ratio=0.9):\n",
        "def dimitris_function(time_series,split_ratio=0.9):\n",
        "\n",
        "    series1 = pd.Series(time_series[time_series.columns[0]])\n",
        "    series2 = pd.Series(time_series[time_series.columns[1]])\n",
        "\n",
        "    values1 = series1.values\n",
        "    values1 = values1.reshape((len(values1), 1))\n",
        "    values2 = series2.values\n",
        "    values2 = values2.reshape((len(values2), 1))\n",
        "\n",
        "    scaler1 = MinMaxScaler(feature_range=(0, 1))\n",
        "    time_series[\"scaled1\"] = scaler1.fit_transform(values1)\n",
        "    scaler2 = MinMaxScaler(feature_range=(0, 1))\n",
        "    time_series[\"scaled2\"]= scaler2.fit_transform(values2)\n",
        "\n",
        "\n",
        "    time_series = time_series[[\"scaled1\",\"scaled2\"]].values\n",
        "\n",
        "        \n",
        "    split_ratio = int(len(time_series) * split_ratio)\n",
        "\n",
        "    train = time_series[0:split_ratio]\n",
        "    test = time_series[split_ratio:len(time_series)]\n",
        "    \n",
        "    # return train,test,scaler1,scaler2\n",
        "    return train,test,scaler2\n"
      ],
      "execution_count": 0,
      "outputs": []
    },
    {
      "cell_type": "code",
      "metadata": {
        "id": "UN6DYJT7TXPb",
        "colab_type": "code",
        "colab": {}
      },
      "source": [
        "def get_seq_model(hidden_units=4,input_shape=(1,1)):\n",
        "    # create and fit the LSTM network\n",
        "    model = Sequential()\n",
        "    # samples*timesteps*features\n",
        "    # https://keras.io/getting-started/sequential-model-guide/\n",
        "    #relu_advanced=keras.activations.relu(x,)\n",
        "    model.add(LSTM(input_shape=input_shape,\n",
        "                   units = hidden_units,  \n",
        "   #                activation='relu',\n",
        "                   return_sequences=True\n",
        "    ))\n",
        "\n",
        "    # readout layer. TimeDistributedDense uses the same weights for all\n",
        "    # time steps.\n",
        "    # model.add(TimeDistributed(Dense(1))) #number of inputs in the 1st layer\n",
        "    model.add(TimeDistributed(Dense(2)))   \n",
        "    start = time.time()\n",
        "    \n",
        "    model.compile(loss=\"mse\", optimizer=\"rmsprop\")\n",
        "\n",
        "    print(\"> Compilation Time : \", time.time() - start)\n",
        "    print(model.summary())\n",
        "\n",
        "    return model"
      ],
      "execution_count": 0,
      "outputs": []
    },
    {
      "cell_type": "code",
      "metadata": {
        "id": "UiL73vb-dFsK",
        "colab_type": "code",
        "colab": {}
      },
      "source": [
        "# print(type(sub_split.Close))\n",
        "sub_split_date=sub_split[['Date']]\n",
        "sub_split=sub_split[['Volume', 'Close']]\n",
        "#sub_split.columns[1]"
      ],
      "execution_count": 0,
      "outputs": []
    },
    {
      "cell_type": "code",
      "metadata": {
        "id": "zeAENS4LVpDG",
        "colab_type": "code",
        "outputId": "992f5656-70a4-46e9-8f41-ec2601eb92d6",
        "colab": {
          "base_uri": "https://localhost:8080/",
          "height": 408
        }
      },
      "source": [
        "# split train and test datasets\n",
        "train,test,scaler_Close = dimitris_function(sub_split,split_ratio=0.7)\n",
        "\n",
        "#train\n",
        "print(len(train))\n",
        "print(train.shape[0])\n",
        "print(train.shape)\n",
        "print(test.shape)\n",
        "print(train)"
      ],
      "execution_count": 34,
      "outputs": [
        {
          "output_type": "stream",
          "text": [
            "1243\n",
            "1243\n",
            "(1243, 2)\n",
            "(534, 2)\n",
            "[[0.00378592 0.02217049]\n",
            " [0.00969972 0.02571777]\n",
            " [0.01836008 0.00399069]\n",
            " ...\n",
            " [0.04813477 0.69205188]\n",
            " [0.03067735 0.68861545]\n",
            " [0.03625402 0.68451391]]\n"
          ],
          "name": "stdout"
        },
        {
          "output_type": "stream",
          "text": [
            "/usr/local/lib/python3.6/dist-packages/ipykernel_launcher.py:12: SettingWithCopyWarning: \n",
            "A value is trying to be set on a copy of a slice from a DataFrame.\n",
            "Try using .loc[row_indexer,col_indexer] = value instead\n",
            "\n",
            "See the caveats in the documentation: http://pandas.pydata.org/pandas-docs/stable/user_guide/indexing.html#returning-a-view-versus-a-copy\n",
            "  if sys.path[0] == '':\n",
            "/usr/local/lib/python3.6/dist-packages/ipykernel_launcher.py:14: SettingWithCopyWarning: \n",
            "A value is trying to be set on a copy of a slice from a DataFrame.\n",
            "Try using .loc[row_indexer,col_indexer] = value instead\n",
            "\n",
            "See the caveats in the documentation: http://pandas.pydata.org/pandas-docs/stable/user_guide/indexing.html#returning-a-view-versus-a-copy\n",
            "  \n"
          ],
          "name": "stderr"
        }
      ]
    },
    {
      "cell_type": "code",
      "metadata": {
        "id": "uZG7396CWoy9",
        "colab_type": "code",
        "outputId": "3dc1f9e6-c228-4eb6-df38-babb20185f08",
        "colab": {
          "base_uri": "https://localhost:8080/",
          "height": 102
        }
      },
      "source": [
        "#We use numpy to reshape our time series into 3D tensors.\n",
        "train = np.reshape(train,(1,train.shape[0],2))\n",
        "test = np.reshape(test,(1,test.shape[0],2))\n",
        "\n",
        "train_x = train[:,:-1,:]\n",
        "train_y = train[:,1:,:]\n",
        "\n",
        "test_x = test[:,:-1,:]\n",
        "test_y = test[:,1:,:]\n",
        "\n",
        "print(\"Data Split Complete\")\n",
        "\n",
        "print(\"train_x shape={}\".format(train_x.shape))\n",
        "print(\"train_y shape={}\".format(train_y.shape))\n",
        "print(\"test_x shape={}\".format(test_x.shape))\n",
        "print(\"test_y shape={}\".format(test_y.shape))"
      ],
      "execution_count": 35,
      "outputs": [
        {
          "output_type": "stream",
          "text": [
            "Data Split Complete\n",
            "train_x shape=(1, 1242, 2)\n",
            "train_y shape=(1, 1242, 2)\n",
            "test_x shape=(1, 533, 2)\n",
            "test_y shape=(1, 533, 2)\n"
          ],
          "name": "stdout"
        }
      ]
    },
    {
      "cell_type": "code",
      "metadata": {
        "id": "DqTCq2NDTQFL",
        "colab_type": "code",
        "outputId": "12ea0039-87fa-4983-d413-28b77ac9c1d1",
        "colab": {
          "base_uri": "https://localhost:8080/",
          "height": 255
        }
      },
      "source": [
        "# build RNN model\n",
        "seq_lstm_model=None\n",
        "try:\n",
        "    seq_lstm_model = get_seq_model(input_shape=(train_x.shape[1],2))\n",
        "except:\n",
        "    print(\"Model Build Failed. Trying Again\")\n",
        "    seq_lstm_model = get_seq_model(input_shape=(train_x.shape[1],2))"
      ],
      "execution_count": 36,
      "outputs": [
        {
          "output_type": "stream",
          "text": [
            "> Compilation Time :  0.020964860916137695\n",
            "Model: \"sequential_2\"\n",
            "_________________________________________________________________\n",
            "Layer (type)                 Output Shape              Param #   \n",
            "=================================================================\n",
            "lstm_2 (LSTM)                (None, 1242, 4)           112       \n",
            "_________________________________________________________________\n",
            "time_distributed_2 (TimeDist (None, 1242, 2)           10        \n",
            "=================================================================\n",
            "Total params: 122\n",
            "Trainable params: 122\n",
            "Non-trainable params: 0\n",
            "_________________________________________________________________\n",
            "None\n"
          ],
          "name": "stdout"
        }
      ]
    },
    {
      "cell_type": "code",
      "metadata": {
        "id": "MdpHk3OJ22QD",
        "colab_type": "code",
        "outputId": "bf60278c-aa03-4894-e3d6-5b7d4d9e3180",
        "colab": {
          "base_uri": "https://localhost:8080/",
          "height": 136
        }
      },
      "source": [
        "train_y"
      ],
      "execution_count": 37,
      "outputs": [
        {
          "output_type": "execute_result",
          "data": {
            "text/plain": [
              "array([[[0.00969972, 0.02571777],\n",
              "        [0.01836008, 0.00399069],\n",
              "        [0.03245797, 0.0088682 ],\n",
              "        ...,\n",
              "        [0.04813477, 0.69205188],\n",
              "        [0.03067735, 0.68861545],\n",
              "        [0.03625402, 0.68451391]]])"
            ]
          },
          "metadata": {
            "tags": []
          },
          "execution_count": 37
        }
      ]
    },
    {
      "cell_type": "code",
      "metadata": {
        "id": "FnQs_OC6XsTz",
        "colab_type": "code",
        "outputId": "2c749dd0-07cd-4398-efe4-3a1134186d33",
        "colab": {
          "base_uri": "https://localhost:8080/",
          "height": 1000
        }
      },
      "source": [
        "# train the model\n",
        "seq_lstm_model.fit(train_x, train_y,\n",
        "                #epochs=20, batch_size=1,\n",
        "                epochs=250, batch_size=1,\n",
        "                verbose=1)\n",
        "print(\"Model Fit Complete\")"
      ],
      "execution_count": 38,
      "outputs": [
        {
          "output_type": "stream",
          "text": [
            "Epoch 1/250\n",
            "1/1 [==============================] - 1s 1s/step - loss: 0.0364\n",
            "Epoch 2/250\n",
            "1/1 [==============================] - 1s 677ms/step - loss: 0.0335\n",
            "Epoch 3/250\n",
            "1/1 [==============================] - 1s 720ms/step - loss: 0.0315\n",
            "Epoch 4/250\n",
            "1/1 [==============================] - 1s 678ms/step - loss: 0.0299\n",
            "Epoch 5/250\n",
            "1/1 [==============================] - 1s 665ms/step - loss: 0.0286\n",
            "Epoch 6/250\n",
            "1/1 [==============================] - 1s 670ms/step - loss: 0.0274\n",
            "Epoch 7/250\n",
            "1/1 [==============================] - 1s 681ms/step - loss: 0.0263\n",
            "Epoch 8/250\n",
            "1/1 [==============================] - 1s 651ms/step - loss: 0.0252\n",
            "Epoch 9/250\n",
            "1/1 [==============================] - 1s 668ms/step - loss: 0.0243\n",
            "Epoch 10/250\n",
            "1/1 [==============================] - 1s 645ms/step - loss: 0.0234\n",
            "Epoch 11/250\n",
            "1/1 [==============================] - 1s 644ms/step - loss: 0.0225\n",
            "Epoch 12/250\n",
            "1/1 [==============================] - 1s 670ms/step - loss: 0.0217\n",
            "Epoch 13/250\n",
            "1/1 [==============================] - 1s 677ms/step - loss: 0.0209\n",
            "Epoch 14/250\n",
            "1/1 [==============================] - 1s 663ms/step - loss: 0.0201\n",
            "Epoch 15/250\n",
            "1/1 [==============================] - 1s 649ms/step - loss: 0.0194\n",
            "Epoch 16/250\n",
            "1/1 [==============================] - 1s 614ms/step - loss: 0.0187\n",
            "Epoch 17/250\n",
            "1/1 [==============================] - 1s 627ms/step - loss: 0.0180\n",
            "Epoch 18/250\n",
            "1/1 [==============================] - 1s 621ms/step - loss: 0.0174\n",
            "Epoch 19/250\n",
            "1/1 [==============================] - 1s 663ms/step - loss: 0.0167\n",
            "Epoch 20/250\n",
            "1/1 [==============================] - 1s 657ms/step - loss: 0.0161\n",
            "Epoch 21/250\n",
            "1/1 [==============================] - 1s 614ms/step - loss: 0.0155\n",
            "Epoch 22/250\n",
            "1/1 [==============================] - 1s 662ms/step - loss: 0.0149\n",
            "Epoch 23/250\n",
            "1/1 [==============================] - 1s 662ms/step - loss: 0.0144\n",
            "Epoch 24/250\n",
            "1/1 [==============================] - 1s 615ms/step - loss: 0.0139\n",
            "Epoch 25/250\n",
            "1/1 [==============================] - 1s 605ms/step - loss: 0.0133\n",
            "Epoch 26/250\n",
            "1/1 [==============================] - 1s 682ms/step - loss: 0.0128\n",
            "Epoch 27/250\n",
            "1/1 [==============================] - 1s 648ms/step - loss: 0.0124\n",
            "Epoch 28/250\n",
            "1/1 [==============================] - 1s 652ms/step - loss: 0.0119\n",
            "Epoch 29/250\n",
            "1/1 [==============================] - 1s 655ms/step - loss: 0.0115\n",
            "Epoch 30/250\n",
            "1/1 [==============================] - 1s 668ms/step - loss: 0.0110\n",
            "Epoch 31/250\n",
            "1/1 [==============================] - 1s 642ms/step - loss: 0.0106\n",
            "Epoch 32/250\n",
            "1/1 [==============================] - 1s 633ms/step - loss: 0.0103\n",
            "Epoch 33/250\n",
            "1/1 [==============================] - 1s 646ms/step - loss: 0.0099\n",
            "Epoch 34/250\n",
            "1/1 [==============================] - 1s 634ms/step - loss: 0.0096\n",
            "Epoch 35/250\n",
            "1/1 [==============================] - 1s 649ms/step - loss: 0.0092\n",
            "Epoch 36/250\n",
            "1/1 [==============================] - 1s 654ms/step - loss: 0.0089\n",
            "Epoch 37/250\n",
            "1/1 [==============================] - 1s 629ms/step - loss: 0.0086\n",
            "Epoch 38/250\n",
            "1/1 [==============================] - 1s 674ms/step - loss: 0.0084\n",
            "Epoch 39/250\n",
            "1/1 [==============================] - 1s 691ms/step - loss: 0.0081\n",
            "Epoch 40/250\n",
            "1/1 [==============================] - 1s 638ms/step - loss: 0.0079\n",
            "Epoch 41/250\n",
            "1/1 [==============================] - 1s 669ms/step - loss: 0.0077\n",
            "Epoch 42/250\n",
            "1/1 [==============================] - 1s 688ms/step - loss: 0.0075\n",
            "Epoch 43/250\n",
            "1/1 [==============================] - 1s 670ms/step - loss: 0.0073\n",
            "Epoch 44/250\n",
            "1/1 [==============================] - 1s 697ms/step - loss: 0.0071\n",
            "Epoch 45/250\n",
            "1/1 [==============================] - 1s 670ms/step - loss: 0.0069\n",
            "Epoch 46/250\n",
            "1/1 [==============================] - 1s 684ms/step - loss: 0.0068\n",
            "Epoch 47/250\n",
            "1/1 [==============================] - 1s 672ms/step - loss: 0.0067\n",
            "Epoch 48/250\n",
            "1/1 [==============================] - 1s 651ms/step - loss: 0.0065\n",
            "Epoch 49/250\n",
            "1/1 [==============================] - 1s 669ms/step - loss: 0.0064\n",
            "Epoch 50/250\n",
            "1/1 [==============================] - 1s 636ms/step - loss: 0.0063\n",
            "Epoch 51/250\n",
            "1/1 [==============================] - 1s 649ms/step - loss: 0.0062\n",
            "Epoch 52/250\n",
            "1/1 [==============================] - 1s 675ms/step - loss: 0.0061\n",
            "Epoch 53/250\n",
            "1/1 [==============================] - 1s 661ms/step - loss: 0.0061\n",
            "Epoch 54/250\n",
            "1/1 [==============================] - 1s 626ms/step - loss: 0.0060\n",
            "Epoch 55/250\n",
            "1/1 [==============================] - 1s 706ms/step - loss: 0.0059\n",
            "Epoch 56/250\n",
            "1/1 [==============================] - 1s 677ms/step - loss: 0.0058\n",
            "Epoch 57/250\n",
            "1/1 [==============================] - 1s 651ms/step - loss: 0.0058\n",
            "Epoch 58/250\n",
            "1/1 [==============================] - 1s 657ms/step - loss: 0.0057\n",
            "Epoch 59/250\n",
            "1/1 [==============================] - 1s 647ms/step - loss: 0.0057\n",
            "Epoch 60/250\n",
            "1/1 [==============================] - 1s 687ms/step - loss: 0.0056\n",
            "Epoch 61/250\n",
            "1/1 [==============================] - 1s 653ms/step - loss: 0.0055\n",
            "Epoch 62/250\n",
            "1/1 [==============================] - 1s 657ms/step - loss: 0.0055\n",
            "Epoch 63/250\n",
            "1/1 [==============================] - 1s 660ms/step - loss: 0.0054\n",
            "Epoch 64/250\n",
            "1/1 [==============================] - 1s 675ms/step - loss: 0.0054\n",
            "Epoch 65/250\n",
            "1/1 [==============================] - 1s 677ms/step - loss: 0.0053\n",
            "Epoch 66/250\n",
            "1/1 [==============================] - 1s 641ms/step - loss: 0.0052\n",
            "Epoch 67/250\n",
            "1/1 [==============================] - 1s 606ms/step - loss: 0.0052\n",
            "Epoch 68/250\n",
            "1/1 [==============================] - 1s 664ms/step - loss: 0.0051\n",
            "Epoch 69/250\n",
            "1/1 [==============================] - 1s 688ms/step - loss: 0.0051\n",
            "Epoch 70/250\n",
            "1/1 [==============================] - 1s 681ms/step - loss: 0.0050\n",
            "Epoch 71/250\n",
            "1/1 [==============================] - 1s 637ms/step - loss: 0.0049\n",
            "Epoch 72/250\n",
            "1/1 [==============================] - 1s 660ms/step - loss: 0.0049\n",
            "Epoch 73/250\n",
            "1/1 [==============================] - 1s 688ms/step - loss: 0.0048\n",
            "Epoch 74/250\n",
            "1/1 [==============================] - 1s 666ms/step - loss: 0.0047\n",
            "Epoch 75/250\n",
            "1/1 [==============================] - 1s 673ms/step - loss: 0.0046\n",
            "Epoch 76/250\n",
            "1/1 [==============================] - 1s 646ms/step - loss: 0.0046\n",
            "Epoch 77/250\n",
            "1/1 [==============================] - 1s 629ms/step - loss: 0.0045\n",
            "Epoch 78/250\n",
            "1/1 [==============================] - 1s 641ms/step - loss: 0.0044\n",
            "Epoch 79/250\n",
            "1/1 [==============================] - 1s 675ms/step - loss: 0.0044\n",
            "Epoch 80/250\n",
            "1/1 [==============================] - 1s 691ms/step - loss: 0.0043\n",
            "Epoch 81/250\n",
            "1/1 [==============================] - 1s 656ms/step - loss: 0.0042\n",
            "Epoch 82/250\n",
            "1/1 [==============================] - 1s 653ms/step - loss: 0.0041\n",
            "Epoch 83/250\n",
            "1/1 [==============================] - 1s 626ms/step - loss: 0.0040\n",
            "Epoch 84/250\n",
            "1/1 [==============================] - 1s 616ms/step - loss: 0.0040\n",
            "Epoch 85/250\n",
            "1/1 [==============================] - 1s 636ms/step - loss: 0.0039\n",
            "Epoch 86/250\n",
            "1/1 [==============================] - 1s 660ms/step - loss: 0.0038\n",
            "Epoch 87/250\n",
            "1/1 [==============================] - 1s 666ms/step - loss: 0.0037\n",
            "Epoch 88/250\n",
            "1/1 [==============================] - 1s 649ms/step - loss: 0.0037\n",
            "Epoch 89/250\n",
            "1/1 [==============================] - 1s 650ms/step - loss: 0.0036\n",
            "Epoch 90/250\n",
            "1/1 [==============================] - 1s 648ms/step - loss: 0.0035\n",
            "Epoch 91/250\n",
            "1/1 [==============================] - 1s 627ms/step - loss: 0.0034\n",
            "Epoch 92/250\n",
            "1/1 [==============================] - 1s 643ms/step - loss: 0.0033\n",
            "Epoch 93/250\n",
            "1/1 [==============================] - 1s 686ms/step - loss: 0.0033\n",
            "Epoch 94/250\n",
            "1/1 [==============================] - 1s 693ms/step - loss: 0.0032\n",
            "Epoch 95/250\n",
            "1/1 [==============================] - 1s 663ms/step - loss: 0.0031\n",
            "Epoch 96/250\n",
            "1/1 [==============================] - 1s 631ms/step - loss: 0.0030\n",
            "Epoch 97/250\n",
            "1/1 [==============================] - 1s 623ms/step - loss: 0.0030\n",
            "Epoch 98/250\n",
            "1/1 [==============================] - 1s 663ms/step - loss: 0.0029\n",
            "Epoch 99/250\n",
            "1/1 [==============================] - 1s 646ms/step - loss: 0.0028\n",
            "Epoch 100/250\n",
            "1/1 [==============================] - 1s 635ms/step - loss: 0.0028\n",
            "Epoch 101/250\n",
            "1/1 [==============================] - 1s 636ms/step - loss: 0.0027\n",
            "Epoch 102/250\n",
            "1/1 [==============================] - 1s 622ms/step - loss: 0.0026\n",
            "Epoch 103/250\n",
            "1/1 [==============================] - 1s 659ms/step - loss: 0.0026\n",
            "Epoch 104/250\n",
            "1/1 [==============================] - 1s 679ms/step - loss: 0.0025\n",
            "Epoch 105/250\n",
            "1/1 [==============================] - 1s 648ms/step - loss: 0.0025\n",
            "Epoch 106/250\n",
            "1/1 [==============================] - 1s 683ms/step - loss: 0.0024\n",
            "Epoch 107/250\n",
            "1/1 [==============================] - 1s 622ms/step - loss: 0.0024\n",
            "Epoch 108/250\n",
            "1/1 [==============================] - 1s 642ms/step - loss: 0.0023\n",
            "Epoch 109/250\n",
            "1/1 [==============================] - 1s 603ms/step - loss: 0.0023\n",
            "Epoch 110/250\n",
            "1/1 [==============================] - 1s 653ms/step - loss: 0.0023\n",
            "Epoch 111/250\n",
            "1/1 [==============================] - 1s 657ms/step - loss: 0.0022\n",
            "Epoch 112/250\n",
            "1/1 [==============================] - 1s 627ms/step - loss: 0.0022\n",
            "Epoch 113/250\n",
            "1/1 [==============================] - 1s 645ms/step - loss: 0.0022\n",
            "Epoch 114/250\n",
            "1/1 [==============================] - 1s 675ms/step - loss: 0.0021\n",
            "Epoch 115/250\n",
            "1/1 [==============================] - 1s 625ms/step - loss: 0.0021\n",
            "Epoch 116/250\n",
            "1/1 [==============================] - 1s 641ms/step - loss: 0.0021\n",
            "Epoch 117/250\n",
            "1/1 [==============================] - 1s 652ms/step - loss: 0.0021\n",
            "Epoch 118/250\n",
            "1/1 [==============================] - 1s 637ms/step - loss: 0.0020\n",
            "Epoch 119/250\n",
            "1/1 [==============================] - 1s 645ms/step - loss: 0.0020\n",
            "Epoch 120/250\n",
            "1/1 [==============================] - 1s 672ms/step - loss: 0.0020\n",
            "Epoch 121/250\n",
            "1/1 [==============================] - 1s 666ms/step - loss: 0.0020\n",
            "Epoch 122/250\n",
            "1/1 [==============================] - 1s 648ms/step - loss: 0.0020\n",
            "Epoch 123/250\n",
            "1/1 [==============================] - 1s 634ms/step - loss: 0.0019\n",
            "Epoch 124/250\n",
            "1/1 [==============================] - 1s 646ms/step - loss: 0.0019\n",
            "Epoch 125/250\n",
            "1/1 [==============================] - 1s 638ms/step - loss: 0.0019\n",
            "Epoch 126/250\n",
            "1/1 [==============================] - 1s 671ms/step - loss: 0.0019\n",
            "Epoch 127/250\n",
            "1/1 [==============================] - 1s 655ms/step - loss: 0.0019\n",
            "Epoch 128/250\n",
            "1/1 [==============================] - 1s 625ms/step - loss: 0.0019\n",
            "Epoch 129/250\n",
            "1/1 [==============================] - 1s 646ms/step - loss: 0.0019\n",
            "Epoch 130/250\n",
            "1/1 [==============================] - 1s 660ms/step - loss: 0.0019\n",
            "Epoch 131/250\n",
            "1/1 [==============================] - 1s 678ms/step - loss: 0.0019\n",
            "Epoch 132/250\n",
            "1/1 [==============================] - 1s 666ms/step - loss: 0.0019\n",
            "Epoch 133/250\n",
            "1/1 [==============================] - 1s 656ms/step - loss: 0.0018\n",
            "Epoch 134/250\n",
            "1/1 [==============================] - 1s 668ms/step - loss: 0.0018\n",
            "Epoch 135/250\n",
            "1/1 [==============================] - 1s 675ms/step - loss: 0.0018\n",
            "Epoch 136/250\n",
            "1/1 [==============================] - 1s 664ms/step - loss: 0.0018\n",
            "Epoch 137/250\n",
            "1/1 [==============================] - 1s 691ms/step - loss: 0.0018\n",
            "Epoch 138/250\n",
            "1/1 [==============================] - 1s 676ms/step - loss: 0.0018\n",
            "Epoch 139/250\n",
            "1/1 [==============================] - 1s 646ms/step - loss: 0.0018\n",
            "Epoch 140/250\n",
            "1/1 [==============================] - 1s 657ms/step - loss: 0.0018\n",
            "Epoch 141/250\n",
            "1/1 [==============================] - 1s 666ms/step - loss: 0.0018\n",
            "Epoch 142/250\n",
            "1/1 [==============================] - 1s 638ms/step - loss: 0.0018\n",
            "Epoch 143/250\n",
            "1/1 [==============================] - 1s 639ms/step - loss: 0.0018\n",
            "Epoch 144/250\n",
            "1/1 [==============================] - 1s 640ms/step - loss: 0.0018\n",
            "Epoch 145/250\n",
            "1/1 [==============================] - 1s 670ms/step - loss: 0.0018\n",
            "Epoch 146/250\n",
            "1/1 [==============================] - 1s 662ms/step - loss: 0.0018\n",
            "Epoch 147/250\n",
            "1/1 [==============================] - 1s 687ms/step - loss: 0.0018\n",
            "Epoch 148/250\n",
            "1/1 [==============================] - 1s 658ms/step - loss: 0.0017\n",
            "Epoch 149/250\n",
            "1/1 [==============================] - 1s 614ms/step - loss: 0.0017\n",
            "Epoch 150/250\n",
            "1/1 [==============================] - 1s 643ms/step - loss: 0.0017\n",
            "Epoch 151/250\n",
            "1/1 [==============================] - 1s 681ms/step - loss: 0.0017\n",
            "Epoch 152/250\n",
            "1/1 [==============================] - 1s 655ms/step - loss: 0.0017\n",
            "Epoch 153/250\n",
            "1/1 [==============================] - 1s 619ms/step - loss: 0.0017\n",
            "Epoch 154/250\n",
            "1/1 [==============================] - 1s 674ms/step - loss: 0.0017\n",
            "Epoch 155/250\n",
            "1/1 [==============================] - 1s 659ms/step - loss: 0.0017\n",
            "Epoch 156/250\n",
            "1/1 [==============================] - 1s 675ms/step - loss: 0.0017\n",
            "Epoch 157/250\n",
            "1/1 [==============================] - 1s 670ms/step - loss: 0.0017\n",
            "Epoch 158/250\n",
            "1/1 [==============================] - 1s 639ms/step - loss: 0.0017\n",
            "Epoch 159/250\n",
            "1/1 [==============================] - 1s 620ms/step - loss: 0.0017\n",
            "Epoch 160/250\n",
            "1/1 [==============================] - 1s 674ms/step - loss: 0.0017\n",
            "Epoch 161/250\n",
            "1/1 [==============================] - 1s 688ms/step - loss: 0.0017\n",
            "Epoch 162/250\n",
            "1/1 [==============================] - 1s 639ms/step - loss: 0.0017\n",
            "Epoch 163/250\n",
            "1/1 [==============================] - 1s 624ms/step - loss: 0.0017\n",
            "Epoch 164/250\n",
            "1/1 [==============================] - 1s 672ms/step - loss: 0.0017\n",
            "Epoch 165/250\n",
            "1/1 [==============================] - 1s 640ms/step - loss: 0.0017\n",
            "Epoch 166/250\n",
            "1/1 [==============================] - 1s 660ms/step - loss: 0.0017\n",
            "Epoch 167/250\n",
            "1/1 [==============================] - 1s 667ms/step - loss: 0.0016\n",
            "Epoch 168/250\n",
            "1/1 [==============================] - 1s 631ms/step - loss: 0.0016\n",
            "Epoch 169/250\n",
            "1/1 [==============================] - 1s 651ms/step - loss: 0.0016\n",
            "Epoch 170/250\n",
            "1/1 [==============================] - 1s 645ms/step - loss: 0.0016\n",
            "Epoch 171/250\n",
            "1/1 [==============================] - 1s 692ms/step - loss: 0.0016\n",
            "Epoch 172/250\n",
            "1/1 [==============================] - 1s 672ms/step - loss: 0.0016\n",
            "Epoch 173/250\n",
            "1/1 [==============================] - 1s 664ms/step - loss: 0.0016\n",
            "Epoch 174/250\n",
            "1/1 [==============================] - 1s 636ms/step - loss: 0.0016\n",
            "Epoch 175/250\n",
            "1/1 [==============================] - 1s 620ms/step - loss: 0.0016\n",
            "Epoch 176/250\n",
            "1/1 [==============================] - 1s 624ms/step - loss: 0.0016\n",
            "Epoch 177/250\n",
            "1/1 [==============================] - 1s 635ms/step - loss: 0.0016\n",
            "Epoch 178/250\n",
            "1/1 [==============================] - 1s 650ms/step - loss: 0.0016\n",
            "Epoch 179/250\n",
            "1/1 [==============================] - 1s 678ms/step - loss: 0.0016\n",
            "Epoch 180/250\n",
            "1/1 [==============================] - 1s 647ms/step - loss: 0.0016\n",
            "Epoch 181/250\n",
            "1/1 [==============================] - 1s 686ms/step - loss: 0.0016\n",
            "Epoch 182/250\n",
            "1/1 [==============================] - 1s 611ms/step - loss: 0.0016\n",
            "Epoch 183/250\n",
            "1/1 [==============================] - 1s 631ms/step - loss: 0.0016\n",
            "Epoch 184/250\n",
            "1/1 [==============================] - 1s 660ms/step - loss: 0.0016\n",
            "Epoch 185/250\n",
            "1/1 [==============================] - 1s 684ms/step - loss: 0.0016\n",
            "Epoch 186/250\n",
            "1/1 [==============================] - 1s 656ms/step - loss: 0.0016\n",
            "Epoch 187/250\n",
            "1/1 [==============================] - 1s 662ms/step - loss: 0.0016\n",
            "Epoch 188/250\n",
            "1/1 [==============================] - 1s 630ms/step - loss: 0.0016\n",
            "Epoch 189/250\n",
            "1/1 [==============================] - 1s 651ms/step - loss: 0.0016\n",
            "Epoch 190/250\n",
            "1/1 [==============================] - 1s 650ms/step - loss: 0.0016\n",
            "Epoch 191/250\n",
            "1/1 [==============================] - 1s 623ms/step - loss: 0.0016\n",
            "Epoch 192/250\n",
            "1/1 [==============================] - 1s 631ms/step - loss: 0.0016\n",
            "Epoch 193/250\n",
            "1/1 [==============================] - 1s 637ms/step - loss: 0.0015\n",
            "Epoch 194/250\n",
            "1/1 [==============================] - 1s 636ms/step - loss: 0.0015\n",
            "Epoch 195/250\n",
            "1/1 [==============================] - 1s 678ms/step - loss: 0.0015\n",
            "Epoch 196/250\n",
            "1/1 [==============================] - 1s 678ms/step - loss: 0.0015\n",
            "Epoch 197/250\n",
            "1/1 [==============================] - 1s 676ms/step - loss: 0.0015\n",
            "Epoch 198/250\n",
            "1/1 [==============================] - 1s 654ms/step - loss: 0.0015\n",
            "Epoch 199/250\n",
            "1/1 [==============================] - 1s 644ms/step - loss: 0.0015\n",
            "Epoch 200/250\n",
            "1/1 [==============================] - 1s 607ms/step - loss: 0.0015\n",
            "Epoch 201/250\n",
            "1/1 [==============================] - 1s 643ms/step - loss: 0.0015\n",
            "Epoch 202/250\n",
            "1/1 [==============================] - 1s 673ms/step - loss: 0.0015\n",
            "Epoch 203/250\n",
            "1/1 [==============================] - 1s 677ms/step - loss: 0.0015\n",
            "Epoch 204/250\n",
            "1/1 [==============================] - 1s 598ms/step - loss: 0.0015\n",
            "Epoch 205/250\n",
            "1/1 [==============================] - 1s 655ms/step - loss: 0.0015\n",
            "Epoch 206/250\n",
            "1/1 [==============================] - 1s 662ms/step - loss: 0.0015\n",
            "Epoch 207/250\n",
            "1/1 [==============================] - 1s 630ms/step - loss: 0.0015\n",
            "Epoch 208/250\n",
            "1/1 [==============================] - 1s 638ms/step - loss: 0.0015\n",
            "Epoch 209/250\n",
            "1/1 [==============================] - 1s 662ms/step - loss: 0.0015\n",
            "Epoch 210/250\n",
            "1/1 [==============================] - 1s 644ms/step - loss: 0.0015\n",
            "Epoch 211/250\n",
            "1/1 [==============================] - 1s 667ms/step - loss: 0.0015\n",
            "Epoch 212/250\n",
            "1/1 [==============================] - 1s 670ms/step - loss: 0.0015\n",
            "Epoch 213/250\n",
            "1/1 [==============================] - 1s 668ms/step - loss: 0.0015\n",
            "Epoch 214/250\n",
            "1/1 [==============================] - 1s 662ms/step - loss: 0.0015\n",
            "Epoch 215/250\n",
            "1/1 [==============================] - 1s 618ms/step - loss: 0.0015\n",
            "Epoch 216/250\n",
            "1/1 [==============================] - 1s 660ms/step - loss: 0.0015\n",
            "Epoch 217/250\n",
            "1/1 [==============================] - 1s 635ms/step - loss: 0.0015\n",
            "Epoch 218/250\n",
            "1/1 [==============================] - 1s 673ms/step - loss: 0.0015\n",
            "Epoch 219/250\n",
            "1/1 [==============================] - 1s 636ms/step - loss: 0.0015\n",
            "Epoch 220/250\n",
            "1/1 [==============================] - 1s 643ms/step - loss: 0.0015\n",
            "Epoch 221/250\n",
            "1/1 [==============================] - 1s 653ms/step - loss: 0.0015\n",
            "Epoch 222/250\n",
            "1/1 [==============================] - 1s 663ms/step - loss: 0.0015\n",
            "Epoch 223/250\n",
            "1/1 [==============================] - 1s 645ms/step - loss: 0.0015\n",
            "Epoch 224/250\n",
            "1/1 [==============================] - 1s 671ms/step - loss: 0.0015\n",
            "Epoch 225/250\n",
            "1/1 [==============================] - 1s 659ms/step - loss: 0.0015\n",
            "Epoch 226/250\n",
            "1/1 [==============================] - 1s 652ms/step - loss: 0.0015\n",
            "Epoch 227/250\n",
            "1/1 [==============================] - 1s 688ms/step - loss: 0.0015\n",
            "Epoch 228/250\n",
            "1/1 [==============================] - 1s 676ms/step - loss: 0.0015\n",
            "Epoch 229/250\n",
            "1/1 [==============================] - 1s 672ms/step - loss: 0.0014\n",
            "Epoch 230/250\n",
            "1/1 [==============================] - 1s 671ms/step - loss: 0.0014\n",
            "Epoch 231/250\n",
            "1/1 [==============================] - 1s 650ms/step - loss: 0.0014\n",
            "Epoch 232/250\n",
            "1/1 [==============================] - 1s 677ms/step - loss: 0.0014\n",
            "Epoch 233/250\n",
            "1/1 [==============================] - 1s 655ms/step - loss: 0.0014\n",
            "Epoch 234/250\n",
            "1/1 [==============================] - 1s 659ms/step - loss: 0.0014\n",
            "Epoch 235/250\n",
            "1/1 [==============================] - 1s 656ms/step - loss: 0.0014\n",
            "Epoch 236/250\n",
            "1/1 [==============================] - 1s 634ms/step - loss: 0.0014\n",
            "Epoch 237/250\n",
            "1/1 [==============================] - 1s 626ms/step - loss: 0.0014\n",
            "Epoch 238/250\n",
            "1/1 [==============================] - 1s 678ms/step - loss: 0.0014\n",
            "Epoch 239/250\n",
            "1/1 [==============================] - 1s 681ms/step - loss: 0.0014\n",
            "Epoch 240/250\n",
            "1/1 [==============================] - 1s 643ms/step - loss: 0.0014\n",
            "Epoch 241/250\n",
            "1/1 [==============================] - 1s 615ms/step - loss: 0.0014\n",
            "Epoch 242/250\n",
            "1/1 [==============================] - 1s 657ms/step - loss: 0.0014\n",
            "Epoch 243/250\n",
            "1/1 [==============================] - 1s 701ms/step - loss: 0.0014\n",
            "Epoch 244/250\n",
            "1/1 [==============================] - 1s 620ms/step - loss: 0.0014\n",
            "Epoch 245/250\n",
            "1/1 [==============================] - 1s 641ms/step - loss: 0.0014\n",
            "Epoch 246/250\n",
            "1/1 [==============================] - 1s 670ms/step - loss: 0.0014\n",
            "Epoch 247/250\n",
            "1/1 [==============================] - 1s 658ms/step - loss: 0.0014\n",
            "Epoch 248/250\n",
            "1/1 [==============================] - 1s 685ms/step - loss: 0.0014\n",
            "Epoch 249/250\n",
            "1/1 [==============================] - 1s 653ms/step - loss: 0.0014\n",
            "Epoch 250/250\n",
            "1/1 [==============================] - 1s 623ms/step - loss: 0.0014\n",
            "Model Fit Complete\n"
          ],
          "name": "stdout"
        }
      ]
    },
    {
      "cell_type": "code",
      "metadata": {
        "id": "g07f1lEGXu_T",
        "colab_type": "code",
        "outputId": "63cdc706-e6ab-4eb1-f8ce-1dac834268f9",
        "colab": {
          "base_uri": "https://localhost:8080/",
          "height": 34
        }
      },
      "source": [
        "# train fit performance\n",
        "trainPredict = seq_lstm_model.predict(train_x)\n",
        "trainScore = math.sqrt(mean_squared_error(train_y[0], trainPredict[0]))\n",
        "print('Train Score: %.2f RMSE' % (trainScore))"
      ],
      "execution_count": 39,
      "outputs": [
        {
          "output_type": "stream",
          "text": [
            "Train Score: 0.04 RMSE\n"
          ],
          "name": "stdout"
        }
      ]
    },
    {
      "cell_type": "code",
      "metadata": {
        "id": "URNrqwpl1SbQ",
        "colab_type": "code",
        "outputId": "258379f1-a593-4fb4-db68-c9aec45da095",
        "colab": {
          "base_uri": "https://localhost:8080/",
          "height": 136
        }
      },
      "source": [
        "trainPredict"
      ],
      "execution_count": 40,
      "outputs": [
        {
          "output_type": "execute_result",
          "data": {
            "text/plain": [
              "array([[[0.02194942, 0.02989032],\n",
              "        [0.02744323, 0.03029384],\n",
              "        [0.03179725, 0.02872419],\n",
              "        ...,\n",
              "        [0.0459342 , 0.6777052 ],\n",
              "        [0.0450471 , 0.6799429 ],\n",
              "        [0.04449835, 0.68184537]]], dtype=float32)"
            ]
          },
          "metadata": {
            "tags": []
          },
          "execution_count": 40
        }
      ]
    },
    {
      "cell_type": "code",
      "metadata": {
        "id": "ZW0LgTTSXyKR",
        "colab_type": "code",
        "colab": {}
      },
      "source": [
        "# Pad input sequence\n",
        "testPredict = pad_sequences(test_x,maxlen=train_x.shape[1],padding='post',dtype='float64')"
      ],
      "execution_count": 0,
      "outputs": []
    },
    {
      "cell_type": "code",
      "metadata": {
        "id": "XsR5ytjpX2yj",
        "colab_type": "code",
        "outputId": "fa7ce485-0a80-41fd-8733-e4ef5614004e",
        "colab": {
          "base_uri": "https://localhost:8080/",
          "height": 136
        }
      },
      "source": [
        "# forecast values\n",
        "testPredict = seq_lstm_model.predict(testPredict)\n",
        "testPredict"
      ],
      "execution_count": 42,
      "outputs": [
        {
          "output_type": "execute_result",
          "data": {
            "text/plain": [
              "array([[[ 0.03223204,  0.09129144],\n",
              "        [ 0.04433065,  0.15526147],\n",
              "        [ 0.05209483,  0.21580061],\n",
              "        ...,\n",
              "        [ 0.05116428, -0.00596672],\n",
              "        [ 0.05116428, -0.00596672],\n",
              "        [ 0.05116428, -0.00596672]]], dtype=float32)"
            ]
          },
          "metadata": {
            "tags": []
          },
          "execution_count": 42
        }
      ]
    },
    {
      "cell_type": "code",
      "metadata": {
        "id": "KvjYccaoN8hP",
        "colab_type": "code",
        "colab": {}
      },
      "source": [
        "#Drop all other variables except Close Price Output\n",
        "testPredict=np.delete(testPredict, 0, 2)\n",
        "trainPredict=np.delete(trainPredict, 0, 2)"
      ],
      "execution_count": 0,
      "outputs": []
    },
    {
      "cell_type": "code",
      "metadata": {
        "id": "EMtIMjJRE18q",
        "colab_type": "code",
        "outputId": "79b3aba8-d751-435e-c05d-e5716cf263dc",
        "colab": {
          "base_uri": "https://localhost:8080/",
          "height": 136
        }
      },
      "source": [
        "trainPredict\n"
      ],
      "execution_count": 44,
      "outputs": [
        {
          "output_type": "execute_result",
          "data": {
            "text/plain": [
              "array([[[0.02989032],\n",
              "        [0.03029384],\n",
              "        [0.02872419],\n",
              "        ...,\n",
              "        [0.6777052 ],\n",
              "        [0.6799429 ],\n",
              "        [0.68184537]]], dtype=float32)"
            ]
          },
          "metadata": {
            "tags": []
          },
          "execution_count": 44
        }
      ]
    },
    {
      "cell_type": "code",
      "metadata": {
        "id": "x_tNvtkz_f5X",
        "colab_type": "code",
        "outputId": "e6e0b071-eeb2-455f-9fba-26aa880d110d",
        "colab": {
          "base_uri": "https://localhost:8080/",
          "height": 34
        }
      },
      "source": [
        "type(testPredict)"
      ],
      "execution_count": 45,
      "outputs": [
        {
          "output_type": "execute_result",
          "data": {
            "text/plain": [
              "numpy.ndarray"
            ]
          },
          "metadata": {
            "tags": []
          },
          "execution_count": 45
        }
      ]
    },
    {
      "cell_type": "code",
      "metadata": {
        "id": "zA7Aehl4X5ck",
        "colab_type": "code",
        "colab": {}
      },
      "source": [
        "# # inverse transformation of the Close Price\n",
        "trainPredict = scaler_Close.inverse_transform(trainPredict.\\\n",
        "                                        reshape(-1,1))\n",
        "testPredict = scaler_Close.inverse_transform(testPredict.\\\n",
        "                                       reshape(-1,1))"
      ],
      "execution_count": 0,
      "outputs": []
    },
    {
      "cell_type": "code",
      "metadata": {
        "id": "x_nZ9samd1Rs",
        "colab_type": "code",
        "outputId": "335ed05c-688f-4ba6-91fc-67e13cf35a31",
        "colab": {
          "base_uri": "https://localhost:8080/",
          "height": 136
        }
      },
      "source": [
        "trainPredict"
      ],
      "execution_count": 47,
      "outputs": [
        {
          "output_type": "execute_result",
          "data": {
            "text/plain": [
              "array([[35.696407],\n",
              "       [35.732807],\n",
              "       [35.59121 ],\n",
              "       ...,\n",
              "       [94.13579 ],\n",
              "       [94.33765 ],\n",
              "       [94.50927 ]], dtype=float32)"
            ]
          },
          "metadata": {
            "tags": []
          },
          "execution_count": 47
        }
      ]
    },
    {
      "cell_type": "code",
      "metadata": {
        "id": "NRMR0WkN3XIh",
        "colab_type": "code",
        "outputId": "e9154d55-c4cd-42e4-e7f3-5cbb68f47189",
        "colab": {
          "base_uri": "https://localhost:8080/",
          "height": 607
        }
      },
      "source": [
        "# plot the true and forecasted values\n",
        "split_ratio = len(trainPredict)+1\n",
        "\n",
        "plt.plot(sub_split_date.Date,\n",
        "          sub_split.Close.values,c='black',\n",
        "          alpha=0.3,label='True Data')\n",
        "\n",
        "plt.plot(sub_split_date.Date[1:split_ratio],\n",
        "          trainPredict,label='Training Fit',c='g')\n",
        "\n",
        "plt.plot(sub_split_date.Date[split_ratio+1:],\n",
        "          testPredict[:test_x.shape[1]],label='Testing Forecast')\n",
        "plt.title('Forecast Plot')\n",
        "plt.legend()\n",
        "#plt.show()\n",
        "plt.rcParams[\"figure.figsize\"] = (20,10)\n",
        "plt.show()"
      ],
      "execution_count": 49,
      "outputs": [
        {
          "output_type": "display_data",
          "data": {
            "image/png": "[encoded data removed]",
            "text/plain": [
              "<Figure size 1440x720 with 1 Axes>"
            ]
          },
          "metadata": {
            "tags": []
          }
        }
      ]
    }
  ]
}