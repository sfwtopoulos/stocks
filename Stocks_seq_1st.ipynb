{
  "nbformat": 4,
  "nbformat_minor": 0,
  "metadata": {
    "colab": {
      "name": "Stocks_seq_1st.ipynb",
      "provenance": [],
      "collapsed_sections": [],
      "include_colab_link": true
    },
    "kernelspec": {
      "name": "python3",
      "display_name": "Python 3"
    }
  },
  "cells": [
    {
      "cell_type": "markdown",
      "metadata": {
        "id": "view-in-github",
        "colab_type": "text"
      },
      "source": [
        "<a href=\"https://colab.research.google.com/github/sfwtopoulos/stocks/blob/master/Stocks_seq_1st.ipynb\" target=\"_parent\"><img src=\"https://colab.research.google.com/assets/colab-badge.svg\" alt=\"Open In Colab\"/></a>"
      ]
    },
    {
      "cell_type": "code",
      "metadata": {
        "id": "DOmxraS5T1wD",
        "colab_type": "code",
        "colab": {}
      },
      "source": [
        "import pandas as pd\n",
        "import matplotlib.pyplot as plt\n",
        "import pandas as pd\n",
        "import math\n",
        "import warnings\n",
        "import numpy as np\n",
        "import time\n",
        "\n",
        "import pandas_datareader as pdr\n",
        "#%tensorflow_version 2.x\n",
        "# Restart runtime using 'Runtime' -> 'Restart runtime...'\n",
        "%tensorflow_version 1.x\n",
        "import tensorflow as tf\n",
        "import keras\n",
        "\n",
        "\n",
        "from keras.layers import LSTM\n",
        "from keras.models import Sequential\n",
        "from keras.layers.wrappers import TimeDistributed\n",
        "from keras.layers.core import Dense, Activation, Dropout\n",
        "from keras.preprocessing.sequence import pad_sequences\n",
        "\n",
        "from sklearn.preprocessing import MinMaxScaler\n",
        "from sklearn.metrics import mean_squared_error\n",
        "import seaborn as sns\n",
        "import matplotlib.pyplot as plt\n",
        "#not all needed\n",
        "\n",
        "\n",
        "warnings.filterwarnings('ignore',category=FutureWarning)\n",
        "warnings.filterwarnings('ignore', category=DeprecationWarning)"
      ],
      "execution_count": 0,
      "outputs": []
    },
    {
      "cell_type": "code",
      "metadata": {
        "id": "2byEjZdZVJrz",
        "colab_type": "code",
        "outputId": "5a656736-0237-414f-d897-7ad0fb3aa732",
        "colab": {
          "base_uri": "https://localhost:8080/",
          "height": 51
        }
      },
      "source": [
        "print(keras.__version__)\n",
        "print(tf.__version__)\n",
        "#print(tensorflow.compat.v2.__version__)"
      ],
      "execution_count": 166,
      "outputs": [
        {
          "output_type": "stream",
          "text": [
            "2.2.5\n",
            "1.15.0\n"
          ],
          "name": "stdout"
        }
      ]
    },
    {
      "cell_type": "code",
      "metadata": {
        "id": "tVJdUlQJUDjY",
        "colab_type": "code",
        "colab": {}
      },
      "source": [
        "#Data import from git repo\n",
        "url = 'https://raw.githubusercontent.com/sfwtopoulos/stocks/master/stocks_dataset/combined.csv'\n",
        "#df1 = pd.read_csv(url, error_bad_lines=False)\n",
        "dfstocks = pd.read_csv(url, sep=',')"
      ],
      "execution_count": 0,
      "outputs": []
    },
    {
      "cell_type": "code",
      "metadata": {
        "id": "A1gYAB3OUECs",
        "colab_type": "code",
        "outputId": "9bd097e3-0a87-41b6-f15e-1b9cef41e11c",
        "colab": {
          "base_uri": "https://localhost:8080/",
          "height": 136
        }
      },
      "source": [
        "#fix column names\n",
        "dfstocks=dfstocks.rename({' AAPL':'Company', ' Close/Last':'Close', ' Volume':'Volume', ' Open':'Open', ' High':'High', ' Low':'Low'}, axis=1);\n",
        "for col in dfstocks.columns: \n",
        "    print(col) "
      ],
      "execution_count": 168,
      "outputs": [
        {
          "output_type": "stream",
          "text": [
            "Date\n",
            "Close\n",
            "Volume\n",
            "Open\n",
            "High\n",
            "Low\n",
            "Company\n"
          ],
          "name": "stdout"
        }
      ]
    },
    {
      "cell_type": "code",
      "metadata": {
        "id": "vlSTPXYHUHSB",
        "colab_type": "code",
        "colab": {}
      },
      "source": [
        "#drop $sign from values\n",
        "dfstocks.Close=dfstocks['Close'].astype(str)\n",
        "dfstocks.Close=dfstocks.Close.apply(lambda x: x.replace('$',''))\n",
        "dfstocks.Open=dfstocks['Open'].astype(str)\n",
        "dfstocks.Open=dfstocks.Open.apply(lambda x: x.replace('$',''))\n",
        "dfstocks.High=dfstocks['High'].astype(str)\n",
        "dfstocks.High=dfstocks.High.apply(lambda x: x.replace('$',''))\n",
        "dfstocks.Low=dfstocks['Low'].astype(str)\n",
        "dfstocks.Low=dfstocks.Low.apply(lambda x: x.replace('$',''))"
      ],
      "execution_count": 0,
      "outputs": []
    },
    {
      "cell_type": "code",
      "metadata": {
        "id": "F4cxCV_YUJGa",
        "colab_type": "code",
        "outputId": "2a01a0a2-8cc4-496e-ca36-b1168ead2991",
        "colab": {
          "base_uri": "https://localhost:8080/",
          "height": 34
        }
      },
      "source": [
        "#drop rows containing nan or header from the csv files\n",
        "dfstocks=dfstocks[~dfstocks.Low.str.contains(\"nan\")]\n",
        "dfstocks=dfstocks[~dfstocks.Low.str.contains(\"Low\")]\n",
        "dfstocks=dfstocks[~dfstocks.Low.str.contains(\"N/A\")]\n",
        "dfstocks=dfstocks[~dfstocks.Volume.str.contains(\"N/A\")]\n",
        "dfstocks.reset_index(drop=True, inplace=True)\n",
        "dfstocks.Date.count()"
      ],
      "execution_count": 175,
      "outputs": [
        {
          "output_type": "execute_result",
          "data": {
            "text/plain": [
              "229269"
            ]
          },
          "metadata": {
            "tags": []
          },
          "execution_count": 175
        }
      ]
    },
    {
      "cell_type": "code",
      "metadata": {
        "id": "te4JUA9lUL06",
        "colab_type": "code",
        "outputId": "f706a67c-3de1-422f-83af-2689d529e7eb",
        "colab": {
          "base_uri": "https://localhost:8080/",
          "height": 419
        }
      },
      "source": [
        "#sort dataframe based on date and Company Name\n",
        "dfstocks = dfstocks.sort_values(['Date', 'Company'])\n",
        "dfstocks.head(100)"
      ],
      "execution_count": 176,
      "outputs": [
        {
          "output_type": "execute_result",
          "data": {
            "text/html": [
              "<div>\n",
              "<style scoped>\n",
              "    .dataframe tbody tr th:only-of-type {\n",
              "        vertical-align: middle;\n",
              "    }\n",
              "\n",
              "    .dataframe tbody tr th {\n",
              "        vertical-align: top;\n",
              "    }\n",
              "\n",
              "    .dataframe thead th {\n",
              "        text-align: right;\n",
              "    }\n",
              "</style>\n",
              "<table border=\"1\" class=\"dataframe\">\n",
              "  <thead>\n",
              "    <tr style=\"text-align: right;\">\n",
              "      <th></th>\n",
              "      <th>Date</th>\n",
              "      <th>Close</th>\n",
              "      <th>Volume</th>\n",
              "      <th>Open</th>\n",
              "      <th>High</th>\n",
              "      <th>Low</th>\n",
              "      <th>Company</th>\n",
              "    </tr>\n",
              "  </thead>\n",
              "  <tbody>\n",
              "    <tr>\n",
              "      <th>0</th>\n",
              "      <td>01/02/2013</td>\n",
              "      <td>78.4328</td>\n",
              "      <td>139906732</td>\n",
              "      <td>79.1171</td>\n",
              "      <td>79.2857</td>\n",
              "      <td>77.3757</td>\n",
              "      <td>AAPL</td>\n",
              "    </tr>\n",
              "    <tr>\n",
              "      <th>1</th>\n",
              "      <td>01/02/2013</td>\n",
              "      <td>35.1200</td>\n",
              "      <td>13767660</td>\n",
              "      <td>34.92</td>\n",
              "      <td>35.4</td>\n",
              "      <td>34.1</td>\n",
              "      <td>ABBV</td>\n",
              "    </tr>\n",
              "    <tr>\n",
              "      <th>2</th>\n",
              "      <td>01/02/2013</td>\n",
              "      <td>32.0500</td>\n",
              "      <td>20266410</td>\n",
              "      <td>32.3</td>\n",
              "      <td>32.45</td>\n",
              "      <td>31.64</td>\n",
              "      <td>ABT</td>\n",
              "    </tr>\n",
              "    <tr>\n",
              "      <th>3</th>\n",
              "      <td>01/02/2013</td>\n",
              "      <td>69.0600</td>\n",
              "      <td>4039095</td>\n",
              "      <td>67.59</td>\n",
              "      <td>69.06</td>\n",
              "      <td>67.55</td>\n",
              "      <td>ACN</td>\n",
              "    </tr>\n",
              "    <tr>\n",
              "      <th>4</th>\n",
              "      <td>01/02/2013</td>\n",
              "      <td>38.3400</td>\n",
              "      <td>6483720</td>\n",
              "      <td>37.92</td>\n",
              "      <td>38.73</td>\n",
              "      <td>37.92</td>\n",
              "      <td>ADBE</td>\n",
              "    </tr>\n",
              "    <tr>\n",
              "      <th>...</th>\n",
              "      <td>...</td>\n",
              "      <td>...</td>\n",
              "      <td>...</td>\n",
              "      <td>...</td>\n",
              "      <td>...</td>\n",
              "      <td>...</td>\n",
              "      <td>...</td>\n",
              "    </tr>\n",
              "    <tr>\n",
              "      <th>95</th>\n",
              "      <td>01/02/2014</td>\n",
              "      <td>59.2900</td>\n",
              "      <td>2745895</td>\n",
              "      <td>59.06</td>\n",
              "      <td>59.53</td>\n",
              "      <td>58.94</td>\n",
              "      <td>ADBE</td>\n",
              "    </tr>\n",
              "    <tr>\n",
              "      <th>96</th>\n",
              "      <td>01/02/2014</td>\n",
              "      <td>168.0500</td>\n",
              "      <td>1268722</td>\n",
              "      <td>167.33</td>\n",
              "      <td>170.71</td>\n",
              "      <td>166.5937</td>\n",
              "      <td>AGN</td>\n",
              "    </tr>\n",
              "    <tr>\n",
              "      <th>97</th>\n",
              "      <td>01/02/2014</td>\n",
              "      <td>50.7100</td>\n",
              "      <td>9196092</td>\n",
              "      <td>50.81</td>\n",
              "      <td>51.3</td>\n",
              "      <td>50.47</td>\n",
              "      <td>AIG</td>\n",
              "    </tr>\n",
              "    <tr>\n",
              "      <th>98</th>\n",
              "      <td>01/02/2014</td>\n",
              "      <td>53.5500</td>\n",
              "      <td>1909106</td>\n",
              "      <td>54.09</td>\n",
              "      <td>54.45</td>\n",
              "      <td>53.5</td>\n",
              "      <td>ALL</td>\n",
              "    </tr>\n",
              "    <tr>\n",
              "      <th>99</th>\n",
              "      <td>01/02/2014</td>\n",
              "      <td>115.7950</td>\n",
              "      <td>2528751</td>\n",
              "      <td>114.36</td>\n",
              "      <td>116.19</td>\n",
              "      <td>114.06</td>\n",
              "      <td>AMGN</td>\n",
              "    </tr>\n",
              "  </tbody>\n",
              "</table>\n",
              "<p>100 rows × 7 columns</p>\n",
              "</div>"
            ],
            "text/plain": [
              "          Date     Close      Volume      Open      High        Low Company\n",
              "0   01/02/2013   78.4328   139906732   79.1171   79.2857    77.3757    AAPL\n",
              "1   01/02/2013   35.1200    13767660     34.92      35.4       34.1    ABBV\n",
              "2   01/02/2013   32.0500    20266410      32.3     32.45      31.64     ABT\n",
              "3   01/02/2013   69.0600     4039095     67.59     69.06      67.55     ACN\n",
              "4   01/02/2013   38.3400     6483720     37.92     38.73      37.92    ADBE\n",
              "..         ...       ...         ...       ...       ...        ...     ...\n",
              "95  01/02/2014   59.2900     2745895     59.06     59.53      58.94    ADBE\n",
              "96  01/02/2014  168.0500     1268722    167.33    170.71   166.5937     AGN\n",
              "97  01/02/2014   50.7100     9196092     50.81      51.3      50.47     AIG\n",
              "98  01/02/2014   53.5500     1909106     54.09     54.45       53.5     ALL\n",
              "99  01/02/2014  115.7950     2528751    114.36    116.19     114.06    AMGN\n",
              "\n",
              "[100 rows x 7 columns]"
            ]
          },
          "metadata": {
            "tags": []
          },
          "execution_count": 176
        }
      ]
    },
    {
      "cell_type": "code",
      "metadata": {
        "id": "ORS6zOAhUMQ6",
        "colab_type": "code",
        "colab": {}
      },
      "source": [
        "#Test Split\n",
        "dfstocks_split = dfstocks.sample(frac=0.9998,random_state=200)\n",
        "second_split=dfstocks.drop(dfstocks_split.index)\n",
        "# second_split = second_split.reindex(index=second_split.Date(second_split.index.min(), \n",
        "#                                           second_split.index.max(), \n",
        "#                                           freq='D')).fillna(method='ffill')\n"
      ],
      "execution_count": 0,
      "outputs": []
    },
    {
      "cell_type": "code",
      "metadata": {
        "id": "SvGv9U_NHZcv",
        "colab_type": "code",
        "colab": {
          "base_uri": "https://localhost:8080/",
          "height": 153
        },
        "outputId": "e17f3155-91c8-4961-e35a-45c8d1e3ae64"
      },
      "source": [
        "#Converting Datatypes\n",
        "dfstocks.Date=pd.to_datetime(dfstocks.Date)\n",
        "dfstocks.Close=pd.to_numeric(dfstocks.Close)\n",
        "dfstocks.Volume=pd.to_numeric(dfstocks.Volume)\n",
        "dfstocks.Open=pd.to_numeric(dfstocks.Open)\n",
        "dfstocks.High=pd.to_numeric(dfstocks.High)\n",
        "dfstocks.Low=pd.to_numeric(dfstocks.Low)\n",
        "dfstocks.dtypes"
      ],
      "execution_count": 187,
      "outputs": [
        {
          "output_type": "execute_result",
          "data": {
            "text/plain": [
              "Date       datetime64[ns]\n",
              "Close             float64\n",
              "Volume              int64\n",
              "Open              float64\n",
              "High              float64\n",
              "Low               float64\n",
              "Company            object\n",
              "dtype: object"
            ]
          },
          "metadata": {
            "tags": []
          },
          "execution_count": 187
        }
      ]
    },
    {
      "cell_type": "code",
      "metadata": {
        "id": "rsD9-1pONB6V",
        "colab_type": "code",
        "colab": {
          "base_uri": "https://localhost:8080/",
          "height": 34
        },
        "outputId": "5c7d7cfe-c71e-4f2f-f522-8445a889f63e"
      },
      "source": [
        "#dfstocks[dfstocks['Company'].str.contains(\"AMZN\")]\n",
        "second_split=dfstocks[dfstocks['Company'].str.contains(\"AMZN\")]\n",
        "second_split.isnull().values.any()\n",
        "second_split.isna().values.any()\n",
        "second_split.reset_index(drop=True, inplace=True)\n",
        "second_split.shape[0]"
      ],
      "execution_count": 197,
      "outputs": [
        {
          "output_type": "execute_result",
          "data": {
            "text/plain": [
              "2487"
            ]
          },
          "metadata": {
            "tags": []
          },
          "execution_count": 197
        }
      ]
    },
    {
      "cell_type": "code",
      "metadata": {
        "id": "te-gSnYPU0wX",
        "colab_type": "code",
        "colab": {
          "base_uri": "https://localhost:8080/",
          "height": 419
        },
        "outputId": "0d8b3016-6cfa-4083-a061-8bbdcdc1d716"
      },
      "source": [
        "second_split"
      ],
      "execution_count": 198,
      "outputs": [
        {
          "output_type": "execute_result",
          "data": {
            "text/html": [
              "<div>\n",
              "<style scoped>\n",
              "    .dataframe tbody tr th:only-of-type {\n",
              "        vertical-align: middle;\n",
              "    }\n",
              "\n",
              "    .dataframe tbody tr th {\n",
              "        vertical-align: top;\n",
              "    }\n",
              "\n",
              "    .dataframe thead th {\n",
              "        text-align: right;\n",
              "    }\n",
              "</style>\n",
              "<table border=\"1\" class=\"dataframe\">\n",
              "  <thead>\n",
              "    <tr style=\"text-align: right;\">\n",
              "      <th></th>\n",
              "      <th>Date</th>\n",
              "      <th>Close</th>\n",
              "      <th>Volume</th>\n",
              "      <th>Open</th>\n",
              "      <th>High</th>\n",
              "      <th>Low</th>\n",
              "      <th>Company</th>\n",
              "    </tr>\n",
              "  </thead>\n",
              "  <tbody>\n",
              "    <tr>\n",
              "      <th>0</th>\n",
              "      <td>2013-01-02</td>\n",
              "      <td>257.31</td>\n",
              "      <td>3270560</td>\n",
              "      <td>256.08</td>\n",
              "      <td>258.0999</td>\n",
              "      <td>253.2600</td>\n",
              "      <td>AMZN</td>\n",
              "    </tr>\n",
              "    <tr>\n",
              "      <th>1</th>\n",
              "      <td>2014-01-02</td>\n",
              "      <td>397.97</td>\n",
              "      <td>2137807</td>\n",
              "      <td>398.80</td>\n",
              "      <td>399.3600</td>\n",
              "      <td>394.0200</td>\n",
              "      <td>AMZN</td>\n",
              "    </tr>\n",
              "    <tr>\n",
              "      <th>2</th>\n",
              "      <td>2015-01-02</td>\n",
              "      <td>308.52</td>\n",
              "      <td>2785167</td>\n",
              "      <td>312.58</td>\n",
              "      <td>314.7500</td>\n",
              "      <td>306.9601</td>\n",
              "      <td>AMZN</td>\n",
              "    </tr>\n",
              "    <tr>\n",
              "      <th>3</th>\n",
              "      <td>2018-01-02</td>\n",
              "      <td>1189.01</td>\n",
              "      <td>2673958</td>\n",
              "      <td>1172.00</td>\n",
              "      <td>1190.0000</td>\n",
              "      <td>1170.5100</td>\n",
              "      <td>AMZN</td>\n",
              "    </tr>\n",
              "    <tr>\n",
              "      <th>4</th>\n",
              "      <td>2019-01-02</td>\n",
              "      <td>1539.13</td>\n",
              "      <td>7871967</td>\n",
              "      <td>1465.20</td>\n",
              "      <td>1553.3600</td>\n",
              "      <td>1460.9300</td>\n",
              "      <td>AMZN</td>\n",
              "    </tr>\n",
              "    <tr>\n",
              "      <th>...</th>\n",
              "      <td>...</td>\n",
              "      <td>...</td>\n",
              "      <td>...</td>\n",
              "      <td>...</td>\n",
              "      <td>...</td>\n",
              "      <td>...</td>\n",
              "      <td>...</td>\n",
              "    </tr>\n",
              "    <tr>\n",
              "      <th>2482</th>\n",
              "      <td>2013-12-31</td>\n",
              "      <td>398.79</td>\n",
              "      <td>1996089</td>\n",
              "      <td>394.58</td>\n",
              "      <td>398.8300</td>\n",
              "      <td>393.8000</td>\n",
              "      <td>AMZN</td>\n",
              "    </tr>\n",
              "    <tr>\n",
              "      <th>2483</th>\n",
              "      <td>2014-12-31</td>\n",
              "      <td>310.35</td>\n",
              "      <td>2048676</td>\n",
              "      <td>311.55</td>\n",
              "      <td>312.9800</td>\n",
              "      <td>310.0100</td>\n",
              "      <td>AMZN</td>\n",
              "    </tr>\n",
              "    <tr>\n",
              "      <th>2484</th>\n",
              "      <td>2015-12-31</td>\n",
              "      <td>675.89</td>\n",
              "      <td>3745197</td>\n",
              "      <td>686.08</td>\n",
              "      <td>687.7500</td>\n",
              "      <td>675.8900</td>\n",
              "      <td>AMZN</td>\n",
              "    </tr>\n",
              "    <tr>\n",
              "      <th>2485</th>\n",
              "      <td>2018-12-31</td>\n",
              "      <td>1501.97</td>\n",
              "      <td>6941598</td>\n",
              "      <td>1510.80</td>\n",
              "      <td>1520.7600</td>\n",
              "      <td>1487.0000</td>\n",
              "      <td>AMZN</td>\n",
              "    </tr>\n",
              "    <tr>\n",
              "      <th>2486</th>\n",
              "      <td>2019-12-31</td>\n",
              "      <td>1847.84</td>\n",
              "      <td>2510380</td>\n",
              "      <td>1842.00</td>\n",
              "      <td>1853.2600</td>\n",
              "      <td>1832.2300</td>\n",
              "      <td>AMZN</td>\n",
              "    </tr>\n",
              "  </tbody>\n",
              "</table>\n",
              "<p>2487 rows × 7 columns</p>\n",
              "</div>"
            ],
            "text/plain": [
              "           Date    Close   Volume     Open       High        Low Company\n",
              "0    2013-01-02   257.31  3270560   256.08   258.0999   253.2600    AMZN\n",
              "1    2014-01-02   397.97  2137807   398.80   399.3600   394.0200    AMZN\n",
              "2    2015-01-02   308.52  2785167   312.58   314.7500   306.9601    AMZN\n",
              "3    2018-01-02  1189.01  2673958  1172.00  1190.0000  1170.5100    AMZN\n",
              "4    2019-01-02  1539.13  7871967  1465.20  1553.3600  1460.9300    AMZN\n",
              "...         ...      ...      ...      ...        ...        ...     ...\n",
              "2482 2013-12-31   398.79  1996089   394.58   398.8300   393.8000    AMZN\n",
              "2483 2014-12-31   310.35  2048676   311.55   312.9800   310.0100    AMZN\n",
              "2484 2015-12-31   675.89  3745197   686.08   687.7500   675.8900    AMZN\n",
              "2485 2018-12-31  1501.97  6941598  1510.80  1520.7600  1487.0000    AMZN\n",
              "2486 2019-12-31  1847.84  2510380  1842.00  1853.2600  1832.2300    AMZN\n",
              "\n",
              "[2487 rows x 7 columns]"
            ]
          },
          "metadata": {
            "tags": []
          },
          "execution_count": 198
        }
      ]
    },
    {
      "cell_type": "code",
      "metadata": {
        "id": "0behU6tsViUy",
        "colab_type": "code",
        "colab": {}
      },
      "source": [
        "TRAIN_PERCENT = 0.7\n",
        "#STOCK_INDEX = '^GSPC'\n",
        "VERBOSE=True"
      ],
      "execution_count": 0,
      "outputs": []
    },
    {
      "cell_type": "code",
      "metadata": {
        "id": "wjwirxd4VutM",
        "colab_type": "code",
        "colab": {}
      },
      "source": [
        "# prepare training and testing data sets for LSTM based sequence modeling\n",
        "#def get_seq_train_test(time_series, scaling=True,train_size=0.9):\n",
        "def get_seq_train_test(time_series,train_size=0.9):\n",
        "    # scaler = None\n",
        "    # if scaling:\n",
        "    #     scaler = MinMaxScaler(feature_range=(0, 1))\n",
        "    time_series = np.array(time_series).reshape(-1,1)\n",
        "    #     scaled_stock_series = scaler.fit_transform(time_series)\n",
        "    # else:\n",
        "    #     scaled_stock_series = time_series\n",
        "    scaled_stock_series = time_series\n",
        "        \n",
        "    #train_size = int(len(scaled_stock_series) * train_size)\n",
        "    train_size = int(len(time_series) * train_size)\n",
        "\n",
        "    #train = scaled_stock_series[0:train_size]\n",
        "    train = time_series[0:train_size]\n",
        "    #test = scaled_stock_series[train_size:len(scaled_stock_series)]\n",
        "    test = time_series[train_size:len(time_series)]\n",
        "    \n",
        "    return train,test \n"
      ],
      "execution_count": 0,
      "outputs": []
    },
    {
      "cell_type": "code",
      "metadata": {
        "id": "UN6DYJT7TXPb",
        "colab_type": "code",
        "colab": {}
      },
      "source": [
        "def get_seq_model(hidden_units=4,input_shape=(1,1),verbose=False):\n",
        "    # create and fit the LSTM network\n",
        "    model = Sequential()\n",
        "    # samples*timesteps*featuress\n",
        "\n",
        "    model.add(LSTM(input_shape=input_shape,\n",
        "                   units = hidden_units,\n",
        "                   return_sequences=True\n",
        "    ))\n",
        "\n",
        "    # readout layer. TimeDistributedDense uses the same weights for all\n",
        "    # time steps.\n",
        "    model.add(TimeDistributed(Dense(1)))\n",
        "    start = time.time()\n",
        "\n",
        "    model.compile(loss=\"mse\", optimizer=\"rmsprop\")\n",
        "\n",
        "    if verbose:\n",
        "        print(\"> Compilation Time : \", time.time() - start)\n",
        "        print(model.summary())\n",
        "\n",
        "    return model"
      ],
      "execution_count": 0,
      "outputs": []
    },
    {
      "cell_type": "code",
      "metadata": {
        "id": "zeAENS4LVpDG",
        "colab_type": "code",
        "outputId": "f7e9da3c-ca0c-4e2b-fab8-173d89e8f2da",
        "colab": {
          "base_uri": "https://localhost:8080/",
          "height": 85
        }
      },
      "source": [
        "# split train and test datasets\n",
        "train,test = get_seq_train_test(second_split.Close,\n",
        "#                                  scaling=True,\n",
        "                                   train_size=TRAIN_PERCENT)\n",
        "\n",
        "#train\n",
        "print(len(train))\n",
        "print(train.shape[0])\n",
        "print(train.shape)\n",
        "print(test.shape)"
      ],
      "execution_count": 202,
      "outputs": [
        {
          "output_type": "stream",
          "text": [
            "1740\n",
            "1740\n",
            "(1740, 1)\n",
            "(747, 1)\n"
          ],
          "name": "stdout"
        }
      ]
    },
    {
      "cell_type": "code",
      "metadata": {
        "id": "uZG7396CWoy9",
        "colab_type": "code",
        "outputId": "bae18457-afbb-401b-ec39-efd8c2ab5f3c",
        "colab": {
          "base_uri": "https://localhost:8080/",
          "height": 102
        }
      },
      "source": [
        "#We use numpy to reshape our time seriesinto 3D tensors.\n",
        "train = np.reshape(train,(1,train.shape[0],1))\n",
        "test = np.reshape(test,(1,test.shape[0],1))\n",
        "\n",
        "train_x = train[:,:-1,:]\n",
        "train_y = train[:,1:,:]\n",
        "\n",
        "test_x = test[:,:-1,:]\n",
        "test_y = test[:,1:,:]\n",
        "\n",
        "print(\"Data Split Complete\")\n",
        "\n",
        "print(\"train_x shape={}\".format(train_x.shape))\n",
        "print(\"train_y shape={}\".format(train_y.shape))\n",
        "print(\"test_x shape={}\".format(test_x.shape))\n",
        "print(\"test_y shape={}\".format(test_y.shape))"
      ],
      "execution_count": 203,
      "outputs": [
        {
          "output_type": "stream",
          "text": [
            "Data Split Complete\n",
            "train_x shape=(1, 1739, 1)\n",
            "train_y shape=(1, 1739, 1)\n",
            "test_x shape=(1, 746, 1)\n",
            "test_y shape=(1, 746, 1)\n"
          ],
          "name": "stdout"
        }
      ]
    },
    {
      "cell_type": "code",
      "metadata": {
        "id": "DqTCq2NDTQFL",
        "colab_type": "code",
        "colab": {
          "base_uri": "https://localhost:8080/",
          "height": 255
        },
        "outputId": "da2f2959-28da-40c5-ea03-54db2c7bedd6"
      },
      "source": [
        "# build RNN model\n",
        "seq_lstm_model=None\n",
        "try:\n",
        "    seq_lstm_model = get_seq_model(input_shape=(train_x.shape[1],1),\n",
        "                                                verbose=VERBOSE)\n",
        "except:\n",
        "    print(\"Model Build Failed. Trying Again\")\n",
        "    seq_lstm_model = get_seq_model(input_shape=(train_x.shape[1],1),\n",
        "                                                verbose=VERBOSE)"
      ],
      "execution_count": 204,
      "outputs": [
        {
          "output_type": "stream",
          "text": [
            "> Compilation Time :  0.01675248146057129\n",
            "Model: \"sequential_4\"\n",
            "_________________________________________________________________\n",
            "Layer (type)                 Output Shape              Param #   \n",
            "=================================================================\n",
            "lstm_4 (LSTM)                (None, 1739, 4)           96        \n",
            "_________________________________________________________________\n",
            "time_distributed_4 (TimeDist (None, 1739, 1)           5         \n",
            "=================================================================\n",
            "Total params: 101\n",
            "Trainable params: 101\n",
            "Non-trainable params: 0\n",
            "_________________________________________________________________\n",
            "None\n"
          ],
          "name": "stdout"
        }
      ]
    },
    {
      "cell_type": "code",
      "metadata": {
        "id": "FnQs_OC6XsTz",
        "colab_type": "code",
        "colab": {
          "base_uri": "https://localhost:8080/",
          "height": 1000
        },
        "outputId": "50245e6b-8ba6-4d2e-d966-b30acf6ddfaf"
      },
      "source": [
        "# train the model\n",
        "seq_lstm_model.fit(train_x, train_y,\n",
        "                epochs=150, batch_size=1,\n",
        "                verbose=2)\n",
        "print(\"Model Fit Complete\")"
      ],
      "execution_count": 205,
      "outputs": [
        {
          "output_type": "stream",
          "text": [
            "Epoch 1/150\n",
            " - 2s - loss: 783087.8750\n",
            "Epoch 2/150\n",
            " - 1s - loss: 783079.5000\n",
            "Epoch 3/150\n",
            " - 1s - loss: 783073.3750\n",
            "Epoch 4/150\n",
            " - 1s - loss: 783068.3750\n",
            "Epoch 5/150\n",
            " - 1s - loss: 783063.8125\n",
            "Epoch 6/150\n",
            " - 1s - loss: 783059.6250\n",
            "Epoch 7/150\n",
            " - 1s - loss: 783055.6875\n",
            "Epoch 8/150\n",
            " - 1s - loss: 783051.8125\n",
            "Epoch 9/150\n",
            " - 1s - loss: 783048.5625\n",
            "Epoch 10/150\n",
            " - 1s - loss: 783044.8750\n",
            "Epoch 11/150\n",
            " - 1s - loss: 780877.4375\n",
            "Epoch 12/150\n",
            " - 1s - loss: 780226.0000\n",
            "Epoch 13/150\n",
            " - 1s - loss: 780222.6875\n",
            "Epoch 14/150\n",
            " - 1s - loss: 780219.5625\n",
            "Epoch 15/150\n",
            " - 1s - loss: 780216.5000\n",
            "Epoch 16/150\n",
            " - 1s - loss: 780213.3750\n",
            "Epoch 17/150\n",
            " - 1s - loss: 780210.4375\n",
            "Epoch 18/150\n",
            " - 1s - loss: 780207.5625\n",
            "Epoch 19/150\n",
            " - 1s - loss: 780204.7500\n",
            "Epoch 20/150\n",
            " - 1s - loss: 780201.7500\n",
            "Epoch 21/150\n",
            " - 1s - loss: 780198.9375\n",
            "Epoch 22/150\n",
            " - 1s - loss: 780196.0000\n",
            "Epoch 23/150\n",
            " - 1s - loss: 780193.1875\n",
            "Epoch 24/150\n",
            " - 1s - loss: 780190.5625\n",
            "Epoch 25/150\n",
            " - 1s - loss: 780187.6250\n",
            "Epoch 26/150\n",
            " - 1s - loss: 780184.8125\n",
            "Epoch 27/150\n",
            " - 1s - loss: 780182.0625\n",
            "Epoch 28/150\n",
            " - 1s - loss: 780179.3125\n",
            "Epoch 29/150\n",
            " - 1s - loss: 780176.5000\n",
            "Epoch 30/150\n",
            " - 1s - loss: 780173.8125\n",
            "Epoch 31/150\n",
            " - 1s - loss: 780171.1875\n",
            "Epoch 32/150\n",
            " - 1s - loss: 780168.3750\n",
            "Epoch 33/150\n",
            " - 1s - loss: 780165.6875\n",
            "Epoch 34/150\n",
            " - 1s - loss: 780163.0625\n",
            "Epoch 35/150\n",
            " - 1s - loss: 780160.3125\n",
            "Epoch 36/150\n",
            " - 1s - loss: 780157.6250\n",
            "Epoch 37/150\n",
            " - 1s - loss: 780154.8750\n",
            "Epoch 38/150\n",
            " - 1s - loss: 780152.1250\n",
            "Epoch 39/150\n",
            " - 1s - loss: 780149.6250\n",
            "Epoch 40/150\n",
            " - 1s - loss: 780146.8750\n",
            "Epoch 41/150\n",
            " - 1s - loss: 780144.2500\n",
            "Epoch 42/150\n",
            " - 1s - loss: 780141.5000\n",
            "Epoch 43/150\n",
            " - 1s - loss: 780138.8125\n",
            "Epoch 44/150\n",
            " - 1s - loss: 780136.1250\n",
            "Epoch 45/150\n",
            " - 1s - loss: 780133.5000\n",
            "Epoch 46/150\n",
            " - 1s - loss: 780130.6875\n",
            "Epoch 47/150\n",
            " - 1s - loss: 780128.1250\n",
            "Epoch 48/150\n",
            " - 1s - loss: 780125.3750\n",
            "Epoch 49/150\n",
            " - 1s - loss: 780122.7500\n",
            "Epoch 50/150\n",
            " - 1s - loss: 780120.1250\n",
            "Epoch 51/150\n",
            " - 1s - loss: 780117.4375\n",
            "Epoch 52/150\n",
            " - 1s - loss: 780114.8750\n",
            "Epoch 53/150\n",
            " - 1s - loss: 780112.1875\n",
            "Epoch 54/150\n",
            " - 1s - loss: 780109.5625\n",
            "Epoch 55/150\n",
            " - 1s - loss: 780106.8125\n",
            "Epoch 56/150\n",
            " - 1s - loss: 780104.1250\n",
            "Epoch 57/150\n",
            " - 1s - loss: 780101.5000\n",
            "Epoch 58/150\n",
            " - 1s - loss: 780098.8125\n",
            "Epoch 59/150\n",
            " - 1s - loss: 780096.1875\n",
            "Epoch 60/150\n",
            " - 1s - loss: 780093.4375\n",
            "Epoch 61/150\n",
            " - 1s - loss: 780090.8750\n",
            "Epoch 62/150\n",
            " - 1s - loss: 780088.0625\n",
            "Epoch 63/150\n",
            " - 1s - loss: 780085.5000\n",
            "Epoch 64/150\n",
            " - 1s - loss: 780082.8750\n",
            "Epoch 65/150\n",
            " - 1s - loss: 780080.1250\n",
            "Epoch 66/150\n",
            " - 1s - loss: 780077.5000\n",
            "Epoch 67/150\n",
            " - 1s - loss: 780075.0000\n",
            "Epoch 68/150\n",
            " - 1s - loss: 780072.1250\n",
            "Epoch 69/150\n",
            " - 1s - loss: 780069.4375\n",
            "Epoch 70/150\n",
            " - 1s - loss: 780066.8125\n",
            "Epoch 71/150\n",
            " - 1s - loss: 780064.0625\n",
            "Epoch 72/150\n",
            " - 1s - loss: 780061.5625\n",
            "Epoch 73/150\n",
            " - 1s - loss: 780058.8750\n",
            "Epoch 74/150\n",
            " - 1s - loss: 780056.0625\n",
            "Epoch 75/150\n",
            " - 1s - loss: 780053.6250\n",
            "Epoch 76/150\n",
            " - 1s - loss: 780051.0000\n",
            "Epoch 77/150\n",
            " - 1s - loss: 780048.3125\n",
            "Epoch 78/150\n",
            " - 1s - loss: 780045.6250\n",
            "Epoch 79/150\n",
            " - 1s - loss: 780042.8750\n",
            "Epoch 80/150\n",
            " - 1s - loss: 780040.3125\n",
            "Epoch 81/150\n",
            " - 1s - loss: 780037.6875\n",
            "Epoch 82/150\n",
            " - 1s - loss: 780035.0000\n",
            "Epoch 83/150\n",
            " - 1s - loss: 780032.2500\n",
            "Epoch 84/150\n",
            " - 1s - loss: 780029.5625\n",
            "Epoch 85/150\n",
            " - 1s - loss: 780026.8750\n",
            "Epoch 86/150\n",
            " - 1s - loss: 780024.2500\n",
            "Epoch 87/150\n",
            " - 1s - loss: 780021.6875\n",
            "Epoch 88/150\n",
            " - 1s - loss: 780019.0000\n",
            "Epoch 89/150\n",
            " - 1s - loss: 780016.1875\n",
            "Epoch 90/150\n",
            " - 1s - loss: 780013.7500\n",
            "Epoch 91/150\n",
            " - 1s - loss: 780011.0000\n",
            "Epoch 92/150\n",
            " - 1s - loss: 780008.4375\n",
            "Epoch 93/150\n",
            " - 1s - loss: 780005.8125\n",
            "Epoch 94/150\n",
            " - 1s - loss: 780003.1250\n",
            "Epoch 95/150\n",
            " - 1s - loss: 780000.3750\n",
            "Epoch 96/150\n",
            " - 1s - loss: 779997.6875\n",
            "Epoch 97/150\n",
            " - 1s - loss: 779995.0000\n",
            "Epoch 98/150\n",
            " - 1s - loss: 779992.3750\n",
            "Epoch 99/150\n",
            " - 1s - loss: 779989.7500\n",
            "Epoch 100/150\n",
            " - 1s - loss: 779986.9375\n",
            "Epoch 101/150\n",
            " - 1s - loss: 779984.3750\n",
            "Epoch 102/150\n",
            " - 1s - loss: 779981.5625\n",
            "Epoch 103/150\n",
            " - 1s - loss: 779979.0625\n",
            "Epoch 104/150\n",
            " - 1s - loss: 779976.2500\n",
            "Epoch 105/150\n",
            " - 1s - loss: 779973.7500\n",
            "Epoch 106/150\n",
            " - 1s - loss: 779971.1250\n",
            "Epoch 107/150\n",
            " - 1s - loss: 779968.3750\n",
            "Epoch 108/150\n",
            " - 1s - loss: 779965.8125\n",
            "Epoch 109/150\n",
            " - 1s - loss: 779963.1250\n",
            "Epoch 110/150\n",
            " - 1s - loss: 779960.3750\n",
            "Epoch 111/150\n",
            " - 1s - loss: 779957.8125\n",
            "Epoch 112/150\n",
            " - 1s - loss: 779955.1250\n",
            "Epoch 113/150\n",
            " - 1s - loss: 779952.5000\n",
            "Epoch 114/150\n",
            " - 1s - loss: 779949.8125\n",
            "Epoch 115/150\n",
            " - 1s - loss: 779947.1250\n",
            "Epoch 116/150\n",
            " - 1s - loss: 779944.6250\n",
            "Epoch 117/150\n",
            " - 1s - loss: 779941.8125\n",
            "Epoch 118/150\n",
            " - 1s - loss: 779939.1875\n",
            "Epoch 119/150\n",
            " - 1s - loss: 779936.5625\n",
            "Epoch 120/150\n",
            " - 1s - loss: 779933.8750\n",
            "Epoch 121/150\n",
            " - 1s - loss: 779931.2500\n",
            "Epoch 122/150\n",
            " - 1s - loss: 779928.5625\n",
            "Epoch 123/150\n",
            " - 1s - loss: 779925.8125\n",
            "Epoch 124/150\n",
            " - 1s - loss: 779923.1250\n",
            "Epoch 125/150\n",
            " - 1s - loss: 779920.6250\n",
            "Epoch 126/150\n",
            " - 1s - loss: 779917.9375\n",
            "Epoch 127/150\n",
            " - 1s - loss: 779915.1875\n",
            "Epoch 128/150\n",
            " - 1s - loss: 779912.5625\n",
            "Epoch 129/150\n",
            " - 1s - loss: 779909.9375\n",
            "Epoch 130/150\n",
            " - 1s - loss: 779907.3125\n",
            "Epoch 131/150\n",
            " - 1s - loss: 779904.5625\n",
            "Epoch 132/150\n",
            " - 1s - loss: 779901.9375\n",
            "Epoch 133/150\n",
            " - 1s - loss: 779899.1250\n",
            "Epoch 134/150\n",
            " - 1s - loss: 779896.6250\n",
            "Epoch 135/150\n",
            " - 1s - loss: 779894.0000\n",
            "Epoch 136/150\n",
            " - 1s - loss: 779891.3125\n",
            "Epoch 137/150\n",
            " - 1s - loss: 779888.6875\n",
            "Epoch 138/150\n",
            " - 1s - loss: 779885.8750\n",
            "Epoch 139/150\n",
            " - 1s - loss: 779883.3750\n",
            "Epoch 140/150\n",
            " - 1s - loss: 779880.6875\n",
            "Epoch 141/150\n",
            " - 1s - loss: 779877.9375\n",
            "Epoch 142/150\n",
            " - 1s - loss: 779875.3750\n",
            "Epoch 143/150\n",
            " - 1s - loss: 779872.6250\n",
            "Epoch 144/150\n",
            " - 1s - loss: 779869.9375\n",
            "Epoch 145/150\n",
            " - 1s - loss: 779867.4375\n",
            "Epoch 146/150\n",
            " - 1s - loss: 779864.6875\n",
            "Epoch 147/150\n",
            " - 1s - loss: 779862.1250\n",
            "Epoch 148/150\n",
            " - 1s - loss: 779859.4375\n",
            "Epoch 149/150\n",
            " - 1s - loss: 779856.6250\n",
            "Epoch 150/150\n",
            " - 1s - loss: 779854.1250\n",
            "Model Fit Complete\n"
          ],
          "name": "stdout"
        }
      ]
    },
    {
      "cell_type": "code",
      "metadata": {
        "id": "g07f1lEGXu_T",
        "colab_type": "code",
        "colab": {
          "base_uri": "https://localhost:8080/",
          "height": 34
        },
        "outputId": "01258f91-b984-42e0-920e-36c868e7f3b2"
      },
      "source": [
        "# train fit performance\n",
        "trainPredict = seq_lstm_model.predict(train_x)\n",
        "trainScore = math.sqrt(mean_squared_error(train_y[0], trainPredict[0]))\n",
        "print('Train Score: %.2f RMSE' % (trainScore))"
      ],
      "execution_count": 38,
      "outputs": [
        {
          "output_type": "stream",
          "text": [
            "Train Score: 207.43 RMSE\n"
          ],
          "name": "stdout"
        }
      ]
    },
    {
      "cell_type": "code",
      "metadata": {
        "id": "ZW0LgTTSXyKR",
        "colab_type": "code",
        "colab": {}
      },
      "source": [
        "# Pad input sequence\n",
        "testPredict = pad_sequences(test_x,maxlen=train_x.shape[1],padding='post',dtype='float64')"
      ],
      "execution_count": 0,
      "outputs": []
    },
    {
      "cell_type": "code",
      "metadata": {
        "id": "XsR5ytjpX2yj",
        "colab_type": "code",
        "colab": {}
      },
      "source": [
        "# forecast values\n",
        "testPredict = seq_lstm_model.predict(testPredict)"
      ],
      "execution_count": 0,
      "outputs": []
    },
    {
      "cell_type": "code",
      "metadata": {
        "id": "z_XhF1MjX4gh",
        "colab_type": "code",
        "colab": {}
      },
      "source": [
        "# forecast values\n",
        "testPredict = seq_lstm_model.predict(testPredict)"
      ],
      "execution_count": 0,
      "outputs": []
    },
    {
      "cell_type": "code",
      "metadata": {
        "id": "zA7Aehl4X5ck",
        "colab_type": "code",
        "colab": {}
      },
      "source": [
        "# # inverse transformation\n",
        "# scaler = MinMaxScaler(feature_range=(0, 1))\n",
        "# trainPredict = scaler.inverse_transform(trainPredict.\\\n",
        "#                                         reshape(trainPredict.shape[1]))\n",
        "# testPredict = scaler.inverse_transform(testPredict.\\\n",
        "#                                         reshape(testPredict.shape[1]))\n",
        "\n",
        "trainPredict=trainPredict.reshape(trainPredict.shape[1])\n",
        "testPredict=testPredict.reshape(testPredict.shape[1])"
      ],
      "execution_count": 0,
      "outputs": []
    },
    {
      "cell_type": "code",
      "metadata": {
        "id": "7HRKCZ0WX9kC",
        "colab_type": "code",
        "colab": {
          "base_uri": "https://localhost:8080/",
          "height": 281
        },
        "outputId": "f99cb8b0-9f22-4801-acb8-af83596a59c2"
      },
      "source": [
        "# plot the true and forecasted values\n",
        "train_size = len(trainPredict)+1\n",
        "\n",
        "plt.plot(second_split.Close.index,\n",
        "          second_split.Close.values,c='black',\n",
        "          alpha=0.3,label='True Data')\n",
        "plt.plot(second_split.Close.index[1:train_size],\n",
        "          trainPredict,label='Training Fit',c='g')\n",
        "plt.plot(second_split.Close.index[train_size+1:],\n",
        "          testPredict[:test_x.shape[1]],label='Testing Forecast')\n",
        "plt.title('Forecast Plot')\n",
        "plt.legend()\n",
        "plt.show()"
      ],
      "execution_count": 64,
      "outputs": [
        {
          "output_type": "display_data",
          "data": {
            "image/png": "[encoded data removed]",
            "text/plain": [
              "<Figure size 432x288 with 1 Axes>"
            ]
          },
          "metadata": {
            "tags": []
          }
        }
      ]
    }
  ]
}