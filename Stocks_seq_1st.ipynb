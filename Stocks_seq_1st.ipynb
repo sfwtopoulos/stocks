{
  "nbformat": 4,
  "nbformat_minor": 0,
  "metadata": {
    "colab": {
      "name": "Stocks_seq_1st.ipynb",
      "provenance": [],
      "collapsed_sections": [],
      "include_colab_link": true
    },
    "kernelspec": {
      "name": "python3",
      "display_name": "Python 3"
    }
  },
  "cells": [
    {
      "cell_type": "markdown",
      "metadata": {
        "id": "view-in-github",
        "colab_type": "text"
      },
      "source": [
        "<a href=\"https://colab.research.google.com/github/sfwtopoulos/stocks/blob/master/Stocks_seq_1st.ipynb\" target=\"_parent\"><img src=\"https://colab.research.google.com/assets/colab-badge.svg\" alt=\"Open In Colab\"/></a>"
      ]
    },
    {
      "cell_type": "code",
      "metadata": {
        "id": "DOmxraS5T1wD",
        "colab_type": "code",
        "colab": {}
      },
      "source": [
        "import pandas as pd\n",
        "import matplotlib.pyplot as plt\n",
        "import pandas as pd\n",
        "import math\n",
        "import warnings\n",
        "import numpy as np\n",
        "import time\n",
        "\n",
        "import pandas_datareader as pdr\n",
        "#%tensorflow_version 2.x\n",
        "# Restart runtime using 'Runtime' -> 'Restart runtime...'\n",
        "%tensorflow_version 1.x\n",
        "import tensorflow as tf\n",
        "import keras\n",
        "\n",
        "\n",
        "from keras.layers import LSTM\n",
        "from keras.models import Sequential\n",
        "from keras.layers.wrappers import TimeDistributed\n",
        "from keras.layers.core import Dense, Activation, Dropout\n",
        "from keras.preprocessing.sequence import pad_sequences\n",
        "\n",
        "from sklearn.preprocessing import MinMaxScaler\n",
        "from sklearn.metrics import mean_squared_error\n",
        "import seaborn as sns\n",
        "import matplotlib.pyplot as plt\n",
        "#not all needed\n",
        "\n",
        "\n",
        "warnings.filterwarnings('ignore',category=FutureWarning)\n",
        "warnings.filterwarnings('ignore', category=DeprecationWarning)"
      ],
      "execution_count": 0,
      "outputs": []
    },
    {
      "cell_type": "code",
      "metadata": {
        "id": "2byEjZdZVJrz",
        "colab_type": "code",
        "outputId": "2b09a2df-2da9-421a-9cb3-e7b3ef707544",
        "colab": {
          "base_uri": "https://localhost:8080/",
          "height": 51
        }
      },
      "source": [
        "print(keras.__version__)\n",
        "print(tf.__version__)\n",
        "#print(tensorflow.compat.v2.__version__)"
      ],
      "execution_count": 230,
      "outputs": [
        {
          "output_type": "stream",
          "text": [
            "2.2.5\n",
            "1.15.0\n"
          ],
          "name": "stdout"
        }
      ]
    },
    {
      "cell_type": "code",
      "metadata": {
        "id": "tVJdUlQJUDjY",
        "colab_type": "code",
        "colab": {}
      },
      "source": [
        "#Data import from git repo\n",
        "url = 'https://raw.githubusercontent.com/sfwtopoulos/stocks/master/stocks_dataset/combined.csv'\n",
        "#df1 = pd.read_csv(url, error_bad_lines=False)\n",
        "dfstocks = pd.read_csv(url, sep=',')"
      ],
      "execution_count": 0,
      "outputs": []
    },
    {
      "cell_type": "code",
      "metadata": {
        "id": "A1gYAB3OUECs",
        "colab_type": "code",
        "outputId": "1db88074-a563-4567-ee4a-4dcf9404272f",
        "colab": {
          "base_uri": "https://localhost:8080/",
          "height": 136
        }
      },
      "source": [
        "#fix column names\n",
        "dfstocks=dfstocks.rename({' AAPL':'Company', ' Close/Last':'Close', ' Volume':'Volume', ' Open':'Open', ' High':'High', ' Low':'Low'}, axis=1);\n",
        "for col in dfstocks.columns: \n",
        "    print(col) "
      ],
      "execution_count": 232,
      "outputs": [
        {
          "output_type": "stream",
          "text": [
            "Date\n",
            "Close\n",
            "Volume\n",
            "Open\n",
            "High\n",
            "Low\n",
            "Company\n"
          ],
          "name": "stdout"
        }
      ]
    },
    {
      "cell_type": "code",
      "metadata": {
        "id": "vlSTPXYHUHSB",
        "colab_type": "code",
        "colab": {}
      },
      "source": [
        "#drop $sign from values\n",
        "dfstocks.Close=dfstocks['Close'].astype(str)\n",
        "dfstocks.Close=dfstocks.Close.apply(lambda x: x.replace('$',''))\n",
        "dfstocks.Open=dfstocks['Open'].astype(str)\n",
        "dfstocks.Open=dfstocks.Open.apply(lambda x: x.replace('$',''))\n",
        "dfstocks.High=dfstocks['High'].astype(str)\n",
        "dfstocks.High=dfstocks.High.apply(lambda x: x.replace('$',''))\n",
        "dfstocks.Low=dfstocks['Low'].astype(str)\n",
        "dfstocks.Low=dfstocks.Low.apply(lambda x: x.replace('$',''))"
      ],
      "execution_count": 0,
      "outputs": []
    },
    {
      "cell_type": "code",
      "metadata": {
        "id": "F4cxCV_YUJGa",
        "colab_type": "code",
        "outputId": "25353e2b-f225-4a2a-9bd6-8b675967ddc5",
        "colab": {
          "base_uri": "https://localhost:8080/",
          "height": 34
        }
      },
      "source": [
        "#drop rows containing nan or header from the csv files\n",
        "dfstocks=dfstocks[~dfstocks.Low.str.contains(\"nan\")]\n",
        "dfstocks=dfstocks[~dfstocks.Low.str.contains(\"Low\")]\n",
        "dfstocks=dfstocks[~dfstocks.Low.str.contains(\"N/A\")]\n",
        "dfstocks=dfstocks[~dfstocks.Volume.str.contains(\"N/A\")]\n",
        "dfstocks.reset_index(drop=True, inplace=True)\n",
        "dfstocks.Date.count()"
      ],
      "execution_count": 234,
      "outputs": [
        {
          "output_type": "execute_result",
          "data": {
            "text/plain": [
              "229269"
            ]
          },
          "metadata": {
            "tags": []
          },
          "execution_count": 234
        }
      ]
    },
    {
      "cell_type": "code",
      "metadata": {
        "id": "te4JUA9lUL06",
        "colab_type": "code",
        "outputId": "59f49cdf-cd23-4fef-8d32-0c70b7d93b50",
        "colab": {
          "base_uri": "https://localhost:8080/",
          "height": 419
        }
      },
      "source": [
        "#sort dataframe based on date and Company Name\n",
        "dfstocks = dfstocks.sort_values(['Date', 'Company'])\n",
        "dfstocks.head(100)"
      ],
      "execution_count": 235,
      "outputs": [
        {
          "output_type": "execute_result",
          "data": {
            "text/html": [
              "<div>\n",
              "<style scoped>\n",
              "    .dataframe tbody tr th:only-of-type {\n",
              "        vertical-align: middle;\n",
              "    }\n",
              "\n",
              "    .dataframe tbody tr th {\n",
              "        vertical-align: top;\n",
              "    }\n",
              "\n",
              "    .dataframe thead th {\n",
              "        text-align: right;\n",
              "    }\n",
              "</style>\n",
              "<table border=\"1\" class=\"dataframe\">\n",
              "  <thead>\n",
              "    <tr style=\"text-align: right;\">\n",
              "      <th></th>\n",
              "      <th>Date</th>\n",
              "      <th>Close</th>\n",
              "      <th>Volume</th>\n",
              "      <th>Open</th>\n",
              "      <th>High</th>\n",
              "      <th>Low</th>\n",
              "      <th>Company</th>\n",
              "    </tr>\n",
              "  </thead>\n",
              "  <tbody>\n",
              "    <tr>\n",
              "      <th>1761</th>\n",
              "      <td>01/02/2013</td>\n",
              "      <td>78.4328</td>\n",
              "      <td>139906732</td>\n",
              "      <td>79.1171</td>\n",
              "      <td>79.2857</td>\n",
              "      <td>77.3757</td>\n",
              "      <td>AAPL</td>\n",
              "    </tr>\n",
              "    <tr>\n",
              "      <th>4248</th>\n",
              "      <td>01/02/2013</td>\n",
              "      <td>35.12</td>\n",
              "      <td>13767660</td>\n",
              "      <td>34.92</td>\n",
              "      <td>35.4</td>\n",
              "      <td>34.1</td>\n",
              "      <td>ABBV</td>\n",
              "    </tr>\n",
              "    <tr>\n",
              "      <th>6025</th>\n",
              "      <td>01/02/2013</td>\n",
              "      <td>32.05</td>\n",
              "      <td>20266410</td>\n",
              "      <td>32.3</td>\n",
              "      <td>32.45</td>\n",
              "      <td>31.64</td>\n",
              "      <td>ABT</td>\n",
              "    </tr>\n",
              "    <tr>\n",
              "      <th>8512</th>\n",
              "      <td>01/02/2013</td>\n",
              "      <td>69.06</td>\n",
              "      <td>4039095</td>\n",
              "      <td>67.59</td>\n",
              "      <td>69.06</td>\n",
              "      <td>67.55</td>\n",
              "      <td>ACN</td>\n",
              "    </tr>\n",
              "    <tr>\n",
              "      <th>10999</th>\n",
              "      <td>01/02/2013</td>\n",
              "      <td>38.34</td>\n",
              "      <td>6483720</td>\n",
              "      <td>37.92</td>\n",
              "      <td>38.73</td>\n",
              "      <td>37.92</td>\n",
              "      <td>ADBE</td>\n",
              "    </tr>\n",
              "    <tr>\n",
              "      <th>...</th>\n",
              "      <td>...</td>\n",
              "      <td>...</td>\n",
              "      <td>...</td>\n",
              "      <td>...</td>\n",
              "      <td>...</td>\n",
              "      <td>...</td>\n",
              "      <td>...</td>\n",
              "    </tr>\n",
              "    <tr>\n",
              "      <th>10747</th>\n",
              "      <td>01/02/2014</td>\n",
              "      <td>59.29</td>\n",
              "      <td>2745895</td>\n",
              "      <td>59.06</td>\n",
              "      <td>59.53</td>\n",
              "      <td>58.94</td>\n",
              "      <td>ADBE</td>\n",
              "    </tr>\n",
              "    <tr>\n",
              "      <th>13234</th>\n",
              "      <td>01/02/2014</td>\n",
              "      <td>168.05</td>\n",
              "      <td>1268722</td>\n",
              "      <td>167.33</td>\n",
              "      <td>170.71</td>\n",
              "      <td>166.5937</td>\n",
              "      <td>AGN</td>\n",
              "    </tr>\n",
              "    <tr>\n",
              "      <th>15721</th>\n",
              "      <td>01/02/2014</td>\n",
              "      <td>50.71</td>\n",
              "      <td>9196092</td>\n",
              "      <td>50.81</td>\n",
              "      <td>51.3</td>\n",
              "      <td>50.47</td>\n",
              "      <td>AIG</td>\n",
              "    </tr>\n",
              "    <tr>\n",
              "      <th>18208</th>\n",
              "      <td>01/02/2014</td>\n",
              "      <td>53.55</td>\n",
              "      <td>1909106</td>\n",
              "      <td>54.09</td>\n",
              "      <td>54.45</td>\n",
              "      <td>53.5</td>\n",
              "      <td>ALL</td>\n",
              "    </tr>\n",
              "    <tr>\n",
              "      <th>20695</th>\n",
              "      <td>01/02/2014</td>\n",
              "      <td>115.795</td>\n",
              "      <td>2528751</td>\n",
              "      <td>114.36</td>\n",
              "      <td>116.19</td>\n",
              "      <td>114.06</td>\n",
              "      <td>AMGN</td>\n",
              "    </tr>\n",
              "  </tbody>\n",
              "</table>\n",
              "<p>100 rows × 7 columns</p>\n",
              "</div>"
            ],
            "text/plain": [
              "             Date     Close      Volume      Open      High        Low Company\n",
              "1761   01/02/2013   78.4328   139906732   79.1171   79.2857    77.3757    AAPL\n",
              "4248   01/02/2013     35.12    13767660     34.92      35.4       34.1    ABBV\n",
              "6025   01/02/2013     32.05    20266410      32.3     32.45      31.64     ABT\n",
              "8512   01/02/2013     69.06     4039095     67.59     69.06      67.55     ACN\n",
              "10999  01/02/2013     38.34     6483720     37.92     38.73      37.92    ADBE\n",
              "...           ...       ...         ...       ...       ...        ...     ...\n",
              "10747  01/02/2014     59.29     2745895     59.06     59.53      58.94    ADBE\n",
              "13234  01/02/2014    168.05     1268722    167.33    170.71   166.5937     AGN\n",
              "15721  01/02/2014     50.71     9196092     50.81      51.3      50.47     AIG\n",
              "18208  01/02/2014     53.55     1909106     54.09     54.45       53.5     ALL\n",
              "20695  01/02/2014   115.795     2528751    114.36    116.19     114.06    AMGN\n",
              "\n",
              "[100 rows x 7 columns]"
            ]
          },
          "metadata": {
            "tags": []
          },
          "execution_count": 235
        }
      ]
    },
    {
      "cell_type": "code",
      "metadata": {
        "id": "ORS6zOAhUMQ6",
        "colab_type": "code",
        "colab": {}
      },
      "source": [
        "#Test Split\n",
        "dfstocks_split = dfstocks.sample(frac=0.9998,random_state=200)\n",
        "second_split=dfstocks.drop(dfstocks_split.index)\n",
        "# second_split = second_split.reindex(index=second_split.Date(second_split.index.min(), \n",
        "#                                           second_split.index.max(), \n",
        "#                                           freq='D')).fillna(method='ffill')\n"
      ],
      "execution_count": 0,
      "outputs": []
    },
    {
      "cell_type": "code",
      "metadata": {
        "id": "SvGv9U_NHZcv",
        "colab_type": "code",
        "outputId": "1eda6299-14ae-4a10-9a7f-3854cab68a79",
        "colab": {
          "base_uri": "https://localhost:8080/",
          "height": 153
        }
      },
      "source": [
        "#Converting Datatypes\n",
        "dfstocks.Date=pd.to_datetime(dfstocks.Date)\n",
        "dfstocks.Close=pd.to_numeric(dfstocks.Close)\n",
        "dfstocks.Volume=pd.to_numeric(dfstocks.Volume)\n",
        "dfstocks.Open=pd.to_numeric(dfstocks.Open)\n",
        "dfstocks.High=pd.to_numeric(dfstocks.High)\n",
        "dfstocks.Low=pd.to_numeric(dfstocks.Low)\n",
        "dfstocks.dtypes"
      ],
      "execution_count": 237,
      "outputs": [
        {
          "output_type": "execute_result",
          "data": {
            "text/plain": [
              "Date       datetime64[ns]\n",
              "Close             float64\n",
              "Volume              int64\n",
              "Open              float64\n",
              "High              float64\n",
              "Low               float64\n",
              "Company            object\n",
              "dtype: object"
            ]
          },
          "metadata": {
            "tags": []
          },
          "execution_count": 237
        }
      ]
    },
    {
      "cell_type": "code",
      "metadata": {
        "id": "rsD9-1pONB6V",
        "colab_type": "code",
        "outputId": "c295dcf7-bb38-437b-c736-aa366ff06318",
        "colab": {
          "base_uri": "https://localhost:8080/",
          "height": 34
        }
      },
      "source": [
        "#dfstocks[dfstocks['Company'].str.contains(\"AMZN\")]\n",
        "second_split=dfstocks[dfstocks['Company'].str.contains(\"AAPL\")]\n",
        "second_split.isnull().values.any()\n",
        "second_split.isna().values.any()\n",
        "second_split = second_split.sort_values(['Date'])\n",
        "second_split.reset_index(drop=True, inplace=True)\n",
        "second_split.shape[0]"
      ],
      "execution_count": 238,
      "outputs": [
        {
          "output_type": "execute_result",
          "data": {
            "text/plain": [
              "2487"
            ]
          },
          "metadata": {
            "tags": []
          },
          "execution_count": 238
        }
      ]
    },
    {
      "cell_type": "code",
      "metadata": {
        "id": "te-gSnYPU0wX",
        "colab_type": "code",
        "outputId": "15915784-4a9b-4265-957f-c41ea829314f",
        "colab": {
          "base_uri": "https://localhost:8080/",
          "height": 419
        }
      },
      "source": [
        "second_split"
      ],
      "execution_count": 239,
      "outputs": [
        {
          "output_type": "execute_result",
          "data": {
            "text/html": [
              "<div>\n",
              "<style scoped>\n",
              "    .dataframe tbody tr th:only-of-type {\n",
              "        vertical-align: middle;\n",
              "    }\n",
              "\n",
              "    .dataframe tbody tr th {\n",
              "        vertical-align: top;\n",
              "    }\n",
              "\n",
              "    .dataframe thead th {\n",
              "        text-align: right;\n",
              "    }\n",
              "</style>\n",
              "<table border=\"1\" class=\"dataframe\">\n",
              "  <thead>\n",
              "    <tr style=\"text-align: right;\">\n",
              "      <th></th>\n",
              "      <th>Date</th>\n",
              "      <th>Close</th>\n",
              "      <th>Volume</th>\n",
              "      <th>Open</th>\n",
              "      <th>High</th>\n",
              "      <th>Low</th>\n",
              "      <th>Company</th>\n",
              "    </tr>\n",
              "  </thead>\n",
              "  <tbody>\n",
              "    <tr>\n",
              "      <th>0</th>\n",
              "      <td>2010-02-16</td>\n",
              "      <td>29.0571</td>\n",
              "      <td>135631411</td>\n",
              "      <td>28.8486</td>\n",
              "      <td>29.0986</td>\n",
              "      <td>28.7886</td>\n",
              "      <td>AAPL</td>\n",
              "    </tr>\n",
              "    <tr>\n",
              "      <th>1</th>\n",
              "      <td>2010-02-17</td>\n",
              "      <td>28.9357</td>\n",
              "      <td>108691903</td>\n",
              "      <td>29.1700</td>\n",
              "      <td>29.1871</td>\n",
              "      <td>28.6943</td>\n",
              "      <td>AAPL</td>\n",
              "    </tr>\n",
              "    <tr>\n",
              "      <th>2</th>\n",
              "      <td>2010-02-18</td>\n",
              "      <td>28.9897</td>\n",
              "      <td>105298302</td>\n",
              "      <td>28.8043</td>\n",
              "      <td>29.1271</td>\n",
              "      <td>28.7028</td>\n",
              "      <td>AAPL</td>\n",
              "    </tr>\n",
              "    <tr>\n",
              "      <th>3</th>\n",
              "      <td>2010-02-19</td>\n",
              "      <td>28.8100</td>\n",
              "      <td>103810451</td>\n",
              "      <td>28.8371</td>\n",
              "      <td>29.0286</td>\n",
              "      <td>28.7300</td>\n",
              "      <td>AAPL</td>\n",
              "    </tr>\n",
              "    <tr>\n",
              "      <th>4</th>\n",
              "      <td>2010-02-22</td>\n",
              "      <td>28.6308</td>\n",
              "      <td>97607889</td>\n",
              "      <td>28.9057</td>\n",
              "      <td>28.9286</td>\n",
              "      <td>28.4557</td>\n",
              "      <td>AAPL</td>\n",
              "    </tr>\n",
              "    <tr>\n",
              "      <th>...</th>\n",
              "      <td>...</td>\n",
              "      <td>...</td>\n",
              "      <td>...</td>\n",
              "      <td>...</td>\n",
              "      <td>...</td>\n",
              "      <td>...</td>\n",
              "      <td>...</td>\n",
              "    </tr>\n",
              "    <tr>\n",
              "      <th>2482</th>\n",
              "      <td>2019-12-24</td>\n",
              "      <td>284.2700</td>\n",
              "      <td>12119710</td>\n",
              "      <td>284.6900</td>\n",
              "      <td>284.8900</td>\n",
              "      <td>282.9197</td>\n",
              "      <td>AAPL</td>\n",
              "    </tr>\n",
              "    <tr>\n",
              "      <th>2483</th>\n",
              "      <td>2019-12-26</td>\n",
              "      <td>289.9100</td>\n",
              "      <td>23334000</td>\n",
              "      <td>284.8200</td>\n",
              "      <td>289.9800</td>\n",
              "      <td>284.7000</td>\n",
              "      <td>AAPL</td>\n",
              "    </tr>\n",
              "    <tr>\n",
              "      <th>2484</th>\n",
              "      <td>2019-12-27</td>\n",
              "      <td>289.8000</td>\n",
              "      <td>36592940</td>\n",
              "      <td>291.1200</td>\n",
              "      <td>293.9700</td>\n",
              "      <td>288.1200</td>\n",
              "      <td>AAPL</td>\n",
              "    </tr>\n",
              "    <tr>\n",
              "      <th>2485</th>\n",
              "      <td>2019-12-30</td>\n",
              "      <td>291.5200</td>\n",
              "      <td>36059610</td>\n",
              "      <td>289.4600</td>\n",
              "      <td>292.6900</td>\n",
              "      <td>285.2200</td>\n",
              "      <td>AAPL</td>\n",
              "    </tr>\n",
              "    <tr>\n",
              "      <th>2486</th>\n",
              "      <td>2019-12-31</td>\n",
              "      <td>293.6500</td>\n",
              "      <td>25247630</td>\n",
              "      <td>289.9300</td>\n",
              "      <td>293.6800</td>\n",
              "      <td>289.5200</td>\n",
              "      <td>AAPL</td>\n",
              "    </tr>\n",
              "  </tbody>\n",
              "</table>\n",
              "<p>2487 rows × 7 columns</p>\n",
              "</div>"
            ],
            "text/plain": [
              "           Date     Close     Volume      Open      High       Low Company\n",
              "0    2010-02-16   29.0571  135631411   28.8486   29.0986   28.7886    AAPL\n",
              "1    2010-02-17   28.9357  108691903   29.1700   29.1871   28.6943    AAPL\n",
              "2    2010-02-18   28.9897  105298302   28.8043   29.1271   28.7028    AAPL\n",
              "3    2010-02-19   28.8100  103810451   28.8371   29.0286   28.7300    AAPL\n",
              "4    2010-02-22   28.6308   97607889   28.9057   28.9286   28.4557    AAPL\n",
              "...         ...       ...        ...       ...       ...       ...     ...\n",
              "2482 2019-12-24  284.2700   12119710  284.6900  284.8900  282.9197    AAPL\n",
              "2483 2019-12-26  289.9100   23334000  284.8200  289.9800  284.7000    AAPL\n",
              "2484 2019-12-27  289.8000   36592940  291.1200  293.9700  288.1200    AAPL\n",
              "2485 2019-12-30  291.5200   36059610  289.4600  292.6900  285.2200    AAPL\n",
              "2486 2019-12-31  293.6500   25247630  289.9300  293.6800  289.5200    AAPL\n",
              "\n",
              "[2487 rows x 7 columns]"
            ]
          },
          "metadata": {
            "tags": []
          },
          "execution_count": 239
        }
      ]
    },
    {
      "cell_type": "code",
      "metadata": {
        "id": "0behU6tsViUy",
        "colab_type": "code",
        "colab": {}
      },
      "source": [
        "TRAIN_PERCENT = 0.7\n",
        "#STOCK_INDEX = '^GSPC'\n",
        "VERBOSE=True"
      ],
      "execution_count": 0,
      "outputs": []
    },
    {
      "cell_type": "code",
      "metadata": {
        "id": "wjwirxd4VutM",
        "colab_type": "code",
        "colab": {}
      },
      "source": [
        "# prepare training and testing data sets for LSTM based sequence modeling\n",
        "#def get_seq_train_test(time_series, scaling=True,train_size=0.9):\n",
        "def get_seq_train_test(time_series,train_size=0.9):\n",
        "    # scaler = None\n",
        "    # if scaling:\n",
        "    #scaling of variables to range [0,1]\n",
        "    scaler = MinMaxScaler(feature_range=(0, 1))\n",
        "    #reshape(-1,1) -1 --> unknown number of rows, 1 --> 1 column\n",
        "    time_series = np.array(time_series).reshape(-1,1)\n",
        "    #time_series = np.array(time_series)\n",
        "    scaled_stock_series = scaler.fit_transform(time_series)\n",
        "    # else:\n",
        "    #     scaled_stock_series = time_series\n",
        "    #scaled_stock_series = time_series\n",
        "    time_series = scaled_stock_series\n",
        "        \n",
        "    #train_size = int(len(scaled_stock_series) * train_size)\n",
        "    train_size = int(len(time_series) * train_size)\n",
        "\n",
        "    #train = scaled_stock_series[0:train_size]\n",
        "    train = time_series[0:train_size]\n",
        "    #test = scaled_stock_series[train_size:len(scaled_stock_series)]\n",
        "    test = time_series[train_size:len(time_series)]\n",
        "    \n",
        "    return train,test,scaler\n"
      ],
      "execution_count": 0,
      "outputs": []
    },
    {
      "cell_type": "code",
      "metadata": {
        "id": "UN6DYJT7TXPb",
        "colab_type": "code",
        "colab": {}
      },
      "source": [
        "def get_seq_model(hidden_units=4,input_shape=(1,1),verbose=False):\n",
        "    # create and fit the LSTM network\n",
        "    model = Sequential()\n",
        "    # samples*timesteps*featuress\n",
        "    # https://keras.io/getting-started/sequential-model-guide/\n",
        "    #relu_advanced=keras.activations.relu(x,)\n",
        "\n",
        "    model.add(LSTM(input_shape=input_shape,\n",
        "                   units = hidden_units,  \n",
        "   #                activation='relu',\n",
        "                   return_sequences=True\n",
        "    ))\n",
        "\n",
        "    # readout layer. TimeDistributedDense uses the same weights for all\n",
        "    # time steps.\n",
        "    # model.add(TimeDistributed(Dense(1)))\n",
        "    model.add(TimeDistributed(Dense(1)))\n",
        "   \n",
        "    start = time.time()\n",
        "    #softsign\n",
        "    #model.add(activation='softsign')\n",
        "\n",
        "\n",
        "    model.compile(loss=\"mse\", optimizer=\"rmsprop\")\n",
        "\n",
        "    if verbose:\n",
        "        print(\"> Compilation Time : \", time.time() - start)\n",
        "        print(model.summary())\n",
        "\n",
        "    return model"
      ],
      "execution_count": 0,
      "outputs": []
    },
    {
      "cell_type": "code",
      "metadata": {
        "id": "zeAENS4LVpDG",
        "colab_type": "code",
        "outputId": "76edfd46-b8b2-4396-d27b-1845dceb2adb",
        "colab": {
          "base_uri": "https://localhost:8080/",
          "height": 85
        }
      },
      "source": [
        "# split train and test datasets\n",
        "train,test,scaler = get_seq_train_test(second_split.Close,\n",
        "#                                  scaling=True,\n",
        "                                   train_size=TRAIN_PERCENT)\n",
        "\n",
        "#train\n",
        "print(len(train))\n",
        "print(train.shape[0])\n",
        "print(train.shape)\n",
        "print(test.shape)"
      ],
      "execution_count": 243,
      "outputs": [
        {
          "output_type": "stream",
          "text": [
            "1740\n",
            "1740\n",
            "(1740, 1)\n",
            "(747, 1)\n"
          ],
          "name": "stdout"
        }
      ]
    },
    {
      "cell_type": "code",
      "metadata": {
        "id": "uZG7396CWoy9",
        "colab_type": "code",
        "outputId": "23bf2165-269a-42af-ffb5-a628fabe1ada",
        "colab": {
          "base_uri": "https://localhost:8080/",
          "height": 102
        }
      },
      "source": [
        "#We use numpy to reshape our time series into 3D tensors.\n",
        "train = np.reshape(train,(1,train.shape[0],1))\n",
        "test = np.reshape(test,(1,test.shape[0],1))\n",
        "\n",
        "train_x = train[:,:-1,:]\n",
        "train_y = train[:,1:,:]\n",
        "\n",
        "test_x = test[:,:-1,:]\n",
        "test_y = test[:,1:,:]\n",
        "\n",
        "print(\"Data Split Complete\")\n",
        "\n",
        "print(\"train_x shape={}\".format(train_x.shape))\n",
        "print(\"train_y shape={}\".format(train_y.shape))\n",
        "print(\"test_x shape={}\".format(test_x.shape))\n",
        "print(\"test_y shape={}\".format(test_y.shape))"
      ],
      "execution_count": 244,
      "outputs": [
        {
          "output_type": "stream",
          "text": [
            "Data Split Complete\n",
            "train_x shape=(1, 1739, 1)\n",
            "train_y shape=(1, 1739, 1)\n",
            "test_x shape=(1, 746, 1)\n",
            "test_y shape=(1, 746, 1)\n"
          ],
          "name": "stdout"
        }
      ]
    },
    {
      "cell_type": "code",
      "metadata": {
        "id": "DqTCq2NDTQFL",
        "colab_type": "code",
        "outputId": "db05fab0-e031-4b3e-d41c-8ebcc7699e7c",
        "colab": {
          "base_uri": "https://localhost:8080/",
          "height": 255
        }
      },
      "source": [
        "# build RNN model\n",
        "seq_lstm_model=None\n",
        "try:\n",
        "    seq_lstm_model = get_seq_model(input_shape=(train_x.shape[1],1),\n",
        "                                                verbose=VERBOSE)\n",
        "except:\n",
        "    print(\"Model Build Failed. Trying Again\")\n",
        "    seq_lstm_model = get_seq_model(input_shape=(train_x.shape[1],1),\n",
        "                                                verbose=VERBOSE)"
      ],
      "execution_count": 245,
      "outputs": [
        {
          "output_type": "stream",
          "text": [
            "> Compilation Time :  0.018008708953857422\n",
            "Model: \"sequential_8\"\n",
            "_________________________________________________________________\n",
            "Layer (type)                 Output Shape              Param #   \n",
            "=================================================================\n",
            "lstm_8 (LSTM)                (None, 1739, 4)           96        \n",
            "_________________________________________________________________\n",
            "time_distributed_8 (TimeDist (None, 1739, 1)           5         \n",
            "=================================================================\n",
            "Total params: 101\n",
            "Trainable params: 101\n",
            "Non-trainable params: 0\n",
            "_________________________________________________________________\n",
            "None\n"
          ],
          "name": "stdout"
        }
      ]
    },
    {
      "cell_type": "code",
      "metadata": {
        "id": "FnQs_OC6XsTz",
        "colab_type": "code",
        "outputId": "124f721f-2670-4bb0-de2f-09fa1bc58ed7",
        "colab": {
          "base_uri": "https://localhost:8080/",
          "height": 1000
        }
      },
      "source": [
        "# train the model\n",
        "seq_lstm_model.fit(train_x, train_y,\n",
        "                #epochs=250, batch_size=1,\n",
        "                epochs=250, batch_size=1,\n",
        "                verbose=2)\n",
        "print(\"Model Fit Complete\")"
      ],
      "execution_count": 246,
      "outputs": [
        {
          "output_type": "stream",
          "text": [
            "Epoch 1/250\n",
            " - 2s - loss: 0.0639\n",
            "Epoch 2/250\n",
            " - 1s - loss: 0.0612\n",
            "Epoch 3/250\n",
            " - 1s - loss: 0.0593\n",
            "Epoch 4/250\n",
            " - 1s - loss: 0.0577\n",
            "Epoch 5/250\n",
            " - 1s - loss: 0.0563\n",
            "Epoch 6/250\n",
            " - 1s - loss: 0.0550\n",
            "Epoch 7/250\n",
            " - 1s - loss: 0.0539\n",
            "Epoch 8/250\n",
            " - 1s - loss: 0.0528\n",
            "Epoch 9/250\n",
            " - 1s - loss: 0.0518\n",
            "Epoch 10/250\n",
            " - 1s - loss: 0.0508\n",
            "Epoch 11/250\n",
            " - 1s - loss: 0.0499\n",
            "Epoch 12/250\n",
            " - 1s - loss: 0.0490\n",
            "Epoch 13/250\n",
            " - 1s - loss: 0.0481\n",
            "Epoch 14/250\n",
            " - 1s - loss: 0.0472\n",
            "Epoch 15/250\n",
            " - 1s - loss: 0.0464\n",
            "Epoch 16/250\n",
            " - 1s - loss: 0.0456\n",
            "Epoch 17/250\n",
            " - 1s - loss: 0.0448\n",
            "Epoch 18/250\n",
            " - 1s - loss: 0.0440\n",
            "Epoch 19/250\n",
            " - 1s - loss: 0.0433\n",
            "Epoch 20/250\n",
            " - 1s - loss: 0.0425\n",
            "Epoch 21/250\n",
            " - 1s - loss: 0.0418\n",
            "Epoch 22/250\n",
            " - 1s - loss: 0.0411\n",
            "Epoch 23/250\n",
            " - 1s - loss: 0.0404\n",
            "Epoch 24/250\n",
            " - 1s - loss: 0.0397\n",
            "Epoch 25/250\n",
            " - 1s - loss: 0.0390\n",
            "Epoch 26/250\n",
            " - 1s - loss: 0.0383\n",
            "Epoch 27/250\n",
            " - 1s - loss: 0.0376\n",
            "Epoch 28/250\n",
            " - 1s - loss: 0.0369\n",
            "Epoch 29/250\n",
            " - 1s - loss: 0.0363\n",
            "Epoch 30/250\n",
            " - 1s - loss: 0.0356\n",
            "Epoch 31/250\n",
            " - 1s - loss: 0.0350\n",
            "Epoch 32/250\n",
            " - 1s - loss: 0.0344\n",
            "Epoch 33/250\n",
            " - 1s - loss: 0.0337\n",
            "Epoch 34/250\n",
            " - 1s - loss: 0.0331\n",
            "Epoch 35/250\n",
            " - 1s - loss: 0.0325\n",
            "Epoch 36/250\n",
            " - 1s - loss: 0.0319\n",
            "Epoch 37/250\n",
            " - 1s - loss: 0.0313\n",
            "Epoch 38/250\n",
            " - 1s - loss: 0.0307\n",
            "Epoch 39/250\n",
            " - 1s - loss: 0.0301\n",
            "Epoch 40/250\n",
            " - 1s - loss: 0.0296\n",
            "Epoch 41/250\n",
            " - 1s - loss: 0.0290\n",
            "Epoch 42/250\n",
            " - 1s - loss: 0.0284\n",
            "Epoch 43/250\n",
            " - 1s - loss: 0.0279\n",
            "Epoch 44/250\n",
            " - 1s - loss: 0.0273\n",
            "Epoch 45/250\n",
            " - 1s - loss: 0.0268\n",
            "Epoch 46/250\n",
            " - 1s - loss: 0.0262\n",
            "Epoch 47/250\n",
            " - 1s - loss: 0.0257\n",
            "Epoch 48/250\n",
            " - 1s - loss: 0.0251\n",
            "Epoch 49/250\n",
            " - 1s - loss: 0.0246\n",
            "Epoch 50/250\n",
            " - 1s - loss: 0.0241\n",
            "Epoch 51/250\n",
            " - 1s - loss: 0.0236\n",
            "Epoch 52/250\n",
            " - 1s - loss: 0.0231\n",
            "Epoch 53/250\n",
            " - 1s - loss: 0.0226\n",
            "Epoch 54/250\n",
            " - 1s - loss: 0.0221\n",
            "Epoch 55/250\n",
            " - 1s - loss: 0.0216\n",
            "Epoch 56/250\n",
            " - 1s - loss: 0.0211\n",
            "Epoch 57/250\n",
            " - 1s - loss: 0.0206\n",
            "Epoch 58/250\n",
            " - 1s - loss: 0.0201\n",
            "Epoch 59/250\n",
            " - 1s - loss: 0.0197\n",
            "Epoch 60/250\n",
            " - 1s - loss: 0.0192\n",
            "Epoch 61/250\n",
            " - 1s - loss: 0.0188\n",
            "Epoch 62/250\n",
            " - 1s - loss: 0.0183\n",
            "Epoch 63/250\n",
            " - 1s - loss: 0.0179\n",
            "Epoch 64/250\n",
            " - 1s - loss: 0.0175\n",
            "Epoch 65/250\n",
            " - 1s - loss: 0.0171\n",
            "Epoch 66/250\n",
            " - 1s - loss: 0.0167\n",
            "Epoch 67/250\n",
            " - 1s - loss: 0.0163\n",
            "Epoch 68/250\n",
            " - 1s - loss: 0.0159\n",
            "Epoch 69/250\n",
            " - 1s - loss: 0.0155\n",
            "Epoch 70/250\n",
            " - 1s - loss: 0.0151\n",
            "Epoch 71/250\n",
            " - 1s - loss: 0.0147\n",
            "Epoch 72/250\n",
            " - 1s - loss: 0.0144\n",
            "Epoch 73/250\n",
            " - 1s - loss: 0.0141\n",
            "Epoch 74/250\n",
            " - 1s - loss: 0.0137\n",
            "Epoch 75/250\n",
            " - 1s - loss: 0.0134\n",
            "Epoch 76/250\n",
            " - 1s - loss: 0.0131\n",
            "Epoch 77/250\n",
            " - 1s - loss: 0.0128\n",
            "Epoch 78/250\n",
            " - 1s - loss: 0.0125\n",
            "Epoch 79/250\n",
            " - 1s - loss: 0.0122\n",
            "Epoch 80/250\n",
            " - 1s - loss: 0.0119\n",
            "Epoch 81/250\n",
            " - 1s - loss: 0.0117\n",
            "Epoch 82/250\n",
            " - 1s - loss: 0.0114\n",
            "Epoch 83/250\n",
            " - 1s - loss: 0.0112\n",
            "Epoch 84/250\n",
            " - 1s - loss: 0.0110\n",
            "Epoch 85/250\n",
            " - 1s - loss: 0.0107\n",
            "Epoch 86/250\n",
            " - 1s - loss: 0.0105\n",
            "Epoch 87/250\n",
            " - 1s - loss: 0.0103\n",
            "Epoch 88/250\n",
            " - 1s - loss: 0.0102\n",
            "Epoch 89/250\n",
            " - 1s - loss: 0.0100\n",
            "Epoch 90/250\n",
            " - 1s - loss: 0.0098\n",
            "Epoch 91/250\n",
            " - 1s - loss: 0.0097\n",
            "Epoch 92/250\n",
            " - 1s - loss: 0.0095\n",
            "Epoch 93/250\n",
            " - 1s - loss: 0.0094\n",
            "Epoch 94/250\n",
            " - 1s - loss: 0.0092\n",
            "Epoch 95/250\n",
            " - 1s - loss: 0.0091\n",
            "Epoch 96/250\n",
            " - 1s - loss: 0.0090\n",
            "Epoch 97/250\n",
            " - 1s - loss: 0.0089\n",
            "Epoch 98/250\n",
            " - 1s - loss: 0.0088\n",
            "Epoch 99/250\n",
            " - 1s - loss: 0.0087\n",
            "Epoch 100/250\n",
            " - 1s - loss: 0.0086\n",
            "Epoch 101/250\n",
            " - 1s - loss: 0.0085\n",
            "Epoch 102/250\n",
            " - 1s - loss: 0.0084\n",
            "Epoch 103/250\n",
            " - 1s - loss: 0.0084\n",
            "Epoch 104/250\n",
            " - 1s - loss: 0.0083\n",
            "Epoch 105/250\n",
            " - 1s - loss: 0.0082\n",
            "Epoch 106/250\n",
            " - 1s - loss: 0.0081\n",
            "Epoch 107/250\n",
            " - 1s - loss: 0.0081\n",
            "Epoch 108/250\n",
            " - 1s - loss: 0.0080\n",
            "Epoch 109/250\n",
            " - 1s - loss: 0.0079\n",
            "Epoch 110/250\n",
            " - 1s - loss: 0.0078\n",
            "Epoch 111/250\n",
            " - 1s - loss: 0.0077\n",
            "Epoch 112/250\n",
            " - 1s - loss: 0.0077\n",
            "Epoch 113/250\n",
            " - 1s - loss: 0.0076\n",
            "Epoch 114/250\n",
            " - 1s - loss: 0.0075\n",
            "Epoch 115/250\n",
            " - 1s - loss: 0.0074\n",
            "Epoch 116/250\n",
            " - 1s - loss: 0.0073\n",
            "Epoch 117/250\n",
            " - 1s - loss: 0.0073\n",
            "Epoch 118/250\n",
            " - 1s - loss: 0.0072\n",
            "Epoch 119/250\n",
            " - 1s - loss: 0.0071\n",
            "Epoch 120/250\n",
            " - 1s - loss: 0.0070\n",
            "Epoch 121/250\n",
            " - 1s - loss: 0.0069\n",
            "Epoch 122/250\n",
            " - 1s - loss: 0.0068\n",
            "Epoch 123/250\n",
            " - 1s - loss: 0.0067\n",
            "Epoch 124/250\n",
            " - 1s - loss: 0.0066\n",
            "Epoch 125/250\n",
            " - 1s - loss: 0.0065\n",
            "Epoch 126/250\n",
            " - 1s - loss: 0.0064\n",
            "Epoch 127/250\n",
            " - 1s - loss: 0.0063\n",
            "Epoch 128/250\n",
            " - 1s - loss: 0.0062\n",
            "Epoch 129/250\n",
            " - 1s - loss: 0.0061\n",
            "Epoch 130/250\n",
            " - 1s - loss: 0.0060\n",
            "Epoch 131/250\n",
            " - 1s - loss: 0.0059\n",
            "Epoch 132/250\n",
            " - 1s - loss: 0.0058\n",
            "Epoch 133/250\n",
            " - 1s - loss: 0.0057\n",
            "Epoch 134/250\n",
            " - 1s - loss: 0.0056\n",
            "Epoch 135/250\n",
            " - 1s - loss: 0.0055\n",
            "Epoch 136/250\n",
            " - 1s - loss: 0.0054\n",
            "Epoch 137/250\n",
            " - 1s - loss: 0.0052\n",
            "Epoch 138/250\n",
            " - 1s - loss: 0.0051\n",
            "Epoch 139/250\n",
            " - 1s - loss: 0.0050\n",
            "Epoch 140/250\n",
            " - 1s - loss: 0.0049\n",
            "Epoch 141/250\n",
            " - 1s - loss: 0.0048\n",
            "Epoch 142/250\n",
            " - 1s - loss: 0.0046\n",
            "Epoch 143/250\n",
            " - 1s - loss: 0.0045\n",
            "Epoch 144/250\n",
            " - 1s - loss: 0.0044\n",
            "Epoch 145/250\n",
            " - 1s - loss: 0.0043\n",
            "Epoch 146/250\n",
            " - 1s - loss: 0.0041\n",
            "Epoch 147/250\n",
            " - 1s - loss: 0.0040\n",
            "Epoch 148/250\n",
            " - 1s - loss: 0.0039\n",
            "Epoch 149/250\n",
            " - 1s - loss: 0.0038\n",
            "Epoch 150/250\n",
            " - 1s - loss: 0.0036\n",
            "Epoch 151/250\n",
            " - 1s - loss: 0.0035\n",
            "Epoch 152/250\n",
            " - 1s - loss: 0.0034\n",
            "Epoch 153/250\n",
            " - 1s - loss: 0.0033\n",
            "Epoch 154/250\n",
            " - 1s - loss: 0.0031\n",
            "Epoch 155/250\n",
            " - 1s - loss: 0.0030\n",
            "Epoch 156/250\n",
            " - 1s - loss: 0.0029\n",
            "Epoch 157/250\n",
            " - 1s - loss: 0.0028\n",
            "Epoch 158/250\n",
            " - 1s - loss: 0.0026\n",
            "Epoch 159/250\n",
            " - 1s - loss: 0.0025\n",
            "Epoch 160/250\n",
            " - 1s - loss: 0.0024\n",
            "Epoch 161/250\n",
            " - 1s - loss: 0.0023\n",
            "Epoch 162/250\n",
            " - 1s - loss: 0.0022\n",
            "Epoch 163/250\n",
            " - 1s - loss: 0.0020\n",
            "Epoch 164/250\n",
            " - 1s - loss: 0.0019\n",
            "Epoch 165/250\n",
            " - 1s - loss: 0.0018\n",
            "Epoch 166/250\n",
            " - 1s - loss: 0.0017\n",
            "Epoch 167/250\n",
            " - 1s - loss: 0.0016\n",
            "Epoch 168/250\n",
            " - 1s - loss: 0.0015\n",
            "Epoch 169/250\n",
            " - 1s - loss: 0.0014\n",
            "Epoch 170/250\n",
            " - 1s - loss: 0.0013\n",
            "Epoch 171/250\n",
            " - 1s - loss: 0.0012\n",
            "Epoch 172/250\n",
            " - 1s - loss: 0.0011\n",
            "Epoch 173/250\n",
            " - 1s - loss: 0.0011\n",
            "Epoch 174/250\n",
            " - 1s - loss: 9.7833e-04\n",
            "Epoch 175/250\n",
            " - 1s - loss: 9.0430e-04\n",
            "Epoch 176/250\n",
            " - 1s - loss: 8.3480e-04\n",
            "Epoch 177/250\n",
            " - 1s - loss: 7.6994e-04\n",
            "Epoch 178/250\n",
            " - 1s - loss: 7.0975e-04\n",
            "Epoch 179/250\n",
            " - 1s - loss: 6.5426e-04\n",
            "Epoch 180/250\n",
            " - 1s - loss: 6.0344e-04\n",
            "Epoch 181/250\n",
            " - 1s - loss: 5.5722e-04\n",
            "Epoch 182/250\n",
            " - 1s - loss: 5.1549e-04\n",
            "Epoch 183/250\n",
            " - 1s - loss: 4.7812e-04\n",
            "Epoch 184/250\n",
            " - 1s - loss: 4.4491e-04\n",
            "Epoch 185/250\n",
            " - 1s - loss: 4.1565e-04\n",
            "Epoch 186/250\n",
            " - 1s - loss: 3.9008e-04\n",
            "Epoch 187/250\n",
            " - 1s - loss: 3.6791e-04\n",
            "Epoch 188/250\n",
            " - 1s - loss: 3.4886e-04\n",
            "Epoch 189/250\n",
            " - 1s - loss: 3.3260e-04\n",
            "Epoch 190/250\n",
            " - 1s - loss: 3.1882e-04\n",
            "Epoch 191/250\n",
            " - 1s - loss: 3.0720e-04\n",
            "Epoch 192/250\n",
            " - 1s - loss: 2.9743e-04\n",
            "Epoch 193/250\n",
            " - 1s - loss: 2.8921e-04\n",
            "Epoch 194/250\n",
            " - 1s - loss: 2.8228e-04\n",
            "Epoch 195/250\n",
            " - 1s - loss: 2.7640e-04\n",
            "Epoch 196/250\n",
            " - 1s - loss: 2.7136e-04\n",
            "Epoch 197/250\n",
            " - 1s - loss: 2.6697e-04\n",
            "Epoch 198/250\n",
            " - 1s - loss: 2.6311e-04\n",
            "Epoch 199/250\n",
            " - 1s - loss: 2.5965e-04\n",
            "Epoch 200/250\n",
            " - 1s - loss: 2.5651e-04\n",
            "Epoch 201/250\n",
            " - 1s - loss: 2.5365e-04\n",
            "Epoch 202/250\n",
            " - 1s - loss: 2.5133e-04\n",
            "Epoch 203/250\n",
            " - 1s - loss: 2.5285e-04\n",
            "Epoch 204/250\n",
            " - 1s - loss: 2.8456e-04\n",
            "Epoch 205/250\n",
            " - 1s - loss: 3.3546e-04\n",
            "Epoch 206/250\n",
            " - 1s - loss: 2.9613e-04\n",
            "Epoch 207/250\n",
            " - 1s - loss: 2.6515e-04\n",
            "Epoch 208/250\n",
            " - 1s - loss: 2.5016e-04\n",
            "Epoch 209/250\n",
            " - 1s - loss: 2.4490e-04\n",
            "Epoch 210/250\n",
            " - 1s - loss: 2.4216e-04\n",
            "Epoch 211/250\n",
            " - 1s - loss: 2.4047e-04\n",
            "Epoch 212/250\n",
            " - 1s - loss: 2.3915e-04\n",
            "Epoch 213/250\n",
            " - 1s - loss: 2.3808e-04\n",
            "Epoch 214/250\n",
            " - 1s - loss: 2.3722e-04\n",
            "Epoch 215/250\n",
            " - 1s - loss: 2.3674e-04\n",
            "Epoch 216/250\n",
            " - 1s - loss: 2.3700e-04\n",
            "Epoch 217/250\n",
            " - 1s - loss: 2.3900e-04\n",
            "Epoch 218/250\n",
            " - 1s - loss: 2.4436e-04\n",
            "Epoch 219/250\n",
            " - 1s - loss: 2.5486e-04\n",
            "Epoch 220/250\n",
            " - 1s - loss: 2.6427e-04\n",
            "Epoch 221/250\n",
            " - 1s - loss: 2.6515e-04\n",
            "Epoch 222/250\n",
            " - 1s - loss: 2.5337e-04\n",
            "Epoch 223/250\n",
            " - 1s - loss: 2.4451e-04\n",
            "Epoch 224/250\n",
            " - 1s - loss: 2.3716e-04\n",
            "Epoch 225/250\n",
            " - 1s - loss: 2.3345e-04\n",
            "Epoch 226/250\n",
            " - 1s - loss: 2.3088e-04\n",
            "Epoch 227/250\n",
            " - 1s - loss: 2.2959e-04\n",
            "Epoch 228/250\n",
            " - 1s - loss: 2.2881e-04\n",
            "Epoch 229/250\n",
            " - 1s - loss: 2.2892e-04\n",
            "Epoch 230/250\n",
            " - 1s - loss: 2.2968e-04\n",
            "Epoch 231/250\n",
            " - 1s - loss: 2.3183e-04\n",
            "Epoch 232/250\n",
            " - 1s - loss: 2.3478e-04\n",
            "Epoch 233/250\n",
            " - 1s - loss: 2.3894e-04\n",
            "Epoch 234/250\n",
            " - 1s - loss: 2.4082e-04\n",
            "Epoch 235/250\n",
            " - 1s - loss: 2.4128e-04\n",
            "Epoch 236/250\n",
            " - 1s - loss: 2.3722e-04\n",
            "Epoch 237/250\n",
            " - 1s - loss: 2.3382e-04\n",
            "Epoch 238/250\n",
            " - 1s - loss: 2.2941e-04\n",
            "Epoch 239/250\n",
            " - 1s - loss: 2.2692e-04\n",
            "Epoch 240/250\n",
            " - 1s - loss: 2.2460e-04\n",
            "Epoch 241/250\n",
            " - 1s - loss: 2.2364e-04\n",
            "Epoch 242/250\n",
            " - 1s - loss: 2.2286e-04\n",
            "Epoch 243/250\n",
            " - 1s - loss: 2.2316e-04\n",
            "Epoch 244/250\n",
            " - 1s - loss: 2.2356e-04\n",
            "Epoch 245/250\n",
            " - 1s - loss: 2.2502e-04\n",
            "Epoch 246/250\n",
            " - 1s - loss: 2.2604e-04\n",
            "Epoch 247/250\n",
            " - 1s - loss: 2.2768e-04\n",
            "Epoch 248/250\n",
            " - 1s - loss: 2.2748e-04\n",
            "Epoch 249/250\n",
            " - 1s - loss: 2.2743e-04\n",
            "Epoch 250/250\n",
            " - 1s - loss: 2.2521e-04\n",
            "Model Fit Complete\n"
          ],
          "name": "stdout"
        }
      ]
    },
    {
      "cell_type": "code",
      "metadata": {
        "id": "g07f1lEGXu_T",
        "colab_type": "code",
        "outputId": "004a64b1-ed4c-4e4a-f00f-60696e0b9107",
        "colab": {
          "base_uri": "https://localhost:8080/",
          "height": 34
        }
      },
      "source": [
        "# train fit performance\n",
        "trainPredict = seq_lstm_model.predict(train_x)\n",
        "trainScore = math.sqrt(mean_squared_error(train_y[0], trainPredict[0]))\n",
        "print('Train Score: %.2f RMSE' % (trainScore))"
      ],
      "execution_count": 247,
      "outputs": [
        {
          "output_type": "stream",
          "text": [
            "Train Score: 0.01 RMSE\n"
          ],
          "name": "stdout"
        }
      ]
    },
    {
      "cell_type": "code",
      "metadata": {
        "id": "URNrqwpl1SbQ",
        "colab_type": "code",
        "outputId": "3aa2b7e4-7018-44fc-b7e9-791bd2e41153",
        "colab": {
          "base_uri": "https://localhost:8080/",
          "height": 136
        }
      },
      "source": [
        "trainPredict"
      ],
      "execution_count": 248,
      "outputs": [
        {
          "output_type": "execute_result",
          "data": {
            "text/plain": [
              "array([[[0.04620703],\n",
              "        [0.04827509],\n",
              "        [0.04730304],\n",
              "        ...,\n",
              "        [0.32334983],\n",
              "        [0.3240028 ],\n",
              "        [0.3247273 ]]], dtype=float32)"
            ]
          },
          "metadata": {
            "tags": []
          },
          "execution_count": 248
        }
      ]
    },
    {
      "cell_type": "code",
      "metadata": {
        "id": "ZW0LgTTSXyKR",
        "colab_type": "code",
        "colab": {}
      },
      "source": [
        "# Pad input sequence\n",
        "testPredict = pad_sequences(test_x,maxlen=train_x.shape[1],padding='post',dtype='float64')"
      ],
      "execution_count": 0,
      "outputs": []
    },
    {
      "cell_type": "code",
      "metadata": {
        "id": "XsR5ytjpX2yj",
        "colab_type": "code",
        "outputId": "e6fc98f9-d57d-4cc5-f78b-45058c1cd1c8",
        "colab": {
          "base_uri": "https://localhost:8080/",
          "height": 136
        }
      },
      "source": [
        "# forecast values\n",
        "testPredict = seq_lstm_model.predict(testPredict)\n",
        "testPredict"
      ],
      "execution_count": 250,
      "outputs": [
        {
          "output_type": "execute_result",
          "data": {
            "text/plain": [
              "array([[[0.06111781],\n",
              "        [0.08601111],\n",
              "        [0.1103594 ],\n",
              "        ...,\n",
              "        [0.01875919],\n",
              "        [0.01875919],\n",
              "        [0.01875919]]], dtype=float32)"
            ]
          },
          "metadata": {
            "tags": []
          },
          "execution_count": 250
        }
      ]
    },
    {
      "cell_type": "code",
      "metadata": {
        "id": "z_XhF1MjX4gh",
        "colab_type": "code",
        "outputId": "ee7ce7bb-6794-4bc6-c426-a0dde8b530f9",
        "colab": {
          "base_uri": "https://localhost:8080/",
          "height": 136
        }
      },
      "source": [
        "# forecast values\n",
        "testPredict = seq_lstm_model.predict(testPredict)\n",
        "testPredict"
      ],
      "execution_count": 251,
      "outputs": [
        {
          "output_type": "execute_result",
          "data": {
            "text/plain": [
              "array([[[0.04859894],\n",
              "        [0.05537906],\n",
              "        [0.06110366],\n",
              "        ...,\n",
              "        [0.0308423 ],\n",
              "        [0.0308423 ],\n",
              "        [0.0308423 ]]], dtype=float32)"
            ]
          },
          "metadata": {
            "tags": []
          },
          "execution_count": 251
        }
      ]
    },
    {
      "cell_type": "code",
      "metadata": {
        "id": "KvjYccaoN8hP",
        "colab_type": "code",
        "outputId": "3cd57d62-def4-4cec-bb71-009745503e83",
        "colab": {
          "base_uri": "https://localhost:8080/",
          "height": 136
        }
      },
      "source": [
        "testPredict"
      ],
      "execution_count": 252,
      "outputs": [
        {
          "output_type": "execute_result",
          "data": {
            "text/plain": [
              "array([[[0.04859894],\n",
              "        [0.05537906],\n",
              "        [0.06110366],\n",
              "        ...,\n",
              "        [0.0308423 ],\n",
              "        [0.0308423 ],\n",
              "        [0.0308423 ]]], dtype=float32)"
            ]
          },
          "metadata": {
            "tags": []
          },
          "execution_count": 252
        }
      ]
    },
    {
      "cell_type": "code",
      "metadata": {
        "id": "EMtIMjJRE18q",
        "colab_type": "code",
        "colab": {
          "base_uri": "https://localhost:8080/",
          "height": 34
        },
        "outputId": "2457661e-ddcc-478b-da05-31e9d106d2d8"
      },
      "source": [
        "scaler"
      ],
      "execution_count": 253,
      "outputs": [
        {
          "output_type": "execute_result",
          "data": {
            "text/plain": [
              "MinMaxScaler(copy=True, feature_range=(0, 1))"
            ]
          },
          "metadata": {
            "tags": []
          },
          "execution_count": 253
        }
      ]
    },
    {
      "cell_type": "code",
      "metadata": {
        "id": "zA7Aehl4X5ck",
        "colab_type": "code",
        "colab": {}
      },
      "source": [
        "# # inverse transformation\n",
        "\n",
        "#scaler = MinMaxScaler(feature_range=(0, 1))\n",
        "#time_series = np.array(second_split.Close).reshape(-1,1)\n",
        "#scaler = scaler.fit(time_series)\n",
        "\n",
        "#trainPredict=trainPredict.reshape(trainPredict.shape[1])\n",
        "#testPredict=testPredict.reshape(testPredict.shape[1])\n",
        "\n",
        "\n",
        " #scaler = MinMaxScaler(feature_range=(0, 1))\n",
        "\n",
        "# trainPredict = scaler.inverse_transform(trainPredict.reshape(trainPredict.shape[1]))\n",
        "# testPredict = scaler.inverse_transform(testPredict.reshape(testPredict.shape[1]))\n",
        "\n",
        "trainPredict = scaler.inverse_transform(trainPredict.\\\n",
        "                                        reshape(-1,1))\n",
        "testPredict = scaler.inverse_transform(testPredict.\\\n",
        "                                       reshape(-1,1))"
      ],
      "execution_count": 0,
      "outputs": []
    },
    {
      "cell_type": "code",
      "metadata": {
        "id": "x_nZ9samd1Rs",
        "colab_type": "code",
        "outputId": "97a8d141-e9ea-4fb1-ba1a-006523849ae2",
        "colab": {
          "base_uri": "https://localhost:8080/",
          "height": 136
        }
      },
      "source": [
        "trainPredict"
      ],
      "execution_count": 255,
      "outputs": [
        {
          "output_type": "execute_result",
          "data": {
            "text/plain": [
              "array([[ 40.41921 ],\n",
              "       [ 40.968273],\n",
              "       [ 40.710197],\n",
              "       ...,\n",
              "       [114.00026 ],\n",
              "       [114.17362 ],\n",
              "       [114.365974]], dtype=float32)"
            ]
          },
          "metadata": {
            "tags": []
          },
          "execution_count": 255
        }
      ]
    },
    {
      "cell_type": "code",
      "metadata": {
        "id": "NRMR0WkN3XIh",
        "colab_type": "code",
        "outputId": "a6fa1a3e-7711-43c2-b2e5-28fa6bff5b58",
        "colab": {
          "base_uri": "https://localhost:8080/",
          "height": 607
        }
      },
      "source": [
        "# plot the true and forecasted values\n",
        "train_size = len(trainPredict)+1\n",
        "#second_split.Date.dt.year\n",
        "# plt.plot(second_split.index,\n",
        "#           second_split.Close.values,c='black',\n",
        "#           alpha=0.3,label='True Data')\n",
        "plt.plot(second_split.Date,\n",
        "          second_split.Close.values,c='black',\n",
        "          alpha=0.3,label='True Data')\n",
        "# multipl x2\n",
        "plt.plot(second_split.Date[1:train_size],\n",
        "          trainPredict,label='Training Fit',c='g')\n",
        "#mulitple x3\n",
        "plt.plot(second_split.Date[train_size+1:],\n",
        "          testPredict[:test_x.shape[1]],label='Testing Forecast')\n",
        "plt.title('Forecast Plot')\n",
        "plt.legend()\n",
        "plt.show()\n",
        "plt.rcParams[\"figure.figsize\"] = (20,10)\n",
        "plt.show()"
      ],
      "execution_count": 256,
      "outputs": [
        {
          "output_type": "display_data",
          "data": {
            "image/png": "[encoded data removed]",
            "text/plain": [
              "<Figure size 1440x720 with 1 Axes>"
            ]
          },
          "metadata": {
            "tags": []
          }
        }
      ]
    }
  ]
}