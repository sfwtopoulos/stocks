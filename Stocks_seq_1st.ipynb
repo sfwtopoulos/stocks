{
  "nbformat": 4,
  "nbformat_minor": 0,
  "metadata": {
    "colab": {
      "name": "Stocks_seq_1st.ipynb",
      "provenance": [],
      "collapsed_sections": [],
      "include_colab_link": true
    },
    "kernelspec": {
      "name": "python3",
      "display_name": "Python 3"
    }
  },
  "cells": [
    {
      "cell_type": "markdown",
      "metadata": {
        "id": "view-in-github",
        "colab_type": "text"
      },
      "source": [
        "<a href=\"https://colab.research.google.com/github/sfwtopoulos/stocks/blob/master/Stocks_seq_1st.ipynb\" target=\"_parent\"><img src=\"https://colab.research.google.com/assets/colab-badge.svg\" alt=\"Open In Colab\"/></a>"
      ]
    },
    {
      "cell_type": "code",
      "metadata": {
        "id": "DOmxraS5T1wD",
        "colab_type": "code",
        "colab": {}
      },
      "source": [
        "import pandas as pd\n",
        "import matplotlib.pyplot as plt\n",
        "import pandas as pd\n",
        "import math\n",
        "import warnings\n",
        "import numpy as np\n",
        "import time\n",
        "\n",
        "import pandas_datareader as pdr\n",
        "#%tensorflow_version 2.x\n",
        "# Restart runtime using 'Runtime' -> 'Restart runtime...'\n",
        "%tensorflow_version 1.x\n",
        "import tensorflow as tf\n",
        "import keras\n",
        "\n",
        "\n",
        "from keras.layers import LSTM\n",
        "from keras.models import Sequential\n",
        "from keras.layers.wrappers import TimeDistributed\n",
        "from keras.layers.core import Dense, Activation, Dropout\n",
        "from keras.preprocessing.sequence import pad_sequences\n",
        "\n",
        "from sklearn.preprocessing import MinMaxScaler\n",
        "from sklearn.metrics import mean_squared_error\n",
        "import seaborn as sns\n",
        "import matplotlib.pyplot as plt\n",
        "#not all needed\n",
        "\n",
        "\n",
        "warnings.filterwarnings('ignore',category=FutureWarning)\n",
        "warnings.filterwarnings('ignore', category=DeprecationWarning)"
      ],
      "execution_count": 0,
      "outputs": []
    },
    {
      "cell_type": "code",
      "metadata": {
        "id": "2byEjZdZVJrz",
        "colab_type": "code",
        "outputId": "0820f788-8b0d-48fe-d223-c9cfafb6b866",
        "colab": {
          "base_uri": "https://localhost:8080/",
          "height": 51
        }
      },
      "source": [
        "print(keras.__version__)\n",
        "print(tf.__version__)\n",
        "#print(tensorflow.compat.v2.__version__)"
      ],
      "execution_count": 340,
      "outputs": [
        {
          "output_type": "stream",
          "text": [
            "2.2.5\n",
            "1.15.0\n"
          ],
          "name": "stdout"
        }
      ]
    },
    {
      "cell_type": "code",
      "metadata": {
        "id": "tVJdUlQJUDjY",
        "colab_type": "code",
        "colab": {}
      },
      "source": [
        "#Data import from git repo\n",
        "url = 'https://raw.githubusercontent.com/sfwtopoulos/stocks/master/stocks_dataset/combined.csv'\n",
        "#df1 = pd.read_csv(url, error_bad_lines=False)\n",
        "dfstocks = pd.read_csv(url, sep=',')"
      ],
      "execution_count": 0,
      "outputs": []
    },
    {
      "cell_type": "code",
      "metadata": {
        "id": "A1gYAB3OUECs",
        "colab_type": "code",
        "outputId": "f8bd4b63-5140-45ae-d158-52ce272d8d9a",
        "colab": {
          "base_uri": "https://localhost:8080/",
          "height": 136
        }
      },
      "source": [
        "#fix column names\n",
        "dfstocks=dfstocks.rename({' AAPL':'Company', ' Close/Last':'Close', ' Volume':'Volume', ' Open':'Open', ' High':'High', ' Low':'Low'}, axis=1);\n",
        "for col in dfstocks.columns: \n",
        "    print(col) "
      ],
      "execution_count": 342,
      "outputs": [
        {
          "output_type": "stream",
          "text": [
            "Date\n",
            "Close\n",
            "Volume\n",
            "Open\n",
            "High\n",
            "Low\n",
            "Company\n"
          ],
          "name": "stdout"
        }
      ]
    },
    {
      "cell_type": "code",
      "metadata": {
        "id": "vlSTPXYHUHSB",
        "colab_type": "code",
        "colab": {}
      },
      "source": [
        "#drop $sign from values\n",
        "dfstocks.Close=dfstocks['Close'].astype(str)\n",
        "dfstocks.Close=dfstocks.Close.apply(lambda x: x.replace('$',''))\n",
        "dfstocks.Open=dfstocks['Open'].astype(str)\n",
        "dfstocks.Open=dfstocks.Open.apply(lambda x: x.replace('$',''))\n",
        "dfstocks.High=dfstocks['High'].astype(str)\n",
        "dfstocks.High=dfstocks.High.apply(lambda x: x.replace('$',''))\n",
        "dfstocks.Low=dfstocks['Low'].astype(str)\n",
        "dfstocks.Low=dfstocks.Low.apply(lambda x: x.replace('$',''))"
      ],
      "execution_count": 0,
      "outputs": []
    },
    {
      "cell_type": "code",
      "metadata": {
        "id": "F4cxCV_YUJGa",
        "colab_type": "code",
        "outputId": "eaf8e393-2c2b-4dd6-d5e0-636dc4cb9f02",
        "colab": {
          "base_uri": "https://localhost:8080/",
          "height": 34
        }
      },
      "source": [
        "#drop rows containing nan or header from the csv files\n",
        "dfstocks=dfstocks[~dfstocks.Low.str.contains(\"nan\")]\n",
        "dfstocks=dfstocks[~dfstocks.Low.str.contains(\"Low\")]\n",
        "dfstocks=dfstocks[~dfstocks.Low.str.contains(\"N/A\")]\n",
        "dfstocks=dfstocks[~dfstocks.Volume.str.contains(\"N/A\")]\n",
        "dfstocks.reset_index(drop=True, inplace=True)\n",
        "dfstocks.Date.count()"
      ],
      "execution_count": 344,
      "outputs": [
        {
          "output_type": "execute_result",
          "data": {
            "text/plain": [
              "229269"
            ]
          },
          "metadata": {
            "tags": []
          },
          "execution_count": 344
        }
      ]
    },
    {
      "cell_type": "code",
      "metadata": {
        "id": "te4JUA9lUL06",
        "colab_type": "code",
        "outputId": "8147ad5f-a27f-4581-9133-d528cf75cac5",
        "colab": {
          "base_uri": "https://localhost:8080/",
          "height": 419
        }
      },
      "source": [
        "#sort dataframe based on date and Company Name\n",
        "dfstocks = dfstocks.sort_values(['Date', 'Company'])\n",
        "dfstocks.head(100)"
      ],
      "execution_count": 345,
      "outputs": [
        {
          "output_type": "execute_result",
          "data": {
            "text/html": [
              "<div>\n",
              "<style scoped>\n",
              "    .dataframe tbody tr th:only-of-type {\n",
              "        vertical-align: middle;\n",
              "    }\n",
              "\n",
              "    .dataframe tbody tr th {\n",
              "        vertical-align: top;\n",
              "    }\n",
              "\n",
              "    .dataframe thead th {\n",
              "        text-align: right;\n",
              "    }\n",
              "</style>\n",
              "<table border=\"1\" class=\"dataframe\">\n",
              "  <thead>\n",
              "    <tr style=\"text-align: right;\">\n",
              "      <th></th>\n",
              "      <th>Date</th>\n",
              "      <th>Close</th>\n",
              "      <th>Volume</th>\n",
              "      <th>Open</th>\n",
              "      <th>High</th>\n",
              "      <th>Low</th>\n",
              "      <th>Company</th>\n",
              "    </tr>\n",
              "  </thead>\n",
              "  <tbody>\n",
              "    <tr>\n",
              "      <th>1761</th>\n",
              "      <td>01/02/2013</td>\n",
              "      <td>78.4328</td>\n",
              "      <td>139906732</td>\n",
              "      <td>79.1171</td>\n",
              "      <td>79.2857</td>\n",
              "      <td>77.3757</td>\n",
              "      <td>AAPL</td>\n",
              "    </tr>\n",
              "    <tr>\n",
              "      <th>4248</th>\n",
              "      <td>01/02/2013</td>\n",
              "      <td>35.12</td>\n",
              "      <td>13767660</td>\n",
              "      <td>34.92</td>\n",
              "      <td>35.4</td>\n",
              "      <td>34.1</td>\n",
              "      <td>ABBV</td>\n",
              "    </tr>\n",
              "    <tr>\n",
              "      <th>6025</th>\n",
              "      <td>01/02/2013</td>\n",
              "      <td>32.05</td>\n",
              "      <td>20266410</td>\n",
              "      <td>32.3</td>\n",
              "      <td>32.45</td>\n",
              "      <td>31.64</td>\n",
              "      <td>ABT</td>\n",
              "    </tr>\n",
              "    <tr>\n",
              "      <th>8512</th>\n",
              "      <td>01/02/2013</td>\n",
              "      <td>69.06</td>\n",
              "      <td>4039095</td>\n",
              "      <td>67.59</td>\n",
              "      <td>69.06</td>\n",
              "      <td>67.55</td>\n",
              "      <td>ACN</td>\n",
              "    </tr>\n",
              "    <tr>\n",
              "      <th>10999</th>\n",
              "      <td>01/02/2013</td>\n",
              "      <td>38.34</td>\n",
              "      <td>6483720</td>\n",
              "      <td>37.92</td>\n",
              "      <td>38.73</td>\n",
              "      <td>37.92</td>\n",
              "      <td>ADBE</td>\n",
              "    </tr>\n",
              "    <tr>\n",
              "      <th>...</th>\n",
              "      <td>...</td>\n",
              "      <td>...</td>\n",
              "      <td>...</td>\n",
              "      <td>...</td>\n",
              "      <td>...</td>\n",
              "      <td>...</td>\n",
              "      <td>...</td>\n",
              "    </tr>\n",
              "    <tr>\n",
              "      <th>10747</th>\n",
              "      <td>01/02/2014</td>\n",
              "      <td>59.29</td>\n",
              "      <td>2745895</td>\n",
              "      <td>59.06</td>\n",
              "      <td>59.53</td>\n",
              "      <td>58.94</td>\n",
              "      <td>ADBE</td>\n",
              "    </tr>\n",
              "    <tr>\n",
              "      <th>13234</th>\n",
              "      <td>01/02/2014</td>\n",
              "      <td>168.05</td>\n",
              "      <td>1268722</td>\n",
              "      <td>167.33</td>\n",
              "      <td>170.71</td>\n",
              "      <td>166.5937</td>\n",
              "      <td>AGN</td>\n",
              "    </tr>\n",
              "    <tr>\n",
              "      <th>15721</th>\n",
              "      <td>01/02/2014</td>\n",
              "      <td>50.71</td>\n",
              "      <td>9196092</td>\n",
              "      <td>50.81</td>\n",
              "      <td>51.3</td>\n",
              "      <td>50.47</td>\n",
              "      <td>AIG</td>\n",
              "    </tr>\n",
              "    <tr>\n",
              "      <th>18208</th>\n",
              "      <td>01/02/2014</td>\n",
              "      <td>53.55</td>\n",
              "      <td>1909106</td>\n",
              "      <td>54.09</td>\n",
              "      <td>54.45</td>\n",
              "      <td>53.5</td>\n",
              "      <td>ALL</td>\n",
              "    </tr>\n",
              "    <tr>\n",
              "      <th>20695</th>\n",
              "      <td>01/02/2014</td>\n",
              "      <td>115.795</td>\n",
              "      <td>2528751</td>\n",
              "      <td>114.36</td>\n",
              "      <td>116.19</td>\n",
              "      <td>114.06</td>\n",
              "      <td>AMGN</td>\n",
              "    </tr>\n",
              "  </tbody>\n",
              "</table>\n",
              "<p>100 rows × 7 columns</p>\n",
              "</div>"
            ],
            "text/plain": [
              "             Date     Close      Volume      Open      High        Low Company\n",
              "1761   01/02/2013   78.4328   139906732   79.1171   79.2857    77.3757    AAPL\n",
              "4248   01/02/2013     35.12    13767660     34.92      35.4       34.1    ABBV\n",
              "6025   01/02/2013     32.05    20266410      32.3     32.45      31.64     ABT\n",
              "8512   01/02/2013     69.06     4039095     67.59     69.06      67.55     ACN\n",
              "10999  01/02/2013     38.34     6483720     37.92     38.73      37.92    ADBE\n",
              "...           ...       ...         ...       ...       ...        ...     ...\n",
              "10747  01/02/2014     59.29     2745895     59.06     59.53      58.94    ADBE\n",
              "13234  01/02/2014    168.05     1268722    167.33    170.71   166.5937     AGN\n",
              "15721  01/02/2014     50.71     9196092     50.81      51.3      50.47     AIG\n",
              "18208  01/02/2014     53.55     1909106     54.09     54.45       53.5     ALL\n",
              "20695  01/02/2014   115.795     2528751    114.36    116.19     114.06    AMGN\n",
              "\n",
              "[100 rows x 7 columns]"
            ]
          },
          "metadata": {
            "tags": []
          },
          "execution_count": 345
        }
      ]
    },
    {
      "cell_type": "code",
      "metadata": {
        "id": "SvGv9U_NHZcv",
        "colab_type": "code",
        "outputId": "57a5ee20-6d95-4902-fd70-2539158282d8",
        "colab": {
          "base_uri": "https://localhost:8080/",
          "height": 153
        }
      },
      "source": [
        "#Converting Datatypes\n",
        "dfstocks.Date=pd.to_datetime(dfstocks.Date)\n",
        "dfstocks.Close=pd.to_numeric(dfstocks.Close)\n",
        "dfstocks.Volume=pd.to_numeric(dfstocks.Volume)\n",
        "dfstocks.Open=pd.to_numeric(dfstocks.Open)\n",
        "dfstocks.High=pd.to_numeric(dfstocks.High)\n",
        "dfstocks.Low=pd.to_numeric(dfstocks.Low)\n",
        "dfstocks.dtypes"
      ],
      "execution_count": 346,
      "outputs": [
        {
          "output_type": "execute_result",
          "data": {
            "text/plain": [
              "Date       datetime64[ns]\n",
              "Close             float64\n",
              "Volume              int64\n",
              "Open              float64\n",
              "High              float64\n",
              "Low               float64\n",
              "Company            object\n",
              "dtype: object"
            ]
          },
          "metadata": {
            "tags": []
          },
          "execution_count": 346
        }
      ]
    },
    {
      "cell_type": "code",
      "metadata": {
        "id": "rsD9-1pONB6V",
        "colab_type": "code",
        "outputId": "4a4202eb-396c-4ff3-a1d4-0ada8281ddfe",
        "colab": {
          "base_uri": "https://localhost:8080/",
          "height": 34
        }
      },
      "source": [
        "#dfstocks[dfstocks['Company'].str.contains(\"AMZN\")]\n",
        "sub_split=dfstocks[dfstocks['Company'].str.contains(\"AIG\")]\n",
        "sub_split.isnull().values.any()\n",
        "sub_split.isna().values.any()\n",
        "sub_split = sub_split.sort_values(['Date'])\n",
        "sub_split.reset_index(drop=True, inplace=True)\n",
        "sub_split.shape[0]"
      ],
      "execution_count": 347,
      "outputs": [
        {
          "output_type": "execute_result",
          "data": {
            "text/plain": [
              "2487"
            ]
          },
          "metadata": {
            "tags": []
          },
          "execution_count": 347
        }
      ]
    },
    {
      "cell_type": "code",
      "metadata": {
        "id": "te-gSnYPU0wX",
        "colab_type": "code",
        "outputId": "957dd6c3-2a6c-46cd-84ba-47e1488afac2",
        "colab": {
          "base_uri": "https://localhost:8080/",
          "height": 419
        }
      },
      "source": [
        "sub_split"
      ],
      "execution_count": 348,
      "outputs": [
        {
          "output_type": "execute_result",
          "data": {
            "text/html": [
              "<div>\n",
              "<style scoped>\n",
              "    .dataframe tbody tr th:only-of-type {\n",
              "        vertical-align: middle;\n",
              "    }\n",
              "\n",
              "    .dataframe tbody tr th {\n",
              "        vertical-align: top;\n",
              "    }\n",
              "\n",
              "    .dataframe thead th {\n",
              "        text-align: right;\n",
              "    }\n",
              "</style>\n",
              "<table border=\"1\" class=\"dataframe\">\n",
              "  <thead>\n",
              "    <tr style=\"text-align: right;\">\n",
              "      <th></th>\n",
              "      <th>Date</th>\n",
              "      <th>Close</th>\n",
              "      <th>Volume</th>\n",
              "      <th>Open</th>\n",
              "      <th>High</th>\n",
              "      <th>Low</th>\n",
              "      <th>Company</th>\n",
              "    </tr>\n",
              "  </thead>\n",
              "  <tbody>\n",
              "    <tr>\n",
              "      <th>0</th>\n",
              "      <td>2010-02-16</td>\n",
              "      <td>24.2741</td>\n",
              "      <td>6885337</td>\n",
              "      <td>24.2741</td>\n",
              "      <td>24.6812</td>\n",
              "      <td>23.9378</td>\n",
              "      <td>AIG</td>\n",
              "    </tr>\n",
              "    <tr>\n",
              "      <th>1</th>\n",
              "      <td>2010-02-17</td>\n",
              "      <td>23.8051</td>\n",
              "      <td>5359506</td>\n",
              "      <td>24.3626</td>\n",
              "      <td>24.6369</td>\n",
              "      <td>23.5927</td>\n",
              "      <td>AIG</td>\n",
              "    </tr>\n",
              "    <tr>\n",
              "      <th>2</th>\n",
              "      <td>2010-02-18</td>\n",
              "      <td>23.6369</td>\n",
              "      <td>6479876</td>\n",
              "      <td>23.3715</td>\n",
              "      <td>24.3537</td>\n",
              "      <td>23.2299</td>\n",
              "      <td>AIG</td>\n",
              "    </tr>\n",
              "    <tr>\n",
              "      <th>3</th>\n",
              "      <td>2010-02-19</td>\n",
              "      <td>23.4776</td>\n",
              "      <td>4670052</td>\n",
              "      <td>23.4865</td>\n",
              "      <td>23.7431</td>\n",
              "      <td>23.3095</td>\n",
              "      <td>AIG</td>\n",
              "    </tr>\n",
              "    <tr>\n",
              "      <th>4</th>\n",
              "      <td>2010-02-22</td>\n",
              "      <td>25.1590</td>\n",
              "      <td>24127010</td>\n",
              "      <td>23.7962</td>\n",
              "      <td>25.9290</td>\n",
              "      <td>23.5130</td>\n",
              "      <td>AIG</td>\n",
              "    </tr>\n",
              "    <tr>\n",
              "      <th>...</th>\n",
              "      <td>...</td>\n",
              "      <td>...</td>\n",
              "      <td>...</td>\n",
              "      <td>...</td>\n",
              "      <td>...</td>\n",
              "      <td>...</td>\n",
              "      <td>...</td>\n",
              "    </tr>\n",
              "    <tr>\n",
              "      <th>2482</th>\n",
              "      <td>2019-12-24</td>\n",
              "      <td>50.9400</td>\n",
              "      <td>1138631</td>\n",
              "      <td>50.7900</td>\n",
              "      <td>51.4500</td>\n",
              "      <td>50.7872</td>\n",
              "      <td>AIG</td>\n",
              "    </tr>\n",
              "    <tr>\n",
              "      <th>2483</th>\n",
              "      <td>2019-12-26</td>\n",
              "      <td>50.6200</td>\n",
              "      <td>2811077</td>\n",
              "      <td>51.0500</td>\n",
              "      <td>51.1900</td>\n",
              "      <td>50.5723</td>\n",
              "      <td>AIG</td>\n",
              "    </tr>\n",
              "    <tr>\n",
              "      <th>2484</th>\n",
              "      <td>2019-12-27</td>\n",
              "      <td>51.0700</td>\n",
              "      <td>2374830</td>\n",
              "      <td>50.7600</td>\n",
              "      <td>51.0800</td>\n",
              "      <td>50.5800</td>\n",
              "      <td>AIG</td>\n",
              "    </tr>\n",
              "    <tr>\n",
              "      <th>2485</th>\n",
              "      <td>2019-12-30</td>\n",
              "      <td>51.0000</td>\n",
              "      <td>2706309</td>\n",
              "      <td>51.2200</td>\n",
              "      <td>51.2300</td>\n",
              "      <td>50.7800</td>\n",
              "      <td>AIG</td>\n",
              "    </tr>\n",
              "    <tr>\n",
              "      <th>2486</th>\n",
              "      <td>2019-12-31</td>\n",
              "      <td>51.3300</td>\n",
              "      <td>2912499</td>\n",
              "      <td>51.0000</td>\n",
              "      <td>51.3700</td>\n",
              "      <td>50.8750</td>\n",
              "      <td>AIG</td>\n",
              "    </tr>\n",
              "  </tbody>\n",
              "</table>\n",
              "<p>2487 rows × 7 columns</p>\n",
              "</div>"
            ],
            "text/plain": [
              "           Date    Close    Volume     Open     High      Low Company\n",
              "0    2010-02-16  24.2741   6885337  24.2741  24.6812  23.9378     AIG\n",
              "1    2010-02-17  23.8051   5359506  24.3626  24.6369  23.5927     AIG\n",
              "2    2010-02-18  23.6369   6479876  23.3715  24.3537  23.2299     AIG\n",
              "3    2010-02-19  23.4776   4670052  23.4865  23.7431  23.3095     AIG\n",
              "4    2010-02-22  25.1590  24127010  23.7962  25.9290  23.5130     AIG\n",
              "...         ...      ...       ...      ...      ...      ...     ...\n",
              "2482 2019-12-24  50.9400   1138631  50.7900  51.4500  50.7872     AIG\n",
              "2483 2019-12-26  50.6200   2811077  51.0500  51.1900  50.5723     AIG\n",
              "2484 2019-12-27  51.0700   2374830  50.7600  51.0800  50.5800     AIG\n",
              "2485 2019-12-30  51.0000   2706309  51.2200  51.2300  50.7800     AIG\n",
              "2486 2019-12-31  51.3300   2912499  51.0000  51.3700  50.8750     AIG\n",
              "\n",
              "[2487 rows x 7 columns]"
            ]
          },
          "metadata": {
            "tags": []
          },
          "execution_count": 348
        }
      ]
    },
    {
      "cell_type": "code",
      "metadata": {
        "id": "wjwirxd4VutM",
        "colab_type": "code",
        "colab": {}
      },
      "source": [
        "# prepare training and testing data sets for LSTM based sequence modeling\n",
        "#def dimitris_function(time_series, scaling=True,split_ratio=0.9):\n",
        "def dimitris_function(time_series,split_ratio=0.9):\n",
        "\n",
        "    series1 = pd.Series(time_series[time_series.columns[0]])\n",
        "    series2 = pd.Series(time_series[time_series.columns[1]])\n",
        "\n",
        "    values1 = series1.values\n",
        "    values1 = values1.reshape((len(values1), 1))\n",
        "    values2 = series2.values\n",
        "    values2 = values2.reshape((len(values2), 1))\n",
        "\n",
        "    scaler1 = MinMaxScaler(feature_range=(0, 1))\n",
        "    time_series[\"scaled1\"] = scaler1.fit_transform(values1)\n",
        "    scaler2 = MinMaxScaler(feature_range=(0, 1))\n",
        "    time_series[\"scaled2\"]= scaler2.fit_transform(values2)\n",
        "\n",
        "\n",
        "    time_series = time_series[[\"scaled1\",\"scaled2\"]].values\n",
        "\n",
        "        \n",
        "    split_ratio = int(len(time_series) * split_ratio)\n",
        "\n",
        "    train = time_series[0:split_ratio]\n",
        "    test = time_series[split_ratio:len(time_series)]\n",
        "    \n",
        "    return train,test,scaler1,scaler2\n"
      ],
      "execution_count": 0,
      "outputs": []
    },
    {
      "cell_type": "code",
      "metadata": {
        "id": "UN6DYJT7TXPb",
        "colab_type": "code",
        "colab": {}
      },
      "source": [
        "def get_seq_model(hidden_units=4,input_shape=(1,1)):\n",
        "    # create and fit the LSTM network\n",
        "    model = Sequential()\n",
        "    # samples*timesteps*features\n",
        "    # https://keras.io/getting-started/sequential-model-guide/\n",
        "    #relu_advanced=keras.activations.relu(x,)\n",
        "    model.add(LSTM(input_shape=input_shape,\n",
        "                   units = hidden_units,  \n",
        "   #                activation='relu',\n",
        "                   return_sequences=True\n",
        "    ))\n",
        "\n",
        "    # readout layer. TimeDistributedDense uses the same weights for all\n",
        "    # time steps.\n",
        "    # model.add(TimeDistributed(Dense(1))) #number of inputs in the 1st layer\n",
        "    model.add(TimeDistributed(Dense(2)))\n",
        "   \n",
        "    start = time.time()\n",
        "    #softsign\n",
        "    #model.add(activation='softsign')\n",
        "    \n",
        "    model.compile(loss=\"mse\", optimizer=\"rmsprop\")\n",
        "\n",
        "    print(\"> Compilation Time : \", time.time() - start)\n",
        "    print(model.summary())\n",
        "\n",
        "    return model"
      ],
      "execution_count": 0,
      "outputs": []
    },
    {
      "cell_type": "code",
      "metadata": {
        "id": "UiL73vb-dFsK",
        "colab_type": "code",
        "colab": {
          "base_uri": "https://localhost:8080/",
          "height": 34
        },
        "outputId": "c11725a9-70e5-40a1-eb35-deb20a5d249b"
      },
      "source": [
        "print(type(sub_split.Close))\n",
        "sub_split=sub_split[['Volume', 'Close']]\n",
        "#sub_split.columns[1]"
      ],
      "execution_count": 352,
      "outputs": [
        {
          "output_type": "stream",
          "text": [
            "<class 'pandas.core.series.Series'>\n"
          ],
          "name": "stdout"
        }
      ]
    },
    {
      "cell_type": "code",
      "metadata": {
        "id": "zeAENS4LVpDG",
        "colab_type": "code",
        "outputId": "587a313c-e0f3-4510-e87b-e4853a52a585",
        "colab": {
          "base_uri": "https://localhost:8080/",
          "height": 408
        }
      },
      "source": [
        "# split train and test datasets\n",
        "train,test,scaler_Volume,scaler_Close = dimitris_function(sub_split,split_ratio=0.7)\n",
        "\n",
        "#train\n",
        "print(len(train))\n",
        "print(train.shape[0])\n",
        "print(train.shape)\n",
        "print(test.shape)\n",
        "print(train)"
      ],
      "execution_count": 353,
      "outputs": [
        {
          "output_type": "stream",
          "text": [
            "1740\n",
            "1740\n",
            "(1740, 2)\n",
            "(747, 2)\n",
            "[[0.01851646 0.08920221]\n",
            " [0.01377032 0.07925101]\n",
            " [0.01725527 0.07568216]\n",
            " ...\n",
            " [0.01061443 0.98260132]\n",
            " [0.01250318 1.        ]\n",
            " [0.01188957 0.99469552]]\n"
          ],
          "name": "stdout"
        },
        {
          "output_type": "stream",
          "text": [
            "/usr/local/lib/python3.6/dist-packages/ipykernel_launcher.py:13: SettingWithCopyWarning: \n",
            "A value is trying to be set on a copy of a slice from a DataFrame.\n",
            "Try using .loc[row_indexer,col_indexer] = value instead\n",
            "\n",
            "See the caveats in the documentation: http://pandas.pydata.org/pandas-docs/stable/user_guide/indexing.html#returning-a-view-versus-a-copy\n",
            "  del sys.path[0]\n",
            "/usr/local/lib/python3.6/dist-packages/ipykernel_launcher.py:16: SettingWithCopyWarning: \n",
            "A value is trying to be set on a copy of a slice from a DataFrame.\n",
            "Try using .loc[row_indexer,col_indexer] = value instead\n",
            "\n",
            "See the caveats in the documentation: http://pandas.pydata.org/pandas-docs/stable/user_guide/indexing.html#returning-a-view-versus-a-copy\n",
            "  app.launch_new_instance()\n"
          ],
          "name": "stderr"
        }
      ]
    },
    {
      "cell_type": "code",
      "metadata": {
        "id": "uZG7396CWoy9",
        "colab_type": "code",
        "outputId": "edbb77b9-5c2a-4483-c649-fc13477f9b53",
        "colab": {
          "base_uri": "https://localhost:8080/",
          "height": 102
        }
      },
      "source": [
        "#We use numpy to reshape our time series into 3D tensors.\n",
        "train = np.reshape(train,(1,train.shape[0],2))\n",
        "test = np.reshape(test,(1,test.shape[0],2))\n",
        "\n",
        "train_x = train[:,:-1,:]\n",
        "train_y = train[:,1:,:]\n",
        "\n",
        "test_x = test[:,:-1,:]\n",
        "test_y = test[:,1:,:]\n",
        "\n",
        "print(\"Data Split Complete\")\n",
        "\n",
        "print(\"train_x shape={}\".format(train_x.shape))\n",
        "print(\"train_y shape={}\".format(train_y.shape))\n",
        "print(\"test_x shape={}\".format(test_x.shape))\n",
        "print(\"test_y shape={}\".format(test_y.shape))"
      ],
      "execution_count": 354,
      "outputs": [
        {
          "output_type": "stream",
          "text": [
            "Data Split Complete\n",
            "train_x shape=(1, 1739, 2)\n",
            "train_y shape=(1, 1739, 2)\n",
            "test_x shape=(1, 746, 2)\n",
            "test_y shape=(1, 746, 2)\n"
          ],
          "name": "stdout"
        }
      ]
    },
    {
      "cell_type": "code",
      "metadata": {
        "id": "DqTCq2NDTQFL",
        "colab_type": "code",
        "outputId": "5f125438-fc85-4bc7-cc8e-d58b7e1b9b42",
        "colab": {
          "base_uri": "https://localhost:8080/",
          "height": 255
        }
      },
      "source": [
        "# build RNN model\n",
        "seq_lstm_model=None\n",
        "try:\n",
        "    seq_lstm_model = get_seq_model(input_shape=(train_x.shape[1],2))\n",
        "except:\n",
        "    print(\"Model Build Failed. Trying Again\")\n",
        "    seq_lstm_model = get_seq_model(input_shape=(train_x.shape[1],2))"
      ],
      "execution_count": 355,
      "outputs": [
        {
          "output_type": "stream",
          "text": [
            "> Compilation Time :  0.022385597229003906\n",
            "Model: \"sequential_10\"\n",
            "_________________________________________________________________\n",
            "Layer (type)                 Output Shape              Param #   \n",
            "=================================================================\n",
            "lstm_10 (LSTM)               (None, 1739, 4)           112       \n",
            "_________________________________________________________________\n",
            "time_distributed_10 (TimeDis (None, 1739, 2)           10        \n",
            "=================================================================\n",
            "Total params: 122\n",
            "Trainable params: 122\n",
            "Non-trainable params: 0\n",
            "_________________________________________________________________\n",
            "None\n"
          ],
          "name": "stdout"
        }
      ]
    },
    {
      "cell_type": "code",
      "metadata": {
        "id": "MdpHk3OJ22QD",
        "colab_type": "code",
        "colab": {
          "base_uri": "https://localhost:8080/",
          "height": 136
        },
        "outputId": "830bb4f6-fefa-4ae3-8342-843212571cfe"
      },
      "source": [
        "train_y"
      ],
      "execution_count": 356,
      "outputs": [
        {
          "output_type": "execute_result",
          "data": {
            "text/plain": [
              "array([[[0.01377032, 0.07925101],\n",
              "        [0.01725527, 0.07568216],\n",
              "        [0.01162576, 0.07230214],\n",
              "        ...,\n",
              "        [0.01061443, 0.98260132],\n",
              "        [0.01250318, 1.        ],\n",
              "        [0.01188957, 0.99469552]]])"
            ]
          },
          "metadata": {
            "tags": []
          },
          "execution_count": 356
        }
      ]
    },
    {
      "cell_type": "code",
      "metadata": {
        "id": "FnQs_OC6XsTz",
        "colab_type": "code",
        "colab": {
          "base_uri": "https://localhost:8080/",
          "height": 1000
        },
        "outputId": "200d7f06-2808-4b87-9517-4b66de3d86de"
      },
      "source": [
        "# train the model\n",
        "seq_lstm_model.fit(train_x, train_y,\n",
        "                #epochs=20, batch_size=1,\n",
        "                epochs=250, batch_size=1,\n",
        "                verbose=2)\n",
        "print(\"Model Fit Complete\")"
      ],
      "execution_count": 357,
      "outputs": [
        {
          "output_type": "stream",
          "text": [
            "Epoch 1/250\n",
            " - 3s - loss: 0.0939\n",
            "Epoch 2/250\n",
            " - 1s - loss: 0.0874\n",
            "Epoch 3/250\n",
            " - 1s - loss: 0.0827\n",
            "Epoch 4/250\n",
            " - 1s - loss: 0.0789\n",
            "Epoch 5/250\n",
            " - 1s - loss: 0.0755\n",
            "Epoch 6/250\n",
            " - 1s - loss: 0.0724\n",
            "Epoch 7/250\n",
            " - 1s - loss: 0.0695\n",
            "Epoch 8/250\n",
            " - 1s - loss: 0.0668\n",
            "Epoch 9/250\n",
            " - 1s - loss: 0.0643\n",
            "Epoch 10/250\n",
            " - 1s - loss: 0.0618\n",
            "Epoch 11/250\n",
            " - 1s - loss: 0.0595\n",
            "Epoch 12/250\n",
            " - 1s - loss: 0.0572\n",
            "Epoch 13/250\n",
            " - 1s - loss: 0.0550\n",
            "Epoch 14/250\n",
            " - 1s - loss: 0.0529\n",
            "Epoch 15/250\n",
            " - 1s - loss: 0.0508\n",
            "Epoch 16/250\n",
            " - 1s - loss: 0.0488\n",
            "Epoch 17/250\n",
            " - 1s - loss: 0.0469\n",
            "Epoch 18/250\n",
            " - 1s - loss: 0.0450\n",
            "Epoch 19/250\n",
            " - 1s - loss: 0.0432\n",
            "Epoch 20/250\n",
            " - 1s - loss: 0.0414\n",
            "Epoch 21/250\n",
            " - 1s - loss: 0.0397\n",
            "Epoch 22/250\n",
            " - 1s - loss: 0.0380\n",
            "Epoch 23/250\n",
            " - 1s - loss: 0.0363\n",
            "Epoch 24/250\n",
            " - 1s - loss: 0.0347\n",
            "Epoch 25/250\n",
            " - 1s - loss: 0.0332\n",
            "Epoch 26/250\n",
            " - 1s - loss: 0.0317\n",
            "Epoch 27/250\n",
            " - 1s - loss: 0.0302\n",
            "Epoch 28/250\n",
            " - 1s - loss: 0.0288\n",
            "Epoch 29/250\n",
            " - 1s - loss: 0.0274\n",
            "Epoch 30/250\n",
            " - 1s - loss: 0.0261\n",
            "Epoch 31/250\n",
            " - 1s - loss: 0.0248\n",
            "Epoch 32/250\n",
            " - 1s - loss: 0.0236\n",
            "Epoch 33/250\n",
            " - 1s - loss: 0.0224\n",
            "Epoch 34/250\n",
            " - 1s - loss: 0.0213\n",
            "Epoch 35/250\n",
            " - 1s - loss: 0.0202\n",
            "Epoch 36/250\n",
            " - 1s - loss: 0.0192\n",
            "Epoch 37/250\n",
            " - 1s - loss: 0.0182\n",
            "Epoch 38/250\n",
            " - 1s - loss: 0.0172\n",
            "Epoch 39/250\n",
            " - 1s - loss: 0.0163\n",
            "Epoch 40/250\n",
            " - 1s - loss: 0.0155\n",
            "Epoch 41/250\n",
            " - 1s - loss: 0.0147\n",
            "Epoch 42/250\n",
            " - 1s - loss: 0.0139\n",
            "Epoch 43/250\n",
            " - 1s - loss: 0.0132\n",
            "Epoch 44/250\n",
            " - 1s - loss: 0.0126\n",
            "Epoch 45/250\n",
            " - 1s - loss: 0.0119\n",
            "Epoch 46/250\n",
            " - 1s - loss: 0.0114\n",
            "Epoch 47/250\n",
            " - 1s - loss: 0.0108\n",
            "Epoch 48/250\n",
            " - 1s - loss: 0.0103\n",
            "Epoch 49/250\n",
            " - 1s - loss: 0.0098\n",
            "Epoch 50/250\n",
            " - 1s - loss: 0.0094\n",
            "Epoch 51/250\n",
            " - 1s - loss: 0.0090\n",
            "Epoch 52/250\n",
            " - 1s - loss: 0.0086\n",
            "Epoch 53/250\n",
            " - 1s - loss: 0.0083\n",
            "Epoch 54/250\n",
            " - 1s - loss: 0.0079\n",
            "Epoch 55/250\n",
            " - 1s - loss: 0.0076\n",
            "Epoch 56/250\n",
            " - 1s - loss: 0.0074\n",
            "Epoch 57/250\n",
            " - 1s - loss: 0.0071\n",
            "Epoch 58/250\n",
            " - 1s - loss: 0.0069\n",
            "Epoch 59/250\n",
            " - 1s - loss: 0.0067\n",
            "Epoch 60/250\n",
            " - 1s - loss: 0.0064\n",
            "Epoch 61/250\n",
            " - 1s - loss: 0.0063\n",
            "Epoch 62/250\n",
            " - 1s - loss: 0.0061\n",
            "Epoch 63/250\n",
            " - 1s - loss: 0.0059\n",
            "Epoch 64/250\n",
            " - 1s - loss: 0.0058\n",
            "Epoch 65/250\n",
            " - 1s - loss: 0.0056\n",
            "Epoch 66/250\n",
            " - 1s - loss: 0.0055\n",
            "Epoch 67/250\n",
            " - 1s - loss: 0.0054\n",
            "Epoch 68/250\n",
            " - 1s - loss: 0.0052\n",
            "Epoch 69/250\n",
            " - 1s - loss: 0.0051\n",
            "Epoch 70/250\n",
            " - 1s - loss: 0.0050\n",
            "Epoch 71/250\n",
            " - 1s - loss: 0.0049\n",
            "Epoch 72/250\n",
            " - 1s - loss: 0.0048\n",
            "Epoch 73/250\n",
            " - 1s - loss: 0.0047\n",
            "Epoch 74/250\n",
            " - 1s - loss: 0.0045\n",
            "Epoch 75/250\n",
            " - 1s - loss: 0.0044\n",
            "Epoch 76/250\n",
            " - 1s - loss: 0.0043\n",
            "Epoch 77/250\n",
            " - 1s - loss: 0.0042\n",
            "Epoch 78/250\n",
            " - 1s - loss: 0.0041\n",
            "Epoch 79/250\n",
            " - 1s - loss: 0.0040\n",
            "Epoch 80/250\n",
            " - 1s - loss: 0.0040\n",
            "Epoch 81/250\n",
            " - 1s - loss: 0.0039\n",
            "Epoch 82/250\n",
            " - 1s - loss: 0.0038\n",
            "Epoch 83/250\n",
            " - 1s - loss: 0.0037\n",
            "Epoch 84/250\n",
            " - 1s - loss: 0.0036\n",
            "Epoch 85/250\n",
            " - 1s - loss: 0.0035\n",
            "Epoch 86/250\n",
            " - 1s - loss: 0.0034\n",
            "Epoch 87/250\n",
            " - 1s - loss: 0.0034\n",
            "Epoch 88/250\n",
            " - 1s - loss: 0.0033\n",
            "Epoch 89/250\n",
            " - 1s - loss: 0.0032\n",
            "Epoch 90/250\n",
            " - 1s - loss: 0.0032\n",
            "Epoch 91/250\n",
            " - 1s - loss: 0.0031\n",
            "Epoch 92/250\n",
            " - 1s - loss: 0.0030\n",
            "Epoch 93/250\n",
            " - 1s - loss: 0.0030\n",
            "Epoch 94/250\n",
            " - 1s - loss: 0.0029\n",
            "Epoch 95/250\n",
            " - 1s - loss: 0.0028\n",
            "Epoch 96/250\n",
            " - 1s - loss: 0.0028\n",
            "Epoch 97/250\n",
            " - 1s - loss: 0.0027\n",
            "Epoch 98/250\n",
            " - 1s - loss: 0.0027\n",
            "Epoch 99/250\n",
            " - 1s - loss: 0.0026\n",
            "Epoch 100/250\n",
            " - 1s - loss: 0.0026\n",
            "Epoch 101/250\n",
            " - 1s - loss: 0.0025\n",
            "Epoch 102/250\n",
            " - 1s - loss: 0.0025\n",
            "Epoch 103/250\n",
            " - 1s - loss: 0.0024\n",
            "Epoch 104/250\n",
            " - 1s - loss: 0.0024\n",
            "Epoch 105/250\n",
            " - 1s - loss: 0.0024\n",
            "Epoch 106/250\n",
            " - 1s - loss: 0.0023\n",
            "Epoch 107/250\n",
            " - 1s - loss: 0.0023\n",
            "Epoch 108/250\n",
            " - 1s - loss: 0.0022\n",
            "Epoch 109/250\n",
            " - 1s - loss: 0.0022\n",
            "Epoch 110/250\n",
            " - 1s - loss: 0.0022\n",
            "Epoch 111/250\n",
            " - 1s - loss: 0.0022\n",
            "Epoch 112/250\n",
            " - 1s - loss: 0.0021\n",
            "Epoch 113/250\n",
            " - 1s - loss: 0.0021\n",
            "Epoch 114/250\n",
            " - 1s - loss: 0.0021\n",
            "Epoch 115/250\n",
            " - 1s - loss: 0.0020\n",
            "Epoch 116/250\n",
            " - 1s - loss: 0.0020\n",
            "Epoch 117/250\n",
            " - 1s - loss: 0.0020\n",
            "Epoch 118/250\n",
            " - 1s - loss: 0.0020\n",
            "Epoch 119/250\n",
            " - 1s - loss: 0.0019\n",
            "Epoch 120/250\n",
            " - 1s - loss: 0.0019\n",
            "Epoch 121/250\n",
            " - 1s - loss: 0.0019\n",
            "Epoch 122/250\n",
            " - 1s - loss: 0.0019\n",
            "Epoch 123/250\n",
            " - 1s - loss: 0.0019\n",
            "Epoch 124/250\n",
            " - 1s - loss: 0.0019\n",
            "Epoch 125/250\n",
            " - 1s - loss: 0.0018\n",
            "Epoch 126/250\n",
            " - 1s - loss: 0.0018\n",
            "Epoch 127/250\n",
            " - 1s - loss: 0.0018\n",
            "Epoch 128/250\n",
            " - 1s - loss: 0.0018\n",
            "Epoch 129/250\n",
            " - 1s - loss: 0.0019\n",
            "Epoch 130/250\n",
            " - 1s - loss: 0.0018\n",
            "Epoch 131/250\n",
            " - 1s - loss: 0.0018\n",
            "Epoch 132/250\n",
            " - 1s - loss: 0.0018\n",
            "Epoch 133/250\n",
            " - 1s - loss: 0.0018\n",
            "Epoch 134/250\n",
            " - 1s - loss: 0.0018\n",
            "Epoch 135/250\n",
            " - 1s - loss: 0.0018\n",
            "Epoch 136/250\n",
            " - 1s - loss: 0.0017\n",
            "Epoch 137/250\n",
            " - 1s - loss: 0.0017\n",
            "Epoch 138/250\n",
            " - 1s - loss: 0.0017\n",
            "Epoch 139/250\n",
            " - 1s - loss: 0.0017\n",
            "Epoch 140/250\n",
            " - 1s - loss: 0.0017\n",
            "Epoch 141/250\n",
            " - 1s - loss: 0.0017\n",
            "Epoch 142/250\n",
            " - 1s - loss: 0.0017\n",
            "Epoch 143/250\n",
            " - 1s - loss: 0.0017\n",
            "Epoch 144/250\n",
            " - 1s - loss: 0.0017\n",
            "Epoch 145/250\n",
            " - 1s - loss: 0.0017\n",
            "Epoch 146/250\n",
            " - 1s - loss: 0.0017\n",
            "Epoch 147/250\n",
            " - 1s - loss: 0.0017\n",
            "Epoch 148/250\n",
            " - 1s - loss: 0.0017\n",
            "Epoch 149/250\n",
            " - 1s - loss: 0.0017\n",
            "Epoch 150/250\n",
            " - 1s - loss: 0.0017\n",
            "Epoch 151/250\n",
            " - 1s - loss: 0.0017\n",
            "Epoch 152/250\n",
            " - 1s - loss: 0.0017\n",
            "Epoch 153/250\n",
            " - 1s - loss: 0.0017\n",
            "Epoch 154/250\n",
            " - 1s - loss: 0.0017\n",
            "Epoch 155/250\n",
            " - 1s - loss: 0.0017\n",
            "Epoch 156/250\n",
            " - 1s - loss: 0.0017\n",
            "Epoch 157/250\n",
            " - 1s - loss: 0.0017\n",
            "Epoch 158/250\n",
            " - 1s - loss: 0.0017\n",
            "Epoch 159/250\n",
            " - 1s - loss: 0.0017\n",
            "Epoch 160/250\n",
            " - 1s - loss: 0.0017\n",
            "Epoch 161/250\n",
            " - 1s - loss: 0.0017\n",
            "Epoch 162/250\n",
            " - 1s - loss: 0.0016\n",
            "Epoch 163/250\n",
            " - 1s - loss: 0.0016\n",
            "Epoch 164/250\n",
            " - 1s - loss: 0.0016\n",
            "Epoch 165/250\n",
            " - 1s - loss: 0.0016\n",
            "Epoch 166/250\n",
            " - 1s - loss: 0.0016\n",
            "Epoch 167/250\n",
            " - 1s - loss: 0.0016\n",
            "Epoch 168/250\n",
            " - 1s - loss: 0.0016\n",
            "Epoch 169/250\n",
            " - 1s - loss: 0.0016\n",
            "Epoch 170/250\n",
            " - 1s - loss: 0.0016\n",
            "Epoch 171/250\n",
            " - 1s - loss: 0.0016\n",
            "Epoch 172/250\n",
            " - 1s - loss: 0.0016\n",
            "Epoch 173/250\n",
            " - 1s - loss: 0.0016\n",
            "Epoch 174/250\n",
            " - 1s - loss: 0.0016\n",
            "Epoch 175/250\n",
            " - 1s - loss: 0.0016\n",
            "Epoch 176/250\n",
            " - 1s - loss: 0.0016\n",
            "Epoch 177/250\n",
            " - 1s - loss: 0.0016\n",
            "Epoch 178/250\n",
            " - 1s - loss: 0.0016\n",
            "Epoch 179/250\n",
            " - 1s - loss: 0.0016\n",
            "Epoch 180/250\n",
            " - 1s - loss: 0.0016\n",
            "Epoch 181/250\n",
            " - 1s - loss: 0.0016\n",
            "Epoch 182/250\n",
            " - 1s - loss: 0.0016\n",
            "Epoch 183/250\n",
            " - 1s - loss: 0.0016\n",
            "Epoch 184/250\n",
            " - 1s - loss: 0.0016\n",
            "Epoch 185/250\n",
            " - 1s - loss: 0.0016\n",
            "Epoch 186/250\n",
            " - 1s - loss: 0.0016\n",
            "Epoch 187/250\n",
            " - 1s - loss: 0.0016\n",
            "Epoch 188/250\n",
            " - 1s - loss: 0.0016\n",
            "Epoch 189/250\n",
            " - 1s - loss: 0.0016\n",
            "Epoch 190/250\n",
            " - 1s - loss: 0.0016\n",
            "Epoch 191/250\n",
            " - 1s - loss: 0.0016\n",
            "Epoch 192/250\n",
            " - 1s - loss: 0.0015\n",
            "Epoch 193/250\n",
            " - 1s - loss: 0.0015\n",
            "Epoch 194/250\n",
            " - 1s - loss: 0.0015\n",
            "Epoch 195/250\n",
            " - 1s - loss: 0.0015\n",
            "Epoch 196/250\n",
            " - 1s - loss: 0.0015\n",
            "Epoch 197/250\n",
            " - 1s - loss: 0.0015\n",
            "Epoch 198/250\n",
            " - 1s - loss: 0.0015\n",
            "Epoch 199/250\n",
            " - 1s - loss: 0.0015\n",
            "Epoch 200/250\n",
            " - 1s - loss: 0.0015\n",
            "Epoch 201/250\n",
            " - 1s - loss: 0.0015\n",
            "Epoch 202/250\n",
            " - 1s - loss: 0.0015\n",
            "Epoch 203/250\n",
            " - 1s - loss: 0.0015\n",
            "Epoch 204/250\n",
            " - 1s - loss: 0.0015\n",
            "Epoch 205/250\n",
            " - 1s - loss: 0.0015\n",
            "Epoch 206/250\n",
            " - 1s - loss: 0.0015\n",
            "Epoch 207/250\n",
            " - 1s - loss: 0.0015\n",
            "Epoch 208/250\n",
            " - 1s - loss: 0.0015\n",
            "Epoch 209/250\n",
            " - 1s - loss: 0.0015\n",
            "Epoch 210/250\n",
            " - 1s - loss: 0.0015\n",
            "Epoch 211/250\n",
            " - 1s - loss: 0.0015\n",
            "Epoch 212/250\n",
            " - 1s - loss: 0.0015\n",
            "Epoch 213/250\n",
            " - 1s - loss: 0.0015\n",
            "Epoch 214/250\n",
            " - 1s - loss: 0.0015\n",
            "Epoch 215/250\n",
            " - 1s - loss: 0.0015\n",
            "Epoch 216/250\n",
            " - 1s - loss: 0.0015\n",
            "Epoch 217/250\n",
            " - 1s - loss: 0.0015\n",
            "Epoch 218/250\n",
            " - 1s - loss: 0.0015\n",
            "Epoch 219/250\n",
            " - 1s - loss: 0.0015\n",
            "Epoch 220/250\n",
            " - 1s - loss: 0.0015\n",
            "Epoch 221/250\n",
            " - 1s - loss: 0.0015\n",
            "Epoch 222/250\n",
            " - 1s - loss: 0.0015\n",
            "Epoch 223/250\n",
            " - 1s - loss: 0.0015\n",
            "Epoch 224/250\n",
            " - 1s - loss: 0.0015\n",
            "Epoch 225/250\n",
            " - 1s - loss: 0.0015\n",
            "Epoch 226/250\n",
            " - 1s - loss: 0.0015\n",
            "Epoch 227/250\n",
            " - 1s - loss: 0.0015\n",
            "Epoch 228/250\n",
            " - 1s - loss: 0.0015\n",
            "Epoch 229/250\n",
            " - 1s - loss: 0.0014\n",
            "Epoch 230/250\n",
            " - 1s - loss: 0.0014\n",
            "Epoch 231/250\n",
            " - 1s - loss: 0.0014\n",
            "Epoch 232/250\n",
            " - 1s - loss: 0.0014\n",
            "Epoch 233/250\n",
            " - 1s - loss: 0.0014\n",
            "Epoch 234/250\n",
            " - 1s - loss: 0.0014\n",
            "Epoch 235/250\n",
            " - 1s - loss: 0.0014\n",
            "Epoch 236/250\n",
            " - 1s - loss: 0.0014\n",
            "Epoch 237/250\n",
            " - 1s - loss: 0.0014\n",
            "Epoch 238/250\n",
            " - 1s - loss: 0.0014\n",
            "Epoch 239/250\n",
            " - 1s - loss: 0.0014\n",
            "Epoch 240/250\n",
            " - 1s - loss: 0.0014\n",
            "Epoch 241/250\n",
            " - 1s - loss: 0.0014\n",
            "Epoch 242/250\n",
            " - 1s - loss: 0.0014\n",
            "Epoch 243/250\n",
            " - 1s - loss: 0.0014\n",
            "Epoch 244/250\n",
            " - 1s - loss: 0.0014\n",
            "Epoch 245/250\n",
            " - 1s - loss: 0.0014\n",
            "Epoch 246/250\n",
            " - 1s - loss: 0.0014\n",
            "Epoch 247/250\n",
            " - 1s - loss: 0.0014\n",
            "Epoch 248/250\n",
            " - 1s - loss: 0.0014\n",
            "Epoch 249/250\n",
            " - 1s - loss: 0.0014\n",
            "Epoch 250/250\n",
            " - 1s - loss: 0.0014\n",
            "Model Fit Complete\n"
          ],
          "name": "stdout"
        }
      ]
    },
    {
      "cell_type": "code",
      "metadata": {
        "id": "g07f1lEGXu_T",
        "colab_type": "code",
        "outputId": "3c23a98e-874b-4c32-df60-dae047bc5ca8",
        "colab": {
          "base_uri": "https://localhost:8080/",
          "height": 34
        }
      },
      "source": [
        "# train fit performance\n",
        "trainPredict = seq_lstm_model.predict(train_x)\n",
        "trainScore = math.sqrt(mean_squared_error(train_y[0], trainPredict[0]))\n",
        "print('Train Score: %.2f RMSE' % (trainScore))"
      ],
      "execution_count": 358,
      "outputs": [
        {
          "output_type": "stream",
          "text": [
            "Train Score: 0.04 RMSE\n"
          ],
          "name": "stdout"
        }
      ]
    },
    {
      "cell_type": "code",
      "metadata": {
        "id": "URNrqwpl1SbQ",
        "colab_type": "code",
        "outputId": "6fb2a8d1-f6e7-4c14-988d-c7f677a178cd",
        "colab": {
          "base_uri": "https://localhost:8080/",
          "height": 136
        }
      },
      "source": [
        "trainPredict"
      ],
      "execution_count": 359,
      "outputs": [
        {
          "output_type": "execute_result",
          "data": {
            "text/plain": [
              "array([[[ 1.9478861e-02,  5.8139239e-02],\n",
              "        [ 1.9194394e-02,  7.1161330e-02],\n",
              "        [ 1.8939272e-02,  7.9513535e-02],\n",
              "        ...,\n",
              "        [ 4.6351925e-05,  9.4519961e-01],\n",
              "        [-1.0385178e-04,  9.4597912e-01],\n",
              "        [ 5.9799291e-04,  9.4883758e-01]]], dtype=float32)"
            ]
          },
          "metadata": {
            "tags": []
          },
          "execution_count": 359
        }
      ]
    },
    {
      "cell_type": "code",
      "metadata": {
        "id": "ZW0LgTTSXyKR",
        "colab_type": "code",
        "colab": {}
      },
      "source": [
        "# Pad input sequence\n",
        "testPredict = pad_sequences(test_x,maxlen=train_x.shape[1],padding='post',dtype='float64')"
      ],
      "execution_count": 0,
      "outputs": []
    },
    {
      "cell_type": "code",
      "metadata": {
        "id": "XsR5ytjpX2yj",
        "colab_type": "code",
        "outputId": "bfce9ce8-f70a-43a0-ff38-bb99b7319f83",
        "colab": {
          "base_uri": "https://localhost:8080/",
          "height": 136
        }
      },
      "source": [
        "# forecast values\n",
        "testPredict = seq_lstm_model.predict(testPredict)\n",
        "testPredict"
      ],
      "execution_count": 361,
      "outputs": [
        {
          "output_type": "execute_result",
          "data": {
            "text/plain": [
              "array([[[0.04540537, 0.20610106],\n",
              "        [0.06509583, 0.34109488],\n",
              "        [0.07748873, 0.44765905],\n",
              "        ...,\n",
              "        [0.01026186, 0.04661166],\n",
              "        [0.01026186, 0.04661166],\n",
              "        [0.01026186, 0.04661166]]], dtype=float32)"
            ]
          },
          "metadata": {
            "tags": []
          },
          "execution_count": 361
        }
      ]
    },
    {
      "cell_type": "code",
      "metadata": {
        "id": "z_XhF1MjX4gh",
        "colab_type": "code",
        "outputId": "04324075-6988-4d70-98d9-dda25e3d77f2",
        "colab": {
          "base_uri": "https://localhost:8080/",
          "height": 136
        }
      },
      "source": [
        "# forecast values\n",
        "testPredict = seq_lstm_model.predict(testPredict)\n",
        "testPredict"
      ],
      "execution_count": 362,
      "outputs": [
        {
          "output_type": "execute_result",
          "data": {
            "text/plain": [
              "array([[[0.02234231, 0.07735503],\n",
              "        [0.02833099, 0.1301386 ],\n",
              "        [0.03630628, 0.18946314],\n",
              "        ...,\n",
              "        [0.01497068, 0.07960568],\n",
              "        [0.01497068, 0.07960568],\n",
              "        [0.01497068, 0.07960568]]], dtype=float32)"
            ]
          },
          "metadata": {
            "tags": []
          },
          "execution_count": 362
        }
      ]
    },
    {
      "cell_type": "code",
      "metadata": {
        "id": "X1GacKMEFVLg",
        "colab_type": "code",
        "colab": {
          "base_uri": "https://localhost:8080/",
          "height": 136
        },
        "outputId": "aeb38f1c-579f-43e9-d1d9-c62c588043f3"
      },
      "source": [
        "testPredict"
      ],
      "execution_count": 363,
      "outputs": [
        {
          "output_type": "execute_result",
          "data": {
            "text/plain": [
              "array([[[0.02234231, 0.07735503],\n",
              "        [0.02833099, 0.1301386 ],\n",
              "        [0.03630628, 0.18946314],\n",
              "        ...,\n",
              "        [0.01497068, 0.07960568],\n",
              "        [0.01497068, 0.07960568],\n",
              "        [0.01497068, 0.07960568]]], dtype=float32)"
            ]
          },
          "metadata": {
            "tags": []
          },
          "execution_count": 363
        }
      ]
    },
    {
      "cell_type": "code",
      "metadata": {
        "id": "KvjYccaoN8hP",
        "colab_type": "code",
        "colab": {}
      },
      "source": [
        "testPredict=np.delete(testPredict, 0, 2)\n",
        "trainPredict=np.delete(trainPredict, 0, 2)"
      ],
      "execution_count": 0,
      "outputs": []
    },
    {
      "cell_type": "code",
      "metadata": {
        "id": "EMtIMjJRE18q",
        "colab_type": "code",
        "outputId": "8129d698-d6a4-46d6-f18a-c0ad5ca0bf9a",
        "colab": {
          "base_uri": "https://localhost:8080/",
          "height": 136
        }
      },
      "source": [
        "trainPredict\n"
      ],
      "execution_count": 365,
      "outputs": [
        {
          "output_type": "execute_result",
          "data": {
            "text/plain": [
              "array([[[0.05813924],\n",
              "        [0.07116133],\n",
              "        [0.07951353],\n",
              "        ...,\n",
              "        [0.9451996 ],\n",
              "        [0.9459791 ],\n",
              "        [0.9488376 ]]], dtype=float32)"
            ]
          },
          "metadata": {
            "tags": []
          },
          "execution_count": 365
        }
      ]
    },
    {
      "cell_type": "code",
      "metadata": {
        "id": "x_tNvtkz_f5X",
        "colab_type": "code",
        "colab": {
          "base_uri": "https://localhost:8080/",
          "height": 34
        },
        "outputId": "ca4b0992-555f-401d-adc4-229f20b85fbd"
      },
      "source": [
        "type(testPredict)"
      ],
      "execution_count": 366,
      "outputs": [
        {
          "output_type": "execute_result",
          "data": {
            "text/plain": [
              "numpy.ndarray"
            ]
          },
          "metadata": {
            "tags": []
          },
          "execution_count": 366
        }
      ]
    },
    {
      "cell_type": "code",
      "metadata": {
        "id": "zA7Aehl4X5ck",
        "colab_type": "code",
        "colab": {}
      },
      "source": [
        "# # inverse transformation\n",
        "\n",
        "#scaler = MinMaxScaler(feature_range=(0, 1))\n",
        "#time_series = np.array(sub_split.Close).reshape(-1,1)\n",
        "#scaler = scaler.fit(time_series)\n",
        "\n",
        "#trainPredict=trainPredict.reshape(trainPredict.shape[1])\n",
        "#testPredict=testPredict.reshape(testPredict.shape[1])\n",
        "\n",
        "\n",
        " #scaler = MinMaxScaler(feature_range=(0, 1))\n",
        "\n",
        "# trainPredict = scaler.inverse_transform(trainPredict.reshape(trainPredict.shape[1]))\n",
        "# testPredict = scaler.inverse_transform(testPredict.reshape(testPredict.shape[1]))\n",
        "\n",
        "trainPredict = scaler_Close.inverse_transform(trainPredict.\\\n",
        "                                        reshape(-1,1))\n",
        "testPredict = scaler_Close.inverse_transform(testPredict.\\\n",
        "                                       reshape(-1,1))\n",
        "\n",
        "\n",
        "# # inverse transformation\n",
        "# trainPredict = scaler.inverse_transform(trainPredict.\\\n",
        "#                                         reshape(trainPredict.shape[1],2))\n",
        "# testPredict = scaler.inverse_transform(testPredict.\\\n",
        "#                                         reshape(testPredict.shape[1],2))"
      ],
      "execution_count": 0,
      "outputs": []
    },
    {
      "cell_type": "code",
      "metadata": {
        "id": "x_nZ9samd1Rs",
        "colab_type": "code",
        "outputId": "5b8d0b02-3103-446d-a344-0ccea9b85ac9",
        "colab": {
          "base_uri": "https://localhost:8080/",
          "height": 136
        }
      },
      "source": [
        "trainPredict"
      ],
      "execution_count": 368,
      "outputs": [
        {
          "output_type": "execute_result",
          "data": {
            "text/plain": [
              "array([[22.810102],\n",
              "       [23.423834],\n",
              "       [23.817474],\n",
              "       ...,\n",
              "       [64.617256],\n",
              "       [64.65399 ],\n",
              "       [64.78871 ]], dtype=float32)"
            ]
          },
          "metadata": {
            "tags": []
          },
          "execution_count": 368
        }
      ]
    },
    {
      "cell_type": "code",
      "metadata": {
        "id": "HLk1kLM9s5gd",
        "colab_type": "code",
        "outputId": "26be4b22-26c5-44ec-8dbe-1c2a91757975",
        "colab": {
          "base_uri": "https://localhost:8080/",
          "height": 34
        }
      },
      "source": [
        "sub_split_date=dfstocks[dfstocks['Company'].str.contains(\"AAPL\")]\n",
        "sub_split_date.isnull().values.any()\n",
        "sub_split_date.isna().values.any()\n",
        "sub_split_date = sub_split_date.sort_values(['Date'])\n",
        "sub_split_date.reset_index(drop=True, inplace=True)\n",
        "sub_split_date.shape[0]"
      ],
      "execution_count": 369,
      "outputs": [
        {
          "output_type": "execute_result",
          "data": {
            "text/plain": [
              "2487"
            ]
          },
          "metadata": {
            "tags": []
          },
          "execution_count": 369
        }
      ]
    },
    {
      "cell_type": "code",
      "metadata": {
        "id": "NRMR0WkN3XIh",
        "colab_type": "code",
        "outputId": "ddc5e98e-8508-4cc9-8ddd-418788ab7cc9",
        "colab": {
          "base_uri": "https://localhost:8080/",
          "height": 607
        }
      },
      "source": [
        "# plot the true and forecasted values\n",
        "split_ratio = len(trainPredict)+1\n",
        "\n",
        "plt.plot(sub_split_date.Date,\n",
        "          sub_split.Close.values,c='black',\n",
        "          alpha=0.3,label='True Data')\n",
        "\n",
        "plt.plot(sub_split_date.Date[1:split_ratio],\n",
        "          trainPredict,label='Training Fit',c='g')\n",
        "\n",
        "plt.plot(sub_split_date.Date[split_ratio+1:],\n",
        "          testPredict[:test_x.shape[1]],label='Testing Forecast')\n",
        "plt.title('Forecast Plot')\n",
        "plt.legend()\n",
        "plt.show()\n",
        "plt.rcParams[\"figure.figsize\"] = (20,10)\n",
        "plt.show()"
      ],
      "execution_count": 370,
      "outputs": [
        {
          "output_type": "display_data",
          "data": {
            "image/png": "[encoded data removed]",
            "text/plain": [
              "<Figure size 1440x720 with 1 Axes>"
            ]
          },
          "metadata": {
            "tags": []
          }
        }
      ]
    }
  ]
}