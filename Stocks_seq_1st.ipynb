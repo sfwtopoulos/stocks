{
  "nbformat": 4,
  "nbformat_minor": 0,
  "metadata": {
    "colab": {
      "name": "Stocks_seq_1st.ipynb",
      "provenance": [],
      "collapsed_sections": [],
      "include_colab_link": true
    },
    "kernelspec": {
      "name": "python3",
      "display_name": "Python 3"
    }
  },
  "cells": [
    {
      "cell_type": "markdown",
      "metadata": {
        "id": "view-in-github",
        "colab_type": "text"
      },
      "source": [
        "<a href=\"https://colab.research.google.com/github/sfwtopoulos/stocks/blob/master/Stocks_seq_1st.ipynb\" target=\"_parent\"><img src=\"https://colab.research.google.com/assets/colab-badge.svg\" alt=\"Open In Colab\"/></a>"
      ]
    },
    {
      "cell_type": "code",
      "metadata": {
        "id": "DOmxraS5T1wD",
        "colab_type": "code",
        "colab": {}
      },
      "source": [
        "import pandas as pd\n",
        "import matplotlib.pyplot as plt\n",
        "import pandas as pd\n",
        "import math\n",
        "import warnings\n",
        "import numpy as np\n",
        "import time\n",
        "\n",
        "import pandas_datareader as pdr\n",
        "#%tensorflow_version 2.x\n",
        "# Restart runtime using 'Runtime' -> 'Restart runtime...'\n",
        "%tensorflow_version 1.x\n",
        "import tensorflow as tf\n",
        "import keras\n",
        "\n",
        "\n",
        "from keras.layers import LSTM\n",
        "from keras.models import Sequential\n",
        "from keras.layers.wrappers import TimeDistributed\n",
        "from keras.layers.core import Dense, Activation, Dropout\n",
        "from keras.preprocessing.sequence import pad_sequences\n",
        "\n",
        "from sklearn.preprocessing import MinMaxScaler\n",
        "from sklearn.metrics import mean_squared_error\n",
        "import seaborn as sns\n",
        "import matplotlib.pyplot as plt\n",
        "\n",
        "warnings.filterwarnings('ignore',category=FutureWarning)\n",
        "warnings.filterwarnings('ignore', category=DeprecationWarning)"
      ],
      "execution_count": 0,
      "outputs": []
    },
    {
      "cell_type": "code",
      "metadata": {
        "id": "2byEjZdZVJrz",
        "colab_type": "code",
        "outputId": "9fc85a43-fc51-4e76-b6e2-f2e094b612e4",
        "colab": {
          "base_uri": "https://localhost:8080/",
          "height": 51
        }
      },
      "source": [
        "print(keras.__version__)\n",
        "print(tf.__version__)\n",
        "#print(tensorflow.compat.v2.__version__)"
      ],
      "execution_count": 192,
      "outputs": [
        {
          "output_type": "stream",
          "text": [
            "2.2.5\n",
            "1.15.0\n"
          ],
          "name": "stdout"
        }
      ]
    },
    {
      "cell_type": "code",
      "metadata": {
        "id": "tVJdUlQJUDjY",
        "colab_type": "code",
        "colab": {}
      },
      "source": [
        "#Data import from git repo\n",
        "url = 'https://raw.githubusercontent.com/sfwtopoulos/stocks/master/stocks_dataset/combined.csv'\n",
        "#df1 = pd.read_csv(url, error_bad_lines=False)\n",
        "dfstocks = pd.read_csv(url, sep=',')"
      ],
      "execution_count": 0,
      "outputs": []
    },
    {
      "cell_type": "code",
      "metadata": {
        "id": "A1gYAB3OUECs",
        "colab_type": "code",
        "outputId": "dd1f4f9c-de37-44e6-c7cf-9b50d7b37f31",
        "colab": {
          "base_uri": "https://localhost:8080/",
          "height": 136
        }
      },
      "source": [
        "#fix column names\n",
        "dfstocks=dfstocks.rename({' AAPL':'Company', ' Close/Last':'Close', ' Volume':'Volume', ' Open':'Open', ' High':'High', ' Low':'Low'}, axis=1);\n",
        "for col in dfstocks.columns: \n",
        "    print(col) "
      ],
      "execution_count": 194,
      "outputs": [
        {
          "output_type": "stream",
          "text": [
            "Date\n",
            "Close\n",
            "Volume\n",
            "Open\n",
            "High\n",
            "Low\n",
            "Company\n"
          ],
          "name": "stdout"
        }
      ]
    },
    {
      "cell_type": "code",
      "metadata": {
        "id": "vlSTPXYHUHSB",
        "colab_type": "code",
        "colab": {}
      },
      "source": [
        "#drop $sign from values\n",
        "dfstocks.Close=dfstocks['Close'].astype(str)\n",
        "dfstocks.Close=dfstocks.Close.apply(lambda x: x.replace('$',''))\n",
        "dfstocks.Open=dfstocks['Open'].astype(str)\n",
        "dfstocks.Open=dfstocks.Open.apply(lambda x: x.replace('$',''))\n",
        "dfstocks.High=dfstocks['High'].astype(str)\n",
        "dfstocks.High=dfstocks.High.apply(lambda x: x.replace('$',''))\n",
        "dfstocks.Low=dfstocks['Low'].astype(str)\n",
        "dfstocks.Low=dfstocks.Low.apply(lambda x: x.replace('$',''))"
      ],
      "execution_count": 0,
      "outputs": []
    },
    {
      "cell_type": "code",
      "metadata": {
        "id": "F4cxCV_YUJGa",
        "colab_type": "code",
        "outputId": "f217307f-1e1d-41d2-c60d-61cc83981613",
        "colab": {
          "base_uri": "https://localhost:8080/",
          "height": 34
        }
      },
      "source": [
        "#drop rows containing nan or header from the csv files\n",
        "dfstocks=dfstocks[~dfstocks.Low.str.contains(\"nan\")]\n",
        "dfstocks=dfstocks[~dfstocks.Low.str.contains(\"Low\")]\n",
        "dfstocks=dfstocks[~dfstocks.Low.str.contains(\"N/A\")]\n",
        "dfstocks=dfstocks[~dfstocks.Volume.str.contains(\"N/A\")]\n",
        "dfstocks.reset_index(drop=True, inplace=True)\n",
        "dfstocks.Date.count()"
      ],
      "execution_count": 196,
      "outputs": [
        {
          "output_type": "execute_result",
          "data": {
            "text/plain": [
              "229269"
            ]
          },
          "metadata": {
            "tags": []
          },
          "execution_count": 196
        }
      ]
    },
    {
      "cell_type": "code",
      "metadata": {
        "id": "te4JUA9lUL06",
        "colab_type": "code",
        "outputId": "de66f954-6e0b-44e0-e7bd-2d8af1a480d2",
        "colab": {
          "base_uri": "https://localhost:8080/",
          "height": 419
        }
      },
      "source": [
        "#sort dataframe based on date and Company Name\n",
        "dfstocks = dfstocks.sort_values(['Date', 'Company'])\n",
        "dfstocks.head(100)"
      ],
      "execution_count": 197,
      "outputs": [
        {
          "output_type": "execute_result",
          "data": {
            "text/html": [
              "<div>\n",
              "<style scoped>\n",
              "    .dataframe tbody tr th:only-of-type {\n",
              "        vertical-align: middle;\n",
              "    }\n",
              "\n",
              "    .dataframe tbody tr th {\n",
              "        vertical-align: top;\n",
              "    }\n",
              "\n",
              "    .dataframe thead th {\n",
              "        text-align: right;\n",
              "    }\n",
              "</style>\n",
              "<table border=\"1\" class=\"dataframe\">\n",
              "  <thead>\n",
              "    <tr style=\"text-align: right;\">\n",
              "      <th></th>\n",
              "      <th>Date</th>\n",
              "      <th>Close</th>\n",
              "      <th>Volume</th>\n",
              "      <th>Open</th>\n",
              "      <th>High</th>\n",
              "      <th>Low</th>\n",
              "      <th>Company</th>\n",
              "    </tr>\n",
              "  </thead>\n",
              "  <tbody>\n",
              "    <tr>\n",
              "      <th>1761</th>\n",
              "      <td>01/02/2013</td>\n",
              "      <td>78.4328</td>\n",
              "      <td>139906732</td>\n",
              "      <td>79.1171</td>\n",
              "      <td>79.2857</td>\n",
              "      <td>77.3757</td>\n",
              "      <td>AAPL</td>\n",
              "    </tr>\n",
              "    <tr>\n",
              "      <th>4248</th>\n",
              "      <td>01/02/2013</td>\n",
              "      <td>35.12</td>\n",
              "      <td>13767660</td>\n",
              "      <td>34.92</td>\n",
              "      <td>35.4</td>\n",
              "      <td>34.1</td>\n",
              "      <td>ABBV</td>\n",
              "    </tr>\n",
              "    <tr>\n",
              "      <th>6025</th>\n",
              "      <td>01/02/2013</td>\n",
              "      <td>32.05</td>\n",
              "      <td>20266410</td>\n",
              "      <td>32.3</td>\n",
              "      <td>32.45</td>\n",
              "      <td>31.64</td>\n",
              "      <td>ABT</td>\n",
              "    </tr>\n",
              "    <tr>\n",
              "      <th>8512</th>\n",
              "      <td>01/02/2013</td>\n",
              "      <td>69.06</td>\n",
              "      <td>4039095</td>\n",
              "      <td>67.59</td>\n",
              "      <td>69.06</td>\n",
              "      <td>67.55</td>\n",
              "      <td>ACN</td>\n",
              "    </tr>\n",
              "    <tr>\n",
              "      <th>10999</th>\n",
              "      <td>01/02/2013</td>\n",
              "      <td>38.34</td>\n",
              "      <td>6483720</td>\n",
              "      <td>37.92</td>\n",
              "      <td>38.73</td>\n",
              "      <td>37.92</td>\n",
              "      <td>ADBE</td>\n",
              "    </tr>\n",
              "    <tr>\n",
              "      <th>...</th>\n",
              "      <td>...</td>\n",
              "      <td>...</td>\n",
              "      <td>...</td>\n",
              "      <td>...</td>\n",
              "      <td>...</td>\n",
              "      <td>...</td>\n",
              "      <td>...</td>\n",
              "    </tr>\n",
              "    <tr>\n",
              "      <th>10747</th>\n",
              "      <td>01/02/2014</td>\n",
              "      <td>59.29</td>\n",
              "      <td>2745895</td>\n",
              "      <td>59.06</td>\n",
              "      <td>59.53</td>\n",
              "      <td>58.94</td>\n",
              "      <td>ADBE</td>\n",
              "    </tr>\n",
              "    <tr>\n",
              "      <th>13234</th>\n",
              "      <td>01/02/2014</td>\n",
              "      <td>168.05</td>\n",
              "      <td>1268722</td>\n",
              "      <td>167.33</td>\n",
              "      <td>170.71</td>\n",
              "      <td>166.5937</td>\n",
              "      <td>AGN</td>\n",
              "    </tr>\n",
              "    <tr>\n",
              "      <th>15721</th>\n",
              "      <td>01/02/2014</td>\n",
              "      <td>50.71</td>\n",
              "      <td>9196092</td>\n",
              "      <td>50.81</td>\n",
              "      <td>51.3</td>\n",
              "      <td>50.47</td>\n",
              "      <td>AIG</td>\n",
              "    </tr>\n",
              "    <tr>\n",
              "      <th>18208</th>\n",
              "      <td>01/02/2014</td>\n",
              "      <td>53.55</td>\n",
              "      <td>1909106</td>\n",
              "      <td>54.09</td>\n",
              "      <td>54.45</td>\n",
              "      <td>53.5</td>\n",
              "      <td>ALL</td>\n",
              "    </tr>\n",
              "    <tr>\n",
              "      <th>20695</th>\n",
              "      <td>01/02/2014</td>\n",
              "      <td>115.795</td>\n",
              "      <td>2528751</td>\n",
              "      <td>114.36</td>\n",
              "      <td>116.19</td>\n",
              "      <td>114.06</td>\n",
              "      <td>AMGN</td>\n",
              "    </tr>\n",
              "  </tbody>\n",
              "</table>\n",
              "<p>100 rows × 7 columns</p>\n",
              "</div>"
            ],
            "text/plain": [
              "             Date     Close      Volume      Open      High        Low Company\n",
              "1761   01/02/2013   78.4328   139906732   79.1171   79.2857    77.3757    AAPL\n",
              "4248   01/02/2013     35.12    13767660     34.92      35.4       34.1    ABBV\n",
              "6025   01/02/2013     32.05    20266410      32.3     32.45      31.64     ABT\n",
              "8512   01/02/2013     69.06     4039095     67.59     69.06      67.55     ACN\n",
              "10999  01/02/2013     38.34     6483720     37.92     38.73      37.92    ADBE\n",
              "...           ...       ...         ...       ...       ...        ...     ...\n",
              "10747  01/02/2014     59.29     2745895     59.06     59.53      58.94    ADBE\n",
              "13234  01/02/2014    168.05     1268722    167.33    170.71   166.5937     AGN\n",
              "15721  01/02/2014     50.71     9196092     50.81      51.3      50.47     AIG\n",
              "18208  01/02/2014     53.55     1909106     54.09     54.45       53.5     ALL\n",
              "20695  01/02/2014   115.795     2528751    114.36    116.19     114.06    AMGN\n",
              "\n",
              "[100 rows x 7 columns]"
            ]
          },
          "metadata": {
            "tags": []
          },
          "execution_count": 197
        }
      ]
    },
    {
      "cell_type": "code",
      "metadata": {
        "id": "SvGv9U_NHZcv",
        "colab_type": "code",
        "outputId": "bcdefd49-48e3-4faa-faf8-73ca1bba20cc",
        "colab": {
          "base_uri": "https://localhost:8080/",
          "height": 153
        }
      },
      "source": [
        "#Converting Datatypes\n",
        "dfstocks.Date=pd.to_datetime(dfstocks.Date)\n",
        "dfstocks.Close=pd.to_numeric(dfstocks.Close)\n",
        "dfstocks.Volume=pd.to_numeric(dfstocks.Volume)\n",
        "dfstocks.Open=pd.to_numeric(dfstocks.Open)\n",
        "dfstocks.High=pd.to_numeric(dfstocks.High)\n",
        "dfstocks.Low=pd.to_numeric(dfstocks.Low)\n",
        "dfstocks.dtypes"
      ],
      "execution_count": 198,
      "outputs": [
        {
          "output_type": "execute_result",
          "data": {
            "text/plain": [
              "Date       datetime64[ns]\n",
              "Close             float64\n",
              "Volume              int64\n",
              "Open              float64\n",
              "High              float64\n",
              "Low               float64\n",
              "Company            object\n",
              "dtype: object"
            ]
          },
          "metadata": {
            "tags": []
          },
          "execution_count": 198
        }
      ]
    },
    {
      "cell_type": "code",
      "metadata": {
        "id": "rsD9-1pONB6V",
        "colab_type": "code",
        "outputId": "de885a17-fe46-419e-f766-1d2453b7e337",
        "colab": {
          "base_uri": "https://localhost:8080/",
          "height": 34
        }
      },
      "source": [
        "#dfstocks[dfstocks['Company'].str.contains(\"AMZN\")]\n",
        "sub_split=dfstocks[dfstocks['Company'].str.contains(\"MDLZ\")]\n",
        "sub_split.isnull().values.any()\n",
        "sub_split.isna().values.any()\n",
        "sub_split = sub_split.sort_values(['Date'])\n",
        "sub_split.reset_index(drop=True, inplace=True)\n",
        "sub_split.shape[0]"
      ],
      "execution_count": 199,
      "outputs": [
        {
          "output_type": "execute_result",
          "data": {
            "text/plain": [
              "2487"
            ]
          },
          "metadata": {
            "tags": []
          },
          "execution_count": 199
        }
      ]
    },
    {
      "cell_type": "code",
      "metadata": {
        "id": "te-gSnYPU0wX",
        "colab_type": "code",
        "outputId": "1c80d187-7149-4d35-a796-9bbaaf8f5712",
        "colab": {
          "base_uri": "https://localhost:8080/",
          "height": 419
        }
      },
      "source": [
        "sub_split"
      ],
      "execution_count": 200,
      "outputs": [
        {
          "output_type": "execute_result",
          "data": {
            "text/html": [
              "<div>\n",
              "<style scoped>\n",
              "    .dataframe tbody tr th:only-of-type {\n",
              "        vertical-align: middle;\n",
              "    }\n",
              "\n",
              "    .dataframe tbody tr th {\n",
              "        vertical-align: top;\n",
              "    }\n",
              "\n",
              "    .dataframe thead th {\n",
              "        text-align: right;\n",
              "    }\n",
              "</style>\n",
              "<table border=\"1\" class=\"dataframe\">\n",
              "  <thead>\n",
              "    <tr style=\"text-align: right;\">\n",
              "      <th></th>\n",
              "      <th>Date</th>\n",
              "      <th>Close</th>\n",
              "      <th>Volume</th>\n",
              "      <th>Open</th>\n",
              "      <th>High</th>\n",
              "      <th>Low</th>\n",
              "      <th>Company</th>\n",
              "    </tr>\n",
              "  </thead>\n",
              "  <tbody>\n",
              "    <tr>\n",
              "      <th>0</th>\n",
              "      <td>2010-02-16</td>\n",
              "      <td>19.3633</td>\n",
              "      <td>54149150</td>\n",
              "      <td>19.1695</td>\n",
              "      <td>19.3633</td>\n",
              "      <td>18.9288</td>\n",
              "      <td>MDLZ</td>\n",
              "    </tr>\n",
              "    <tr>\n",
              "      <th>1</th>\n",
              "      <td>2010-02-17</td>\n",
              "      <td>19.1360</td>\n",
              "      <td>24833350</td>\n",
              "      <td>19.2898</td>\n",
              "      <td>19.3499</td>\n",
              "      <td>19.0157</td>\n",
              "      <td>MDLZ</td>\n",
              "    </tr>\n",
              "    <tr>\n",
              "      <th>2</th>\n",
              "      <td>2010-02-18</td>\n",
              "      <td>19.2564</td>\n",
              "      <td>20606450</td>\n",
              "      <td>19.1494</td>\n",
              "      <td>19.2564</td>\n",
              "      <td>19.0324</td>\n",
              "      <td>MDLZ</td>\n",
              "    </tr>\n",
              "    <tr>\n",
              "      <th>3</th>\n",
              "      <td>2010-02-19</td>\n",
              "      <td>19.3299</td>\n",
              "      <td>15497250</td>\n",
              "      <td>19.2229</td>\n",
              "      <td>19.4168</td>\n",
              "      <td>19.1494</td>\n",
              "      <td>MDLZ</td>\n",
              "    </tr>\n",
              "    <tr>\n",
              "      <th>4</th>\n",
              "      <td>2010-02-22</td>\n",
              "      <td>19.3499</td>\n",
              "      <td>27292690</td>\n",
              "      <td>19.3098</td>\n",
              "      <td>19.4435</td>\n",
              "      <td>19.1494</td>\n",
              "      <td>MDLZ</td>\n",
              "    </tr>\n",
              "    <tr>\n",
              "      <th>...</th>\n",
              "      <td>...</td>\n",
              "      <td>...</td>\n",
              "      <td>...</td>\n",
              "      <td>...</td>\n",
              "      <td>...</td>\n",
              "      <td>...</td>\n",
              "      <td>...</td>\n",
              "    </tr>\n",
              "    <tr>\n",
              "      <th>2482</th>\n",
              "      <td>2019-12-24</td>\n",
              "      <td>54.9900</td>\n",
              "      <td>1833763</td>\n",
              "      <td>54.9400</td>\n",
              "      <td>55.1800</td>\n",
              "      <td>54.7400</td>\n",
              "      <td>MDLZ</td>\n",
              "    </tr>\n",
              "    <tr>\n",
              "      <th>2483</th>\n",
              "      <td>2019-12-26</td>\n",
              "      <td>54.8500</td>\n",
              "      <td>3565549</td>\n",
              "      <td>54.9700</td>\n",
              "      <td>55.0741</td>\n",
              "      <td>54.7200</td>\n",
              "      <td>MDLZ</td>\n",
              "    </tr>\n",
              "    <tr>\n",
              "      <th>2484</th>\n",
              "      <td>2019-12-27</td>\n",
              "      <td>55.2800</td>\n",
              "      <td>4229449</td>\n",
              "      <td>54.9300</td>\n",
              "      <td>55.3300</td>\n",
              "      <td>54.8000</td>\n",
              "      <td>MDLZ</td>\n",
              "    </tr>\n",
              "    <tr>\n",
              "      <th>2485</th>\n",
              "      <td>2019-12-30</td>\n",
              "      <td>55.0000</td>\n",
              "      <td>3104187</td>\n",
              "      <td>54.9200</td>\n",
              "      <td>55.0700</td>\n",
              "      <td>54.5651</td>\n",
              "      <td>MDLZ</td>\n",
              "    </tr>\n",
              "    <tr>\n",
              "      <th>2486</th>\n",
              "      <td>2019-12-31</td>\n",
              "      <td>55.0800</td>\n",
              "      <td>5039525</td>\n",
              "      <td>55.0500</td>\n",
              "      <td>55.1400</td>\n",
              "      <td>54.7600</td>\n",
              "      <td>MDLZ</td>\n",
              "    </tr>\n",
              "  </tbody>\n",
              "</table>\n",
              "<p>2487 rows × 7 columns</p>\n",
              "</div>"
            ],
            "text/plain": [
              "           Date    Close    Volume     Open     High      Low Company\n",
              "0    2010-02-16  19.3633  54149150  19.1695  19.3633  18.9288    MDLZ\n",
              "1    2010-02-17  19.1360  24833350  19.2898  19.3499  19.0157    MDLZ\n",
              "2    2010-02-18  19.2564  20606450  19.1494  19.2564  19.0324    MDLZ\n",
              "3    2010-02-19  19.3299  15497250  19.2229  19.4168  19.1494    MDLZ\n",
              "4    2010-02-22  19.3499  27292690  19.3098  19.4435  19.1494    MDLZ\n",
              "...         ...      ...       ...      ...      ...      ...     ...\n",
              "2482 2019-12-24  54.9900   1833763  54.9400  55.1800  54.7400    MDLZ\n",
              "2483 2019-12-26  54.8500   3565549  54.9700  55.0741  54.7200    MDLZ\n",
              "2484 2019-12-27  55.2800   4229449  54.9300  55.3300  54.8000    MDLZ\n",
              "2485 2019-12-30  55.0000   3104187  54.9200  55.0700  54.5651    MDLZ\n",
              "2486 2019-12-31  55.0800   5039525  55.0500  55.1400  54.7600    MDLZ\n",
              "\n",
              "[2487 rows x 7 columns]"
            ]
          },
          "metadata": {
            "tags": []
          },
          "execution_count": 200
        }
      ]
    },
    {
      "cell_type": "code",
      "metadata": {
        "id": "wjwirxd4VutM",
        "colab_type": "code",
        "colab": {}
      },
      "source": [
        "# prepare training and testing data sets for LSTM based sequence modeling\n",
        "#def dimitris_function(time_series, scaling=True,split_ratio=0.9):\n",
        "def dimitris_function(time_series,split_ratio=0.9):\n",
        "\n",
        "    series1 = pd.Series(time_series[time_series.columns[0]])\n",
        "    series2 = pd.Series(time_series[time_series.columns[1]])\n",
        "    series3 = pd.Series(time_series[time_series.columns[2]])\n",
        "    series4 = pd.Series(time_series[time_series.columns[3]])\n",
        "    series5 = pd.Series(time_series[time_series.columns[4]])\n",
        "\n",
        "    values1 = series1.values\n",
        "    values1 = values1.reshape((len(values1), 1))\n",
        "    values2 = series2.values\n",
        "    values2 = values2.reshape((len(values2), 1))\n",
        "    values3 = series3.values\n",
        "    values3 = values3.reshape((len(values3), 1))\n",
        "    values4 = series4.values\n",
        "    values4 = values4.reshape((len(values4), 1))\n",
        "    values5 = series5.values\n",
        "    values5 = values5.reshape((len(values5), 1))\n",
        "\n",
        "    #scaler2 --> Close Price Scaler\n",
        "    scaler1 = MinMaxScaler(feature_range=(0, 1))\n",
        "    time_series[\"scaled1\"] = scaler1.fit_transform(values1)\n",
        "    scaler2 = MinMaxScaler(feature_range=(0, 1))\n",
        "    time_series[\"scaled2\"]= scaler2.fit_transform(values2)\n",
        "    scaler3 = MinMaxScaler(feature_range=(0, 1))\n",
        "    time_series[\"scaled3\"]= scaler3.fit_transform(values3)\n",
        "    scaler4 = MinMaxScaler(feature_range=(0, 1))\n",
        "    time_series[\"scaled4\"]= scaler4.fit_transform(values4)\n",
        "    scaler5 = MinMaxScaler(feature_range=(0, 1))\n",
        "    time_series[\"scaled5\"]= scaler5.fit_transform(values5)\n",
        "\n",
        "\n",
        "    time_series = time_series[[\"scaled1\",\"scaled2\",\"scaled3\",\"scaled4\",\"scaled5\"]].values\n",
        "\n",
        "        \n",
        "    split_ratio = int(len(time_series) * split_ratio)\n",
        "\n",
        "    train = time_series[0:split_ratio]\n",
        "    test = time_series[split_ratio:len(time_series)]\n",
        "    \n",
        "    # return train,test,scaler1,scaler2\n",
        "    return train,test,scaler2\n"
      ],
      "execution_count": 0,
      "outputs": []
    },
    {
      "cell_type": "code",
      "metadata": {
        "id": "UN6DYJT7TXPb",
        "colab_type": "code",
        "colab": {}
      },
      "source": [
        "def get_seq_model(hidden_units=4,input_shape=(1,1)):\n",
        "    # create and fit the LSTM network\n",
        "    model = Sequential()\n",
        "    # samples*timesteps*features\n",
        "    # https://keras.io/getting-started/sequential-model-guide/\n",
        "    #relu_advanced=keras.activations.relu(x,)\n",
        "    model.add(LSTM(input_shape=input_shape,\n",
        "                   units = hidden_units,  \n",
        "   #                activation='relu',\n",
        "                   return_sequences=True\n",
        "    ))\n",
        "\n",
        "    # readout layer. TimeDistributedDense uses the same weights for all\n",
        "    # time steps.\n",
        "    # model.add(TimeDistributed(Dense(1))) #number of inputs in the 1st layer\n",
        "    model.add(TimeDistributed(Dense(5)))   \n",
        "    start = time.time()\n",
        "    \n",
        "    model.compile(loss=\"mse\", optimizer=\"rmsprop\")\n",
        "\n",
        "    print(\"> Compilation Time : \", time.time() - start)\n",
        "    print(model.summary())\n",
        "\n",
        "    return model"
      ],
      "execution_count": 0,
      "outputs": []
    },
    {
      "cell_type": "code",
      "metadata": {
        "id": "UiL73vb-dFsK",
        "colab_type": "code",
        "colab": {}
      },
      "source": [
        "# print(type(sub_split.Close))\n",
        "sub_split_date=sub_split[['Date']]\n",
        "sub_split=sub_split[['Volume', 'Close', 'Open', 'High', 'Low']]\n",
        "#sub_split.columns[1]"
      ],
      "execution_count": 0,
      "outputs": []
    },
    {
      "cell_type": "code",
      "metadata": {
        "id": "zeAENS4LVpDG",
        "colab_type": "code",
        "outputId": "e5a7cc69-758f-46f9-8193-380f4fd27cae",
        "colab": {
          "base_uri": "https://localhost:8080/",
          "height": 289
        }
      },
      "source": [
        "# split train and test datasets\n",
        "train,test,scaler_Close = dimitris_function(sub_split,split_ratio=0.7)\n",
        "\n",
        "#train\n",
        "print(len(train))\n",
        "print(train.shape[0])\n",
        "print(train.shape)\n",
        "print(test.shape)\n",
        "print(train)"
      ],
      "execution_count": 204,
      "outputs": [
        {
          "output_type": "stream",
          "text": [
            "1740\n",
            "1740\n",
            "(1740, 5)\n",
            "(747, 5)\n",
            "[[0.88815584 0.02021012 0.01335138 0.01636724 0.01466068]\n",
            " [0.39046289 0.01423411 0.01651313 0.01601441 0.01695744]\n",
            " [0.31870301 0.01739958 0.01282311 0.01355248 0.01739882]\n",
            " ...\n",
            " [0.07876951 0.68608191 0.69959394 0.69877535 0.69367717]\n",
            " [0.13961111 0.67241044 0.68067072 0.68508332 0.68019791]\n",
            " [0.10580105 0.69607261 0.66910654 0.69890701 0.68019791]]\n"
          ],
          "name": "stdout"
        },
        {
          "output_type": "stream",
          "text": [
            "/usr/local/lib/python3.6/dist-packages/ipykernel_launcher.py:22: SettingWithCopyWarning: \n",
            "A value is trying to be set on a copy of a slice from a DataFrame.\n",
            "Try using .loc[row_indexer,col_indexer] = value instead\n",
            "\n",
            "See the caveats in the documentation: http://pandas.pydata.org/pandas-docs/stable/user_guide/indexing.html#returning-a-view-versus-a-copy\n"
          ],
          "name": "stderr"
        }
      ]
    },
    {
      "cell_type": "code",
      "metadata": {
        "id": "uZG7396CWoy9",
        "colab_type": "code",
        "outputId": "0b4715d6-4f47-4b4e-e572-82a5ff459fff",
        "colab": {
          "base_uri": "https://localhost:8080/",
          "height": 102
        }
      },
      "source": [
        "#We use numpy to reshape our time series into 3D tensors.\n",
        "train = np.reshape(train,(1,train.shape[0],5))\n",
        "test = np.reshape(test,(1,test.shape[0],5))\n",
        "\n",
        "train_x = train[:,:-1,:]\n",
        "train_y = train[:,1:,:]\n",
        "\n",
        "test_x = test[:,:-1,:]\n",
        "test_y = test[:,1:,:]\n",
        "\n",
        "print(\"Data Split Complete\")\n",
        "\n",
        "print(\"train_x shape={}\".format(train_x.shape))\n",
        "print(\"train_y shape={}\".format(train_y.shape))\n",
        "print(\"test_x shape={}\".format(test_x.shape))\n",
        "print(\"test_y shape={}\".format(test_y.shape))"
      ],
      "execution_count": 205,
      "outputs": [
        {
          "output_type": "stream",
          "text": [
            "Data Split Complete\n",
            "train_x shape=(1, 1739, 5)\n",
            "train_y shape=(1, 1739, 5)\n",
            "test_x shape=(1, 746, 5)\n",
            "test_y shape=(1, 746, 5)\n"
          ],
          "name": "stdout"
        }
      ]
    },
    {
      "cell_type": "code",
      "metadata": {
        "id": "DqTCq2NDTQFL",
        "colab_type": "code",
        "outputId": "78371d95-840b-457a-dbb8-1c9a719a20ac",
        "colab": {
          "base_uri": "https://localhost:8080/",
          "height": 255
        }
      },
      "source": [
        "# build RNN model\n",
        "seq_lstm_model=None\n",
        "try:\n",
        "    seq_lstm_model = get_seq_model(input_shape=(train_x.shape[1],5))\n",
        "except:\n",
        "    print(\"Model Build Failed. Trying Again\")\n",
        "    seq_lstm_model = get_seq_model(input_shape=(train_x.shape[1],5))"
      ],
      "execution_count": 206,
      "outputs": [
        {
          "output_type": "stream",
          "text": [
            "> Compilation Time :  0.024444103240966797\n",
            "Model: \"sequential_6\"\n",
            "_________________________________________________________________\n",
            "Layer (type)                 Output Shape              Param #   \n",
            "=================================================================\n",
            "lstm_6 (LSTM)                (None, 1739, 4)           160       \n",
            "_________________________________________________________________\n",
            "time_distributed_6 (TimeDist (None, 1739, 5)           25        \n",
            "=================================================================\n",
            "Total params: 185\n",
            "Trainable params: 185\n",
            "Non-trainable params: 0\n",
            "_________________________________________________________________\n",
            "None\n"
          ],
          "name": "stdout"
        }
      ]
    },
    {
      "cell_type": "code",
      "metadata": {
        "id": "MdpHk3OJ22QD",
        "colab_type": "code",
        "outputId": "28887562-96e5-404e-f111-ceae5489b851",
        "colab": {
          "base_uri": "https://localhost:8080/",
          "height": 136
        }
      },
      "source": [
        "train_y"
      ],
      "execution_count": 207,
      "outputs": [
        {
          "output_type": "execute_result",
          "data": {
            "text/plain": [
              "array([[[0.39046289, 0.01423411, 0.01651313, 0.01601441, 0.01695744],\n",
              "        [0.31870301, 0.01739958, 0.01282311, 0.01355248, 0.01739882],\n",
              "        [0.23196437, 0.01933199, 0.01475485, 0.01777594, 0.02049112],\n",
              "        ...,\n",
              "        [0.07876951, 0.68608191, 0.69959394, 0.69877535, 0.69367717],\n",
              "        [0.13961111, 0.67241044, 0.68067072, 0.68508332, 0.68019791],\n",
              "        [0.10580105, 0.69607261, 0.66910654, 0.69890701, 0.68019791]]])"
            ]
          },
          "metadata": {
            "tags": []
          },
          "execution_count": 207
        }
      ]
    },
    {
      "cell_type": "code",
      "metadata": {
        "id": "FnQs_OC6XsTz",
        "colab_type": "code",
        "colab": {
          "base_uri": "https://localhost:8080/",
          "height": 1000
        },
        "outputId": "30ad7f13-0814-497f-cd8d-7781d57fffeb"
      },
      "source": [
        "# train the model\n",
        "seq_lstm_model.fit(train_x, train_y,\n",
        "                #epochs=20, batch_size=1,\n",
        "                epochs=250, batch_size=1,\n",
        "                verbose=1)\n",
        "print(\"Model Fit Complete\")"
      ],
      "execution_count": 208,
      "outputs": [
        {
          "output_type": "stream",
          "text": [
            "Epoch 1/250\n",
            "1/1 [==============================] - 2s 2s/step - loss: 0.1414\n",
            "Epoch 2/250\n",
            "1/1 [==============================] - 1s 861ms/step - loss: 0.1351\n",
            "Epoch 3/250\n",
            "1/1 [==============================] - 1s 886ms/step - loss: 0.1305\n",
            "Epoch 4/250\n",
            "1/1 [==============================] - 1s 859ms/step - loss: 0.1268\n",
            "Epoch 5/250\n",
            "1/1 [==============================] - 1s 826ms/step - loss: 0.1235\n",
            "Epoch 6/250\n",
            "1/1 [==============================] - 1s 816ms/step - loss: 0.1206\n",
            "Epoch 7/250\n",
            "1/1 [==============================] - 1s 821ms/step - loss: 0.1178\n",
            "Epoch 8/250\n",
            "1/1 [==============================] - 1s 810ms/step - loss: 0.1152\n",
            "Epoch 9/250\n",
            "1/1 [==============================] - 1s 892ms/step - loss: 0.1128\n",
            "Epoch 10/250\n",
            "1/1 [==============================] - 1s 889ms/step - loss: 0.1105\n",
            "Epoch 11/250\n",
            "1/1 [==============================] - 1s 868ms/step - loss: 0.1082\n",
            "Epoch 12/250\n",
            "1/1 [==============================] - 1s 917ms/step - loss: 0.1061\n",
            "Epoch 13/250\n",
            "1/1 [==============================] - 1s 875ms/step - loss: 0.1040\n",
            "Epoch 14/250\n",
            "1/1 [==============================] - 1s 914ms/step - loss: 0.1020\n",
            "Epoch 15/250\n",
            "1/1 [==============================] - 1s 870ms/step - loss: 0.1000\n",
            "Epoch 16/250\n",
            "1/1 [==============================] - 1s 894ms/step - loss: 0.0981\n",
            "Epoch 17/250\n",
            "1/1 [==============================] - 1s 915ms/step - loss: 0.0962\n",
            "Epoch 18/250\n",
            "1/1 [==============================] - 1s 941ms/step - loss: 0.0944\n",
            "Epoch 19/250\n",
            "1/1 [==============================] - 1s 887ms/step - loss: 0.0926\n",
            "Epoch 20/250\n",
            "1/1 [==============================] - 1s 881ms/step - loss: 0.0908\n",
            "Epoch 21/250\n",
            "1/1 [==============================] - 1s 879ms/step - loss: 0.0890\n",
            "Epoch 22/250\n",
            "1/1 [==============================] - 1s 906ms/step - loss: 0.0873\n",
            "Epoch 23/250\n",
            "1/1 [==============================] - 1s 917ms/step - loss: 0.0857\n",
            "Epoch 24/250\n",
            "1/1 [==============================] - 1s 891ms/step - loss: 0.0840\n",
            "Epoch 25/250\n",
            "1/1 [==============================] - 1s 874ms/step - loss: 0.0824\n",
            "Epoch 26/250\n",
            "1/1 [==============================] - 1s 894ms/step - loss: 0.0808\n",
            "Epoch 27/250\n",
            "1/1 [==============================] - 1s 893ms/step - loss: 0.0792\n",
            "Epoch 28/250\n",
            "1/1 [==============================] - 1s 892ms/step - loss: 0.0776\n",
            "Epoch 29/250\n",
            "1/1 [==============================] - 1s 861ms/step - loss: 0.0761\n",
            "Epoch 30/250\n",
            "1/1 [==============================] - 1s 914ms/step - loss: 0.0746\n",
            "Epoch 31/250\n",
            "1/1 [==============================] - 1s 913ms/step - loss: 0.0731\n",
            "Epoch 32/250\n",
            "1/1 [==============================] - 1s 867ms/step - loss: 0.0717\n",
            "Epoch 33/250\n",
            "1/1 [==============================] - 1s 894ms/step - loss: 0.0702\n",
            "Epoch 34/250\n",
            "1/1 [==============================] - 1s 935ms/step - loss: 0.0688\n",
            "Epoch 35/250\n",
            "1/1 [==============================] - 1s 896ms/step - loss: 0.0674\n",
            "Epoch 36/250\n",
            "1/1 [==============================] - 1s 902ms/step - loss: 0.0660\n",
            "Epoch 37/250\n",
            "1/1 [==============================] - 1s 922ms/step - loss: 0.0647\n",
            "Epoch 38/250\n",
            "1/1 [==============================] - 1s 873ms/step - loss: 0.0633\n",
            "Epoch 39/250\n",
            "1/1 [==============================] - 1s 887ms/step - loss: 0.0620\n",
            "Epoch 40/250\n",
            "1/1 [==============================] - 1s 869ms/step - loss: 0.0607\n",
            "Epoch 41/250\n",
            "1/1 [==============================] - 1s 870ms/step - loss: 0.0595\n",
            "Epoch 42/250\n",
            "1/1 [==============================] - 1s 925ms/step - loss: 0.0582\n",
            "Epoch 43/250\n",
            "1/1 [==============================] - 1s 884ms/step - loss: 0.0570\n",
            "Epoch 44/250\n",
            "1/1 [==============================] - 1s 822ms/step - loss: 0.0558\n",
            "Epoch 45/250\n",
            "1/1 [==============================] - 1s 864ms/step - loss: 0.0546\n",
            "Epoch 46/250\n",
            "1/1 [==============================] - 1s 854ms/step - loss: 0.0534\n",
            "Epoch 47/250\n",
            "1/1 [==============================] - 1s 893ms/step - loss: 0.0523\n",
            "Epoch 48/250\n",
            "1/1 [==============================] - 1s 914ms/step - loss: 0.0511\n",
            "Epoch 49/250\n",
            "1/1 [==============================] - 1s 911ms/step - loss: 0.0500\n",
            "Epoch 50/250\n",
            "1/1 [==============================] - 1s 945ms/step - loss: 0.0489\n",
            "Epoch 51/250\n",
            "1/1 [==============================] - 1s 884ms/step - loss: 0.0479\n",
            "Epoch 52/250\n",
            "1/1 [==============================] - 1s 858ms/step - loss: 0.0468\n",
            "Epoch 53/250\n",
            "1/1 [==============================] - 1s 860ms/step - loss: 0.0458\n",
            "Epoch 54/250\n",
            "1/1 [==============================] - 1s 895ms/step - loss: 0.0448\n",
            "Epoch 55/250\n",
            "1/1 [==============================] - 1s 913ms/step - loss: 0.0438\n",
            "Epoch 56/250\n",
            "1/1 [==============================] - 1s 917ms/step - loss: 0.0428\n",
            "Epoch 57/250\n",
            "1/1 [==============================] - 1s 867ms/step - loss: 0.0419\n",
            "Epoch 58/250\n",
            "1/1 [==============================] - 1s 882ms/step - loss: 0.0410\n",
            "Epoch 59/250\n",
            "1/1 [==============================] - 1s 896ms/step - loss: 0.0401\n",
            "Epoch 60/250\n",
            "1/1 [==============================] - 1s 883ms/step - loss: 0.0392\n",
            "Epoch 61/250\n",
            "1/1 [==============================] - 1s 883ms/step - loss: 0.0383\n",
            "Epoch 62/250\n",
            "1/1 [==============================] - 1s 894ms/step - loss: 0.0374\n",
            "Epoch 63/250\n",
            "1/1 [==============================] - 1s 903ms/step - loss: 0.0366\n",
            "Epoch 64/250\n",
            "1/1 [==============================] - 1s 871ms/step - loss: 0.0358\n",
            "Epoch 65/250\n",
            "1/1 [==============================] - 1s 903ms/step - loss: 0.0350\n",
            "Epoch 66/250\n",
            "1/1 [==============================] - 1s 917ms/step - loss: 0.0342\n",
            "Epoch 67/250\n",
            "1/1 [==============================] - 1s 869ms/step - loss: 0.0334\n",
            "Epoch 68/250\n",
            "1/1 [==============================] - 1s 867ms/step - loss: 0.0327\n",
            "Epoch 69/250\n",
            "1/1 [==============================] - 1s 883ms/step - loss: 0.0320\n",
            "Epoch 70/250\n",
            "1/1 [==============================] - 1s 895ms/step - loss: 0.0312\n",
            "Epoch 71/250\n",
            "1/1 [==============================] - 1s 923ms/step - loss: 0.0306\n",
            "Epoch 72/250\n",
            "1/1 [==============================] - 1s 889ms/step - loss: 0.0299\n",
            "Epoch 73/250\n",
            "1/1 [==============================] - 1s 868ms/step - loss: 0.0292\n",
            "Epoch 74/250\n",
            "1/1 [==============================] - 1s 858ms/step - loss: 0.0286\n",
            "Epoch 75/250\n",
            "1/1 [==============================] - 1s 878ms/step - loss: 0.0279\n",
            "Epoch 76/250\n",
            "1/1 [==============================] - 1s 886ms/step - loss: 0.0273\n",
            "Epoch 77/250\n",
            "1/1 [==============================] - 1s 890ms/step - loss: 0.0267\n",
            "Epoch 78/250\n",
            "1/1 [==============================] - 1s 860ms/step - loss: 0.0261\n",
            "Epoch 79/250\n",
            "1/1 [==============================] - 1s 870ms/step - loss: 0.0255\n",
            "Epoch 80/250\n",
            "1/1 [==============================] - 1s 873ms/step - loss: 0.0250\n",
            "Epoch 81/250\n",
            "1/1 [==============================] - 1s 880ms/step - loss: 0.0244\n",
            "Epoch 82/250\n",
            "1/1 [==============================] - 1s 887ms/step - loss: 0.0239\n",
            "Epoch 83/250\n",
            "1/1 [==============================] - 1s 906ms/step - loss: 0.0234\n",
            "Epoch 84/250\n",
            "1/1 [==============================] - 1s 905ms/step - loss: 0.0229\n",
            "Epoch 85/250\n",
            "1/1 [==============================] - 1s 947ms/step - loss: 0.0224\n",
            "Epoch 86/250\n",
            "1/1 [==============================] - 1s 911ms/step - loss: 0.0219\n",
            "Epoch 87/250\n",
            "1/1 [==============================] - 1s 863ms/step - loss: 0.0215\n",
            "Epoch 88/250\n",
            "1/1 [==============================] - 1s 886ms/step - loss: 0.0210\n",
            "Epoch 89/250\n",
            "1/1 [==============================] - 1s 899ms/step - loss: 0.0206\n",
            "Epoch 90/250\n",
            "1/1 [==============================] - 1s 959ms/step - loss: 0.0202\n",
            "Epoch 91/250\n",
            "1/1 [==============================] - 1s 901ms/step - loss: 0.0197\n",
            "Epoch 92/250\n",
            "1/1 [==============================] - 1s 888ms/step - loss: 0.0193\n",
            "Epoch 93/250\n",
            "1/1 [==============================] - 1s 933ms/step - loss: 0.0189\n",
            "Epoch 94/250\n",
            "1/1 [==============================] - 1s 926ms/step - loss: 0.0186\n",
            "Epoch 95/250\n",
            "1/1 [==============================] - 1s 940ms/step - loss: 0.0182\n",
            "Epoch 96/250\n",
            "1/1 [==============================] - 1s 939ms/step - loss: 0.0178\n",
            "Epoch 97/250\n",
            "1/1 [==============================] - 1s 905ms/step - loss: 0.0175\n",
            "Epoch 98/250\n",
            "1/1 [==============================] - 1s 907ms/step - loss: 0.0171\n",
            "Epoch 99/250\n",
            "1/1 [==============================] - 1s 927ms/step - loss: 0.0168\n",
            "Epoch 100/250\n",
            "1/1 [==============================] - 1s 896ms/step - loss: 0.0165\n",
            "Epoch 101/250\n",
            "1/1 [==============================] - 1s 917ms/step - loss: 0.0162\n",
            "Epoch 102/250\n",
            "1/1 [==============================] - 1s 958ms/step - loss: 0.0159\n",
            "Epoch 103/250\n",
            "1/1 [==============================] - 1s 943ms/step - loss: 0.0156\n",
            "Epoch 104/250\n",
            "1/1 [==============================] - 1s 919ms/step - loss: 0.0153\n",
            "Epoch 105/250\n",
            "1/1 [==============================] - 1s 892ms/step - loss: 0.0150\n",
            "Epoch 106/250\n",
            "1/1 [==============================] - 1s 886ms/step - loss: 0.0147\n",
            "Epoch 107/250\n",
            "1/1 [==============================] - 1s 883ms/step - loss: 0.0144\n",
            "Epoch 108/250\n",
            "1/1 [==============================] - 1s 904ms/step - loss: 0.0141\n",
            "Epoch 109/250\n",
            "1/1 [==============================] - 1s 905ms/step - loss: 0.0139\n",
            "Epoch 110/250\n",
            "1/1 [==============================] - 1s 903ms/step - loss: 0.0136\n",
            "Epoch 111/250\n",
            "1/1 [==============================] - 1s 882ms/step - loss: 0.0133\n",
            "Epoch 112/250\n",
            "1/1 [==============================] - 1s 874ms/step - loss: 0.0131\n",
            "Epoch 113/250\n",
            "1/1 [==============================] - 1s 889ms/step - loss: 0.0128\n",
            "Epoch 114/250\n",
            "1/1 [==============================] - 1s 913ms/step - loss: 0.0126\n",
            "Epoch 115/250\n",
            "1/1 [==============================] - 1s 920ms/step - loss: 0.0124\n",
            "Epoch 116/250\n",
            "1/1 [==============================] - 1s 921ms/step - loss: 0.0121\n",
            "Epoch 117/250\n",
            "1/1 [==============================] - 1s 916ms/step - loss: 0.0119\n",
            "Epoch 118/250\n",
            "1/1 [==============================] - 1s 915ms/step - loss: 0.0117\n",
            "Epoch 119/250\n",
            "1/1 [==============================] - 1s 896ms/step - loss: 0.0114\n",
            "Epoch 120/250\n",
            "1/1 [==============================] - 1s 915ms/step - loss: 0.0112\n",
            "Epoch 121/250\n",
            "1/1 [==============================] - 1s 943ms/step - loss: 0.0110\n",
            "Epoch 122/250\n",
            "1/1 [==============================] - 1s 910ms/step - loss: 0.0108\n",
            "Epoch 123/250\n",
            "1/1 [==============================] - 1s 944ms/step - loss: 0.0105\n",
            "Epoch 124/250\n",
            "1/1 [==============================] - 1s 924ms/step - loss: 0.0103\n",
            "Epoch 125/250\n",
            "1/1 [==============================] - 1s 926ms/step - loss: 0.0101\n",
            "Epoch 126/250\n",
            "1/1 [==============================] - 1s 908ms/step - loss: 0.0099\n",
            "Epoch 127/250\n",
            "1/1 [==============================] - 1s 927ms/step - loss: 0.0097\n",
            "Epoch 128/250\n",
            "1/1 [==============================] - 1s 939ms/step - loss: 0.0095\n",
            "Epoch 129/250\n",
            "1/1 [==============================] - 1s 906ms/step - loss: 0.0093\n",
            "Epoch 130/250\n",
            "1/1 [==============================] - 1s 878ms/step - loss: 0.0091\n",
            "Epoch 131/250\n",
            "1/1 [==============================] - 1s 909ms/step - loss: 0.0089\n",
            "Epoch 132/250\n",
            "1/1 [==============================] - 1s 900ms/step - loss: 0.0087\n",
            "Epoch 133/250\n",
            "1/1 [==============================] - 1s 912ms/step - loss: 0.0085\n",
            "Epoch 134/250\n",
            "1/1 [==============================] - 1s 916ms/step - loss: 0.0084\n",
            "Epoch 135/250\n",
            "1/1 [==============================] - 1s 906ms/step - loss: 0.0082\n",
            "Epoch 136/250\n",
            "1/1 [==============================] - 1s 924ms/step - loss: 0.0080\n",
            "Epoch 137/250\n",
            "1/1 [==============================] - 1s 923ms/step - loss: 0.0078\n",
            "Epoch 138/250\n",
            "1/1 [==============================] - 1s 897ms/step - loss: 0.0077\n",
            "Epoch 139/250\n",
            "1/1 [==============================] - 1s 873ms/step - loss: 0.0075\n",
            "Epoch 140/250\n",
            "1/1 [==============================] - 1s 893ms/step - loss: 0.0073\n",
            "Epoch 141/250\n",
            "1/1 [==============================] - 1s 859ms/step - loss: 0.0072\n",
            "Epoch 142/250\n",
            "1/1 [==============================] - 1s 907ms/step - loss: 0.0070\n",
            "Epoch 143/250\n",
            "1/1 [==============================] - 1s 911ms/step - loss: 0.0069\n",
            "Epoch 144/250\n",
            "1/1 [==============================] - 1s 933ms/step - loss: 0.0067\n",
            "Epoch 145/250\n",
            "1/1 [==============================] - 1s 881ms/step - loss: 0.0066\n",
            "Epoch 146/250\n",
            "1/1 [==============================] - 1s 903ms/step - loss: 0.0064\n",
            "Epoch 147/250\n",
            "1/1 [==============================] - 1s 923ms/step - loss: 0.0063\n",
            "Epoch 148/250\n",
            "1/1 [==============================] - 1s 898ms/step - loss: 0.0061\n",
            "Epoch 149/250\n",
            "1/1 [==============================] - 1s 905ms/step - loss: 0.0060\n",
            "Epoch 150/250\n",
            "1/1 [==============================] - 1s 920ms/step - loss: 0.0058\n",
            "Epoch 151/250\n",
            "1/1 [==============================] - 1s 924ms/step - loss: 0.0057\n",
            "Epoch 152/250\n",
            "1/1 [==============================] - 1s 920ms/step - loss: 0.0056\n",
            "Epoch 153/250\n",
            "1/1 [==============================] - 1s 875ms/step - loss: 0.0055\n",
            "Epoch 154/250\n",
            "1/1 [==============================] - 1s 895ms/step - loss: 0.0053\n",
            "Epoch 155/250\n",
            "1/1 [==============================] - 1s 898ms/step - loss: 0.0052\n",
            "Epoch 156/250\n",
            "1/1 [==============================] - 1s 923ms/step - loss: 0.0051\n",
            "Epoch 157/250\n",
            "1/1 [==============================] - 1s 891ms/step - loss: 0.0050\n",
            "Epoch 158/250\n",
            "1/1 [==============================] - 1s 874ms/step - loss: 0.0049\n",
            "Epoch 159/250\n",
            "1/1 [==============================] - 1s 924ms/step - loss: 0.0048\n",
            "Epoch 160/250\n",
            "1/1 [==============================] - 1s 928ms/step - loss: 0.0046\n",
            "Epoch 161/250\n",
            "1/1 [==============================] - 1s 911ms/step - loss: 0.0045\n",
            "Epoch 162/250\n",
            "1/1 [==============================] - 1s 925ms/step - loss: 0.0044\n",
            "Epoch 163/250\n",
            "1/1 [==============================] - 1s 930ms/step - loss: 0.0043\n",
            "Epoch 164/250\n",
            "1/1 [==============================] - 1s 925ms/step - loss: 0.0042\n",
            "Epoch 165/250\n",
            "1/1 [==============================] - 1s 940ms/step - loss: 0.0042\n",
            "Epoch 166/250\n",
            "1/1 [==============================] - 1s 903ms/step - loss: 0.0041\n",
            "Epoch 167/250\n",
            "1/1 [==============================] - 1s 952ms/step - loss: 0.0040\n",
            "Epoch 168/250\n",
            "1/1 [==============================] - 1s 969ms/step - loss: 0.0039\n",
            "Epoch 169/250\n",
            "1/1 [==============================] - 1s 925ms/step - loss: 0.0038\n",
            "Epoch 170/250\n",
            "1/1 [==============================] - 1s 920ms/step - loss: 0.0037\n",
            "Epoch 171/250\n",
            "1/1 [==============================] - 1s 897ms/step - loss: 0.0037\n",
            "Epoch 172/250\n",
            "1/1 [==============================] - 1s 886ms/step - loss: 0.0036\n",
            "Epoch 173/250\n",
            "1/1 [==============================] - 1s 888ms/step - loss: 0.0035\n",
            "Epoch 174/250\n",
            "1/1 [==============================] - 1s 897ms/step - loss: 0.0034\n",
            "Epoch 175/250\n",
            "1/1 [==============================] - 1s 910ms/step - loss: 0.0034\n",
            "Epoch 176/250\n",
            "1/1 [==============================] - 1s 906ms/step - loss: 0.0033\n",
            "Epoch 177/250\n",
            "1/1 [==============================] - 1s 909ms/step - loss: 0.0033\n",
            "Epoch 178/250\n",
            "1/1 [==============================] - 1s 878ms/step - loss: 0.0032\n",
            "Epoch 179/250\n",
            "1/1 [==============================] - 1s 912ms/step - loss: 0.0031\n",
            "Epoch 180/250\n",
            "1/1 [==============================] - 1s 906ms/step - loss: 0.0031\n",
            "Epoch 181/250\n",
            "1/1 [==============================] - 1s 946ms/step - loss: 0.0030\n",
            "Epoch 182/250\n",
            "1/1 [==============================] - 1s 943ms/step - loss: 0.0030\n",
            "Epoch 183/250\n",
            "1/1 [==============================] - 1s 907ms/step - loss: 0.0029\n",
            "Epoch 184/250\n",
            "1/1 [==============================] - 1s 913ms/step - loss: 0.0029\n",
            "Epoch 185/250\n",
            "1/1 [==============================] - 1s 891ms/step - loss: 0.0028\n",
            "Epoch 186/250\n",
            "1/1 [==============================] - 1s 934ms/step - loss: 0.0028\n",
            "Epoch 187/250\n",
            "1/1 [==============================] - 1s 946ms/step - loss: 0.0028\n",
            "Epoch 188/250\n",
            "1/1 [==============================] - 1s 921ms/step - loss: 0.0027\n",
            "Epoch 189/250\n",
            "1/1 [==============================] - 1s 923ms/step - loss: 0.0027\n",
            "Epoch 190/250\n",
            "1/1 [==============================] - 1s 918ms/step - loss: 0.0026\n",
            "Epoch 191/250\n",
            "1/1 [==============================] - 1s 952ms/step - loss: 0.0026\n",
            "Epoch 192/250\n",
            "1/1 [==============================] - 1s 949ms/step - loss: 0.0026\n",
            "Epoch 193/250\n",
            "1/1 [==============================] - 1s 944ms/step - loss: 0.0025\n",
            "Epoch 194/250\n",
            "1/1 [==============================] - 1s 929ms/step - loss: 0.0025\n",
            "Epoch 195/250\n",
            "1/1 [==============================] - 1s 908ms/step - loss: 0.0025\n",
            "Epoch 196/250\n",
            "1/1 [==============================] - 1s 910ms/step - loss: 0.0024\n",
            "Epoch 197/250\n",
            "1/1 [==============================] - 1s 899ms/step - loss: 0.0024\n",
            "Epoch 198/250\n",
            "1/1 [==============================] - 1s 934ms/step - loss: 0.0024\n",
            "Epoch 199/250\n",
            "1/1 [==============================] - 1s 928ms/step - loss: 0.0024\n",
            "Epoch 200/250\n",
            "1/1 [==============================] - 1s 888ms/step - loss: 0.0023\n",
            "Epoch 201/250\n",
            "1/1 [==============================] - 1s 936ms/step - loss: 0.0023\n",
            "Epoch 202/250\n",
            "1/1 [==============================] - 1s 923ms/step - loss: 0.0023\n",
            "Epoch 203/250\n",
            "1/1 [==============================] - 1s 919ms/step - loss: 0.0023\n",
            "Epoch 204/250\n",
            "1/1 [==============================] - 1s 888ms/step - loss: 0.0022\n",
            "Epoch 205/250\n",
            "1/1 [==============================] - 1s 875ms/step - loss: 0.0022\n",
            "Epoch 206/250\n",
            "1/1 [==============================] - 1s 869ms/step - loss: 0.0022\n",
            "Epoch 207/250\n",
            "1/1 [==============================] - 1s 872ms/step - loss: 0.0022\n",
            "Epoch 208/250\n",
            "1/1 [==============================] - 1s 921ms/step - loss: 0.0022\n",
            "Epoch 209/250\n",
            "1/1 [==============================] - 1s 917ms/step - loss: 0.0021\n",
            "Epoch 210/250\n",
            "1/1 [==============================] - 1s 937ms/step - loss: 0.0021\n",
            "Epoch 211/250\n",
            "1/1 [==============================] - 1s 905ms/step - loss: 0.0021\n",
            "Epoch 212/250\n",
            "1/1 [==============================] - 1s 918ms/step - loss: 0.0021\n",
            "Epoch 213/250\n",
            "1/1 [==============================] - 1s 911ms/step - loss: 0.0021\n",
            "Epoch 214/250\n",
            "1/1 [==============================] - 1s 887ms/step - loss: 0.0021\n",
            "Epoch 215/250\n",
            "1/1 [==============================] - 1s 891ms/step - loss: 0.0020\n",
            "Epoch 216/250\n",
            "1/1 [==============================] - 1s 924ms/step - loss: 0.0020\n",
            "Epoch 217/250\n",
            "1/1 [==============================] - 1s 948ms/step - loss: 0.0020\n",
            "Epoch 218/250\n",
            "1/1 [==============================] - 1s 888ms/step - loss: 0.0020\n",
            "Epoch 219/250\n",
            "1/1 [==============================] - 1s 870ms/step - loss: 0.0020\n",
            "Epoch 220/250\n",
            "1/1 [==============================] - 1s 917ms/step - loss: 0.0020\n",
            "Epoch 221/250\n",
            "1/1 [==============================] - 1s 925ms/step - loss: 0.0020\n",
            "Epoch 222/250\n",
            "1/1 [==============================] - 1s 922ms/step - loss: 0.0019\n",
            "Epoch 223/250\n",
            "1/1 [==============================] - 1s 896ms/step - loss: 0.0019\n",
            "Epoch 224/250\n",
            "1/1 [==============================] - 1s 901ms/step - loss: 0.0019\n",
            "Epoch 225/250\n",
            "1/1 [==============================] - 1s 908ms/step - loss: 0.0019\n",
            "Epoch 226/250\n",
            "1/1 [==============================] - 1s 922ms/step - loss: 0.0019\n",
            "Epoch 227/250\n",
            "1/1 [==============================] - 1s 912ms/step - loss: 0.0019\n",
            "Epoch 228/250\n",
            "1/1 [==============================] - 1s 921ms/step - loss: 0.0019\n",
            "Epoch 229/250\n",
            "1/1 [==============================] - 1s 919ms/step - loss: 0.0019\n",
            "Epoch 230/250\n",
            "1/1 [==============================] - 1s 946ms/step - loss: 0.0019\n",
            "Epoch 231/250\n",
            "1/1 [==============================] - 1s 897ms/step - loss: 0.0019\n",
            "Epoch 232/250\n",
            "1/1 [==============================] - 1s 930ms/step - loss: 0.0019\n",
            "Epoch 233/250\n",
            "1/1 [==============================] - 1s 933ms/step - loss: 0.0018\n",
            "Epoch 234/250\n",
            "1/1 [==============================] - 1s 934ms/step - loss: 0.0018\n",
            "Epoch 235/250\n",
            "1/1 [==============================] - 1s 929ms/step - loss: 0.0018\n",
            "Epoch 236/250\n",
            "1/1 [==============================] - 1s 897ms/step - loss: 0.0018\n",
            "Epoch 237/250\n",
            "1/1 [==============================] - 1s 895ms/step - loss: 0.0018\n",
            "Epoch 238/250\n",
            "1/1 [==============================] - 1s 900ms/step - loss: 0.0018\n",
            "Epoch 239/250\n",
            "1/1 [==============================] - 1s 879ms/step - loss: 0.0018\n",
            "Epoch 240/250\n",
            "1/1 [==============================] - 1s 900ms/step - loss: 0.0018\n",
            "Epoch 241/250\n",
            "1/1 [==============================] - 1s 899ms/step - loss: 0.0018\n",
            "Epoch 242/250\n",
            "1/1 [==============================] - 1s 919ms/step - loss: 0.0018\n",
            "Epoch 243/250\n",
            "1/1 [==============================] - 1s 870ms/step - loss: 0.0018\n",
            "Epoch 244/250\n",
            "1/1 [==============================] - 1s 867ms/step - loss: 0.0018\n",
            "Epoch 245/250\n",
            "1/1 [==============================] - 1s 925ms/step - loss: 0.0018\n",
            "Epoch 246/250\n",
            "1/1 [==============================] - 1s 916ms/step - loss: 0.0018\n",
            "Epoch 247/250\n",
            "1/1 [==============================] - 1s 918ms/step - loss: 0.0018\n",
            "Epoch 248/250\n",
            "1/1 [==============================] - 1s 909ms/step - loss: 0.0018\n",
            "Epoch 249/250\n",
            "1/1 [==============================] - 1s 880ms/step - loss: 0.0018\n",
            "Epoch 250/250\n",
            "1/1 [==============================] - 1s 906ms/step - loss: 0.0017\n",
            "Model Fit Complete\n"
          ],
          "name": "stdout"
        }
      ]
    },
    {
      "cell_type": "code",
      "metadata": {
        "id": "g07f1lEGXu_T",
        "colab_type": "code",
        "outputId": "b0341052-7a3e-4a92-d3ff-7c06535aa98c",
        "colab": {
          "base_uri": "https://localhost:8080/",
          "height": 34
        }
      },
      "source": [
        "# train fit performance\n",
        "trainPredict = seq_lstm_model.predict(train_x)\n",
        "trainScore = math.sqrt(mean_squared_error(train_y[0], trainPredict[0]))\n",
        "print('Train Score: %.2f RMSE' % (trainScore))"
      ],
      "execution_count": 209,
      "outputs": [
        {
          "output_type": "stream",
          "text": [
            "Train Score: 0.04 RMSE\n"
          ],
          "name": "stdout"
        }
      ]
    },
    {
      "cell_type": "code",
      "metadata": {
        "id": "URNrqwpl1SbQ",
        "colab_type": "code",
        "outputId": "dfb80c12-20c6-4f67-fc09-d2e95f533402",
        "colab": {
          "base_uri": "https://localhost:8080/",
          "height": 153
        }
      },
      "source": [
        "trainPredict"
      ],
      "execution_count": 210,
      "outputs": [
        {
          "output_type": "execute_result",
          "data": {
            "text/plain": [
              "array([[[0.12552667, 0.11114304, 0.09949882, 0.18189925, 0.12718743],\n",
              "        [0.14310081, 0.08379331, 0.09865844, 0.166518  , 0.07764621],\n",
              "        [0.15398672, 0.06198193, 0.09143795, 0.15020642, 0.04513742],\n",
              "        ...,\n",
              "        [0.11545254, 0.6709944 , 0.6667575 , 0.655286  , 0.6618559 ],\n",
              "        [0.11673172, 0.67204094, 0.66949624, 0.65548843, 0.6609008 ],\n",
              "        [0.1212827 , 0.6702379 , 0.67387503, 0.6547202 , 0.6546721 ]]],\n",
              "      dtype=float32)"
            ]
          },
          "metadata": {
            "tags": []
          },
          "execution_count": 210
        }
      ]
    },
    {
      "cell_type": "code",
      "metadata": {
        "id": "ZW0LgTTSXyKR",
        "colab_type": "code",
        "colab": {}
      },
      "source": [
        "# Pad input sequence\n",
        "testPredict = pad_sequences(test_x,maxlen=train_x.shape[1],padding='post',dtype='float64')"
      ],
      "execution_count": 0,
      "outputs": []
    },
    {
      "cell_type": "code",
      "metadata": {
        "id": "XsR5ytjpX2yj",
        "colab_type": "code",
        "outputId": "c8f56e84-37b6-4ffe-d30e-504c83cc2ef9",
        "colab": {
          "base_uri": "https://localhost:8080/",
          "height": 153
        }
      },
      "source": [
        "# forecast values\n",
        "testPredict = seq_lstm_model.predict(testPredict)\n",
        "testPredict"
      ],
      "execution_count": 212,
      "outputs": [
        {
          "output_type": "execute_result",
          "data": {
            "text/plain": [
              "array([[[0.07230058, 0.28655076, 0.1617999 , 0.2478413 , 0.42381898],\n",
              "        [0.08231367, 0.3891809 , 0.27313122, 0.3290736 , 0.5327633 ],\n",
              "        [0.08831815, 0.46319187, 0.3606185 , 0.3936264 , 0.5884907 ],\n",
              "        ...,\n",
              "        [0.1195783 , 0.0308558 , 0.00746114, 0.07364118, 0.01515351],\n",
              "        [0.1195783 , 0.0308558 , 0.00746114, 0.07364118, 0.01515351],\n",
              "        [0.1195783 , 0.0308558 , 0.00746114, 0.07364118, 0.01515351]]],\n",
              "      dtype=float32)"
            ]
          },
          "metadata": {
            "tags": []
          },
          "execution_count": 212
        }
      ]
    },
    {
      "cell_type": "code",
      "metadata": {
        "id": "KvjYccaoN8hP",
        "colab_type": "code",
        "colab": {}
      },
      "source": [
        "#Drop all other variables except Close Price Output\n",
        "testPredict=np.delete(testPredict, [2,3,4], 2)\n",
        "trainPredict=np.delete(trainPredict, [2,3,4], 2)\n",
        "# testPredict=np.delete(testPredict, 3, 2)\n",
        "# trainPredict=np.delete(trainPredict, 3, 2)\n",
        "# testPredict=np.delete(testPredict, 4, 2)\n",
        "# trainPredict=np.delete(trainPredict, 4, 2)\n",
        "testPredict=np.delete(testPredict, 0, 2)\n",
        "trainPredict=np.delete(trainPredict, 0, 2)"
      ],
      "execution_count": 0,
      "outputs": []
    },
    {
      "cell_type": "code",
      "metadata": {
        "id": "0Oc_n5TARVXV",
        "colab_type": "code",
        "outputId": "cdf32ad7-16f7-4dfe-f007-7d538b44fd08",
        "colab": {
          "base_uri": "https://localhost:8080/",
          "height": 136
        }
      },
      "source": [
        "testPredict"
      ],
      "execution_count": 214,
      "outputs": [
        {
          "output_type": "execute_result",
          "data": {
            "text/plain": [
              "array([[[0.28655076],\n",
              "        [0.3891809 ],\n",
              "        [0.46319187],\n",
              "        ...,\n",
              "        [0.0308558 ],\n",
              "        [0.0308558 ],\n",
              "        [0.0308558 ]]], dtype=float32)"
            ]
          },
          "metadata": {
            "tags": []
          },
          "execution_count": 214
        }
      ]
    },
    {
      "cell_type": "code",
      "metadata": {
        "id": "EMtIMjJRE18q",
        "colab_type": "code",
        "outputId": "4eae0aeb-308f-4e88-a1ac-a1dc9eb17935",
        "colab": {
          "base_uri": "https://localhost:8080/",
          "height": 136
        }
      },
      "source": [
        "trainPredict\n"
      ],
      "execution_count": 215,
      "outputs": [
        {
          "output_type": "execute_result",
          "data": {
            "text/plain": [
              "array([[[0.11114304],\n",
              "        [0.08379331],\n",
              "        [0.06198193],\n",
              "        ...,\n",
              "        [0.6709944 ],\n",
              "        [0.67204094],\n",
              "        [0.6702379 ]]], dtype=float32)"
            ]
          },
          "metadata": {
            "tags": []
          },
          "execution_count": 215
        }
      ]
    },
    {
      "cell_type": "code",
      "metadata": {
        "id": "x_tNvtkz_f5X",
        "colab_type": "code",
        "outputId": "ff32acc1-d3a7-4cad-e9f5-1325eeb42e24",
        "colab": {
          "base_uri": "https://localhost:8080/",
          "height": 34
        }
      },
      "source": [
        "type(testPredict)"
      ],
      "execution_count": 216,
      "outputs": [
        {
          "output_type": "execute_result",
          "data": {
            "text/plain": [
              "numpy.ndarray"
            ]
          },
          "metadata": {
            "tags": []
          },
          "execution_count": 216
        }
      ]
    },
    {
      "cell_type": "code",
      "metadata": {
        "id": "zA7Aehl4X5ck",
        "colab_type": "code",
        "colab": {}
      },
      "source": [
        "# # inverse transformation of the Close Price\n",
        "trainPredict = scaler_Close.inverse_transform(trainPredict.\\\n",
        "                                        reshape(-1,1))\n",
        "testPredict = scaler_Close.inverse_transform(testPredict.\\\n",
        "                                       reshape(-1,1))"
      ],
      "execution_count": 0,
      "outputs": []
    },
    {
      "cell_type": "code",
      "metadata": {
        "id": "x_nZ9samd1Rs",
        "colab_type": "code",
        "outputId": "7fcb61a0-ad31-401e-fb2c-875ffb854eb7",
        "colab": {
          "base_uri": "https://localhost:8080/",
          "height": 136
        }
      },
      "source": [
        "trainPredict"
      ],
      "execution_count": 218,
      "outputs": [
        {
          "output_type": "execute_result",
          "data": {
            "text/plain": [
              "array([[22.82197 ],\n",
              "       [21.781712],\n",
              "       [20.952108],\n",
              "       ...,\n",
              "       [44.11614 ],\n",
              "       [44.155945],\n",
              "       [44.087364]], dtype=float32)"
            ]
          },
          "metadata": {
            "tags": []
          },
          "execution_count": 218
        }
      ]
    },
    {
      "cell_type": "code",
      "metadata": {
        "id": "NRMR0WkN3XIh",
        "colab_type": "code",
        "outputId": "69c34b1f-b610-46cd-e5fd-7f46937b3a9e",
        "colab": {
          "base_uri": "https://localhost:8080/",
          "height": 607
        }
      },
      "source": [
        "# plot the true and forecasted values\n",
        "split_ratio = len(trainPredict)+1\n",
        "\n",
        "plt.plot(sub_split_date.Date,\n",
        "          sub_split.Close.values,c='black',\n",
        "          alpha=0.3,label='True Data')\n",
        "\n",
        "plt.plot(sub_split_date.Date[1:split_ratio],\n",
        "          trainPredict,label='Training Fit',c='g')\n",
        "\n",
        "plt.plot(sub_split_date.Date[split_ratio+1:],\n",
        "          testPredict[:test_x.shape[1]],label='Testing Forecast')\n",
        "plt.title('Forecast Plot')\n",
        "plt.legend()\n",
        "#plt.show()\n",
        "plt.rcParams[\"figure.figsize\"] = (20,10)\n",
        "plt.show()"
      ],
      "execution_count": 219,
      "outputs": [
        {
          "output_type": "display_data",
          "data": {
            "image/png": "[encoded data removed]",
            "text/plain": [
              "<Figure size 1440x720 with 1 Axes>"
            ]
          },
          "metadata": {
            "tags": []
          }
        }
      ]
    }
  ]
}