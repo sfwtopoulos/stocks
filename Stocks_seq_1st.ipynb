{
  "nbformat": 4,
  "nbformat_minor": 0,
  "metadata": {
    "colab": {
      "name": "Stocks_seq_1st.ipynb",
      "provenance": [],
      "collapsed_sections": [],
      "include_colab_link": true
    },
    "kernelspec": {
      "name": "python3",
      "display_name": "Python 3"
    }
  },
  "cells": [
    {
      "cell_type": "markdown",
      "metadata": {
        "id": "view-in-github",
        "colab_type": "text"
      },
      "source": [
        "<a href=\"https://colab.research.google.com/github/sfwtopoulos/stocks/blob/master/Stocks_seq_1st.ipynb\" target=\"_parent\"><img src=\"https://colab.research.google.com/assets/colab-badge.svg\" alt=\"Open In Colab\"/></a>"
      ]
    },
    {
      "cell_type": "code",
      "metadata": {
        "id": "DOmxraS5T1wD",
        "colab_type": "code",
        "colab": {}
      },
      "source": [
        "import pandas as pd\n",
        "import matplotlib.pyplot as plt\n",
        "import pandas as pd\n",
        "import math\n",
        "import warnings\n",
        "import numpy as np\n",
        "import time\n",
        "\n",
        "import pandas_datareader as pdr\n",
        "#%tensorflow_version 2.x\n",
        "# Restart runtime using 'Runtime' -> 'Restart runtime...'\n",
        "%tensorflow_version 1.x\n",
        "import tensorflow as tf\n",
        "import keras\n",
        "\n",
        "\n",
        "from keras.layers import LSTM\n",
        "from keras.models import Sequential\n",
        "from keras.layers.wrappers import TimeDistributed\n",
        "from keras.layers.core import Dense, Activation, Dropout\n",
        "from keras.preprocessing.sequence import pad_sequences\n",
        "\n",
        "from sklearn.preprocessing import MinMaxScaler\n",
        "from sklearn.metrics import mean_squared_error\n",
        "import seaborn as sns\n",
        "import matplotlib.pyplot as plt\n",
        "#not all needed\n",
        "\n",
        "\n",
        "warnings.filterwarnings('ignore',category=FutureWarning)\n",
        "warnings.filterwarnings('ignore', category=DeprecationWarning)"
      ],
      "execution_count": 0,
      "outputs": []
    },
    {
      "cell_type": "code",
      "metadata": {
        "id": "2byEjZdZVJrz",
        "colab_type": "code",
        "outputId": "4c43c0da-4103-4bc0-cb9f-f53c8081870a",
        "colab": {
          "base_uri": "https://localhost:8080/",
          "height": 51
        }
      },
      "source": [
        "print(keras.__version__)\n",
        "print(tf.__version__)\n",
        "#print(tensorflow.compat.v2.__version__)"
      ],
      "execution_count": 521,
      "outputs": [
        {
          "output_type": "stream",
          "text": [
            "2.2.5\n",
            "1.15.0\n"
          ],
          "name": "stdout"
        }
      ]
    },
    {
      "cell_type": "code",
      "metadata": {
        "id": "tVJdUlQJUDjY",
        "colab_type": "code",
        "colab": {}
      },
      "source": [
        "#Data import from git repo\n",
        "url = 'https://raw.githubusercontent.com/sfwtopoulos/stocks/master/stocks_dataset/combined.csv'\n",
        "#df1 = pd.read_csv(url, error_bad_lines=False)\n",
        "dfstocks = pd.read_csv(url, sep=',')"
      ],
      "execution_count": 0,
      "outputs": []
    },
    {
      "cell_type": "code",
      "metadata": {
        "id": "A1gYAB3OUECs",
        "colab_type": "code",
        "outputId": "fbd2898b-3fb3-41b6-9656-c0d52abf9da0",
        "colab": {
          "base_uri": "https://localhost:8080/",
          "height": 136
        }
      },
      "source": [
        "#fix column names\n",
        "dfstocks=dfstocks.rename({' AAPL':'Company', ' Close/Last':'Close', ' Volume':'Volume', ' Open':'Open', ' High':'High', ' Low':'Low'}, axis=1);\n",
        "for col in dfstocks.columns: \n",
        "    print(col) "
      ],
      "execution_count": 523,
      "outputs": [
        {
          "output_type": "stream",
          "text": [
            "Date\n",
            "Close\n",
            "Volume\n",
            "Open\n",
            "High\n",
            "Low\n",
            "Company\n"
          ],
          "name": "stdout"
        }
      ]
    },
    {
      "cell_type": "code",
      "metadata": {
        "id": "vlSTPXYHUHSB",
        "colab_type": "code",
        "colab": {}
      },
      "source": [
        "#drop $sign from values\n",
        "dfstocks.Close=dfstocks['Close'].astype(str)\n",
        "dfstocks.Close=dfstocks.Close.apply(lambda x: x.replace('$',''))\n",
        "dfstocks.Open=dfstocks['Open'].astype(str)\n",
        "dfstocks.Open=dfstocks.Open.apply(lambda x: x.replace('$',''))\n",
        "dfstocks.High=dfstocks['High'].astype(str)\n",
        "dfstocks.High=dfstocks.High.apply(lambda x: x.replace('$',''))\n",
        "dfstocks.Low=dfstocks['Low'].astype(str)\n",
        "dfstocks.Low=dfstocks.Low.apply(lambda x: x.replace('$',''))"
      ],
      "execution_count": 0,
      "outputs": []
    },
    {
      "cell_type": "code",
      "metadata": {
        "id": "F4cxCV_YUJGa",
        "colab_type": "code",
        "outputId": "818350ac-2590-400b-c388-0d26285dd972",
        "colab": {
          "base_uri": "https://localhost:8080/",
          "height": 34
        }
      },
      "source": [
        "#drop rows containing nan or header from the csv files\n",
        "dfstocks=dfstocks[~dfstocks.Low.str.contains(\"nan\")]\n",
        "dfstocks=dfstocks[~dfstocks.Low.str.contains(\"Low\")]\n",
        "dfstocks=dfstocks[~dfstocks.Low.str.contains(\"N/A\")]\n",
        "dfstocks=dfstocks[~dfstocks.Volume.str.contains(\"N/A\")]\n",
        "dfstocks.reset_index(drop=True, inplace=True)\n",
        "dfstocks.Date.count()"
      ],
      "execution_count": 525,
      "outputs": [
        {
          "output_type": "execute_result",
          "data": {
            "text/plain": [
              "229269"
            ]
          },
          "metadata": {
            "tags": []
          },
          "execution_count": 525
        }
      ]
    },
    {
      "cell_type": "code",
      "metadata": {
        "id": "te4JUA9lUL06",
        "colab_type": "code",
        "outputId": "fec69d46-2078-4325-965f-d06aced172ef",
        "colab": {
          "base_uri": "https://localhost:8080/",
          "height": 419
        }
      },
      "source": [
        "#sort dataframe based on date and Company Name\n",
        "dfstocks = dfstocks.sort_values(['Date', 'Company'])\n",
        "dfstocks.head(100)"
      ],
      "execution_count": 526,
      "outputs": [
        {
          "output_type": "execute_result",
          "data": {
            "text/html": [
              "<div>\n",
              "<style scoped>\n",
              "    .dataframe tbody tr th:only-of-type {\n",
              "        vertical-align: middle;\n",
              "    }\n",
              "\n",
              "    .dataframe tbody tr th {\n",
              "        vertical-align: top;\n",
              "    }\n",
              "\n",
              "    .dataframe thead th {\n",
              "        text-align: right;\n",
              "    }\n",
              "</style>\n",
              "<table border=\"1\" class=\"dataframe\">\n",
              "  <thead>\n",
              "    <tr style=\"text-align: right;\">\n",
              "      <th></th>\n",
              "      <th>Date</th>\n",
              "      <th>Close</th>\n",
              "      <th>Volume</th>\n",
              "      <th>Open</th>\n",
              "      <th>High</th>\n",
              "      <th>Low</th>\n",
              "      <th>Company</th>\n",
              "    </tr>\n",
              "  </thead>\n",
              "  <tbody>\n",
              "    <tr>\n",
              "      <th>1761</th>\n",
              "      <td>01/02/2013</td>\n",
              "      <td>78.4328</td>\n",
              "      <td>139906732</td>\n",
              "      <td>79.1171</td>\n",
              "      <td>79.2857</td>\n",
              "      <td>77.3757</td>\n",
              "      <td>AAPL</td>\n",
              "    </tr>\n",
              "    <tr>\n",
              "      <th>4248</th>\n",
              "      <td>01/02/2013</td>\n",
              "      <td>35.12</td>\n",
              "      <td>13767660</td>\n",
              "      <td>34.92</td>\n",
              "      <td>35.4</td>\n",
              "      <td>34.1</td>\n",
              "      <td>ABBV</td>\n",
              "    </tr>\n",
              "    <tr>\n",
              "      <th>6025</th>\n",
              "      <td>01/02/2013</td>\n",
              "      <td>32.05</td>\n",
              "      <td>20266410</td>\n",
              "      <td>32.3</td>\n",
              "      <td>32.45</td>\n",
              "      <td>31.64</td>\n",
              "      <td>ABT</td>\n",
              "    </tr>\n",
              "    <tr>\n",
              "      <th>8512</th>\n",
              "      <td>01/02/2013</td>\n",
              "      <td>69.06</td>\n",
              "      <td>4039095</td>\n",
              "      <td>67.59</td>\n",
              "      <td>69.06</td>\n",
              "      <td>67.55</td>\n",
              "      <td>ACN</td>\n",
              "    </tr>\n",
              "    <tr>\n",
              "      <th>10999</th>\n",
              "      <td>01/02/2013</td>\n",
              "      <td>38.34</td>\n",
              "      <td>6483720</td>\n",
              "      <td>37.92</td>\n",
              "      <td>38.73</td>\n",
              "      <td>37.92</td>\n",
              "      <td>ADBE</td>\n",
              "    </tr>\n",
              "    <tr>\n",
              "      <th>...</th>\n",
              "      <td>...</td>\n",
              "      <td>...</td>\n",
              "      <td>...</td>\n",
              "      <td>...</td>\n",
              "      <td>...</td>\n",
              "      <td>...</td>\n",
              "      <td>...</td>\n",
              "    </tr>\n",
              "    <tr>\n",
              "      <th>10747</th>\n",
              "      <td>01/02/2014</td>\n",
              "      <td>59.29</td>\n",
              "      <td>2745895</td>\n",
              "      <td>59.06</td>\n",
              "      <td>59.53</td>\n",
              "      <td>58.94</td>\n",
              "      <td>ADBE</td>\n",
              "    </tr>\n",
              "    <tr>\n",
              "      <th>13234</th>\n",
              "      <td>01/02/2014</td>\n",
              "      <td>168.05</td>\n",
              "      <td>1268722</td>\n",
              "      <td>167.33</td>\n",
              "      <td>170.71</td>\n",
              "      <td>166.5937</td>\n",
              "      <td>AGN</td>\n",
              "    </tr>\n",
              "    <tr>\n",
              "      <th>15721</th>\n",
              "      <td>01/02/2014</td>\n",
              "      <td>50.71</td>\n",
              "      <td>9196092</td>\n",
              "      <td>50.81</td>\n",
              "      <td>51.3</td>\n",
              "      <td>50.47</td>\n",
              "      <td>AIG</td>\n",
              "    </tr>\n",
              "    <tr>\n",
              "      <th>18208</th>\n",
              "      <td>01/02/2014</td>\n",
              "      <td>53.55</td>\n",
              "      <td>1909106</td>\n",
              "      <td>54.09</td>\n",
              "      <td>54.45</td>\n",
              "      <td>53.5</td>\n",
              "      <td>ALL</td>\n",
              "    </tr>\n",
              "    <tr>\n",
              "      <th>20695</th>\n",
              "      <td>01/02/2014</td>\n",
              "      <td>115.795</td>\n",
              "      <td>2528751</td>\n",
              "      <td>114.36</td>\n",
              "      <td>116.19</td>\n",
              "      <td>114.06</td>\n",
              "      <td>AMGN</td>\n",
              "    </tr>\n",
              "  </tbody>\n",
              "</table>\n",
              "<p>100 rows × 7 columns</p>\n",
              "</div>"
            ],
            "text/plain": [
              "             Date     Close      Volume      Open      High        Low Company\n",
              "1761   01/02/2013   78.4328   139906732   79.1171   79.2857    77.3757    AAPL\n",
              "4248   01/02/2013     35.12    13767660     34.92      35.4       34.1    ABBV\n",
              "6025   01/02/2013     32.05    20266410      32.3     32.45      31.64     ABT\n",
              "8512   01/02/2013     69.06     4039095     67.59     69.06      67.55     ACN\n",
              "10999  01/02/2013     38.34     6483720     37.92     38.73      37.92    ADBE\n",
              "...           ...       ...         ...       ...       ...        ...     ...\n",
              "10747  01/02/2014     59.29     2745895     59.06     59.53      58.94    ADBE\n",
              "13234  01/02/2014    168.05     1268722    167.33    170.71   166.5937     AGN\n",
              "15721  01/02/2014     50.71     9196092     50.81      51.3      50.47     AIG\n",
              "18208  01/02/2014     53.55     1909106     54.09     54.45       53.5     ALL\n",
              "20695  01/02/2014   115.795     2528751    114.36    116.19     114.06    AMGN\n",
              "\n",
              "[100 rows x 7 columns]"
            ]
          },
          "metadata": {
            "tags": []
          },
          "execution_count": 526
        }
      ]
    },
    {
      "cell_type": "code",
      "metadata": {
        "id": "ORS6zOAhUMQ6",
        "colab_type": "code",
        "colab": {}
      },
      "source": [
        "#Test Split\n",
        "dfstocks_split = dfstocks.sample(frac=0.9998,random_state=200)\n",
        "second_split=dfstocks.drop(dfstocks_split.index)\n",
        "# second_split = second_split.reindex(index=second_split.Date(second_split.index.min(), \n",
        "#                                           second_split.index.max(), \n",
        "#                                           freq='D')).fillna(method='ffill')\n"
      ],
      "execution_count": 0,
      "outputs": []
    },
    {
      "cell_type": "code",
      "metadata": {
        "id": "SvGv9U_NHZcv",
        "colab_type": "code",
        "outputId": "0341f7a7-b626-4390-a720-98769b3735c5",
        "colab": {
          "base_uri": "https://localhost:8080/",
          "height": 153
        }
      },
      "source": [
        "#Converting Datatypes\n",
        "dfstocks.Date=pd.to_datetime(dfstocks.Date)\n",
        "dfstocks.Close=pd.to_numeric(dfstocks.Close)\n",
        "dfstocks.Volume=pd.to_numeric(dfstocks.Volume)\n",
        "dfstocks.Open=pd.to_numeric(dfstocks.Open)\n",
        "dfstocks.High=pd.to_numeric(dfstocks.High)\n",
        "dfstocks.Low=pd.to_numeric(dfstocks.Low)\n",
        "dfstocks.dtypes"
      ],
      "execution_count": 528,
      "outputs": [
        {
          "output_type": "execute_result",
          "data": {
            "text/plain": [
              "Date       datetime64[ns]\n",
              "Close             float64\n",
              "Volume              int64\n",
              "Open              float64\n",
              "High              float64\n",
              "Low               float64\n",
              "Company            object\n",
              "dtype: object"
            ]
          },
          "metadata": {
            "tags": []
          },
          "execution_count": 528
        }
      ]
    },
    {
      "cell_type": "code",
      "metadata": {
        "id": "rsD9-1pONB6V",
        "colab_type": "code",
        "outputId": "31443b9f-6351-4d7a-94be-51d274368697",
        "colab": {
          "base_uri": "https://localhost:8080/",
          "height": 34
        }
      },
      "source": [
        "#dfstocks[dfstocks['Company'].str.contains(\"AMZN\")]\n",
        "second_split=dfstocks[dfstocks['Company'].str.contains(\"AMZN\")]\n",
        "second_split.isnull().values.any()\n",
        "second_split.isna().values.any()\n",
        "second_split = second_split.sort_values(['Date'])\n",
        "second_split.reset_index(drop=True, inplace=True)\n",
        "second_split.shape[0]"
      ],
      "execution_count": 529,
      "outputs": [
        {
          "output_type": "execute_result",
          "data": {
            "text/plain": [
              "2487"
            ]
          },
          "metadata": {
            "tags": []
          },
          "execution_count": 529
        }
      ]
    },
    {
      "cell_type": "code",
      "metadata": {
        "id": "te-gSnYPU0wX",
        "colab_type": "code",
        "outputId": "768de945-87a2-490d-ac5c-14e906c5aee3",
        "colab": {
          "base_uri": "https://localhost:8080/",
          "height": 419
        }
      },
      "source": [
        "second_split"
      ],
      "execution_count": 530,
      "outputs": [
        {
          "output_type": "execute_result",
          "data": {
            "text/html": [
              "<div>\n",
              "<style scoped>\n",
              "    .dataframe tbody tr th:only-of-type {\n",
              "        vertical-align: middle;\n",
              "    }\n",
              "\n",
              "    .dataframe tbody tr th {\n",
              "        vertical-align: top;\n",
              "    }\n",
              "\n",
              "    .dataframe thead th {\n",
              "        text-align: right;\n",
              "    }\n",
              "</style>\n",
              "<table border=\"1\" class=\"dataframe\">\n",
              "  <thead>\n",
              "    <tr style=\"text-align: right;\">\n",
              "      <th></th>\n",
              "      <th>Date</th>\n",
              "      <th>Close</th>\n",
              "      <th>Volume</th>\n",
              "      <th>Open</th>\n",
              "      <th>High</th>\n",
              "      <th>Low</th>\n",
              "      <th>Company</th>\n",
              "    </tr>\n",
              "  </thead>\n",
              "  <tbody>\n",
              "    <tr>\n",
              "      <th>0</th>\n",
              "      <td>2010-02-16</td>\n",
              "      <td>117.53</td>\n",
              "      <td>8899183</td>\n",
              "      <td>120.060</td>\n",
              "      <td>120.50</td>\n",
              "      <td>117.180</td>\n",
              "      <td>AMZN</td>\n",
              "    </tr>\n",
              "    <tr>\n",
              "      <th>1</th>\n",
              "      <td>2010-02-17</td>\n",
              "      <td>116.31</td>\n",
              "      <td>8913604</td>\n",
              "      <td>117.075</td>\n",
              "      <td>117.13</td>\n",
              "      <td>115.550</td>\n",
              "      <td>AMZN</td>\n",
              "    </tr>\n",
              "    <tr>\n",
              "      <th>2</th>\n",
              "      <td>2010-02-18</td>\n",
              "      <td>118.08</td>\n",
              "      <td>9795116</td>\n",
              "      <td>115.839</td>\n",
              "      <td>118.51</td>\n",
              "      <td>114.820</td>\n",
              "      <td>AMZN</td>\n",
              "    </tr>\n",
              "    <tr>\n",
              "      <th>3</th>\n",
              "      <td>2010-02-19</td>\n",
              "      <td>117.52</td>\n",
              "      <td>7114712</td>\n",
              "      <td>117.910</td>\n",
              "      <td>119.09</td>\n",
              "      <td>117.000</td>\n",
              "      <td>AMZN</td>\n",
              "    </tr>\n",
              "    <tr>\n",
              "      <th>4</th>\n",
              "      <td>2010-02-22</td>\n",
              "      <td>118.01</td>\n",
              "      <td>6806986</td>\n",
              "      <td>117.370</td>\n",
              "      <td>118.97</td>\n",
              "      <td>116.180</td>\n",
              "      <td>AMZN</td>\n",
              "    </tr>\n",
              "    <tr>\n",
              "      <th>...</th>\n",
              "      <td>...</td>\n",
              "      <td>...</td>\n",
              "      <td>...</td>\n",
              "      <td>...</td>\n",
              "      <td>...</td>\n",
              "      <td>...</td>\n",
              "      <td>...</td>\n",
              "    </tr>\n",
              "    <tr>\n",
              "      <th>2482</th>\n",
              "      <td>2019-12-24</td>\n",
              "      <td>1789.21</td>\n",
              "      <td>881337</td>\n",
              "      <td>1793.810</td>\n",
              "      <td>1795.57</td>\n",
              "      <td>1787.575</td>\n",
              "      <td>AMZN</td>\n",
              "    </tr>\n",
              "    <tr>\n",
              "      <th>2483</th>\n",
              "      <td>2019-12-26</td>\n",
              "      <td>1868.77</td>\n",
              "      <td>6024608</td>\n",
              "      <td>1801.010</td>\n",
              "      <td>1870.46</td>\n",
              "      <td>1799.500</td>\n",
              "      <td>AMZN</td>\n",
              "    </tr>\n",
              "    <tr>\n",
              "      <th>2484</th>\n",
              "      <td>2019-12-27</td>\n",
              "      <td>1869.80</td>\n",
              "      <td>6188754</td>\n",
              "      <td>1882.920</td>\n",
              "      <td>1901.40</td>\n",
              "      <td>1866.010</td>\n",
              "      <td>AMZN</td>\n",
              "    </tr>\n",
              "    <tr>\n",
              "      <th>2485</th>\n",
              "      <td>2019-12-30</td>\n",
              "      <td>1846.89</td>\n",
              "      <td>3677306</td>\n",
              "      <td>1874.000</td>\n",
              "      <td>1884.00</td>\n",
              "      <td>1840.620</td>\n",
              "      <td>AMZN</td>\n",
              "    </tr>\n",
              "    <tr>\n",
              "      <th>2486</th>\n",
              "      <td>2019-12-31</td>\n",
              "      <td>1847.84</td>\n",
              "      <td>2510380</td>\n",
              "      <td>1842.000</td>\n",
              "      <td>1853.26</td>\n",
              "      <td>1832.230</td>\n",
              "      <td>AMZN</td>\n",
              "    </tr>\n",
              "  </tbody>\n",
              "</table>\n",
              "<p>2487 rows × 7 columns</p>\n",
              "</div>"
            ],
            "text/plain": [
              "           Date    Close   Volume      Open     High       Low Company\n",
              "0    2010-02-16   117.53  8899183   120.060   120.50   117.180    AMZN\n",
              "1    2010-02-17   116.31  8913604   117.075   117.13   115.550    AMZN\n",
              "2    2010-02-18   118.08  9795116   115.839   118.51   114.820    AMZN\n",
              "3    2010-02-19   117.52  7114712   117.910   119.09   117.000    AMZN\n",
              "4    2010-02-22   118.01  6806986   117.370   118.97   116.180    AMZN\n",
              "...         ...      ...      ...       ...      ...       ...     ...\n",
              "2482 2019-12-24  1789.21   881337  1793.810  1795.57  1787.575    AMZN\n",
              "2483 2019-12-26  1868.77  6024608  1801.010  1870.46  1799.500    AMZN\n",
              "2484 2019-12-27  1869.80  6188754  1882.920  1901.40  1866.010    AMZN\n",
              "2485 2019-12-30  1846.89  3677306  1874.000  1884.00  1840.620    AMZN\n",
              "2486 2019-12-31  1847.84  2510380  1842.000  1853.26  1832.230    AMZN\n",
              "\n",
              "[2487 rows x 7 columns]"
            ]
          },
          "metadata": {
            "tags": []
          },
          "execution_count": 530
        }
      ]
    },
    {
      "cell_type": "code",
      "metadata": {
        "id": "0behU6tsViUy",
        "colab_type": "code",
        "colab": {}
      },
      "source": [
        "TRAIN_PERCENT = 0.7\n",
        "#STOCK_INDEX = '^GSPC'\n",
        "VERBOSE=True"
      ],
      "execution_count": 0,
      "outputs": []
    },
    {
      "cell_type": "code",
      "metadata": {
        "id": "wjwirxd4VutM",
        "colab_type": "code",
        "colab": {}
      },
      "source": [
        "# prepare training and testing data sets for LSTM based sequence modeling\n",
        "#def get_seq_train_test(time_series, scaling=True,train_size=0.9):\n",
        "def get_seq_train_test(time_series,train_size=0.9):\n",
        "    # scaler = None\n",
        "    # if scaling:\n",
        "    #     scaler = MinMaxScaler(feature_range=(0, 1))\n",
        "    #time_series = np.array(time_series).reshape(-1,1)\n",
        "    time_series = np.array(time_series)\n",
        "    #     scaled_stock_series = scaler.fit_transform(time_series)\n",
        "    # else:\n",
        "    #     scaled_stock_series = time_series\n",
        "    scaled_stock_series = time_series\n",
        "        \n",
        "    #train_size = int(len(scaled_stock_series) * train_size)\n",
        "    train_size = int(len(time_series) * train_size)\n",
        "\n",
        "    #train = scaled_stock_series[0:train_size]\n",
        "    train = time_series[0:train_size]\n",
        "    #test = scaled_stock_series[train_size:len(scaled_stock_series)]\n",
        "    test = time_series[train_size:len(time_series)]\n",
        "    \n",
        "    return train,test \n"
      ],
      "execution_count": 0,
      "outputs": []
    },
    {
      "cell_type": "code",
      "metadata": {
        "id": "UN6DYJT7TXPb",
        "colab_type": "code",
        "colab": {}
      },
      "source": [
        "def get_seq_model(hidden_units=4,input_shape=(1,1),verbose=False):\n",
        "    # create and fit the LSTM network\n",
        "    model = Sequential()\n",
        "    # samples*timesteps*featuress\n",
        "    # https://keras.io/getting-started/sequential-model-guide/\n",
        "    #relu_advanced=keras.activations.relu(x,)\n",
        "\n",
        "    model.add(LSTM(input_shape=input_shape,\n",
        "                   units = hidden_units,  \n",
        "                   activation='relu',\n",
        "                   return_sequences=True\n",
        "    ))\n",
        "\n",
        "    # readout layer. TimeDistributedDense uses the same weights for all\n",
        "    # time steps.\n",
        "    # model.add(TimeDistributed(Dense(1)))\n",
        "    model.add(TimeDistributed(Dense(1)))\n",
        "   \n",
        "    start = time.time()\n",
        "    #softsign\n",
        "    #model.add(activation='softsign')\n",
        "\n",
        "\n",
        "    model.compile(loss=\"mse\", optimizer=\"rmsprop\")\n",
        "\n",
        "    if verbose:\n",
        "        print(\"> Compilation Time : \", time.time() - start)\n",
        "        print(model.summary())\n",
        "\n",
        "    return model"
      ],
      "execution_count": 0,
      "outputs": []
    },
    {
      "cell_type": "code",
      "metadata": {
        "id": "zeAENS4LVpDG",
        "colab_type": "code",
        "outputId": "7c93002a-372b-4cd4-e6f8-57bf5a18c3b8",
        "colab": {
          "base_uri": "https://localhost:8080/",
          "height": 85
        }
      },
      "source": [
        "# split train and test datasets\n",
        "train,test = get_seq_train_test(second_split.Close,\n",
        "#                                  scaling=True,\n",
        "                                   train_size=TRAIN_PERCENT)\n",
        "\n",
        "#train\n",
        "print(len(train))\n",
        "print(train.shape[0])\n",
        "print(train.shape)\n",
        "print(test.shape)"
      ],
      "execution_count": 534,
      "outputs": [
        {
          "output_type": "stream",
          "text": [
            "1740\n",
            "1740\n",
            "(1740,)\n",
            "(747,)\n"
          ],
          "name": "stdout"
        }
      ]
    },
    {
      "cell_type": "code",
      "metadata": {
        "id": "uZG7396CWoy9",
        "colab_type": "code",
        "outputId": "9174a80b-3f3d-411e-d5a4-b83841d1ca41",
        "colab": {
          "base_uri": "https://localhost:8080/",
          "height": 102
        }
      },
      "source": [
        "#We use numpy to reshape our time series into 3D tensors.\n",
        "train = np.reshape(train,(1,train.shape[0],1))\n",
        "test = np.reshape(test,(1,test.shape[0],1))\n",
        "\n",
        "train_x = train[:,:-1,:]\n",
        "train_y = train[:,1:,:]\n",
        "\n",
        "test_x = test[:,:-1,:]\n",
        "test_y = test[:,1:,:]\n",
        "\n",
        "print(\"Data Split Complete\")\n",
        "\n",
        "print(\"train_x shape={}\".format(train_x.shape))\n",
        "print(\"train_y shape={}\".format(train_y.shape))\n",
        "print(\"test_x shape={}\".format(test_x.shape))\n",
        "print(\"test_y shape={}\".format(test_y.shape))"
      ],
      "execution_count": 535,
      "outputs": [
        {
          "output_type": "stream",
          "text": [
            "Data Split Complete\n",
            "train_x shape=(1, 1739, 1)\n",
            "train_y shape=(1, 1739, 1)\n",
            "test_x shape=(1, 746, 1)\n",
            "test_y shape=(1, 746, 1)\n"
          ],
          "name": "stdout"
        }
      ]
    },
    {
      "cell_type": "code",
      "metadata": {
        "id": "DqTCq2NDTQFL",
        "colab_type": "code",
        "outputId": "1981fe62-f948-45ff-d336-f029a3119438",
        "colab": {
          "base_uri": "https://localhost:8080/",
          "height": 255
        }
      },
      "source": [
        "# build RNN model\n",
        "seq_lstm_model=None\n",
        "try:\n",
        "    seq_lstm_model = get_seq_model(input_shape=(train_x.shape[1],1),\n",
        "                                                verbose=VERBOSE)\n",
        "except:\n",
        "    print(\"Model Build Failed. Trying Again\")\n",
        "    seq_lstm_model = get_seq_model(input_shape=(train_x.shape[1],1),\n",
        "                                                verbose=VERBOSE)"
      ],
      "execution_count": 567,
      "outputs": [
        {
          "output_type": "stream",
          "text": [
            "> Compilation Time :  0.02547144889831543\n",
            "Model: \"sequential_41\"\n",
            "_________________________________________________________________\n",
            "Layer (type)                 Output Shape              Param #   \n",
            "=================================================================\n",
            "lstm_33 (LSTM)               (None, 1739, 4)           96        \n",
            "_________________________________________________________________\n",
            "time_distributed_17 (TimeDis (None, 1739, 1)           5         \n",
            "=================================================================\n",
            "Total params: 101\n",
            "Trainable params: 101\n",
            "Non-trainable params: 0\n",
            "_________________________________________________________________\n",
            "None\n"
          ],
          "name": "stdout"
        }
      ]
    },
    {
      "cell_type": "code",
      "metadata": {
        "id": "FnQs_OC6XsTz",
        "colab_type": "code",
        "outputId": "0205c074-24de-462a-d7a6-c095d5535c4b",
        "colab": {
          "base_uri": "https://localhost:8080/",
          "height": 1000
        }
      },
      "source": [
        "# train the model\n",
        "seq_lstm_model.fit(train_x, train_y,\n",
        "                #epochs=250, batch_size=1,\n",
        "                epochs=300, batch_size=1,\n",
        "                verbose=2)\n",
        "print(\"Model Fit Complete\")"
      ],
      "execution_count": 568,
      "outputs": [
        {
          "output_type": "stream",
          "text": [
            "Epoch 1/300\n",
            " - 4s - loss: 131152.5781\n",
            "Epoch 2/300\n",
            " - 1s - loss: 130361.2578\n",
            "Epoch 3/300\n",
            " - 1s - loss: 129781.0547\n",
            "Epoch 4/300\n",
            " - 1s - loss: 129291.4766\n",
            "Epoch 5/300\n",
            " - 1s - loss: 128854.0625\n",
            "Epoch 6/300\n",
            " - 1s - loss: 128450.9609\n",
            "Epoch 7/300\n",
            " - 1s - loss: 128072.1484\n",
            "Epoch 8/300\n",
            " - 1s - loss: 127711.4688\n",
            "Epoch 9/300\n",
            " - 1s - loss: 127364.7266\n",
            "Epoch 10/300\n",
            " - 1s - loss: 127028.9844\n",
            "Epoch 11/300\n",
            " - 1s - loss: 126702.0703\n",
            "Epoch 12/300\n",
            " - 1s - loss: 126382.3750\n",
            "Epoch 13/300\n",
            " - 1s - loss: 126068.5938\n",
            "Epoch 14/300\n",
            " - 1s - loss: 125759.7031\n",
            "Epoch 15/300\n",
            " - 1s - loss: 125454.9141\n",
            "Epoch 16/300\n",
            " - 1s - loss: 125153.5469\n",
            "Epoch 17/300\n",
            " - 1s - loss: 124855.0391\n",
            "Epoch 18/300\n",
            " - 1s - loss: 124558.9141\n",
            "Epoch 19/300\n",
            " - 1s - loss: 124264.8203\n",
            "Epoch 20/300\n",
            " - 1s - loss: 123972.4141\n",
            "Epoch 21/300\n",
            " - 1s - loss: 123681.3906\n",
            "Epoch 22/300\n",
            " - 1s - loss: 123391.5234\n",
            "Epoch 23/300\n",
            " - 1s - loss: 123102.5938\n",
            "Epoch 24/300\n",
            " - 1s - loss: 122814.4062\n",
            "Epoch 25/300\n",
            " - 1s - loss: 122526.8438\n",
            "Epoch 26/300\n",
            " - 1s - loss: 122239.6953\n",
            "Epoch 27/300\n",
            " - 1s - loss: 121952.9219\n",
            "Epoch 28/300\n",
            " - 1s - loss: 121666.3672\n",
            "Epoch 29/300\n",
            " - 1s - loss: 121379.9219\n",
            "Epoch 30/300\n",
            " - 1s - loss: 121093.5391\n",
            "Epoch 31/300\n",
            " - 1s - loss: 120807.1250\n",
            "Epoch 32/300\n",
            " - 1s - loss: 120520.6094\n",
            "Epoch 33/300\n",
            " - 1s - loss: 120233.9609\n",
            "Epoch 34/300\n",
            " - 1s - loss: 119947.1016\n",
            "Epoch 35/300\n",
            " - 1s - loss: 119660.0000\n",
            "Epoch 36/300\n",
            " - 1s - loss: 119372.5938\n",
            "Epoch 37/300\n",
            " - 1s - loss: 119084.8906\n",
            "Epoch 38/300\n",
            " - 1s - loss: 118796.8047\n",
            "Epoch 39/300\n",
            " - 1s - loss: 118508.3359\n",
            "Epoch 40/300\n",
            " - 1s - loss: 118219.4453\n",
            "Epoch 41/300\n",
            " - 1s - loss: 117930.1484\n",
            "Epoch 42/300\n",
            " - 1s - loss: 117640.3828\n",
            "Epoch 43/300\n",
            " - 1s - loss: 117350.1562\n",
            "Epoch 44/300\n",
            " - 1s - loss: 117059.4219\n",
            "Epoch 45/300\n",
            " - 1s - loss: 116768.1719\n",
            "Epoch 46/300\n",
            " - 1s - loss: 116476.4375\n",
            "Epoch 47/300\n",
            " - 1s - loss: 116184.1641\n",
            "Epoch 48/300\n",
            " - 1s - loss: 115891.3672\n",
            "Epoch 49/300\n",
            " - 1s - loss: 115598.0156\n",
            "Epoch 50/300\n",
            " - 1s - loss: 115304.0938\n",
            "Epoch 51/300\n",
            " - 1s - loss: 115009.6484\n",
            "Epoch 52/300\n",
            " - 1s - loss: 114714.6172\n",
            "Epoch 53/300\n",
            " - 1s - loss: 114419.0391\n",
            "Epoch 54/300\n",
            " - 1s - loss: 114122.8672\n",
            "Epoch 55/300\n",
            " - 1s - loss: 113826.1094\n",
            "Epoch 56/300\n",
            " - 1s - loss: 113528.7578\n",
            "Epoch 57/300\n",
            " - 1s - loss: 113230.8594\n",
            "Epoch 58/300\n",
            " - 1s - loss: 112932.3516\n",
            "Epoch 59/300\n",
            " - 1s - loss: 112633.2578\n",
            "Epoch 60/300\n",
            " - 1s - loss: 112333.5703\n",
            "Epoch 61/300\n",
            " - 1s - loss: 112033.3125\n",
            "Epoch 62/300\n",
            " - 1s - loss: 111732.4531\n",
            "Epoch 63/300\n",
            " - 1s - loss: 111431.0000\n",
            "Epoch 64/300\n",
            " - 1s - loss: 111128.9609\n",
            "Epoch 65/300\n",
            " - 1s - loss: 110826.3125\n",
            "Epoch 66/300\n",
            " - 1s - loss: 110523.0703\n",
            "Epoch 67/300\n",
            " - 1s - loss: 110219.2500\n",
            "Epoch 68/300\n",
            " - 1s - loss: 109914.8203\n",
            "Epoch 69/300\n",
            " - 1s - loss: 109609.8047\n",
            "Epoch 70/300\n",
            " - 1s - loss: 109304.1953\n",
            "Epoch 71/300\n",
            " - 1s - loss: 108998.0078\n",
            "Epoch 72/300\n",
            " - 1s - loss: 108691.2266\n",
            "Epoch 73/300\n",
            " - 1s - loss: 108383.8438\n",
            "Epoch 74/300\n",
            " - 1s - loss: 108075.8984\n",
            "Epoch 75/300\n",
            " - 1s - loss: 107767.3438\n",
            "Epoch 76/300\n",
            " - 1s - loss: 107458.2266\n",
            "Epoch 77/300\n",
            " - 1s - loss: 107148.5000\n",
            "Epoch 78/300\n",
            " - 1s - loss: 106838.1953\n",
            "Epoch 79/300\n",
            " - 1s - loss: 106527.3203\n",
            "Epoch 80/300\n",
            " - 1s - loss: 106215.8594\n",
            "Epoch 81/300\n",
            " - 1s - loss: 105903.8125\n",
            "Epoch 82/300\n",
            " - 1s - loss: 105591.2344\n",
            "Epoch 83/300\n",
            " - 1s - loss: 105278.0312\n",
            "Epoch 84/300\n",
            " - 1s - loss: 104964.2656\n",
            "Epoch 85/300\n",
            " - 1s - loss: 104649.9297\n",
            "Epoch 86/300\n",
            " - 1s - loss: 104335.0312\n",
            "Epoch 87/300\n",
            " - 1s - loss: 104019.5625\n",
            "Epoch 88/300\n",
            " - 1s - loss: 103703.5234\n",
            "Epoch 89/300\n",
            " - 1s - loss: 103386.9297\n",
            "Epoch 90/300\n",
            " - 1s - loss: 103069.7812\n",
            "Epoch 91/300\n",
            " - 1s - loss: 102752.0625\n",
            "Epoch 92/300\n",
            " - 1s - loss: 102433.7969\n",
            "Epoch 93/300\n",
            " - 1s - loss: 102114.9688\n",
            "Epoch 94/300\n",
            " - 1s - loss: 101795.5859\n",
            "Epoch 95/300\n",
            " - 1s - loss: 101475.6719\n",
            "Epoch 96/300\n",
            " - 1s - loss: 101155.2031\n",
            "Epoch 97/300\n",
            " - 1s - loss: 100834.1719\n",
            "Epoch 98/300\n",
            " - 1s - loss: 100512.5859\n",
            "Epoch 99/300\n",
            " - 1s - loss: 100190.4844\n",
            "Epoch 100/300\n",
            " - 1s - loss: 99867.8438\n",
            "Epoch 101/300\n",
            " - 1s - loss: 99544.6562\n",
            "Epoch 102/300\n",
            " - 1s - loss: 99220.9609\n",
            "Epoch 103/300\n",
            " - 1s - loss: 98896.7031\n",
            "Epoch 104/300\n",
            " - 1s - loss: 98571.9219\n",
            "Epoch 105/300\n",
            " - 1s - loss: 98246.6328\n",
            "Epoch 106/300\n",
            " - 1s - loss: 97920.8125\n",
            "Epoch 107/300\n",
            " - 1s - loss: 97594.4531\n",
            "Epoch 108/300\n",
            " - 1s - loss: 97267.5938\n",
            "Epoch 109/300\n",
            " - 1s - loss: 96940.2188\n",
            "Epoch 110/300\n",
            " - 1s - loss: 96612.3359\n",
            "Epoch 111/300\n",
            " - 1s - loss: 96283.9219\n",
            "Epoch 112/300\n",
            " - 1s - loss: 95955.0078\n",
            "Epoch 113/300\n",
            " - 1s - loss: 95625.6094\n",
            "Epoch 114/300\n",
            " - 1s - loss: 95295.6875\n",
            "Epoch 115/300\n",
            " - 1s - loss: 94965.2656\n",
            "Epoch 116/300\n",
            " - 1s - loss: 94634.3516\n",
            "Epoch 117/300\n",
            " - 1s - loss: 94302.9297\n",
            "Epoch 118/300\n",
            " - 1s - loss: 93971.0391\n",
            "Epoch 119/300\n",
            " - 1s - loss: 93638.6406\n",
            "Epoch 120/300\n",
            " - 1s - loss: 93305.7734\n",
            "Epoch 121/300\n",
            " - 1s - loss: 92972.4141\n",
            "Epoch 122/300\n",
            " - 1s - loss: 92638.5938\n",
            "Epoch 123/300\n",
            " - 1s - loss: 92304.2891\n",
            "Epoch 124/300\n",
            " - 1s - loss: 91969.5078\n",
            "Epoch 125/300\n",
            " - 1s - loss: 91634.2578\n",
            "Epoch 126/300\n",
            " - 1s - loss: 91298.5469\n",
            "Epoch 127/300\n",
            " - 1s - loss: 90962.3750\n",
            "Epoch 128/300\n",
            " - 1s - loss: 90625.7266\n",
            "Epoch 129/300\n",
            " - 1s - loss: 90288.6328\n",
            "Epoch 130/300\n",
            " - 1s - loss: 89951.0859\n",
            "Epoch 131/300\n",
            " - 1s - loss: 89613.0859\n",
            "Epoch 132/300\n",
            " - 1s - loss: 89274.6250\n",
            "Epoch 133/300\n",
            " - 1s - loss: 88935.7344\n",
            "Epoch 134/300\n",
            " - 1s - loss: 88596.4062\n",
            "Epoch 135/300\n",
            " - 1s - loss: 88256.6406\n",
            "Epoch 136/300\n",
            " - 1s - loss: 87916.4453\n",
            "Epoch 137/300\n",
            " - 1s - loss: 87575.8125\n",
            "Epoch 138/300\n",
            " - 1s - loss: 87234.7500\n",
            "Epoch 139/300\n",
            " - 1s - loss: 86893.2969\n",
            "Epoch 140/300\n",
            " - 1s - loss: 86551.3906\n",
            "Epoch 141/300\n",
            " - 1s - loss: 86209.0547\n",
            "Epoch 142/300\n",
            " - 1s - loss: 85866.3438\n",
            "Epoch 143/300\n",
            " - 1s - loss: 85523.2188\n",
            "Epoch 144/300\n",
            " - 1s - loss: 85179.6875\n",
            "Epoch 145/300\n",
            " - 1s - loss: 84835.7734\n",
            "Epoch 146/300\n",
            " - 1s - loss: 84491.4453\n",
            "Epoch 147/300\n",
            " - 1s - loss: 84146.7109\n",
            "Epoch 148/300\n",
            " - 1s - loss: 83801.5938\n",
            "Epoch 149/300\n",
            " - 1s - loss: 83456.1094\n",
            "Epoch 150/300\n",
            " - 1s - loss: 83110.2266\n",
            "Epoch 151/300\n",
            " - 1s - loss: 82763.9922\n",
            "Epoch 152/300\n",
            " - 1s - loss: 82417.3672\n",
            "Epoch 153/300\n",
            " - 1s - loss: 82070.3750\n",
            "Epoch 154/300\n",
            " - 1s - loss: 81723.0156\n",
            "Epoch 155/300\n",
            " - 1s - loss: 81375.3125\n",
            "Epoch 156/300\n",
            " - 1s - loss: 81027.2500\n",
            "Epoch 157/300\n",
            " - 1s - loss: 80678.8281\n",
            "Epoch 158/300\n",
            " - 1s - loss: 80330.0547\n",
            "Epoch 159/300\n",
            " - 1s - loss: 79980.9453\n",
            "Epoch 160/300\n",
            " - 1s - loss: 79631.5000\n",
            "Epoch 161/300\n",
            " - 1s - loss: 79281.7188\n",
            "Epoch 162/300\n",
            " - 1s - loss: 78931.5938\n",
            "Epoch 163/300\n",
            " - 1s - loss: 78581.1641\n",
            "Epoch 164/300\n",
            " - 1s - loss: 78230.4062\n",
            "Epoch 165/300\n",
            " - 1s - loss: 77879.3359\n",
            "Epoch 166/300\n",
            " - 1s - loss: 77527.9531\n",
            "Epoch 167/300\n",
            " - 1s - loss: 77176.2734\n",
            "Epoch 168/300\n",
            " - 1s - loss: 76824.2656\n",
            "Epoch 169/300\n",
            " - 1s - loss: 76471.9844\n",
            "Epoch 170/300\n",
            " - 1s - loss: 76119.3984\n",
            "Epoch 171/300\n",
            " - 1s - loss: 75766.5312\n",
            "Epoch 172/300\n",
            " - 1s - loss: 75413.3906\n",
            "Epoch 173/300\n",
            " - 1s - loss: 75059.9531\n",
            "Epoch 174/300\n",
            " - 1s - loss: 74706.2578\n",
            "Epoch 175/300\n",
            " - 1s - loss: 74352.2969\n",
            "Epoch 176/300\n",
            " - 1s - loss: 73998.0625\n",
            "Epoch 177/300\n",
            " - 1s - loss: 73643.5859\n",
            "Epoch 178/300\n",
            " - 1s - loss: 73288.8438\n",
            "Epoch 179/300\n",
            " - 1s - loss: 72933.8516\n",
            "Epoch 180/300\n",
            " - 1s - loss: 72578.6250\n",
            "Epoch 181/300\n",
            " - 1s - loss: 72223.1797\n",
            "Epoch 182/300\n",
            " - 1s - loss: 71867.5000\n",
            "Epoch 183/300\n",
            " - 1s - loss: 71511.5781\n",
            "Epoch 184/300\n",
            " - 1s - loss: 71155.4375\n",
            "Epoch 185/300\n",
            " - 1s - loss: 70799.0859\n",
            "Epoch 186/300\n",
            " - 1s - loss: 70442.5312\n",
            "Epoch 187/300\n",
            " - 1s - loss: 70085.7656\n",
            "Epoch 188/300\n",
            " - 1s - loss: 69728.7969\n",
            "Epoch 189/300\n",
            " - 1s - loss: 69371.6406\n",
            "Epoch 190/300\n",
            " - 1s - loss: 69014.3125\n",
            "Epoch 191/300\n",
            " - 1s - loss: 68656.7891\n",
            "Epoch 192/300\n",
            " - 1s - loss: 68299.1016\n",
            "Epoch 193/300\n",
            " - 1s - loss: 67941.2344\n",
            "Epoch 194/300\n",
            " - 1s - loss: 67583.2188\n",
            "Epoch 195/300\n",
            " - 1s - loss: 67225.0391\n",
            "Epoch 196/300\n",
            " - 1s - loss: 66866.7109\n",
            "Epoch 197/300\n",
            " - 1s - loss: 66508.2344\n",
            "Epoch 198/300\n",
            " - 1s - loss: 66149.6250\n",
            "Epoch 199/300\n",
            " - 1s - loss: 65790.8828\n",
            "Epoch 200/300\n",
            " - 1s - loss: 65432.0078\n",
            "Epoch 201/300\n",
            " - 1s - loss: 65073.0195\n",
            "Epoch 202/300\n",
            " - 1s - loss: 64713.9258\n",
            "Epoch 203/300\n",
            " - 1s - loss: 64354.7188\n",
            "Epoch 204/300\n",
            " - 1s - loss: 63995.4180\n",
            "Epoch 205/300\n",
            " - 1s - loss: 63636.0156\n",
            "Epoch 206/300\n",
            " - 1s - loss: 63276.5234\n",
            "Epoch 207/300\n",
            " - 1s - loss: 62916.9531\n",
            "Epoch 208/300\n",
            " - 1s - loss: 62557.3242\n",
            "Epoch 209/300\n",
            " - 1s - loss: 62197.6133\n",
            "Epoch 210/300\n",
            " - 1s - loss: 61837.8359\n",
            "Epoch 211/300\n",
            " - 1s - loss: 61478.0234\n",
            "Epoch 212/300\n",
            " - 1s - loss: 61118.1641\n",
            "Epoch 213/300\n",
            " - 1s - loss: 60758.2578\n",
            "Epoch 214/300\n",
            " - 1s - loss: 60398.3203\n",
            "Epoch 215/300\n",
            " - 1s - loss: 60038.3633\n",
            "Epoch 216/300\n",
            " - 1s - loss: 59678.3789\n",
            "Epoch 217/300\n",
            " - 1s - loss: 59318.4102\n",
            "Epoch 218/300\n",
            " - 1s - loss: 58958.4141\n",
            "Epoch 219/300\n",
            " - 1s - loss: 58598.4297\n",
            "Epoch 220/300\n",
            " - 1s - loss: 58238.4648\n",
            "Epoch 221/300\n",
            " - 1s - loss: 57878.5195\n",
            "Epoch 222/300\n",
            " - 1s - loss: 57518.5938\n",
            "Epoch 223/300\n",
            " - 1s - loss: 57158.7070\n",
            "Epoch 224/300\n",
            " - 1s - loss: 56798.8633\n",
            "Epoch 225/300\n",
            " - 1s - loss: 56439.0742\n",
            "Epoch 226/300\n",
            " - 1s - loss: 56079.3359\n",
            "Epoch 227/300\n",
            " - 1s - loss: 55719.6680\n",
            "Epoch 228/300\n",
            " - 1s - loss: 55360.0742\n",
            "Epoch 229/300\n",
            " - 1s - loss: 55000.5703\n",
            "Epoch 230/300\n",
            " - 1s - loss: 54641.1562\n",
            "Epoch 231/300\n",
            " - 1s - loss: 54281.8281\n",
            "Epoch 232/300\n",
            " - 1s - loss: 53922.6133\n",
            "Epoch 233/300\n",
            " - 1s - loss: 53563.5156\n",
            "Epoch 234/300\n",
            " - 1s - loss: 53204.5352\n",
            "Epoch 235/300\n",
            " - 1s - loss: 52845.6953\n",
            "Epoch 236/300\n",
            " - 1s - loss: 52486.9844\n",
            "Epoch 237/300\n",
            " - 1s - loss: 52128.4219\n",
            "Epoch 238/300\n",
            " - 1s - loss: 51770.0234\n",
            "Epoch 239/300\n",
            " - 1s - loss: 51411.8008\n",
            "Epoch 240/300\n",
            " - 1s - loss: 51053.7500\n",
            "Epoch 241/300\n",
            " - 1s - loss: 50695.8867\n",
            "Epoch 242/300\n",
            " - 1s - loss: 50338.2031\n",
            "Epoch 243/300\n",
            " - 1s - loss: 49980.7344\n",
            "Epoch 244/300\n",
            " - 1s - loss: 49623.4648\n",
            "Epoch 245/300\n",
            " - 1s - loss: 49266.4141\n",
            "Epoch 246/300\n",
            " - 1s - loss: 48909.6133\n",
            "Epoch 247/300\n",
            " - 1s - loss: 48553.0352\n",
            "Epoch 248/300\n",
            " - 1s - loss: 48196.7109\n",
            "Epoch 249/300\n",
            " - 1s - loss: 47840.6367\n",
            "Epoch 250/300\n",
            " - 1s - loss: 47484.8398\n",
            "Epoch 251/300\n",
            " - 1s - loss: 47129.3164\n",
            "Epoch 252/300\n",
            " - 1s - loss: 46774.0820\n",
            "Epoch 253/300\n",
            " - 1s - loss: 46419.1328\n",
            "Epoch 254/300\n",
            " - 1s - loss: 46064.5078\n",
            "Epoch 255/300\n",
            " - 1s - loss: 45710.1914\n",
            "Epoch 256/300\n",
            " - 1s - loss: 45356.1914\n",
            "Epoch 257/300\n",
            " - 1s - loss: 45002.5430\n",
            "Epoch 258/300\n",
            " - 1s - loss: 44649.2383\n",
            "Epoch 259/300\n",
            " - 1s - loss: 44296.2930\n",
            "Epoch 260/300\n",
            " - 1s - loss: 43943.7148\n",
            "Epoch 261/300\n",
            " - 1s - loss: 43591.5117\n",
            "Epoch 262/300\n",
            " - 1s - loss: 43239.6914\n",
            "Epoch 263/300\n",
            " - 1s - loss: 42888.2773\n",
            "Epoch 264/300\n",
            " - 1s - loss: 42537.2695\n",
            "Epoch 265/300\n",
            " - 1s - loss: 42186.6758\n",
            "Epoch 266/300\n",
            " - 1s - loss: 41836.5234\n",
            "Epoch 267/300\n",
            " - 1s - loss: 41486.8008\n",
            "Epoch 268/300\n",
            " - 1s - loss: 41137.5547\n",
            "Epoch 269/300\n",
            " - 1s - loss: 40788.7461\n",
            "Epoch 270/300\n",
            " - 1s - loss: 40440.4297\n",
            "Epoch 271/300\n",
            " - 1s - loss: 40092.5977\n",
            "Epoch 272/300\n",
            " - 1s - loss: 39745.2578\n",
            "Epoch 273/300\n",
            " - 1s - loss: 39398.4258\n",
            "Epoch 274/300\n",
            " - 1s - loss: 39052.1211\n",
            "Epoch 275/300\n",
            " - 1s - loss: 38706.3516\n",
            "Epoch 276/300\n",
            " - 1s - loss: 38361.1133\n",
            "Epoch 277/300\n",
            " - 1s - loss: 38016.4414\n",
            "Epoch 278/300\n",
            " - 1s - loss: 37672.3398\n",
            "Epoch 279/300\n",
            " - 1s - loss: 37328.8086\n",
            "Epoch 280/300\n",
            " - 1s - loss: 36985.8672\n",
            "Epoch 281/300\n",
            " - 1s - loss: 36643.5312\n",
            "Epoch 282/300\n",
            " - 1s - loss: 36301.8125\n",
            "Epoch 283/300\n",
            " - 1s - loss: 35960.7305\n",
            "Epoch 284/300\n",
            " - 1s - loss: 35620.2891\n",
            "Epoch 285/300\n",
            " - 1s - loss: 35280.4922\n",
            "Epoch 286/300\n",
            " - 1s - loss: 34941.3672\n",
            "Epoch 287/300\n",
            " - 1s - loss: 34602.9219\n",
            "Epoch 288/300\n",
            " - 1s - loss: 34265.1602\n",
            "Epoch 289/300\n",
            " - 1s - loss: 33928.1133\n",
            "Epoch 290/300\n",
            " - 1s - loss: 33591.7734\n",
            "Epoch 291/300\n",
            " - 1s - loss: 33256.1641\n",
            "Epoch 292/300\n",
            " - 1s - loss: 32921.2930\n",
            "Epoch 293/300\n",
            " - 1s - loss: 32587.1875\n",
            "Epoch 294/300\n",
            " - 1s - loss: 32253.8555\n",
            "Epoch 295/300\n",
            " - 1s - loss: 31921.3047\n",
            "Epoch 296/300\n",
            " - 1s - loss: 31589.5508\n",
            "Epoch 297/300\n",
            " - 1s - loss: 31258.6016\n",
            "Epoch 298/300\n",
            " - 1s - loss: 30928.4805\n",
            "Epoch 299/300\n",
            " - 1s - loss: 30599.1895\n",
            "Epoch 300/300\n",
            " - 1s - loss: 30270.7578\n",
            "Model Fit Complete\n"
          ],
          "name": "stdout"
        }
      ]
    },
    {
      "cell_type": "code",
      "metadata": {
        "id": "g07f1lEGXu_T",
        "colab_type": "code",
        "outputId": "08cab3e1-62e4-4b50-f883-6e6464d3a217",
        "colab": {
          "base_uri": "https://localhost:8080/",
          "height": 34
        }
      },
      "source": [
        "# train fit performance\n",
        "trainPredict = seq_lstm_model.predict(train_x)\n",
        "trainScore = math.sqrt(mean_squared_error(train_y[0], trainPredict[0]))\n",
        "print('Train Score: %.2f RMSE' % (trainScore))"
      ],
      "execution_count": 569,
      "outputs": [
        {
          "output_type": "stream",
          "text": [
            "Train Score: 173.04 RMSE\n"
          ],
          "name": "stdout"
        }
      ]
    },
    {
      "cell_type": "code",
      "metadata": {
        "id": "URNrqwpl1SbQ",
        "colab_type": "code",
        "outputId": "84b8dbc0-2469-4361-c0da-5b52d280e106",
        "colab": {
          "base_uri": "https://localhost:8080/",
          "height": 136
        }
      },
      "source": [
        "trainPredict"
      ],
      "execution_count": 570,
      "outputs": [
        {
          "output_type": "execute_result",
          "data": {
            "text/plain": [
              "array([[[ 58.47551],\n",
              "        [ 64.82381],\n",
              "        [ 66.45267],\n",
              "        ...,\n",
              "        [444.11288],\n",
              "        [445.6497 ],\n",
              "        [445.33157]]], dtype=float32)"
            ]
          },
          "metadata": {
            "tags": []
          },
          "execution_count": 570
        }
      ]
    },
    {
      "cell_type": "code",
      "metadata": {
        "id": "YQTJWLuB2COL",
        "colab_type": "code",
        "colab": {}
      },
      "source": [
        ""
      ],
      "execution_count": 0,
      "outputs": []
    },
    {
      "cell_type": "code",
      "metadata": {
        "id": "fnVSeJStw2Hn",
        "colab_type": "code",
        "colab": {
          "base_uri": "https://localhost:8080/",
          "height": 51
        },
        "outputId": "cffe936e-2567-49c1-829d-dd3925273370"
      },
      "source": [
        "testPredict"
      ],
      "execution_count": 571,
      "outputs": [
        {
          "output_type": "execute_result",
          "data": {
            "text/plain": [
              "array([0.29066002, 0.2813215 , 0.27704734, ..., 0.27868557, 0.27868557,\n",
              "       0.27868557], dtype=float32)"
            ]
          },
          "metadata": {
            "tags": []
          },
          "execution_count": 571
        }
      ]
    },
    {
      "cell_type": "code",
      "metadata": {
        "id": "ZW0LgTTSXyKR",
        "colab_type": "code",
        "colab": {}
      },
      "source": [
        "# Pad input sequence\n",
        "testPredict = pad_sequences(test_x,maxlen=train_x.shape[1],padding='post',dtype='float64')"
      ],
      "execution_count": 0,
      "outputs": []
    },
    {
      "cell_type": "code",
      "metadata": {
        "id": "XsR5ytjpX2yj",
        "colab_type": "code",
        "colab": {
          "base_uri": "https://localhost:8080/",
          "height": 136
        },
        "outputId": "de0f0508-5320-45ad-c00c-185de1828d78"
      },
      "source": [
        "# forecast values\n",
        "testPredict = seq_lstm_model.predict(testPredict)\n",
        "testPredict"
      ],
      "execution_count": 573,
      "outputs": [
        {
          "output_type": "execute_result",
          "data": {
            "text/plain": [
              "array([[[400.86316   ],\n",
              "        [450.4292    ],\n",
              "        [452.69995   ],\n",
              "        ...,\n",
              "        [  0.61335593],\n",
              "        [  0.61335593],\n",
              "        [  0.61335593]]], dtype=float32)"
            ]
          },
          "metadata": {
            "tags": []
          },
          "execution_count": 573
        }
      ]
    },
    {
      "cell_type": "code",
      "metadata": {
        "id": "z_XhF1MjX4gh",
        "colab_type": "code",
        "colab": {
          "base_uri": "https://localhost:8080/",
          "height": 136
        },
        "outputId": "a419abe8-ad3a-4a55-dac3-76f9c04d7050"
      },
      "source": [
        "# forecast values\n",
        "testPredict = seq_lstm_model.predict(testPredict)\n",
        "testPredict"
      ],
      "execution_count": 574,
      "outputs": [
        {
          "output_type": "execute_result",
          "data": {
            "text/plain": [
              "array([[[197.83533  ],\n",
              "        [245.80885  ],\n",
              "        [252.6559   ],\n",
              "        ...,\n",
              "        [  0.8307086],\n",
              "        [  0.8307086],\n",
              "        [  0.8307086]]], dtype=float32)"
            ]
          },
          "metadata": {
            "tags": []
          },
          "execution_count": 574
        }
      ]
    },
    {
      "cell_type": "code",
      "metadata": {
        "id": "KvjYccaoN8hP",
        "colab_type": "code",
        "colab": {
          "base_uri": "https://localhost:8080/",
          "height": 136
        },
        "outputId": "eba21940-ec11-4d6a-c40c-9f6d3ac2945c"
      },
      "source": [
        "testPredict"
      ],
      "execution_count": 575,
      "outputs": [
        {
          "output_type": "execute_result",
          "data": {
            "text/plain": [
              "array([[[197.83533  ],\n",
              "        [245.80885  ],\n",
              "        [252.6559   ],\n",
              "        ...,\n",
              "        [  0.8307086],\n",
              "        [  0.8307086],\n",
              "        [  0.8307086]]], dtype=float32)"
            ]
          },
          "metadata": {
            "tags": []
          },
          "execution_count": 575
        }
      ]
    },
    {
      "cell_type": "code",
      "metadata": {
        "id": "zA7Aehl4X5ck",
        "colab_type": "code",
        "colab": {}
      },
      "source": [
        "# # inverse transformation\n",
        "# scaler = MinMaxScaler(feature_range=(0, 1))\n",
        "\n",
        "\n",
        "trainPredict=trainPredict.reshape(trainPredict.shape[1])\n",
        "testPredict=testPredict.reshape(testPredict.shape[1])\n",
        " #scaler = MinMaxScaler(feature_range=(0, 1))\n",
        "\n",
        "#trainPredict = scaler.inverse_transform(trainPredict.reshape(trainPredict.shape[1]))\n",
        "#testPredict = scaler.inverse_transform(testPredict.reshape(testPredict.shape[1]))"
      ],
      "execution_count": 0,
      "outputs": []
    },
    {
      "cell_type": "code",
      "metadata": {
        "id": "x_nZ9samd1Rs",
        "colab_type": "code",
        "outputId": "2892cf1e-b67e-4966-f71f-4c53ad280adc",
        "colab": {
          "base_uri": "https://localhost:8080/",
          "height": 51
        }
      },
      "source": [
        "trainPredict"
      ],
      "execution_count": 577,
      "outputs": [
        {
          "output_type": "execute_result",
          "data": {
            "text/plain": [
              "array([ 58.47551,  64.82381,  66.45267, ..., 444.11288, 445.6497 ,\n",
              "       445.33157], dtype=float32)"
            ]
          },
          "metadata": {
            "tags": []
          },
          "execution_count": 577
        }
      ]
    },
    {
      "cell_type": "code",
      "metadata": {
        "id": "NRMR0WkN3XIh",
        "colab_type": "code",
        "colab": {
          "base_uri": "https://localhost:8080/",
          "height": 607
        },
        "outputId": "66ba64e7-1259-4a69-8f7c-a5e8636ccee8"
      },
      "source": [
        "# plot the true and forecasted values\n",
        "train_size = len(trainPredict)+1\n",
        "#second_split.Date.dt.year\n",
        "# plt.plot(second_split.index,\n",
        "#           second_split.Close.values,c='black',\n",
        "#           alpha=0.3,label='True Data')\n",
        "plt.plot(second_split.Date,\n",
        "          second_split.Close.values,c='black',\n",
        "          alpha=0.3,label='True Data')\n",
        "plt.plot(second_split.Date[1:train_size],\n",
        "          trainPredict,label='Training Fit',c='g')\n",
        "plt.plot(second_split.Date[train_size+1:],\n",
        "          testPredict[:test_x.shape[1]],label='Testing Forecast')\n",
        "plt.title('Forecast Plot')\n",
        "plt.legend()\n",
        "plt.show()\n",
        "plt.rcParams[\"figure.figsize\"] = (20,10)\n",
        "plt.show()"
      ],
      "execution_count": 582,
      "outputs": [
        {
          "output_type": "display_data",
          "data": {
            "image/png": "[encoded data removed]",
            "text/plain": [
              "<Figure size 1440x720 with 1 Axes>"
            ]
          },
          "metadata": {
            "tags": []
          }
        }
      ]
    }
  ]
}