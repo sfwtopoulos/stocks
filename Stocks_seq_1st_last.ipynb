{
  "nbformat": 4,
  "nbformat_minor": 0,
  "metadata": {
    "colab": {
      "name": "Stocks_seq_1st.ipynb",
      "provenance": [],
      "collapsed_sections": [],
      "include_colab_link": true
    },
    "kernelspec": {
      "name": "python3",
      "display_name": "Python 3"
    }
  },
  "cells": [
    {
      "cell_type": "markdown",
      "metadata": {
        "id": "view-in-github",
        "colab_type": "text"
      },
      "source": [
        "<a href=\"https://colab.research.google.com/github/sfwtopoulos/stocks/blob/master/Stocks_seq_1st_last.ipynb\" target=\"_parent\"><img src=\"https://colab.research.google.com/assets/colab-badge.svg\" alt=\"Open In Colab\"/></a>"
      ]
    },
    {
      "cell_type": "code",
      "metadata": {
        "id": "DOmxraS5T1wD",
        "colab_type": "code",
        "colab": {}
      },
      "source": [
        "import pandas as pd\n",
        "import matplotlib.pyplot as plt\n",
        "import pandas as pd\n",
        "import math\n",
        "import warnings\n",
        "import numpy as np\n",
        "import time\n",
        "\n",
        "import pandas_datareader as pdr\n",
        "#%tensorflow_version 2.x\n",
        "# Restart runtime using 'Runtime' -> 'Restart runtime...'\n",
        "%tensorflow_version 1.x\n",
        "import tensorflow as tf\n",
        "import keras\n",
        "\n",
        "\n",
        "from keras.layers import LSTM\n",
        "from keras.models import Sequential,Model\n",
        "from keras.layers.wrappers import TimeDistributed\n",
        "from keras.layers.core import Dense, Activation, Dropout\n",
        "from keras.preprocessing.sequence import pad_sequences\n",
        "\n",
        "from sklearn.preprocessing import MinMaxScaler\n",
        "from sklearn.metrics import mean_squared_error\n",
        "import seaborn as sns\n",
        "import matplotlib.pyplot as plt\n",
        "\n",
        "warnings.filterwarnings('ignore',category=FutureWarning)\n",
        "warnings.filterwarnings('ignore', category=DeprecationWarning)"
      ],
      "execution_count": 0,
      "outputs": []
    },
    {
      "cell_type": "code",
      "metadata": {
        "id": "2byEjZdZVJrz",
        "colab_type": "code",
        "outputId": "9545ca5d-3283-425f-ec67-a13d9484887a",
        "colab": {
          "base_uri": "https://localhost:8080/",
          "height": 50
        }
      },
      "source": [
        "print(keras.__version__)\n",
        "print(tf.__version__)\n",
        "#print(tensorflow.compat.v2.__version__)"
      ],
      "execution_count": 36,
      "outputs": [
        {
          "output_type": "stream",
          "text": [
            "2.3.0\n",
            "1.14.0\n"
          ],
          "name": "stdout"
        }
      ]
    },
    {
      "cell_type": "code",
      "metadata": {
        "id": "tVJdUlQJUDjY",
        "colab_type": "code",
        "colab": {}
      },
      "source": [
        "#Data import from git repo\n",
        "url = 'https://raw.githubusercontent.com/sfwtopoulos/stocks/master/stocks_dataset/combined.csv'\n",
        "#df1 = pd.read_csv(url, error_bad_lines=False)\n",
        "dfstocks = pd.read_csv(url, sep=',')"
      ],
      "execution_count": 0,
      "outputs": []
    },
    {
      "cell_type": "code",
      "metadata": {
        "id": "A1gYAB3OUECs",
        "colab_type": "code",
        "outputId": "8f0f5458-350f-423e-f382-5f4de017823a",
        "colab": {
          "base_uri": "https://localhost:8080/",
          "height": 134
        }
      },
      "source": [
        "#fix column names\n",
        "dfstocks=dfstocks.rename({' AAPL':'Company', ' Close/Last':'Close', ' Volume':'Volume', ' Open':'Open', ' High':'High', ' Low':'Low'}, axis=1);\n",
        "for col in dfstocks.columns: \n",
        "    print(col) "
      ],
      "execution_count": 38,
      "outputs": [
        {
          "output_type": "stream",
          "text": [
            "Date\n",
            "Close\n",
            "Volume\n",
            "Open\n",
            "High\n",
            "Low\n",
            "Company\n"
          ],
          "name": "stdout"
        }
      ]
    },
    {
      "cell_type": "code",
      "metadata": {
        "id": "vlSTPXYHUHSB",
        "colab_type": "code",
        "colab": {}
      },
      "source": [
        "#drop $sign from values\n",
        "dfstocks.Close=dfstocks['Close'].astype(str)\n",
        "dfstocks.Close=dfstocks.Close.apply(lambda x: x.replace('$',''))\n",
        "dfstocks.Open=dfstocks['Open'].astype(str)\n",
        "dfstocks.Open=dfstocks.Open.apply(lambda x: x.replace('$',''))\n",
        "dfstocks.High=dfstocks['High'].astype(str)\n",
        "dfstocks.High=dfstocks.High.apply(lambda x: x.replace('$',''))\n",
        "dfstocks.Low=dfstocks['Low'].astype(str)\n",
        "dfstocks.Low=dfstocks.Low.apply(lambda x: x.replace('$',''))"
      ],
      "execution_count": 0,
      "outputs": []
    },
    {
      "cell_type": "code",
      "metadata": {
        "id": "F4cxCV_YUJGa",
        "colab_type": "code",
        "outputId": "e322b2b0-cb80-40a1-a5aa-0a21c4ef1c58",
        "colab": {
          "base_uri": "https://localhost:8080/",
          "height": 34
        }
      },
      "source": [
        "#drop rows containing nan or header from the csv files\n",
        "dfstocks=dfstocks[~dfstocks.Low.str.contains(\"nan\")]\n",
        "dfstocks=dfstocks[~dfstocks.Low.str.contains(\"Low\")]\n",
        "dfstocks=dfstocks[~dfstocks.Low.str.contains(\"N/A\")]\n",
        "dfstocks=dfstocks[~dfstocks.Volume.str.contains(\"N/A\")]\n",
        "dfstocks.reset_index(drop=True, inplace=True)\n",
        "dfstocks.Date.count()"
      ],
      "execution_count": 40,
      "outputs": [
        {
          "output_type": "execute_result",
          "data": {
            "text/plain": [
              "229269"
            ]
          },
          "metadata": {
            "tags": []
          },
          "execution_count": 40
        }
      ]
    },
    {
      "cell_type": "code",
      "metadata": {
        "id": "te4JUA9lUL06",
        "colab_type": "code",
        "outputId": "f35e2823-98f1-48ca-9ef4-bf12a12e93a8",
        "colab": {
          "base_uri": "https://localhost:8080/",
          "height": 402
        }
      },
      "source": [
        "#sort dataframe based on date and Company Name\n",
        "dfstocks = dfstocks.sort_values(['Date', 'Company'])\n",
        "dfstocks.head(100)"
      ],
      "execution_count": 41,
      "outputs": [
        {
          "output_type": "execute_result",
          "data": {
            "text/html": [
              "<div>\n",
              "<style scoped>\n",
              "    .dataframe tbody tr th:only-of-type {\n",
              "        vertical-align: middle;\n",
              "    }\n",
              "\n",
              "    .dataframe tbody tr th {\n",
              "        vertical-align: top;\n",
              "    }\n",
              "\n",
              "    .dataframe thead th {\n",
              "        text-align: right;\n",
              "    }\n",
              "</style>\n",
              "<table border=\"1\" class=\"dataframe\">\n",
              "  <thead>\n",
              "    <tr style=\"text-align: right;\">\n",
              "      <th></th>\n",
              "      <th>Date</th>\n",
              "      <th>Close</th>\n",
              "      <th>Volume</th>\n",
              "      <th>Open</th>\n",
              "      <th>High</th>\n",
              "      <th>Low</th>\n",
              "      <th>Company</th>\n",
              "    </tr>\n",
              "  </thead>\n",
              "  <tbody>\n",
              "    <tr>\n",
              "      <th>1761</th>\n",
              "      <td>01/02/2013</td>\n",
              "      <td>78.4328</td>\n",
              "      <td>139906732</td>\n",
              "      <td>79.1171</td>\n",
              "      <td>79.2857</td>\n",
              "      <td>77.3757</td>\n",
              "      <td>AAPL</td>\n",
              "    </tr>\n",
              "    <tr>\n",
              "      <th>4248</th>\n",
              "      <td>01/02/2013</td>\n",
              "      <td>35.12</td>\n",
              "      <td>13767660</td>\n",
              "      <td>34.92</td>\n",
              "      <td>35.4</td>\n",
              "      <td>34.1</td>\n",
              "      <td>ABBV</td>\n",
              "    </tr>\n",
              "    <tr>\n",
              "      <th>6025</th>\n",
              "      <td>01/02/2013</td>\n",
              "      <td>32.05</td>\n",
              "      <td>20266410</td>\n",
              "      <td>32.3</td>\n",
              "      <td>32.45</td>\n",
              "      <td>31.64</td>\n",
              "      <td>ABT</td>\n",
              "    </tr>\n",
              "    <tr>\n",
              "      <th>8512</th>\n",
              "      <td>01/02/2013</td>\n",
              "      <td>69.06</td>\n",
              "      <td>4039095</td>\n",
              "      <td>67.59</td>\n",
              "      <td>69.06</td>\n",
              "      <td>67.55</td>\n",
              "      <td>ACN</td>\n",
              "    </tr>\n",
              "    <tr>\n",
              "      <th>10999</th>\n",
              "      <td>01/02/2013</td>\n",
              "      <td>38.34</td>\n",
              "      <td>6483720</td>\n",
              "      <td>37.92</td>\n",
              "      <td>38.73</td>\n",
              "      <td>37.92</td>\n",
              "      <td>ADBE</td>\n",
              "    </tr>\n",
              "    <tr>\n",
              "      <th>...</th>\n",
              "      <td>...</td>\n",
              "      <td>...</td>\n",
              "      <td>...</td>\n",
              "      <td>...</td>\n",
              "      <td>...</td>\n",
              "      <td>...</td>\n",
              "      <td>...</td>\n",
              "    </tr>\n",
              "    <tr>\n",
              "      <th>10747</th>\n",
              "      <td>01/02/2014</td>\n",
              "      <td>59.29</td>\n",
              "      <td>2745895</td>\n",
              "      <td>59.06</td>\n",
              "      <td>59.53</td>\n",
              "      <td>58.94</td>\n",
              "      <td>ADBE</td>\n",
              "    </tr>\n",
              "    <tr>\n",
              "      <th>13234</th>\n",
              "      <td>01/02/2014</td>\n",
              "      <td>168.05</td>\n",
              "      <td>1268722</td>\n",
              "      <td>167.33</td>\n",
              "      <td>170.71</td>\n",
              "      <td>166.5937</td>\n",
              "      <td>AGN</td>\n",
              "    </tr>\n",
              "    <tr>\n",
              "      <th>15721</th>\n",
              "      <td>01/02/2014</td>\n",
              "      <td>50.71</td>\n",
              "      <td>9196092</td>\n",
              "      <td>50.81</td>\n",
              "      <td>51.3</td>\n",
              "      <td>50.47</td>\n",
              "      <td>AIG</td>\n",
              "    </tr>\n",
              "    <tr>\n",
              "      <th>18208</th>\n",
              "      <td>01/02/2014</td>\n",
              "      <td>53.55</td>\n",
              "      <td>1909106</td>\n",
              "      <td>54.09</td>\n",
              "      <td>54.45</td>\n",
              "      <td>53.5</td>\n",
              "      <td>ALL</td>\n",
              "    </tr>\n",
              "    <tr>\n",
              "      <th>20695</th>\n",
              "      <td>01/02/2014</td>\n",
              "      <td>115.795</td>\n",
              "      <td>2528751</td>\n",
              "      <td>114.36</td>\n",
              "      <td>116.19</td>\n",
              "      <td>114.06</td>\n",
              "      <td>AMGN</td>\n",
              "    </tr>\n",
              "  </tbody>\n",
              "</table>\n",
              "<p>100 rows × 7 columns</p>\n",
              "</div>"
            ],
            "text/plain": [
              "             Date     Close      Volume      Open      High        Low Company\n",
              "1761   01/02/2013   78.4328   139906732   79.1171   79.2857    77.3757    AAPL\n",
              "4248   01/02/2013     35.12    13767660     34.92      35.4       34.1    ABBV\n",
              "6025   01/02/2013     32.05    20266410      32.3     32.45      31.64     ABT\n",
              "8512   01/02/2013     69.06     4039095     67.59     69.06      67.55     ACN\n",
              "10999  01/02/2013     38.34     6483720     37.92     38.73      37.92    ADBE\n",
              "...           ...       ...         ...       ...       ...        ...     ...\n",
              "10747  01/02/2014     59.29     2745895     59.06     59.53      58.94    ADBE\n",
              "13234  01/02/2014    168.05     1268722    167.33    170.71   166.5937     AGN\n",
              "15721  01/02/2014     50.71     9196092     50.81      51.3      50.47     AIG\n",
              "18208  01/02/2014     53.55     1909106     54.09     54.45       53.5     ALL\n",
              "20695  01/02/2014   115.795     2528751    114.36    116.19     114.06    AMGN\n",
              "\n",
              "[100 rows x 7 columns]"
            ]
          },
          "metadata": {
            "tags": []
          },
          "execution_count": 41
        }
      ]
    },
    {
      "cell_type": "code",
      "metadata": {
        "id": "SvGv9U_NHZcv",
        "colab_type": "code",
        "outputId": "058693f6-b837-449e-8aa0-d56cfbf66d83",
        "colab": {
          "base_uri": "https://localhost:8080/",
          "height": 151
        }
      },
      "source": [
        "#Converting Datatypes\n",
        "dfstocks.Date=pd.to_datetime(dfstocks.Date)\n",
        "dfstocks.Close=pd.to_numeric(dfstocks.Close)\n",
        "dfstocks.Volume=pd.to_numeric(dfstocks.Volume)\n",
        "dfstocks.Open=pd.to_numeric(dfstocks.Open)\n",
        "dfstocks.High=pd.to_numeric(dfstocks.High)\n",
        "dfstocks.Low=pd.to_numeric(dfstocks.Low)\n",
        "dfstocks.dtypes"
      ],
      "execution_count": 42,
      "outputs": [
        {
          "output_type": "execute_result",
          "data": {
            "text/plain": [
              "Date       datetime64[ns]\n",
              "Close             float64\n",
              "Volume              int64\n",
              "Open              float64\n",
              "High              float64\n",
              "Low               float64\n",
              "Company            object\n",
              "dtype: object"
            ]
          },
          "metadata": {
            "tags": []
          },
          "execution_count": 42
        }
      ]
    },
    {
      "cell_type": "code",
      "metadata": {
        "id": "rsD9-1pONB6V",
        "colab_type": "code",
        "outputId": "661525c2-706f-4860-bf6f-92921a841095",
        "colab": {
          "base_uri": "https://localhost:8080/",
          "height": 34
        }
      },
      "source": [
        "#dfstocks[dfstocks['Company'].str.contains(\"AMZN\")]\n",
        "sub_split=dfstocks[dfstocks['Company'].str.contains(\"MDLZ\")]\n",
        "sub_split.isnull().values.any()\n",
        "sub_split.isna().values.any()\n",
        "sub_split = sub_split.sort_values(['Date'])\n",
        "sub_split.reset_index(drop=True, inplace=True)\n",
        "sub_split.shape[0]"
      ],
      "execution_count": 43,
      "outputs": [
        {
          "output_type": "execute_result",
          "data": {
            "text/plain": [
              "2487"
            ]
          },
          "metadata": {
            "tags": []
          },
          "execution_count": 43
        }
      ]
    },
    {
      "cell_type": "code",
      "metadata": {
        "id": "te-gSnYPU0wX",
        "colab_type": "code",
        "outputId": "9abddd0f-323c-46f1-e35b-36567c6121d2",
        "colab": {
          "base_uri": "https://localhost:8080/",
          "height": 402
        }
      },
      "source": [
        "sub_split"
      ],
      "execution_count": 44,
      "outputs": [
        {
          "output_type": "execute_result",
          "data": {
            "text/html": [
              "<div>\n",
              "<style scoped>\n",
              "    .dataframe tbody tr th:only-of-type {\n",
              "        vertical-align: middle;\n",
              "    }\n",
              "\n",
              "    .dataframe tbody tr th {\n",
              "        vertical-align: top;\n",
              "    }\n",
              "\n",
              "    .dataframe thead th {\n",
              "        text-align: right;\n",
              "    }\n",
              "</style>\n",
              "<table border=\"1\" class=\"dataframe\">\n",
              "  <thead>\n",
              "    <tr style=\"text-align: right;\">\n",
              "      <th></th>\n",
              "      <th>Date</th>\n",
              "      <th>Close</th>\n",
              "      <th>Volume</th>\n",
              "      <th>Open</th>\n",
              "      <th>High</th>\n",
              "      <th>Low</th>\n",
              "      <th>Company</th>\n",
              "    </tr>\n",
              "  </thead>\n",
              "  <tbody>\n",
              "    <tr>\n",
              "      <th>0</th>\n",
              "      <td>2010-02-16</td>\n",
              "      <td>19.3633</td>\n",
              "      <td>54149150</td>\n",
              "      <td>19.1695</td>\n",
              "      <td>19.3633</td>\n",
              "      <td>18.9288</td>\n",
              "      <td>MDLZ</td>\n",
              "    </tr>\n",
              "    <tr>\n",
              "      <th>1</th>\n",
              "      <td>2010-02-17</td>\n",
              "      <td>19.1360</td>\n",
              "      <td>24833350</td>\n",
              "      <td>19.2898</td>\n",
              "      <td>19.3499</td>\n",
              "      <td>19.0157</td>\n",
              "      <td>MDLZ</td>\n",
              "    </tr>\n",
              "    <tr>\n",
              "      <th>2</th>\n",
              "      <td>2010-02-18</td>\n",
              "      <td>19.2564</td>\n",
              "      <td>20606450</td>\n",
              "      <td>19.1494</td>\n",
              "      <td>19.2564</td>\n",
              "      <td>19.0324</td>\n",
              "      <td>MDLZ</td>\n",
              "    </tr>\n",
              "    <tr>\n",
              "      <th>3</th>\n",
              "      <td>2010-02-19</td>\n",
              "      <td>19.3299</td>\n",
              "      <td>15497250</td>\n",
              "      <td>19.2229</td>\n",
              "      <td>19.4168</td>\n",
              "      <td>19.1494</td>\n",
              "      <td>MDLZ</td>\n",
              "    </tr>\n",
              "    <tr>\n",
              "      <th>4</th>\n",
              "      <td>2010-02-22</td>\n",
              "      <td>19.3499</td>\n",
              "      <td>27292690</td>\n",
              "      <td>19.3098</td>\n",
              "      <td>19.4435</td>\n",
              "      <td>19.1494</td>\n",
              "      <td>MDLZ</td>\n",
              "    </tr>\n",
              "    <tr>\n",
              "      <th>...</th>\n",
              "      <td>...</td>\n",
              "      <td>...</td>\n",
              "      <td>...</td>\n",
              "      <td>...</td>\n",
              "      <td>...</td>\n",
              "      <td>...</td>\n",
              "      <td>...</td>\n",
              "    </tr>\n",
              "    <tr>\n",
              "      <th>2482</th>\n",
              "      <td>2019-12-24</td>\n",
              "      <td>54.9900</td>\n",
              "      <td>1833763</td>\n",
              "      <td>54.9400</td>\n",
              "      <td>55.1800</td>\n",
              "      <td>54.7400</td>\n",
              "      <td>MDLZ</td>\n",
              "    </tr>\n",
              "    <tr>\n",
              "      <th>2483</th>\n",
              "      <td>2019-12-26</td>\n",
              "      <td>54.8500</td>\n",
              "      <td>3565549</td>\n",
              "      <td>54.9700</td>\n",
              "      <td>55.0741</td>\n",
              "      <td>54.7200</td>\n",
              "      <td>MDLZ</td>\n",
              "    </tr>\n",
              "    <tr>\n",
              "      <th>2484</th>\n",
              "      <td>2019-12-27</td>\n",
              "      <td>55.2800</td>\n",
              "      <td>4229449</td>\n",
              "      <td>54.9300</td>\n",
              "      <td>55.3300</td>\n",
              "      <td>54.8000</td>\n",
              "      <td>MDLZ</td>\n",
              "    </tr>\n",
              "    <tr>\n",
              "      <th>2485</th>\n",
              "      <td>2019-12-30</td>\n",
              "      <td>55.0000</td>\n",
              "      <td>3104187</td>\n",
              "      <td>54.9200</td>\n",
              "      <td>55.0700</td>\n",
              "      <td>54.5651</td>\n",
              "      <td>MDLZ</td>\n",
              "    </tr>\n",
              "    <tr>\n",
              "      <th>2486</th>\n",
              "      <td>2019-12-31</td>\n",
              "      <td>55.0800</td>\n",
              "      <td>5039525</td>\n",
              "      <td>55.0500</td>\n",
              "      <td>55.1400</td>\n",
              "      <td>54.7600</td>\n",
              "      <td>MDLZ</td>\n",
              "    </tr>\n",
              "  </tbody>\n",
              "</table>\n",
              "<p>2487 rows × 7 columns</p>\n",
              "</div>"
            ],
            "text/plain": [
              "           Date    Close    Volume     Open     High      Low Company\n",
              "0    2010-02-16  19.3633  54149150  19.1695  19.3633  18.9288    MDLZ\n",
              "1    2010-02-17  19.1360  24833350  19.2898  19.3499  19.0157    MDLZ\n",
              "2    2010-02-18  19.2564  20606450  19.1494  19.2564  19.0324    MDLZ\n",
              "3    2010-02-19  19.3299  15497250  19.2229  19.4168  19.1494    MDLZ\n",
              "4    2010-02-22  19.3499  27292690  19.3098  19.4435  19.1494    MDLZ\n",
              "...         ...      ...       ...      ...      ...      ...     ...\n",
              "2482 2019-12-24  54.9900   1833763  54.9400  55.1800  54.7400    MDLZ\n",
              "2483 2019-12-26  54.8500   3565549  54.9700  55.0741  54.7200    MDLZ\n",
              "2484 2019-12-27  55.2800   4229449  54.9300  55.3300  54.8000    MDLZ\n",
              "2485 2019-12-30  55.0000   3104187  54.9200  55.0700  54.5651    MDLZ\n",
              "2486 2019-12-31  55.0800   5039525  55.0500  55.1400  54.7600    MDLZ\n",
              "\n",
              "[2487 rows x 7 columns]"
            ]
          },
          "metadata": {
            "tags": []
          },
          "execution_count": 44
        }
      ]
    },
    {
      "cell_type": "code",
      "metadata": {
        "id": "wjwirxd4VutM",
        "colab_type": "code",
        "colab": {}
      },
      "source": [
        "# prepare training and testing data sets for LSTM based sequence modeling\n",
        "#def dimitris_function(time_series, scaling=True,split_ratio=0.9):\n",
        "def dimitris_function(time_series,split_ratio=0.9):\n",
        "\n",
        "    series1 = pd.Series(time_series[time_series.columns[0]])\n",
        "    series2 = pd.Series(time_series[time_series.columns[1]])\n",
        "    series3 = pd.Series(time_series[time_series.columns[2]])\n",
        "    series4 = pd.Series(time_series[time_series.columns[3]])\n",
        "    series5 = pd.Series(time_series[time_series.columns[4]])\n",
        "\n",
        "    values1 = series1.values\n",
        "    values1 = values1.reshape((len(values1), 1))\n",
        "    values2 = series2.values\n",
        "    values2 = values2.reshape((len(values2), 1))\n",
        "    values3 = series3.values\n",
        "    values3 = values3.reshape((len(values3), 1))\n",
        "    values4 = series4.values\n",
        "    values4 = values4.reshape((len(values4), 1))\n",
        "    values5 = series5.values\n",
        "    values5 = values5.reshape((len(values5), 1))\n",
        "\n",
        "    #scaler2 --> Close Price Scaler\n",
        "    scaler1 = MinMaxScaler(feature_range=(0, 1))\n",
        "    time_series[\"scaled1\"] = scaler1.fit_transform(values1)\n",
        "    scaler2 = MinMaxScaler(feature_range=(0, 1))\n",
        "    time_series[\"scaled2\"]= scaler2.fit_transform(values2)\n",
        "    scaler3 = MinMaxScaler(feature_range=(0, 1))\n",
        "    time_series[\"scaled3\"]= scaler3.fit_transform(values3)\n",
        "    scaler4 = MinMaxScaler(feature_range=(0, 1))\n",
        "    time_series[\"scaled4\"]= scaler4.fit_transform(values4)\n",
        "    scaler5 = MinMaxScaler(feature_range=(0, 1))\n",
        "    time_series[\"scaled5\"]= scaler5.fit_transform(values5)\n",
        "\n",
        "\n",
        "    time_series = time_series[[\"scaled1\",\"scaled2\",\"scaled3\",\"scaled4\",\"scaled5\"]].values\n",
        "\n",
        "        \n",
        "    split_ratio = int(len(time_series) * split_ratio)\n",
        "\n",
        "    train = time_series[0:split_ratio]\n",
        "    test = time_series[split_ratio:len(time_series)]\n",
        "    \n",
        "    # return train,test,scaler1,scaler2\n",
        "    return train,test,scaler2\n"
      ],
      "execution_count": 0,
      "outputs": []
    },
    {
      "cell_type": "code",
      "metadata": {
        "id": "1lWiZ5xs0CzW",
        "colab_type": "code",
        "colab": {}
      },
      "source": [
        "'''batch_size = [64, 128, 256]\n",
        "epochs = [10, 20, 30]\n",
        "optimizer = ['SGD', 'RMSprop', 'Adagrad', 'Adadelta', 'Adam', 'Adamax', 'Nadam']\n",
        "learn_rate = [0.001, 0.01, 0.1, 0.2, 0.3]\n",
        "momentum = [0.0, 0.2, 0.4, 0.6, 0.8, 0.9]\n",
        "neurons = [50, 100, 150, 200]\n",
        "weight_constraint = [1, 2, 3, 4, 5]\n",
        "dropout_rate = [0.0, 0.1, 0.2, 0.3, 0.4, 0.5, 0.6, 0.7, 0.8, 0.9]\n",
        "param_grid = dict(batch_size=batch_size, epochs=epochs, optimizer=optimizer, learn_rate=learn_rate, \n",
        "                  dropout_rate=dropout_rate, weight_constraint=weight_constraint, momentum=momentum)\n",
        "'''\n",
        "p = {\n",
        "    'first_neuron': [12, 24, 48]}"
      ],
      "execution_count": 0,
      "outputs": []
    },
    {
      "cell_type": "code",
      "metadata": {
        "id": "UN6DYJT7TXPb",
        "colab_type": "code",
        "colab": {}
      },
      "source": [
        "def get_seq_model(params,input_shape,train_x,train_y):\n",
        "    # create and fit the LSTM network\n",
        "    model = Sequential()\n",
        "    # samples*timesteps*features\n",
        "    # https://keras.io/getting-started/sequential-model-guide/\n",
        "    #relu_advanced=keras.activations.relu(x,)\n",
        "    model.add(LSTM(input_shape=input_shape,\n",
        "                   units = params['first_neuron'],  \n",
        "   #                activation='relu',\n",
        "                   return_sequences=True\n",
        "    ))\n",
        "\n",
        "    # readout layer. TimeDistributedDense uses the same weights for all\n",
        "    # time steps.\n",
        "    # model.add(TimeDistributed(Dense(1))) #number of inputs in the 1st layer\n",
        "    model.add(TimeDistributed(Dense(5)))   \n",
        "    start = time.time()\n",
        "    \n",
        "    model.compile(loss=\"mse\", optimizer=RMSprop(lr=0.001))\n",
        "\n",
        "    print(\"> Compilation Time : \", time.time() - start)\n",
        "    print(model.summary())\n",
        "    out=seq_lstm_model.fit(train_x, train_y,\n",
        "                #epochs=20, batch_size=1,\n",
        "                epochs=250, batch_size=1,\n",
        "                verbose=1)\n",
        "    return out,model"
      ],
      "execution_count": 0,
      "outputs": []
    },
    {
      "cell_type": "code",
      "metadata": {
        "id": "q4Ih64FDIxly",
        "colab_type": "code",
        "colab": {
          "base_uri": "https://localhost:8080/",
          "height": 54
        },
        "outputId": "f82145ce-2e24-4228-f446-ee97e3c31214"
      },
      "source": [
        "'''\n",
        "\n",
        "def get_seq_model_2(input1,input2,input3,input4,input5):\n",
        "\n",
        "\n",
        "  model1=input(shape=input1)\n",
        "#layer gia 1o feature\n",
        "  lstm1=LSTM(40,return_sequences=True)(model1)\n",
        "  output1=TimeDistributed(Dense(1))(lstm1)\n",
        "#layer gia 2o feature\n",
        "  lstm2=LSTM(40,return_sequences=True)(model1)\n",
        "  output2=TimeDistributed(Dense(1))(lstm2)\n",
        "#layer gia 3o feature\n",
        "  lstm3=LSTM(40,return_sequences=True)(model1)\n",
        "  output3=TimeDistributed(Dense(1))(lstm3)\n",
        "  #layer gia 4o feature\n",
        "  lstm4=LSTM(40,return_sequences=True)(model1)\n",
        "  output4=TimeDistributed(Dense(1))(lstm4)\n",
        "  #layer gia 5o feature\n",
        "  lstm5=LSTM(40,return_sequences=True)(model1)\n",
        "  output5=TimeDistributed(Dense(1))(lstm5)\n",
        "  '''\n"
      ],
      "execution_count": 48,
      "outputs": [
        {
          "output_type": "execute_result",
          "data": {
            "text/plain": [
              "'\\n\\ndef get_seq_model_2(input1,input2,input3,input4,input5):\\n\\n\\n  model1=input(shape=input1)\\n#layer gia 1o feature\\n  lstm1=LSTM(40,return_sequences=True)(model1)\\n  output1=TimeDistributed(Dense(1))(lstm1)\\n#layer gia 2o feature\\n  lstm2=LSTM(40,return_sequences=True)(model1)\\n  output2=TimeDistributed(Dense(1))(lstm2)\\n#layer gia 3o feature\\n  lstm3=LSTM(40,return_sequences=True)(model1)\\n  output3=TimeDistributed(Dense(1))(lstm3)\\n  #layer gia 4o feature\\n  lstm4=LSTM(40,return_sequences=True)(model1)\\n  output4=TimeDistributed(Dense(1))(lstm4)\\n  #layer gia 5o feature\\n  lstm5=LSTM(40,return_sequences=True)(model1)\\n  output5=TimeDistributed(Dense(1))(lstm5)\\n  '"
            ]
          },
          "metadata": {
            "tags": []
          },
          "execution_count": 48
        }
      ]
    },
    {
      "cell_type": "code",
      "metadata": {
        "id": "UiL73vb-dFsK",
        "colab_type": "code",
        "colab": {}
      },
      "source": [
        "# print(type(sub_split.Close))\n",
        "sub_split_date=sub_split[['Date']]\n",
        "sub_split=sub_split[['Volume', 'Close', 'Open', 'High', 'Low']]\n",
        "#sub_split.columns[1]"
      ],
      "execution_count": 0,
      "outputs": []
    },
    {
      "cell_type": "code",
      "metadata": {
        "id": "zeAENS4LVpDG",
        "colab_type": "code",
        "outputId": "52a4299c-e367-4ec4-9b71-7f78921b882a",
        "colab": {
          "base_uri": "https://localhost:8080/",
          "height": 202
        }
      },
      "source": [
        "# split train and test datasets\n",
        "train,test,scaler_Close = dimitris_function(sub_split,split_ratio=0.7)\n",
        "\n",
        "#train\n",
        "print(len(train))\n",
        "print(train.shape[0])\n",
        "print(train.shape)\n",
        "print(test.shape)\n",
        "print(train)"
      ],
      "execution_count": 50,
      "outputs": [
        {
          "output_type": "stream",
          "text": [
            "1740\n",
            "1740\n",
            "(1740, 5)\n",
            "(747, 5)\n",
            "[[0.88815584 0.02021012 0.01335138 0.01636724 0.01466068]\n",
            " [0.39046289 0.01423411 0.01651313 0.01601441 0.01695744]\n",
            " [0.31870301 0.01739958 0.01282311 0.01355248 0.01739882]\n",
            " ...\n",
            " [0.07876951 0.68608191 0.69959394 0.69877535 0.69367717]\n",
            " [0.13961111 0.67241044 0.68067072 0.68508332 0.68019791]\n",
            " [0.10580105 0.69607261 0.66910654 0.69890701 0.68019791]]\n"
          ],
          "name": "stdout"
        }
      ]
    },
    {
      "cell_type": "code",
      "metadata": {
        "id": "uZG7396CWoy9",
        "colab_type": "code",
        "outputId": "de775403-1100-4cea-ca3c-0d942115b001",
        "colab": {
          "base_uri": "https://localhost:8080/",
          "height": 101
        }
      },
      "source": [
        "#We use numpy to reshape our time series into 3D tensors.\n",
        "train = np.reshape(train,(1,train.shape[0],5))\n",
        "test = np.reshape(test,(1,test.shape[0],5))\n",
        "\n",
        "train_x = train[:,:-1,:]\n",
        "train_y = train[:,1:,:]\n",
        "\n",
        "test_x = test[:,:-1,:]\n",
        "test_y = test[:,1:,:]\n",
        "\n",
        "print(\"Data Split Complete\")\n",
        "\n",
        "print(\"train_x shape={}\".format(train_x.shape))\n",
        "print(\"train_y shape={}\".format(train_y.shape))\n",
        "print(\"test_x shape={}\".format(test_x.shape))\n",
        "print(\"test_y shape={}\".format(test_y.shape))"
      ],
      "execution_count": 51,
      "outputs": [
        {
          "output_type": "stream",
          "text": [
            "Data Split Complete\n",
            "train_x shape=(1, 1739, 5)\n",
            "train_y shape=(1, 1739, 5)\n",
            "test_x shape=(1, 746, 5)\n",
            "test_y shape=(1, 746, 5)\n"
          ],
          "name": "stdout"
        }
      ]
    },
    {
      "cell_type": "code",
      "metadata": {
        "id": "cP-ip4VGhSNN",
        "colab_type": "code",
        "colab": {}
      },
      "source": [
        "#pip install talos"
      ],
      "execution_count": 0,
      "outputs": []
    },
    {
      "cell_type": "code",
      "metadata": {
        "id": "kbgKgF-QnVM1",
        "colab_type": "code",
        "colab": {
          "base_uri": "https://localhost:8080/",
          "height": 34
        },
        "outputId": "c55930a0-02ac-4e65-94ca-f9a180ed95a5"
      },
      "source": [
        "p['first_neuron']"
      ],
      "execution_count": 53,
      "outputs": [
        {
          "output_type": "execute_result",
          "data": {
            "text/plain": [
              "[12, 24, 48]"
            ]
          },
          "metadata": {
            "tags": []
          },
          "execution_count": 53
        }
      ]
    },
    {
      "cell_type": "code",
      "metadata": {
        "id": "UUBo-uHfLmeR",
        "colab_type": "code",
        "colab": {
          "base_uri": "https://localhost:8080/",
          "height": 438
        },
        "outputId": "44717bdb-cf22-497c-82ac-761e43675482"
      },
      "source": [
        "# build RNN model\n",
        "seq_lstm_model=None\n",
        "try:\n",
        "  import talos\n",
        "  p = {'first_neuron': [12, 24, 48]}\n",
        "  t = talos.Scan(x=train_x,y=train_y,params=p,model=seq_lstm_model,experiment_name='test')\n",
        "   # seq_lstm_model = get_seq_model(input_shape=(train_x.shape[1],5))\n",
        "except:\n",
        "    print(\"Model Build Failed. Trying Again\")\n",
        "    seq_lstm_model = get_seq_model(input_shape=(train_x.shape[1],5))"
      ],
      "execution_count": 55,
      "outputs": [
        {
          "output_type": "stream",
          "text": [
            "\n",
            "\n",
            "  0%|          | 0/3 [00:00<?, ?it/s]\u001b[A\u001b[A"
          ],
          "name": "stderr"
        },
        {
          "output_type": "stream",
          "text": [
            "Model Build Failed. Trying Again\n"
          ],
          "name": "stdout"
        },
        {
          "output_type": "error",
          "ename": "TypeError",
          "evalue": "ignored",
          "traceback": [
            "\u001b[0;31m---------------------------------------------------------------------------\u001b[0m",
            "\u001b[0;31mTypeError\u001b[0m                                 Traceback (most recent call last)",
            "\u001b[0;32m<ipython-input-55-fa0e64723c9e>\u001b[0m in \u001b[0;36m<module>\u001b[0;34m()\u001b[0m\n\u001b[1;32m      4\u001b[0m   \u001b[0mp\u001b[0m \u001b[0;34m=\u001b[0m \u001b[0;34m{\u001b[0m\u001b[0;34m'first_neuron'\u001b[0m\u001b[0;34m:\u001b[0m \u001b[0;34m[\u001b[0m\u001b[0;36m12\u001b[0m\u001b[0;34m,\u001b[0m \u001b[0;36m24\u001b[0m\u001b[0;34m,\u001b[0m \u001b[0;36m48\u001b[0m\u001b[0;34m]\u001b[0m\u001b[0;34m}\u001b[0m\u001b[0;34m\u001b[0m\u001b[0;34m\u001b[0m\u001b[0m\n\u001b[0;32m----> 5\u001b[0;31m   \u001b[0mt\u001b[0m \u001b[0;34m=\u001b[0m \u001b[0mtalos\u001b[0m\u001b[0;34m.\u001b[0m\u001b[0mScan\u001b[0m\u001b[0;34m(\u001b[0m\u001b[0mx\u001b[0m\u001b[0;34m=\u001b[0m\u001b[0mtrain_x\u001b[0m\u001b[0;34m,\u001b[0m\u001b[0my\u001b[0m\u001b[0;34m=\u001b[0m\u001b[0mtrain_y\u001b[0m\u001b[0;34m,\u001b[0m\u001b[0mparams\u001b[0m\u001b[0;34m=\u001b[0m\u001b[0mp\u001b[0m\u001b[0;34m,\u001b[0m\u001b[0mmodel\u001b[0m\u001b[0;34m=\u001b[0m\u001b[0mseq_lstm_model\u001b[0m\u001b[0;34m,\u001b[0m\u001b[0mexperiment_name\u001b[0m\u001b[0;34m=\u001b[0m\u001b[0;34m'test'\u001b[0m\u001b[0;34m)\u001b[0m\u001b[0;34m\u001b[0m\u001b[0;34m\u001b[0m\u001b[0m\n\u001b[0m\u001b[1;32m      6\u001b[0m    \u001b[0;31m# seq_lstm_model = get_seq_model(input_shape=(train_x.shape[1],5))\u001b[0m\u001b[0;34m\u001b[0m\u001b[0;34m\u001b[0m\u001b[0;34m\u001b[0m\u001b[0m\n",
            "\u001b[0;32m/usr/local/lib/python3.6/dist-packages/talos/scan/Scan.py\u001b[0m in \u001b[0;36m__init__\u001b[0;34m(self, x, y, params, model, experiment_name, x_val, y_val, val_split, random_method, seed, performance_target, fraction_limit, round_limit, time_limit, boolean_limit, reduction_method, reduction_interval, reduction_window, reduction_threshold, reduction_metric, minimize_loss, disable_progress_bar, print_params, clear_session, save_weights)\u001b[0m\n\u001b[1;32m    195\u001b[0m         \u001b[0;32mfrom\u001b[0m \u001b[0;34m.\u001b[0m\u001b[0mscan_run\u001b[0m \u001b[0;32mimport\u001b[0m \u001b[0mscan_run\u001b[0m\u001b[0;34m\u001b[0m\u001b[0;34m\u001b[0m\u001b[0m\n\u001b[0;32m--> 196\u001b[0;31m         \u001b[0mscan_run\u001b[0m\u001b[0;34m(\u001b[0m\u001b[0mself\u001b[0m\u001b[0;34m)\u001b[0m\u001b[0;34m\u001b[0m\u001b[0;34m\u001b[0m\u001b[0m\n\u001b[0m",
            "\u001b[0;32m/usr/local/lib/python3.6/dist-packages/talos/scan/scan_run.py\u001b[0m in \u001b[0;36mscan_run\u001b[0;34m(self)\u001b[0m\n\u001b[1;32m     25\u001b[0m         \u001b[0;32mfrom\u001b[0m \u001b[0;34m.\u001b[0m\u001b[0mscan_round\u001b[0m \u001b[0;32mimport\u001b[0m \u001b[0mscan_round\u001b[0m\u001b[0;34m\u001b[0m\u001b[0;34m\u001b[0m\u001b[0m\n\u001b[0;32m---> 26\u001b[0;31m         \u001b[0mself\u001b[0m \u001b[0;34m=\u001b[0m \u001b[0mscan_round\u001b[0m\u001b[0;34m(\u001b[0m\u001b[0mself\u001b[0m\u001b[0;34m)\u001b[0m\u001b[0;34m\u001b[0m\u001b[0;34m\u001b[0m\u001b[0m\n\u001b[0m\u001b[1;32m     27\u001b[0m         \u001b[0mself\u001b[0m\u001b[0;34m.\u001b[0m\u001b[0mpbar\u001b[0m\u001b[0;34m.\u001b[0m\u001b[0mupdate\u001b[0m\u001b[0;34m(\u001b[0m\u001b[0;36m1\u001b[0m\u001b[0;34m)\u001b[0m\u001b[0;34m\u001b[0m\u001b[0;34m\u001b[0m\u001b[0m\n",
            "\u001b[0;32m/usr/local/lib/python3.6/dist-packages/talos/scan/scan_round.py\u001b[0m in \u001b[0;36mscan_round\u001b[0;34m(self)\u001b[0m\n\u001b[1;32m     18\u001b[0m     \u001b[0;32mfrom\u001b[0m \u001b[0;34m.\u001b[0m\u001b[0;34m.\u001b[0m\u001b[0mmodel\u001b[0m\u001b[0;34m.\u001b[0m\u001b[0mingest_model\u001b[0m \u001b[0;32mimport\u001b[0m \u001b[0mingest_model\u001b[0m\u001b[0;34m\u001b[0m\u001b[0;34m\u001b[0m\u001b[0m\n\u001b[0;32m---> 19\u001b[0;31m     \u001b[0mself\u001b[0m\u001b[0;34m.\u001b[0m\u001b[0mmodel_history\u001b[0m\u001b[0;34m,\u001b[0m \u001b[0mself\u001b[0m\u001b[0;34m.\u001b[0m\u001b[0mround_model\u001b[0m \u001b[0;34m=\u001b[0m \u001b[0mingest_model\u001b[0m\u001b[0;34m(\u001b[0m\u001b[0mself\u001b[0m\u001b[0;34m)\u001b[0m\u001b[0;34m\u001b[0m\u001b[0;34m\u001b[0m\u001b[0m\n\u001b[0m\u001b[1;32m     20\u001b[0m     \u001b[0mself\u001b[0m\u001b[0;34m.\u001b[0m\u001b[0mround_history\u001b[0m\u001b[0;34m.\u001b[0m\u001b[0mappend\u001b[0m\u001b[0;34m(\u001b[0m\u001b[0mself\u001b[0m\u001b[0;34m.\u001b[0m\u001b[0mmodel_history\u001b[0m\u001b[0;34m.\u001b[0m\u001b[0mhistory\u001b[0m\u001b[0;34m)\u001b[0m\u001b[0;34m\u001b[0m\u001b[0;34m\u001b[0m\u001b[0m\n",
            "\u001b[0;32m/usr/local/lib/python3.6/dist-packages/talos/model/ingest_model.py\u001b[0m in \u001b[0;36mingest_model\u001b[0;34m(self)\u001b[0m\n\u001b[1;32m      9\u001b[0m                       \u001b[0mself\u001b[0m\u001b[0;34m.\u001b[0m\u001b[0my_val\u001b[0m\u001b[0;34m,\u001b[0m\u001b[0;34m\u001b[0m\u001b[0;34m\u001b[0m\u001b[0m\n\u001b[0;32m---> 10\u001b[0;31m                       self.round_params)\n\u001b[0m",
            "\u001b[0;31mTypeError\u001b[0m: 'NoneType' object is not callable",
            "\nDuring handling of the above exception, another exception occurred:\n",
            "\u001b[0;31mTypeError\u001b[0m                                 Traceback (most recent call last)",
            "\u001b[0;32m<ipython-input-55-fa0e64723c9e>\u001b[0m in \u001b[0;36m<module>\u001b[0;34m()\u001b[0m\n\u001b[1;32m      7\u001b[0m \u001b[0;32mexcept\u001b[0m\u001b[0;34m:\u001b[0m\u001b[0;34m\u001b[0m\u001b[0;34m\u001b[0m\u001b[0m\n\u001b[1;32m      8\u001b[0m     \u001b[0mprint\u001b[0m\u001b[0;34m(\u001b[0m\u001b[0;34m\"Model Build Failed. Trying Again\"\u001b[0m\u001b[0;34m)\u001b[0m\u001b[0;34m\u001b[0m\u001b[0;34m\u001b[0m\u001b[0m\n\u001b[0;32m----> 9\u001b[0;31m     \u001b[0mseq_lstm_model\u001b[0m \u001b[0;34m=\u001b[0m \u001b[0mget_seq_model\u001b[0m\u001b[0;34m(\u001b[0m\u001b[0minput_shape\u001b[0m\u001b[0;34m=\u001b[0m\u001b[0;34m(\u001b[0m\u001b[0mtrain_x\u001b[0m\u001b[0;34m.\u001b[0m\u001b[0mshape\u001b[0m\u001b[0;34m[\u001b[0m\u001b[0;36m1\u001b[0m\u001b[0;34m]\u001b[0m\u001b[0;34m,\u001b[0m\u001b[0;36m5\u001b[0m\u001b[0;34m)\u001b[0m\u001b[0;34m)\u001b[0m\u001b[0;34m\u001b[0m\u001b[0;34m\u001b[0m\u001b[0m\n\u001b[0m",
            "\u001b[0;31mTypeError\u001b[0m: get_seq_model() missing 3 required positional arguments: 'params', 'train_x', and 'train_y'"
          ]
        }
      ]
    },
    {
      "cell_type": "code",
      "metadata": {
        "id": "MdpHk3OJ22QD",
        "colab_type": "code",
        "colab": {}
      },
      "source": [
        "train_y"
      ],
      "execution_count": 0,
      "outputs": []
    },
    {
      "cell_type": "code",
      "metadata": {
        "id": "FnQs_OC6XsTz",
        "colab_type": "code",
        "colab": {}
      },
      "source": [
        "# train the model\n",
        "seq_lstm_model.fit(train_x, train_y,\n",
        "                #epochs=20, batch_size=1,\n",
        "                epochs=250, batch_size=1,\n",
        "                verbose=1)\n",
        "import talos\n",
        "t = talos.Scan(x=x, y=y, params=p)\n",
        "print(\"Model Fit Complete\")"
      ],
      "execution_count": 0,
      "outputs": []
    },
    {
      "cell_type": "code",
      "metadata": {
        "id": "g07f1lEGXu_T",
        "colab_type": "code",
        "colab": {}
      },
      "source": [
        "# train fit performance\n",
        "trainPredict = seq_lstm_model.predict(train_x)\n",
        "trainScore = math.sqrt(mean_squared_error(train_y[0], trainPredict[0]))\n",
        "print('Train Score: %.2f RMSE' % (trainScore))"
      ],
      "execution_count": 0,
      "outputs": []
    },
    {
      "cell_type": "code",
      "metadata": {
        "id": "URNrqwpl1SbQ",
        "colab_type": "code",
        "colab": {}
      },
      "source": [
        "trainPredict"
      ],
      "execution_count": 0,
      "outputs": []
    },
    {
      "cell_type": "code",
      "metadata": {
        "id": "ZW0LgTTSXyKR",
        "colab_type": "code",
        "colab": {}
      },
      "source": [
        "# Pad input sequence\n",
        "testPredict = pad_sequences(test_x,maxlen=train_x.shape[1],padding='post',dtype='float64')"
      ],
      "execution_count": 0,
      "outputs": []
    },
    {
      "cell_type": "code",
      "metadata": {
        "id": "XsR5ytjpX2yj",
        "colab_type": "code",
        "colab": {}
      },
      "source": [
        "# forecast values\n",
        "testPredict = seq_lstm_model.predict(testPredict)\n",
        "testPredict"
      ],
      "execution_count": 0,
      "outputs": []
    },
    {
      "cell_type": "code",
      "metadata": {
        "id": "KvjYccaoN8hP",
        "colab_type": "code",
        "colab": {}
      },
      "source": [
        "#Drop all other variables except Close Price Output\n",
        "testPredict=np.delete(testPredict, [2,3,4], 2)\n",
        "trainPredict=np.delete(trainPredict, [2,3,4], 2)\n",
        "# testPredict=np.delete(testPredict, 3, 2)\n",
        "# trainPredict=np.delete(trainPredict, 3, 2)\n",
        "# testPredict=np.delete(testPredict, 4, 2)\n",
        "# trainPredict=np.delete(trainPredict, 4, 2)\n",
        "testPredict=np.delete(testPredict, 0, 2)\n",
        "trainPredict=np.delete(trainPredict, 0, 2)"
      ],
      "execution_count": 0,
      "outputs": []
    },
    {
      "cell_type": "code",
      "metadata": {
        "id": "0Oc_n5TARVXV",
        "colab_type": "code",
        "colab": {}
      },
      "source": [
        "testPredict"
      ],
      "execution_count": 0,
      "outputs": []
    },
    {
      "cell_type": "code",
      "metadata": {
        "id": "EMtIMjJRE18q",
        "colab_type": "code",
        "colab": {}
      },
      "source": [
        "trainPredict\n"
      ],
      "execution_count": 0,
      "outputs": []
    },
    {
      "cell_type": "code",
      "metadata": {
        "id": "x_tNvtkz_f5X",
        "colab_type": "code",
        "colab": {}
      },
      "source": [
        "type(testPredict)"
      ],
      "execution_count": 0,
      "outputs": []
    },
    {
      "cell_type": "code",
      "metadata": {
        "id": "zA7Aehl4X5ck",
        "colab_type": "code",
        "colab": {}
      },
      "source": [
        "# # inverse transformation of the Close Price\n",
        "trainPredict = scaler_Close.inverse_transform(trainPredict.\\\n",
        "                                        reshape(-1,1))\n",
        "testPredict = scaler_Close.inverse_transform(testPredict.\\\n",
        "                                       reshape(-1,1))"
      ],
      "execution_count": 0,
      "outputs": []
    },
    {
      "cell_type": "code",
      "metadata": {
        "id": "x_nZ9samd1Rs",
        "colab_type": "code",
        "colab": {}
      },
      "source": [
        "trainPredict"
      ],
      "execution_count": 0,
      "outputs": []
    },
    {
      "cell_type": "code",
      "metadata": {
        "id": "NRMR0WkN3XIh",
        "colab_type": "code",
        "colab": {}
      },
      "source": [
        "# plot the true and forecasted values\n",
        "split_ratio = len(trainPredict)+1\n",
        "\n",
        "plt.plot(sub_split_date.Date,\n",
        "          sub_split.Close.values,c='black',\n",
        "          alpha=0.3,label='True Data')\n",
        "\n",
        "plt.plot(sub_split_date.Date[1:split_ratio],\n",
        "          trainPredict,label='Training Fit',c='g')\n",
        "\n",
        "plt.plot(sub_split_date.Date[split_ratio+1:],\n",
        "          testPredict[:test_x.shape[1]],label='Testing Forecast')\n",
        "plt.title('Forecast Plot')\n",
        "plt.legend()\n",
        "#plt.show()\n",
        "plt.rcParams[\"figure.figsize\"] = (20,10)\n",
        "plt.show()"
      ],
      "execution_count": 0,
      "outputs": []
    },
    {
      "cell_type": "code",
      "metadata": {
        "id": "Iu2EkcbIqswV",
        "colab_type": "code",
        "colab": {}
      },
      "source": [
        "from numpy import loadtxt\n",
        "\n",
        "dataset = loadtxt(\"https://raw.githubusercontent.com/jbrownlee/Datasets/master/pima-indians-diabetes.data.csv\", delimiter=\",\")\n",
        "x = dataset[:,0:8]\n",
        "y = dataset[:, 8]"
      ],
      "execution_count": 0,
      "outputs": []
    },
    {
      "cell_type": "code",
      "metadata": {
        "id": "iEo8nztHqt9h",
        "colab_type": "code",
        "colab": {}
      },
      "source": [
        "from keras.models import Sequential\n",
        "from keras.layers import Dense\n",
        "\n",
        "def diabetes():\n",
        "    \n",
        "    model = Sequential()\n",
        "    model.add(Dense(12, input_dim=8, activation='relu'))\n",
        "    model.add(Dense(8, activation='relu'))\n",
        "    model.add(Dense(1, activation='sigmoid'))\n",
        "    model.compile(loss='binary_crossentropy', optimizer='adam', metrics=['accuracy'])\n",
        "    model.fit(X, Y, epochs=100, batch_size=10, verbose=0)\n",
        "    \n",
        "    return model"
      ],
      "execution_count": 0,
      "outputs": []
    },
    {
      "cell_type": "code",
      "metadata": {
        "id": "juIat1BBqyww",
        "colab_type": "code",
        "colab": {}
      },
      "source": [
        "from keras.activations import relu, elu\n",
        "\n",
        "p = {\n",
        "    'first_neuron': [12, 24, 48],\n",
        "    'activation': ['relu', 'elu'],\n",
        "    'batch_size': [10, 20, 30]\n",
        "}"
      ],
      "execution_count": 0,
      "outputs": []
    },
    {
      "cell_type": "code",
      "metadata": {
        "id": "_gHpxKJ8q4Tc",
        "colab_type": "code",
        "colab": {}
      },
      "source": [
        "# add input parameters to the function\n",
        "def diabetes(x_train, y_train, x_val, y_val, params):\n",
        "    \n",
        "    # replace the hyperparameter inputs with references to params dictionary \n",
        "    model = Sequential()\n",
        "    model.add(Dense(params['first_neuron'], input_dim=8, activation=params['activation']))\n",
        "    #model.add(Dense(8, activation=params['activation']))\n",
        "    model.add(Dense(1, activation='sigmoid'))\n",
        "    model.compile(loss='binary_crossentropy', optimizer='adam', metrics=['accuracy'])\n",
        "    \n",
        "    # make sure history object is returned by model.fit()\n",
        "    out = model.fit(x=x, \n",
        "                    y=y,\n",
        "                    validation_data=[x_val, y_val],\n",
        "                    epochs=100,\n",
        "                    batch_size=params['batch_size'],\n",
        "                    verbose=0)\n",
        "    \n",
        "    # modify the output model\n",
        "    return out, model"
      ],
      "execution_count": 0,
      "outputs": []
    },
    {
      "cell_type": "code",
      "metadata": {
        "id": "yUtwmWSqq77A",
        "colab_type": "code",
        "colab": {
          "base_uri": "https://localhost:8080/",
          "height": 1000
        },
        "outputId": "2a2ac623-d1f4-4dfb-8508-fc509089cca2"
      },
      "source": [
        "import talos\n",
        "t = talos.Scan(x=x, y=y, params=p, model=diabetes, experiment_name='diabetes')"
      ],
      "execution_count": 62,
      "outputs": [
        {
          "output_type": "stream",
          "text": [
            "\n",
            "\n",
            "\n",
            "  0%|          | 0/18 [00:00<?, ?it/s]\u001b[A\u001b[A\u001b[A"
          ],
          "name": "stderr"
        },
        {
          "output_type": "stream",
          "text": [
            "WARNING:tensorflow:From /usr/local/lib/python3.6/dist-packages/tensorflow/python/ops/nn_impl.py:180: add_dispatch_support.<locals>.wrapper (from tensorflow.python.ops.array_ops) is deprecated and will be removed in a future version.\n",
            "Instructions for updating:\n",
            "Use tf.where in 2.0, which has the same broadcast rule as np.where\n",
            "WARNING:tensorflow:From /usr/local/lib/python3.6/dist-packages/keras/backend/tensorflow_backend.py:422: The name tf.global_variables is deprecated. Please use tf.compat.v1.global_variables instead.\n",
            "\n"
          ],
          "name": "stdout"
        },
        {
          "output_type": "stream",
          "text": [
            "\n",
            "\n",
            "\n",
            "  6%|▌         | 1/18 [00:10<02:50, 10.02s/it]\u001b[A\u001b[A\u001b[A\n",
            "\n",
            "\n",
            " 11%|█         | 2/18 [00:19<02:40, 10.00s/it]\u001b[A\u001b[A\u001b[A\n",
            "\n",
            "\n",
            " 17%|█▋        | 3/18 [00:30<02:30, 10.02s/it]\u001b[A\u001b[A\u001b[A\n",
            "\n",
            "\n",
            " 22%|██▏       | 4/18 [00:35<02:01,  8.68s/it]\u001b[A\u001b[A\u001b[A\n",
            "\n",
            "\n",
            " 28%|██▊       | 5/18 [00:41<01:40,  7.73s/it]\u001b[A\u001b[A\u001b[A\n",
            "\n",
            "\n",
            " 33%|███▎      | 6/18 [00:46<01:24,  7.08s/it]\u001b[A\u001b[A\u001b[A\n",
            "\n",
            "\n",
            " 39%|███▉      | 7/18 [00:50<01:07,  6.14s/it]\u001b[A\u001b[A\u001b[A\n",
            "\n",
            "\n",
            " 44%|████▍     | 8/18 [00:54<00:55,  5.55s/it]\u001b[A\u001b[A\u001b[A\n",
            "\n",
            "\n",
            " 50%|█████     | 9/18 [00:58<00:46,  5.11s/it]\u001b[A\u001b[A\u001b[A\n",
            "\n",
            "\n",
            " 56%|█████▌    | 10/18 [01:08<00:52,  6.59s/it]\u001b[A\u001b[A\u001b[A\n",
            "\n",
            "\n",
            " 61%|██████    | 11/18 [01:19<00:53,  7.64s/it]\u001b[A\u001b[A\u001b[A\n",
            "\n",
            "\n",
            " 67%|██████▋   | 12/18 [01:29<00:50,  8.41s/it]\u001b[A\u001b[A\u001b[A\n",
            "\n",
            "\n",
            " 72%|███████▏  | 13/18 [01:34<00:37,  7.59s/it]\u001b[A\u001b[A\u001b[A\n",
            "\n",
            "\n",
            " 78%|███████▊  | 14/18 [01:40<00:27,  7.00s/it]\u001b[A\u001b[A\u001b[A\n",
            "\n",
            "\n",
            " 83%|████████▎ | 15/18 [01:46<00:19,  6.60s/it]\u001b[A\u001b[A\u001b[A\n",
            "\n",
            "\n",
            " 89%|████████▉ | 16/18 [01:50<00:11,  5.82s/it]\u001b[A\u001b[A\u001b[A\n",
            "\n",
            "\n",
            " 94%|█████████▍| 17/18 [01:54<00:05,  5.27s/it]\u001b[A\u001b[A\u001b[A\n",
            "\n",
            "\n",
            "100%|██████████| 18/18 [01:58<00:00,  4.92s/it]\u001b[A\u001b[A\u001b[A\n",
            "\n",
            "\n",
            "\u001b[A\u001b[A\u001b[A"
          ],
          "name": "stderr"
        }
      ]
    },
    {
      "cell_type": "code",
      "metadata": {
        "id": "3_Rb9bWfrsOH",
        "colab_type": "code",
        "colab": {
          "base_uri": "https://localhost:8080/",
          "height": 34
        },
        "outputId": "c0786a7e-26db-47a0-fd77-4acd5f3d1ac7"
      },
      "source": [
        "t"
      ],
      "execution_count": 63,
      "outputs": [
        {
          "output_type": "execute_result",
          "data": {
            "text/plain": [
              "<talos.scan.Scan.Scan at 0x7f52d9b07748>"
            ]
          },
          "metadata": {
            "tags": []
          },
          "execution_count": 63
        }
      ]
    }
  ]
}