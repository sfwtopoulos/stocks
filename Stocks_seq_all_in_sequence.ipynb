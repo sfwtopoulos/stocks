{
  "nbformat": 4,
  "nbformat_minor": 0,
  "metadata": {
    "colab": {
      "name": "Stocks_seq_1st.ipynb",
      "provenance": [],
      "collapsed_sections": [],
      "include_colab_link": true
    },
    "kernelspec": {
      "name": "python3",
      "display_name": "Python 3"
    }
  },
  "cells": [
    {
      "cell_type": "markdown",
      "metadata": {
        "id": "view-in-github",
        "colab_type": "text"
      },
      "source": [
        "<a href=\"https://colab.research.google.com/github/sfwtopoulos/stocks/blob/master/Stocks_seq_all_in_sequence.ipynb\" target=\"_parent\"><img src=\"https://colab.research.google.com/assets/colab-badge.svg\" alt=\"Open In Colab\"/></a>"
      ]
    },
    {
      "cell_type": "code",
      "metadata": {
        "id": "IHoF0v0IorKz",
        "colab_type": "code",
        "outputId": "8e6e3820-d127-4999-cb11-eca1b8fbb159",
        "colab": {
          "base_uri": "https://localhost:8080/",
          "height": 221
        }
      },
      "source": [
        "pip install -q talos"
      ],
      "execution_count": 1,
      "outputs": [
        {
          "output_type": "stream",
          "text": [
            "\u001b[K     |████████████████████████████████| 61kB 2.9MB/s \n",
            "\u001b[K     |████████████████████████████████| 8.7MB 11.7MB/s \n",
            "\u001b[K     |████████████████████████████████| 109.2MB 57kB/s \n",
            "\u001b[K     |████████████████████████████████| 378kB 43.1MB/s \n",
            "\u001b[K     |████████████████████████████████| 3.2MB 44.0MB/s \n",
            "\u001b[K     |████████████████████████████████| 491kB 49.3MB/s \n",
            "\u001b[K     |████████████████████████████████| 839kB 45.2MB/s \n",
            "\u001b[?25h  Building wheel for chances (setup.py) ... \u001b[?25l\u001b[?25hdone\n",
            "  Building wheel for wrangle (setup.py) ... \u001b[?25l\u001b[?25hdone\n",
            "  Building wheel for astetik (setup.py) ... \u001b[?25l\u001b[?25hdone\n",
            "  Building wheel for kerasplotlib (setup.py) ... \u001b[?25l\u001b[?25hdone\n",
            "\u001b[31mERROR: wrangle 0.6.7 has requirement scipy==1.2, but you'll have scipy 1.4.1 which is incompatible.\u001b[0m\n"
          ],
          "name": "stdout"
        }
      ]
    },
    {
      "cell_type": "code",
      "metadata": {
        "id": "wJZRdo7B2sVO",
        "colab_type": "code",
        "outputId": "37863080-bc9e-4e9d-c5cc-46f143cd96b1",
        "colab": {
          "base_uri": "https://localhost:8080/",
          "height": 34
        }
      },
      "source": [
        "pip install -q wget"
      ],
      "execution_count": 2,
      "outputs": [
        {
          "output_type": "stream",
          "text": [
            "  Building wheel for wget (setup.py) ... \u001b[?25l\u001b[?25hdone\n"
          ],
          "name": "stdout"
        }
      ]
    },
    {
      "cell_type": "code",
      "metadata": {
        "id": "DOmxraS5T1wD",
        "colab_type": "code",
        "outputId": "6e6a4a8e-cbf3-4d87-d50c-67a70ace21d1",
        "colab": {
          "base_uri": "https://localhost:8080/",
          "height": 105
        }
      },
      "source": [
        "import pandas as pd\n",
        "import matplotlib.pyplot as plt\n",
        "import pandas as pd\n",
        "import math\n",
        "import warnings\n",
        "import numpy as np\n",
        "import time\n",
        "import sys\n",
        "\n",
        "import pandas_datareader as pdr\n",
        "#%tensorflow_version 2.x\n",
        "# Restart runtime using 'Runtime' -> 'Restart runtime...'\n",
        "%tensorflow_version 1.x\n",
        "import tensorflow as tf\n",
        "import keras\n",
        "\n",
        "\n",
        "# from keras.layers import LSTM\n",
        "# from keras.models import Sequential\n",
        "# from keras.layers.wrappers import TimeDistributed\n",
        "# from keras.layers.wrappers import TimeDistributed\n",
        "# from keras.layers.core import Dense, Activation, Dropout\n",
        "# from keras.preprocessing.sequence import pad_sequences\n",
        "\n",
        "from tensorflow.python.keras.layers import Dense, Activation, Dropout, Input\n",
        "from tensorflow.python.keras.models import Sequential\n",
        "from tensorflow.python.keras.layers import LSTM\n",
        "from tensorflow.python.keras.layers.wrappers import TimeDistributed\n",
        "from tensorflow.python.keras.layers.wrappers import TimeDistributed\n",
        "from tensorflow.python.keras.preprocessing.sequence import pad_sequences\n",
        "\n",
        "\n",
        "from sklearn.preprocessing import MinMaxScaler\n",
        "from sklearn.metrics import mean_squared_error\n",
        "import seaborn as sns\n",
        "import matplotlib.pyplot as plt\n",
        "\n",
        "import os\n",
        "import wget\n",
        "from zipfile import ZipFile\n",
        "\n",
        "warnings.filterwarnings('ignore',category=FutureWarning)\n",
        "warnings.filterwarnings('ignore', category=DeprecationWarning)"
      ],
      "execution_count": 3,
      "outputs": [
        {
          "output_type": "stream",
          "text": [
            "/usr/local/lib/python3.6/dist-packages/pandas_datareader/compat/__init__.py:7: FutureWarning: pandas.util.testing is deprecated. Use the functions in the public API at pandas.testing instead.\n",
            "  from pandas.util.testing import assert_frame_equal\n"
          ],
          "name": "stderr"
        },
        {
          "output_type": "stream",
          "text": [
            "TensorFlow 1.x selected.\n"
          ],
          "name": "stdout"
        },
        {
          "output_type": "stream",
          "text": [
            "Using TensorFlow backend.\n"
          ],
          "name": "stderr"
        }
      ]
    },
    {
      "cell_type": "code",
      "metadata": {
        "id": "evxNkZl6rxjd",
        "colab_type": "code",
        "colab": {}
      },
      "source": [
        "# from keras.optimizers import Adam, Nadam\n",
        "# from keras.activations import softmax\n",
        "# from keras.losses import categorical_crossentropy, logcosh\n",
        "# from talos.utils import lr_normalizer\n",
        "import talos\n",
        "from tensorflow.python.keras.optimizers import Adam, Nadam\n",
        "from tensorflow.python.keras.activations import softmax\n",
        "from tensorflow.python.keras.losses import categorical_crossentropy, logcosh\n",
        "from talos.utils import lr_normalizer"
      ],
      "execution_count": 0,
      "outputs": []
    },
    {
      "cell_type": "code",
      "metadata": {
        "id": "2byEjZdZVJrz",
        "colab_type": "code",
        "outputId": "484c7cc3-c0e5-4f60-8f7b-7707095a2a3b",
        "colab": {
          "base_uri": "https://localhost:8080/",
          "height": 51
        }
      },
      "source": [
        "print(keras.__version__)\n",
        "print(tf.__version__)\n",
        "#print(tensorflow.compat.v2.__version__)"
      ],
      "execution_count": 5,
      "outputs": [
        {
          "output_type": "stream",
          "text": [
            "2.3.0\n",
            "1.15.2\n"
          ],
          "name": "stdout"
        }
      ]
    },
    {
      "cell_type": "code",
      "metadata": {
        "id": "ZipWk2LaoCCv",
        "colab_type": "code",
        "colab": {}
      },
      "source": [
        "#Flags Settings\n",
        "large=True;\n",
        "talos=False;\n",
        "mounted = False;\n",
        "load_from_checkpoint=False;"
      ],
      "execution_count": 0,
      "outputs": []
    },
    {
      "cell_type": "code",
      "metadata": {
        "id": "tVJdUlQJUDjY",
        "colab_type": "code",
        "outputId": "b5b0b507-1722-434e-f91a-128b52596ed5",
        "colab": {
          "base_uri": "https://localhost:8080/",
          "height": 51
        }
      },
      "source": [
        "#Flag to select the small or the large dataset from the git repo\n",
        "if not large:\n",
        "  #Small Dataset\n",
        "  #Data import from git repo\n",
        "  print(\"Small Dataset Loading\")\n",
        "  url = 'https://raw.githubusercontent.com/sfwtopoulos/stocks/master/stocks_dataset/combined.csv'\n",
        "  #df1 = pd.read_csv(url, error_bad_lines=False)\n",
        "  dfstocks = pd.read_csv(url, sep=',')\n",
        "  dfstocks=dfstocks.rename({' AAPL':'Company', ' Close/Last':'Close', ' Volume':'Volume', ' Open':'Open', ' High':'High', ' Low':'Low'}, axis=1);\n",
        "else:\n",
        "  #Large Dataset\n",
        "  print(\"Large Dataset Loading\")\n",
        "  url = 'https://raw.githubusercontent.com/sfwtopoulos/stocks/master/stocks_dataset/combined_large.zip'\n",
        "  wget.download(url, '.')\n",
        "  # Create a ZipFile Object and load sample.zip in it\n",
        "  with ZipFile('combined_large.zip', 'r') as zipObj:\n",
        "    # Extract all the contents of zip file in current directory\n",
        "    zipObj.extractall()\n",
        "  print(os.listdir(\".\"))\n",
        "  dfstocks = pd.read_csv('combined_large.csv', sep=',') \n",
        "  dfstocks=dfstocks[~dfstocks.Date.str.contains(\"nan\")]\n",
        "  dfstocks=dfstocks[~dfstocks.Date.str.contains(\"Low\")]\n",
        "  dfstocks=dfstocks[~dfstocks.Date.str.contains(\"N/A\")]\n",
        "  dfstocks=dfstocks[~dfstocks.Date.str.contains(\"date\")]\n",
        "  dfstocks.Date=pd.to_datetime(dfstocks.Date)\n",
        "  # dfstocks['Date'] = dfstocks['Date'].dt.strftime('%Y-%m-%d')\n",
        "  dfstocks['Date'] = dfstocks['Date'].dt.strftime('%d-%m-%Y')\n",
        "  dfstocks=dfstocks.rename({' AA':'Company', ' Close/Last':'Close', ' Volume':'Volume', ' Open':'Open', ' High':'High', ' Low':'Low'}, axis=1);"
      ],
      "execution_count": 7,
      "outputs": [
        {
          "output_type": "stream",
          "text": [
            "Large Dataset Loading\n",
            "['.config', 'combined_large.csv', 'combined_large.zip', 'sample_data']\n"
          ],
          "name": "stdout"
        }
      ]
    },
    {
      "cell_type": "code",
      "metadata": {
        "id": "_sXTibBmBlCP",
        "colab_type": "code",
        "outputId": "a9feb820-5660-4c49-a260-11318b3ff2b3",
        "colab": {
          "base_uri": "https://localhost:8080/",
          "height": 153
        }
      },
      "source": [
        "type(dfstocks['Date'])\n",
        "dfstocks.dtypes"
      ],
      "execution_count": 8,
      "outputs": [
        {
          "output_type": "execute_result",
          "data": {
            "text/plain": [
              "Date       object\n",
              "Close      object\n",
              "Volume     object\n",
              "Open       object\n",
              "High       object\n",
              "Low        object\n",
              "Company    object\n",
              "dtype: object"
            ]
          },
          "metadata": {
            "tags": []
          },
          "execution_count": 8
        }
      ]
    },
    {
      "cell_type": "code",
      "metadata": {
        "id": "A_EUqCQSK4eO",
        "colab_type": "code",
        "outputId": "77b482d5-5015-4604-b1ce-946776ae1c50",
        "colab": {
          "base_uri": "https://localhost:8080/",
          "height": 136
        }
      },
      "source": [
        "for col in dfstocks.columns: \n",
        "    print(col) "
      ],
      "execution_count": 9,
      "outputs": [
        {
          "output_type": "stream",
          "text": [
            "Date\n",
            "Close\n",
            "Volume\n",
            "Open\n",
            "High\n",
            "Low\n",
            "Company\n"
          ],
          "name": "stdout"
        }
      ]
    },
    {
      "cell_type": "code",
      "metadata": {
        "id": "pulr20aF6Skd",
        "colab_type": "code",
        "outputId": "4e6325de-3f09-4529-ea8c-170f872bbde2",
        "colab": {
          "base_uri": "https://localhost:8080/",
          "height": 419
        }
      },
      "source": [
        "dfstocks"
      ],
      "execution_count": 10,
      "outputs": [
        {
          "output_type": "execute_result",
          "data": {
            "text/html": [
              "<div>\n",
              "<style scoped>\n",
              "    .dataframe tbody tr th:only-of-type {\n",
              "        vertical-align: middle;\n",
              "    }\n",
              "\n",
              "    .dataframe tbody tr th {\n",
              "        vertical-align: top;\n",
              "    }\n",
              "\n",
              "    .dataframe thead th {\n",
              "        text-align: right;\n",
              "    }\n",
              "</style>\n",
              "<table border=\"1\" class=\"dataframe\">\n",
              "  <thead>\n",
              "    <tr style=\"text-align: right;\">\n",
              "      <th></th>\n",
              "      <th>Date</th>\n",
              "      <th>Close</th>\n",
              "      <th>Volume</th>\n",
              "      <th>Open</th>\n",
              "      <th>High</th>\n",
              "      <th>Low</th>\n",
              "      <th>Company</th>\n",
              "    </tr>\n",
              "  </thead>\n",
              "  <tbody>\n",
              "    <tr>\n",
              "      <th>0</th>\n",
              "      <td>11-02-2018</td>\n",
              "      <td>36.93000031</td>\n",
              "      <td>2681700</td>\n",
              "      <td>37</td>\n",
              "      <td>37.68999863</td>\n",
              "      <td>36.40999985</td>\n",
              "      <td>AA</td>\n",
              "    </tr>\n",
              "    <tr>\n",
              "      <th>1</th>\n",
              "      <td>11-01-2018</td>\n",
              "      <td>36.77999878</td>\n",
              "      <td>2756200</td>\n",
              "      <td>35.43999863</td>\n",
              "      <td>36.88000107</td>\n",
              "      <td>35.24000168</td>\n",
              "      <td>AA</td>\n",
              "    </tr>\n",
              "    <tr>\n",
              "      <th>2</th>\n",
              "      <td>31-10-2018</td>\n",
              "      <td>34.99000168</td>\n",
              "      <td>3380700</td>\n",
              "      <td>34.81999969</td>\n",
              "      <td>35.82099915</td>\n",
              "      <td>34.59999847</td>\n",
              "      <td>AA</td>\n",
              "    </tr>\n",
              "    <tr>\n",
              "      <th>3</th>\n",
              "      <td>30-10-2018</td>\n",
              "      <td>34.15000153</td>\n",
              "      <td>2193400</td>\n",
              "      <td>33.65000153</td>\n",
              "      <td>34.47999954</td>\n",
              "      <td>33.4129982</td>\n",
              "      <td>AA</td>\n",
              "    </tr>\n",
              "    <tr>\n",
              "      <th>4</th>\n",
              "      <td>29-10-2018</td>\n",
              "      <td>33.81999969</td>\n",
              "      <td>2219600</td>\n",
              "      <td>34.59999847</td>\n",
              "      <td>35.11999893</td>\n",
              "      <td>33.40000153</td>\n",
              "      <td>AA</td>\n",
              "    </tr>\n",
              "    <tr>\n",
              "      <th>...</th>\n",
              "      <td>...</td>\n",
              "      <td>...</td>\n",
              "      <td>...</td>\n",
              "      <td>...</td>\n",
              "      <td>...</td>\n",
              "      <td>...</td>\n",
              "      <td>...</td>\n",
              "    </tr>\n",
              "    <tr>\n",
              "      <th>304988</th>\n",
              "      <td>05-09-1973</td>\n",
              "      <td>0.469444454</td>\n",
              "      <td>79200</td>\n",
              "      <td>0.469444454</td>\n",
              "      <td>0.48888889</td>\n",
              "      <td>0.469444454</td>\n",
              "      <td>USB</td>\n",
              "    </tr>\n",
              "    <tr>\n",
              "      <th>304989</th>\n",
              "      <td>05-08-1973</td>\n",
              "      <td>0.469444454</td>\n",
              "      <td>90000</td>\n",
              "      <td>0.469444454</td>\n",
              "      <td>0.480555564</td>\n",
              "      <td>0.469444454</td>\n",
              "      <td>USB</td>\n",
              "    </tr>\n",
              "    <tr>\n",
              "      <th>304990</th>\n",
              "      <td>05-07-1973</td>\n",
              "      <td>0.461111099</td>\n",
              "      <td>43200</td>\n",
              "      <td>0.469444454</td>\n",
              "      <td>0.480555564</td>\n",
              "      <td>0.461111099</td>\n",
              "      <td>USB</td>\n",
              "    </tr>\n",
              "    <tr>\n",
              "      <th>304991</th>\n",
              "      <td>05-04-1973</td>\n",
              "      <td>0.469444454</td>\n",
              "      <td>10800</td>\n",
              "      <td>0.469444454</td>\n",
              "      <td>0.480555564</td>\n",
              "      <td>0.469444454</td>\n",
              "      <td>USB</td>\n",
              "    </tr>\n",
              "    <tr>\n",
              "      <th>304992</th>\n",
              "      <td>05-03-1973</td>\n",
              "      <td>0.461111099</td>\n",
              "      <td>7200</td>\n",
              "      <td>0.461111099</td>\n",
              "      <td>0.480555564</td>\n",
              "      <td>0.461111099</td>\n",
              "      <td>USB</td>\n",
              "    </tr>\n",
              "  </tbody>\n",
              "</table>\n",
              "<p>304968 rows × 7 columns</p>\n",
              "</div>"
            ],
            "text/plain": [
              "              Date        Close   Volume  ...         High          Low Company\n",
              "0       11-02-2018  36.93000031  2681700  ...  37.68999863  36.40999985      AA\n",
              "1       11-01-2018  36.77999878  2756200  ...  36.88000107  35.24000168      AA\n",
              "2       31-10-2018  34.99000168  3380700  ...  35.82099915  34.59999847      AA\n",
              "3       30-10-2018  34.15000153  2193400  ...  34.47999954   33.4129982      AA\n",
              "4       29-10-2018  33.81999969  2219600  ...  35.11999893  33.40000153      AA\n",
              "...            ...          ...      ...  ...          ...          ...     ...\n",
              "304988  05-09-1973  0.469444454    79200  ...   0.48888889  0.469444454     USB\n",
              "304989  05-08-1973  0.469444454    90000  ...  0.480555564  0.469444454     USB\n",
              "304990  05-07-1973  0.461111099    43200  ...  0.480555564  0.461111099     USB\n",
              "304991  05-04-1973  0.469444454    10800  ...  0.480555564  0.469444454     USB\n",
              "304992  05-03-1973  0.461111099     7200  ...  0.480555564  0.461111099     USB\n",
              "\n",
              "[304968 rows x 7 columns]"
            ]
          },
          "metadata": {
            "tags": []
          },
          "execution_count": 10
        }
      ]
    },
    {
      "cell_type": "code",
      "metadata": {
        "id": "vlSTPXYHUHSB",
        "colab_type": "code",
        "colab": {}
      },
      "source": [
        "#drop $sign from values\n",
        "dfstocks.Close=dfstocks['Close'].astype(str)\n",
        "dfstocks.Close=dfstocks.Close.apply(lambda x: x.replace('$',''))\n",
        "dfstocks.Open=dfstocks['Open'].astype(str)\n",
        "dfstocks.Open=dfstocks.Open.apply(lambda x: x.replace('$',''))\n",
        "dfstocks.High=dfstocks['High'].astype(str)\n",
        "dfstocks.High=dfstocks.High.apply(lambda x: x.replace('$',''))\n",
        "dfstocks.Low=dfstocks['Low'].astype(str)\n",
        "dfstocks.Low=dfstocks.Low.apply(lambda x: x.replace('$',''))"
      ],
      "execution_count": 0,
      "outputs": []
    },
    {
      "cell_type": "code",
      "metadata": {
        "id": "F4cxCV_YUJGa",
        "colab_type": "code",
        "outputId": "fbaf27ed-0568-4450-a1c3-9a0dd0b4af71",
        "colab": {
          "base_uri": "https://localhost:8080/",
          "height": 34
        }
      },
      "source": [
        "#drop rows containing nan or header from the csv files\n",
        "dfstocks=dfstocks[~dfstocks.Low.str.contains(\"nan\")]\n",
        "dfstocks=dfstocks[~dfstocks.Low.str.contains(\"Low\")]\n",
        "dfstocks=dfstocks[~dfstocks.Low.str.contains(\"N/A\")]\n",
        "dfstocks=dfstocks[~dfstocks.Volume.str.contains(\"N/A\")]\n",
        "dfstocks.reset_index(drop=True, inplace=True)\n",
        "dfstocks.Date.count()"
      ],
      "execution_count": 12,
      "outputs": [
        {
          "output_type": "execute_result",
          "data": {
            "text/plain": [
              "304968"
            ]
          },
          "metadata": {
            "tags": []
          },
          "execution_count": 12
        }
      ]
    },
    {
      "cell_type": "code",
      "metadata": {
        "id": "te4JUA9lUL06",
        "colab_type": "code",
        "outputId": "e5823f4f-b36d-468c-beac-d55294a1ee0c",
        "colab": {
          "base_uri": "https://localhost:8080/",
          "height": 419
        }
      },
      "source": [
        "#sort dataframe based on date and Company Name\n",
        "dfstocks = dfstocks.sort_values(['Date', 'Company'])\n",
        "dfstocks.head(100)"
      ],
      "execution_count": 13,
      "outputs": [
        {
          "output_type": "execute_result",
          "data": {
            "text/html": [
              "<div>\n",
              "<style scoped>\n",
              "    .dataframe tbody tr th:only-of-type {\n",
              "        vertical-align: middle;\n",
              "    }\n",
              "\n",
              "    .dataframe tbody tr th {\n",
              "        vertical-align: top;\n",
              "    }\n",
              "\n",
              "    .dataframe thead th {\n",
              "        text-align: right;\n",
              "    }\n",
              "</style>\n",
              "<table border=\"1\" class=\"dataframe\">\n",
              "  <thead>\n",
              "    <tr style=\"text-align: right;\">\n",
              "      <th></th>\n",
              "      <th>Date</th>\n",
              "      <th>Close</th>\n",
              "      <th>Volume</th>\n",
              "      <th>Open</th>\n",
              "      <th>High</th>\n",
              "      <th>Low</th>\n",
              "      <th>Company</th>\n",
              "    </tr>\n",
              "  </thead>\n",
              "  <tbody>\n",
              "    <tr>\n",
              "      <th>12322</th>\n",
              "      <td>01-02-1970</td>\n",
              "      <td>7.140914917</td>\n",
              "      <td>22500</td>\n",
              "      <td>7.140914917</td>\n",
              "      <td>7.225019932</td>\n",
              "      <td>7.140914917</td>\n",
              "      <td>AA</td>\n",
              "    </tr>\n",
              "    <tr>\n",
              "      <th>34201</th>\n",
              "      <td>01-02-1970</td>\n",
              "      <td>6.699775219</td>\n",
              "      <td>24100</td>\n",
              "      <td>6.699775219</td>\n",
              "      <td>6.770052433</td>\n",
              "      <td>6.699775219</td>\n",
              "      <td>ARNC</td>\n",
              "    </tr>\n",
              "    <tr>\n",
              "      <th>81427</th>\n",
              "      <td>01-02-1970</td>\n",
              "      <td>11.16975021</td>\n",
              "      <td>24400</td>\n",
              "      <td>11.0994997</td>\n",
              "      <td>11.20487499</td>\n",
              "      <td>10.99412537</td>\n",
              "      <td>CNP</td>\n",
              "    </tr>\n",
              "    <tr>\n",
              "      <th>93750</th>\n",
              "      <td>01-02-1970</td>\n",
              "      <td>0.683144331</td>\n",
              "      <td>1109700</td>\n",
              "      <td>0.688280761</td>\n",
              "      <td>0.689564824</td>\n",
              "      <td>0.683144331</td>\n",
              "      <td>DIS</td>\n",
              "    </tr>\n",
              "    <tr>\n",
              "      <th>141129</th>\n",
              "      <td>01-02-1970</td>\n",
              "      <td>0.798177063</td>\n",
              "      <td>2227200</td>\n",
              "      <td>0.807291687</td>\n",
              "      <td>0.80859375</td>\n",
              "      <td>0.796875</td>\n",
              "      <td>GE</td>\n",
              "    </tr>\n",
              "    <tr>\n",
              "      <th>...</th>\n",
              "      <td>...</td>\n",
              "      <td>...</td>\n",
              "      <td>...</td>\n",
              "      <td>...</td>\n",
              "      <td>...</td>\n",
              "      <td>...</td>\n",
              "      <td>...</td>\n",
              "    </tr>\n",
              "    <tr>\n",
              "      <th>212939</th>\n",
              "      <td>01-02-1976</td>\n",
              "      <td>1.448489547</td>\n",
              "      <td>21200</td>\n",
              "      <td>1.448489547</td>\n",
              "      <td>1.498437524</td>\n",
              "      <td>1.448489547</td>\n",
              "      <td>MATX</td>\n",
              "    </tr>\n",
              "    <tr>\n",
              "      <th>224420</th>\n",
              "      <td>01-02-1976</td>\n",
              "      <td>1.114583373</td>\n",
              "      <td>1108800</td>\n",
              "      <td>1.104166627</td>\n",
              "      <td>1.114583373</td>\n",
              "      <td>1.104166627</td>\n",
              "      <td>MO</td>\n",
              "    </tr>\n",
              "    <tr>\n",
              "      <th>236743</th>\n",
              "      <td>01-02-1976</td>\n",
              "      <td>1.934027791</td>\n",
              "      <td>680400</td>\n",
              "      <td>1.923611164</td>\n",
              "      <td>1.9375</td>\n",
              "      <td>1.916666627</td>\n",
              "      <td>MRK</td>\n",
              "    </tr>\n",
              "    <tr>\n",
              "      <th>249066</th>\n",
              "      <td>01-02-1976</td>\n",
              "      <td>10.83227444</td>\n",
              "      <td>81100</td>\n",
              "      <td>10.77013874</td>\n",
              "      <td>10.83227444</td>\n",
              "      <td>10.77013874</td>\n",
              "      <td>MRO</td>\n",
              "    </tr>\n",
              "    <tr>\n",
              "      <th>269620</th>\n",
              "      <td>01-02-1976</td>\n",
              "      <td>0.475710779</td>\n",
              "      <td>16600</td>\n",
              "      <td>0.475710779</td>\n",
              "      <td>0.545668244</td>\n",
              "      <td>0.475710779</td>\n",
              "      <td>PNR</td>\n",
              "    </tr>\n",
              "  </tbody>\n",
              "</table>\n",
              "<p>100 rows × 7 columns</p>\n",
              "</div>"
            ],
            "text/plain": [
              "              Date        Close   Volume  ...         High          Low Company\n",
              "12322   01-02-1970  7.140914917    22500  ...  7.225019932  7.140914917      AA\n",
              "34201   01-02-1970  6.699775219    24100  ...  6.770052433  6.699775219    ARNC\n",
              "81427   01-02-1970  11.16975021    24400  ...  11.20487499  10.99412537     CNP\n",
              "93750   01-02-1970  0.683144331  1109700  ...  0.689564824  0.683144331     DIS\n",
              "141129  01-02-1970  0.798177063  2227200  ...   0.80859375     0.796875      GE\n",
              "...            ...          ...      ...  ...          ...          ...     ...\n",
              "212939  01-02-1976  1.448489547    21200  ...  1.498437524  1.448489547    MATX\n",
              "224420  01-02-1976  1.114583373  1108800  ...  1.114583373  1.104166627      MO\n",
              "236743  01-02-1976  1.934027791   680400  ...       1.9375  1.916666627     MRK\n",
              "249066  01-02-1976  10.83227444    81100  ...  10.83227444  10.77013874     MRO\n",
              "269620  01-02-1976  0.475710779    16600  ...  0.545668244  0.475710779     PNR\n",
              "\n",
              "[100 rows x 7 columns]"
            ]
          },
          "metadata": {
            "tags": []
          },
          "execution_count": 13
        }
      ]
    },
    {
      "cell_type": "code",
      "metadata": {
        "id": "SvGv9U_NHZcv",
        "colab_type": "code",
        "outputId": "c9132e8f-d8ff-49a8-db99-800b403504e9",
        "colab": {
          "base_uri": "https://localhost:8080/",
          "height": 153
        }
      },
      "source": [
        "#Converting Datatypes\n",
        "dfstocks.Date=pd.to_datetime(dfstocks.Date)\n",
        "dfstocks.Close=pd.to_numeric(dfstocks.Close)\n",
        "dfstocks.Volume=pd.to_numeric(dfstocks.Volume)\n",
        "dfstocks.Open=pd.to_numeric(dfstocks.Open)\n",
        "dfstocks.High=pd.to_numeric(dfstocks.High)\n",
        "dfstocks.Low=pd.to_numeric(dfstocks.Low)\n",
        "dfstocks.dtypes"
      ],
      "execution_count": 14,
      "outputs": [
        {
          "output_type": "execute_result",
          "data": {
            "text/plain": [
              "Date       datetime64[ns]\n",
              "Close             float64\n",
              "Volume              int64\n",
              "Open              float64\n",
              "High              float64\n",
              "Low               float64\n",
              "Company            object\n",
              "dtype: object"
            ]
          },
          "metadata": {
            "tags": []
          },
          "execution_count": 14
        }
      ]
    },
    {
      "cell_type": "code",
      "metadata": {
        "id": "cQYEtsIgr1L2",
        "colab_type": "code",
        "outputId": "167f94c5-90b9-4dee-c1e1-bb13b86d6f23",
        "colab": {
          "base_uri": "https://localhost:8080/",
          "height": 85
        }
      },
      "source": [
        "dfstocks.Company.unique()"
      ],
      "execution_count": 15,
      "outputs": [
        {
          "output_type": "execute_result",
          "data": {
            "text/plain": [
              "array([' AA', ' ARNC', ' CNP', ' DIS', ' GE', ' HON', ' HPQ', ' IBM',\n",
              "       ' IP', ' MO', ' MRK', ' MRO', ' AXP', ' BMY', ' DXC', ' ETN', ' F',\n",
              "       ' HAL', ' TXN', ' BK', ' MATX', ' PNR', ' SPA', ' USB', ' AAPL',\n",
              "       ' MSFT'], dtype=object)"
            ]
          },
          "metadata": {
            "tags": []
          },
          "execution_count": 15
        }
      ]
    },
    {
      "cell_type": "code",
      "metadata": {
        "id": "tEBOZGfQNR6Y",
        "colab_type": "code",
        "colab": {}
      },
      "source": [
        "#Company Chosen\n",
        "comp=\"IBM\""
      ],
      "execution_count": 0,
      "outputs": []
    },
    {
      "cell_type": "code",
      "metadata": {
        "id": "rsD9-1pONB6V",
        "colab_type": "code",
        "outputId": "06aae726-6eda-48e8-b9bf-222c8cd82301",
        "colab": {
          "base_uri": "https://localhost:8080/",
          "height": 34
        }
      },
      "source": [
        "#dfstocks[dfstocks['Company'].str.contains(\"AMZN\")]\n",
        "sub_split=dfstocks[dfstocks['Company'].str.contains(comp)]\n",
        "sub_split.isnull().values.any()\n",
        "sub_split.isna().values.any()\n",
        "sub_split = sub_split.sort_values(['Date'])\n",
        "sub_split.reset_index(drop=True, inplace=True)\n",
        "sub_split.shape[0]"
      ],
      "execution_count": 193,
      "outputs": [
        {
          "output_type": "execute_result",
          "data": {
            "text/plain": [
              "12323"
            ]
          },
          "metadata": {
            "tags": []
          },
          "execution_count": 193
        }
      ]
    },
    {
      "cell_type": "code",
      "metadata": {
        "id": "8sOQDo9iM_Fb",
        "colab_type": "code",
        "colab": {}
      },
      "source": [
        "#Run only if you want to have a subset hidden from talos\n",
        "#hidden split for validation\n",
        "if talos:\n",
        "  hidden_split=sub_split[(sub_split['Date'].dt.year==2018) | (sub_split['Date'].dt.year==2017) | (sub_split['Date'].dt.year==2016)]\n",
        "\n",
        "  #drop hidden_split from sub_split \n",
        "  sub_split=sub_split[sub_split['Date'].dt.year < 2016]\n",
        "  hidden_split"
      ],
      "execution_count": 0,
      "outputs": []
    },
    {
      "cell_type": "code",
      "metadata": {
        "id": "te-gSnYPU0wX",
        "colab_type": "code",
        "outputId": "f11b4b70-7792-4f93-a231-941e2b029168",
        "colab": {
          "base_uri": "https://localhost:8080/",
          "height": 419
        }
      },
      "source": [
        "sub_split"
      ],
      "execution_count": 195,
      "outputs": [
        {
          "output_type": "execute_result",
          "data": {
            "text/html": [
              "<div>\n",
              "<style scoped>\n",
              "    .dataframe tbody tr th:only-of-type {\n",
              "        vertical-align: middle;\n",
              "    }\n",
              "\n",
              "    .dataframe tbody tr th {\n",
              "        vertical-align: top;\n",
              "    }\n",
              "\n",
              "    .dataframe thead th {\n",
              "        text-align: right;\n",
              "    }\n",
              "</style>\n",
              "<table border=\"1\" class=\"dataframe\">\n",
              "  <thead>\n",
              "    <tr style=\"text-align: right;\">\n",
              "      <th></th>\n",
              "      <th>Date</th>\n",
              "      <th>Close</th>\n",
              "      <th>Volume</th>\n",
              "      <th>Open</th>\n",
              "      <th>High</th>\n",
              "      <th>Low</th>\n",
              "      <th>Company</th>\n",
              "    </tr>\n",
              "  </thead>\n",
              "  <tbody>\n",
              "    <tr>\n",
              "      <th>0</th>\n",
              "      <td>1970-01-02</td>\n",
              "      <td>18.237499</td>\n",
              "      <td>315200</td>\n",
              "      <td>18.225000</td>\n",
              "      <td>18.287500</td>\n",
              "      <td>18.200001</td>\n",
              "      <td>IBM</td>\n",
              "    </tr>\n",
              "    <tr>\n",
              "      <th>1</th>\n",
              "      <td>1970-01-05</td>\n",
              "      <td>18.412500</td>\n",
              "      <td>424000</td>\n",
              "      <td>18.299999</td>\n",
              "      <td>18.412500</td>\n",
              "      <td>18.299999</td>\n",
              "      <td>IBM</td>\n",
              "    </tr>\n",
              "    <tr>\n",
              "      <th>2</th>\n",
              "      <td>1970-01-06</td>\n",
              "      <td>18.424999</td>\n",
              "      <td>488000</td>\n",
              "      <td>18.412500</td>\n",
              "      <td>18.450001</td>\n",
              "      <td>18.312500</td>\n",
              "      <td>IBM</td>\n",
              "    </tr>\n",
              "    <tr>\n",
              "      <th>3</th>\n",
              "      <td>1970-01-07</td>\n",
              "      <td>18.437500</td>\n",
              "      <td>457600</td>\n",
              "      <td>18.424999</td>\n",
              "      <td>18.437500</td>\n",
              "      <td>18.312500</td>\n",
              "      <td>IBM</td>\n",
              "    </tr>\n",
              "    <tr>\n",
              "      <th>4</th>\n",
              "      <td>1970-01-08</td>\n",
              "      <td>18.475000</td>\n",
              "      <td>707200</td>\n",
              "      <td>18.437500</td>\n",
              "      <td>18.475000</td>\n",
              "      <td>18.375000</td>\n",
              "      <td>IBM</td>\n",
              "    </tr>\n",
              "    <tr>\n",
              "      <th>...</th>\n",
              "      <td>...</td>\n",
              "      <td>...</td>\n",
              "      <td>...</td>\n",
              "      <td>...</td>\n",
              "      <td>...</td>\n",
              "      <td>...</td>\n",
              "      <td>...</td>\n",
              "    </tr>\n",
              "    <tr>\n",
              "      <th>12318</th>\n",
              "      <td>2018-10-29</td>\n",
              "      <td>119.639999</td>\n",
              "      <td>20450400</td>\n",
              "      <td>119.339996</td>\n",
              "      <td>123.949997</td>\n",
              "      <td>118.300003</td>\n",
              "      <td>IBM</td>\n",
              "    </tr>\n",
              "    <tr>\n",
              "      <th>12319</th>\n",
              "      <td>2018-10-30</td>\n",
              "      <td>115.400001</td>\n",
              "      <td>21458600</td>\n",
              "      <td>120.480003</td>\n",
              "      <td>121.500000</td>\n",
              "      <td>115.150001</td>\n",
              "      <td>IBM</td>\n",
              "    </tr>\n",
              "    <tr>\n",
              "      <th>12320</th>\n",
              "      <td>2018-10-31</td>\n",
              "      <td>115.430000</td>\n",
              "      <td>21645000</td>\n",
              "      <td>116.489998</td>\n",
              "      <td>116.500000</td>\n",
              "      <td>114.089996</td>\n",
              "      <td>IBM</td>\n",
              "    </tr>\n",
              "    <tr>\n",
              "      <th>12321</th>\n",
              "      <td>2018-11-01</td>\n",
              "      <td>116.830002</td>\n",
              "      <td>13626700</td>\n",
              "      <td>115.500000</td>\n",
              "      <td>117.000000</td>\n",
              "      <td>115.110001</td>\n",
              "      <td>IBM</td>\n",
              "    </tr>\n",
              "    <tr>\n",
              "      <th>12322</th>\n",
              "      <td>2018-11-02</td>\n",
              "      <td>115.669998</td>\n",
              "      <td>10587400</td>\n",
              "      <td>117.510002</td>\n",
              "      <td>117.750000</td>\n",
              "      <td>114.540001</td>\n",
              "      <td>IBM</td>\n",
              "    </tr>\n",
              "  </tbody>\n",
              "</table>\n",
              "<p>12323 rows × 7 columns</p>\n",
              "</div>"
            ],
            "text/plain": [
              "            Date       Close    Volume  ...        High         Low  Company\n",
              "0     1970-01-02   18.237499    315200  ...   18.287500   18.200001      IBM\n",
              "1     1970-01-05   18.412500    424000  ...   18.412500   18.299999      IBM\n",
              "2     1970-01-06   18.424999    488000  ...   18.450001   18.312500      IBM\n",
              "3     1970-01-07   18.437500    457600  ...   18.437500   18.312500      IBM\n",
              "4     1970-01-08   18.475000    707200  ...   18.475000   18.375000      IBM\n",
              "...          ...         ...       ...  ...         ...         ...      ...\n",
              "12318 2018-10-29  119.639999  20450400  ...  123.949997  118.300003      IBM\n",
              "12319 2018-10-30  115.400001  21458600  ...  121.500000  115.150001      IBM\n",
              "12320 2018-10-31  115.430000  21645000  ...  116.500000  114.089996      IBM\n",
              "12321 2018-11-01  116.830002  13626700  ...  117.000000  115.110001      IBM\n",
              "12322 2018-11-02  115.669998  10587400  ...  117.750000  114.540001      IBM\n",
              "\n",
              "[12323 rows x 7 columns]"
            ]
          },
          "metadata": {
            "tags": []
          },
          "execution_count": 195
        }
      ]
    },
    {
      "cell_type": "code",
      "metadata": {
        "id": "wjwirxd4VutM",
        "colab_type": "code",
        "colab": {}
      },
      "source": [
        "# prepare training and testing data sets for LSTM based sequence modeling\n",
        "#def dimitris_function(time_series, scaling=True,split_ratio=0.9):\n",
        "def dimitris_function(time_series,split_ratio=0.9):\n",
        "\n",
        "    series1 = pd.Series(time_series[time_series.columns[0]])\n",
        "    series2 = pd.Series(time_series[time_series.columns[1]])\n",
        "    series3 = pd.Series(time_series[time_series.columns[2]])\n",
        "    series4 = pd.Series(time_series[time_series.columns[3]])\n",
        "    series5 = pd.Series(time_series[time_series.columns[4]])\n",
        "\n",
        "    values1 = series1.values\n",
        "    values1 = values1.reshape((len(values1), 1))\n",
        "    values2 = series2.values\n",
        "    values2 = values2.reshape((len(values2), 1))\n",
        "    values3 = series3.values\n",
        "    values3 = values3.reshape((len(values3), 1))\n",
        "    values4 = series4.values\n",
        "    values4 = values4.reshape((len(values4), 1))\n",
        "    values5 = series5.values\n",
        "    values5 = values5.reshape((len(values5), 1))\n",
        "\n",
        "    #scaler2 --> Close Price Scaler\n",
        "    scaler1 = MinMaxScaler(feature_range=(0, 1))\n",
        "    time_series[\"scaled1\"] = scaler1.fit_transform(values1)\n",
        "    scaler2 = MinMaxScaler(feature_range=(0, 1))\n",
        "    time_series[\"scaled2\"]= scaler2.fit_transform(values2)\n",
        "    scaler3 = MinMaxScaler(feature_range=(0, 1))\n",
        "    time_series[\"scaled3\"]= scaler3.fit_transform(values3)\n",
        "    scaler4 = MinMaxScaler(feature_range=(0, 1))\n",
        "    time_series[\"scaled4\"]= scaler4.fit_transform(values4)\n",
        "    scaler5 = MinMaxScaler(feature_range=(0, 1))\n",
        "    time_series[\"scaled5\"]= scaler5.fit_transform(values5)\n",
        "\n",
        "\n",
        "    time_series = time_series[[\"scaled1\",\"scaled2\",\"scaled3\",\"scaled4\",\"scaled5\"]].values\n",
        "\n",
        "        \n",
        "    split_ratio = int(len(time_series) * split_ratio)\n",
        "\n",
        "    train = time_series[0:split_ratio]\n",
        "    test = time_series[split_ratio:len(time_series)-1]\n",
        "    \n",
        "    # return train,test,scaler1,scaler2\n",
        "    return train,test,scaler2\n"
      ],
      "execution_count": 0,
      "outputs": []
    },
    {
      "cell_type": "code",
      "metadata": {
        "id": "OXyOtBUbQGzo",
        "colab_type": "code",
        "colab": {}
      },
      "source": [
        "#mounting gdrive to save talos results for each run and tensor flow checkpoints\n",
        "if not mounted:\n",
        "  mounted = True\n",
        "  from google.colab import drive\n",
        "  drive.mount('/content/gdrive')"
      ],
      "execution_count": 0,
      "outputs": []
    },
    {
      "cell_type": "code",
      "metadata": {
        "id": "UN6DYJT7TXPb",
        "colab_type": "code",
        "colab": {}
      },
      "source": [
        "#def get_seq_model(hidden_units1=40, hidden_units2=65, hidden_units3=32, drop=0.2,input_shape=(1,1)):\n",
        "def get_seq_model(x_train, y_train, x_val, y_val, params):  \n",
        "\n",
        "    # create and fit the LSTM network\n",
        "    model = Sequential()\n",
        "\n",
        "    print(params)\n",
        "    print(type(params))\n",
        "\n",
        "    # samples*timesteps*features\n",
        "    # https://keras.io/getting-started/sequential-model-guide/\n",
        "    #https://journals.plos.org/plosone/article?id=10.1371/journal.pone.0227222\n",
        "\n",
        "    ######!!!!!#####!!!!!\n",
        "    #(train_x.shape[1],5) where 5 is the number of features is equal to :\n",
        "    #(train_x.shape[1],train_x.shape[2])\n",
        "    model.add(LSTM(\n",
        "                   input_shape=(x_train.shape[1],x_train.shape[2]),\n",
        "                   units = params['hidden_1'],  \n",
        "                   #activation='relu',recurrent_activation='sigmoid',\n",
        "                   return_sequences=True\n",
        "    ))\n",
        "    model.add(Dropout(params['dropout']))\n",
        "    model.add(LSTM(\n",
        "                   units = params['hidden_2'],\n",
        "                   #activation='relu',recurrent_activation='sigmoid',\n",
        "                   return_sequences=True\n",
        "    ))\n",
        "    model.add(Dropout(params['dropout']))   \n",
        "    model.add(LSTM(\n",
        "                   units = params['hidden_3'], \n",
        "                   #activation='relu',recurrent_activation='sigmoid',\n",
        "                   return_sequences=True\n",
        "    ))\n",
        "    model.add(Dropout(params['dropout']))\n",
        "\n",
        "    # readout layer. TimeDistributedDense uses the same weights for all\n",
        "    # time steps.\n",
        "    # model.add(TimeDistributed(Dense(1))) #number of inputs in the 1st layer\n",
        "   # model.add(TimeDistributed(Dense(5)))\n",
        "    model.add(TimeDistributed(Dense(5)))\n",
        "    start = time.time()\n",
        "    \n",
        "    model.compile(loss=\"mse\", optimizer=\"rmsprop\")\n",
        "    timestr = time.strftime(\"%Y%m%d-%H%M%S\")\n",
        "    checkpoint_path = \"/content/gdrive/My Drive/checkpoints_allinseq\"  + \"/cp-{epoch:04d}.ckpt\"\n",
        "    checkpoint_dir = os.path.dirname(checkpoint_path)\n",
        "    cp_callback = [tf.keras.callbacks.ModelCheckpoint(\n",
        "        checkpoint_path, verbose=1, save_weights_only=True,#save_best_only='TRUE'\n",
        "        # Save weights, every 5-epochs.\n",
        "        period=15),\n",
        "        tf.keras.callbacks.CSVLogger('log.csv', separator=\",\", append=False)]\n",
        "    \n",
        "   # early_stop = keras.callbacks.EarlyStopping(monitor='val_loss', patience=40)\n",
        "    \n",
        "    out = model.fit(x_train, y_train,\n",
        "              epochs=params['epochs'], batch_size=1,\n",
        "              validation_data=[x_val, y_val],\n",
        "              #epochs=200, batch_size=1,\n",
        "              verbose=1,shuffle=False,\n",
        "              callbacks=cp_callback)\n",
        "\n",
        "    return out, model"
      ],
      "execution_count": 0,
      "outputs": []
    },
    {
      "cell_type": "code",
      "metadata": {
        "id": "tHb3jTx65xsf",
        "colab_type": "code",
        "colab": {}
      },
      "source": [
        "# ls gdrive/\"My Drive\"/checkpoints1"
      ],
      "execution_count": 0,
      "outputs": []
    },
    {
      "cell_type": "code",
      "metadata": {
        "id": "2gbME0KzpaCa",
        "colab_type": "code",
        "colab": {}
      },
      "source": [
        "if not talos:\n",
        "  #Chosen final parameters\n",
        "  p = {'hidden_1': 8,\n",
        "     'hidden_2': 16,\n",
        "     'hidden_3': 32,\n",
        "     'dropout': 0.1,\n",
        "     'epochs': 100\n",
        "     }\n",
        "\n",
        "else:\n",
        "  #Parameters for the model optimization in talos\n",
        "  p = {'hidden_1':[8, 16, 32],\n",
        "     'hidden_2':[8, 16, 32],\n",
        "     'hidden_3':[8, 16, 32],\n",
        "     'dropout': [0.1, 0.2],\n",
        "     #'dropout': [0.1],\n",
        "     'epochs': [20, 50, 100]\n",
        "     }"
      ],
      "execution_count": 0,
      "outputs": []
    },
    {
      "cell_type": "code",
      "metadata": {
        "id": "UiL73vb-dFsK",
        "colab_type": "code",
        "colab": {}
      },
      "source": [
        "# print(type(sub_split.Close))\n",
        "sub_split_date=sub_split[['Date']]\n",
        "sub_split=sub_split[['Volume', 'Close', 'Open', 'High', 'Low']]\n",
        "#sub_split.columns[1]"
      ],
      "execution_count": 0,
      "outputs": []
    },
    {
      "cell_type": "code",
      "metadata": {
        "id": "zeAENS4LVpDG",
        "colab_type": "code",
        "outputId": "c64b4098-c5c2-41f6-9bfd-b0332126fc57",
        "colab": {
          "base_uri": "https://localhost:8080/",
          "height": 85
        }
      },
      "source": [
        "# split train and test datasets\n",
        "train,test,scaler_Close = dimitris_function(sub_split,split_ratio=0.7)\n",
        "\n",
        "#train\n",
        "print(len(train))\n",
        "print(train.shape[0])\n",
        "print(train.shape)\n",
        "print(test.shape)\n",
        "# print(train)"
      ],
      "execution_count": 202,
      "outputs": [
        {
          "output_type": "stream",
          "text": [
            "8626\n",
            "8626\n",
            "(8626, 5)\n",
            "(3696, 5)\n"
          ],
          "name": "stdout"
        }
      ]
    },
    {
      "cell_type": "code",
      "metadata": {
        "id": "uZG7396CWoy9",
        "colab_type": "code",
        "outputId": "31f99a93-3cba-440b-b772-4aac33c07cc3",
        "colab": {
          "base_uri": "https://localhost:8080/",
          "height": 102
        }
      },
      "source": [
        "#We use numpy to reshape our time series into 3D tensors.\n",
        "# train = np.reshape(train,(train.shape[0],1,5))\n",
        "# test = np.reshape(test,(test.shape[0],1,5))\n",
        "\n",
        "train = np.reshape(train,(1,train.shape[0],5))\n",
        "test = np.reshape(test,(1,test.shape[0],5))\n",
        "\n",
        "\n",
        "# train_x = train[:,:,:]\n",
        "# train_y = train[:,:,:]\n",
        "\n",
        "# test_x = test[:,:,:]\n",
        "# test_y = test[:,:,:]\n",
        "\n",
        "train_x = train[:,:-1,:]\n",
        "train_y = train[:,1:,:]\n",
        "\n",
        "test_x = test[:,:-1,:]\n",
        "test_y = test[:,1:,:]\n",
        "test_x = pad_sequences(test_x,maxlen=train_x.shape[1],padding='post',dtype='float64')\n",
        "test_y = pad_sequences(test_y,maxlen=train_y.shape[1],padding='post',dtype='float64')\n",
        "print(\"Data Split Complete\")\n",
        "\n",
        "print(\"train_x shape={}\".format(train_x.shape))\n",
        "print(\"train_y shape={}\".format(train_y.shape))\n",
        "print(\"test_x shape={}\".format(test_x.shape))\n",
        "print(\"test_y shape={}\".format(test_y.shape))"
      ],
      "execution_count": 203,
      "outputs": [
        {
          "output_type": "stream",
          "text": [
            "Data Split Complete\n",
            "train_x shape=(1, 8625, 5)\n",
            "train_y shape=(1, 8625, 5)\n",
            "test_x shape=(1, 8625, 5)\n",
            "test_y shape=(1, 8625, 5)\n"
          ],
          "name": "stdout"
        }
      ]
    },
    {
      "cell_type": "code",
      "metadata": {
        "id": "28u6Kogp6yzg",
        "colab_type": "code",
        "outputId": "dfe66738-e910-436b-8831-3b40b94da0a9",
        "colab": {
          "base_uri": "https://localhost:8080/",
          "height": 119
        }
      },
      "source": [
        "seq_lstm_model=None\n",
        "if load_from_checkpoint:\n",
        "  #Load the latest checkpoint saved in Drive #'gdrive/My Drive/checkpoints1/cp-0090.ckpt'\n",
        "  ####\n",
        "  latest=tf.train.latest_checkpoint(\"gdrive/My Drive/checkpoints_allinseq\")\n",
        "  print(latest)\n",
        "  #Create the model and train for 1 epoch to get the NN stracture\n",
        "  p['epochs']=1\n",
        "  try:\n",
        "    seq_lstm_model=get_seq_model(train_x,train_y,test_x,test_y,p)\n",
        "  except:\n",
        "    print(\"Model Build Failed. Trying Again\")\n",
        "    seq_lstm_model = get_seq_model(train_x,train_y,test_x,test_y,p)\n",
        "  #Load the weight of the checkpoint to the NN \n",
        "  seq_lstm_model[1].load_weights(latest)\n",
        "else:\n",
        "  # build RNN model and run 100 epochs\n",
        "  p['epochs']=100\n",
        "  try:\n",
        "    seq_lstm_model = get_seq_model(train_x,train_y,test_x,test_y,p)\n",
        "    load_from_checkpoint=True;\n",
        "  except:\n",
        "    print(\"Model Build Failed. Trying Again\")\n",
        "    seq_lstm_model = get_seq_model(train_x,train_y,test_x,test_y,p)\n",
        "    load_from_checkpoint=True;"
      ],
      "execution_count": 204,
      "outputs": [
        {
          "output_type": "stream",
          "text": [
            "gdrive/My Drive/checkpoints_allinseq/cp-0090.ckpt\n",
            "{'hidden_1': 8, 'hidden_2': 16, 'hidden_3': 32, 'dropout': 0.1, 'epochs': 1}\n",
            "<class 'dict'>\n",
            "WARNING:tensorflow:`period` argument is deprecated. Please use `save_freq` to specify the frequency in number of samples seen.\n",
            "Train on 1 samples, validate on 1 samples\n",
            "1/1 [==============================] - 20s 20s/sample - loss: 0.0299 - val_loss: 0.1215\n"
          ],
          "name": "stdout"
        }
      ]
    },
    {
      "cell_type": "code",
      "metadata": {
        "id": "WmcJ3-KC4_k-",
        "colab_type": "code",
        "colab": {}
      },
      "source": [
        "#Plot Epochs loss\n",
        "\n",
        "if not load_from_checkpoint:\n",
        "  #save a copy in the drive if its a full run\n",
        "  !cp log.csv \"gdrive/My Drive/checkpoints_allinseq\"\n",
        "\n",
        "  df = pd.read_csv(\"log.csv\" )\n",
        "  plt.plot(df['epoch'],df['val_loss'], marker='o',label=\"Val_loss\")\n",
        "  plt.plot(df['epoch'],df['loss'], marker='o',label=\"Loss\")\n",
        "  plt.title('Val_loss')\n",
        "  plt.legend(loc=\"upper right\")\n",
        "  plt.xlabel('Epoch')\n",
        "  plt.ylabel('MSE')\n",
        "\n",
        "  plt.show()"
      ],
      "execution_count": 0,
      "outputs": []
    },
    {
      "cell_type": "code",
      "metadata": {
        "id": "DqTCq2NDTQFL",
        "colab_type": "code",
        "colab": {}
      },
      "source": [
        "%%capture\n",
        "talos=False;\n",
        "if talos:\n",
        "  import talos\n",
        "  # 100\t0.0005776109765\t0.001970537574\t0.1\t100\t8\t16\t32\n",
        "  scan_obj = talos.Scan(x=train_x,\n",
        "                        y=train_y,\n",
        "                        x_val=test_x,\n",
        "                        #x_val=train_x,\n",
        "                        y_val=test_y,\n",
        "                      #y_val=train_y,\n",
        "\n",
        "                        params=p,\n",
        "                        val_split=0.1,\n",
        "                        model=get_seq_model,\n",
        "                        #shuffle=False,\n",
        "                        experiment_name='gdrive/My Drive/test',\n",
        "                        #fraction_limit=0.1\n",
        "                        )\n"
      ],
      "execution_count": 0,
      "outputs": []
    },
    {
      "cell_type": "code",
      "metadata": {
        "id": "3maixlgooNbV",
        "colab_type": "code",
        "colab": {}
      },
      "source": [
        "if talos:\n",
        "  print(\"Finished Talos Scan!!\")"
      ],
      "execution_count": 0,
      "outputs": []
    },
    {
      "cell_type": "code",
      "metadata": {
        "id": "q8JQmBWEzSm3",
        "colab_type": "code",
        "colab": {}
      },
      "source": [
        "if talos:\n",
        "  scan_obj.data.head()"
      ],
      "execution_count": 0,
      "outputs": []
    },
    {
      "cell_type": "code",
      "metadata": {
        "id": "MdpHk3OJ22QD",
        "colab_type": "code",
        "colab": {}
      },
      "source": [
        "# train_y"
      ],
      "execution_count": 0,
      "outputs": []
    },
    {
      "cell_type": "code",
      "metadata": {
        "id": "FnQs_OC6XsTz",
        "colab_type": "code",
        "colab": {}
      },
      "source": [
        "# train the model\n",
        "#https://medium.com/@rajath95/how-to-save-and-upload-deep-learning-machine-learning-models-in-google-colab-using-google-drive-eb2901937ae\n",
        "# seq_lstm_model[1].fit(train_x, train_y,\n",
        "#                 epochs=2, batch_size=1,\n",
        "#                 #epochs=200, batch_size=1,\n",
        "#                 verbose=1)\n",
        "# print(\"Model Fit Complete\")"
      ],
      "execution_count": 0,
      "outputs": []
    },
    {
      "cell_type": "code",
      "metadata": {
        "id": "g07f1lEGXu_T",
        "colab_type": "code",
        "outputId": "cca389ed-d4fc-4742-e8e5-085bcacfe520",
        "colab": {
          "base_uri": "https://localhost:8080/",
          "height": 85
        }
      },
      "source": [
        "# train fit performance\n",
        "trainPredict = seq_lstm_model[1].predict(train_x)\n",
        "trainScore = math.sqrt(mean_squared_error(train_y[0], trainPredict[0]))\n",
        "trainScore1=mean_squared_error(train_y[0], trainPredict[0])\n",
        "print('Train Score: %.4f RMSE' % (trainScore))\n",
        "print('Train Score: %.4f MSE' % (trainScore1))\n",
        "# Pad input sequence\n",
        "testPredict = pad_sequences(test_x,maxlen=train_x.shape[1],padding='post',dtype='float64')\n",
        "\n",
        "# forecast values\n",
        "testPredict = seq_lstm_model[1].predict(testPredict)\n",
        "testPredict\n",
        "testScore = math.sqrt(mean_squared_error(test_y[0], testPredict[0]))\n",
        "testScore1=mean_squared_error(test_y[0], testPredict[0])\n",
        "print('Test Score: %.4f RMSE' % (testScore))\n",
        "print('Test Score: %.4f MSE' % (testScore1))"
      ],
      "execution_count": 211,
      "outputs": [
        {
          "output_type": "stream",
          "text": [
            "Train Score: 0.0528 RMSE\n",
            "Train Score: 0.0028 MSE\n",
            "Test Score: 0.0467 RMSE\n",
            "Test Score: 0.0022 MSE\n"
          ],
          "name": "stdout"
        }
      ]
    },
    {
      "cell_type": "code",
      "metadata": {
        "id": "2ssFCbxjhu55",
        "colab_type": "code",
        "colab": {}
      },
      "source": [
        "# print()"
      ],
      "execution_count": 0,
      "outputs": []
    },
    {
      "cell_type": "code",
      "metadata": {
        "id": "URNrqwpl1SbQ",
        "colab_type": "code",
        "colab": {}
      },
      "source": [
        "# trainPredict"
      ],
      "execution_count": 0,
      "outputs": []
    },
    {
      "cell_type": "code",
      "metadata": {
        "id": "XsR5ytjpX2yj",
        "colab_type": "code",
        "colab": {}
      },
      "source": [
        "# # forecast values\n",
        "# testPredict = seq_lstm_model[1].predict(testPredict)\n",
        "# testPredict"
      ],
      "execution_count": 0,
      "outputs": []
    },
    {
      "cell_type": "code",
      "metadata": {
        "id": "KvjYccaoN8hP",
        "colab_type": "code",
        "colab": {}
      },
      "source": [
        "#Drop all other variables except Close Price Output\n",
        "testPredict=np.delete(testPredict, [2,3,4], 2)\n",
        "trainPredict=np.delete(trainPredict, [2,3,4], 2)\n",
        "\n",
        "testPredict=np.delete(testPredict, 0, 2)\n",
        "trainPredict=np.delete(trainPredict, 0, 2)\n",
        "\n",
        "# # inverse transformation of the Close Price\n",
        "trainPredict = scaler_Close.inverse_transform(trainPredict.\\\n",
        "                                        reshape(-1,1))\n",
        "testPredict = scaler_Close.inverse_transform(testPredict.\\\n",
        "                                       reshape(-1,1))"
      ],
      "execution_count": 0,
      "outputs": []
    },
    {
      "cell_type": "code",
      "metadata": {
        "id": "NRMR0WkN3XIh",
        "colab_type": "code",
        "outputId": "474c11de-2247-4b89-e037-055644661bc5",
        "colab": {
          "base_uri": "https://localhost:8080/",
          "height": 607
        }
      },
      "source": [
        "# plot the true and forecasted values\n",
        "split_ratio = len(trainPredict)+1\n",
        "\n",
        "plt.plot(sub_split_date.Date,\n",
        "          sub_split.Close.values,c='black',\n",
        "          alpha=0.9,label='True Data')\n",
        "\n",
        "plt.plot(sub_split_date.Date[1:split_ratio],\n",
        "          trainPredict,label='Training Fit',c='g')\n",
        "\n",
        "plt.plot(sub_split_date.Date[split_ratio+1:],\n",
        "           testPredict[:test.shape[1]],label='Testing Forecast')\n",
        "\n",
        "plt.title('Forecast Plot of Stock ' + comp)\n",
        "plt.legend()\n",
        "#plt.show()\n",
        "plt.rcParams[\"figure.figsize\"] = (20,10)\n",
        "plt.show()"
      ],
      "execution_count": 216,
      "outputs": [
        {
          "output_type": "display_data",
          "data": {
            "image/png": "[encoded data removed]",
            "text/plain": [
              "<Figure size 1440x720 with 1 Axes>"
            ]
          },
          "metadata": {
            "tags": [],
            "needs_background": "light"
          }
        }
      ]
    }
  ]
}