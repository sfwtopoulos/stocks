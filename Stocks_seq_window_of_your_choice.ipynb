{
  "nbformat": 4,
  "nbformat_minor": 0,
  "metadata": {
    "colab": {
      "name": "Stocks_seq_1st.ipynb",
      "provenance": [],
      "collapsed_sections": [],
      "include_colab_link": true
    },
    "kernelspec": {
      "name": "python3",
      "display_name": "Python 3"
    }
  },
  "cells": [
    {
      "cell_type": "markdown",
      "metadata": {
        "id": "view-in-github",
        "colab_type": "text"
      },
      "source": [
        "<a href=\"https://colab.research.google.com/github/sfwtopoulos/stocks/blob/master/Stocks_seq_window_of_your_choice.ipynb\" target=\"_parent\"><img src=\"https://colab.research.google.com/assets/colab-badge.svg\" alt=\"Open In Colab\"/></a>"
      ]
    },
    {
      "cell_type": "code",
      "metadata": {
        "id": "IHoF0v0IorKz",
        "colab_type": "code",
        "colab": {}
      },
      "source": [
        "pip install -q talos"
      ],
      "execution_count": 0,
      "outputs": []
    },
    {
      "cell_type": "code",
      "metadata": {
        "id": "wJZRdo7B2sVO",
        "colab_type": "code",
        "colab": {}
      },
      "source": [
        "pip install -q wget"
      ],
      "execution_count": 0,
      "outputs": []
    },
    {
      "cell_type": "code",
      "metadata": {
        "id": "DOmxraS5T1wD",
        "colab_type": "code",
        "colab": {}
      },
      "source": [
        "import pandas as pd\n",
        "import matplotlib.pyplot as plt\n",
        "import pandas as pd\n",
        "import math\n",
        "import warnings\n",
        "import numpy as np\n",
        "import time\n",
        "import sys\n",
        "\n",
        "import pandas_datareader as pdr\n",
        "#%tensorflow_version 2.x\n",
        "# Restart runtime using 'Runtime' -> 'Restart runtime...'\n",
        "%tensorflow_version 1.x\n",
        "import tensorflow as tf\n",
        "import keras\n",
        "\n",
        "\n",
        "# from keras.layers import LSTM\n",
        "# from keras.models import Sequential\n",
        "# from keras.layers.wrappers import TimeDistributed\n",
        "# from keras.layers.wrappers import TimeDistributed\n",
        "# from keras.layers.core import Dense, Activation, Dropout\n",
        "# from keras.preprocessing.sequence import pad_sequences\n",
        "\n",
        "from tensorflow.python.keras.layers import Dense, Activation, Dropout, Input\n",
        "from tensorflow.python.keras.models import Sequential\n",
        "from tensorflow.python.keras.layers import LSTM\n",
        "from tensorflow.python.keras.layers.wrappers import TimeDistributed\n",
        "from tensorflow.python.keras.layers.wrappers import TimeDistributed\n",
        "from tensorflow.python.keras.preprocessing.sequence import pad_sequences\n",
        "\n",
        "\n",
        "from sklearn.preprocessing import MinMaxScaler\n",
        "from sklearn.metrics import mean_squared_error\n",
        "import seaborn as sns\n",
        "import matplotlib.pyplot as plt\n",
        "\n",
        "import os\n",
        "import wget\n",
        "from zipfile import ZipFile\n",
        "\n",
        "warnings.filterwarnings('ignore',category=FutureWarning)\n",
        "warnings.filterwarnings('ignore', category=DeprecationWarning)"
      ],
      "execution_count": 0,
      "outputs": []
    },
    {
      "cell_type": "code",
      "metadata": {
        "id": "evxNkZl6rxjd",
        "colab_type": "code",
        "colab": {}
      },
      "source": [
        "# from keras.optimizers import Adam, Nadam\n",
        "# from keras.activations import softmax\n",
        "# from keras.losses import categorical_crossentropy, logcosh\n",
        "# from talos.utils import lr_normalizer\n",
        "import talos\n",
        "from tensorflow.python.keras.optimizers import Adam, Nadam\n",
        "from tensorflow.python.keras.activations import softmax\n",
        "from tensorflow.python.keras.losses import categorical_crossentropy, logcosh\n",
        "from talos.utils import lr_normalizer"
      ],
      "execution_count": 0,
      "outputs": []
    },
    {
      "cell_type": "code",
      "metadata": {
        "id": "2byEjZdZVJrz",
        "colab_type": "code",
        "outputId": "663ea48b-ee21-40f8-ee92-6ee7df5374e7",
        "colab": {
          "base_uri": "https://localhost:8080/",
          "height": 50
        }
      },
      "source": [
        "print(keras.__version__)\n",
        "print(tf.__version__)\n",
        "#print(tensorflow.compat.v2.__version__)"
      ],
      "execution_count": 38,
      "outputs": [
        {
          "output_type": "stream",
          "text": [
            "2.3.0\n",
            "1.15.2\n"
          ],
          "name": "stdout"
        }
      ]
    },
    {
      "cell_type": "code",
      "metadata": {
        "id": "tVJdUlQJUDjY",
        "colab_type": "code",
        "outputId": "964aa51a-eae7-40a5-ecf4-3cd47052479f",
        "colab": {
          "base_uri": "https://localhost:8080/",
          "height": 34
        }
      },
      "source": [
        "#Flag to select the small or the large dataset from the git repo\n",
        "large=False;\n",
        "\n",
        "if not large:\n",
        "  #Small Dataset\n",
        "  #Data import from git repo\n",
        "  print(\"Small Dataset Loading\")\n",
        "  url = 'https://raw.githubusercontent.com/sfwtopoulos/stocks/master/stocks_dataset/combined.csv'\n",
        "  #df1 = pd.read_csv(url, error_bad_lines=False)\n",
        "  dfstocks = pd.read_csv(url, sep=',')\n",
        "  dfstocks=dfstocks.rename({' AAPL':'Company', ' Close/Last':'Close', ' Volume':'Volume', ' Open':'Open', ' High':'High', ' Low':'Low'}, axis=1);\n",
        "else:\n",
        "  #Large Dataset\n",
        "  print(\"Large Dataset Loading\")\n",
        "  url = 'https://raw.githubusercontent.com/sfwtopoulos/stocks/master/stocks_dataset/combined_large.zip'\n",
        "  wget.download(url, '.')\n",
        "  # Create a ZipFile Object and load sample.zip in it\n",
        "  with ZipFile('combined_large.zip', 'r') as zipObj:\n",
        "    # Extract all the contents of zip file in current directory\n",
        "    zipObj.extractall()\n",
        "  print(os.listdir(\".\"))\n",
        "  dfstocks = pd.read_csv('combined_large.csv', sep=',') \n",
        "  dfstocks=dfstocks[~dfstocks.Date.str.contains(\"nan\")]\n",
        "  dfstocks=dfstocks[~dfstocks.Date.str.contains(\"Low\")]\n",
        "  dfstocks=dfstocks[~dfstocks.Date.str.contains(\"N/A\")]\n",
        "  dfstocks=dfstocks[~dfstocks.Date.str.contains(\"date\")]\n",
        "  dfstocks.Date=pd.to_datetime(dfstocks.Date)\n",
        "  # dfstocks['Date'] = dfstocks['Date'].dt.strftime('%Y-%m-%d')\n",
        "  dfstocks['Date'] = dfstocks['Date'].dt.strftime('%d-%m-%Y')\n",
        "  dfstocks=dfstocks.rename({' AA':'Company', ' Close/Last':'Close', ' Volume':'Volume', ' Open':'Open', ' High':'High', ' Low':'Low'}, axis=1);"
      ],
      "execution_count": 39,
      "outputs": [
        {
          "output_type": "stream",
          "text": [
            "Small Dataset Loading\n"
          ],
          "name": "stdout"
        }
      ]
    },
    {
      "cell_type": "code",
      "metadata": {
        "id": "_sXTibBmBlCP",
        "colab_type": "code",
        "outputId": "549655e4-bdfc-440e-9cc5-a798dc0eaeb0",
        "colab": {
          "base_uri": "https://localhost:8080/",
          "height": 151
        }
      },
      "source": [
        "type(dfstocks['Date'])\n",
        "dfstocks.dtypes"
      ],
      "execution_count": 40,
      "outputs": [
        {
          "output_type": "execute_result",
          "data": {
            "text/plain": [
              "Date       object\n",
              "Close      object\n",
              "Volume     object\n",
              "Open       object\n",
              "High       object\n",
              "Low        object\n",
              "Company    object\n",
              "dtype: object"
            ]
          },
          "metadata": {
            "tags": []
          },
          "execution_count": 40
        }
      ]
    },
    {
      "cell_type": "code",
      "metadata": {
        "id": "A_EUqCQSK4eO",
        "colab_type": "code",
        "outputId": "3d43841b-48f0-49c7-ac8e-0a20dc191c36",
        "colab": {
          "base_uri": "https://localhost:8080/",
          "height": 134
        }
      },
      "source": [
        "for col in dfstocks.columns: \n",
        "    print(col) "
      ],
      "execution_count": 41,
      "outputs": [
        {
          "output_type": "stream",
          "text": [
            "Date\n",
            "Close\n",
            "Volume\n",
            "Open\n",
            "High\n",
            "Low\n",
            "Company\n"
          ],
          "name": "stdout"
        }
      ]
    },
    {
      "cell_type": "code",
      "metadata": {
        "id": "pulr20aF6Skd",
        "colab_type": "code",
        "outputId": "3b2b75f7-e573-42d9-f9b6-eb46bf130d64",
        "colab": {
          "base_uri": "https://localhost:8080/",
          "height": 402
        }
      },
      "source": [
        "dfstocks"
      ],
      "execution_count": 42,
      "outputs": [
        {
          "output_type": "execute_result",
          "data": {
            "text/html": [
              "<div>\n",
              "<style scoped>\n",
              "    .dataframe tbody tr th:only-of-type {\n",
              "        vertical-align: middle;\n",
              "    }\n",
              "\n",
              "    .dataframe tbody tr th {\n",
              "        vertical-align: top;\n",
              "    }\n",
              "\n",
              "    .dataframe thead th {\n",
              "        text-align: right;\n",
              "    }\n",
              "</style>\n",
              "<table border=\"1\" class=\"dataframe\">\n",
              "  <thead>\n",
              "    <tr style=\"text-align: right;\">\n",
              "      <th></th>\n",
              "      <th>Date</th>\n",
              "      <th>Close</th>\n",
              "      <th>Volume</th>\n",
              "      <th>Open</th>\n",
              "      <th>High</th>\n",
              "      <th>Low</th>\n",
              "      <th>Company</th>\n",
              "    </tr>\n",
              "  </thead>\n",
              "  <tbody>\n",
              "    <tr>\n",
              "      <th>0</th>\n",
              "      <td>12/31/2019</td>\n",
              "      <td>$293.65</td>\n",
              "      <td>25247630</td>\n",
              "      <td>$289.93</td>\n",
              "      <td>$293.68</td>\n",
              "      <td>$289.52</td>\n",
              "      <td>AAPL</td>\n",
              "    </tr>\n",
              "    <tr>\n",
              "      <th>1</th>\n",
              "      <td>12/30/2019</td>\n",
              "      <td>$291.52</td>\n",
              "      <td>36059610</td>\n",
              "      <td>$289.46</td>\n",
              "      <td>$292.69</td>\n",
              "      <td>$285.22</td>\n",
              "      <td>AAPL</td>\n",
              "    </tr>\n",
              "    <tr>\n",
              "      <th>2</th>\n",
              "      <td>12/27/2019</td>\n",
              "      <td>$289.8</td>\n",
              "      <td>36592940</td>\n",
              "      <td>$291.12</td>\n",
              "      <td>$293.97</td>\n",
              "      <td>$288.12</td>\n",
              "      <td>AAPL</td>\n",
              "    </tr>\n",
              "    <tr>\n",
              "      <th>3</th>\n",
              "      <td>12/26/2019</td>\n",
              "      <td>$289.91</td>\n",
              "      <td>23334000</td>\n",
              "      <td>$284.82</td>\n",
              "      <td>$289.98</td>\n",
              "      <td>$284.7</td>\n",
              "      <td>AAPL</td>\n",
              "    </tr>\n",
              "    <tr>\n",
              "      <th>4</th>\n",
              "      <td>12/24/2019</td>\n",
              "      <td>$284.27</td>\n",
              "      <td>12119710</td>\n",
              "      <td>$284.69</td>\n",
              "      <td>$284.89</td>\n",
              "      <td>$282.9197</td>\n",
              "      <td>AAPL</td>\n",
              "    </tr>\n",
              "    <tr>\n",
              "      <th>...</th>\n",
              "      <td>...</td>\n",
              "      <td>...</td>\n",
              "      <td>...</td>\n",
              "      <td>...</td>\n",
              "      <td>...</td>\n",
              "      <td>...</td>\n",
              "      <td>...</td>\n",
              "    </tr>\n",
              "    <tr>\n",
              "      <th>229381</th>\n",
              "      <td>02/22/2010</td>\n",
              "      <td>$65.4</td>\n",
              "      <td>20454080</td>\n",
              "      <td>$66.1</td>\n",
              "      <td>$66.12</td>\n",
              "      <td>$65.25</td>\n",
              "      <td>XOM</td>\n",
              "    </tr>\n",
              "    <tr>\n",
              "      <th>229382</th>\n",
              "      <td>02/19/2010</td>\n",
              "      <td>$65.87</td>\n",
              "      <td>24264350</td>\n",
              "      <td>$65.59</td>\n",
              "      <td>$66.24</td>\n",
              "      <td>$65.43</td>\n",
              "      <td>XOM</td>\n",
              "    </tr>\n",
              "    <tr>\n",
              "      <th>229383</th>\n",
              "      <td>02/18/2010</td>\n",
              "      <td>$65.96</td>\n",
              "      <td>22534130</td>\n",
              "      <td>$65.8</td>\n",
              "      <td>$66.09</td>\n",
              "      <td>$65.35</td>\n",
              "      <td>XOM</td>\n",
              "    </tr>\n",
              "    <tr>\n",
              "      <th>229384</th>\n",
              "      <td>02/17/2010</td>\n",
              "      <td>$65.76</td>\n",
              "      <td>21802100</td>\n",
              "      <td>$66.34</td>\n",
              "      <td>$66.45</td>\n",
              "      <td>$65.57</td>\n",
              "      <td>XOM</td>\n",
              "    </tr>\n",
              "    <tr>\n",
              "      <th>229385</th>\n",
              "      <td>02/16/2010</td>\n",
              "      <td>$66.28</td>\n",
              "      <td>30506290</td>\n",
              "      <td>$65.44</td>\n",
              "      <td>$66.38</td>\n",
              "      <td>$65.08</td>\n",
              "      <td>XOM</td>\n",
              "    </tr>\n",
              "  </tbody>\n",
              "</table>\n",
              "<p>229386 rows × 7 columns</p>\n",
              "</div>"
            ],
            "text/plain": [
              "              Date     Close     Volume      Open      High         Low Company\n",
              "0       12/31/2019   $293.65   25247630   $289.93   $293.68     $289.52    AAPL\n",
              "1       12/30/2019   $291.52   36059610   $289.46   $292.69     $285.22    AAPL\n",
              "2       12/27/2019    $289.8   36592940   $291.12   $293.97     $288.12    AAPL\n",
              "3       12/26/2019   $289.91   23334000   $284.82   $289.98      $284.7    AAPL\n",
              "4       12/24/2019   $284.27   12119710   $284.69   $284.89   $282.9197    AAPL\n",
              "...            ...       ...        ...       ...       ...         ...     ...\n",
              "229381  02/22/2010     $65.4   20454080     $66.1    $66.12      $65.25     XOM\n",
              "229382  02/19/2010    $65.87   24264350    $65.59    $66.24      $65.43     XOM\n",
              "229383  02/18/2010    $65.96   22534130     $65.8    $66.09      $65.35     XOM\n",
              "229384  02/17/2010    $65.76   21802100    $66.34    $66.45      $65.57     XOM\n",
              "229385  02/16/2010    $66.28   30506290    $65.44    $66.38      $65.08     XOM\n",
              "\n",
              "[229386 rows x 7 columns]"
            ]
          },
          "metadata": {
            "tags": []
          },
          "execution_count": 42
        }
      ]
    },
    {
      "cell_type": "code",
      "metadata": {
        "id": "vlSTPXYHUHSB",
        "colab_type": "code",
        "colab": {}
      },
      "source": [
        "#drop $sign from values\n",
        "dfstocks.Close=dfstocks['Close'].astype(str)\n",
        "dfstocks.Close=dfstocks.Close.apply(lambda x: x.replace('$',''))\n",
        "dfstocks.Open=dfstocks['Open'].astype(str)\n",
        "dfstocks.Open=dfstocks.Open.apply(lambda x: x.replace('$',''))\n",
        "dfstocks.High=dfstocks['High'].astype(str)\n",
        "dfstocks.High=dfstocks.High.apply(lambda x: x.replace('$',''))\n",
        "dfstocks.Low=dfstocks['Low'].astype(str)\n",
        "dfstocks.Low=dfstocks.Low.apply(lambda x: x.replace('$',''))"
      ],
      "execution_count": 0,
      "outputs": []
    },
    {
      "cell_type": "code",
      "metadata": {
        "id": "F4cxCV_YUJGa",
        "colab_type": "code",
        "outputId": "294a709e-29da-4da5-ba6f-c19c95946122",
        "colab": {
          "base_uri": "https://localhost:8080/",
          "height": 34
        }
      },
      "source": [
        "#drop rows containing nan or header from the csv files\n",
        "dfstocks=dfstocks[~dfstocks.Low.str.contains(\"nan\")]\n",
        "dfstocks=dfstocks[~dfstocks.Low.str.contains(\"Low\")]\n",
        "dfstocks=dfstocks[~dfstocks.Low.str.contains(\"N/A\")]\n",
        "dfstocks=dfstocks[~dfstocks.Volume.str.contains(\"N/A\")]\n",
        "dfstocks.reset_index(drop=True, inplace=True)\n",
        "dfstocks.Date.count()"
      ],
      "execution_count": 44,
      "outputs": [
        {
          "output_type": "execute_result",
          "data": {
            "text/plain": [
              "229269"
            ]
          },
          "metadata": {
            "tags": []
          },
          "execution_count": 44
        }
      ]
    },
    {
      "cell_type": "code",
      "metadata": {
        "id": "te4JUA9lUL06",
        "colab_type": "code",
        "outputId": "00f477b2-18c8-4653-958f-b41ee115d6ff",
        "colab": {
          "base_uri": "https://localhost:8080/",
          "height": 402
        }
      },
      "source": [
        "#sort dataframe based on date and Company Name\n",
        "dfstocks = dfstocks.sort_values(['Date', 'Company'])\n",
        "dfstocks.head(100)"
      ],
      "execution_count": 45,
      "outputs": [
        {
          "output_type": "execute_result",
          "data": {
            "text/html": [
              "<div>\n",
              "<style scoped>\n",
              "    .dataframe tbody tr th:only-of-type {\n",
              "        vertical-align: middle;\n",
              "    }\n",
              "\n",
              "    .dataframe tbody tr th {\n",
              "        vertical-align: top;\n",
              "    }\n",
              "\n",
              "    .dataframe thead th {\n",
              "        text-align: right;\n",
              "    }\n",
              "</style>\n",
              "<table border=\"1\" class=\"dataframe\">\n",
              "  <thead>\n",
              "    <tr style=\"text-align: right;\">\n",
              "      <th></th>\n",
              "      <th>Date</th>\n",
              "      <th>Close</th>\n",
              "      <th>Volume</th>\n",
              "      <th>Open</th>\n",
              "      <th>High</th>\n",
              "      <th>Low</th>\n",
              "      <th>Company</th>\n",
              "    </tr>\n",
              "  </thead>\n",
              "  <tbody>\n",
              "    <tr>\n",
              "      <th>1761</th>\n",
              "      <td>01/02/2013</td>\n",
              "      <td>78.4328</td>\n",
              "      <td>139906732</td>\n",
              "      <td>79.1171</td>\n",
              "      <td>79.2857</td>\n",
              "      <td>77.3757</td>\n",
              "      <td>AAPL</td>\n",
              "    </tr>\n",
              "    <tr>\n",
              "      <th>4248</th>\n",
              "      <td>01/02/2013</td>\n",
              "      <td>35.12</td>\n",
              "      <td>13767660</td>\n",
              "      <td>34.92</td>\n",
              "      <td>35.4</td>\n",
              "      <td>34.1</td>\n",
              "      <td>ABBV</td>\n",
              "    </tr>\n",
              "    <tr>\n",
              "      <th>6025</th>\n",
              "      <td>01/02/2013</td>\n",
              "      <td>32.05</td>\n",
              "      <td>20266410</td>\n",
              "      <td>32.3</td>\n",
              "      <td>32.45</td>\n",
              "      <td>31.64</td>\n",
              "      <td>ABT</td>\n",
              "    </tr>\n",
              "    <tr>\n",
              "      <th>8512</th>\n",
              "      <td>01/02/2013</td>\n",
              "      <td>69.06</td>\n",
              "      <td>4039095</td>\n",
              "      <td>67.59</td>\n",
              "      <td>69.06</td>\n",
              "      <td>67.55</td>\n",
              "      <td>ACN</td>\n",
              "    </tr>\n",
              "    <tr>\n",
              "      <th>10999</th>\n",
              "      <td>01/02/2013</td>\n",
              "      <td>38.34</td>\n",
              "      <td>6483720</td>\n",
              "      <td>37.92</td>\n",
              "      <td>38.73</td>\n",
              "      <td>37.92</td>\n",
              "      <td>ADBE</td>\n",
              "    </tr>\n",
              "    <tr>\n",
              "      <th>...</th>\n",
              "      <td>...</td>\n",
              "      <td>...</td>\n",
              "      <td>...</td>\n",
              "      <td>...</td>\n",
              "      <td>...</td>\n",
              "      <td>...</td>\n",
              "      <td>...</td>\n",
              "    </tr>\n",
              "    <tr>\n",
              "      <th>10747</th>\n",
              "      <td>01/02/2014</td>\n",
              "      <td>59.29</td>\n",
              "      <td>2745895</td>\n",
              "      <td>59.06</td>\n",
              "      <td>59.53</td>\n",
              "      <td>58.94</td>\n",
              "      <td>ADBE</td>\n",
              "    </tr>\n",
              "    <tr>\n",
              "      <th>13234</th>\n",
              "      <td>01/02/2014</td>\n",
              "      <td>168.05</td>\n",
              "      <td>1268722</td>\n",
              "      <td>167.33</td>\n",
              "      <td>170.71</td>\n",
              "      <td>166.5937</td>\n",
              "      <td>AGN</td>\n",
              "    </tr>\n",
              "    <tr>\n",
              "      <th>15721</th>\n",
              "      <td>01/02/2014</td>\n",
              "      <td>50.71</td>\n",
              "      <td>9196092</td>\n",
              "      <td>50.81</td>\n",
              "      <td>51.3</td>\n",
              "      <td>50.47</td>\n",
              "      <td>AIG</td>\n",
              "    </tr>\n",
              "    <tr>\n",
              "      <th>18208</th>\n",
              "      <td>01/02/2014</td>\n",
              "      <td>53.55</td>\n",
              "      <td>1909106</td>\n",
              "      <td>54.09</td>\n",
              "      <td>54.45</td>\n",
              "      <td>53.5</td>\n",
              "      <td>ALL</td>\n",
              "    </tr>\n",
              "    <tr>\n",
              "      <th>20695</th>\n",
              "      <td>01/02/2014</td>\n",
              "      <td>115.795</td>\n",
              "      <td>2528751</td>\n",
              "      <td>114.36</td>\n",
              "      <td>116.19</td>\n",
              "      <td>114.06</td>\n",
              "      <td>AMGN</td>\n",
              "    </tr>\n",
              "  </tbody>\n",
              "</table>\n",
              "<p>100 rows × 7 columns</p>\n",
              "</div>"
            ],
            "text/plain": [
              "             Date     Close      Volume      Open      High        Low Company\n",
              "1761   01/02/2013   78.4328   139906732   79.1171   79.2857    77.3757    AAPL\n",
              "4248   01/02/2013     35.12    13767660     34.92      35.4       34.1    ABBV\n",
              "6025   01/02/2013     32.05    20266410      32.3     32.45      31.64     ABT\n",
              "8512   01/02/2013     69.06     4039095     67.59     69.06      67.55     ACN\n",
              "10999  01/02/2013     38.34     6483720     37.92     38.73      37.92    ADBE\n",
              "...           ...       ...         ...       ...       ...        ...     ...\n",
              "10747  01/02/2014     59.29     2745895     59.06     59.53      58.94    ADBE\n",
              "13234  01/02/2014    168.05     1268722    167.33    170.71   166.5937     AGN\n",
              "15721  01/02/2014     50.71     9196092     50.81      51.3      50.47     AIG\n",
              "18208  01/02/2014     53.55     1909106     54.09     54.45       53.5     ALL\n",
              "20695  01/02/2014   115.795     2528751    114.36    116.19     114.06    AMGN\n",
              "\n",
              "[100 rows x 7 columns]"
            ]
          },
          "metadata": {
            "tags": []
          },
          "execution_count": 45
        }
      ]
    },
    {
      "cell_type": "code",
      "metadata": {
        "id": "SvGv9U_NHZcv",
        "colab_type": "code",
        "outputId": "bedbf314-9e85-49c4-f061-eee596c29fc4",
        "colab": {
          "base_uri": "https://localhost:8080/",
          "height": 151
        }
      },
      "source": [
        "#Converting Datatypes\n",
        "dfstocks.Date=pd.to_datetime(dfstocks.Date)\n",
        "dfstocks.Close=pd.to_numeric(dfstocks.Close)\n",
        "dfstocks.Volume=pd.to_numeric(dfstocks.Volume)\n",
        "dfstocks.Open=pd.to_numeric(dfstocks.Open)\n",
        "dfstocks.High=pd.to_numeric(dfstocks.High)\n",
        "dfstocks.Low=pd.to_numeric(dfstocks.Low)\n",
        "dfstocks.dtypes"
      ],
      "execution_count": 46,
      "outputs": [
        {
          "output_type": "execute_result",
          "data": {
            "text/plain": [
              "Date       datetime64[ns]\n",
              "Close             float64\n",
              "Volume              int64\n",
              "Open              float64\n",
              "High              float64\n",
              "Low               float64\n",
              "Company            object\n",
              "dtype: object"
            ]
          },
          "metadata": {
            "tags": []
          },
          "execution_count": 46
        }
      ]
    },
    {
      "cell_type": "code",
      "metadata": {
        "id": "cQYEtsIgr1L2",
        "colab_type": "code",
        "outputId": "42597225-dd49-4aa8-988c-7e30972978c7",
        "colab": {
          "base_uri": "https://localhost:8080/",
          "height": 235
        }
      },
      "source": [
        "dfstocks.Company.unique()"
      ],
      "execution_count": 47,
      "outputs": [
        {
          "output_type": "execute_result",
          "data": {
            "text/plain": [
              "array([' AAPL', ' ABBV', ' ABT', ' ACN', ' ADBE', ' AGN', ' AIG', ' ALL',\n",
              "       ' AMGN', ' AMZN', ' AXP', ' BA', ' BAC', ' BIIB', ' BK', ' BKNG',\n",
              "       ' BLK', ' BMY', ' C', ' CAT', ' CHTR', ' CL', ' CMCSA', ' COF',\n",
              "       ' COP', ' COST', ' CSCO', ' CVS', ' CVX', ' DHR', ' DIS', ' DUK',\n",
              "       ' EMR', ' EXC', ' F', ' FB', ' FDX', ' GD', ' GE', ' GILD',\n",
              "       ' GOOGL', ' GS', ' HD', ' HON', ' IBM', ' INTC', ' JNJ', ' JPM',\n",
              "       ' KMI', ' KO', ' LLY', ' LMT', ' LOW', ' MA', ' MCD', ' MDLZ',\n",
              "       ' MDT', ' MET', ' MMM', ' MO', ' MRK', ' MS', ' MSFT', ' NEE',\n",
              "       ' NFLX', ' NKE', ' NVDA', ' ORCL', ' OXY', ' PEP', ' PFE', ' PG',\n",
              "       ' PM', ' QCOM', ' RTN', ' SBUX', ' SLB', ' SO', ' SPG', ' T',\n",
              "       ' TGT', ' TMO', ' TXN', ' UNH', ' UNP', ' UPS', ' USB', ' UTX',\n",
              "       ' WBA', ' WMT', ' XOM', ' GOOG', ' DD', ' KHC', ' PYPL', ' DOW'],\n",
              "      dtype=object)"
            ]
          },
          "metadata": {
            "tags": []
          },
          "execution_count": 47
        }
      ]
    },
    {
      "cell_type": "code",
      "metadata": {
        "id": "tEBOZGfQNR6Y",
        "colab_type": "code",
        "colab": {}
      },
      "source": [
        "#Company Chosen\n",
        "comp=\"AAPL\""
      ],
      "execution_count": 0,
      "outputs": []
    },
    {
      "cell_type": "code",
      "metadata": {
        "id": "rsD9-1pONB6V",
        "colab_type": "code",
        "outputId": "ae7cdd57-e1eb-46ff-b443-4566498810e0",
        "colab": {
          "base_uri": "https://localhost:8080/",
          "height": 34
        }
      },
      "source": [
        "#dfstocks[dfstocks['Company'].str.contains(\"AMZN\")]\n",
        "sub_split=dfstocks[dfstocks['Company'].str.contains(comp)]\n",
        "sub_split.isnull().values.any()\n",
        "sub_split.isna().values.any()\n",
        "sub_split = sub_split.sort_values(['Date'])\n",
        "sub_split.reset_index(drop=True, inplace=True)\n",
        "sub_split.shape[0]"
      ],
      "execution_count": 49,
      "outputs": [
        {
          "output_type": "execute_result",
          "data": {
            "text/plain": [
              "2487"
            ]
          },
          "metadata": {
            "tags": []
          },
          "execution_count": 49
        }
      ]
    },
    {
      "cell_type": "code",
      "metadata": {
        "id": "8sOQDo9iM_Fb",
        "colab_type": "code",
        "colab": {}
      },
      "source": [
        "#Run only if you want to have a subset hidden from talos\n",
        "#hidden split for validation\n",
        "talos=False;\n",
        "\n",
        "if talos:\n",
        "  hidden_split=sub_split[(sub_split['Date'].dt.year==2018) | (sub_split['Date'].dt.year==2017) | (sub_split['Date'].dt.year==2016)]\n",
        "\n",
        "  #drop hidden_split from sub_split \n",
        "  sub_split=sub_split[sub_split['Date'].dt.year < 2016]\n",
        "  hidden_split"
      ],
      "execution_count": 0,
      "outputs": []
    },
    {
      "cell_type": "code",
      "metadata": {
        "id": "te-gSnYPU0wX",
        "colab_type": "code",
        "outputId": "5f9ee4b9-fa4d-4a82-d20e-6de8fb757e12",
        "colab": {
          "base_uri": "https://localhost:8080/",
          "height": 402
        }
      },
      "source": [
        "sub_split"
      ],
      "execution_count": 51,
      "outputs": [
        {
          "output_type": "execute_result",
          "data": {
            "text/html": [
              "<div>\n",
              "<style scoped>\n",
              "    .dataframe tbody tr th:only-of-type {\n",
              "        vertical-align: middle;\n",
              "    }\n",
              "\n",
              "    .dataframe tbody tr th {\n",
              "        vertical-align: top;\n",
              "    }\n",
              "\n",
              "    .dataframe thead th {\n",
              "        text-align: right;\n",
              "    }\n",
              "</style>\n",
              "<table border=\"1\" class=\"dataframe\">\n",
              "  <thead>\n",
              "    <tr style=\"text-align: right;\">\n",
              "      <th></th>\n",
              "      <th>Date</th>\n",
              "      <th>Close</th>\n",
              "      <th>Volume</th>\n",
              "      <th>Open</th>\n",
              "      <th>High</th>\n",
              "      <th>Low</th>\n",
              "      <th>Company</th>\n",
              "    </tr>\n",
              "  </thead>\n",
              "  <tbody>\n",
              "    <tr>\n",
              "      <th>0</th>\n",
              "      <td>2010-02-16</td>\n",
              "      <td>29.0571</td>\n",
              "      <td>135631411</td>\n",
              "      <td>28.8486</td>\n",
              "      <td>29.0986</td>\n",
              "      <td>28.7886</td>\n",
              "      <td>AAPL</td>\n",
              "    </tr>\n",
              "    <tr>\n",
              "      <th>1</th>\n",
              "      <td>2010-02-17</td>\n",
              "      <td>28.9357</td>\n",
              "      <td>108691903</td>\n",
              "      <td>29.1700</td>\n",
              "      <td>29.1871</td>\n",
              "      <td>28.6943</td>\n",
              "      <td>AAPL</td>\n",
              "    </tr>\n",
              "    <tr>\n",
              "      <th>2</th>\n",
              "      <td>2010-02-18</td>\n",
              "      <td>28.9897</td>\n",
              "      <td>105298302</td>\n",
              "      <td>28.8043</td>\n",
              "      <td>29.1271</td>\n",
              "      <td>28.7028</td>\n",
              "      <td>AAPL</td>\n",
              "    </tr>\n",
              "    <tr>\n",
              "      <th>3</th>\n",
              "      <td>2010-02-19</td>\n",
              "      <td>28.8100</td>\n",
              "      <td>103810451</td>\n",
              "      <td>28.8371</td>\n",
              "      <td>29.0286</td>\n",
              "      <td>28.7300</td>\n",
              "      <td>AAPL</td>\n",
              "    </tr>\n",
              "    <tr>\n",
              "      <th>4</th>\n",
              "      <td>2010-02-22</td>\n",
              "      <td>28.6308</td>\n",
              "      <td>97607889</td>\n",
              "      <td>28.9057</td>\n",
              "      <td>28.9286</td>\n",
              "      <td>28.4557</td>\n",
              "      <td>AAPL</td>\n",
              "    </tr>\n",
              "    <tr>\n",
              "      <th>...</th>\n",
              "      <td>...</td>\n",
              "      <td>...</td>\n",
              "      <td>...</td>\n",
              "      <td>...</td>\n",
              "      <td>...</td>\n",
              "      <td>...</td>\n",
              "      <td>...</td>\n",
              "    </tr>\n",
              "    <tr>\n",
              "      <th>2482</th>\n",
              "      <td>2019-12-24</td>\n",
              "      <td>284.2700</td>\n",
              "      <td>12119710</td>\n",
              "      <td>284.6900</td>\n",
              "      <td>284.8900</td>\n",
              "      <td>282.9197</td>\n",
              "      <td>AAPL</td>\n",
              "    </tr>\n",
              "    <tr>\n",
              "      <th>2483</th>\n",
              "      <td>2019-12-26</td>\n",
              "      <td>289.9100</td>\n",
              "      <td>23334000</td>\n",
              "      <td>284.8200</td>\n",
              "      <td>289.9800</td>\n",
              "      <td>284.7000</td>\n",
              "      <td>AAPL</td>\n",
              "    </tr>\n",
              "    <tr>\n",
              "      <th>2484</th>\n",
              "      <td>2019-12-27</td>\n",
              "      <td>289.8000</td>\n",
              "      <td>36592940</td>\n",
              "      <td>291.1200</td>\n",
              "      <td>293.9700</td>\n",
              "      <td>288.1200</td>\n",
              "      <td>AAPL</td>\n",
              "    </tr>\n",
              "    <tr>\n",
              "      <th>2485</th>\n",
              "      <td>2019-12-30</td>\n",
              "      <td>291.5200</td>\n",
              "      <td>36059610</td>\n",
              "      <td>289.4600</td>\n",
              "      <td>292.6900</td>\n",
              "      <td>285.2200</td>\n",
              "      <td>AAPL</td>\n",
              "    </tr>\n",
              "    <tr>\n",
              "      <th>2486</th>\n",
              "      <td>2019-12-31</td>\n",
              "      <td>293.6500</td>\n",
              "      <td>25247630</td>\n",
              "      <td>289.9300</td>\n",
              "      <td>293.6800</td>\n",
              "      <td>289.5200</td>\n",
              "      <td>AAPL</td>\n",
              "    </tr>\n",
              "  </tbody>\n",
              "</table>\n",
              "<p>2487 rows × 7 columns</p>\n",
              "</div>"
            ],
            "text/plain": [
              "           Date     Close     Volume      Open      High       Low Company\n",
              "0    2010-02-16   29.0571  135631411   28.8486   29.0986   28.7886    AAPL\n",
              "1    2010-02-17   28.9357  108691903   29.1700   29.1871   28.6943    AAPL\n",
              "2    2010-02-18   28.9897  105298302   28.8043   29.1271   28.7028    AAPL\n",
              "3    2010-02-19   28.8100  103810451   28.8371   29.0286   28.7300    AAPL\n",
              "4    2010-02-22   28.6308   97607889   28.9057   28.9286   28.4557    AAPL\n",
              "...         ...       ...        ...       ...       ...       ...     ...\n",
              "2482 2019-12-24  284.2700   12119710  284.6900  284.8900  282.9197    AAPL\n",
              "2483 2019-12-26  289.9100   23334000  284.8200  289.9800  284.7000    AAPL\n",
              "2484 2019-12-27  289.8000   36592940  291.1200  293.9700  288.1200    AAPL\n",
              "2485 2019-12-30  291.5200   36059610  289.4600  292.6900  285.2200    AAPL\n",
              "2486 2019-12-31  293.6500   25247630  289.9300  293.6800  289.5200    AAPL\n",
              "\n",
              "[2487 rows x 7 columns]"
            ]
          },
          "metadata": {
            "tags": []
          },
          "execution_count": 51
        }
      ]
    },
    {
      "cell_type": "code",
      "metadata": {
        "id": "wjwirxd4VutM",
        "colab_type": "code",
        "colab": {}
      },
      "source": [
        "# prepare training and testing data sets for LSTM based sequence modeling\n",
        "#def dimitris_function(time_series, scaling=True,split_ratio=0.9):\n",
        "def dimitris_function(time_series,split_ratio=0.9):\n",
        "\n",
        "    series1 = pd.Series(time_series[time_series.columns[0]])\n",
        "    series2 = pd.Series(time_series[time_series.columns[1]])\n",
        "    series3 = pd.Series(time_series[time_series.columns[2]])\n",
        "    series4 = pd.Series(time_series[time_series.columns[3]])\n",
        "    series5 = pd.Series(time_series[time_series.columns[4]])\n",
        "\n",
        "    values1 = series1.values\n",
        "    values1 = values1.reshape((len(values1), 1))\n",
        "    values2 = series2.values\n",
        "    values2 = values2.reshape((len(values2), 1))\n",
        "    values3 = series3.values\n",
        "    values3 = values3.reshape((len(values3), 1))\n",
        "    values4 = series4.values\n",
        "    values4 = values4.reshape((len(values4), 1))\n",
        "    values5 = series5.values\n",
        "    values5 = values5.reshape((len(values5), 1))\n",
        "\n",
        "    #scaler2 --> Close Price Scaler\n",
        "    scaler1 = MinMaxScaler(feature_range=(0, 1))\n",
        "    time_series[\"scaled1\"] = scaler1.fit_transform(values1)\n",
        "    scaler2 = MinMaxScaler(feature_range=(0, 1))\n",
        "    time_series[\"scaled2\"]= scaler2.fit_transform(values2)\n",
        "    scaler3 = MinMaxScaler(feature_range=(0, 1))\n",
        "    time_series[\"scaled3\"]= scaler3.fit_transform(values3)\n",
        "    scaler4 = MinMaxScaler(feature_range=(0, 1))\n",
        "    time_series[\"scaled4\"]= scaler4.fit_transform(values4)\n",
        "    scaler5 = MinMaxScaler(feature_range=(0, 1))\n",
        "    time_series[\"scaled5\"]= scaler5.fit_transform(values5)\n",
        "\n",
        "\n",
        "    time_series = time_series[[\"scaled1\",\"scaled2\",\"scaled3\",\"scaled4\",\"scaled5\"]].values\n",
        "\n",
        "        \n",
        "    split_ratio = int(len(time_series) * split_ratio)\n",
        "\n",
        "    train = time_series[0:split_ratio]\n",
        "    test = time_series[split_ratio:len(time_series)-1]\n",
        "    \n",
        "    # return train,test,scaler1,scaler2\n",
        "    return train,test,scaler2\n"
      ],
      "execution_count": 0,
      "outputs": []
    },
    {
      "cell_type": "code",
      "metadata": {
        "id": "OXyOtBUbQGzo",
        "colab_type": "code",
        "colab": {}
      },
      "source": [
        "#mounting gdrive to save talos results for each run and tensor flow checkpoints\n",
        "mounted = True\n",
        "if not mounted:\n",
        "  from google.colab import drive\n",
        "  drive.mount('/content/gdrive')"
      ],
      "execution_count": 0,
      "outputs": []
    },
    {
      "cell_type": "code",
      "metadata": {
        "id": "UN6DYJT7TXPb",
        "colab_type": "code",
        "colab": {}
      },
      "source": [
        "#def get_seq_model(hidden_units1=40, hidden_units2=65, hidden_units3=32, drop=0.2,input_shape=(1,1)):\n",
        "def get_seq_model(x_train, y_train, x_val, y_val, params):  \n",
        "\n",
        "    # create and fit the LSTM network\n",
        "    model = Sequential()\n",
        "\n",
        "    print(params)\n",
        "    print(type(params))\n",
        "\n",
        "    # samples*timesteps*features\n",
        "    # https://keras.io/getting-started/sequential-model-guide/\n",
        "    #https://journals.plos.org/plosone/article?id=10.1371/journal.pone.0227222\n",
        "\n",
        "    ######!!!!!#####!!!!!\n",
        "    #(train_x.shape[1],5) where 5 is the number of features is equal to :\n",
        "    #(train_x.shape[1],train_x.shape[2])\n",
        "    model.add(LSTM(\n",
        "                   input_shape=(x_train.shape[1],x_train.shape[2]),\n",
        "                   units = params['hidden_1'],  \n",
        "                   #activation='relu',recurrent_activation='sigmoid',\n",
        "                   return_sequences=True\n",
        "    ))\n",
        "    model.add(Dropout(params['dropout']))\n",
        "    model.add(LSTM(\n",
        "                   units = params['hidden_2'],\n",
        "                   #activation='relu',recurrent_activation='sigmoid',\n",
        "                   return_sequences=True\n",
        "    ))\n",
        "    model.add(Dropout(params['dropout']))   \n",
        "    model.add(LSTM(\n",
        "                   units = params['hidden_3'], \n",
        "                   #activation='relu',recurrent_activation='sigmoid',\n",
        "                   return_sequences=False\n",
        "    ))\n",
        "    model.add(Dropout(params['dropout']))\n",
        "\n",
        "    # readout layer. TimeDistributedDense uses the same weights for all\n",
        "    # time steps.\n",
        "    # model.add(TimeDistributed(Dense(1))) #number of inputs in the 1st layer\n",
        "   # model.add(TimeDistributed(Dense(5)))\n",
        "    model.add(Dense(1))\n",
        "    start = time.time()\n",
        "    \n",
        "    model.compile(loss=\"mse\", optimizer=\"rmsprop\")\n",
        "    timestr = time.strftime(\"%Y%m%d-%H%M%S\")\n",
        "    checkpoint_path = \"/content/gdrive/My Drive/checkpoints2\"  + \"/cp-{epoch:04d}.ckpt\"\n",
        "    checkpoint_dir = os.path.dirname(checkpoint_path)\n",
        "    cp_callback = tf.keras.callbacks.ModelCheckpoint(\n",
        "        checkpoint_path, verbose=1, save_weights_only=True,#save_best_only='TRUE'\n",
        "        # Save weights, every 5-epochs.\n",
        "        period=15)\n",
        "    \n",
        "   # early_stop = keras.callbacks.EarlyStopping(monitor='val_loss', patience=40)\n",
        "    \n",
        "    out = model.fit(x_train, y_train,\n",
        "              epochs=params['epochs'], batch_size=1,\n",
        "              validation_data=[x_val, y_val],\n",
        "              #epochs=200, batch_size=1,\n",
        "              verbose=1,#shuffle=False,\n",
        "              callbacks=[cp_callback])\n",
        "\n",
        "    return out, model"
      ],
      "execution_count": 0,
      "outputs": []
    },
    {
      "cell_type": "code",
      "metadata": {
        "id": "tHb3jTx65xsf",
        "colab_type": "code",
        "colab": {}
      },
      "source": [
        "# ls gdrive/\"My Drive\"/checkpoints1"
      ],
      "execution_count": 0,
      "outputs": []
    },
    {
      "cell_type": "code",
      "metadata": {
        "id": "2gbME0KzpaCa",
        "colab_type": "code",
        "colab": {}
      },
      "source": [
        "talos=False;\n",
        "\n",
        "if not talos:\n",
        "  #Chosen final parameters\n",
        "  p = {'hidden_1': 8,\n",
        "     'hidden_2': 16,\n",
        "     'hidden_3': 32,\n",
        "     'dropout': 0.1,\n",
        "     'epochs': 100\n",
        "     }\n",
        "\n",
        "else:\n",
        "  #Parameters for the model optimization in talos\n",
        "  p = {'hidden_1':[8, 16, 32],\n",
        "     'hidden_2':[8, 16, 32],\n",
        "     'hidden_3':[8, 16, 32],\n",
        "     'dropout': [0.1, 0.2],\n",
        "     #'dropout': [0.1],\n",
        "     'epochs': [20, 50, 100]\n",
        "     }"
      ],
      "execution_count": 0,
      "outputs": []
    },
    {
      "cell_type": "code",
      "metadata": {
        "id": "UiL73vb-dFsK",
        "colab_type": "code",
        "colab": {}
      },
      "source": [
        "# print(type(sub_split.Close))\n",
        "sub_split_date=sub_split[['Date']]\n",
        "sub_split=sub_split[['Volume', 'Close', 'Open', 'High', 'Low']]\n",
        "#sub_split.columns[1]"
      ],
      "execution_count": 0,
      "outputs": []
    },
    {
      "cell_type": "code",
      "metadata": {
        "id": "zeAENS4LVpDG",
        "colab_type": "code",
        "outputId": "d9d85dae-9856-4c44-e50d-d3e86e2e210a",
        "colab": {
          "base_uri": "https://localhost:8080/",
          "height": 84
        }
      },
      "source": [
        "# split train and test datasets\n",
        "train,test,scaler_Close = dimitris_function(sub_split,split_ratio=0.7)\n",
        "\n",
        "#train\n",
        "print(len(train))\n",
        "print(train.shape[0])\n",
        "print(train.shape)\n",
        "print(test.shape)\n",
        "# print(train)"
      ],
      "execution_count": 58,
      "outputs": [
        {
          "output_type": "stream",
          "text": [
            "1740\n",
            "1740\n",
            "(1740, 5)\n",
            "(746, 5)\n"
          ],
          "name": "stdout"
        }
      ]
    },
    {
      "cell_type": "code",
      "metadata": {
        "id": "uZG7396CWoy9",
        "colab_type": "code",
        "outputId": "1d61024b-90f7-46d3-abfc-2573967ee57c",
        "colab": {
          "base_uri": "https://localhost:8080/",
          "height": 134
        }
      },
      "source": [
        "#We use numpy to reshape our time series into 3D tensors. long window-ola se ena noikokurimena!\n",
        "################################################################  SPYRO nomizw to 1 einai to close an theloume allo to allazoume###############################################3\n",
        "seq_length=2\n",
        "\n",
        "train_x = []\n",
        "train_y = []\n",
        "for i in range(seq_length,len(train)):\n",
        "    train_x.append(train[i-seq_length:i,1])#edw mporoume na valoume 0,2,3,4\n",
        "    train_y.append(train[i,1])#edw mporoume na valoume 0,2,3,4\n",
        "train_x, train_y = np.array(train_x), np.array(train_y)\n",
        "\n",
        "train_x = np.reshape(train_x, (train_x.shape[0], train_x.shape[1], 1))\n",
        "#train_y = np.reshape(train_y, (train_y.shape[0], train_y.shape[1], 5))\n",
        "test_x = []\n",
        "test_y = []\n",
        "for i in range(seq_length,len(test)):\n",
        "    test_x.append(test[i-seq_length:i,1])#edw mporoume na valoume 0,2,3,4\n",
        "    test_y.append(test[i,1])#edw mporoume na valoume 0,2,3,4\n",
        "test_x, test_y = np.array(test_x), np.array(test_y)\n",
        "test_x = np.reshape(test_x, (test_x.shape[0], test_x.shape[1], 1))\n",
        "#test_y = np.reshape(test_y, (test_y.shape[0], 1, 5))\n",
        "print(\"Data Split Complete\")\n",
        "print(\"train_x shape={}\".format(train_x.shape))\n",
        "print(\"train_y shape={}\".format(train_y.shape))\n",
        "print(\"test_x shape={}\".format(test_x.shape))\n",
        "print(\"test_y shape={}\".format(test_y.shape))\n",
        "train_y"
      ],
      "execution_count": 59,
      "outputs": [
        {
          "output_type": "stream",
          "text": [
            "Data Split Complete\n",
            "train_x shape=(1738, 2, 1)\n",
            "train_y shape=(1738,)\n",
            "test_x shape=(744, 2, 1)\n",
            "test_y shape=(744,)\n"
          ],
          "name": "stdout"
        },
        {
          "output_type": "execute_result",
          "data": {
            "text/plain": [
              "array([0.00315783, 0.00248099, 0.00180604, ..., 0.34214367, 0.34259565,\n",
              "       0.34500621])"
            ]
          },
          "metadata": {
            "tags": []
          },
          "execution_count": 59
        }
      ]
    },
    {
      "cell_type": "code",
      "metadata": {
        "id": "28u6Kogp6yzg",
        "colab_type": "code",
        "outputId": "f71d663b-4331-49a7-8ead-7f97310973a4",
        "colab": {
          "base_uri": "https://localhost:8080/",
          "height": 790
        }
      },
      "source": [
        "load_from_checkpoint=False;\n",
        "\n",
        "seq_lstm_model=None\n",
        "if load_from_checkpoint:\n",
        "  #Load the latest checkpoint saved in Drive #'gdrive/My Drive/checkpoints1/cp-0090.ckpt'\n",
        "  ####\n",
        "  latest=tf.train.latest_checkpoint(\"gdrive/My Drive/checkpoints2\")\n",
        "  print(latest)\n",
        "  #Create the model and train for 1 epoch to get the NN stracture\n",
        "  p['epochs']=1\n",
        "  try:\n",
        "    seq_lstm_model=get_seq_model(train_x,train_y,test_x,test_y,p)\n",
        "  except:\n",
        "    print(\"Model Build Failed. Trying Again\")\n",
        "    seq_lstm_model = get_seq_model(train_x,train_y,test_x,test_y,p)\n",
        "  #Load the weight of the checkpoint to the NN \n",
        "  seq_lstm_model[1].load_weights(latest)\n",
        "else:\n",
        "  # build RNN model and run 100 epochs\n",
        "  p['epochs']=20\n",
        "  try:\n",
        "    seq_lstm_model = get_seq_model(train_x,train_y,test_x,test_y,p)\n",
        "  except:\n",
        "    print(\"Model Build Failed. Trying Again\")\n",
        "    seq_lstm_model = get_seq_model(train_x,train_y,test_x,test_y,p)"
      ],
      "execution_count": 60,
      "outputs": [
        {
          "output_type": "stream",
          "text": [
            "{'hidden_1': 8, 'hidden_2': 16, 'hidden_3': 32, 'dropout': 0.1, 'epochs': 20}\n",
            "<class 'dict'>\n",
            "WARNING:tensorflow:`period` argument is deprecated. Please use `save_freq` to specify the frequency in number of samples seen.\n",
            "Train on 1738 samples, validate on 744 samples\n",
            "Epoch 1/20\n",
            "1738/1738 [==============================] - 18s 10ms/sample - loss: 0.0028 - val_loss: 0.0035\n",
            "Epoch 2/20\n",
            "1738/1738 [==============================] - 14s 8ms/sample - loss: 4.4851e-04 - val_loss: 3.6250e-04\n",
            "Epoch 3/20\n",
            "1738/1738 [==============================] - 14s 8ms/sample - loss: 3.6776e-04 - val_loss: 0.0014\n",
            "Epoch 4/20\n",
            "1738/1738 [==============================] - 13s 8ms/sample - loss: 3.2116e-04 - val_loss: 0.0044\n",
            "Epoch 5/20\n",
            "1738/1738 [==============================] - 13s 8ms/sample - loss: 3.1198e-04 - val_loss: 0.0016\n",
            "Epoch 6/20\n",
            "1738/1738 [==============================] - 14s 8ms/sample - loss: 3.0267e-04 - val_loss: 0.0071\n",
            "Epoch 7/20\n",
            "1738/1738 [==============================] - 13s 8ms/sample - loss: 3.1067e-04 - val_loss: 0.0059\n",
            "Epoch 8/20\n",
            "1738/1738 [==============================] - 13s 8ms/sample - loss: 2.9042e-04 - val_loss: 0.0098\n",
            "Epoch 9/20\n",
            "1738/1738 [==============================] - 14s 8ms/sample - loss: 2.9423e-04 - val_loss: 0.0048\n",
            "Epoch 10/20\n",
            "1738/1738 [==============================] - 14s 8ms/sample - loss: 2.9011e-04 - val_loss: 0.0088\n",
            "Epoch 11/20\n",
            "1738/1738 [==============================] - 14s 8ms/sample - loss: 2.9880e-04 - val_loss: 0.0074\n",
            "Epoch 12/20\n",
            "1738/1738 [==============================] - 14s 8ms/sample - loss: 2.8184e-04 - val_loss: 0.0067\n",
            "Epoch 13/20\n",
            "1738/1738 [==============================] - 13s 8ms/sample - loss: 2.7771e-04 - val_loss: 0.0093\n",
            "Epoch 14/20\n",
            "1738/1738 [==============================] - 14s 8ms/sample - loss: 2.6649e-04 - val_loss: 0.0116\n",
            "Epoch 15/20\n",
            "1734/1738 [============================>.] - ETA: 0s - loss: 2.6307e-04\n",
            "Epoch 00015: saving model to /content/gdrive/My Drive/checkpoints2/cp-0015.ckpt\n",
            "1738/1738 [==============================] - 14s 8ms/sample - loss: 2.6280e-04 - val_loss: 0.0100\n",
            "Epoch 16/20\n",
            "1738/1738 [==============================] - 14s 8ms/sample - loss: 2.5379e-04 - val_loss: 0.0144\n",
            "Epoch 17/20\n",
            "1738/1738 [==============================] - 13s 8ms/sample - loss: 2.6680e-04 - val_loss: 0.0139\n",
            "Epoch 18/20\n",
            "1738/1738 [==============================] - 13s 8ms/sample - loss: 2.3861e-04 - val_loss: 0.0104\n",
            "Epoch 19/20\n",
            "1738/1738 [==============================] - 14s 8ms/sample - loss: 2.6740e-04 - val_loss: 0.0135\n",
            "Epoch 20/20\n",
            "1738/1738 [==============================] - 14s 8ms/sample - loss: 2.3968e-04 - val_loss: 0.0186\n"
          ],
          "name": "stdout"
        }
      ]
    },
    {
      "cell_type": "code",
      "metadata": {
        "id": "WmcJ3-KC4_k-",
        "colab_type": "code",
        "colab": {}
      },
      "source": [
        "# x=np.concatenate((train_x, test_x), axis=1)\n",
        "# y=np.concatenate((train_y, test_y), axis=1)\n",
        "# print(\"x shape={}\".format(x.shape))\n",
        "# print(\"y shape={}\".format(y.shape))\n",
        "# import talos\n",
        "# "
      ],
      "execution_count": 0,
      "outputs": []
    },
    {
      "cell_type": "code",
      "metadata": {
        "id": "DqTCq2NDTQFL",
        "colab_type": "code",
        "colab": {}
      },
      "source": [
        "%%capture\n",
        "talos=False;\n",
        "if talos:\n",
        "  import talos\n",
        "  # 100\t0.0005776109765\t0.001970537574\t0.1\t100\t8\t16\t32\n",
        "  scan_obj = talos.Scan(x=train_x,\n",
        "                        y=train_y,\n",
        "                        x_val=test_x,\n",
        "                        #x_val=train_x,\n",
        "                        y_val=test_y,\n",
        "                      #y_val=train_y,\n",
        "\n",
        "                        params=p,\n",
        "                        val_split=0.1,\n",
        "                        model=get_seq_model,\n",
        "                        #shuffle=False,\n",
        "                        experiment_name='gdrive/My Drive/test',\n",
        "                        #fraction_limit=0.1\n",
        "                        )\n"
      ],
      "execution_count": 0,
      "outputs": []
    },
    {
      "cell_type": "code",
      "metadata": {
        "id": "3maixlgooNbV",
        "colab_type": "code",
        "colab": {}
      },
      "source": [
        "if talos:\n",
        "  print(\"Finished Talos Scan!!\")"
      ],
      "execution_count": 0,
      "outputs": []
    },
    {
      "cell_type": "code",
      "metadata": {
        "id": "q8JQmBWEzSm3",
        "colab_type": "code",
        "colab": {}
      },
      "source": [
        "if talos:\n",
        "  scan_obj.data.head()"
      ],
      "execution_count": 0,
      "outputs": []
    },
    {
      "cell_type": "code",
      "metadata": {
        "id": "MdpHk3OJ22QD",
        "colab_type": "code",
        "colab": {}
      },
      "source": [
        "# train_y"
      ],
      "execution_count": 0,
      "outputs": []
    },
    {
      "cell_type": "code",
      "metadata": {
        "id": "FnQs_OC6XsTz",
        "colab_type": "code",
        "colab": {}
      },
      "source": [
        "# train the model\n",
        "#https://medium.com/@rajath95/how-to-save-and-upload-deep-learning-machine-learning-models-in-google-colab-using-google-drive-eb2901937ae\n",
        "# seq_lstm_model[1].fit(train_x, train_y,\n",
        "#                 epochs=2, batch_size=1,\n",
        "#                 #epochs=200, batch_size=1,\n",
        "#                 verbose=1)\n",
        "# print(\"Model Fit Complete\")"
      ],
      "execution_count": 0,
      "outputs": []
    },
    {
      "cell_type": "code",
      "metadata": {
        "id": "g07f1lEGXu_T",
        "colab_type": "code",
        "outputId": "14868012-529d-4e7a-c895-cc660a7b0c03",
        "colab": {
          "base_uri": "https://localhost:8080/",
          "height": 34
        }
      },
      "source": [
        "# train fit performance\n",
        "trainPredict = seq_lstm_model[1].predict(train_x)\n",
        "trainScore = math.sqrt(mean_squared_error(train_y, trainPredict))\n",
        "print('Train Score: %.2f RMSE' % (trainScore))\n",
        "\n",
        "# Pad input sequence\n",
        "#testPredict = pad_sequences(test_x,maxlen=train_x.shape[1],padding='post',dtype='float64')\n",
        "\n",
        "# forecast values\n",
        "testPredict = seq_lstm_model[1].predict(test_x)\n",
        "#testPredict"
      ],
      "execution_count": 82,
      "outputs": [
        {
          "output_type": "stream",
          "text": [
            "Train Score: 0.01 RMSE\n"
          ],
          "name": "stdout"
        }
      ]
    },
    {
      "cell_type": "code",
      "metadata": {
        "id": "dZSpbu3LtF7t",
        "colab_type": "code",
        "colab": {
          "base_uri": "https://localhost:8080/",
          "height": 50
        },
        "outputId": "bedb6586-94e2-442e-92b8-423bafa82222"
      },
      "source": [
        "trainPredict = seq_lstm_model[1].predict(train_x)\n",
        "trainPredict\n",
        "train_y"
      ],
      "execution_count": 69,
      "outputs": [
        {
          "output_type": "execute_result",
          "data": {
            "text/plain": [
              "array([0.00315783, 0.00248099, 0.00180604, ..., 0.34214367, 0.34259565,\n",
              "       0.34500621])"
            ]
          },
          "metadata": {
            "tags": []
          },
          "execution_count": 69
        }
      ]
    },
    {
      "cell_type": "code",
      "metadata": {
        "id": "2ssFCbxjhu55",
        "colab_type": "code",
        "colab": {}
      },
      "source": [
        "# print()"
      ],
      "execution_count": 0,
      "outputs": []
    },
    {
      "cell_type": "code",
      "metadata": {
        "id": "URNrqwpl1SbQ",
        "colab_type": "code",
        "colab": {}
      },
      "source": [
        "# trainPredict"
      ],
      "execution_count": 0,
      "outputs": []
    },
    {
      "cell_type": "code",
      "metadata": {
        "id": "XsR5ytjpX2yj",
        "colab_type": "code",
        "colab": {}
      },
      "source": [
        "# # forecast values\n",
        "# testPredict = seq_lstm_model[1].predict(testPredict)\n",
        "# testPredict"
      ],
      "execution_count": 0,
      "outputs": []
    },
    {
      "cell_type": "code",
      "metadata": {
        "id": "KvjYccaoN8hP",
        "colab_type": "code",
        "colab": {}
      },
      "source": [
        "#Drop all other variables except Close Price Output\n",
        "#testPredict=np.delete(testPredict, [2,3,4], 2)\n",
        "#trainPredict=np.delete(trainPredict, [2,3,4], 2)\n",
        "\n",
        "#testPredict=np.delete(testPredict, 0, 1)\n",
        "\n",
        "#trainPredict=np.delete(trainPredict, 0, 1)\n",
        "\n",
        "# # inverse transformation of the Close Price\n",
        "trainPredict = scaler_Close.inverse_transform(trainPredict.\\\n",
        "                                        reshape(-1,1))\n",
        "testPredict = scaler_Close.inverse_transform(testPredict.\\\n",
        "                                       reshape(-1,1))"
      ],
      "execution_count": 0,
      "outputs": []
    },
    {
      "cell_type": "code",
      "metadata": {
        "id": "NRMR0WkN3XIh",
        "colab_type": "code",
        "outputId": "2b5efff9-cdb0-436a-9f13-5d6e88961dba",
        "colab": {
          "base_uri": "https://localhost:8080/",
          "height": 281
        }
      },
      "source": [
        "# plot the true and forecasted values\n",
        "split_ratio = len(trainPredict)+1\n",
        "\n",
        "plt.plot(sub_split_date.Date,\n",
        "          sub_split.Close.values,c='black',\n",
        "          alpha=0.9,label='True Data')\n",
        "\n",
        "plt.plot(sub_split_date.Date[1:split_ratio],\n",
        "          trainPredict,label='Training Fit',c='g')\n",
        "\n",
        "# plt.plot(sub_split_date.Date[split_ratio+1:],\n",
        "#           testPredict[:test_x.shape[1]],label='Testing Forecast')\n",
        "\n",
        "plt.plot(sub_split_date.Date[split_ratio+4:],\n",
        "          testPredict[:test_x.shape[0]],label='Testing Forecast')\n",
        "\n",
        "plt.title('Forecast Plot of Stock ' + comp)\n",
        "plt.legend()\n",
        "#plt.show()\n",
        "plt.rcParams[\"figure.figsize\"] = (20,10)\n",
        "plt.show()"
      ],
      "execution_count": 87,
      "outputs": [
        {
          "output_type": "display_data",
          "data": {
            "image/png": "[encoded data removed]",
            "text/plain": [
              "<Figure size 432x288 with 1 Axes>"
            ]
          },
          "metadata": {
            "tags": [],
            "needs_background": "light"
          }
        }
      ]
    }
  ]
}