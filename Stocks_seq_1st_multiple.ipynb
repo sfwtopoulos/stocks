{
  "nbformat": 4,
  "nbformat_minor": 0,
  "metadata": {
    "colab": {
      "name": "Stocks_seq_1st.ipynb",
      "provenance": [],
      "collapsed_sections": [],
      "toc_visible": true,
      "include_colab_link": true
    },
    "kernelspec": {
      "name": "python3",
      "display_name": "Python 3"
    }
  },
  "cells": [
    {
      "cell_type": "markdown",
      "metadata": {
        "id": "view-in-github",
        "colab_type": "text"
      },
      "source": [
        "<a href=\"https://colab.research.google.com/github/sfwtopoulos/stocks/blob/master/Stocks_seq_1st_multiple.ipynb\" target=\"_parent\"><img src=\"https://colab.research.google.com/assets/colab-badge.svg\" alt=\"Open In Colab\"/></a>"
      ]
    },
    {
      "cell_type": "code",
      "metadata": {
        "id": "DOmxraS5T1wD",
        "colab_type": "code",
        "colab": {}
      },
      "source": [
        "import pandas as pd\n",
        "import matplotlib.pyplot as plt\n",
        "import pandas as pd\n",
        "import math\n",
        "import warnings\n",
        "import numpy as np\n",
        "import time\n",
        "\n",
        "import pandas_datareader as pdr\n",
        "#%tensorflow_version 2.x\n",
        "# Restart runtime using 'Runtime' -> 'Restart runtime...'\n",
        "%tensorflow_version 1.x\n",
        "import tensorflow as tf\n",
        "import keras\n",
        "\n",
        "\n",
        "from keras.layers import LSTM\n",
        "from keras.models import Sequential\n",
        "from keras.layers.wrappers import TimeDistributed\n",
        "from keras.layers.core import Dense, Activation, Dropout\n",
        "from keras.preprocessing.sequence import pad_sequences\n",
        "\n",
        "from sklearn.preprocessing import MinMaxScaler\n",
        "from sklearn.metrics import mean_squared_error\n",
        "import seaborn as sns\n",
        "import matplotlib.pyplot as plt\n",
        "\n",
        "warnings.filterwarnings('ignore',category=FutureWarning)\n",
        "warnings.filterwarnings('ignore', category=DeprecationWarning)"
      ],
      "execution_count": 0,
      "outputs": []
    },
    {
      "cell_type": "code",
      "metadata": {
        "id": "2byEjZdZVJrz",
        "colab_type": "code",
        "outputId": "e99b8624-b0d8-4194-8b98-0dd4b3e6715a",
        "colab": {
          "base_uri": "https://localhost:8080/",
          "height": 50
        }
      },
      "source": [
        "print(keras.__version__)\n",
        "print(tf.__version__)\n",
        "#print(tensorflow.compat.v2.__version__)"
      ],
      "execution_count": 340,
      "outputs": [
        {
          "output_type": "stream",
          "text": [
            "2.2.5\n",
            "1.15.0\n"
          ],
          "name": "stdout"
        }
      ]
    },
    {
      "cell_type": "code",
      "metadata": {
        "id": "tVJdUlQJUDjY",
        "colab_type": "code",
        "colab": {}
      },
      "source": [
        "#Data import from git repo\n",
        "url = 'https://raw.githubusercontent.com/sfwtopoulos/stocks/master/stocks_dataset/combined.csv'\n",
        "#df1 = pd.read_csv(url, error_bad_lines=False)\n",
        "dfstocks = pd.read_csv(url, sep=',')"
      ],
      "execution_count": 0,
      "outputs": []
    },
    {
      "cell_type": "code",
      "metadata": {
        "id": "A1gYAB3OUECs",
        "colab_type": "code",
        "outputId": "0521a225-0662-4ba8-df3b-20b1b165421d",
        "colab": {
          "base_uri": "https://localhost:8080/",
          "height": 134
        }
      },
      "source": [
        "#fix column names\n",
        "dfstocks=dfstocks.rename({' AAPL':'Company', ' Close/Last':'Close', ' Volume':'Volume', ' Open':'Open', ' High':'High', ' Low':'Low'}, axis=1);\n",
        "for col in dfstocks.columns: \n",
        "    print(col) "
      ],
      "execution_count": 342,
      "outputs": [
        {
          "output_type": "stream",
          "text": [
            "Date\n",
            "Close\n",
            "Volume\n",
            "Open\n",
            "High\n",
            "Low\n",
            "Company\n"
          ],
          "name": "stdout"
        }
      ]
    },
    {
      "cell_type": "code",
      "metadata": {
        "id": "vlSTPXYHUHSB",
        "colab_type": "code",
        "colab": {}
      },
      "source": [
        "#drop $sign from values\n",
        "dfstocks.Close=dfstocks['Close'].astype(str)\n",
        "dfstocks.Close=dfstocks.Close.apply(lambda x: x.replace('$',''))\n",
        "dfstocks.Open=dfstocks['Open'].astype(str)\n",
        "dfstocks.Open=dfstocks.Open.apply(lambda x: x.replace('$',''))\n",
        "dfstocks.High=dfstocks['High'].astype(str)\n",
        "dfstocks.High=dfstocks.High.apply(lambda x: x.replace('$',''))\n",
        "dfstocks.Low=dfstocks['Low'].astype(str)\n",
        "dfstocks.Low=dfstocks.Low.apply(lambda x: x.replace('$',''))"
      ],
      "execution_count": 0,
      "outputs": []
    },
    {
      "cell_type": "code",
      "metadata": {
        "id": "F4cxCV_YUJGa",
        "colab_type": "code",
        "outputId": "ba34b814-d247-4270-bb1c-b2957c63189c",
        "colab": {
          "base_uri": "https://localhost:8080/",
          "height": 34
        }
      },
      "source": [
        "#drop rows containing nan or header from the csv files\n",
        "dfstocks=dfstocks[~dfstocks.Low.str.contains(\"nan\")]\n",
        "dfstocks=dfstocks[~dfstocks.Low.str.contains(\"Low\")]\n",
        "dfstocks=dfstocks[~dfstocks.Low.str.contains(\"N/A\")]\n",
        "dfstocks=dfstocks[~dfstocks.Volume.str.contains(\"N/A\")]\n",
        "dfstocks.reset_index(drop=True, inplace=True)\n",
        "dfstocks.Date.count()"
      ],
      "execution_count": 344,
      "outputs": [
        {
          "output_type": "execute_result",
          "data": {
            "text/plain": [
              "229269"
            ]
          },
          "metadata": {
            "tags": []
          },
          "execution_count": 344
        }
      ]
    },
    {
      "cell_type": "code",
      "metadata": {
        "id": "te4JUA9lUL06",
        "colab_type": "code",
        "outputId": "5e2e319b-2a44-4a85-9c8a-2917ca918e30",
        "colab": {
          "base_uri": "https://localhost:8080/",
          "height": 402
        }
      },
      "source": [
        "#sort dataframe based on date and Company Name\n",
        "dfstocks = dfstocks.sort_values(['Date', 'Company'])\n",
        "dfstocks.head(100)"
      ],
      "execution_count": 345,
      "outputs": [
        {
          "output_type": "execute_result",
          "data": {
            "text/html": [
              "<div>\n",
              "<style scoped>\n",
              "    .dataframe tbody tr th:only-of-type {\n",
              "        vertical-align: middle;\n",
              "    }\n",
              "\n",
              "    .dataframe tbody tr th {\n",
              "        vertical-align: top;\n",
              "    }\n",
              "\n",
              "    .dataframe thead th {\n",
              "        text-align: right;\n",
              "    }\n",
              "</style>\n",
              "<table border=\"1\" class=\"dataframe\">\n",
              "  <thead>\n",
              "    <tr style=\"text-align: right;\">\n",
              "      <th></th>\n",
              "      <th>Date</th>\n",
              "      <th>Close</th>\n",
              "      <th>Volume</th>\n",
              "      <th>Open</th>\n",
              "      <th>High</th>\n",
              "      <th>Low</th>\n",
              "      <th>Company</th>\n",
              "    </tr>\n",
              "  </thead>\n",
              "  <tbody>\n",
              "    <tr>\n",
              "      <th>1761</th>\n",
              "      <td>01/02/2013</td>\n",
              "      <td>78.4328</td>\n",
              "      <td>139906732</td>\n",
              "      <td>79.1171</td>\n",
              "      <td>79.2857</td>\n",
              "      <td>77.3757</td>\n",
              "      <td>AAPL</td>\n",
              "    </tr>\n",
              "    <tr>\n",
              "      <th>4248</th>\n",
              "      <td>01/02/2013</td>\n",
              "      <td>35.12</td>\n",
              "      <td>13767660</td>\n",
              "      <td>34.92</td>\n",
              "      <td>35.4</td>\n",
              "      <td>34.1</td>\n",
              "      <td>ABBV</td>\n",
              "    </tr>\n",
              "    <tr>\n",
              "      <th>6025</th>\n",
              "      <td>01/02/2013</td>\n",
              "      <td>32.05</td>\n",
              "      <td>20266410</td>\n",
              "      <td>32.3</td>\n",
              "      <td>32.45</td>\n",
              "      <td>31.64</td>\n",
              "      <td>ABT</td>\n",
              "    </tr>\n",
              "    <tr>\n",
              "      <th>8512</th>\n",
              "      <td>01/02/2013</td>\n",
              "      <td>69.06</td>\n",
              "      <td>4039095</td>\n",
              "      <td>67.59</td>\n",
              "      <td>69.06</td>\n",
              "      <td>67.55</td>\n",
              "      <td>ACN</td>\n",
              "    </tr>\n",
              "    <tr>\n",
              "      <th>10999</th>\n",
              "      <td>01/02/2013</td>\n",
              "      <td>38.34</td>\n",
              "      <td>6483720</td>\n",
              "      <td>37.92</td>\n",
              "      <td>38.73</td>\n",
              "      <td>37.92</td>\n",
              "      <td>ADBE</td>\n",
              "    </tr>\n",
              "    <tr>\n",
              "      <th>...</th>\n",
              "      <td>...</td>\n",
              "      <td>...</td>\n",
              "      <td>...</td>\n",
              "      <td>...</td>\n",
              "      <td>...</td>\n",
              "      <td>...</td>\n",
              "      <td>...</td>\n",
              "    </tr>\n",
              "    <tr>\n",
              "      <th>10747</th>\n",
              "      <td>01/02/2014</td>\n",
              "      <td>59.29</td>\n",
              "      <td>2745895</td>\n",
              "      <td>59.06</td>\n",
              "      <td>59.53</td>\n",
              "      <td>58.94</td>\n",
              "      <td>ADBE</td>\n",
              "    </tr>\n",
              "    <tr>\n",
              "      <th>13234</th>\n",
              "      <td>01/02/2014</td>\n",
              "      <td>168.05</td>\n",
              "      <td>1268722</td>\n",
              "      <td>167.33</td>\n",
              "      <td>170.71</td>\n",
              "      <td>166.5937</td>\n",
              "      <td>AGN</td>\n",
              "    </tr>\n",
              "    <tr>\n",
              "      <th>15721</th>\n",
              "      <td>01/02/2014</td>\n",
              "      <td>50.71</td>\n",
              "      <td>9196092</td>\n",
              "      <td>50.81</td>\n",
              "      <td>51.3</td>\n",
              "      <td>50.47</td>\n",
              "      <td>AIG</td>\n",
              "    </tr>\n",
              "    <tr>\n",
              "      <th>18208</th>\n",
              "      <td>01/02/2014</td>\n",
              "      <td>53.55</td>\n",
              "      <td>1909106</td>\n",
              "      <td>54.09</td>\n",
              "      <td>54.45</td>\n",
              "      <td>53.5</td>\n",
              "      <td>ALL</td>\n",
              "    </tr>\n",
              "    <tr>\n",
              "      <th>20695</th>\n",
              "      <td>01/02/2014</td>\n",
              "      <td>115.795</td>\n",
              "      <td>2528751</td>\n",
              "      <td>114.36</td>\n",
              "      <td>116.19</td>\n",
              "      <td>114.06</td>\n",
              "      <td>AMGN</td>\n",
              "    </tr>\n",
              "  </tbody>\n",
              "</table>\n",
              "<p>100 rows × 7 columns</p>\n",
              "</div>"
            ],
            "text/plain": [
              "             Date     Close      Volume      Open      High        Low Company\n",
              "1761   01/02/2013   78.4328   139906732   79.1171   79.2857    77.3757    AAPL\n",
              "4248   01/02/2013     35.12    13767660     34.92      35.4       34.1    ABBV\n",
              "6025   01/02/2013     32.05    20266410      32.3     32.45      31.64     ABT\n",
              "8512   01/02/2013     69.06     4039095     67.59     69.06      67.55     ACN\n",
              "10999  01/02/2013     38.34     6483720     37.92     38.73      37.92    ADBE\n",
              "...           ...       ...         ...       ...       ...        ...     ...\n",
              "10747  01/02/2014     59.29     2745895     59.06     59.53      58.94    ADBE\n",
              "13234  01/02/2014    168.05     1268722    167.33    170.71   166.5937     AGN\n",
              "15721  01/02/2014     50.71     9196092     50.81      51.3      50.47     AIG\n",
              "18208  01/02/2014     53.55     1909106     54.09     54.45       53.5     ALL\n",
              "20695  01/02/2014   115.795     2528751    114.36    116.19     114.06    AMGN\n",
              "\n",
              "[100 rows x 7 columns]"
            ]
          },
          "metadata": {
            "tags": []
          },
          "execution_count": 345
        }
      ]
    },
    {
      "cell_type": "code",
      "metadata": {
        "id": "SvGv9U_NHZcv",
        "colab_type": "code",
        "outputId": "257caeba-8102-488f-afcc-8cbd1da7a747",
        "colab": {
          "base_uri": "https://localhost:8080/",
          "height": 151
        }
      },
      "source": [
        "#Converting Datatypes\n",
        "dfstocks.Date=pd.to_datetime(dfstocks.Date)\n",
        "dfstocks.Close=pd.to_numeric(dfstocks.Close)\n",
        "dfstocks.Volume=pd.to_numeric(dfstocks.Volume)\n",
        "dfstocks.Open=pd.to_numeric(dfstocks.Open)\n",
        "dfstocks.High=pd.to_numeric(dfstocks.High)\n",
        "dfstocks.Low=pd.to_numeric(dfstocks.Low)\n",
        "dfstocks.dtypes"
      ],
      "execution_count": 346,
      "outputs": [
        {
          "output_type": "execute_result",
          "data": {
            "text/plain": [
              "Date       datetime64[ns]\n",
              "Close             float64\n",
              "Volume              int64\n",
              "Open              float64\n",
              "High              float64\n",
              "Low               float64\n",
              "Company            object\n",
              "dtype: object"
            ]
          },
          "metadata": {
            "tags": []
          },
          "execution_count": 346
        }
      ]
    },
    {
      "cell_type": "code",
      "metadata": {
        "id": "rsD9-1pONB6V",
        "colab_type": "code",
        "outputId": "0fda92e7-c851-4fc5-93a5-f8a8dca95013",
        "colab": {
          "base_uri": "https://localhost:8080/",
          "height": 34
        }
      },
      "source": [
        "#dfstocks[dfstocks['Company'].str.contains(\"AMZN\")]\n",
        "sub_split=dfstocks[dfstocks['Company'].str.contains(\"MDLZ\")]\n",
        "sub_split.isnull().values.any()\n",
        "sub_split.isna().values.any()\n",
        "sub_split = sub_split.sort_values(['Date'])\n",
        "sub_split.reset_index(drop=True, inplace=True)\n",
        "sub_split.shape[0]"
      ],
      "execution_count": 347,
      "outputs": [
        {
          "output_type": "execute_result",
          "data": {
            "text/plain": [
              "2487"
            ]
          },
          "metadata": {
            "tags": []
          },
          "execution_count": 347
        }
      ]
    },
    {
      "cell_type": "code",
      "metadata": {
        "id": "te-gSnYPU0wX",
        "colab_type": "code",
        "outputId": "6e62dff6-d855-4853-94a2-245b6ac06087",
        "colab": {
          "base_uri": "https://localhost:8080/",
          "height": 402
        }
      },
      "source": [
        "sub_split"
      ],
      "execution_count": 348,
      "outputs": [
        {
          "output_type": "execute_result",
          "data": {
            "text/html": [
              "<div>\n",
              "<style scoped>\n",
              "    .dataframe tbody tr th:only-of-type {\n",
              "        vertical-align: middle;\n",
              "    }\n",
              "\n",
              "    .dataframe tbody tr th {\n",
              "        vertical-align: top;\n",
              "    }\n",
              "\n",
              "    .dataframe thead th {\n",
              "        text-align: right;\n",
              "    }\n",
              "</style>\n",
              "<table border=\"1\" class=\"dataframe\">\n",
              "  <thead>\n",
              "    <tr style=\"text-align: right;\">\n",
              "      <th></th>\n",
              "      <th>Date</th>\n",
              "      <th>Close</th>\n",
              "      <th>Volume</th>\n",
              "      <th>Open</th>\n",
              "      <th>High</th>\n",
              "      <th>Low</th>\n",
              "      <th>Company</th>\n",
              "    </tr>\n",
              "  </thead>\n",
              "  <tbody>\n",
              "    <tr>\n",
              "      <th>0</th>\n",
              "      <td>2010-02-16</td>\n",
              "      <td>19.3633</td>\n",
              "      <td>54149150</td>\n",
              "      <td>19.1695</td>\n",
              "      <td>19.3633</td>\n",
              "      <td>18.9288</td>\n",
              "      <td>MDLZ</td>\n",
              "    </tr>\n",
              "    <tr>\n",
              "      <th>1</th>\n",
              "      <td>2010-02-17</td>\n",
              "      <td>19.1360</td>\n",
              "      <td>24833350</td>\n",
              "      <td>19.2898</td>\n",
              "      <td>19.3499</td>\n",
              "      <td>19.0157</td>\n",
              "      <td>MDLZ</td>\n",
              "    </tr>\n",
              "    <tr>\n",
              "      <th>2</th>\n",
              "      <td>2010-02-18</td>\n",
              "      <td>19.2564</td>\n",
              "      <td>20606450</td>\n",
              "      <td>19.1494</td>\n",
              "      <td>19.2564</td>\n",
              "      <td>19.0324</td>\n",
              "      <td>MDLZ</td>\n",
              "    </tr>\n",
              "    <tr>\n",
              "      <th>3</th>\n",
              "      <td>2010-02-19</td>\n",
              "      <td>19.3299</td>\n",
              "      <td>15497250</td>\n",
              "      <td>19.2229</td>\n",
              "      <td>19.4168</td>\n",
              "      <td>19.1494</td>\n",
              "      <td>MDLZ</td>\n",
              "    </tr>\n",
              "    <tr>\n",
              "      <th>4</th>\n",
              "      <td>2010-02-22</td>\n",
              "      <td>19.3499</td>\n",
              "      <td>27292690</td>\n",
              "      <td>19.3098</td>\n",
              "      <td>19.4435</td>\n",
              "      <td>19.1494</td>\n",
              "      <td>MDLZ</td>\n",
              "    </tr>\n",
              "    <tr>\n",
              "      <th>...</th>\n",
              "      <td>...</td>\n",
              "      <td>...</td>\n",
              "      <td>...</td>\n",
              "      <td>...</td>\n",
              "      <td>...</td>\n",
              "      <td>...</td>\n",
              "      <td>...</td>\n",
              "    </tr>\n",
              "    <tr>\n",
              "      <th>2482</th>\n",
              "      <td>2019-12-24</td>\n",
              "      <td>54.9900</td>\n",
              "      <td>1833763</td>\n",
              "      <td>54.9400</td>\n",
              "      <td>55.1800</td>\n",
              "      <td>54.7400</td>\n",
              "      <td>MDLZ</td>\n",
              "    </tr>\n",
              "    <tr>\n",
              "      <th>2483</th>\n",
              "      <td>2019-12-26</td>\n",
              "      <td>54.8500</td>\n",
              "      <td>3565549</td>\n",
              "      <td>54.9700</td>\n",
              "      <td>55.0741</td>\n",
              "      <td>54.7200</td>\n",
              "      <td>MDLZ</td>\n",
              "    </tr>\n",
              "    <tr>\n",
              "      <th>2484</th>\n",
              "      <td>2019-12-27</td>\n",
              "      <td>55.2800</td>\n",
              "      <td>4229449</td>\n",
              "      <td>54.9300</td>\n",
              "      <td>55.3300</td>\n",
              "      <td>54.8000</td>\n",
              "      <td>MDLZ</td>\n",
              "    </tr>\n",
              "    <tr>\n",
              "      <th>2485</th>\n",
              "      <td>2019-12-30</td>\n",
              "      <td>55.0000</td>\n",
              "      <td>3104187</td>\n",
              "      <td>54.9200</td>\n",
              "      <td>55.0700</td>\n",
              "      <td>54.5651</td>\n",
              "      <td>MDLZ</td>\n",
              "    </tr>\n",
              "    <tr>\n",
              "      <th>2486</th>\n",
              "      <td>2019-12-31</td>\n",
              "      <td>55.0800</td>\n",
              "      <td>5039525</td>\n",
              "      <td>55.0500</td>\n",
              "      <td>55.1400</td>\n",
              "      <td>54.7600</td>\n",
              "      <td>MDLZ</td>\n",
              "    </tr>\n",
              "  </tbody>\n",
              "</table>\n",
              "<p>2487 rows × 7 columns</p>\n",
              "</div>"
            ],
            "text/plain": [
              "           Date    Close    Volume     Open     High      Low Company\n",
              "0    2010-02-16  19.3633  54149150  19.1695  19.3633  18.9288    MDLZ\n",
              "1    2010-02-17  19.1360  24833350  19.2898  19.3499  19.0157    MDLZ\n",
              "2    2010-02-18  19.2564  20606450  19.1494  19.2564  19.0324    MDLZ\n",
              "3    2010-02-19  19.3299  15497250  19.2229  19.4168  19.1494    MDLZ\n",
              "4    2010-02-22  19.3499  27292690  19.3098  19.4435  19.1494    MDLZ\n",
              "...         ...      ...       ...      ...      ...      ...     ...\n",
              "2482 2019-12-24  54.9900   1833763  54.9400  55.1800  54.7400    MDLZ\n",
              "2483 2019-12-26  54.8500   3565549  54.9700  55.0741  54.7200    MDLZ\n",
              "2484 2019-12-27  55.2800   4229449  54.9300  55.3300  54.8000    MDLZ\n",
              "2485 2019-12-30  55.0000   3104187  54.9200  55.0700  54.5651    MDLZ\n",
              "2486 2019-12-31  55.0800   5039525  55.0500  55.1400  54.7600    MDLZ\n",
              "\n",
              "[2487 rows x 7 columns]"
            ]
          },
          "metadata": {
            "tags": []
          },
          "execution_count": 348
        }
      ]
    },
    {
      "cell_type": "code",
      "metadata": {
        "id": "wjwirxd4VutM",
        "colab_type": "code",
        "colab": {}
      },
      "source": [
        "# prepare training and testing data sets for LSTM based sequence modeling\n",
        "#def dimitris_function(time_series, scaling=True,split_ratio=0.9):\n",
        "def dimitris_function(time_series,split_ratio=0.9):\n",
        "\n",
        "    series1 = pd.Series(time_series[time_series.columns[0]])\n",
        "    series2 = pd.Series(time_series[time_series.columns[1]])\n",
        "    series3 = pd.Series(time_series[time_series.columns[2]])\n",
        "    series4 = pd.Series(time_series[time_series.columns[3]])\n",
        "    series5 = pd.Series(time_series[time_series.columns[4]])\n",
        "\n",
        "    values1 = series1.values\n",
        "    values1 = values1.reshape((len(values1), 1))\n",
        "    values2 = series2.values\n",
        "    values2 = values2.reshape((len(values2), 1))\n",
        "    values3 = series3.values\n",
        "    values3 = values3.reshape((len(values3), 1))\n",
        "    values4 = series4.values\n",
        "    values4 = values4.reshape((len(values4), 1))\n",
        "    values5 = series5.values\n",
        "    values5 = values5.reshape((len(values5), 1))\n",
        "\n",
        "    #scaler2 --> Close Price Scaler\n",
        "    scaler1 = MinMaxScaler(feature_range=(0, 1))\n",
        "    time_series[\"scaled1\"] = scaler1.fit_transform(values1)\n",
        "    scaler2 = MinMaxScaler(feature_range=(0, 1))\n",
        "    time_series[\"scaled2\"]= scaler2.fit_transform(values2)\n",
        "    scaler3 = MinMaxScaler(feature_range=(0, 1))\n",
        "    time_series[\"scaled3\"]= scaler3.fit_transform(values3)\n",
        "    scaler4 = MinMaxScaler(feature_range=(0, 1))\n",
        "    time_series[\"scaled4\"]= scaler4.fit_transform(values4)\n",
        "    scaler5 = MinMaxScaler(feature_range=(0, 1))\n",
        "    time_series[\"scaled5\"]= scaler5.fit_transform(values5)\n",
        "\n",
        "\n",
        "    time_series = time_series[[\"scaled1\",\"scaled2\",\"scaled3\",\"scaled4\",\"scaled5\"]].values\n",
        "\n",
        "        \n",
        "    split_ratio = int(len(time_series) * split_ratio)\n",
        "\n",
        "    train = time_series[0:split_ratio]\n",
        "    test = time_series[split_ratio:len(time_series)]\n",
        "    \n",
        "    # return train,test,scaler1,scaler2\n",
        "    return train,test,scaler2\n"
      ],
      "execution_count": 0,
      "outputs": []
    },
    {
      "cell_type": "code",
      "metadata": {
        "id": "UN6DYJT7TXPb",
        "colab_type": "code",
        "colab": {}
      },
      "source": [
        "def get_seq_model(hidden_units=40,input_shape=(1,1)):\n",
        "    # create and fit the LSTM network\n",
        "    model = Sequential()\n",
        "    # samples*timesteps*features\n",
        "    # https://keras.io/getting-started/sequential-model-guide/\n",
        "    #https://journals.plos.org/plosone/article?id=10.1371/journal.pone.0227222\n",
        "    #relu_advanced=keras.activations.relu(x,)\n",
        "    model.add(LSTM(input_shape=input_shape,\n",
        "                   units = hidden_units,  \n",
        "                   #activation='relu',recurrent_activation='sigmoid',\n",
        "                                      return_sequences=True\n",
        "    ))\n",
        "    model.add(Dropout(0.2))\n",
        "    model.add(LSTM(\n",
        "                   units = 65,  \n",
        "                   #activation='relu',recurrent_activation='sigmoid',\n",
        "                                      return_sequences=True\n",
        "    ))\n",
        "    model.add(Dropout(0.2))   \n",
        "    model.add(LSTM(\n",
        "                   units =32,  \n",
        "                   #activation='relu',recurrent_activation='sigmoid',\n",
        "                                      return_sequences=True\n",
        "    ))\n",
        "    model.add(Dropout(0.2))\n",
        "\n",
        "    # readout layer. TimeDistributedDense uses the same weights for all\n",
        "    # time steps.\n",
        "    # model.add(TimeDistributed(Dense(1))) #number of inputs in the 1st layer\n",
        "   # model.add(TimeDistributed(Dense(5)))\n",
        "    model.add(TimeDistributed(Dense(5)))\n",
        "    start = time.time()\n",
        "    \n",
        "    model.compile(loss=\"mse\", optimizer=\"rmsprop\")\n",
        "\n",
        "    print(\"> Compilation Time : \", time.time() - start)\n",
        "    print(model.summary())\n",
        "\n",
        "    return model"
      ],
      "execution_count": 0,
      "outputs": []
    },
    {
      "cell_type": "code",
      "metadata": {
        "id": "UiL73vb-dFsK",
        "colab_type": "code",
        "colab": {}
      },
      "source": [
        "# print(type(sub_split.Close))\n",
        "sub_split_date=sub_split[['Date']]\n",
        "sub_split=sub_split[['Volume', 'Close', 'Open', 'High', 'Low']]\n",
        "#sub_split.columns[1]"
      ],
      "execution_count": 0,
      "outputs": []
    },
    {
      "cell_type": "code",
      "metadata": {
        "id": "zeAENS4LVpDG",
        "colab_type": "code",
        "outputId": "5ca73320-401f-455e-bafd-ec80032083ca",
        "colab": {
          "base_uri": "https://localhost:8080/",
          "height": 286
        }
      },
      "source": [
        "# split train and test datasets\n",
        "train,test,scaler_Close = dimitris_function(sub_split,split_ratio=0.7)\n",
        "\n",
        "#train\n",
        "print(len(train))\n",
        "print(train.shape[0])\n",
        "print(train.shape)\n",
        "print(test.shape)\n",
        "print(train)"
      ],
      "execution_count": 352,
      "outputs": [
        {
          "output_type": "stream",
          "text": [
            "1740\n",
            "1740\n",
            "(1740, 5)\n",
            "(747, 5)\n",
            "[[0.88815584 0.02021012 0.01335138 0.01636724 0.01466068]\n",
            " [0.39046289 0.01423411 0.01651313 0.01601441 0.01695744]\n",
            " [0.31870301 0.01739958 0.01282311 0.01355248 0.01739882]\n",
            " ...\n",
            " [0.07876951 0.68608191 0.69959394 0.69877535 0.69367717]\n",
            " [0.13961111 0.67241044 0.68067072 0.68508332 0.68019791]\n",
            " [0.10580105 0.69607261 0.66910654 0.69890701 0.68019791]]\n"
          ],
          "name": "stdout"
        },
        {
          "output_type": "stream",
          "text": [
            "/usr/local/lib/python3.6/dist-packages/ipykernel_launcher.py:22: SettingWithCopyWarning: \n",
            "A value is trying to be set on a copy of a slice from a DataFrame.\n",
            "Try using .loc[row_indexer,col_indexer] = value instead\n",
            "\n",
            "See the caveats in the documentation: http://pandas.pydata.org/pandas-docs/stable/user_guide/indexing.html#returning-a-view-versus-a-copy\n"
          ],
          "name": "stderr"
        }
      ]
    },
    {
      "cell_type": "code",
      "metadata": {
        "id": "uZG7396CWoy9",
        "colab_type": "code",
        "outputId": "536a9420-0223-49c3-f284-510a826f3eff",
        "colab": {
          "base_uri": "https://localhost:8080/",
          "height": 101
        }
      },
      "source": [
        "#We use numpy to reshape our time series into 3D tensors.\n",
        "train = np.reshape(train,(1,train.shape[0],5))\n",
        "test = np.reshape(test,(1,test.shape[0],5))\n",
        "\n",
        "train_x = train[:,:-1,:]\n",
        "train_y = train[:,1:,:]\n",
        "\n",
        "test_x = test[:,:-1,:]\n",
        "test_y = test[:,1:,:]\n",
        "\n",
        "print(\"Data Split Complete\")\n",
        "\n",
        "print(\"train_x shape={}\".format(train_x.shape))\n",
        "print(\"train_y shape={}\".format(train_y.shape))\n",
        "print(\"test_x shape={}\".format(test_x.shape))\n",
        "print(\"test_y shape={}\".format(test_y.shape))"
      ],
      "execution_count": 353,
      "outputs": [
        {
          "output_type": "stream",
          "text": [
            "Data Split Complete\n",
            "train_x shape=(1, 1739, 5)\n",
            "train_y shape=(1, 1739, 5)\n",
            "test_x shape=(1, 746, 5)\n",
            "test_y shape=(1, 746, 5)\n"
          ],
          "name": "stdout"
        }
      ]
    },
    {
      "cell_type": "code",
      "metadata": {
        "id": "DqTCq2NDTQFL",
        "colab_type": "code",
        "outputId": "c15b0e47-d946-4770-a1d7-c98a805f36a1",
        "colab": {
          "base_uri": "https://localhost:8080/",
          "height": 420
        }
      },
      "source": [
        "# build RNN model\n",
        "seq_lstm_model=None\n",
        "try:\n",
        "    seq_lstm_model = get_seq_model(input_shape=(train_x.shape[1],5))\n",
        "except:\n",
        "    print(\"Model Build Failed. Trying Again\")\n",
        "    seq_lstm_model = get_seq_model(input_shape=(train_x.shape[1],5))"
      ],
      "execution_count": 354,
      "outputs": [
        {
          "output_type": "stream",
          "text": [
            "> Compilation Time :  0.3503296375274658\n",
            "Model: \"sequential_28\"\n",
            "_________________________________________________________________\n",
            "Layer (type)                 Output Shape              Param #   \n",
            "=================================================================\n",
            "lstm_32 (LSTM)               (None, 1739, 40)          7360      \n",
            "_________________________________________________________________\n",
            "dropout_29 (Dropout)         (None, 1739, 40)          0         \n",
            "_________________________________________________________________\n",
            "lstm_33 (LSTM)               (None, 1739, 65)          27560     \n",
            "_________________________________________________________________\n",
            "dropout_30 (Dropout)         (None, 1739, 65)          0         \n",
            "_________________________________________________________________\n",
            "lstm_34 (LSTM)               (None, 1739, 32)          12544     \n",
            "_________________________________________________________________\n",
            "dropout_31 (Dropout)         (None, 1739, 32)          0         \n",
            "_________________________________________________________________\n",
            "time_distributed_18 (TimeDis (None, 1739, 5)           165       \n",
            "=================================================================\n",
            "Total params: 47,629\n",
            "Trainable params: 47,629\n",
            "Non-trainable params: 0\n",
            "_________________________________________________________________\n",
            "None\n"
          ],
          "name": "stdout"
        }
      ]
    },
    {
      "cell_type": "code",
      "metadata": {
        "id": "MdpHk3OJ22QD",
        "colab_type": "code",
        "outputId": "b4d599f4-3def-45a2-e501-0c88df8461a1",
        "colab": {
          "base_uri": "https://localhost:8080/",
          "height": 134
        }
      },
      "source": [
        "train_y"
      ],
      "execution_count": 355,
      "outputs": [
        {
          "output_type": "execute_result",
          "data": {
            "text/plain": [
              "array([[[0.39046289, 0.01423411, 0.01651313, 0.01601441, 0.01695744],\n",
              "        [0.31870301, 0.01739958, 0.01282311, 0.01355248, 0.01739882],\n",
              "        [0.23196437, 0.01933199, 0.01475485, 0.01777594, 0.02049112],\n",
              "        ...,\n",
              "        [0.07876951, 0.68608191, 0.69959394, 0.69877535, 0.69367717],\n",
              "        [0.13961111, 0.67241044, 0.68067072, 0.68508332, 0.68019791],\n",
              "        [0.10580105, 0.69607261, 0.66910654, 0.69890701, 0.68019791]]])"
            ]
          },
          "metadata": {
            "tags": []
          },
          "execution_count": 355
        }
      ]
    },
    {
      "cell_type": "code",
      "metadata": {
        "id": "FnQs_OC6XsTz",
        "colab_type": "code",
        "outputId": "ff93f943-f834-425a-ebe4-e613f2d34f93",
        "colab": {
          "base_uri": "https://localhost:8080/",
          "height": 1000
        }
      },
      "source": [
        "# train the model\n",
        "seq_lstm_model.fit(train_x, train_y,\n",
        "                #epochs=20, batch_size=1,\n",
        "                epochs=250, batch_size=1,\n",
        "                verbose=1)\n",
        "print(\"Model Fit Complete\")"
      ],
      "execution_count": 356,
      "outputs": [
        {
          "output_type": "stream",
          "text": [
            "Epoch 1/250\n",
            "1/1 [==============================] - 8s 8s/step - loss: 0.1254\n",
            "Epoch 2/250\n",
            "1/1 [==============================] - 3s 3s/step - loss: 0.0584\n",
            "Epoch 3/250\n",
            "1/1 [==============================] - 3s 3s/step - loss: 0.0256\n",
            "Epoch 4/250\n",
            "1/1 [==============================] - 3s 3s/step - loss: 0.0194\n",
            "Epoch 5/250\n",
            "1/1 [==============================] - 3s 3s/step - loss: 0.0206\n",
            "Epoch 6/250\n",
            "1/1 [==============================] - 3s 3s/step - loss: 0.0249\n",
            "Epoch 7/250\n",
            "1/1 [==============================] - 3s 3s/step - loss: 0.0186\n",
            "Epoch 8/250\n",
            "1/1 [==============================] - 3s 3s/step - loss: 0.0193\n",
            "Epoch 9/250\n",
            "1/1 [==============================] - 3s 3s/step - loss: 0.0155\n",
            "Epoch 10/250\n",
            "1/1 [==============================] - 3s 3s/step - loss: 0.0147\n",
            "Epoch 11/250\n",
            "1/1 [==============================] - 3s 3s/step - loss: 0.0139\n",
            "Epoch 12/250\n",
            "1/1 [==============================] - 3s 3s/step - loss: 0.0137\n",
            "Epoch 13/250\n",
            "1/1 [==============================] - 3s 3s/step - loss: 0.0135\n",
            "Epoch 14/250\n",
            "1/1 [==============================] - 3s 3s/step - loss: 0.0130\n",
            "Epoch 15/250\n",
            "1/1 [==============================] - 3s 3s/step - loss: 0.0129\n",
            "Epoch 16/250\n",
            "1/1 [==============================] - 3s 3s/step - loss: 0.0147\n",
            "Epoch 17/250\n",
            "1/1 [==============================] - 3s 3s/step - loss: 0.0140\n",
            "Epoch 18/250\n",
            "1/1 [==============================] - 3s 3s/step - loss: 0.0159\n",
            "Epoch 19/250\n",
            "1/1 [==============================] - 3s 3s/step - loss: 0.0130\n",
            "Epoch 20/250\n",
            "1/1 [==============================] - 3s 3s/step - loss: 0.0132\n",
            "Epoch 21/250\n",
            "1/1 [==============================] - 3s 3s/step - loss: 0.0117\n",
            "Epoch 22/250\n",
            "1/1 [==============================] - 3s 3s/step - loss: 0.0118\n",
            "Epoch 23/250\n",
            "1/1 [==============================] - 3s 3s/step - loss: 0.0118\n",
            "Epoch 24/250\n",
            "1/1 [==============================] - 3s 3s/step - loss: 0.0122\n",
            "Epoch 25/250\n",
            "1/1 [==============================] - 3s 3s/step - loss: 0.0117\n",
            "Epoch 26/250\n",
            "1/1 [==============================] - 3s 3s/step - loss: 0.0125\n",
            "Epoch 27/250\n",
            "1/1 [==============================] - 3s 3s/step - loss: 0.0127\n",
            "Epoch 28/250\n",
            "1/1 [==============================] - 3s 3s/step - loss: 0.0131\n",
            "Epoch 29/250\n",
            "1/1 [==============================] - 3s 3s/step - loss: 0.0112\n",
            "Epoch 30/250\n",
            "1/1 [==============================] - 3s 3s/step - loss: 0.0109\n",
            "Epoch 31/250\n",
            "1/1 [==============================] - 3s 3s/step - loss: 0.0099\n",
            "Epoch 32/250\n",
            "1/1 [==============================] - 3s 3s/step - loss: 0.0102\n",
            "Epoch 33/250\n",
            "1/1 [==============================] - 3s 3s/step - loss: 0.0103\n",
            "Epoch 34/250\n",
            "1/1 [==============================] - 3s 3s/step - loss: 0.0104\n",
            "Epoch 35/250\n",
            "1/1 [==============================] - 3s 3s/step - loss: 0.0115\n",
            "Epoch 36/250\n",
            "1/1 [==============================] - 3s 3s/step - loss: 0.0133\n",
            "Epoch 37/250\n",
            "1/1 [==============================] - 3s 3s/step - loss: 0.0108\n",
            "Epoch 38/250\n",
            "1/1 [==============================] - 3s 3s/step - loss: 0.0109\n",
            "Epoch 39/250\n",
            "1/1 [==============================] - 3s 3s/step - loss: 0.0090\n",
            "Epoch 40/250\n",
            "1/1 [==============================] - 3s 3s/step - loss: 0.0093\n",
            "Epoch 41/250\n",
            "1/1 [==============================] - 3s 3s/step - loss: 0.0089\n",
            "Epoch 42/250\n",
            "1/1 [==============================] - 3s 3s/step - loss: 0.0092\n",
            "Epoch 43/250\n",
            "1/1 [==============================] - 3s 3s/step - loss: 0.0088\n",
            "Epoch 44/250\n",
            "1/1 [==============================] - 3s 3s/step - loss: 0.0101\n",
            "Epoch 45/250\n",
            "1/1 [==============================] - 3s 3s/step - loss: 0.0119\n",
            "Epoch 46/250\n",
            "1/1 [==============================] - 3s 3s/step - loss: 0.0141\n",
            "Epoch 47/250\n",
            "1/1 [==============================] - 3s 3s/step - loss: 0.0097\n",
            "Epoch 48/250\n",
            "1/1 [==============================] - 3s 3s/step - loss: 0.0093\n",
            "Epoch 49/250\n",
            "1/1 [==============================] - 3s 3s/step - loss: 0.0089\n",
            "Epoch 50/250\n",
            "1/1 [==============================] - 3s 3s/step - loss: 0.0087\n",
            "Epoch 51/250\n",
            "1/1 [==============================] - 3s 3s/step - loss: 0.0089\n",
            "Epoch 52/250\n",
            "1/1 [==============================] - 3s 3s/step - loss: 0.0102\n",
            "Epoch 53/250\n",
            "1/1 [==============================] - 3s 3s/step - loss: 0.0093\n",
            "Epoch 54/250\n",
            "1/1 [==============================] - 3s 3s/step - loss: 0.0103\n",
            "Epoch 55/250\n",
            "1/1 [==============================] - 3s 3s/step - loss: 0.0094\n",
            "Epoch 56/250\n",
            "1/1 [==============================] - 3s 3s/step - loss: 0.0094\n",
            "Epoch 57/250\n",
            "1/1 [==============================] - 3s 3s/step - loss: 0.0086\n",
            "Epoch 58/250\n",
            "1/1 [==============================] - 3s 3s/step - loss: 0.0095\n",
            "Epoch 59/250\n",
            "1/1 [==============================] - 3s 3s/step - loss: 0.0093\n",
            "Epoch 60/250\n",
            "1/1 [==============================] - 3s 3s/step - loss: 0.0104\n",
            "Epoch 61/250\n",
            "1/1 [==============================] - 3s 3s/step - loss: 0.0091\n",
            "Epoch 62/250\n",
            "1/1 [==============================] - 3s 3s/step - loss: 0.0086\n",
            "Epoch 63/250\n",
            "1/1 [==============================] - 3s 3s/step - loss: 0.0080\n",
            "Epoch 64/250\n",
            "1/1 [==============================] - 3s 3s/step - loss: 0.0089\n",
            "Epoch 65/250\n",
            "1/1 [==============================] - 3s 3s/step - loss: 0.0087\n",
            "Epoch 66/250\n",
            "1/1 [==============================] - 3s 3s/step - loss: 0.0102\n",
            "Epoch 67/250\n",
            "1/1 [==============================] - 3s 3s/step - loss: 0.0091\n",
            "Epoch 68/250\n",
            "1/1 [==============================] - 3s 3s/step - loss: 0.0095\n",
            "Epoch 69/250\n",
            "1/1 [==============================] - 3s 3s/step - loss: 0.0083\n",
            "Epoch 70/250\n",
            "1/1 [==============================] - 3s 3s/step - loss: 0.0090\n",
            "Epoch 71/250\n",
            "1/1 [==============================] - 3s 3s/step - loss: 0.0082\n",
            "Epoch 72/250\n",
            "1/1 [==============================] - 3s 3s/step - loss: 0.0089\n",
            "Epoch 73/250\n",
            "1/1 [==============================] - 3s 3s/step - loss: 0.0080\n",
            "Epoch 74/250\n",
            "1/1 [==============================] - 3s 3s/step - loss: 0.0089\n",
            "Epoch 75/250\n",
            "1/1 [==============================] - 3s 3s/step - loss: 0.0088\n",
            "Epoch 76/250\n",
            "1/1 [==============================] - 3s 3s/step - loss: 0.0096\n",
            "Epoch 77/250\n",
            "1/1 [==============================] - 3s 3s/step - loss: 0.0088\n",
            "Epoch 78/250\n",
            "1/1 [==============================] - 3s 3s/step - loss: 0.0088\n",
            "Epoch 79/250\n",
            "1/1 [==============================] - 3s 3s/step - loss: 0.0079\n",
            "Epoch 80/250\n",
            "1/1 [==============================] - 3s 3s/step - loss: 0.0082\n",
            "Epoch 81/250\n",
            "1/1 [==============================] - 3s 3s/step - loss: 0.0076\n",
            "Epoch 82/250\n",
            "1/1 [==============================] - 3s 3s/step - loss: 0.0081\n",
            "Epoch 83/250\n",
            "1/1 [==============================] - 3s 3s/step - loss: 0.0083\n",
            "Epoch 84/250\n",
            "1/1 [==============================] - 3s 3s/step - loss: 0.0086\n",
            "Epoch 85/250\n",
            "1/1 [==============================] - 3s 3s/step - loss: 0.0074\n",
            "Epoch 86/250\n",
            "1/1 [==============================] - 3s 3s/step - loss: 0.0079\n",
            "Epoch 87/250\n",
            "1/1 [==============================] - 3s 3s/step - loss: 0.0080\n",
            "Epoch 88/250\n",
            "1/1 [==============================] - 3s 3s/step - loss: 0.0085\n",
            "Epoch 89/250\n",
            "1/1 [==============================] - 3s 3s/step - loss: 0.0082\n",
            "Epoch 90/250\n",
            "1/1 [==============================] - 3s 3s/step - loss: 0.0083\n",
            "Epoch 91/250\n",
            "1/1 [==============================] - 3s 3s/step - loss: 0.0077\n",
            "Epoch 92/250\n",
            "1/1 [==============================] - 3s 3s/step - loss: 0.0081\n",
            "Epoch 93/250\n",
            "1/1 [==============================] - 3s 3s/step - loss: 0.0075\n",
            "Epoch 94/250\n",
            "1/1 [==============================] - 3s 3s/step - loss: 0.0075\n",
            "Epoch 95/250\n",
            "1/1 [==============================] - 3s 3s/step - loss: 0.0075\n",
            "Epoch 96/250\n",
            "1/1 [==============================] - 3s 3s/step - loss: 0.0072\n",
            "Epoch 97/250\n",
            "1/1 [==============================] - 3s 3s/step - loss: 0.0072\n",
            "Epoch 98/250\n",
            "1/1 [==============================] - 3s 3s/step - loss: 0.0075\n",
            "Epoch 99/250\n",
            "1/1 [==============================] - 3s 3s/step - loss: 0.0074\n",
            "Epoch 100/250\n",
            "1/1 [==============================] - 3s 3s/step - loss: 0.0078\n",
            "Epoch 101/250\n",
            "1/1 [==============================] - 3s 3s/step - loss: 0.0073\n",
            "Epoch 102/250\n",
            "1/1 [==============================] - 3s 3s/step - loss: 0.0078\n",
            "Epoch 103/250\n",
            "1/1 [==============================] - 3s 3s/step - loss: 0.0074\n",
            "Epoch 104/250\n",
            "1/1 [==============================] - 3s 3s/step - loss: 0.0080\n",
            "Epoch 105/250\n",
            "1/1 [==============================] - 3s 3s/step - loss: 0.0073\n",
            "Epoch 106/250\n",
            "1/1 [==============================] - 3s 3s/step - loss: 0.0076\n",
            "Epoch 107/250\n",
            "1/1 [==============================] - 3s 3s/step - loss: 0.0070\n",
            "Epoch 108/250\n",
            "1/1 [==============================] - 3s 3s/step - loss: 0.0069\n",
            "Epoch 109/250\n",
            "1/1 [==============================] - 3s 3s/step - loss: 0.0067\n",
            "Epoch 110/250\n",
            "1/1 [==============================] - 3s 3s/step - loss: 0.0073\n",
            "Epoch 111/250\n",
            "1/1 [==============================] - 3s 3s/step - loss: 0.0073\n",
            "Epoch 112/250\n",
            "1/1 [==============================] - 3s 3s/step - loss: 0.0078\n",
            "Epoch 113/250\n",
            "1/1 [==============================] - 3s 3s/step - loss: 0.0071\n",
            "Epoch 114/250\n",
            "1/1 [==============================] - 3s 3s/step - loss: 0.0074\n",
            "Epoch 115/250\n",
            "1/1 [==============================] - 3s 3s/step - loss: 0.0073\n",
            "Epoch 116/250\n",
            "1/1 [==============================] - 3s 3s/step - loss: 0.0077\n",
            "Epoch 117/250\n",
            "1/1 [==============================] - 3s 3s/step - loss: 0.0065\n",
            "Epoch 118/250\n",
            "1/1 [==============================] - 3s 3s/step - loss: 0.0068\n",
            "Epoch 119/250\n",
            "1/1 [==============================] - 3s 3s/step - loss: 0.0065\n",
            "Epoch 120/250\n",
            "1/1 [==============================] - 3s 3s/step - loss: 0.0064\n",
            "Epoch 121/250\n",
            "1/1 [==============================] - 3s 3s/step - loss: 0.0066\n",
            "Epoch 122/250\n",
            "1/1 [==============================] - 3s 3s/step - loss: 0.0070\n",
            "Epoch 123/250\n",
            "1/1 [==============================] - 3s 3s/step - loss: 0.0073\n",
            "Epoch 124/250\n",
            "1/1 [==============================] - 3s 3s/step - loss: 0.0076\n",
            "Epoch 125/250\n",
            "1/1 [==============================] - 3s 3s/step - loss: 0.0069\n",
            "Epoch 126/250\n",
            "1/1 [==============================] - 3s 3s/step - loss: 0.0075\n",
            "Epoch 127/250\n",
            "1/1 [==============================] - 3s 3s/step - loss: 0.0068\n",
            "Epoch 128/250\n",
            "1/1 [==============================] - 3s 3s/step - loss: 0.0074\n",
            "Epoch 129/250\n",
            "1/1 [==============================] - 3s 3s/step - loss: 0.0065\n",
            "Epoch 130/250\n",
            "1/1 [==============================] - 3s 3s/step - loss: 0.0068\n",
            "Epoch 131/250\n",
            "1/1 [==============================] - 3s 3s/step - loss: 0.0062\n",
            "Epoch 132/250\n",
            "1/1 [==============================] - 3s 3s/step - loss: 0.0065\n",
            "Epoch 133/250\n",
            "1/1 [==============================] - 3s 3s/step - loss: 0.0065\n",
            "Epoch 134/250\n",
            "1/1 [==============================] - 3s 3s/step - loss: 0.0075\n",
            "Epoch 135/250\n",
            "1/1 [==============================] - 3s 3s/step - loss: 0.0067\n",
            "Epoch 136/250\n",
            "1/1 [==============================] - 3s 3s/step - loss: 0.0068\n",
            "Epoch 137/250\n",
            "1/1 [==============================] - 3s 3s/step - loss: 0.0066\n",
            "Epoch 138/250\n",
            "1/1 [==============================] - 3s 3s/step - loss: 0.0070\n",
            "Epoch 139/250\n",
            "1/1 [==============================] - 3s 3s/step - loss: 0.0068\n",
            "Epoch 140/250\n",
            "1/1 [==============================] - 3s 3s/step - loss: 0.0073\n",
            "Epoch 141/250\n",
            "1/1 [==============================] - 3s 3s/step - loss: 0.0061\n",
            "Epoch 142/250\n",
            "1/1 [==============================] - 3s 3s/step - loss: 0.0061\n",
            "Epoch 143/250\n",
            "1/1 [==============================] - 3s 3s/step - loss: 0.0059\n",
            "Epoch 144/250\n",
            "1/1 [==============================] - 3s 3s/step - loss: 0.0062\n",
            "Epoch 145/250\n",
            "1/1 [==============================] - 3s 3s/step - loss: 0.0059\n",
            "Epoch 146/250\n",
            "1/1 [==============================] - 3s 3s/step - loss: 0.0062\n",
            "Epoch 147/250\n",
            "1/1 [==============================] - 3s 3s/step - loss: 0.0064\n",
            "Epoch 148/250\n",
            "1/1 [==============================] - 3s 3s/step - loss: 0.0064\n",
            "Epoch 149/250\n",
            "1/1 [==============================] - 3s 3s/step - loss: 0.0063\n",
            "Epoch 150/250\n",
            "1/1 [==============================] - 3s 3s/step - loss: 0.0069\n",
            "Epoch 151/250\n",
            "1/1 [==============================] - 3s 3s/step - loss: 0.0063\n",
            "Epoch 152/250\n",
            "1/1 [==============================] - 3s 3s/step - loss: 0.0065\n",
            "Epoch 153/250\n",
            "1/1 [==============================] - 3s 3s/step - loss: 0.0059\n",
            "Epoch 154/250\n",
            "1/1 [==============================] - 3s 3s/step - loss: 0.0057\n",
            "Epoch 155/250\n",
            "1/1 [==============================] - 3s 3s/step - loss: 0.0058\n",
            "Epoch 156/250\n",
            "1/1 [==============================] - 3s 3s/step - loss: 0.0063\n",
            "Epoch 157/250\n",
            "1/1 [==============================] - 3s 3s/step - loss: 0.0063\n",
            "Epoch 158/250\n",
            "1/1 [==============================] - 3s 3s/step - loss: 0.0067\n",
            "Epoch 159/250\n",
            "1/1 [==============================] - 3s 3s/step - loss: 0.0067\n",
            "Epoch 160/250\n",
            "1/1 [==============================] - 3s 3s/step - loss: 0.0073\n",
            "Epoch 161/250\n",
            "1/1 [==============================] - 3s 3s/step - loss: 0.0064\n",
            "Epoch 162/250\n",
            "1/1 [==============================] - 3s 3s/step - loss: 0.0063\n",
            "Epoch 163/250\n",
            "1/1 [==============================] - 3s 3s/step - loss: 0.0059\n",
            "Epoch 164/250\n",
            "1/1 [==============================] - 3s 3s/step - loss: 0.0063\n",
            "Epoch 165/250\n",
            "1/1 [==============================] - 3s 3s/step - loss: 0.0056\n",
            "Epoch 166/250\n",
            "1/1 [==============================] - 3s 3s/step - loss: 0.0061\n",
            "Epoch 167/250\n",
            "1/1 [==============================] - 3s 3s/step - loss: 0.0057\n",
            "Epoch 168/250\n",
            "1/1 [==============================] - 3s 3s/step - loss: 0.0058\n",
            "Epoch 169/250\n",
            "1/1 [==============================] - 3s 3s/step - loss: 0.0054\n",
            "Epoch 170/250\n",
            "1/1 [==============================] - 3s 3s/step - loss: 0.0059\n",
            "Epoch 171/250\n",
            "1/1 [==============================] - 3s 3s/step - loss: 0.0055\n",
            "Epoch 172/250\n",
            "1/1 [==============================] - 3s 3s/step - loss: 0.0060\n",
            "Epoch 173/250\n",
            "1/1 [==============================] - 3s 3s/step - loss: 0.0060\n",
            "Epoch 174/250\n",
            "1/1 [==============================] - 3s 3s/step - loss: 0.0067\n",
            "Epoch 175/250\n",
            "1/1 [==============================] - 3s 3s/step - loss: 0.0062\n",
            "Epoch 176/250\n",
            "1/1 [==============================] - 3s 3s/step - loss: 0.0068\n",
            "Epoch 177/250\n",
            "1/1 [==============================] - 3s 3s/step - loss: 0.0061\n",
            "Epoch 178/250\n",
            "1/1 [==============================] - 3s 3s/step - loss: 0.0060\n",
            "Epoch 179/250\n",
            "1/1 [==============================] - 3s 3s/step - loss: 0.0054\n",
            "Epoch 180/250\n",
            "1/1 [==============================] - 3s 3s/step - loss: 0.0050\n",
            "Epoch 181/250\n",
            "1/1 [==============================] - 3s 3s/step - loss: 0.0051\n",
            "Epoch 182/250\n",
            "1/1 [==============================] - 3s 3s/step - loss: 0.0054\n",
            "Epoch 183/250\n",
            "1/1 [==============================] - 3s 3s/step - loss: 0.0054\n",
            "Epoch 184/250\n",
            "1/1 [==============================] - 3s 3s/step - loss: 0.0054\n",
            "Epoch 185/250\n",
            "1/1 [==============================] - 3s 3s/step - loss: 0.0054\n",
            "Epoch 186/250\n",
            "1/1 [==============================] - 3s 3s/step - loss: 0.0058\n",
            "Epoch 187/250\n",
            "1/1 [==============================] - 3s 3s/step - loss: 0.0060\n",
            "Epoch 188/250\n",
            "1/1 [==============================] - 3s 3s/step - loss: 0.0065\n",
            "Epoch 189/250\n",
            "1/1 [==============================] - 3s 3s/step - loss: 0.0061\n",
            "Epoch 190/250\n",
            "1/1 [==============================] - 3s 3s/step - loss: 0.0067\n",
            "Epoch 191/250\n",
            "1/1 [==============================] - 3s 3s/step - loss: 0.0055\n",
            "Epoch 192/250\n",
            "1/1 [==============================] - 3s 3s/step - loss: 0.0057\n",
            "Epoch 193/250\n",
            "1/1 [==============================] - 3s 3s/step - loss: 0.0059\n",
            "Epoch 194/250\n",
            "1/1 [==============================] - 3s 3s/step - loss: 0.0060\n",
            "Epoch 195/250\n",
            "1/1 [==============================] - 3s 3s/step - loss: 0.0057\n",
            "Epoch 196/250\n",
            "1/1 [==============================] - 3s 3s/step - loss: 0.0055\n",
            "Epoch 197/250\n",
            "1/1 [==============================] - 3s 3s/step - loss: 0.0052\n",
            "Epoch 198/250\n",
            "1/1 [==============================] - 3s 3s/step - loss: 0.0054\n",
            "Epoch 199/250\n",
            "1/1 [==============================] - 3s 3s/step - loss: 0.0051\n",
            "Epoch 200/250\n",
            "1/1 [==============================] - 3s 3s/step - loss: 0.0056\n",
            "Epoch 201/250\n",
            "1/1 [==============================] - 3s 3s/step - loss: 0.0057\n",
            "Epoch 202/250\n",
            "1/1 [==============================] - 3s 3s/step - loss: 0.0061\n",
            "Epoch 203/250\n",
            "1/1 [==============================] - 3s 3s/step - loss: 0.0057\n",
            "Epoch 204/250\n",
            "1/1 [==============================] - 3s 3s/step - loss: 0.0060\n",
            "Epoch 205/250\n",
            "1/1 [==============================] - 3s 3s/step - loss: 0.0052\n",
            "Epoch 206/250\n",
            "1/1 [==============================] - 3s 3s/step - loss: 0.0054\n",
            "Epoch 207/250\n",
            "1/1 [==============================] - 3s 3s/step - loss: 0.0050\n",
            "Epoch 208/250\n",
            "1/1 [==============================] - 3s 3s/step - loss: 0.0053\n",
            "Epoch 209/250\n",
            "1/1 [==============================] - 3s 3s/step - loss: 0.0050\n",
            "Epoch 210/250\n",
            "1/1 [==============================] - 3s 3s/step - loss: 0.0058\n",
            "Epoch 211/250\n",
            "1/1 [==============================] - 3s 3s/step - loss: 0.0058\n",
            "Epoch 212/250\n",
            "1/1 [==============================] - 3s 3s/step - loss: 0.0059\n",
            "Epoch 213/250\n",
            "1/1 [==============================] - 3s 3s/step - loss: 0.0053\n",
            "Epoch 214/250\n",
            "1/1 [==============================] - 3s 3s/step - loss: 0.0055\n",
            "Epoch 215/250\n",
            "1/1 [==============================] - 3s 3s/step - loss: 0.0050\n",
            "Epoch 216/250\n",
            "1/1 [==============================] - 3s 3s/step - loss: 0.0049\n",
            "Epoch 217/250\n",
            "1/1 [==============================] - 3s 3s/step - loss: 0.0047\n",
            "Epoch 218/250\n",
            "1/1 [==============================] - 3s 3s/step - loss: 0.0049\n",
            "Epoch 219/250\n",
            "1/1 [==============================] - 3s 3s/step - loss: 0.0050\n",
            "Epoch 220/250\n",
            "1/1 [==============================] - 3s 3s/step - loss: 0.0054\n",
            "Epoch 221/250\n",
            "1/1 [==============================] - 3s 3s/step - loss: 0.0059\n",
            "Epoch 222/250\n",
            "1/1 [==============================] - 3s 3s/step - loss: 0.0063\n",
            "Epoch 223/250\n",
            "1/1 [==============================] - 3s 3s/step - loss: 0.0057\n",
            "Epoch 224/250\n",
            "1/1 [==============================] - 3s 3s/step - loss: 0.0063\n",
            "Epoch 225/250\n",
            "1/1 [==============================] - 3s 3s/step - loss: 0.0053\n",
            "Epoch 226/250\n",
            "1/1 [==============================] - 3s 3s/step - loss: 0.0053\n",
            "Epoch 227/250\n",
            "1/1 [==============================] - 3s 3s/step - loss: 0.0049\n",
            "Epoch 228/250\n",
            "1/1 [==============================] - 3s 3s/step - loss: 0.0048\n",
            "Epoch 229/250\n",
            "1/1 [==============================] - 3s 3s/step - loss: 0.0046\n",
            "Epoch 230/250\n",
            "1/1 [==============================] - 3s 3s/step - loss: 0.0047\n",
            "Epoch 231/250\n",
            "1/1 [==============================] - 3s 3s/step - loss: 0.0051\n",
            "Epoch 232/250\n",
            "1/1 [==============================] - 3s 3s/step - loss: 0.0054\n",
            "Epoch 233/250\n",
            "1/1 [==============================] - 3s 3s/step - loss: 0.0052\n",
            "Epoch 234/250\n",
            "1/1 [==============================] - 3s 3s/step - loss: 0.0055\n",
            "Epoch 235/250\n",
            "1/1 [==============================] - 3s 3s/step - loss: 0.0053\n",
            "Epoch 236/250\n",
            "1/1 [==============================] - 3s 3s/step - loss: 0.0060\n",
            "Epoch 237/250\n",
            "1/1 [==============================] - 3s 3s/step - loss: 0.0053\n",
            "Epoch 238/250\n",
            "1/1 [==============================] - 3s 3s/step - loss: 0.0056\n",
            "Epoch 239/250\n",
            "1/1 [==============================] - 3s 3s/step - loss: 0.0049\n",
            "Epoch 240/250\n",
            "1/1 [==============================] - 3s 3s/step - loss: 0.0047\n",
            "Epoch 241/250\n",
            "1/1 [==============================] - 3s 3s/step - loss: 0.0045\n",
            "Epoch 242/250\n",
            "1/1 [==============================] - 3s 3s/step - loss: 0.0048\n",
            "Epoch 243/250\n",
            "1/1 [==============================] - 3s 3s/step - loss: 0.0048\n",
            "Epoch 244/250\n",
            "1/1 [==============================] - 3s 3s/step - loss: 0.0052\n",
            "Epoch 245/250\n",
            "1/1 [==============================] - 3s 3s/step - loss: 0.0049\n",
            "Epoch 246/250\n",
            "1/1 [==============================] - 3s 3s/step - loss: 0.0052\n",
            "Epoch 247/250\n",
            "1/1 [==============================] - 3s 3s/step - loss: 0.0050\n",
            "Epoch 248/250\n",
            "1/1 [==============================] - 3s 3s/step - loss: 0.0053\n",
            "Epoch 249/250\n",
            "1/1 [==============================] - 3s 3s/step - loss: 0.0049\n",
            "Epoch 250/250\n",
            "1/1 [==============================] - 3s 3s/step - loss: 0.0051\n",
            "Model Fit Complete\n"
          ],
          "name": "stdout"
        }
      ]
    },
    {
      "cell_type": "code",
      "metadata": {
        "id": "g07f1lEGXu_T",
        "colab_type": "code",
        "outputId": "bdf80dd0-c119-4ca7-e58d-aa2a61889b24",
        "colab": {
          "base_uri": "https://localhost:8080/",
          "height": 34
        }
      },
      "source": [
        "# train fit performance\n",
        "trainPredict = seq_lstm_model.predict(train_x)\n",
        "trainScore = math.sqrt(mean_squared_error(train_y[0], trainPredict[0]))\n",
        "print('Train Score: %.2f RMSE' % (trainScore))"
      ],
      "execution_count": 357,
      "outputs": [
        {
          "output_type": "stream",
          "text": [
            "Train Score: 0.05 RMSE\n"
          ],
          "name": "stdout"
        }
      ]
    },
    {
      "cell_type": "code",
      "metadata": {
        "id": "URNrqwpl1SbQ",
        "colab_type": "code",
        "outputId": "4a0f12a7-6c7e-4a15-aa8f-215e3ab76bcf",
        "colab": {
          "base_uri": "https://localhost:8080/",
          "height": 151
        }
      },
      "source": [
        "trainPredict"
      ],
      "execution_count": 358,
      "outputs": [
        {
          "output_type": "execute_result",
          "data": {
            "text/plain": [
              "array([[[0.10287828, 0.07305788, 0.08666465, 0.08827556, 0.06241566],\n",
              "        [0.12460614, 0.0705346 , 0.08400755, 0.08265149, 0.06368947],\n",
              "        [0.14582206, 0.06450169, 0.07737011, 0.07300185, 0.06105457],\n",
              "        ...,\n",
              "        [0.1113489 , 0.7105192 , 0.7032273 , 0.7152139 , 0.70299745],\n",
              "        [0.1102709 , 0.7118536 , 0.70471776, 0.7164413 , 0.7042096 ],\n",
              "        [0.11005399, 0.71249366, 0.7055565 , 0.7168406 , 0.7047874 ]]],\n",
              "      dtype=float32)"
            ]
          },
          "metadata": {
            "tags": []
          },
          "execution_count": 358
        }
      ]
    },
    {
      "cell_type": "code",
      "metadata": {
        "id": "ZW0LgTTSXyKR",
        "colab_type": "code",
        "colab": {}
      },
      "source": [
        "# Pad input sequence\n",
        "testPredict = pad_sequences(test_x,maxlen=train_x.shape[1],padding='post',dtype='float64')"
      ],
      "execution_count": 0,
      "outputs": []
    },
    {
      "cell_type": "code",
      "metadata": {
        "id": "XsR5ytjpX2yj",
        "colab_type": "code",
        "outputId": "99e4f746-4caf-48ec-c2d2-598b9863a9c2",
        "colab": {
          "base_uri": "https://localhost:8080/",
          "height": 151
        }
      },
      "source": [
        "# forecast values\n",
        "testPredict = seq_lstm_model.predict(testPredict)\n",
        "testPredict"
      ],
      "execution_count": 360,
      "outputs": [
        {
          "output_type": "execute_result",
          "data": {
            "text/plain": [
              "array([[[0.09374616, 0.09080787, 0.10112002, 0.10624036, 0.07952534],\n",
              "        [0.10196356, 0.1253846 , 0.13100255, 0.13791552, 0.11690051],\n",
              "        [0.10890163, 0.17239541, 0.17323706, 0.1816107 , 0.16612706],\n",
              "        ...,\n",
              "        [0.07138859, 0.01466903, 0.01004096, 0.01630372, 0.01354321],\n",
              "        [0.07138859, 0.01466903, 0.01004097, 0.01630372, 0.01354321],\n",
              "        [0.07138859, 0.01466903, 0.01004096, 0.01630372, 0.01354321]]],\n",
              "      dtype=float32)"
            ]
          },
          "metadata": {
            "tags": []
          },
          "execution_count": 360
        }
      ]
    },
    {
      "cell_type": "code",
      "metadata": {
        "id": "KvjYccaoN8hP",
        "colab_type": "code",
        "colab": {}
      },
      "source": [
        "#Drop all other variables except Close Price Output\n",
        "testPredict=np.delete(testPredict, [2,3,4], 2)\n",
        "trainPredict=np.delete(trainPredict, [2,3,4], 2)\n",
        "# testPredict=np.delete(testPredict, 3, 2)\n",
        "# trainPredict=np.delete(trainPredict, 3, 2)\n",
        "# testPredict=np.delete(testPredict, 4, 2)\n",
        "# trainPredict=np.delete(trainPredict, 4, 2)\n",
        "testPredict=np.delete(testPredict, 0, 2)\n",
        "trainPredict=np.delete(trainPredict, 0, 2)"
      ],
      "execution_count": 0,
      "outputs": []
    },
    {
      "cell_type": "code",
      "metadata": {
        "id": "0Oc_n5TARVXV",
        "colab_type": "code",
        "outputId": "c7f104ab-c753-4fb6-8ca3-e6975d336986",
        "colab": {
          "base_uri": "https://localhost:8080/",
          "height": 134
        }
      },
      "source": [
        "testPredict"
      ],
      "execution_count": 362,
      "outputs": [
        {
          "output_type": "execute_result",
          "data": {
            "text/plain": [
              "array([[[0.09080787],\n",
              "        [0.1253846 ],\n",
              "        [0.17239541],\n",
              "        ...,\n",
              "        [0.01466903],\n",
              "        [0.01466903],\n",
              "        [0.01466903]]], dtype=float32)"
            ]
          },
          "metadata": {
            "tags": []
          },
          "execution_count": 362
        }
      ]
    },
    {
      "cell_type": "code",
      "metadata": {
        "id": "EMtIMjJRE18q",
        "colab_type": "code",
        "outputId": "393f596f-419e-4bc6-8d8c-fb14d9d46280",
        "colab": {
          "base_uri": "https://localhost:8080/",
          "height": 134
        }
      },
      "source": [
        "trainPredict\n"
      ],
      "execution_count": 363,
      "outputs": [
        {
          "output_type": "execute_result",
          "data": {
            "text/plain": [
              "array([[[0.07305788],\n",
              "        [0.0705346 ],\n",
              "        [0.06450169],\n",
              "        ...,\n",
              "        [0.7105192 ],\n",
              "        [0.7118536 ],\n",
              "        [0.71249366]]], dtype=float32)"
            ]
          },
          "metadata": {
            "tags": []
          },
          "execution_count": 363
        }
      ]
    },
    {
      "cell_type": "code",
      "metadata": {
        "id": "x_tNvtkz_f5X",
        "colab_type": "code",
        "outputId": "43f2a699-e26f-4a88-a94a-3c0308ee56eb",
        "colab": {
          "base_uri": "https://localhost:8080/",
          "height": 34
        }
      },
      "source": [
        "type(testPredict)"
      ],
      "execution_count": 364,
      "outputs": [
        {
          "output_type": "execute_result",
          "data": {
            "text/plain": [
              "numpy.ndarray"
            ]
          },
          "metadata": {
            "tags": []
          },
          "execution_count": 364
        }
      ]
    },
    {
      "cell_type": "code",
      "metadata": {
        "id": "zA7Aehl4X5ck",
        "colab_type": "code",
        "colab": {}
      },
      "source": [
        "# # inverse transformation of the Close Price\n",
        "trainPredict = scaler_Close.inverse_transform(trainPredict.\\\n",
        "                                        reshape(-1,1))\n",
        "testPredict = scaler_Close.inverse_transform(testPredict.\\\n",
        "                                       reshape(-1,1))"
      ],
      "execution_count": 0,
      "outputs": []
    },
    {
      "cell_type": "code",
      "metadata": {
        "id": "x_nZ9samd1Rs",
        "colab_type": "code",
        "outputId": "96815ff6-c317-435f-c0d2-9ec002b97ad5",
        "colab": {
          "base_uri": "https://localhost:8080/",
          "height": 134
        }
      },
      "source": [
        "trainPredict"
      ],
      "execution_count": 366,
      "outputs": [
        {
          "output_type": "execute_result",
          "data": {
            "text/plain": [
              "array([[21.373386],\n",
              "       [21.277412],\n",
              "       [21.047949],\n",
              "       ...,\n",
              "       [45.61948 ],\n",
              "       [45.670235],\n",
              "       [45.69458 ]], dtype=float32)"
            ]
          },
          "metadata": {
            "tags": []
          },
          "execution_count": 366
        }
      ]
    },
    {
      "cell_type": "code",
      "metadata": {
        "id": "NRMR0WkN3XIh",
        "colab_type": "code",
        "outputId": "5bb9ed55-81cd-4131-876e-01a8e69b1981",
        "colab": {
          "base_uri": "https://localhost:8080/",
          "height": 627
        }
      },
      "source": [
        "# plot the true and forecasted values\n",
        "split_ratio = len(trainPredict)+1\n",
        "\n",
        "plt.plot(sub_split_date.Date,\n",
        "          sub_split.Close.values,c='black',\n",
        "          alpha=0.3,label='True Data')\n",
        "\n",
        "plt.plot(sub_split_date.Date[1:split_ratio],\n",
        "          trainPredict,label='Training Fit',c='g')\n",
        "\n",
        "plt.plot(sub_split_date.Date[split_ratio+1:],\n",
        "          testPredict[:test_x.shape[1]],label='Testing Forecast')\n",
        "plt.title('Forecast Plot')\n",
        "plt.legend()\n",
        "#plt.show()\n",
        "plt.rcParams[\"figure.figsize\"] = (20,10)\n",
        "plt.show()"
      ],
      "execution_count": 367,
      "outputs": [
        {
          "output_type": "display_data",
          "data": {
            "image/png": "[encoded data removed]",
            "text/plain": [
              "<Figure size 1440x720 with 1 Axes>"
            ]
          },
          "metadata": {
            "tags": []
          }
        }
      ]
    }
  ]
}