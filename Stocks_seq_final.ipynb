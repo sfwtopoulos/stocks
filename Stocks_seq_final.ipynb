{
  "nbformat": 4,
  "nbformat_minor": 0,
  "metadata": {
    "colab": {
      "name": "Stocks_seq_1st.ipynb",
      "provenance": [],
      "collapsed_sections": [],
      "include_colab_link": true
    },
    "kernelspec": {
      "name": "python3",
      "display_name": "Python 3"
    }
  },
  "cells": [
    {
      "cell_type": "markdown",
      "metadata": {
        "id": "view-in-github",
        "colab_type": "text"
      },
      "source": [
        "<a href=\"https://colab.research.google.com/github/sfwtopoulos/stocks/blob/master/Stocks_seq_final.ipynb\" target=\"_parent\"><img src=\"https://colab.research.google.com/assets/colab-badge.svg\" alt=\"Open In Colab\"/></a>"
      ]
    },
    {
      "cell_type": "code",
      "metadata": {
        "id": "IHoF0v0IorKz",
        "colab_type": "code",
        "outputId": "d62bf68d-3428-4f8b-96b1-0210495d1b63",
        "colab": {
          "base_uri": "https://localhost:8080/",
          "height": 221
        }
      },
      "source": [
        "pip install -q talos"
      ],
      "execution_count": 1,
      "outputs": [
        {
          "output_type": "stream",
          "text": [
            "\u001b[K     |████████████████████████████████| 61kB 1.9MB/s \n",
            "\u001b[K     |████████████████████████████████| 109.2MB 66kB/s \n",
            "\u001b[K     |████████████████████████████████| 8.7MB 42.7MB/s \n",
            "\u001b[K     |████████████████████████████████| 378kB 44.9MB/s \n",
            "\u001b[K     |████████████████████████████████| 3.2MB 33.5MB/s \n",
            "\u001b[K     |████████████████████████████████| 491kB 45.3MB/s \n",
            "\u001b[K     |████████████████████████████████| 839kB 41.6MB/s \n",
            "\u001b[?25h  Building wheel for chances (setup.py) ... \u001b[?25l\u001b[?25hdone\n",
            "  Building wheel for wrangle (setup.py) ... \u001b[?25l\u001b[?25hdone\n",
            "  Building wheel for astetik (setup.py) ... \u001b[?25l\u001b[?25hdone\n",
            "  Building wheel for kerasplotlib (setup.py) ... \u001b[?25l\u001b[?25hdone\n",
            "\u001b[31mERROR: wrangle 0.6.7 has requirement scipy==1.2, but you'll have scipy 1.4.1 which is incompatible.\u001b[0m\n"
          ],
          "name": "stdout"
        }
      ]
    },
    {
      "cell_type": "code",
      "metadata": {
        "id": "wJZRdo7B2sVO",
        "colab_type": "code",
        "outputId": "e87ffa7f-45cb-4f95-ffc3-50b2309e214f",
        "colab": {
          "base_uri": "https://localhost:8080/",
          "height": 34
        }
      },
      "source": [
        "pip install -q wget"
      ],
      "execution_count": 2,
      "outputs": [
        {
          "output_type": "stream",
          "text": [
            "  Building wheel for wget (setup.py) ... \u001b[?25l\u001b[?25hdone\n"
          ],
          "name": "stdout"
        }
      ]
    },
    {
      "cell_type": "code",
      "metadata": {
        "id": "DOmxraS5T1wD",
        "colab_type": "code",
        "outputId": "31c50250-a3bc-4d3a-d952-870a0260f7d2",
        "colab": {
          "base_uri": "https://localhost:8080/",
          "height": 85
        }
      },
      "source": [
        "import pandas as pd\n",
        "import matplotlib.pyplot as plt\n",
        "import pandas as pd\n",
        "import math\n",
        "import warnings\n",
        "import numpy as np\n",
        "import time\n",
        "import sys\n",
        "\n",
        "import pandas_datareader as pdr\n",
        "#%tensorflow_version 2.x\n",
        "# Restart runtime using 'Runtime' -> 'Restart runtime...'\n",
        "%tensorflow_version 1.x\n",
        "import tensorflow as tf\n",
        "import keras\n",
        "\n",
        "\n",
        "# from keras.layers import LSTM\n",
        "# from keras.models import Sequential\n",
        "# from keras.layers.wrappers import TimeDistributed\n",
        "# from keras.layers.wrappers import TimeDistributed\n",
        "# from keras.layers.core import Dense, Activation, Dropout\n",
        "# from keras.preprocessing.sequence import pad_sequences\n",
        "\n",
        "from tensorflow.python.keras.layers import Dense, Activation, Dropout, Input\n",
        "from tensorflow.python.keras.models import Sequential\n",
        "from tensorflow.python.keras.layers import LSTM\n",
        "from tensorflow.python.keras.layers.wrappers import TimeDistributed\n",
        "from tensorflow.python.keras.layers.wrappers import TimeDistributed\n",
        "from tensorflow.python.keras.preprocessing.sequence import pad_sequences\n",
        "\n",
        "\n",
        "from sklearn.preprocessing import MinMaxScaler\n",
        "from sklearn.metrics import mean_squared_error\n",
        "import seaborn as sns\n",
        "import matplotlib.pyplot as plt\n",
        "\n",
        "import os\n",
        "import wget\n",
        "from zipfile import ZipFile\n",
        "\n",
        "warnings.filterwarnings('ignore',category=FutureWarning)\n",
        "warnings.filterwarnings('ignore', category=DeprecationWarning)"
      ],
      "execution_count": 3,
      "outputs": [
        {
          "output_type": "stream",
          "text": [
            "/usr/local/lib/python3.6/dist-packages/pandas_datareader/compat/__init__.py:7: FutureWarning: pandas.util.testing is deprecated. Use the functions in the public API at pandas.testing instead.\n",
            "  from pandas.util.testing import assert_frame_equal\n"
          ],
          "name": "stderr"
        },
        {
          "output_type": "stream",
          "text": [
            "TensorFlow 1.x selected.\n"
          ],
          "name": "stdout"
        },
        {
          "output_type": "stream",
          "text": [
            "Using TensorFlow backend.\n"
          ],
          "name": "stderr"
        }
      ]
    },
    {
      "cell_type": "code",
      "metadata": {
        "id": "evxNkZl6rxjd",
        "colab_type": "code",
        "colab": {}
      },
      "source": [
        "# from keras.optimizers import Adam, Nadam\n",
        "# from keras.activations import softmax\n",
        "# from keras.losses import categorical_crossentropy, logcosh\n",
        "# from talos.utils import lr_normalizer\n",
        "import talos\n",
        "from tensorflow.python.keras.optimizers import Adam, Nadam\n",
        "from tensorflow.python.keras.activations import softmax\n",
        "from tensorflow.python.keras.losses import categorical_crossentropy, logcosh\n",
        "from talos.utils import lr_normalizer"
      ],
      "execution_count": 0,
      "outputs": []
    },
    {
      "cell_type": "code",
      "metadata": {
        "id": "2byEjZdZVJrz",
        "colab_type": "code",
        "outputId": "e49b5c32-eb16-4a5d-f50f-5926d7ef8402",
        "colab": {
          "base_uri": "https://localhost:8080/",
          "height": 51
        }
      },
      "source": [
        "print(keras.__version__)\n",
        "print(tf.__version__)\n",
        "#print(tensorflow.compat.v2.__version__)"
      ],
      "execution_count": 5,
      "outputs": [
        {
          "output_type": "stream",
          "text": [
            "2.3.0\n",
            "1.15.2\n"
          ],
          "name": "stdout"
        }
      ]
    },
    {
      "cell_type": "code",
      "metadata": {
        "id": "tVJdUlQJUDjY",
        "colab_type": "code",
        "outputId": "1290a235-17d8-41e7-d493-c780f87c408c",
        "colab": {
          "base_uri": "https://localhost:8080/",
          "height": 51
        }
      },
      "source": [
        "#Flag to select the small or the large dataset from the git repo\n",
        "large=True;\n",
        "\n",
        "if not large:\n",
        "  #Small Dataset\n",
        "  #Data import from git repo\n",
        "  print(\"Small Dataset Loading\")\n",
        "  url = 'https://raw.githubusercontent.com/sfwtopoulos/stocks/master/stocks_dataset/combined.csv'\n",
        "  #df1 = pd.read_csv(url, error_bad_lines=False)\n",
        "  dfstocks = pd.read_csv(url, sep=',')\n",
        "  dfstocks=dfstocks.rename({' AAPL':'Company', ' Close/Last':'Close', ' Volume':'Volume', ' Open':'Open', ' High':'High', ' Low':'Low'}, axis=1);\n",
        "else:\n",
        "  #Large Dataset\n",
        "  print(\"Large Dataset Loading\")\n",
        "  url = 'https://raw.githubusercontent.com/sfwtopoulos/stocks/master/stocks_dataset/combined_large.zip'\n",
        "  wget.download(url, '.')\n",
        "  # Create a ZipFile Object and load sample.zip in it\n",
        "  with ZipFile('combined_large.zip', 'r') as zipObj:\n",
        "    # Extract all the contents of zip file in current directory\n",
        "    zipObj.extractall()\n",
        "  print(os.listdir(\".\"))\n",
        "  dfstocks = pd.read_csv('combined_large.csv', sep=',') \n",
        "  dfstocks=dfstocks[~dfstocks.Date.str.contains(\"nan\")]\n",
        "  dfstocks=dfstocks[~dfstocks.Date.str.contains(\"Low\")]\n",
        "  dfstocks=dfstocks[~dfstocks.Date.str.contains(\"N/A\")]\n",
        "  dfstocks=dfstocks[~dfstocks.Date.str.contains(\"date\")]\n",
        "  dfstocks.Date=pd.to_datetime(dfstocks.Date)\n",
        "  dfstocks['Date'] = dfstocks['Date'].dt.strftime('%Y-%m-%d')\n",
        "  dfstocks=dfstocks.rename({' AA':'Company', ' Close/Last':'Close', ' Volume':'Volume', ' Open':'Open', ' High':'High', ' Low':'Low'}, axis=1);"
      ],
      "execution_count": 37,
      "outputs": [
        {
          "output_type": "stream",
          "text": [
            "Large Dataset Loading\n",
            "['.config', 'combined_large.csv', 'combined_large (1).zip', 'gdrive', 'combined_large.zip', 'sample_data']\n"
          ],
          "name": "stdout"
        }
      ]
    },
    {
      "cell_type": "code",
      "metadata": {
        "id": "_sXTibBmBlCP",
        "colab_type": "code",
        "outputId": "4a7c81df-b6a9-47ff-ab29-de5af26f09d1",
        "colab": {
          "base_uri": "https://localhost:8080/",
          "height": 153
        }
      },
      "source": [
        "type(dfstocks['Date'])\n",
        "dfstocks.dtypes"
      ],
      "execution_count": 38,
      "outputs": [
        {
          "output_type": "execute_result",
          "data": {
            "text/plain": [
              "Date       object\n",
              "Close      object\n",
              "Volume     object\n",
              "Open       object\n",
              "High       object\n",
              "Low        object\n",
              "Company    object\n",
              "dtype: object"
            ]
          },
          "metadata": {
            "tags": []
          },
          "execution_count": 38
        }
      ]
    },
    {
      "cell_type": "code",
      "metadata": {
        "id": "A_EUqCQSK4eO",
        "colab_type": "code",
        "outputId": "5d599545-6841-491f-e73d-84ed8d727ffe",
        "colab": {
          "base_uri": "https://localhost:8080/",
          "height": 136
        }
      },
      "source": [
        "for col in dfstocks.columns: \n",
        "    print(col) "
      ],
      "execution_count": 39,
      "outputs": [
        {
          "output_type": "stream",
          "text": [
            "Date\n",
            "Close\n",
            "Volume\n",
            "Open\n",
            "High\n",
            "Low\n",
            "Company\n"
          ],
          "name": "stdout"
        }
      ]
    },
    {
      "cell_type": "code",
      "metadata": {
        "id": "pulr20aF6Skd",
        "colab_type": "code",
        "outputId": "963dfc33-3ee6-45e9-e0dc-bf3633ba0647",
        "colab": {
          "base_uri": "https://localhost:8080/",
          "height": 419
        }
      },
      "source": [
        "dfstocks"
      ],
      "execution_count": 40,
      "outputs": [
        {
          "output_type": "execute_result",
          "data": {
            "text/html": [
              "<div>\n",
              "<style scoped>\n",
              "    .dataframe tbody tr th:only-of-type {\n",
              "        vertical-align: middle;\n",
              "    }\n",
              "\n",
              "    .dataframe tbody tr th {\n",
              "        vertical-align: top;\n",
              "    }\n",
              "\n",
              "    .dataframe thead th {\n",
              "        text-align: right;\n",
              "    }\n",
              "</style>\n",
              "<table border=\"1\" class=\"dataframe\">\n",
              "  <thead>\n",
              "    <tr style=\"text-align: right;\">\n",
              "      <th></th>\n",
              "      <th>Date</th>\n",
              "      <th>Close</th>\n",
              "      <th>Volume</th>\n",
              "      <th>Open</th>\n",
              "      <th>High</th>\n",
              "      <th>Low</th>\n",
              "      <th>Company</th>\n",
              "    </tr>\n",
              "  </thead>\n",
              "  <tbody>\n",
              "    <tr>\n",
              "      <th>0</th>\n",
              "      <td>2018-02-11</td>\n",
              "      <td>36.93000031</td>\n",
              "      <td>2681700</td>\n",
              "      <td>37</td>\n",
              "      <td>37.68999863</td>\n",
              "      <td>36.40999985</td>\n",
              "      <td>AA</td>\n",
              "    </tr>\n",
              "    <tr>\n",
              "      <th>1</th>\n",
              "      <td>2018-01-11</td>\n",
              "      <td>36.77999878</td>\n",
              "      <td>2756200</td>\n",
              "      <td>35.43999863</td>\n",
              "      <td>36.88000107</td>\n",
              "      <td>35.24000168</td>\n",
              "      <td>AA</td>\n",
              "    </tr>\n",
              "    <tr>\n",
              "      <th>2</th>\n",
              "      <td>2018-10-31</td>\n",
              "      <td>34.99000168</td>\n",
              "      <td>3380700</td>\n",
              "      <td>34.81999969</td>\n",
              "      <td>35.82099915</td>\n",
              "      <td>34.59999847</td>\n",
              "      <td>AA</td>\n",
              "    </tr>\n",
              "    <tr>\n",
              "      <th>3</th>\n",
              "      <td>2018-10-30</td>\n",
              "      <td>34.15000153</td>\n",
              "      <td>2193400</td>\n",
              "      <td>33.65000153</td>\n",
              "      <td>34.47999954</td>\n",
              "      <td>33.4129982</td>\n",
              "      <td>AA</td>\n",
              "    </tr>\n",
              "    <tr>\n",
              "      <th>4</th>\n",
              "      <td>2018-10-29</td>\n",
              "      <td>33.81999969</td>\n",
              "      <td>2219600</td>\n",
              "      <td>34.59999847</td>\n",
              "      <td>35.11999893</td>\n",
              "      <td>33.40000153</td>\n",
              "      <td>AA</td>\n",
              "    </tr>\n",
              "    <tr>\n",
              "      <th>...</th>\n",
              "      <td>...</td>\n",
              "      <td>...</td>\n",
              "      <td>...</td>\n",
              "      <td>...</td>\n",
              "      <td>...</td>\n",
              "      <td>...</td>\n",
              "      <td>...</td>\n",
              "    </tr>\n",
              "    <tr>\n",
              "      <th>304988</th>\n",
              "      <td>1973-09-05</td>\n",
              "      <td>0.469444454</td>\n",
              "      <td>79200</td>\n",
              "      <td>0.469444454</td>\n",
              "      <td>0.48888889</td>\n",
              "      <td>0.469444454</td>\n",
              "      <td>USB</td>\n",
              "    </tr>\n",
              "    <tr>\n",
              "      <th>304989</th>\n",
              "      <td>1973-08-05</td>\n",
              "      <td>0.469444454</td>\n",
              "      <td>90000</td>\n",
              "      <td>0.469444454</td>\n",
              "      <td>0.480555564</td>\n",
              "      <td>0.469444454</td>\n",
              "      <td>USB</td>\n",
              "    </tr>\n",
              "    <tr>\n",
              "      <th>304990</th>\n",
              "      <td>1973-07-05</td>\n",
              "      <td>0.461111099</td>\n",
              "      <td>43200</td>\n",
              "      <td>0.469444454</td>\n",
              "      <td>0.480555564</td>\n",
              "      <td>0.461111099</td>\n",
              "      <td>USB</td>\n",
              "    </tr>\n",
              "    <tr>\n",
              "      <th>304991</th>\n",
              "      <td>1973-04-05</td>\n",
              "      <td>0.469444454</td>\n",
              "      <td>10800</td>\n",
              "      <td>0.469444454</td>\n",
              "      <td>0.480555564</td>\n",
              "      <td>0.469444454</td>\n",
              "      <td>USB</td>\n",
              "    </tr>\n",
              "    <tr>\n",
              "      <th>304992</th>\n",
              "      <td>1973-03-05</td>\n",
              "      <td>0.461111099</td>\n",
              "      <td>7200</td>\n",
              "      <td>0.461111099</td>\n",
              "      <td>0.480555564</td>\n",
              "      <td>0.461111099</td>\n",
              "      <td>USB</td>\n",
              "    </tr>\n",
              "  </tbody>\n",
              "</table>\n",
              "<p>304968 rows × 7 columns</p>\n",
              "</div>"
            ],
            "text/plain": [
              "              Date        Close   Volume  ...         High          Low Company\n",
              "0       2018-02-11  36.93000031  2681700  ...  37.68999863  36.40999985      AA\n",
              "1       2018-01-11  36.77999878  2756200  ...  36.88000107  35.24000168      AA\n",
              "2       2018-10-31  34.99000168  3380700  ...  35.82099915  34.59999847      AA\n",
              "3       2018-10-30  34.15000153  2193400  ...  34.47999954   33.4129982      AA\n",
              "4       2018-10-29  33.81999969  2219600  ...  35.11999893  33.40000153      AA\n",
              "...            ...          ...      ...  ...          ...          ...     ...\n",
              "304988  1973-09-05  0.469444454    79200  ...   0.48888889  0.469444454     USB\n",
              "304989  1973-08-05  0.469444454    90000  ...  0.480555564  0.469444454     USB\n",
              "304990  1973-07-05  0.461111099    43200  ...  0.480555564  0.461111099     USB\n",
              "304991  1973-04-05  0.469444454    10800  ...  0.480555564  0.469444454     USB\n",
              "304992  1973-03-05  0.461111099     7200  ...  0.480555564  0.461111099     USB\n",
              "\n",
              "[304968 rows x 7 columns]"
            ]
          },
          "metadata": {
            "tags": []
          },
          "execution_count": 40
        }
      ]
    },
    {
      "cell_type": "code",
      "metadata": {
        "id": "vlSTPXYHUHSB",
        "colab_type": "code",
        "colab": {}
      },
      "source": [
        "#drop $sign from values\n",
        "dfstocks.Close=dfstocks['Close'].astype(str)\n",
        "dfstocks.Close=dfstocks.Close.apply(lambda x: x.replace('$',''))\n",
        "dfstocks.Open=dfstocks['Open'].astype(str)\n",
        "dfstocks.Open=dfstocks.Open.apply(lambda x: x.replace('$',''))\n",
        "dfstocks.High=dfstocks['High'].astype(str)\n",
        "dfstocks.High=dfstocks.High.apply(lambda x: x.replace('$',''))\n",
        "dfstocks.Low=dfstocks['Low'].astype(str)\n",
        "dfstocks.Low=dfstocks.Low.apply(lambda x: x.replace('$',''))"
      ],
      "execution_count": 0,
      "outputs": []
    },
    {
      "cell_type": "code",
      "metadata": {
        "id": "F4cxCV_YUJGa",
        "colab_type": "code",
        "outputId": "c5f80ae5-ad57-4328-e01f-a353f100abe0",
        "colab": {
          "base_uri": "https://localhost:8080/",
          "height": 34
        }
      },
      "source": [
        "#drop rows containing nan or header from the csv files\n",
        "dfstocks=dfstocks[~dfstocks.Low.str.contains(\"nan\")]\n",
        "dfstocks=dfstocks[~dfstocks.Low.str.contains(\"Low\")]\n",
        "dfstocks=dfstocks[~dfstocks.Low.str.contains(\"N/A\")]\n",
        "dfstocks=dfstocks[~dfstocks.Volume.str.contains(\"N/A\")]\n",
        "dfstocks.reset_index(drop=True, inplace=True)\n",
        "dfstocks.Date.count()"
      ],
      "execution_count": 42,
      "outputs": [
        {
          "output_type": "execute_result",
          "data": {
            "text/plain": [
              "304968"
            ]
          },
          "metadata": {
            "tags": []
          },
          "execution_count": 42
        }
      ]
    },
    {
      "cell_type": "code",
      "metadata": {
        "id": "te4JUA9lUL06",
        "colab_type": "code",
        "outputId": "8514fe15-b330-4919-e340-2ec353d38cbd",
        "colab": {
          "base_uri": "https://localhost:8080/",
          "height": 419
        }
      },
      "source": [
        "#sort dataframe based on date and Company Name\n",
        "dfstocks = dfstocks.sort_values(['Date', 'Company'])\n",
        "dfstocks.head(100)"
      ],
      "execution_count": 43,
      "outputs": [
        {
          "output_type": "execute_result",
          "data": {
            "text/html": [
              "<div>\n",
              "<style scoped>\n",
              "    .dataframe tbody tr th:only-of-type {\n",
              "        vertical-align: middle;\n",
              "    }\n",
              "\n",
              "    .dataframe tbody tr th {\n",
              "        vertical-align: top;\n",
              "    }\n",
              "\n",
              "    .dataframe thead th {\n",
              "        text-align: right;\n",
              "    }\n",
              "</style>\n",
              "<table border=\"1\" class=\"dataframe\">\n",
              "  <thead>\n",
              "    <tr style=\"text-align: right;\">\n",
              "      <th></th>\n",
              "      <th>Date</th>\n",
              "      <th>Close</th>\n",
              "      <th>Volume</th>\n",
              "      <th>Open</th>\n",
              "      <th>High</th>\n",
              "      <th>Low</th>\n",
              "      <th>Company</th>\n",
              "    </tr>\n",
              "  </thead>\n",
              "  <tbody>\n",
              "    <tr>\n",
              "      <th>12261</th>\n",
              "      <td>1970-01-04</td>\n",
              "      <td>7.116885185</td>\n",
              "      <td>70500</td>\n",
              "      <td>7.116885185</td>\n",
              "      <td>7.148924828</td>\n",
              "      <td>7.116885185</td>\n",
              "      <td>AA</td>\n",
              "    </tr>\n",
              "    <tr>\n",
              "      <th>34140</th>\n",
              "      <td>1970-01-04</td>\n",
              "      <td>6.664636612</td>\n",
              "      <td>75300</td>\n",
              "      <td>6.664636612</td>\n",
              "      <td>6.71148777</td>\n",
              "      <td>6.664636612</td>\n",
              "      <td>ARNC</td>\n",
              "    </tr>\n",
              "    <tr>\n",
              "      <th>81366</th>\n",
              "      <td>1970-01-04</td>\n",
              "      <td>12.53962517</td>\n",
              "      <td>18500</td>\n",
              "      <td>12.50450039</td>\n",
              "      <td>12.57474995</td>\n",
              "      <td>12.50450039</td>\n",
              "      <td>CNP</td>\n",
              "    </tr>\n",
              "    <tr>\n",
              "      <th>93689</th>\n",
              "      <td>1970-01-04</td>\n",
              "      <td>0.775599957</td>\n",
              "      <td>2628200</td>\n",
              "      <td>0.75762248</td>\n",
              "      <td>0.778168142</td>\n",
              "      <td>0.74734962</td>\n",
              "      <td>DIS</td>\n",
              "    </tr>\n",
              "    <tr>\n",
              "      <th>141068</th>\n",
              "      <td>1970-01-04</td>\n",
              "      <td>0.776041687</td>\n",
              "      <td>5068800</td>\n",
              "      <td>0.76953125</td>\n",
              "      <td>0.779947937</td>\n",
              "      <td>0.76953125</td>\n",
              "      <td>GE</td>\n",
              "    </tr>\n",
              "    <tr>\n",
              "      <th>...</th>\n",
              "      <td>...</td>\n",
              "      <td>...</td>\n",
              "      <td>...</td>\n",
              "      <td>...</td>\n",
              "      <td>...</td>\n",
              "      <td>...</td>\n",
              "      <td>...</td>\n",
              "    </tr>\n",
              "    <tr>\n",
              "      <th>250575</th>\n",
              "      <td>1970-01-13</td>\n",
              "      <td>5.757882118</td>\n",
              "      <td>99200</td>\n",
              "      <td>5.757882118</td>\n",
              "      <td>5.77859354</td>\n",
              "      <td>5.716458321</td>\n",
              "      <td>MRO</td>\n",
              "    </tr>\n",
              "    <tr>\n",
              "      <th>12314</th>\n",
              "      <td>1970-01-14</td>\n",
              "      <td>6.808499813</td>\n",
              "      <td>57900</td>\n",
              "      <td>6.85656023</td>\n",
              "      <td>6.85656023</td>\n",
              "      <td>6.808499813</td>\n",
              "      <td>AA</td>\n",
              "    </tr>\n",
              "    <tr>\n",
              "      <th>34193</th>\n",
              "      <td>1970-01-14</td>\n",
              "      <td>6.371814251</td>\n",
              "      <td>61800</td>\n",
              "      <td>6.442091465</td>\n",
              "      <td>6.442091465</td>\n",
              "      <td>6.371814251</td>\n",
              "      <td>ARNC</td>\n",
              "    </tr>\n",
              "    <tr>\n",
              "      <th>81419</th>\n",
              "      <td>1970-01-14</td>\n",
              "      <td>10.95899963</td>\n",
              "      <td>24400</td>\n",
              "      <td>11.0994997</td>\n",
              "      <td>11.0994997</td>\n",
              "      <td>10.95899963</td>\n",
              "      <td>CNP</td>\n",
              "    </tr>\n",
              "    <tr>\n",
              "      <th>93742</th>\n",
              "      <td>1970-01-14</td>\n",
              "      <td>0.78202045</td>\n",
              "      <td>7690100</td>\n",
              "      <td>0.749275744</td>\n",
              "      <td>0.794861495</td>\n",
              "      <td>0.749275744</td>\n",
              "      <td>DIS</td>\n",
              "    </tr>\n",
              "  </tbody>\n",
              "</table>\n",
              "<p>100 rows × 7 columns</p>\n",
              "</div>"
            ],
            "text/plain": [
              "              Date        Close   Volume  ...         High          Low Company\n",
              "12261   1970-01-04  7.116885185    70500  ...  7.148924828  7.116885185      AA\n",
              "34140   1970-01-04  6.664636612    75300  ...   6.71148777  6.664636612    ARNC\n",
              "81366   1970-01-04  12.53962517    18500  ...  12.57474995  12.50450039     CNP\n",
              "93689   1970-01-04  0.775599957  2628200  ...  0.778168142   0.74734962     DIS\n",
              "141068  1970-01-04  0.776041687  5068800  ...  0.779947937   0.76953125      GE\n",
              "...            ...          ...      ...  ...          ...          ...     ...\n",
              "250575  1970-01-13  5.757882118    99200  ...   5.77859354  5.716458321     MRO\n",
              "12314   1970-01-14  6.808499813    57900  ...   6.85656023  6.808499813      AA\n",
              "34193   1970-01-14  6.371814251    61800  ...  6.442091465  6.371814251    ARNC\n",
              "81419   1970-01-14  10.95899963    24400  ...   11.0994997  10.95899963     CNP\n",
              "93742   1970-01-14   0.78202045  7690100  ...  0.794861495  0.749275744     DIS\n",
              "\n",
              "[100 rows x 7 columns]"
            ]
          },
          "metadata": {
            "tags": []
          },
          "execution_count": 43
        }
      ]
    },
    {
      "cell_type": "code",
      "metadata": {
        "id": "SvGv9U_NHZcv",
        "colab_type": "code",
        "outputId": "4232aa23-9c5b-460e-840e-e67854fe614d",
        "colab": {
          "base_uri": "https://localhost:8080/",
          "height": 153
        }
      },
      "source": [
        "#Converting Datatypes\n",
        "dfstocks.Date=pd.to_datetime(dfstocks.Date)\n",
        "dfstocks.Close=pd.to_numeric(dfstocks.Close)\n",
        "dfstocks.Volume=pd.to_numeric(dfstocks.Volume)\n",
        "dfstocks.Open=pd.to_numeric(dfstocks.Open)\n",
        "dfstocks.High=pd.to_numeric(dfstocks.High)\n",
        "dfstocks.Low=pd.to_numeric(dfstocks.Low)\n",
        "dfstocks.dtypes"
      ],
      "execution_count": 44,
      "outputs": [
        {
          "output_type": "execute_result",
          "data": {
            "text/plain": [
              "Date       datetime64[ns]\n",
              "Close             float64\n",
              "Volume              int64\n",
              "Open              float64\n",
              "High              float64\n",
              "Low               float64\n",
              "Company            object\n",
              "dtype: object"
            ]
          },
          "metadata": {
            "tags": []
          },
          "execution_count": 44
        }
      ]
    },
    {
      "cell_type": "code",
      "metadata": {
        "id": "tEBOZGfQNR6Y",
        "colab_type": "code",
        "colab": {}
      },
      "source": [
        "#Company Chosen\n",
        "comp=\"AAPL\""
      ],
      "execution_count": 0,
      "outputs": []
    },
    {
      "cell_type": "code",
      "metadata": {
        "id": "rsD9-1pONB6V",
        "colab_type": "code",
        "outputId": "c6daada3-67e6-4c06-baef-d49c8932900b",
        "colab": {
          "base_uri": "https://localhost:8080/",
          "height": 34
        }
      },
      "source": [
        "#dfstocks[dfstocks['Company'].str.contains(\"AMZN\")]\n",
        "sub_split=dfstocks[dfstocks['Company'].str.contains(comp)]\n",
        "sub_split.isnull().values.any()\n",
        "sub_split.isna().values.any()\n",
        "sub_split = sub_split.sort_values(['Date'])\n",
        "sub_split.reset_index(drop=True, inplace=True)\n",
        "sub_split.shape[0]"
      ],
      "execution_count": 76,
      "outputs": [
        {
          "output_type": "execute_result",
          "data": {
            "text/plain": [
              "9556"
            ]
          },
          "metadata": {
            "tags": []
          },
          "execution_count": 76
        }
      ]
    },
    {
      "cell_type": "code",
      "metadata": {
        "id": "8sOQDo9iM_Fb",
        "colab_type": "code",
        "colab": {}
      },
      "source": [
        "#Run only if you want to have a subset hidden from talos\n",
        "#hidden split for validation\n",
        "hidden_split=sub_split[(sub_split['Date'].dt.year==2018) | (sub_split['Date'].dt.year==2017) | (sub_split['Date'].dt.year==2016)]\n",
        "\n",
        "#drop hidden_split from sub_split \n",
        "sub_split=sub_split[sub_split['Date'].dt.year < 2016]\n",
        "hidden_split"
      ],
      "execution_count": 0,
      "outputs": []
    },
    {
      "cell_type": "code",
      "metadata": {
        "id": "WX2Dij4Gwh2s",
        "colab_type": "code",
        "colab": {}
      },
      "source": [
        "#TEST HIDDEN\n",
        "#hidden split for validation\n",
        "# hidden_split=sub_split[(sub_split['Date'].dt.year==2018) | (sub_split['Date'].dt.year==2017) | (sub_split['Date'].dt.year==2016)]\n",
        "\n",
        "#drop hidden_split from sub_split \n",
        "sub_split=sub_split[(sub_split['Date'].dt.year < 2016) & (sub_split['Date'].dt.year > 2009)]\n",
        "#sub_split=sub_split[(sub_split['Date'].dt.year < 2016) & (sub_split['Date'].dt.year > 2014)]\n",
        "# sub_split"
      ],
      "execution_count": 0,
      "outputs": []
    },
    {
      "cell_type": "code",
      "metadata": {
        "id": "te-gSnYPU0wX",
        "colab_type": "code",
        "outputId": "970d0c4a-8eeb-472d-a410-bc99ca63b5f7",
        "colab": {
          "base_uri": "https://localhost:8080/",
          "height": 419
        }
      },
      "source": [
        "sub_split"
      ],
      "execution_count": 90,
      "outputs": [
        {
          "output_type": "execute_result",
          "data": {
            "text/html": [
              "<div>\n",
              "<style scoped>\n",
              "    .dataframe tbody tr th:only-of-type {\n",
              "        vertical-align: middle;\n",
              "    }\n",
              "\n",
              "    .dataframe tbody tr th {\n",
              "        vertical-align: top;\n",
              "    }\n",
              "\n",
              "    .dataframe thead th {\n",
              "        text-align: right;\n",
              "    }\n",
              "</style>\n",
              "<table border=\"1\" class=\"dataframe\">\n",
              "  <thead>\n",
              "    <tr style=\"text-align: right;\">\n",
              "      <th></th>\n",
              "      <th>Volume</th>\n",
              "      <th>Close</th>\n",
              "      <th>Open</th>\n",
              "      <th>High</th>\n",
              "      <th>Low</th>\n",
              "      <th>scaled1</th>\n",
              "      <th>scaled2</th>\n",
              "      <th>scaled3</th>\n",
              "      <th>scaled4</th>\n",
              "      <th>scaled5</th>\n",
              "    </tr>\n",
              "  </thead>\n",
              "  <tbody>\n",
              "    <tr>\n",
              "      <th>8588</th>\n",
              "      <td>40621400</td>\n",
              "      <td>124.250000</td>\n",
              "      <td>124.820000</td>\n",
              "      <td>125.120003</td>\n",
              "      <td>123.099999</td>\n",
              "      <td>0.184869</td>\n",
              "      <td>0.707162</td>\n",
              "      <td>0.756504</td>\n",
              "      <td>0.657579</td>\n",
              "      <td>0.789340</td>\n",
              "    </tr>\n",
              "    <tr>\n",
              "      <th>8589</th>\n",
              "      <td>58512600</td>\n",
              "      <td>128.949997</td>\n",
              "      <td>126.099999</td>\n",
              "      <td>130.130005</td>\n",
              "      <td>125.300003</td>\n",
              "      <td>0.304815</td>\n",
              "      <td>0.864458</td>\n",
              "      <td>0.788835</td>\n",
              "      <td>0.839695</td>\n",
              "      <td>0.845178</td>\n",
              "    </tr>\n",
              "    <tr>\n",
              "      <th>8590</th>\n",
              "      <td>32112800</td>\n",
              "      <td>130.539993</td>\n",
              "      <td>130.279999</td>\n",
              "      <td>131.389999</td>\n",
              "      <td>130.050003</td>\n",
              "      <td>0.127825</td>\n",
              "      <td>0.917670</td>\n",
              "      <td>0.894418</td>\n",
              "      <td>0.885496</td>\n",
              "      <td>0.965736</td>\n",
              "    </tr>\n",
              "    <tr>\n",
              "      <th>8591</th>\n",
              "      <td>30238800</td>\n",
              "      <td>126.599999</td>\n",
              "      <td>126.900001</td>\n",
              "      <td>126.940002</td>\n",
              "      <td>125.989998</td>\n",
              "      <td>0.115262</td>\n",
              "      <td>0.785810</td>\n",
              "      <td>0.809043</td>\n",
              "      <td>0.723737</td>\n",
              "      <td>0.862690</td>\n",
              "    </tr>\n",
              "    <tr>\n",
              "      <th>8592</th>\n",
              "      <td>76845900</td>\n",
              "      <td>107.720001</td>\n",
              "      <td>110.150001</td>\n",
              "      <td>111.879997</td>\n",
              "      <td>107.360001</td>\n",
              "      <td>0.427726</td>\n",
              "      <td>0.153949</td>\n",
              "      <td>0.385956</td>\n",
              "      <td>0.176300</td>\n",
              "      <td>0.389848</td>\n",
              "    </tr>\n",
              "    <tr>\n",
              "      <th>...</th>\n",
              "      <td>...</td>\n",
              "      <td>...</td>\n",
              "      <td>...</td>\n",
              "      <td>...</td>\n",
              "      <td>...</td>\n",
              "      <td>...</td>\n",
              "      <td>...</td>\n",
              "      <td>...</td>\n",
              "      <td>...</td>\n",
              "      <td>...</td>\n",
              "    </tr>\n",
              "    <tr>\n",
              "      <th>8835</th>\n",
              "      <td>13570400</td>\n",
              "      <td>108.029999</td>\n",
              "      <td>109.000000</td>\n",
              "      <td>109.000000</td>\n",
              "      <td>107.949997</td>\n",
              "      <td>0.003513</td>\n",
              "      <td>0.164324</td>\n",
              "      <td>0.356908</td>\n",
              "      <td>0.071610</td>\n",
              "      <td>0.404822</td>\n",
              "    </tr>\n",
              "    <tr>\n",
              "      <th>8836</th>\n",
              "      <td>26704200</td>\n",
              "      <td>106.820000</td>\n",
              "      <td>107.589996</td>\n",
              "      <td>107.690002</td>\n",
              "      <td>106.180000</td>\n",
              "      <td>0.091565</td>\n",
              "      <td>0.123829</td>\n",
              "      <td>0.321293</td>\n",
              "      <td>0.023991</td>\n",
              "      <td>0.359899</td>\n",
              "    </tr>\n",
              "    <tr>\n",
              "      <th>8837</th>\n",
              "      <td>30931200</td>\n",
              "      <td>108.739998</td>\n",
              "      <td>106.959999</td>\n",
              "      <td>109.430000</td>\n",
              "      <td>106.860001</td>\n",
              "      <td>0.119904</td>\n",
              "      <td>0.188086</td>\n",
              "      <td>0.305380</td>\n",
              "      <td>0.087241</td>\n",
              "      <td>0.377157</td>\n",
              "    </tr>\n",
              "    <tr>\n",
              "      <th>8838</th>\n",
              "      <td>25213800</td>\n",
              "      <td>107.320000</td>\n",
              "      <td>108.580002</td>\n",
              "      <td>108.699997</td>\n",
              "      <td>107.180000</td>\n",
              "      <td>0.081573</td>\n",
              "      <td>0.140562</td>\n",
              "      <td>0.346300</td>\n",
              "      <td>0.060705</td>\n",
              "      <td>0.385279</td>\n",
              "    </tr>\n",
              "    <tr>\n",
              "      <th>8839</th>\n",
              "      <td>40635300</td>\n",
              "      <td>105.260002</td>\n",
              "      <td>107.010002</td>\n",
              "      <td>107.029999</td>\n",
              "      <td>104.820000</td>\n",
              "      <td>0.184962</td>\n",
              "      <td>0.071620</td>\n",
              "      <td>0.306643</td>\n",
              "      <td>0.000000</td>\n",
              "      <td>0.325381</td>\n",
              "    </tr>\n",
              "  </tbody>\n",
              "</table>\n",
              "<p>252 rows × 10 columns</p>\n",
              "</div>"
            ],
            "text/plain": [
              "        Volume       Close        Open  ...   scaled3   scaled4   scaled5\n",
              "8588  40621400  124.250000  124.820000  ...  0.756504  0.657579  0.789340\n",
              "8589  58512600  128.949997  126.099999  ...  0.788835  0.839695  0.845178\n",
              "8590  32112800  130.539993  130.279999  ...  0.894418  0.885496  0.965736\n",
              "8591  30238800  126.599999  126.900001  ...  0.809043  0.723737  0.862690\n",
              "8592  76845900  107.720001  110.150001  ...  0.385956  0.176300  0.389848\n",
              "...        ...         ...         ...  ...       ...       ...       ...\n",
              "8835  13570400  108.029999  109.000000  ...  0.356908  0.071610  0.404822\n",
              "8836  26704200  106.820000  107.589996  ...  0.321293  0.023991  0.359899\n",
              "8837  30931200  108.739998  106.959999  ...  0.305380  0.087241  0.377157\n",
              "8838  25213800  107.320000  108.580002  ...  0.346300  0.060705  0.385279\n",
              "8839  40635300  105.260002  107.010002  ...  0.306643  0.000000  0.325381\n",
              "\n",
              "[252 rows x 10 columns]"
            ]
          },
          "metadata": {
            "tags": []
          },
          "execution_count": 90
        }
      ]
    },
    {
      "cell_type": "code",
      "metadata": {
        "id": "wjwirxd4VutM",
        "colab_type": "code",
        "colab": {}
      },
      "source": [
        "# prepare training and testing data sets for LSTM based sequence modeling\n",
        "#def dimitris_function(time_series, scaling=True,split_ratio=0.9):\n",
        "def dimitris_function(time_series,split_ratio=0.9):\n",
        "\n",
        "    series1 = pd.Series(time_series[time_series.columns[0]])\n",
        "    series2 = pd.Series(time_series[time_series.columns[1]])\n",
        "    series3 = pd.Series(time_series[time_series.columns[2]])\n",
        "    series4 = pd.Series(time_series[time_series.columns[3]])\n",
        "    series5 = pd.Series(time_series[time_series.columns[4]])\n",
        "\n",
        "    values1 = series1.values\n",
        "    values1 = values1.reshape((len(values1), 1))\n",
        "    values2 = series2.values\n",
        "    values2 = values2.reshape((len(values2), 1))\n",
        "    values3 = series3.values\n",
        "    values3 = values3.reshape((len(values3), 1))\n",
        "    values4 = series4.values\n",
        "    values4 = values4.reshape((len(values4), 1))\n",
        "    values5 = series5.values\n",
        "    values5 = values5.reshape((len(values5), 1))\n",
        "\n",
        "    #scaler2 --> Close Price Scaler\n",
        "    scaler1 = MinMaxScaler(feature_range=(0, 1))\n",
        "    time_series[\"scaled1\"] = scaler1.fit_transform(values1)\n",
        "    scaler2 = MinMaxScaler(feature_range=(0, 1))\n",
        "    time_series[\"scaled2\"]= scaler2.fit_transform(values2)\n",
        "    scaler3 = MinMaxScaler(feature_range=(0, 1))\n",
        "    time_series[\"scaled3\"]= scaler3.fit_transform(values3)\n",
        "    scaler4 = MinMaxScaler(feature_range=(0, 1))\n",
        "    time_series[\"scaled4\"]= scaler4.fit_transform(values4)\n",
        "    scaler5 = MinMaxScaler(feature_range=(0, 1))\n",
        "    time_series[\"scaled5\"]= scaler5.fit_transform(values5)\n",
        "\n",
        "\n",
        "    time_series = time_series[[\"scaled1\",\"scaled2\",\"scaled3\",\"scaled4\",\"scaled5\"]].values\n",
        "\n",
        "        \n",
        "    split_ratio = int(len(time_series) * split_ratio)\n",
        "\n",
        "    train = time_series[0:split_ratio]\n",
        "    test = time_series[split_ratio:len(time_series)-1]\n",
        "    \n",
        "    # return train,test,scaler1,scaler2\n",
        "    return train,test,scaler2\n"
      ],
      "execution_count": 0,
      "outputs": []
    },
    {
      "cell_type": "code",
      "metadata": {
        "id": "OXyOtBUbQGzo",
        "colab_type": "code",
        "outputId": "370eab48-d75a-403e-e41d-e221b589bdb2",
        "colab": {
          "base_uri": "https://localhost:8080/",
          "height": 122
        }
      },
      "source": [
        "#mounting gdrive to save talos results for each run and tensor flow checkpoints\n",
        "from google.colab import drive\n",
        "drive.mount('/content/gdrive')"
      ],
      "execution_count": 22,
      "outputs": [
        {
          "output_type": "stream",
          "text": [
            "Go to this URL in a browser: https://accounts.google.com/o/oauth2/auth?client_id=947318989803-6bn6qk8qdgf4n4g3pfee6491hc0brc4i.apps.googleusercontent.com&redirect_uri=urn%3aietf%3awg%3aoauth%3a2.0%3aoob&response_type=code&scope=email%20https%3a%2f%2fwww.googleapis.com%2fauth%2fdocs.test%20https%3a%2f%2fwww.googleapis.com%2fauth%2fdrive%20https%3a%2f%2fwww.googleapis.com%2fauth%2fdrive.photos.readonly%20https%3a%2f%2fwww.googleapis.com%2fauth%2fpeopleapi.readonly\n",
            "\n",
            "Enter your authorization code:\n",
            "··········\n",
            "Mounted at /content/gdrive\n"
          ],
          "name": "stdout"
        }
      ]
    },
    {
      "cell_type": "code",
      "metadata": {
        "id": "UN6DYJT7TXPb",
        "colab_type": "code",
        "colab": {}
      },
      "source": [
        "#def get_seq_model(hidden_units1=40, hidden_units2=65, hidden_units3=32, drop=0.2,input_shape=(1,1)):\n",
        "def get_seq_model(x_train, y_train, x_val, y_val, params):  \n",
        "\n",
        "    # create and fit the LSTM network\n",
        "    model = Sequential()\n",
        "\n",
        "    print(params)\n",
        "    print(type(params))\n",
        "\n",
        "    # samples*timesteps*features\n",
        "    # https://keras.io/getting-started/sequential-model-guide/\n",
        "    #https://journals.plos.org/plosone/article?id=10.1371/journal.pone.0227222\n",
        "\n",
        "    ######!!!!!#####!!!!!\n",
        "    #(train_x.shape[1],5) where 5 is the number of features is equal to :\n",
        "    #(train_x.shape[1],train_x.shape[2])\n",
        "    model.add(LSTM(\n",
        "                   input_shape=(x_train.shape[1],x_train.shape[2]),\n",
        "                   units = params['hidden_1'],  \n",
        "                   #activation='relu',recurrent_activation='sigmoid',\n",
        "                   return_sequences=True\n",
        "    ))\n",
        "    model.add(Dropout(params['dropout']))\n",
        "    model.add(LSTM(\n",
        "                   units = params['hidden_2'],\n",
        "                   #activation='relu',recurrent_activation='sigmoid',\n",
        "                   return_sequences=True\n",
        "    ))\n",
        "    model.add(Dropout(params['dropout']))   \n",
        "    model.add(LSTM(\n",
        "                   units = params['hidden_3'], \n",
        "                   #activation='relu',recurrent_activation='sigmoid',\n",
        "                   return_sequences=True\n",
        "    ))\n",
        "    model.add(Dropout(params['dropout']))\n",
        "\n",
        "    # readout layer. TimeDistributedDense uses the same weights for all\n",
        "    # time steps.\n",
        "    # model.add(TimeDistributed(Dense(1))) #number of inputs in the 1st layer\n",
        "   # model.add(TimeDistributed(Dense(5)))\n",
        "    model.add(TimeDistributed(Dense(5)))\n",
        "    start = time.time()\n",
        "    \n",
        "    model.compile(loss=\"mse\", optimizer=\"rmsprop\")\n",
        "    timestr = time.strftime(\"%Y%m%d-%H%M%S\")\n",
        "    checkpoint_path = \"/content/gdrive/My Drive/checkpoints1\"  + \"/cp-{epoch:04d}.ckpt\"\n",
        "    checkpoint_dir = os.path.dirname(checkpoint_path)\n",
        "    cp_callback = tf.keras.callbacks.ModelCheckpoint(\n",
        "        checkpoint_path, verbose=1, save_weights_only=True,#save_best_only='TRUE'\n",
        "        # Save weights, every 5-epochs.\n",
        "        period=15)\n",
        "    \n",
        "   # early_stop = keras.callbacks.EarlyStopping(monitor='val_loss', patience=40)\n",
        "    \n",
        "    out = model.fit(x_train, y_train,\n",
        "              epochs=params['epochs'], batch_size=1,\n",
        "              validation_data=[x_val, y_val],\n",
        "              #epochs=200, batch_size=1,\n",
        "              verbose=1,callbacks=[cp_callback])\n",
        "\n",
        "    return out, model"
      ],
      "execution_count": 0,
      "outputs": []
    },
    {
      "cell_type": "code",
      "metadata": {
        "id": "tHb3jTx65xsf",
        "colab_type": "code",
        "outputId": "888e6d34-4816-4093-fb1d-c5bf03548556",
        "colab": {
          "base_uri": "https://localhost:8080/",
          "height": 187
        }
      },
      "source": [
        "ls gdrive/\"My Drive\"/checkpoints1"
      ],
      "execution_count": 24,
      "outputs": [
        {
          "output_type": "stream",
          "text": [
            "checkpoint                        cp-0060.ckpt.data-00000-of-00002\n",
            "cp-0015.ckpt.data-00000-of-00002  cp-0060.ckpt.data-00001-of-00002\n",
            "cp-0015.ckpt.data-00001-of-00002  cp-0060.ckpt.index\n",
            "cp-0015.ckpt.index                cp-0075.ckpt.data-00000-of-00002\n",
            "cp-0030.ckpt.data-00000-of-00002  cp-0075.ckpt.data-00001-of-00002\n",
            "cp-0030.ckpt.data-00001-of-00002  cp-0075.ckpt.index\n",
            "cp-0030.ckpt.index                cp-0090.ckpt.data-00000-of-00002\n",
            "cp-0045.ckpt.data-00000-of-00002  cp-0090.ckpt.data-00001-of-00002\n",
            "cp-0045.ckpt.data-00001-of-00002  cp-0090.ckpt.index\n",
            "cp-0045.ckpt.index\n"
          ],
          "name": "stdout"
        }
      ]
    },
    {
      "cell_type": "code",
      "metadata": {
        "id": "2gbME0KzpaCa",
        "colab_type": "code",
        "colab": {}
      },
      "source": [
        "talos=False;\n",
        "\n",
        "if not talos:\n",
        "  #Chosen final parameters\n",
        "  p = {'hidden_1': 8,\n",
        "     'hidden_2': 16,\n",
        "     'hidden_3': 32,\n",
        "     'dropout': 0.1,\n",
        "     'epochs': 100\n",
        "     }\n",
        "\n",
        "else:\n",
        "  #Parameters for the model optimization in talos\n",
        "  p = {'hidden_1':[8, 16, 32],\n",
        "     'hidden_2':[8, 16, 32],\n",
        "     'hidden_3':[8, 16, 32],\n",
        "     'dropout': [0.1, 0.2],\n",
        "     #'dropout': [0.1],\n",
        "     'epochs': [20, 50, 100]\n",
        "     }"
      ],
      "execution_count": 0,
      "outputs": []
    },
    {
      "cell_type": "code",
      "metadata": {
        "id": "UiL73vb-dFsK",
        "colab_type": "code",
        "colab": {}
      },
      "source": [
        "# print(type(sub_split.Close))\n",
        "sub_split_date=sub_split[['Date']]\n",
        "sub_split=sub_split[['Volume', 'Close', 'Open', 'High', 'Low']]\n",
        "#sub_split.columns[1]"
      ],
      "execution_count": 0,
      "outputs": []
    },
    {
      "cell_type": "code",
      "metadata": {
        "id": "zeAENS4LVpDG",
        "colab_type": "code",
        "outputId": "76709171-789d-439c-ece9-f1768b4a5d04",
        "colab": {
          "base_uri": "https://localhost:8080/",
          "height": 85
        }
      },
      "source": [
        "# split train and test datasets\n",
        "train,test,scaler_Close = dimitris_function(sub_split,split_ratio=0.7)\n",
        "\n",
        "#train\n",
        "print(len(train))\n",
        "print(train.shape[0])\n",
        "print(train.shape)\n",
        "print(test.shape)\n",
        "# print(train)"
      ],
      "execution_count": 82,
      "outputs": [
        {
          "output_type": "stream",
          "text": [
            "176\n",
            "176\n",
            "(176, 5)\n",
            "(75, 5)\n"
          ],
          "name": "stdout"
        }
      ]
    },
    {
      "cell_type": "code",
      "metadata": {
        "id": "uZG7396CWoy9",
        "colab_type": "code",
        "outputId": "67a08efd-c01c-40c8-b93d-044cdd35e852",
        "colab": {
          "base_uri": "https://localhost:8080/",
          "height": 102
        }
      },
      "source": [
        "#We use numpy to reshape our time series into 3D tensors.\n",
        "train = np.reshape(train,(train.shape[0],1,5))\n",
        "test = np.reshape(test,(test.shape[0],1,5))\n",
        "\n",
        "train_x = train[:,:,:]\n",
        "train_y = train[:,:,:]\n",
        "\n",
        "test_x = test[:,:,:]\n",
        "test_y = test[:,:,:]\n",
        "\n",
        "print(\"Data Split Complete\")\n",
        "\n",
        "print(\"train_x shape={}\".format(train_x.shape))\n",
        "print(\"train_y shape={}\".format(train_y.shape))\n",
        "print(\"test_x shape={}\".format(test_x.shape))\n",
        "print(\"test_y shape={}\".format(test_y.shape))"
      ],
      "execution_count": 83,
      "outputs": [
        {
          "output_type": "stream",
          "text": [
            "Data Split Complete\n",
            "train_x shape=(176, 1, 5)\n",
            "train_y shape=(176, 1, 5)\n",
            "test_x shape=(75, 1, 5)\n",
            "test_y shape=(75, 1, 5)\n"
          ],
          "name": "stdout"
        }
      ]
    },
    {
      "cell_type": "code",
      "metadata": {
        "id": "28u6Kogp6yzg",
        "colab_type": "code",
        "outputId": "74b452d3-7e7a-4bd6-ad06-7bc45b562468",
        "colab": {
          "base_uri": "https://localhost:8080/",
          "height": 119
        }
      },
      "source": [
        "load_from_checkpoint=True;\n",
        "\n",
        "seq_lstm_model=None\n",
        "if load_from_checkpoint:\n",
        "  #Load the latest checkpoint saved in Drive #'gdrive/My Drive/checkpoints1/cp-0090.ckpt'\n",
        "  latest=tf.train.latest_checkpoint(\"gdrive/My Drive/checkpoints1\")\n",
        "  print(latest)\n",
        "  #Create the model and train for 1 epoch to get the NN stracture\n",
        "  p['epochs']=1\n",
        "  try:\n",
        "    seq_lstm_model=get_seq_model(train_x,train_y,test_x,test_y,p)\n",
        "  except:\n",
        "    print(\"Model Build Failed. Trying Again\")\n",
        "    seq_lstm_model = get_seq_model(train_x,train_y,test_x,test_y,p)\n",
        "  #Load the weight of the checkpoint to the NN \n",
        "  seq_lstm_model[1].load_weights(latest)\n",
        "else:\n",
        "  # build RNN model\n",
        "  try:\n",
        "    seq_lstm_model = get_seq_model(train_x,train_y,test_x,test_y,p)\n",
        "  except:\n",
        "    print(\"Model Build Failed. Trying Again\")\n",
        "    seq_lstm_model = get_seq_model(train_x,train_y,test_x,test_y,p)"
      ],
      "execution_count": 84,
      "outputs": [
        {
          "output_type": "stream",
          "text": [
            "gdrive/My Drive/checkpoints1/cp-0090.ckpt\n",
            "{'hidden_1': 8, 'hidden_2': 16, 'hidden_3': 32, 'dropout': 0.1, 'epochs': 1}\n",
            "<class 'dict'>\n",
            "WARNING:tensorflow:`period` argument is deprecated. Please use `save_freq` to specify the frequency in number of samples seen.\n",
            "Train on 176 samples, validate on 75 samples\n",
            "176/176 [==============================] - 6s 33ms/sample - loss: 0.1459 - val_loss: 0.0400\n"
          ],
          "name": "stdout"
        }
      ]
    },
    {
      "cell_type": "code",
      "metadata": {
        "id": "WmcJ3-KC4_k-",
        "colab_type": "code",
        "colab": {}
      },
      "source": [
        "# x=np.concatenate((train_x, test_x), axis=1)\n",
        "# y=np.concatenate((train_y, test_y), axis=1)\n",
        "# print(\"x shape={}\".format(x.shape))\n",
        "# print(\"y shape={}\".format(y.shape))\n",
        "import talos\n"
      ],
      "execution_count": 0,
      "outputs": []
    },
    {
      "cell_type": "code",
      "metadata": {
        "id": "DqTCq2NDTQFL",
        "colab_type": "code",
        "outputId": "df92fb08-12a0-4aee-d875-876329b9020f",
        "colab": {
          "base_uri": "https://localhost:8080/",
          "height": 275
        }
      },
      "source": [
        "%%capture\n",
        "# 100\t0.0005776109765\t0.001970537574\t0.1\t100\t8\t16\t32\n",
        "scan_obj = talos.Scan(x=train_x,\n",
        "                      y=train_y,\n",
        "                      x_val=test_x,\n",
        "                      #x_val=train_x,\n",
        "                      y_val=test_y,\n",
        "                     #y_val=train_y,\n",
        "\n",
        "                      params=p,\n",
        "                      val_split=0.1,\n",
        "                      model=get_seq_model,\n",
        "                      #shuffle=False,\n",
        "                      experiment_name='gdrive/My Drive/test',\n",
        "                      #fraction_limit=0.1\n",
        "                      )\n"
      ],
      "execution_count": 0,
      "outputs": [
        {
          "output_type": "stream",
          "text": [
            "WARNING:tensorflow:From /tensorflow-1.15.2/python3.6/tensorflow_core/python/ops/resource_variable_ops.py:1630: calling BaseResourceVariable.__init__ (from tensorflow.python.ops.resource_variable_ops) with constraint is deprecated and will be removed in a future version.\n",
            "Instructions for updating:\n",
            "If using Keras pass *_constraint arguments to layers.\n",
            "WARNING:tensorflow:`period` argument is deprecated. Please use `save_freq` to specify the frequency in number of samples seen.\n",
            "WARNING:tensorflow:From /tensorflow-1.15.2/python3.6/tensorflow_core/python/ops/math_grad.py:1424: where (from tensorflow.python.ops.array_ops) is deprecated and will be removed in a future version.\n",
            "Instructions for updating:\n",
            "Use tf.where in 2.0, which has the same broadcast rule as np.where\n",
            "WARNING:tensorflow:`period` argument is deprecated. Please use `save_freq` to specify the frequency in number of samples seen.\n",
            "WARNING:tensorflow:`period` argument is deprecated. Please use `save_freq` to specify the frequency in number of samples seen.\n",
            "WARNING:tensorflow:`period` argument is deprecated. Please use `save_freq` to specify the frequency in number of samples seen.\n",
            "WARNING:tensorflow:`period` argument is deprecated. Please use `save_freq` to specify the frequency in number of samples seen.\n",
            "WARNING:tensorflow:`period` argument is deprecated. Please use `save_freq` to specify the frequency in number of samples seen.\n",
            "WARNING:tensorflow:`period` argument is deprecated. Please use `save_freq` to specify the frequency in number of samples seen.\n",
            "WARNING:tensorflow:`period` argument is deprecated. Please use `save_freq` to specify the frequency in number of samples seen.\n"
          ],
          "name": "stdout"
        }
      ]
    },
    {
      "cell_type": "code",
      "metadata": {
        "id": "3maixlgooNbV",
        "colab_type": "code",
        "colab": {}
      },
      "source": [
        "print(\"Finished Talos Scan!!\")"
      ],
      "execution_count": 0,
      "outputs": []
    },
    {
      "cell_type": "code",
      "metadata": {
        "id": "q8JQmBWEzSm3",
        "colab_type": "code",
        "colab": {}
      },
      "source": [
        "scan_obj.data.head()"
      ],
      "execution_count": 0,
      "outputs": []
    },
    {
      "cell_type": "code",
      "metadata": {
        "id": "MdpHk3OJ22QD",
        "colab_type": "code",
        "colab": {}
      },
      "source": [
        "# train_y"
      ],
      "execution_count": 0,
      "outputs": []
    },
    {
      "cell_type": "code",
      "metadata": {
        "id": "FnQs_OC6XsTz",
        "colab_type": "code",
        "colab": {}
      },
      "source": [
        "# train the model\n",
        "#https://medium.com/@rajath95/how-to-save-and-upload-deep-learning-machine-learning-models-in-google-colab-using-google-drive-eb2901937ae\n",
        "# seq_lstm_model[1].fit(train_x, train_y,\n",
        "#                 epochs=2, batch_size=1,\n",
        "#                 #epochs=200, batch_size=1,\n",
        "#                 verbose=1)\n",
        "# print(\"Model Fit Complete\")"
      ],
      "execution_count": 0,
      "outputs": []
    },
    {
      "cell_type": "code",
      "metadata": {
        "id": "g07f1lEGXu_T",
        "colab_type": "code",
        "outputId": "82372728-d49f-44a9-fd05-6c72bc1619ee",
        "colab": {
          "base_uri": "https://localhost:8080/",
          "height": 1000
        }
      },
      "source": [
        "# train fit performance\n",
        "trainPredict = seq_lstm_model[1].predict(train_x)\n",
        "trainScore = math.sqrt(mean_squared_error(train_y[0], trainPredict[0]))\n",
        "print('Train Score: %.2f RMSE' % (trainScore))\n",
        "\n",
        "# Pad input sequence\n",
        "testPredict = pad_sequences(test_x,maxlen=train_x.shape[1],padding='post',dtype='float64')\n",
        "\n",
        "# forecast values\n",
        "testPredict = seq_lstm_model[1].predict(testPredict)\n",
        "testPredict"
      ],
      "execution_count": 85,
      "outputs": [
        {
          "output_type": "stream",
          "text": [
            "Train Score: 0.16 RMSE\n"
          ],
          "name": "stdout"
        },
        {
          "output_type": "execute_result",
          "data": {
            "text/plain": [
              "array([[[0.01492372, 0.38674444, 0.3829521 , 0.38026303, 0.38941127]],\n",
              "\n",
              "       [[0.01465006, 0.4182907 , 0.41411126, 0.4113884 , 0.42095098]],\n",
              "\n",
              "       [[0.01457324, 0.43565586, 0.43126816, 0.4285255 , 0.4383117 ]],\n",
              "\n",
              "       [[0.01492513, 0.3659451 , 0.36240613, 0.35974735, 0.36860597]],\n",
              "\n",
              "       [[0.01488403, 0.33374542, 0.33060664, 0.32799673, 0.33638793]],\n",
              "\n",
              "       [[0.01467261, 0.3863024 , 0.38250747, 0.37982193, 0.38897172]],\n",
              "\n",
              "       [[0.01460176, 0.37052995, 0.36692303, 0.36425614, 0.3732057 ]],\n",
              "\n",
              "       [[0.01444239, 0.39780286, 0.39385772, 0.39115417, 0.40049216]],\n",
              "\n",
              "       [[0.01464106, 0.38130665, 0.37757212, 0.37489527, 0.3839726 ]],\n",
              "\n",
              "       [[0.01484906, 0.38726947, 0.3834679 , 0.3807807 , 0.38993412]],\n",
              "\n",
              "       [[0.01463046, 0.36838448, 0.36480457, 0.3621409 , 0.37105802]],\n",
              "\n",
              "       [[0.0147482 , 0.32252485, 0.31952977, 0.31693834, 0.32515237]],\n",
              "\n",
              "       [[0.01466623, 0.31915557, 0.31619906, 0.31360275, 0.3217984 ]],\n",
              "\n",
              "       [[0.0154009 , 0.43610284, 0.4317627 , 0.4289952 , 0.438759  ]],\n",
              "\n",
              "       [[0.0157577 , 0.46919474, 0.4645034 , 0.4616902 , 0.47182667]],\n",
              "\n",
              "       [[0.01559606, 0.6207591 , 0.6142586 , 0.61124456, 0.6233481 ]],\n",
              "\n",
              "       [[0.01572571, 0.6667191 , 0.65969276, 0.656617  , 0.6692858 ]],\n",
              "\n",
              "       [[0.01550679, 0.45912823, 0.4545256 , 0.45172566, 0.46177575]],\n",
              "\n",
              "       [[0.01510422, 0.42579964, 0.42155248, 0.41880667, 0.42846188]],\n",
              "\n",
              "       [[0.0146747 , 0.33594355, 0.33277243, 0.3301543 , 0.3385967 ]],\n",
              "\n",
              "       [[0.01503646, 0.39643654, 0.39253348, 0.38982803, 0.3991048 ]],\n",
              "\n",
              "       [[0.01446539, 0.44954512, 0.44499296, 0.44223976, 0.45218936]],\n",
              "\n",
              "       [[0.01441215, 0.34337804, 0.34005004, 0.33735162, 0.3462107 ]],\n",
              "\n",
              "       [[0.0145519 , 0.32628113, 0.3231815 , 0.32051367, 0.32907486]],\n",
              "\n",
              "       [[0.01445802, 0.34167013, 0.3383788 , 0.33569622, 0.34446555]],\n",
              "\n",
              "       [[0.014476  , 0.34065062, 0.33737344, 0.33469403, 0.34344077]],\n",
              "\n",
              "       [[0.01434403, 0.3331929 , 0.3299628 , 0.32725513, 0.3360824 ]],\n",
              "\n",
              "       [[0.01454295, 0.36194482, 0.35844278, 0.35578647, 0.36462158]],\n",
              "\n",
              "       [[0.01453911, 0.39664295, 0.392717  , 0.390018  , 0.39931983]],\n",
              "\n",
              "       [[0.01455816, 0.40575805, 0.4017247 , 0.39901596, 0.40842846]],\n",
              "\n",
              "       [[0.01512254, 0.40621254, 0.4022001 , 0.39948028, 0.40887746]],\n",
              "\n",
              "       [[0.01508713, 0.37461   , 0.3709738 , 0.36830127, 0.377271  ]],\n",
              "\n",
              "       [[0.01500438, 0.35501105, 0.35161036, 0.3489672 , 0.35766712]],\n",
              "\n",
              "       [[0.01521467, 0.33367375, 0.3305723 , 0.32797045, 0.33629057]],\n",
              "\n",
              "       [[0.01517539, 0.45555308, 0.45095527, 0.44816488, 0.45821598]],\n",
              "\n",
              "       [[0.01521673, 0.4724184 , 0.46762067, 0.46480536, 0.47508124]],\n",
              "\n",
              "       [[0.01562301, 0.42306456, 0.41892022, 0.41617554, 0.42569637]],\n",
              "\n",
              "       [[0.0155964 , 0.43849188, 0.43414956, 0.4313804 , 0.44113237]],\n",
              "\n",
              "       [[0.01564514, 0.61833084, 0.6118585 , 0.6088445 , 0.62092555]],\n",
              "\n",
              "       [[0.01565732, 0.6926862 , 0.6853651 , 0.6822683 , 0.6952195 ]],\n",
              "\n",
              "       [[0.0150919 , 0.30713832, 0.30436063, 0.30180904, 0.30973047]],\n",
              "\n",
              "       [[0.01457678, 0.36679992, 0.36323953, 0.36057776, 0.36947438]],\n",
              "\n",
              "       [[0.01473669, 0.42309424, 0.41886008, 0.41612875, 0.42575386]],\n",
              "\n",
              "       [[0.0145999 , 0.38705   , 0.38324147, 0.38055605, 0.3897223 ]],\n",
              "\n",
              "       [[0.01457135, 0.38472515, 0.38094336, 0.37826103, 0.38739905]],\n",
              "\n",
              "       [[0.01442939, 0.37386075, 0.37020528, 0.36752754, 0.37655962]],\n",
              "\n",
              "       [[0.0143955 , 0.40869758, 0.4046172 , 0.40189713, 0.41139674]],\n",
              "\n",
              "       [[0.01478351, 0.42329916, 0.4190653 , 0.41633177, 0.42595962]],\n",
              "\n",
              "       [[0.01489985, 0.46195236, 0.45726633, 0.4544816 , 0.46459955]],\n",
              "\n",
              "       [[0.01482423, 0.5044322 , 0.49925005, 0.49641776, 0.50705457]],\n",
              "\n",
              "       [[0.01470641, 0.49388936, 0.48882753, 0.48601854, 0.49650308]],\n",
              "\n",
              "       [[0.01488149, 0.46143368, 0.45675302, 0.4539684 , 0.46408293]],\n",
              "\n",
              "       [[0.01451743, 0.5131725 , 0.5078959 , 0.5050862 , 0.5157397 ]],\n",
              "\n",
              "       [[0.01444121, 0.5025039 , 0.49736106, 0.49457723, 0.5050545 ]],\n",
              "\n",
              "       [[0.01482937, 0.47439188, 0.4695568 , 0.46675873, 0.47703367]],\n",
              "\n",
              "       [[0.01458218, 0.33140457, 0.32826155, 0.3256127 , 0.33414063]],\n",
              "\n",
              "       [[0.01582219, 0.45527843, 0.45076913, 0.44797653, 0.45790562]],\n",
              "\n",
              "       [[0.01546732, 0.5302582 , 0.52480525, 0.52191   , 0.5328905 ]],\n",
              "\n",
              "       [[0.01566441, 0.5736277 , 0.5676778 , 0.56471807, 0.5762485 ]],\n",
              "\n",
              "       [[0.01561394, 0.65761757, 0.6506957 , 0.6476395 , 0.6601789 ]],\n",
              "\n",
              "       [[0.01497147, 0.29553008, 0.2928927 , 0.29036582, 0.29810673]],\n",
              "\n",
              "       [[0.01439353, 0.35814643, 0.35464334, 0.35193735, 0.3609589 ]],\n",
              "\n",
              "       [[0.01450756, 0.44311133, 0.4386341 , 0.43588543, 0.44576254]],\n",
              "\n",
              "       [[0.01469002, 0.33636865, 0.33319134, 0.33057463, 0.33901963]],\n",
              "\n",
              "       [[0.0145677 , 0.34144107, 0.33819252, 0.33555818, 0.3441201 ]],\n",
              "\n",
              "       [[0.01457514, 0.33108747, 0.32797134, 0.32535306, 0.33375514]],\n",
              "\n",
              "       [[0.01456977, 0.32474622, 0.32166135, 0.31899112, 0.32754916]],\n",
              "\n",
              "       [[0.01478455, 0.28595006, 0.2834534 , 0.28094012, 0.28849712]],\n",
              "\n",
              "       [[0.014827  , 0.22944486, 0.22749946, 0.22491707, 0.23229918]],\n",
              "\n",
              "       [[0.01459517, 0.22882006, 0.22682455, 0.22422448, 0.23174094]],\n",
              "\n",
              "       [[0.01450011, 0.255193  , 0.2528727 , 0.25022382, 0.25814754]],\n",
              "\n",
              "       [[0.01357671, 0.25844705, 0.25597218, 0.2533588 , 0.26142758]],\n",
              "\n",
              "       [[0.0144347 , 0.22008386, 0.218168  , 0.21559295, 0.22300005]],\n",
              "\n",
              "       [[0.01444051, 0.2558471 , 0.2535109 , 0.25086144, 0.25880754]],\n",
              "\n",
              "       [[0.01424431, 0.24790677, 0.24563241, 0.24300084, 0.25087953]]],\n",
              "      dtype=float32)"
            ]
          },
          "metadata": {
            "tags": []
          },
          "execution_count": 85
        }
      ]
    },
    {
      "cell_type": "code",
      "metadata": {
        "id": "2ssFCbxjhu55",
        "colab_type": "code",
        "colab": {}
      },
      "source": [
        "# print()"
      ],
      "execution_count": 0,
      "outputs": []
    },
    {
      "cell_type": "code",
      "metadata": {
        "id": "URNrqwpl1SbQ",
        "colab_type": "code",
        "colab": {}
      },
      "source": [
        "# trainPredict"
      ],
      "execution_count": 0,
      "outputs": []
    },
    {
      "cell_type": "code",
      "metadata": {
        "id": "XsR5ytjpX2yj",
        "colab_type": "code",
        "colab": {}
      },
      "source": [
        "# # forecast values\n",
        "# testPredict = seq_lstm_model[1].predict(testPredict)\n",
        "# testPredict"
      ],
      "execution_count": 0,
      "outputs": []
    },
    {
      "cell_type": "code",
      "metadata": {
        "id": "KvjYccaoN8hP",
        "colab_type": "code",
        "colab": {}
      },
      "source": [
        "#Drop all other variables except Close Price Output\n",
        "testPredict=np.delete(testPredict, [2,3,4], 2)\n",
        "trainPredict=np.delete(trainPredict, [2,3,4], 2)\n",
        "\n",
        "testPredict=np.delete(testPredict, 0, 2)\n",
        "trainPredict=np.delete(trainPredict, 0, 2)\n",
        "\n",
        "# # inverse transformation of the Close Price\n",
        "trainPredict = scaler_Close.inverse_transform(trainPredict.\\\n",
        "                                        reshape(-1,1))\n",
        "testPredict = scaler_Close.inverse_transform(testPredict.\\\n",
        "                                       reshape(-1,1))"
      ],
      "execution_count": 0,
      "outputs": []
    },
    {
      "cell_type": "code",
      "metadata": {
        "id": "0Oc_n5TARVXV",
        "colab_type": "code",
        "colab": {}
      },
      "source": [
        "# testPredict"
      ],
      "execution_count": 0,
      "outputs": []
    },
    {
      "cell_type": "code",
      "metadata": {
        "id": "EMtIMjJRE18q",
        "colab_type": "code",
        "colab": {}
      },
      "source": [
        "# trainPredict"
      ],
      "execution_count": 0,
      "outputs": []
    },
    {
      "cell_type": "code",
      "metadata": {
        "id": "zA7Aehl4X5ck",
        "colab_type": "code",
        "colab": {}
      },
      "source": [
        "# # # inverse transformation of the Close Price\n",
        "# trainPredict = scaler_Close.inverse_transform(trainPredict.\\\n",
        "#                                         reshape(-1,1))\n",
        "# testPredict = scaler_Close.inverse_transform(testPredict.\\\n",
        "#                                        reshape(-1,1))"
      ],
      "execution_count": 0,
      "outputs": []
    },
    {
      "cell_type": "code",
      "metadata": {
        "id": "x_nZ9samd1Rs",
        "colab_type": "code",
        "colab": {}
      },
      "source": [
        "# trainPredict"
      ],
      "execution_count": 0,
      "outputs": []
    },
    {
      "cell_type": "code",
      "metadata": {
        "id": "NRMR0WkN3XIh",
        "colab_type": "code",
        "outputId": "1ea5d8b1-31a7-4e59-b2d6-4fbe5616394d",
        "colab": {
          "base_uri": "https://localhost:8080/",
          "height": 607
        }
      },
      "source": [
        "# plot the true and forecasted values\n",
        "split_ratio = len(trainPredict)+1\n",
        "\n",
        "plt.plot(sub_split_date.Date,\n",
        "          sub_split.Close.values,c='black',\n",
        "          alpha=0.9,label='True Data')\n",
        "\n",
        "plt.plot(sub_split_date.Date[1:split_ratio],\n",
        "          trainPredict,label='Training Fit',c='g')\n",
        "\n",
        "# plt.plot(sub_split_date.Date[split_ratio+1:],\n",
        "#           testPredict[:test_x.shape[1]],label='Testing Forecast')\n",
        "\n",
        "plt.plot(sub_split_date.Date[split_ratio:],\n",
        "          testPredict[:test_x.shape[0]],label='Testing Forecast')\n",
        "\n",
        "plt.title('Forecast Plot')\n",
        "plt.legend()\n",
        "#plt.show()\n",
        "plt.rcParams[\"figure.figsize\"] = (20,10)\n",
        "plt.show()"
      ],
      "execution_count": 89,
      "outputs": [
        {
          "output_type": "display_data",
          "data": {
            "image/png": "[encoded data removed]",
            "text/plain": [
              "<Figure size 1440x720 with 1 Axes>"
            ]
          },
          "metadata": {
            "tags": [],
            "needs_background": "light"
          }
        }
      ]
    }
  ]
}