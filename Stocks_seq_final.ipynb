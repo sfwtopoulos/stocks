{
  "nbformat": 4,
  "nbformat_minor": 0,
  "metadata": {
    "colab": {
      "name": "Stocks_seq_1st.ipynb",
      "provenance": [],
      "collapsed_sections": [],
      "include_colab_link": true
    },
    "kernelspec": {
      "name": "python3",
      "display_name": "Python 3"
    }
  },
  "cells": [
    {
      "cell_type": "markdown",
      "metadata": {
        "id": "view-in-github",
        "colab_type": "text"
      },
      "source": [
        "<a href=\"https://colab.research.google.com/github/sfwtopoulos/stocks/blob/master/Stocks_seq_final.ipynb\" target=\"_parent\"><img src=\"https://colab.research.google.com/assets/colab-badge.svg\" alt=\"Open In Colab\"/></a>"
      ]
    },
    {
      "cell_type": "code",
      "metadata": {
        "id": "IHoF0v0IorKz",
        "colab_type": "code",
        "outputId": "22d33fde-05fe-4973-f8f0-20c41f946a18",
        "colab": {
          "base_uri": "https://localhost:8080/",
          "height": 68
        }
      },
      "source": [
        "pip install -q talos"
      ],
      "execution_count": 91,
      "outputs": [
        {
          "output_type": "stream",
          "text": [
            "\u001b[K     |████████████████████████████████| 26.6MB 165kB/s \n",
            "\u001b[31mERROR: umap-learn 0.4.2 has requirement scipy>=1.3.1, but you'll have scipy 1.2.0 which is incompatible.\u001b[0m\n",
            "\u001b[31mERROR: albumentations 0.1.12 has requirement imgaug<0.2.7,>=0.2.5, but you'll have imgaug 0.2.9 which is incompatible.\u001b[0m\n",
            "\u001b[?25h"
          ],
          "name": "stdout"
        }
      ]
    },
    {
      "cell_type": "code",
      "metadata": {
        "id": "wJZRdo7B2sVO",
        "colab_type": "code",
        "colab": {}
      },
      "source": [
        "pip install -q wget"
      ],
      "execution_count": 0,
      "outputs": []
    },
    {
      "cell_type": "code",
      "metadata": {
        "id": "DOmxraS5T1wD",
        "colab_type": "code",
        "colab": {}
      },
      "source": [
        "import pandas as pd\n",
        "import matplotlib.pyplot as plt\n",
        "import pandas as pd\n",
        "import math\n",
        "import warnings\n",
        "import numpy as np\n",
        "import time\n",
        "import sys\n",
        "\n",
        "import pandas_datareader as pdr\n",
        "#%tensorflow_version 2.x\n",
        "# Restart runtime using 'Runtime' -> 'Restart runtime...'\n",
        "%tensorflow_version 1.x\n",
        "import tensorflow as tf\n",
        "import keras\n",
        "\n",
        "\n",
        "# from keras.layers import LSTM\n",
        "# from keras.models import Sequential\n",
        "# from keras.layers.wrappers import TimeDistributed\n",
        "# from keras.layers.wrappers import TimeDistributed\n",
        "# from keras.layers.core import Dense, Activation, Dropout\n",
        "# from keras.preprocessing.sequence import pad_sequences\n",
        "\n",
        "from tensorflow.python.keras.layers import Dense, Activation, Dropout, Input\n",
        "from tensorflow.python.keras.models import Sequential\n",
        "from tensorflow.python.keras.layers import LSTM\n",
        "from tensorflow.python.keras.layers.wrappers import TimeDistributed\n",
        "from tensorflow.python.keras.layers.wrappers import TimeDistributed\n",
        "from tensorflow.python.keras.preprocessing.sequence import pad_sequences\n",
        "\n",
        "\n",
        "from sklearn.preprocessing import MinMaxScaler\n",
        "from sklearn.metrics import mean_squared_error\n",
        "import seaborn as sns\n",
        "import matplotlib.pyplot as plt\n",
        "\n",
        "import os\n",
        "import wget\n",
        "from zipfile import ZipFile\n",
        "\n",
        "warnings.filterwarnings('ignore',category=FutureWarning)\n",
        "warnings.filterwarnings('ignore', category=DeprecationWarning)"
      ],
      "execution_count": 0,
      "outputs": []
    },
    {
      "cell_type": "code",
      "metadata": {
        "id": "evxNkZl6rxjd",
        "colab_type": "code",
        "colab": {}
      },
      "source": [
        "# from keras.optimizers import Adam, Nadam\n",
        "# from keras.activations import softmax\n",
        "# from keras.losses import categorical_crossentropy, logcosh\n",
        "# from talos.utils import lr_normalizer\n",
        "import talos\n",
        "from tensorflow.python.keras.optimizers import Adam, Nadam\n",
        "from tensorflow.python.keras.activations import softmax\n",
        "from tensorflow.python.keras.losses import categorical_crossentropy, logcosh\n",
        "from talos.utils import lr_normalizer"
      ],
      "execution_count": 0,
      "outputs": []
    },
    {
      "cell_type": "code",
      "metadata": {
        "id": "2byEjZdZVJrz",
        "colab_type": "code",
        "outputId": "3db4ddd2-5aa5-49db-a5e3-8770cd7d6fab",
        "colab": {
          "base_uri": "https://localhost:8080/",
          "height": 51
        }
      },
      "source": [
        "print(keras.__version__)\n",
        "print(tf.__version__)\n",
        "#print(tensorflow.compat.v2.__version__)"
      ],
      "execution_count": 95,
      "outputs": [
        {
          "output_type": "stream",
          "text": [
            "2.3.0\n",
            "1.15.2\n"
          ],
          "name": "stdout"
        }
      ]
    },
    {
      "cell_type": "code",
      "metadata": {
        "id": "tVJdUlQJUDjY",
        "colab_type": "code",
        "outputId": "328c6051-0cff-4331-bd4b-30bdae4eef59",
        "colab": {
          "base_uri": "https://localhost:8080/",
          "height": 51
        }
      },
      "source": [
        "#Flag to select the small or the large dataset from the git repo\n",
        "large=True;\n",
        "\n",
        "if not large:\n",
        "  #Small Dataset\n",
        "  #Data import from git repo\n",
        "  print(\"Small Dataset Loading\")\n",
        "  url = 'https://raw.githubusercontent.com/sfwtopoulos/stocks/master/stocks_dataset/combined.csv'\n",
        "  #df1 = pd.read_csv(url, error_bad_lines=False)\n",
        "  dfstocks = pd.read_csv(url, sep=',')\n",
        "  dfstocks=dfstocks.rename({' AAPL':'Company', ' Close/Last':'Close', ' Volume':'Volume', ' Open':'Open', ' High':'High', ' Low':'Low'}, axis=1);\n",
        "else:\n",
        "  #Large Dataset\n",
        "  print(\"Large Dataset Loading\")\n",
        "  url = 'https://raw.githubusercontent.com/sfwtopoulos/stocks/master/stocks_dataset/combined_large.zip'\n",
        "  wget.download(url, '.')\n",
        "  # Create a ZipFile Object and load sample.zip in it\n",
        "  with ZipFile('combined_large.zip', 'r') as zipObj:\n",
        "    # Extract all the contents of zip file in current directory\n",
        "    zipObj.extractall()\n",
        "  print(os.listdir(\".\"))\n",
        "  dfstocks = pd.read_csv('combined_large.csv', sep=',') \n",
        "  dfstocks=dfstocks[~dfstocks.Date.str.contains(\"nan\")]\n",
        "  dfstocks=dfstocks[~dfstocks.Date.str.contains(\"Low\")]\n",
        "  dfstocks=dfstocks[~dfstocks.Date.str.contains(\"N/A\")]\n",
        "  dfstocks=dfstocks[~dfstocks.Date.str.contains(\"date\")]\n",
        "  dfstocks.Date=pd.to_datetime(dfstocks.Date)\n",
        "  # dfstocks['Date'] = dfstocks['Date'].dt.strftime('%Y-%m-%d')\n",
        "  dfstocks['Date'] = dfstocks['Date'].dt.strftime('%d-%m-%Y')\n",
        "  dfstocks=dfstocks.rename({' AA':'Company', ' Close/Last':'Close', ' Volume':'Volume', ' Open':'Open', ' High':'High', ' Low':'Low'}, axis=1);"
      ],
      "execution_count": 109,
      "outputs": [
        {
          "output_type": "stream",
          "text": [
            "Large Dataset Loading\n",
            "['.config', 'combined_large.csv', 'combined_large (1).zip', 'sub_split_large.csv', 'gdrive', 'combined_large.zip', 'sample_data']\n"
          ],
          "name": "stdout"
        }
      ]
    },
    {
      "cell_type": "code",
      "metadata": {
        "id": "_sXTibBmBlCP",
        "colab_type": "code",
        "outputId": "a2f1cee7-cdab-484e-a1bc-15e95ae8bdfe",
        "colab": {
          "base_uri": "https://localhost:8080/",
          "height": 153
        }
      },
      "source": [
        "type(dfstocks['Date'])\n",
        "dfstocks.dtypes"
      ],
      "execution_count": 111,
      "outputs": [
        {
          "output_type": "execute_result",
          "data": {
            "text/plain": [
              "Date       object\n",
              "Close      object\n",
              "Volume     object\n",
              "Open       object\n",
              "High       object\n",
              "Low        object\n",
              "Company    object\n",
              "dtype: object"
            ]
          },
          "metadata": {
            "tags": []
          },
          "execution_count": 111
        }
      ]
    },
    {
      "cell_type": "code",
      "metadata": {
        "id": "A_EUqCQSK4eO",
        "colab_type": "code",
        "outputId": "bcd71485-8b3b-4816-a0d4-a8852caf8450",
        "colab": {
          "base_uri": "https://localhost:8080/",
          "height": 136
        }
      },
      "source": [
        "for col in dfstocks.columns: \n",
        "    print(col) "
      ],
      "execution_count": 112,
      "outputs": [
        {
          "output_type": "stream",
          "text": [
            "Date\n",
            "Close\n",
            "Volume\n",
            "Open\n",
            "High\n",
            "Low\n",
            "Company\n"
          ],
          "name": "stdout"
        }
      ]
    },
    {
      "cell_type": "code",
      "metadata": {
        "id": "pulr20aF6Skd",
        "colab_type": "code",
        "outputId": "53bf0f34-72c1-4d8a-8a5b-feb1f6ab7f14",
        "colab": {
          "base_uri": "https://localhost:8080/",
          "height": 419
        }
      },
      "source": [
        "dfstocks"
      ],
      "execution_count": 113,
      "outputs": [
        {
          "output_type": "execute_result",
          "data": {
            "text/html": [
              "<div>\n",
              "<style scoped>\n",
              "    .dataframe tbody tr th:only-of-type {\n",
              "        vertical-align: middle;\n",
              "    }\n",
              "\n",
              "    .dataframe tbody tr th {\n",
              "        vertical-align: top;\n",
              "    }\n",
              "\n",
              "    .dataframe thead th {\n",
              "        text-align: right;\n",
              "    }\n",
              "</style>\n",
              "<table border=\"1\" class=\"dataframe\">\n",
              "  <thead>\n",
              "    <tr style=\"text-align: right;\">\n",
              "      <th></th>\n",
              "      <th>Date</th>\n",
              "      <th>Close</th>\n",
              "      <th>Volume</th>\n",
              "      <th>Open</th>\n",
              "      <th>High</th>\n",
              "      <th>Low</th>\n",
              "      <th>Company</th>\n",
              "    </tr>\n",
              "  </thead>\n",
              "  <tbody>\n",
              "    <tr>\n",
              "      <th>0</th>\n",
              "      <td>11-02-2018</td>\n",
              "      <td>36.93000031</td>\n",
              "      <td>2681700</td>\n",
              "      <td>37</td>\n",
              "      <td>37.68999863</td>\n",
              "      <td>36.40999985</td>\n",
              "      <td>AA</td>\n",
              "    </tr>\n",
              "    <tr>\n",
              "      <th>1</th>\n",
              "      <td>11-01-2018</td>\n",
              "      <td>36.77999878</td>\n",
              "      <td>2756200</td>\n",
              "      <td>35.43999863</td>\n",
              "      <td>36.88000107</td>\n",
              "      <td>35.24000168</td>\n",
              "      <td>AA</td>\n",
              "    </tr>\n",
              "    <tr>\n",
              "      <th>2</th>\n",
              "      <td>31-10-2018</td>\n",
              "      <td>34.99000168</td>\n",
              "      <td>3380700</td>\n",
              "      <td>34.81999969</td>\n",
              "      <td>35.82099915</td>\n",
              "      <td>34.59999847</td>\n",
              "      <td>AA</td>\n",
              "    </tr>\n",
              "    <tr>\n",
              "      <th>3</th>\n",
              "      <td>30-10-2018</td>\n",
              "      <td>34.15000153</td>\n",
              "      <td>2193400</td>\n",
              "      <td>33.65000153</td>\n",
              "      <td>34.47999954</td>\n",
              "      <td>33.4129982</td>\n",
              "      <td>AA</td>\n",
              "    </tr>\n",
              "    <tr>\n",
              "      <th>4</th>\n",
              "      <td>29-10-2018</td>\n",
              "      <td>33.81999969</td>\n",
              "      <td>2219600</td>\n",
              "      <td>34.59999847</td>\n",
              "      <td>35.11999893</td>\n",
              "      <td>33.40000153</td>\n",
              "      <td>AA</td>\n",
              "    </tr>\n",
              "    <tr>\n",
              "      <th>...</th>\n",
              "      <td>...</td>\n",
              "      <td>...</td>\n",
              "      <td>...</td>\n",
              "      <td>...</td>\n",
              "      <td>...</td>\n",
              "      <td>...</td>\n",
              "      <td>...</td>\n",
              "    </tr>\n",
              "    <tr>\n",
              "      <th>304988</th>\n",
              "      <td>05-09-1973</td>\n",
              "      <td>0.469444454</td>\n",
              "      <td>79200</td>\n",
              "      <td>0.469444454</td>\n",
              "      <td>0.48888889</td>\n",
              "      <td>0.469444454</td>\n",
              "      <td>USB</td>\n",
              "    </tr>\n",
              "    <tr>\n",
              "      <th>304989</th>\n",
              "      <td>05-08-1973</td>\n",
              "      <td>0.469444454</td>\n",
              "      <td>90000</td>\n",
              "      <td>0.469444454</td>\n",
              "      <td>0.480555564</td>\n",
              "      <td>0.469444454</td>\n",
              "      <td>USB</td>\n",
              "    </tr>\n",
              "    <tr>\n",
              "      <th>304990</th>\n",
              "      <td>05-07-1973</td>\n",
              "      <td>0.461111099</td>\n",
              "      <td>43200</td>\n",
              "      <td>0.469444454</td>\n",
              "      <td>0.480555564</td>\n",
              "      <td>0.461111099</td>\n",
              "      <td>USB</td>\n",
              "    </tr>\n",
              "    <tr>\n",
              "      <th>304991</th>\n",
              "      <td>05-04-1973</td>\n",
              "      <td>0.469444454</td>\n",
              "      <td>10800</td>\n",
              "      <td>0.469444454</td>\n",
              "      <td>0.480555564</td>\n",
              "      <td>0.469444454</td>\n",
              "      <td>USB</td>\n",
              "    </tr>\n",
              "    <tr>\n",
              "      <th>304992</th>\n",
              "      <td>05-03-1973</td>\n",
              "      <td>0.461111099</td>\n",
              "      <td>7200</td>\n",
              "      <td>0.461111099</td>\n",
              "      <td>0.480555564</td>\n",
              "      <td>0.461111099</td>\n",
              "      <td>USB</td>\n",
              "    </tr>\n",
              "  </tbody>\n",
              "</table>\n",
              "<p>304968 rows × 7 columns</p>\n",
              "</div>"
            ],
            "text/plain": [
              "              Date        Close   Volume  ...         High          Low Company\n",
              "0       11-02-2018  36.93000031  2681700  ...  37.68999863  36.40999985      AA\n",
              "1       11-01-2018  36.77999878  2756200  ...  36.88000107  35.24000168      AA\n",
              "2       31-10-2018  34.99000168  3380700  ...  35.82099915  34.59999847      AA\n",
              "3       30-10-2018  34.15000153  2193400  ...  34.47999954   33.4129982      AA\n",
              "4       29-10-2018  33.81999969  2219600  ...  35.11999893  33.40000153      AA\n",
              "...            ...          ...      ...  ...          ...          ...     ...\n",
              "304988  05-09-1973  0.469444454    79200  ...   0.48888889  0.469444454     USB\n",
              "304989  05-08-1973  0.469444454    90000  ...  0.480555564  0.469444454     USB\n",
              "304990  05-07-1973  0.461111099    43200  ...  0.480555564  0.461111099     USB\n",
              "304991  05-04-1973  0.469444454    10800  ...  0.480555564  0.469444454     USB\n",
              "304992  05-03-1973  0.461111099     7200  ...  0.480555564  0.461111099     USB\n",
              "\n",
              "[304968 rows x 7 columns]"
            ]
          },
          "metadata": {
            "tags": []
          },
          "execution_count": 113
        }
      ]
    },
    {
      "cell_type": "code",
      "metadata": {
        "id": "vlSTPXYHUHSB",
        "colab_type": "code",
        "colab": {}
      },
      "source": [
        "#drop $sign from values\n",
        "dfstocks.Close=dfstocks['Close'].astype(str)\n",
        "dfstocks.Close=dfstocks.Close.apply(lambda x: x.replace('$',''))\n",
        "dfstocks.Open=dfstocks['Open'].astype(str)\n",
        "dfstocks.Open=dfstocks.Open.apply(lambda x: x.replace('$',''))\n",
        "dfstocks.High=dfstocks['High'].astype(str)\n",
        "dfstocks.High=dfstocks.High.apply(lambda x: x.replace('$',''))\n",
        "dfstocks.Low=dfstocks['Low'].astype(str)\n",
        "dfstocks.Low=dfstocks.Low.apply(lambda x: x.replace('$',''))"
      ],
      "execution_count": 0,
      "outputs": []
    },
    {
      "cell_type": "code",
      "metadata": {
        "id": "F4cxCV_YUJGa",
        "colab_type": "code",
        "outputId": "fe8d2f96-4ed3-4210-94da-10219a76b38c",
        "colab": {
          "base_uri": "https://localhost:8080/",
          "height": 34
        }
      },
      "source": [
        "#drop rows containing nan or header from the csv files\n",
        "dfstocks=dfstocks[~dfstocks.Low.str.contains(\"nan\")]\n",
        "dfstocks=dfstocks[~dfstocks.Low.str.contains(\"Low\")]\n",
        "dfstocks=dfstocks[~dfstocks.Low.str.contains(\"N/A\")]\n",
        "dfstocks=dfstocks[~dfstocks.Volume.str.contains(\"N/A\")]\n",
        "dfstocks.reset_index(drop=True, inplace=True)\n",
        "dfstocks.Date.count()"
      ],
      "execution_count": 115,
      "outputs": [
        {
          "output_type": "execute_result",
          "data": {
            "text/plain": [
              "304968"
            ]
          },
          "metadata": {
            "tags": []
          },
          "execution_count": 115
        }
      ]
    },
    {
      "cell_type": "code",
      "metadata": {
        "id": "te4JUA9lUL06",
        "colab_type": "code",
        "outputId": "c6114cce-2cd2-4d87-98f1-3bafe40c62e6",
        "colab": {
          "base_uri": "https://localhost:8080/",
          "height": 419
        }
      },
      "source": [
        "#sort dataframe based on date and Company Name\n",
        "dfstocks = dfstocks.sort_values(['Date', 'Company'])\n",
        "dfstocks.head(100)"
      ],
      "execution_count": 179,
      "outputs": [
        {
          "output_type": "execute_result",
          "data": {
            "text/html": [
              "<div>\n",
              "<style scoped>\n",
              "    .dataframe tbody tr th:only-of-type {\n",
              "        vertical-align: middle;\n",
              "    }\n",
              "\n",
              "    .dataframe tbody tr th {\n",
              "        vertical-align: top;\n",
              "    }\n",
              "\n",
              "    .dataframe thead th {\n",
              "        text-align: right;\n",
              "    }\n",
              "</style>\n",
              "<table border=\"1\" class=\"dataframe\">\n",
              "  <thead>\n",
              "    <tr style=\"text-align: right;\">\n",
              "      <th></th>\n",
              "      <th>Date</th>\n",
              "      <th>Close</th>\n",
              "      <th>Volume</th>\n",
              "      <th>Open</th>\n",
              "      <th>High</th>\n",
              "      <th>Low</th>\n",
              "      <th>Company</th>\n",
              "    </tr>\n",
              "  </thead>\n",
              "  <tbody>\n",
              "    <tr>\n",
              "      <th>12322</th>\n",
              "      <td>1970-01-02</td>\n",
              "      <td>7.140915</td>\n",
              "      <td>22500</td>\n",
              "      <td>7.140915</td>\n",
              "      <td>7.225020</td>\n",
              "      <td>7.140915</td>\n",
              "      <td>AA</td>\n",
              "    </tr>\n",
              "    <tr>\n",
              "      <th>34201</th>\n",
              "      <td>1970-01-02</td>\n",
              "      <td>6.699775</td>\n",
              "      <td>24100</td>\n",
              "      <td>6.699775</td>\n",
              "      <td>6.770052</td>\n",
              "      <td>6.699775</td>\n",
              "      <td>ARNC</td>\n",
              "    </tr>\n",
              "    <tr>\n",
              "      <th>81427</th>\n",
              "      <td>1970-01-02</td>\n",
              "      <td>11.169750</td>\n",
              "      <td>24400</td>\n",
              "      <td>11.099500</td>\n",
              "      <td>11.204875</td>\n",
              "      <td>10.994125</td>\n",
              "      <td>CNP</td>\n",
              "    </tr>\n",
              "    <tr>\n",
              "      <th>93750</th>\n",
              "      <td>1970-01-02</td>\n",
              "      <td>0.683144</td>\n",
              "      <td>1109700</td>\n",
              "      <td>0.688281</td>\n",
              "      <td>0.689565</td>\n",
              "      <td>0.683144</td>\n",
              "      <td>DIS</td>\n",
              "    </tr>\n",
              "    <tr>\n",
              "      <th>141129</th>\n",
              "      <td>1970-01-02</td>\n",
              "      <td>0.798177</td>\n",
              "      <td>2227200</td>\n",
              "      <td>0.807292</td>\n",
              "      <td>0.808594</td>\n",
              "      <td>0.796875</td>\n",
              "      <td>GE</td>\n",
              "    </tr>\n",
              "    <tr>\n",
              "      <th>...</th>\n",
              "      <td>...</td>\n",
              "      <td>...</td>\n",
              "      <td>...</td>\n",
              "      <td>...</td>\n",
              "      <td>...</td>\n",
              "      <td>...</td>\n",
              "      <td>...</td>\n",
              "    </tr>\n",
              "    <tr>\n",
              "      <th>250575</th>\n",
              "      <td>1970-01-13</td>\n",
              "      <td>5.757882</td>\n",
              "      <td>99200</td>\n",
              "      <td>5.757882</td>\n",
              "      <td>5.778594</td>\n",
              "      <td>5.716458</td>\n",
              "      <td>MRO</td>\n",
              "    </tr>\n",
              "    <tr>\n",
              "      <th>12314</th>\n",
              "      <td>1970-01-14</td>\n",
              "      <td>6.808500</td>\n",
              "      <td>57900</td>\n",
              "      <td>6.856560</td>\n",
              "      <td>6.856560</td>\n",
              "      <td>6.808500</td>\n",
              "      <td>AA</td>\n",
              "    </tr>\n",
              "    <tr>\n",
              "      <th>34193</th>\n",
              "      <td>1970-01-14</td>\n",
              "      <td>6.371814</td>\n",
              "      <td>61800</td>\n",
              "      <td>6.442091</td>\n",
              "      <td>6.442091</td>\n",
              "      <td>6.371814</td>\n",
              "      <td>ARNC</td>\n",
              "    </tr>\n",
              "    <tr>\n",
              "      <th>81419</th>\n",
              "      <td>1970-01-14</td>\n",
              "      <td>10.959000</td>\n",
              "      <td>24400</td>\n",
              "      <td>11.099500</td>\n",
              "      <td>11.099500</td>\n",
              "      <td>10.959000</td>\n",
              "      <td>CNP</td>\n",
              "    </tr>\n",
              "    <tr>\n",
              "      <th>93742</th>\n",
              "      <td>1970-01-14</td>\n",
              "      <td>0.782020</td>\n",
              "      <td>7690100</td>\n",
              "      <td>0.749276</td>\n",
              "      <td>0.794861</td>\n",
              "      <td>0.749276</td>\n",
              "      <td>DIS</td>\n",
              "    </tr>\n",
              "  </tbody>\n",
              "</table>\n",
              "<p>100 rows × 7 columns</p>\n",
              "</div>"
            ],
            "text/plain": [
              "             Date      Close   Volume       Open       High        Low Company\n",
              "12322  1970-01-02   7.140915    22500   7.140915   7.225020   7.140915      AA\n",
              "34201  1970-01-02   6.699775    24100   6.699775   6.770052   6.699775    ARNC\n",
              "81427  1970-01-02  11.169750    24400  11.099500  11.204875  10.994125     CNP\n",
              "93750  1970-01-02   0.683144  1109700   0.688281   0.689565   0.683144     DIS\n",
              "141129 1970-01-02   0.798177  2227200   0.807292   0.808594   0.796875      GE\n",
              "...           ...        ...      ...        ...        ...        ...     ...\n",
              "250575 1970-01-13   5.757882    99200   5.757882   5.778594   5.716458     MRO\n",
              "12314  1970-01-14   6.808500    57900   6.856560   6.856560   6.808500      AA\n",
              "34193  1970-01-14   6.371814    61800   6.442091   6.442091   6.371814    ARNC\n",
              "81419  1970-01-14  10.959000    24400  11.099500  11.099500  10.959000     CNP\n",
              "93742  1970-01-14   0.782020  7690100   0.749276   0.794861   0.749276     DIS\n",
              "\n",
              "[100 rows x 7 columns]"
            ]
          },
          "metadata": {
            "tags": []
          },
          "execution_count": 179
        }
      ]
    },
    {
      "cell_type": "code",
      "metadata": {
        "id": "SvGv9U_NHZcv",
        "colab_type": "code",
        "outputId": "150ec548-615c-454c-c5ab-13ee2ce990cc",
        "colab": {
          "base_uri": "https://localhost:8080/",
          "height": 153
        }
      },
      "source": [
        "#Converting Datatypes\n",
        "dfstocks.Date=pd.to_datetime(dfstocks.Date)\n",
        "dfstocks.Close=pd.to_numeric(dfstocks.Close)\n",
        "dfstocks.Volume=pd.to_numeric(dfstocks.Volume)\n",
        "dfstocks.Open=pd.to_numeric(dfstocks.Open)\n",
        "dfstocks.High=pd.to_numeric(dfstocks.High)\n",
        "dfstocks.Low=pd.to_numeric(dfstocks.Low)\n",
        "dfstocks.dtypes"
      ],
      "execution_count": 180,
      "outputs": [
        {
          "output_type": "execute_result",
          "data": {
            "text/plain": [
              "Date       datetime64[ns]\n",
              "Close             float64\n",
              "Volume              int64\n",
              "Open              float64\n",
              "High              float64\n",
              "Low               float64\n",
              "Company            object\n",
              "dtype: object"
            ]
          },
          "metadata": {
            "tags": []
          },
          "execution_count": 180
        }
      ]
    },
    {
      "cell_type": "code",
      "metadata": {
        "id": "tEBOZGfQNR6Y",
        "colab_type": "code",
        "colab": {}
      },
      "source": [
        "#Company Chosen\n",
        "comp=\"ARNC\""
      ],
      "execution_count": 0,
      "outputs": []
    },
    {
      "cell_type": "code",
      "metadata": {
        "id": "rsD9-1pONB6V",
        "colab_type": "code",
        "outputId": "87c76527-fb07-4de5-dfe8-16a6398e451d",
        "colab": {
          "base_uri": "https://localhost:8080/",
          "height": 34
        }
      },
      "source": [
        "#dfstocks[dfstocks['Company'].str.contains(\"AMZN\")]\n",
        "sub_split=dfstocks[dfstocks['Company'].str.contains(comp)]\n",
        "sub_split.isnull().values.any()\n",
        "sub_split.isna().values.any()\n",
        "sub_split = sub_split.sort_values(['Date'])\n",
        "sub_split.reset_index(drop=True, inplace=True)\n",
        "sub_split.shape[0]"
      ],
      "execution_count": 182,
      "outputs": [
        {
          "output_type": "execute_result",
          "data": {
            "text/plain": [
              "12323"
            ]
          },
          "metadata": {
            "tags": []
          },
          "execution_count": 182
        }
      ]
    },
    {
      "cell_type": "code",
      "metadata": {
        "id": "8sOQDo9iM_Fb",
        "colab_type": "code",
        "colab": {}
      },
      "source": [
        "#Run only if you want to have a subset hidden from talos\n",
        "#hidden split for validation\n",
        "hidden_split=sub_split[(sub_split['Date'].dt.year==2018) | (sub_split['Date'].dt.year==2017) | (sub_split['Date'].dt.year==2016)]\n",
        "\n",
        "#drop hidden_split from sub_split \n",
        "sub_split=sub_split[sub_split['Date'].dt.year < 2016]\n",
        "hidden_split"
      ],
      "execution_count": 0,
      "outputs": []
    },
    {
      "cell_type": "code",
      "metadata": {
        "id": "te-gSnYPU0wX",
        "colab_type": "code",
        "outputId": "c764e024-7f7f-451d-e32d-85b5d4d9807f",
        "colab": {
          "base_uri": "https://localhost:8080/",
          "height": 419
        }
      },
      "source": [
        "sub_split"
      ],
      "execution_count": 183,
      "outputs": [
        {
          "output_type": "execute_result",
          "data": {
            "text/html": [
              "<div>\n",
              "<style scoped>\n",
              "    .dataframe tbody tr th:only-of-type {\n",
              "        vertical-align: middle;\n",
              "    }\n",
              "\n",
              "    .dataframe tbody tr th {\n",
              "        vertical-align: top;\n",
              "    }\n",
              "\n",
              "    .dataframe thead th {\n",
              "        text-align: right;\n",
              "    }\n",
              "</style>\n",
              "<table border=\"1\" class=\"dataframe\">\n",
              "  <thead>\n",
              "    <tr style=\"text-align: right;\">\n",
              "      <th></th>\n",
              "      <th>Date</th>\n",
              "      <th>Close</th>\n",
              "      <th>Volume</th>\n",
              "      <th>Open</th>\n",
              "      <th>High</th>\n",
              "      <th>Low</th>\n",
              "      <th>Company</th>\n",
              "    </tr>\n",
              "  </thead>\n",
              "  <tbody>\n",
              "    <tr>\n",
              "      <th>0</th>\n",
              "      <td>1970-01-02</td>\n",
              "      <td>6.699775</td>\n",
              "      <td>24100</td>\n",
              "      <td>6.699775</td>\n",
              "      <td>6.770052</td>\n",
              "      <td>6.699775</td>\n",
              "      <td>ARNC</td>\n",
              "    </tr>\n",
              "    <tr>\n",
              "      <th>1</th>\n",
              "      <td>1970-01-05</td>\n",
              "      <td>6.629498</td>\n",
              "      <td>27700</td>\n",
              "      <td>6.699775</td>\n",
              "      <td>6.746627</td>\n",
              "      <td>6.617785</td>\n",
              "      <td>ARNC</td>\n",
              "    </tr>\n",
              "    <tr>\n",
              "      <th>2</th>\n",
              "      <td>1970-01-06</td>\n",
              "      <td>6.559220</td>\n",
              "      <td>98800</td>\n",
              "      <td>6.629498</td>\n",
              "      <td>6.652924</td>\n",
              "      <td>6.559220</td>\n",
              "      <td>ARNC</td>\n",
              "    </tr>\n",
              "    <tr>\n",
              "      <th>3</th>\n",
              "      <td>1970-01-07</td>\n",
              "      <td>6.524082</td>\n",
              "      <td>78900</td>\n",
              "      <td>6.535795</td>\n",
              "      <td>6.535795</td>\n",
              "      <td>6.512369</td>\n",
              "      <td>ARNC</td>\n",
              "    </tr>\n",
              "    <tr>\n",
              "      <th>4</th>\n",
              "      <td>1970-01-08</td>\n",
              "      <td>6.500656</td>\n",
              "      <td>61800</td>\n",
              "      <td>6.524082</td>\n",
              "      <td>6.559220</td>\n",
              "      <td>6.477230</td>\n",
              "      <td>ARNC</td>\n",
              "    </tr>\n",
              "    <tr>\n",
              "      <th>...</th>\n",
              "      <td>...</td>\n",
              "      <td>...</td>\n",
              "      <td>...</td>\n",
              "      <td>...</td>\n",
              "      <td>...</td>\n",
              "      <td>...</td>\n",
              "      <td>...</td>\n",
              "    </tr>\n",
              "    <tr>\n",
              "      <th>12318</th>\n",
              "      <td>2018-10-29</td>\n",
              "      <td>19.219999</td>\n",
              "      <td>4149800</td>\n",
              "      <td>20.200001</td>\n",
              "      <td>20.200001</td>\n",
              "      <td>18.860001</td>\n",
              "      <td>ARNC</td>\n",
              "    </tr>\n",
              "    <tr>\n",
              "      <th>12319</th>\n",
              "      <td>2018-10-30</td>\n",
              "      <td>19.700001</td>\n",
              "      <td>5620000</td>\n",
              "      <td>19.580000</td>\n",
              "      <td>19.889999</td>\n",
              "      <td>18.889999</td>\n",
              "      <td>ARNC</td>\n",
              "    </tr>\n",
              "    <tr>\n",
              "      <th>12320</th>\n",
              "      <td>2018-10-31</td>\n",
              "      <td>20.330000</td>\n",
              "      <td>8728500</td>\n",
              "      <td>21.049999</td>\n",
              "      <td>21.049999</td>\n",
              "      <td>20.290001</td>\n",
              "      <td>ARNC</td>\n",
              "    </tr>\n",
              "    <tr>\n",
              "      <th>12321</th>\n",
              "      <td>2018-11-01</td>\n",
              "      <td>21.270000</td>\n",
              "      <td>7375300</td>\n",
              "      <td>20.400000</td>\n",
              "      <td>21.400000</td>\n",
              "      <td>20.209999</td>\n",
              "      <td>ARNC</td>\n",
              "    </tr>\n",
              "    <tr>\n",
              "      <th>12322</th>\n",
              "      <td>2018-11-02</td>\n",
              "      <td>21.160000</td>\n",
              "      <td>4187900</td>\n",
              "      <td>21.440001</td>\n",
              "      <td>21.719999</td>\n",
              "      <td>21.000000</td>\n",
              "      <td>ARNC</td>\n",
              "    </tr>\n",
              "  </tbody>\n",
              "</table>\n",
              "<p>12323 rows × 7 columns</p>\n",
              "</div>"
            ],
            "text/plain": [
              "            Date      Close   Volume       Open       High        Low Company\n",
              "0     1970-01-02   6.699775    24100   6.699775   6.770052   6.699775    ARNC\n",
              "1     1970-01-05   6.629498    27700   6.699775   6.746627   6.617785    ARNC\n",
              "2     1970-01-06   6.559220    98800   6.629498   6.652924   6.559220    ARNC\n",
              "3     1970-01-07   6.524082    78900   6.535795   6.535795   6.512369    ARNC\n",
              "4     1970-01-08   6.500656    61800   6.524082   6.559220   6.477230    ARNC\n",
              "...          ...        ...      ...        ...        ...        ...     ...\n",
              "12318 2018-10-29  19.219999  4149800  20.200001  20.200001  18.860001    ARNC\n",
              "12319 2018-10-30  19.700001  5620000  19.580000  19.889999  18.889999    ARNC\n",
              "12320 2018-10-31  20.330000  8728500  21.049999  21.049999  20.290001    ARNC\n",
              "12321 2018-11-01  21.270000  7375300  20.400000  21.400000  20.209999    ARNC\n",
              "12322 2018-11-02  21.160000  4187900  21.440001  21.719999  21.000000    ARNC\n",
              "\n",
              "[12323 rows x 7 columns]"
            ]
          },
          "metadata": {
            "tags": []
          },
          "execution_count": 183
        }
      ]
    },
    {
      "cell_type": "code",
      "metadata": {
        "id": "wjwirxd4VutM",
        "colab_type": "code",
        "colab": {}
      },
      "source": [
        "# prepare training and testing data sets for LSTM based sequence modeling\n",
        "#def dimitris_function(time_series, scaling=True,split_ratio=0.9):\n",
        "def dimitris_function(time_series,split_ratio=0.9):\n",
        "\n",
        "    series1 = pd.Series(time_series[time_series.columns[0]])\n",
        "    series2 = pd.Series(time_series[time_series.columns[1]])\n",
        "    series3 = pd.Series(time_series[time_series.columns[2]])\n",
        "    series4 = pd.Series(time_series[time_series.columns[3]])\n",
        "    series5 = pd.Series(time_series[time_series.columns[4]])\n",
        "\n",
        "    values1 = series1.values\n",
        "    values1 = values1.reshape((len(values1), 1))\n",
        "    values2 = series2.values\n",
        "    values2 = values2.reshape((len(values2), 1))\n",
        "    values3 = series3.values\n",
        "    values3 = values3.reshape((len(values3), 1))\n",
        "    values4 = series4.values\n",
        "    values4 = values4.reshape((len(values4), 1))\n",
        "    values5 = series5.values\n",
        "    values5 = values5.reshape((len(values5), 1))\n",
        "\n",
        "    #scaler2 --> Close Price Scaler\n",
        "    scaler1 = MinMaxScaler(feature_range=(0, 1))\n",
        "    time_series[\"scaled1\"] = scaler1.fit_transform(values1)\n",
        "    scaler2 = MinMaxScaler(feature_range=(0, 1))\n",
        "    time_series[\"scaled2\"]= scaler2.fit_transform(values2)\n",
        "    scaler3 = MinMaxScaler(feature_range=(0, 1))\n",
        "    time_series[\"scaled3\"]= scaler3.fit_transform(values3)\n",
        "    scaler4 = MinMaxScaler(feature_range=(0, 1))\n",
        "    time_series[\"scaled4\"]= scaler4.fit_transform(values4)\n",
        "    scaler5 = MinMaxScaler(feature_range=(0, 1))\n",
        "    time_series[\"scaled5\"]= scaler5.fit_transform(values5)\n",
        "\n",
        "\n",
        "    time_series = time_series[[\"scaled1\",\"scaled2\",\"scaled3\",\"scaled4\",\"scaled5\"]].values\n",
        "\n",
        "        \n",
        "    split_ratio = int(len(time_series) * split_ratio)\n",
        "\n",
        "    train = time_series[0:split_ratio]\n",
        "    test = time_series[split_ratio:len(time_series)-1]\n",
        "    \n",
        "    # return train,test,scaler1,scaler2\n",
        "    return train,test,scaler2\n"
      ],
      "execution_count": 0,
      "outputs": []
    },
    {
      "cell_type": "code",
      "metadata": {
        "id": "OXyOtBUbQGzo",
        "colab_type": "code",
        "outputId": "370eab48-d75a-403e-e41d-e221b589bdb2",
        "colab": {
          "base_uri": "https://localhost:8080/",
          "height": 122
        }
      },
      "source": [
        "#mounting gdrive to save talos results for each run and tensor flow checkpoints\n",
        "from google.colab import drive\n",
        "drive.mount('/content/gdrive')"
      ],
      "execution_count": 22,
      "outputs": [
        {
          "output_type": "stream",
          "text": [
            "Go to this URL in a browser: https://accounts.google.com/o/oauth2/auth?client_id=947318989803-6bn6qk8qdgf4n4g3pfee6491hc0brc4i.apps.googleusercontent.com&redirect_uri=urn%3aietf%3awg%3aoauth%3a2.0%3aoob&response_type=code&scope=email%20https%3a%2f%2fwww.googleapis.com%2fauth%2fdocs.test%20https%3a%2f%2fwww.googleapis.com%2fauth%2fdrive%20https%3a%2f%2fwww.googleapis.com%2fauth%2fdrive.photos.readonly%20https%3a%2f%2fwww.googleapis.com%2fauth%2fpeopleapi.readonly\n",
            "\n",
            "Enter your authorization code:\n",
            "··········\n",
            "Mounted at /content/gdrive\n"
          ],
          "name": "stdout"
        }
      ]
    },
    {
      "cell_type": "code",
      "metadata": {
        "id": "UN6DYJT7TXPb",
        "colab_type": "code",
        "colab": {}
      },
      "source": [
        "#def get_seq_model(hidden_units1=40, hidden_units2=65, hidden_units3=32, drop=0.2,input_shape=(1,1)):\n",
        "def get_seq_model(x_train, y_train, x_val, y_val, params):  \n",
        "\n",
        "    # create and fit the LSTM network\n",
        "    model = Sequential()\n",
        "\n",
        "    print(params)\n",
        "    print(type(params))\n",
        "\n",
        "    # samples*timesteps*features\n",
        "    # https://keras.io/getting-started/sequential-model-guide/\n",
        "    #https://journals.plos.org/plosone/article?id=10.1371/journal.pone.0227222\n",
        "\n",
        "    ######!!!!!#####!!!!!\n",
        "    #(train_x.shape[1],5) where 5 is the number of features is equal to :\n",
        "    #(train_x.shape[1],train_x.shape[2])\n",
        "    model.add(LSTM(\n",
        "                   input_shape=(x_train.shape[1],x_train.shape[2]),\n",
        "                   units = params['hidden_1'],  \n",
        "                   #activation='relu',recurrent_activation='sigmoid',\n",
        "                   return_sequences=True\n",
        "    ))\n",
        "    model.add(Dropout(params['dropout']))\n",
        "    model.add(LSTM(\n",
        "                   units = params['hidden_2'],\n",
        "                   #activation='relu',recurrent_activation='sigmoid',\n",
        "                   return_sequences=True\n",
        "    ))\n",
        "    model.add(Dropout(params['dropout']))   \n",
        "    model.add(LSTM(\n",
        "                   units = params['hidden_3'], \n",
        "                   #activation='relu',recurrent_activation='sigmoid',\n",
        "                   return_sequences=True\n",
        "    ))\n",
        "    model.add(Dropout(params['dropout']))\n",
        "\n",
        "    # readout layer. TimeDistributedDense uses the same weights for all\n",
        "    # time steps.\n",
        "    # model.add(TimeDistributed(Dense(1))) #number of inputs in the 1st layer\n",
        "   # model.add(TimeDistributed(Dense(5)))\n",
        "    model.add(TimeDistributed(Dense(5)))\n",
        "    start = time.time()\n",
        "    \n",
        "    model.compile(loss=\"mse\", optimizer=\"rmsprop\")\n",
        "    timestr = time.strftime(\"%Y%m%d-%H%M%S\")\n",
        "    checkpoint_path = \"/content/gdrive/My Drive/checkpoints1\"  + \"/cp-{epoch:04d}.ckpt\"\n",
        "    checkpoint_dir = os.path.dirname(checkpoint_path)\n",
        "    cp_callback = tf.keras.callbacks.ModelCheckpoint(\n",
        "        checkpoint_path, verbose=1, save_weights_only=True,#save_best_only='TRUE'\n",
        "        # Save weights, every 5-epochs.\n",
        "        period=15)\n",
        "    \n",
        "   # early_stop = keras.callbacks.EarlyStopping(monitor='val_loss', patience=40)\n",
        "    \n",
        "    out = model.fit(x_train, y_train,\n",
        "              epochs=params['epochs'], batch_size=1,\n",
        "              validation_data=[x_val, y_val],\n",
        "              #epochs=200, batch_size=1,\n",
        "              verbose=1,callbacks=[cp_callback])\n",
        "\n",
        "    return out, model"
      ],
      "execution_count": 0,
      "outputs": []
    },
    {
      "cell_type": "code",
      "metadata": {
        "id": "tHb3jTx65xsf",
        "colab_type": "code",
        "outputId": "888e6d34-4816-4093-fb1d-c5bf03548556",
        "colab": {
          "base_uri": "https://localhost:8080/",
          "height": 187
        }
      },
      "source": [
        "ls gdrive/\"My Drive\"/checkpoints1"
      ],
      "execution_count": 24,
      "outputs": [
        {
          "output_type": "stream",
          "text": [
            "checkpoint                        cp-0060.ckpt.data-00000-of-00002\n",
            "cp-0015.ckpt.data-00000-of-00002  cp-0060.ckpt.data-00001-of-00002\n",
            "cp-0015.ckpt.data-00001-of-00002  cp-0060.ckpt.index\n",
            "cp-0015.ckpt.index                cp-0075.ckpt.data-00000-of-00002\n",
            "cp-0030.ckpt.data-00000-of-00002  cp-0075.ckpt.data-00001-of-00002\n",
            "cp-0030.ckpt.data-00001-of-00002  cp-0075.ckpt.index\n",
            "cp-0030.ckpt.index                cp-0090.ckpt.data-00000-of-00002\n",
            "cp-0045.ckpt.data-00000-of-00002  cp-0090.ckpt.data-00001-of-00002\n",
            "cp-0045.ckpt.data-00001-of-00002  cp-0090.ckpt.index\n",
            "cp-0045.ckpt.index\n"
          ],
          "name": "stdout"
        }
      ]
    },
    {
      "cell_type": "code",
      "metadata": {
        "id": "2gbME0KzpaCa",
        "colab_type": "code",
        "colab": {}
      },
      "source": [
        "talos=False;\n",
        "\n",
        "if not talos:\n",
        "  #Chosen final parameters\n",
        "  p = {'hidden_1': 8,\n",
        "     'hidden_2': 16,\n",
        "     'hidden_3': 32,\n",
        "     'dropout': 0.1,\n",
        "     'epochs': 100\n",
        "     }\n",
        "\n",
        "else:\n",
        "  #Parameters for the model optimization in talos\n",
        "  p = {'hidden_1':[8, 16, 32],\n",
        "     'hidden_2':[8, 16, 32],\n",
        "     'hidden_3':[8, 16, 32],\n",
        "     'dropout': [0.1, 0.2],\n",
        "     #'dropout': [0.1],\n",
        "     'epochs': [20, 50, 100]\n",
        "     }"
      ],
      "execution_count": 0,
      "outputs": []
    },
    {
      "cell_type": "code",
      "metadata": {
        "id": "UiL73vb-dFsK",
        "colab_type": "code",
        "colab": {}
      },
      "source": [
        "# print(type(sub_split.Close))\n",
        "sub_split_date=sub_split[['Date']]\n",
        "sub_split=sub_split[['Volume', 'Close', 'Open', 'High', 'Low']]\n",
        "#sub_split.columns[1]"
      ],
      "execution_count": 0,
      "outputs": []
    },
    {
      "cell_type": "code",
      "metadata": {
        "id": "zeAENS4LVpDG",
        "colab_type": "code",
        "outputId": "d59fe6a4-f6b4-4bf5-ae59-f0f0ff4aa362",
        "colab": {
          "base_uri": "https://localhost:8080/",
          "height": 85
        }
      },
      "source": [
        "# split train and test datasets\n",
        "train,test,scaler_Close = dimitris_function(sub_split,split_ratio=0.7)\n",
        "\n",
        "#train\n",
        "print(len(train))\n",
        "print(train.shape[0])\n",
        "print(train.shape)\n",
        "print(test.shape)\n",
        "# print(train)"
      ],
      "execution_count": 188,
      "outputs": [
        {
          "output_type": "stream",
          "text": [
            "8626\n",
            "8626\n",
            "(8626, 5)\n",
            "(3696, 5)\n"
          ],
          "name": "stdout"
        }
      ]
    },
    {
      "cell_type": "code",
      "metadata": {
        "id": "uZG7396CWoy9",
        "colab_type": "code",
        "outputId": "bfb45de3-9ee2-4dae-fc5b-febb99f5fb76",
        "colab": {
          "base_uri": "https://localhost:8080/",
          "height": 102
        }
      },
      "source": [
        "#We use numpy to reshape our time series into 3D tensors.\n",
        "train = np.reshape(train,(train.shape[0],1,5))\n",
        "test = np.reshape(test,(test.shape[0],1,5))\n",
        "\n",
        "train_x = train[:,:,:]\n",
        "train_y = train[:,:,:]\n",
        "\n",
        "test_x = test[:,:,:]\n",
        "test_y = test[:,:,:]\n",
        "\n",
        "print(\"Data Split Complete\")\n",
        "\n",
        "print(\"train_x shape={}\".format(train_x.shape))\n",
        "print(\"train_y shape={}\".format(train_y.shape))\n",
        "print(\"test_x shape={}\".format(test_x.shape))\n",
        "print(\"test_y shape={}\".format(test_y.shape))"
      ],
      "execution_count": 189,
      "outputs": [
        {
          "output_type": "stream",
          "text": [
            "Data Split Complete\n",
            "train_x shape=(8626, 1, 5)\n",
            "train_y shape=(8626, 1, 5)\n",
            "test_x shape=(3696, 1, 5)\n",
            "test_y shape=(3696, 1, 5)\n"
          ],
          "name": "stdout"
        }
      ]
    },
    {
      "cell_type": "code",
      "metadata": {
        "id": "28u6Kogp6yzg",
        "colab_type": "code",
        "outputId": "6a689f62-959a-4f93-bdfd-ae59e4ded1ad",
        "colab": {
          "base_uri": "https://localhost:8080/",
          "height": 1000
        }
      },
      "source": [
        "load_from_checkpoint=False;\n",
        "\n",
        "seq_lstm_model=None\n",
        "if load_from_checkpoint:\n",
        "  #Load the latest checkpoint saved in Drive #'gdrive/My Drive/checkpoints1/cp-0090.ckpt'\n",
        "  latest=tf.train.latest_checkpoint(\"gdrive/My Drive/checkpoints1\")\n",
        "  print(latest)\n",
        "  #Create the model and train for 1 epoch to get the NN stracture\n",
        "  p['epochs']=1\n",
        "  try:\n",
        "    seq_lstm_model=get_seq_model(train_x,train_y,test_x,test_y,p)\n",
        "  except:\n",
        "    print(\"Model Build Failed. Trying Again\")\n",
        "    seq_lstm_model = get_seq_model(train_x,train_y,test_x,test_y,p)\n",
        "  #Load the weight of the checkpoint to the NN \n",
        "  seq_lstm_model[1].load_weights(latest)\n",
        "else:\n",
        "  # build RNN model and run 100 epochs\n",
        "  p['epochs']=100\n",
        "  try:\n",
        "    seq_lstm_model = get_seq_model(train_x,train_y,test_x,test_y,p)\n",
        "  except:\n",
        "    print(\"Model Build Failed. Trying Again\")\n",
        "    seq_lstm_model = get_seq_model(train_x,train_y,test_x,test_y,p)"
      ],
      "execution_count": 202,
      "outputs": [
        {
          "output_type": "stream",
          "text": [
            "{'hidden_1': 8, 'hidden_2': 16, 'hidden_3': 32, 'dropout': 0.1, 'epochs': 100}\n",
            "<class 'dict'>\n",
            "WARNING:tensorflow:`period` argument is deprecated. Please use `save_freq` to specify the frequency in number of samples seen.\n",
            "Train on 8626 samples, validate on 3696 samples\n",
            "Epoch 1/100\n",
            "8626/8626 [==============================] - 75s 9ms/sample - loss: 0.0036 - val_loss: 0.0037\n",
            "Epoch 2/100\n",
            "8626/8626 [==============================] - 65s 7ms/sample - loss: 0.0011 - val_loss: 0.0031\n",
            "Epoch 3/100\n",
            "8626/8626 [==============================] - 61s 7ms/sample - loss: 0.0010 - val_loss: 0.0054\n",
            "Epoch 4/100\n",
            "8626/8626 [==============================] - 62s 7ms/sample - loss: 0.0011 - val_loss: 0.0030\n",
            "Epoch 5/100\n",
            "8626/8626 [==============================] - 63s 7ms/sample - loss: 0.0011 - val_loss: 0.0030\n",
            "Epoch 6/100\n",
            "8626/8626 [==============================] - 63s 7ms/sample - loss: 0.0011 - val_loss: 0.0036\n",
            "Epoch 7/100\n",
            "8626/8626 [==============================] - 70s 8ms/sample - loss: 0.0012 - val_loss: 0.0033\n",
            "Epoch 8/100\n",
            "8626/8626 [==============================] - 69s 8ms/sample - loss: 0.0011 - val_loss: 0.0036\n",
            "Epoch 9/100\n",
            "8626/8626 [==============================] - 73s 8ms/sample - loss: 0.0012 - val_loss: 0.0033\n",
            "Epoch 10/100\n",
            "8626/8626 [==============================] - 68s 8ms/sample - loss: 0.0012 - val_loss: 0.0038\n",
            "Epoch 11/100\n",
            "8626/8626 [==============================] - 63s 7ms/sample - loss: 0.0012 - val_loss: 0.0041\n",
            "Epoch 12/100\n",
            "8626/8626 [==============================] - 65s 8ms/sample - loss: 0.0012 - val_loss: 0.0034\n",
            "Epoch 13/100\n",
            "8626/8626 [==============================] - 62s 7ms/sample - loss: 0.0013 - val_loss: 0.0036\n",
            "Epoch 14/100\n",
            "8626/8626 [==============================] - 58s 7ms/sample - loss: 0.0012 - val_loss: 0.0034\n",
            "Epoch 15/100\n",
            "8625/8626 [============================>.] - ETA: 0s - loss: 0.0013\n",
            "Epoch 00015: saving model to /content/gdrive/My Drive/checkpoints1/cp-0015.ckpt\n",
            "8626/8626 [==============================] - 60s 7ms/sample - loss: 0.0013 - val_loss: 0.0030\n",
            "Epoch 16/100\n",
            "8626/8626 [==============================] - 58s 7ms/sample - loss: 0.0012 - val_loss: 0.0041\n",
            "Epoch 17/100\n",
            "8626/8626 [==============================] - 56s 6ms/sample - loss: 0.0011 - val_loss: 0.0041\n",
            "Epoch 18/100\n",
            "8626/8626 [==============================] - 56s 7ms/sample - loss: 0.0011 - val_loss: 0.0036\n",
            "Epoch 19/100\n",
            "8626/8626 [==============================] - 55s 6ms/sample - loss: 9.7351e-04 - val_loss: 0.0031\n",
            "Epoch 20/100\n",
            "8626/8626 [==============================] - 55s 6ms/sample - loss: 8.7371e-04 - val_loss: 0.0030\n",
            "Epoch 21/100\n",
            "8626/8626 [==============================] - 56s 7ms/sample - loss: 8.0772e-04 - val_loss: 0.0038\n",
            "Epoch 22/100\n",
            "8626/8626 [==============================] - 55s 6ms/sample - loss: 8.0695e-04 - val_loss: 0.0031\n",
            "Epoch 23/100\n",
            "8626/8626 [==============================] - 56s 6ms/sample - loss: 8.2386e-04 - val_loss: 0.0037\n",
            "Epoch 24/100\n",
            "8626/8626 [==============================] - 55s 6ms/sample - loss: 7.9066e-04 - val_loss: 0.0031\n",
            "Epoch 25/100\n",
            "8626/8626 [==============================] - 53s 6ms/sample - loss: 8.0880e-04 - val_loss: 0.0031\n",
            "Epoch 26/100\n",
            "8626/8626 [==============================] - 53s 6ms/sample - loss: 7.8987e-04 - val_loss: 0.0043\n",
            "Epoch 27/100\n",
            "8626/8626 [==============================] - 53s 6ms/sample - loss: 7.5608e-04 - val_loss: 0.0037\n",
            "Epoch 28/100\n",
            "8626/8626 [==============================] - 52s 6ms/sample - loss: 7.5022e-04 - val_loss: 0.0029\n",
            "Epoch 29/100\n",
            "8626/8626 [==============================] - 52s 6ms/sample - loss: 7.5511e-04 - val_loss: 0.0033\n",
            "Epoch 30/100\n",
            "8617/8626 [============================>.] - ETA: 0s - loss: 7.9162e-04\n",
            "Epoch 00030: saving model to /content/gdrive/My Drive/checkpoints1/cp-0030.ckpt\n",
            "8626/8626 [==============================] - 53s 6ms/sample - loss: 7.9125e-04 - val_loss: 0.0038\n",
            "Epoch 31/100\n",
            "8626/8626 [==============================] - 52s 6ms/sample - loss: 7.4604e-04 - val_loss: 0.0035\n",
            "Epoch 32/100\n",
            "8626/8626 [==============================] - 52s 6ms/sample - loss: 7.5004e-04 - val_loss: 0.0028\n",
            "Epoch 33/100\n",
            "8626/8626 [==============================] - 51s 6ms/sample - loss: 7.2104e-04 - val_loss: 0.0028\n",
            "Epoch 34/100\n",
            "8626/8626 [==============================] - 52s 6ms/sample - loss: 7.6659e-04 - val_loss: 0.0032\n",
            "Epoch 35/100\n",
            "8626/8626 [==============================] - 51s 6ms/sample - loss: 7.2951e-04 - val_loss: 0.0032\n",
            "Epoch 36/100\n",
            "8626/8626 [==============================] - 51s 6ms/sample - loss: 7.4011e-04 - val_loss: 0.0028\n",
            "Epoch 37/100\n",
            "8626/8626 [==============================] - 54s 6ms/sample - loss: 7.0802e-04 - val_loss: 0.0034\n",
            "Epoch 38/100\n",
            "8626/8626 [==============================] - 56s 7ms/sample - loss: 7.4360e-04 - val_loss: 0.0028\n",
            "Epoch 39/100\n",
            "8626/8626 [==============================] - 54s 6ms/sample - loss: 7.2208e-04 - val_loss: 0.0027\n",
            "Epoch 40/100\n",
            "8626/8626 [==============================] - 56s 6ms/sample - loss: 7.6618e-04 - val_loss: 0.0032\n",
            "Epoch 41/100\n",
            "8626/8626 [==============================] - 55s 6ms/sample - loss: 7.0706e-04 - val_loss: 0.0030\n",
            "Epoch 42/100\n",
            "8626/8626 [==============================] - 53s 6ms/sample - loss: 7.5581e-04 - val_loss: 0.0039\n",
            "Epoch 43/100\n",
            "8626/8626 [==============================] - 52s 6ms/sample - loss: 7.6066e-04 - val_loss: 0.0038\n",
            "Epoch 44/100\n",
            "8626/8626 [==============================] - 53s 6ms/sample - loss: 7.4826e-04 - val_loss: 0.0037\n",
            "Epoch 45/100\n",
            "8622/8626 [============================>.] - ETA: 0s - loss: 7.4351e-04\n",
            "Epoch 00045: saving model to /content/gdrive/My Drive/checkpoints1/cp-0045.ckpt\n",
            "8626/8626 [==============================] - 53s 6ms/sample - loss: 7.4339e-04 - val_loss: 0.0032\n",
            "Epoch 46/100\n",
            "8626/8626 [==============================] - 53s 6ms/sample - loss: 6.9141e-04 - val_loss: 0.0032\n",
            "Epoch 47/100\n",
            "8626/8626 [==============================] - 53s 6ms/sample - loss: 7.3374e-04 - val_loss: 0.0033\n",
            "Epoch 48/100\n",
            "8626/8626 [==============================] - 54s 6ms/sample - loss: 7.2692e-04 - val_loss: 0.0028\n",
            "Epoch 49/100\n",
            "8626/8626 [==============================] - 53s 6ms/sample - loss: 6.8831e-04 - val_loss: 0.0029\n",
            "Epoch 50/100\n",
            "8626/8626 [==============================] - 53s 6ms/sample - loss: 7.0159e-04 - val_loss: 0.0028\n",
            "Epoch 51/100\n",
            "8626/8626 [==============================] - 52s 6ms/sample - loss: 7.2203e-04 - val_loss: 0.0052\n",
            "Epoch 52/100\n",
            "8626/8626 [==============================] - 52s 6ms/sample - loss: 6.7794e-04 - val_loss: 0.0029\n",
            "Epoch 53/100\n",
            "8626/8626 [==============================] - 52s 6ms/sample - loss: 6.9051e-04 - val_loss: 0.0040\n",
            "Epoch 54/100\n",
            "8626/8626 [==============================] - 52s 6ms/sample - loss: 6.6540e-04 - val_loss: 0.0032\n",
            "Epoch 55/100\n",
            "8626/8626 [==============================] - 52s 6ms/sample - loss: 6.7551e-04 - val_loss: 0.0031\n",
            "Epoch 56/100\n",
            "8626/8626 [==============================] - 52s 6ms/sample - loss: 6.6094e-04 - val_loss: 0.0031\n",
            "Epoch 57/100\n",
            "8626/8626 [==============================] - 54s 6ms/sample - loss: 6.7236e-04 - val_loss: 0.0031\n",
            "Epoch 58/100\n",
            "8626/8626 [==============================] - 54s 6ms/sample - loss: 6.4061e-04 - val_loss: 0.0030\n",
            "Epoch 59/100\n",
            "8626/8626 [==============================] - 53s 6ms/sample - loss: 7.1701e-04 - val_loss: 0.0036\n",
            "Epoch 60/100\n",
            "8619/8626 [============================>.] - ETA: 0s - loss: 6.9364e-04\n",
            "Epoch 00060: saving model to /content/gdrive/My Drive/checkpoints1/cp-0060.ckpt\n",
            "8626/8626 [==============================] - 55s 6ms/sample - loss: 6.9323e-04 - val_loss: 0.0033\n",
            "Epoch 61/100\n",
            "8626/8626 [==============================] - 56s 7ms/sample - loss: 6.5790e-04 - val_loss: 0.0031\n",
            "Epoch 62/100\n",
            "8626/8626 [==============================] - 55s 6ms/sample - loss: 6.9404e-04 - val_loss: 0.0037\n",
            "Epoch 63/100\n",
            "8626/8626 [==============================] - 56s 7ms/sample - loss: 7.0009e-04 - val_loss: 0.0031\n",
            "Epoch 64/100\n",
            "8626/8626 [==============================] - 55s 6ms/sample - loss: 6.8373e-04 - val_loss: 0.0030\n",
            "Epoch 65/100\n",
            "8626/8626 [==============================] - 56s 7ms/sample - loss: 6.7403e-04 - val_loss: 0.0030\n",
            "Epoch 66/100\n",
            "8626/8626 [==============================] - 58s 7ms/sample - loss: 6.9868e-04 - val_loss: 0.0029\n",
            "Epoch 67/100\n",
            "8626/8626 [==============================] - 59s 7ms/sample - loss: 6.4398e-04 - val_loss: 0.0034\n",
            "Epoch 68/100\n",
            "8626/8626 [==============================] - 54s 6ms/sample - loss: 6.7756e-04 - val_loss: 0.0033\n",
            "Epoch 69/100\n",
            "8626/8626 [==============================] - 52s 6ms/sample - loss: 7.0695e-04 - val_loss: 0.0029\n",
            "Epoch 70/100\n",
            "8626/8626 [==============================] - 54s 6ms/sample - loss: 6.8226e-04 - val_loss: 0.0028\n",
            "Epoch 71/100\n",
            "8626/8626 [==============================] - 54s 6ms/sample - loss: 6.5157e-04 - val_loss: 0.0029\n",
            "Epoch 72/100\n",
            "8626/8626 [==============================] - 54s 6ms/sample - loss: 6.6940e-04 - val_loss: 0.0028\n",
            "Epoch 73/100\n",
            "8626/8626 [==============================] - 53s 6ms/sample - loss: 6.9381e-04 - val_loss: 0.0029\n",
            "Epoch 74/100\n",
            "8626/8626 [==============================] - 54s 6ms/sample - loss: 6.6649e-04 - val_loss: 0.0028\n",
            "Epoch 75/100\n",
            "8618/8626 [============================>.] - ETA: 0s - loss: 7.0371e-04\n",
            "Epoch 00075: saving model to /content/gdrive/My Drive/checkpoints1/cp-0075.ckpt\n",
            "8626/8626 [==============================] - 53s 6ms/sample - loss: 7.0414e-04 - val_loss: 0.0028\n",
            "Epoch 76/100\n",
            "8626/8626 [==============================] - 53s 6ms/sample - loss: 7.2152e-04 - val_loss: 0.0029\n",
            "Epoch 77/100\n",
            "8626/8626 [==============================] - 53s 6ms/sample - loss: 7.0354e-04 - val_loss: 0.0037\n",
            "Epoch 78/100\n",
            "8626/8626 [==============================] - 53s 6ms/sample - loss: 7.1266e-04 - val_loss: 0.0029\n",
            "Epoch 79/100\n",
            "8626/8626 [==============================] - 57s 7ms/sample - loss: 6.8328e-04 - val_loss: 0.0036\n",
            "Epoch 80/100\n",
            "8626/8626 [==============================] - 54s 6ms/sample - loss: 6.6027e-04 - val_loss: 0.0029\n",
            "Epoch 81/100\n",
            "8626/8626 [==============================] - 54s 6ms/sample - loss: 6.4149e-04 - val_loss: 0.0028\n",
            "Epoch 82/100\n",
            "8626/8626 [==============================] - 56s 7ms/sample - loss: 6.6959e-04 - val_loss: 0.0028\n",
            "Epoch 83/100\n",
            "8626/8626 [==============================] - 57s 7ms/sample - loss: 6.8672e-04 - val_loss: 0.0030\n",
            "Epoch 84/100\n",
            "8626/8626 [==============================] - 58s 7ms/sample - loss: 6.5400e-04 - val_loss: 0.0027\n",
            "Epoch 85/100\n",
            "8626/8626 [==============================] - 58s 7ms/sample - loss: 6.8357e-04 - val_loss: 0.0027\n",
            "Epoch 86/100\n",
            "8626/8626 [==============================] - 57s 7ms/sample - loss: 6.5147e-04 - val_loss: 0.0029\n",
            "Epoch 87/100\n",
            "8626/8626 [==============================] - 56s 6ms/sample - loss: 6.4057e-04 - val_loss: 0.0026\n",
            "Epoch 88/100\n",
            "8626/8626 [==============================] - 55s 6ms/sample - loss: 6.5904e-04 - val_loss: 0.0027\n",
            "Epoch 89/100\n",
            "8626/8626 [==============================] - 55s 6ms/sample - loss: 6.1989e-04 - val_loss: 0.0028\n",
            "Epoch 90/100\n",
            "8616/8626 [============================>.] - ETA: 0s - loss: 6.6809e-04\n",
            "Epoch 00090: saving model to /content/gdrive/My Drive/checkpoints1/cp-0090.ckpt\n",
            "8626/8626 [==============================] - 56s 6ms/sample - loss: 6.6880e-04 - val_loss: 0.0028\n",
            "Epoch 91/100\n",
            "8626/8626 [==============================] - 55s 6ms/sample - loss: 6.5344e-04 - val_loss: 0.0030\n",
            "Epoch 92/100\n",
            "8626/8626 [==============================] - 55s 6ms/sample - loss: 6.2956e-04 - val_loss: 0.0028\n",
            "Epoch 93/100\n",
            "8626/8626 [==============================] - 56s 7ms/sample - loss: 6.1767e-04 - val_loss: 0.0028\n",
            "Epoch 94/100\n",
            "8626/8626 [==============================] - 56s 7ms/sample - loss: 6.3898e-04 - val_loss: 0.0030\n",
            "Epoch 95/100\n",
            "8626/8626 [==============================] - 54s 6ms/sample - loss: 6.6487e-04 - val_loss: 0.0028\n",
            "Epoch 96/100\n",
            "8626/8626 [==============================] - 53s 6ms/sample - loss: 6.1051e-04 - val_loss: 0.0027\n",
            "Epoch 97/100\n",
            "8626/8626 [==============================] - 53s 6ms/sample - loss: 6.2317e-04 - val_loss: 0.0027\n",
            "Epoch 98/100\n",
            "8626/8626 [==============================] - 54s 6ms/sample - loss: 6.5118e-04 - val_loss: 0.0031\n",
            "Epoch 99/100\n",
            "8626/8626 [==============================] - 54s 6ms/sample - loss: 5.9996e-04 - val_loss: 0.0027\n",
            "Epoch 100/100\n",
            "8626/8626 [==============================] - 54s 6ms/sample - loss: 6.1093e-04 - val_loss: 0.0028\n"
          ],
          "name": "stdout"
        }
      ]
    },
    {
      "cell_type": "code",
      "metadata": {
        "id": "WmcJ3-KC4_k-",
        "colab_type": "code",
        "colab": {}
      },
      "source": [
        "# x=np.concatenate((train_x, test_x), axis=1)\n",
        "# y=np.concatenate((train_y, test_y), axis=1)\n",
        "# print(\"x shape={}\".format(x.shape))\n",
        "# print(\"y shape={}\".format(y.shape))\n",
        "import talos\n"
      ],
      "execution_count": 0,
      "outputs": []
    },
    {
      "cell_type": "code",
      "metadata": {
        "id": "DqTCq2NDTQFL",
        "colab_type": "code",
        "outputId": "df92fb08-12a0-4aee-d875-876329b9020f",
        "colab": {
          "base_uri": "https://localhost:8080/",
          "height": 275
        }
      },
      "source": [
        "%%capture\n",
        "# 100\t0.0005776109765\t0.001970537574\t0.1\t100\t8\t16\t32\n",
        "scan_obj = talos.Scan(x=train_x,\n",
        "                      y=train_y,\n",
        "                      x_val=test_x,\n",
        "                      #x_val=train_x,\n",
        "                      y_val=test_y,\n",
        "                     #y_val=train_y,\n",
        "\n",
        "                      params=p,\n",
        "                      val_split=0.1,\n",
        "                      model=get_seq_model,\n",
        "                      #shuffle=False,\n",
        "                      experiment_name='gdrive/My Drive/test',\n",
        "                      #fraction_limit=0.1\n",
        "                      )\n"
      ],
      "execution_count": 0,
      "outputs": [
        {
          "output_type": "stream",
          "text": [
            "WARNING:tensorflow:From /tensorflow-1.15.2/python3.6/tensorflow_core/python/ops/resource_variable_ops.py:1630: calling BaseResourceVariable.__init__ (from tensorflow.python.ops.resource_variable_ops) with constraint is deprecated and will be removed in a future version.\n",
            "Instructions for updating:\n",
            "If using Keras pass *_constraint arguments to layers.\n",
            "WARNING:tensorflow:`period` argument is deprecated. Please use `save_freq` to specify the frequency in number of samples seen.\n",
            "WARNING:tensorflow:From /tensorflow-1.15.2/python3.6/tensorflow_core/python/ops/math_grad.py:1424: where (from tensorflow.python.ops.array_ops) is deprecated and will be removed in a future version.\n",
            "Instructions for updating:\n",
            "Use tf.where in 2.0, which has the same broadcast rule as np.where\n",
            "WARNING:tensorflow:`period` argument is deprecated. Please use `save_freq` to specify the frequency in number of samples seen.\n",
            "WARNING:tensorflow:`period` argument is deprecated. Please use `save_freq` to specify the frequency in number of samples seen.\n",
            "WARNING:tensorflow:`period` argument is deprecated. Please use `save_freq` to specify the frequency in number of samples seen.\n",
            "WARNING:tensorflow:`period` argument is deprecated. Please use `save_freq` to specify the frequency in number of samples seen.\n",
            "WARNING:tensorflow:`period` argument is deprecated. Please use `save_freq` to specify the frequency in number of samples seen.\n",
            "WARNING:tensorflow:`period` argument is deprecated. Please use `save_freq` to specify the frequency in number of samples seen.\n",
            "WARNING:tensorflow:`period` argument is deprecated. Please use `save_freq` to specify the frequency in number of samples seen.\n"
          ],
          "name": "stdout"
        }
      ]
    },
    {
      "cell_type": "code",
      "metadata": {
        "id": "3maixlgooNbV",
        "colab_type": "code",
        "colab": {}
      },
      "source": [
        "print(\"Finished Talos Scan!!\")"
      ],
      "execution_count": 0,
      "outputs": []
    },
    {
      "cell_type": "code",
      "metadata": {
        "id": "q8JQmBWEzSm3",
        "colab_type": "code",
        "colab": {}
      },
      "source": [
        "scan_obj.data.head()"
      ],
      "execution_count": 0,
      "outputs": []
    },
    {
      "cell_type": "code",
      "metadata": {
        "id": "MdpHk3OJ22QD",
        "colab_type": "code",
        "colab": {}
      },
      "source": [
        "# train_y"
      ],
      "execution_count": 0,
      "outputs": []
    },
    {
      "cell_type": "code",
      "metadata": {
        "id": "FnQs_OC6XsTz",
        "colab_type": "code",
        "colab": {}
      },
      "source": [
        "# train the model\n",
        "#https://medium.com/@rajath95/how-to-save-and-upload-deep-learning-machine-learning-models-in-google-colab-using-google-drive-eb2901937ae\n",
        "# seq_lstm_model[1].fit(train_x, train_y,\n",
        "#                 epochs=2, batch_size=1,\n",
        "#                 #epochs=200, batch_size=1,\n",
        "#                 verbose=1)\n",
        "# print(\"Model Fit Complete\")"
      ],
      "execution_count": 0,
      "outputs": []
    },
    {
      "cell_type": "code",
      "metadata": {
        "id": "g07f1lEGXu_T",
        "colab_type": "code",
        "outputId": "8d0b6d35-3db3-4f92-9888-52f710f34bd4",
        "colab": {
          "base_uri": "https://localhost:8080/",
          "height": 272
        }
      },
      "source": [
        "# train fit performance\n",
        "trainPredict = seq_lstm_model[1].predict(train_x)\n",
        "trainScore = math.sqrt(mean_squared_error(train_y[0], trainPredict[0]))\n",
        "print('Train Score: %.2f RMSE' % (trainScore))\n",
        "\n",
        "# Pad input sequence\n",
        "testPredict = pad_sequences(test_x,maxlen=train_x.shape[1],padding='post',dtype='float64')\n",
        "\n",
        "# forecast values\n",
        "testPredict = seq_lstm_model[1].predict(testPredict)\n",
        "testPredict"
      ],
      "execution_count": 204,
      "outputs": [
        {
          "output_type": "stream",
          "text": [
            "Train Score: 0.01 RMSE\n"
          ],
          "name": "stdout"
        },
        {
          "output_type": "execute_result",
          "data": {
            "text/plain": [
              "array([[[0.01355564, 0.7991394 , 0.78802544, 0.7864336 , 0.79650337]],\n",
              "\n",
              "       [[0.0134998 , 0.78853   , 0.77758664, 0.77598655, 0.7859638 ]],\n",
              "\n",
              "       [[0.01347362, 0.78410995, 0.77323085, 0.77162564, 0.7815736 ]],\n",
              "\n",
              "       ...,\n",
              "\n",
              "       [[0.01065308, 0.17405057, 0.17123502, 0.16980594, 0.17505905]],\n",
              "\n",
              "       [[0.01131861, 0.18446057, 0.18148611, 0.17996466, 0.1855601 ]],\n",
              "\n",
              "       [[0.01135796, 0.1846101 , 0.18162607, 0.18010627, 0.1857118 ]]],\n",
              "      dtype=float32)"
            ]
          },
          "metadata": {
            "tags": []
          },
          "execution_count": 204
        }
      ]
    },
    {
      "cell_type": "code",
      "metadata": {
        "id": "2ssFCbxjhu55",
        "colab_type": "code",
        "colab": {}
      },
      "source": [
        "# print()"
      ],
      "execution_count": 0,
      "outputs": []
    },
    {
      "cell_type": "code",
      "metadata": {
        "id": "URNrqwpl1SbQ",
        "colab_type": "code",
        "colab": {}
      },
      "source": [
        "# trainPredict"
      ],
      "execution_count": 0,
      "outputs": []
    },
    {
      "cell_type": "code",
      "metadata": {
        "id": "XsR5ytjpX2yj",
        "colab_type": "code",
        "colab": {}
      },
      "source": [
        "# # forecast values\n",
        "# testPredict = seq_lstm_model[1].predict(testPredict)\n",
        "# testPredict"
      ],
      "execution_count": 0,
      "outputs": []
    },
    {
      "cell_type": "code",
      "metadata": {
        "id": "KvjYccaoN8hP",
        "colab_type": "code",
        "colab": {}
      },
      "source": [
        "#Drop all other variables except Close Price Output\n",
        "testPredict=np.delete(testPredict, [2,3,4], 2)\n",
        "trainPredict=np.delete(trainPredict, [2,3,4], 2)\n",
        "\n",
        "testPredict=np.delete(testPredict, 0, 2)\n",
        "trainPredict=np.delete(trainPredict, 0, 2)\n",
        "\n",
        "# # inverse transformation of the Close Price\n",
        "trainPredict = scaler_Close.inverse_transform(trainPredict.\\\n",
        "                                        reshape(-1,1))\n",
        "testPredict = scaler_Close.inverse_transform(testPredict.\\\n",
        "                                       reshape(-1,1))"
      ],
      "execution_count": 0,
      "outputs": []
    },
    {
      "cell_type": "code",
      "metadata": {
        "id": "0Oc_n5TARVXV",
        "colab_type": "code",
        "colab": {}
      },
      "source": [
        "# testPredict"
      ],
      "execution_count": 0,
      "outputs": []
    },
    {
      "cell_type": "code",
      "metadata": {
        "id": "EMtIMjJRE18q",
        "colab_type": "code",
        "colab": {}
      },
      "source": [
        "# trainPredict"
      ],
      "execution_count": 0,
      "outputs": []
    },
    {
      "cell_type": "code",
      "metadata": {
        "id": "zA7Aehl4X5ck",
        "colab_type": "code",
        "colab": {}
      },
      "source": [
        "# # # inverse transformation of the Close Price\n",
        "# trainPredict = scaler_Close.inverse_transform(trainPredict.\\\n",
        "#                                         reshape(-1,1))\n",
        "# testPredict = scaler_Close.inverse_transform(testPredict.\\\n",
        "#                                        reshape(-1,1))"
      ],
      "execution_count": 0,
      "outputs": []
    },
    {
      "cell_type": "code",
      "metadata": {
        "id": "x_nZ9samd1Rs",
        "colab_type": "code",
        "colab": {}
      },
      "source": [
        "# trainPredict"
      ],
      "execution_count": 0,
      "outputs": []
    },
    {
      "cell_type": "code",
      "metadata": {
        "id": "NRMR0WkN3XIh",
        "colab_type": "code",
        "outputId": "6c8cae66-6e39-4d80-c88d-efa1b948c2a6",
        "colab": {
          "base_uri": "https://localhost:8080/",
          "height": 914
        }
      },
      "source": [
        "# plot the true and forecasted values\n",
        "split_ratio = len(trainPredict)+1\n",
        "\n",
        "plt.plot(sub_split_date.Date,\n",
        "          sub_split.Close.values,c='black',\n",
        "          alpha=0.9,label='True Data')\n",
        "\n",
        "plt.plot(sub_split_date.Date[1:split_ratio],\n",
        "          trainPredict,label='Training Fit',c='g')\n",
        "\n",
        "# plt.plot(sub_split_date.Date[split_ratio+1:],\n",
        "#           testPredict[:test_x.shape[1]],label='Testing Forecast')\n",
        "\n",
        "plt.plot(sub_split_date.Date[split_ratio:],\n",
        "          testPredict[:test_x.shape[0]],label='Testing Forecast')\n",
        "\n",
        "plt.title('Forecast Plot')\n",
        "plt.legend()\n",
        "#plt.show()\n",
        "plt.rcParams[\"figure.figsize\"] = (40,20)\n",
        "plt.show()"
      ],
      "execution_count": 213,
      "outputs": [
        {
          "output_type": "display_data",
          "data": {
            "image/png": "[encoded data removed]",
            "text/plain": [
              "<Figure size 2880x1440 with 1 Axes>"
            ]
          },
          "metadata": {
            "tags": [],
            "needs_background": "light"
          }
        }
      ]
    }
  ]
}